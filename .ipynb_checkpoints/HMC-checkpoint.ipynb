{
 "cells": [
  {
   "cell_type": "code",
   "execution_count": 1,
   "metadata": {},
   "outputs": [],
   "source": [
    "import torch\n",
    "import torch.nn as nn\n",
    "import matplotlib.pyplot as plt\n",
    "import numpy as np\n",
    "from tqdm import tqdm\n",
    "%matplotlib inline\n",
    "\n",
    "import itertools\n",
    "from kernels import HMC_our, HMC_vanilla\n",
    "from target import GMM_target, GMM_target2\n",
    "from args import get_args"
   ]
  },
  {
   "cell_type": "code",
   "execution_count": 2,
   "metadata": {},
   "outputs": [],
   "source": [
    "args = get_args()"
   ]
  },
  {
   "cell_type": "code",
   "execution_count": 3,
   "metadata": {},
   "outputs": [],
   "source": [
    "target = GMM_target2(args)"
   ]
  },
  {
   "cell_type": "code",
   "execution_count": 4,
   "metadata": {},
   "outputs": [
    {
     "data": {
      "image/png": "[encoded data removed]",
      "text/plain": [
       "<Figure size 432x288 with 1 Axes>"
      ]
     },
     "metadata": {
      "needs_background": "light"
     },
     "output_type": "display_data"
    }
   ],
   "source": [
    "target_samples = target.get_samples(n=1000).cpu().numpy()\n",
    "plt.scatter(target_samples[:, 0], target_samples[:, 1])\n",
    "plt.axis('equal');"
   ]
  },
  {
   "cell_type": "markdown",
   "metadata": {},
   "source": [
    "#### Common setup"
   ]
  },
  {
   "cell_type": "code",
   "execution_count": 5,
   "metadata": {},
   "outputs": [],
   "source": [
    "args.n_steps = 1000 # how many samples to use\n",
    "args.n_warmup = 1000 # num of first samples to refuse\n",
    "\n",
    "args.n_chains = 10 # how many chains to model"
   ]
  },
  {
   "cell_type": "code",
   "execution_count": 6,
   "metadata": {},
   "outputs": [],
   "source": [
    "q_init = args.std_normal.sample((args.n_chains, args.z_dim))\n",
    "p_init = args.std_normal.sample((args.n_chains, args.z_dim))"
   ]
  },
  {
   "cell_type": "markdown",
   "metadata": {},
   "source": [
    "#### Vanilla HMC"
   ]
  },
  {
   "cell_type": "code",
   "execution_count": 7,
   "metadata": {},
   "outputs": [],
   "source": [
    "vanilla_kernel = HMC_vanilla(args)"
   ]
  },
  {
   "cell_type": "code",
   "execution_count": 8,
   "metadata": {},
   "outputs": [
    {
     "name": "stderr",
     "output_type": "stream",
     "text": [
      "  1%|          | 7/1000 [00:00<00:15, 64.44it/s]"
     ]
    },
    {
     "name": "stdout",
     "output_type": "stream",
     "text": [
      "Now we are running warmup!\n"
     ]
    },
    {
     "name": "stderr",
     "output_type": "stream",
     "text": [
      "100%|██████████| 1000/1000 [00:14<00:00, 70.22it/s]\n",
      "  1%|          | 7/1000 [00:00<00:14, 69.45it/s]"
     ]
    },
    {
     "name": "stdout",
     "output_type": "stream",
     "text": [
      "Now we are sampling!\n"
     ]
    },
    {
     "name": "stderr",
     "output_type": "stream",
     "text": [
      "100%|██████████| 1000/1000 [00:14<00:00, 69.80it/s]\n"
     ]
    }
   ],
   "source": [
    "q_new = q_init\n",
    "p_new = p_init\n",
    "\n",
    "print(\"Now we are running warmup!\")\n",
    "iterator = tqdm(range(args.n_warmup))\n",
    "for i in iterator:\n",
    "    q_new, p_new, _, _, a = vanilla_kernel.make_transition(q_old=q_new, p_old=p_new, target_distr=target)\n",
    "iterator.close()\n",
    "    \n",
    "samples_vanilla = torch.empty((args.n_steps, args.n_chains, args.z_dim), device=args.device, dtype=args.torchType)\n",
    "print(\"Now we are sampling!\")\n",
    "\n",
    "iterator = tqdm(range(args.n_steps))\n",
    "for i in iterator:\n",
    "    q_new, p_new, _, _, a = vanilla_kernel.make_transition(q_old=q_new, p_old=p_new, target_distr=target)\n",
    "    samples_vanilla[i] = q_new\n",
    "iterator.close()"
   ]
  },
  {
   "cell_type": "code",
   "execution_count": 9,
   "metadata": {},
   "outputs": [
    {
     "data": {
      "image/png": "[encoded data removed]",
      "text/plain": [
       "<Figure size 432x288 with 1 Axes>"
      ]
     },
     "metadata": {
      "needs_background": "light"
     },
     "output_type": "display_data"
    }
   ],
   "source": [
    "chain_num = 4\n",
    "plt.scatter(samples_vanilla[:, chain_num, 0].cpu(), samples_vanilla[:, chain_num, 1].cpu())\n",
    "plt.axis('equal');"
   ]
  },
  {
   "cell_type": "markdown",
   "metadata": {},
   "source": [
    "#### Ours HMC"
   ]
  },
  {
   "cell_type": "code",
   "execution_count": 10,
   "metadata": {},
   "outputs": [],
   "source": [
    "transitions = nn.ModuleList([HMC_our(kwargs=args).to(args.device) for _ in range(args.K)])\n",
    "our_kernel = nn.ModuleList([HMC_our(kwargs=args).to(args.device) for _ in range(args.K)])\n",
    "\n",
    "mean = nn.Parameter(torch.tensor(0., device=args.device, dtype=args.torchType))\n",
    "log_scale = nn.Parameter(torch.tensor(0., device=args.device, dtype=args.torchType))\n",
    "params = [transitions.parameters(), [mean], [scale]]\n",
    "\n",
    "optimizer = torch.optim.Adam(params=itertools.chain(*params), lr=1e-1)\n",
    "scheduler = torch.optim.lr_scheduler.ReduceLROnPlateau(optimizer, mode='max', patience=100, factor=0.9)"
   ]
  },
  {
   "cell_type": "markdown",
   "metadata": {},
   "source": [
    "##### Training"
   ]
  },
  {
   "cell_type": "code",
   "execution_count": 11,
   "metadata": {},
   "outputs": [
    {
     "name": "stderr",
     "output_type": "stream",
     "text": [
      "  0%|          | 0/5000 [00:00<?, ?it/s]"
     ]
    },
    {
     "name": "stdout",
     "output_type": "stream",
     "text": [
      "On batch number 0 and on k = 1 we have for 0: 0.04 and for +1: 0.96\n",
      "Step size for 0-th transition is 1.0\n",
      "Alpha (ref) for 0-th transition is 0.5\n",
      "On batch number 0 and on k = 2 we have for 0: 0.74 and for +1: 0.26\n",
      "Step size for 1-th transition is 1.0\n",
      "Alpha (ref) for 1-th transition is 0.5\n",
      "On batch number 0 and on k = 3 we have for 0: 0.41 and for +1: 0.59\n",
      "Step size for 2-th transition is 1.0\n",
      "Alpha (ref) for 2-th transition is 0.5\n",
      "On batch number 0 and on k = 4 we have for 0: 0.295 and for +1: 0.705\n",
      "Step size for 3-th transition is 1.0\n",
      "Alpha (ref) for 3-th transition is 0.5\n",
      "On batch number 0 and on k = 5 we have for 0: 0.44 and for +1: 0.56\n",
      "Step size for 4-th transition is 1.0\n",
      "Alpha (ref) for 4-th transition is 0.5\n"
     ]
    },
    {
     "data": {
      "image/png": "[encoded data removed]",
      "text/plain": [
       "<Figure size 432x288 with 1 Axes>"
      ]
     },
     "metadata": {
      "needs_background": "light"
     },
     "output_type": "display_data"
    },
    {
     "name": "stderr",
     "output_type": "stream",
     "text": [
      "  0%|          | 1/5000 [00:00<16:14,  5.13it/s]"
     ]
    },
    {
     "name": "stdout",
     "output_type": "stream",
     "text": [
      "Current lr:  0.1\n",
      "Current prior mean:  0.0\n",
      "Current prior scale:  1.0\n",
      "On batch number 0 ELBO is -15.482719421386719\n",
      "On batch number 0 Best ELBO is -inf\n"
     ]
    },
    {
     "name": "stderr",
     "output_type": "stream",
     "text": [
      "  2%|▏         | 100/5000 [00:10<08:34,  9.53it/s]"
     ]
    },
    {
     "name": "stdout",
     "output_type": "stream",
     "text": [
      "On batch number 100 and on k = 1 we have for 0: 0.54 and for +1: 0.46\n",
      "Step size for 0-th transition is 0.09391118586063385\n",
      "Alpha (ref) for 0-th transition is 0.911777675151825\n",
      "On batch number 100 and on k = 2 we have for 0: 0.445 and for +1: 0.555\n",
      "Step size for 1-th transition is 0.06750261038541794\n",
      "Alpha (ref) for 1-th transition is 0.6498559713363647\n",
      "On batch number 100 and on k = 3 we have for 0: 1.0 and for +1: 0.0\n",
      "Step size for 2-th transition is 3.2105658054351807\n",
      "Alpha (ref) for 2-th transition is 0.4837239384651184\n",
      "On batch number 100 and on k = 4 we have for 0: 1.0 and for +1: 0.0\n",
      "Step size for 3-th transition is 2.617264747619629\n",
      "Alpha (ref) for 3-th transition is 0.6410450339317322\n",
      "On batch number 100 and on k = 5 we have for 0: 0.55 and for +1: 0.45\n",
      "Step size for 4-th transition is 0.08936578780412674\n",
      "Alpha (ref) for 4-th transition is 0.8739815950393677\n"
     ]
    },
    {
     "data": {
      "image/png": "[encoded data removed]",
      "text/plain": [
       "<Figure size 432x288 with 1 Axes>"
      ]
     },
     "metadata": {
      "needs_background": "light"
     },
     "output_type": "display_data"
    },
    {
     "name": "stderr",
     "output_type": "stream",
     "text": [
      "  2%|▏         | 101/5000 [00:10<10:52,  7.51it/s]"
     ]
    },
    {
     "name": "stdout",
     "output_type": "stream",
     "text": [
      "Current lr:  0.1\n",
      "Current prior mean:  0.7866523861885071\n",
      "Current prior scale:  -1.7448184490203857\n",
      "On batch number 100 ELBO is -29.28518295288086\n",
      "On batch number 100 Best ELBO is -8.323516845703125\n"
     ]
    },
    {
     "name": "stderr",
     "output_type": "stream",
     "text": [
      "  4%|▍         | 200/5000 [00:21<07:56, 10.08it/s]"
     ]
    },
    {
     "name": "stdout",
     "output_type": "stream",
     "text": [
      "On batch number 200 and on k = 1 we have for 0: 0.46 and for +1: 0.54\n",
      "Step size for 0-th transition is 0.13761985301971436\n",
      "Alpha (ref) for 0-th transition is 0.9575743675231934\n",
      "On batch number 200 and on k = 2 we have for 0: 0.56 and for +1: 0.44\n",
      "Step size for 1-th transition is 0.06366434693336487\n",
      "Alpha (ref) for 1-th transition is 0.6948867440223694\n",
      "On batch number 200 and on k = 3 we have for 0: 1.0 and for +1: 0.0\n",
      "Step size for 2-th transition is 3.2108263969421387\n",
      "Alpha (ref) for 2-th transition is 0.7600841522216797\n",
      "On batch number 200 and on k = 4 we have for 0: 1.0 and for +1: 0.0\n",
      "Step size for 3-th transition is 3.52480411529541\n",
      "Alpha (ref) for 3-th transition is 0.7663326263427734\n",
      "On batch number 200 and on k = 5 we have for 0: 0.5 and for +1: 0.5\n",
      "Step size for 4-th transition is 0.09520228952169418\n",
      "Alpha (ref) for 4-th transition is 0.9486476182937622\n"
     ]
    },
    {
     "data": {
      "image/png": "[encoded data removed]",
      "text/plain": [
       "<Figure size 432x288 with 1 Axes>"
      ]
     },
     "metadata": {
      "needs_background": "light"
     },
     "output_type": "display_data"
    },
    {
     "name": "stdout",
     "output_type": "stream",
     "text": [
      "Current lr:  0.1\n",
      "Current prior mean:  9.240150451660156\n",
      "Current prior scale:  -7.915349006652832\n",
      "On batch number 200 ELBO is 99.99797821044922\n",
      "On batch number 200 Best ELBO is 108.9062271118164\n"
     ]
    },
    {
     "name": "stderr",
     "output_type": "stream",
     "text": [
      "  6%|▌         | 300/5000 [00:31<08:23,  9.34it/s]"
     ]
    },
    {
     "name": "stdout",
     "output_type": "stream",
     "text": [
      "On batch number 300 and on k = 1 we have for 0: 0.545 and for +1: 0.455\n",
      "Step size for 0-th transition is 0.03177475184202194\n",
      "Alpha (ref) for 0-th transition is 0.9796682000160217\n",
      "On batch number 300 and on k = 2 we have for 0: 0.505 and for +1: 0.495\n",
      "Step size for 1-th transition is 0.06807852536439896\n",
      "Alpha (ref) for 1-th transition is 0.37236958742141724\n",
      "On batch number 300 and on k = 3 we have for 0: 1.0 and for +1: 0.0\n",
      "Step size for 2-th transition is 3.2108263969421387\n",
      "Alpha (ref) for 2-th transition is 0.5106803178787231\n",
      "On batch number 300 and on k = 4 we have for 0: 1.0 and for +1: 0.0\n",
      "Step size for 3-th transition is 3.5450360774993896\n",
      "Alpha (ref) for 3-th transition is 0.4849502742290497\n",
      "On batch number 300 and on k = 5 we have for 0: 0.5 and for +1: 0.5\n",
      "Step size for 4-th transition is 0.039284225553274155\n",
      "Alpha (ref) for 4-th transition is 0.9730973243713379\n"
     ]
    },
    {
     "data": {
      "image/png": "[encoded data removed]",
      "text/plain": [
       "<Figure size 432x288 with 1 Axes>"
      ]
     },
     "metadata": {
      "needs_background": "light"
     },
     "output_type": "display_data"
    },
    {
     "name": "stderr",
     "output_type": "stream",
     "text": [
      "  6%|▌         | 301/5000 [00:31<10:25,  7.51it/s]"
     ]
    },
    {
     "name": "stdout",
     "output_type": "stream",
     "text": [
      "Current lr:  0.1\n",
      "Current prior mean:  23.669294357299805\n",
      "Current prior scale:  -17.309640884399414\n",
      "On batch number 300 ELBO is 343.1557922363281\n",
      "On batch number 300 Best ELBO is 362.1802978515625\n"
     ]
    },
    {
     "name": "stderr",
     "output_type": "stream",
     "text": [
      "  8%|▊         | 392/5000 [00:41<08:09,  9.41it/s]"
     ]
    },
    {
     "ename": "KeyboardInterrupt",
     "evalue": "",
     "output_type": "error",
     "traceback": [
      "\u001b[0;31m---------------------------------------------------------------------------\u001b[0m",
      "\u001b[0;31mKeyboardInterrupt\u001b[0m                         Traceback (most recent call last)",
      "\u001b[0;32m<ipython-input-11-96a6d7583b33>\u001b[0m in \u001b[0;36m<module>\u001b[0;34m\u001b[0m\n\u001b[1;32m     16\u001b[0m \u001b[0miterator\u001b[0m \u001b[0;34m=\u001b[0m \u001b[0mtqdm\u001b[0m\u001b[0;34m(\u001b[0m\u001b[0mrange\u001b[0m\u001b[0;34m(\u001b[0m\u001b[0margs\u001b[0m\u001b[0;34m.\u001b[0m\u001b[0mnum_batches\u001b[0m\u001b[0;34m)\u001b[0m\u001b[0;34m)\u001b[0m\u001b[0;34m\u001b[0m\u001b[0;34m\u001b[0m\u001b[0m\n\u001b[1;32m     17\u001b[0m \u001b[0mcur_tolerance\u001b[0m \u001b[0;34m=\u001b[0m \u001b[0;36m0\u001b[0m\u001b[0;34m\u001b[0m\u001b[0;34m\u001b[0m\u001b[0m\n\u001b[0;32m---> 18\u001b[0;31m \u001b[0;32mfor\u001b[0m \u001b[0mbatch_num\u001b[0m \u001b[0;32min\u001b[0m \u001b[0miterator\u001b[0m\u001b[0;34m:\u001b[0m\u001b[0;34m\u001b[0m\u001b[0;34m\u001b[0m\u001b[0m\n\u001b[0m\u001b[1;32m     19\u001b[0m     \u001b[0mplt\u001b[0m\u001b[0;34m.\u001b[0m\u001b[0mclose\u001b[0m\u001b[0;34m(\u001b[0m\u001b[0;34m)\u001b[0m\u001b[0;34m\u001b[0m\u001b[0;34m\u001b[0m\u001b[0m\n\u001b[1;32m     20\u001b[0m     \u001b[0;32mif\u001b[0m \u001b[0margs\u001b[0m\u001b[0;34m.\u001b[0m\u001b[0mstep_conditioning\u001b[0m \u001b[0;34m==\u001b[0m \u001b[0;34m'free'\u001b[0m\u001b[0;34m:\u001b[0m\u001b[0;34m\u001b[0m\u001b[0;34m\u001b[0m\u001b[0m\n",
      "\u001b[0;32m~/anaconda3/envs/condatorch/lib/python3.7/site-packages/tqdm/std.py\u001b[0m in \u001b[0;36m__iter__\u001b[0;34m(self)\u001b[0m\n\u001b[1;32m   1099\u001b[0m                     \u001b[0mself\u001b[0m\u001b[0;34m.\u001b[0m\u001b[0mn\u001b[0m \u001b[0;34m=\u001b[0m \u001b[0mn\u001b[0m\u001b[0;34m\u001b[0m\u001b[0;34m\u001b[0m\u001b[0m\n\u001b[1;32m   1100\u001b[0m                     \u001b[0;32mwith\u001b[0m \u001b[0mself\u001b[0m\u001b[0;34m.\u001b[0m\u001b[0m_lock\u001b[0m\u001b[0;34m:\u001b[0m\u001b[0;34m\u001b[0m\u001b[0;34m\u001b[0m\u001b[0m\n\u001b[0;32m-> 1101\u001b[0;31m                         \u001b[0mself\u001b[0m\u001b[0;34m.\u001b[0m\u001b[0mdisplay\u001b[0m\u001b[0;34m(\u001b[0m\u001b[0;34m)\u001b[0m\u001b[0;34m\u001b[0m\u001b[0;34m\u001b[0m\u001b[0m\n\u001b[0m\u001b[1;32m   1102\u001b[0m \u001b[0;34m\u001b[0m\u001b[0m\n\u001b[1;32m   1103\u001b[0m                     \u001b[0;31m# If no `miniters` was specified, adjust automatically\u001b[0m\u001b[0;34m\u001b[0m\u001b[0;34m\u001b[0m\u001b[0;34m\u001b[0m\u001b[0m\n",
      "\u001b[0;32m~/anaconda3/envs/condatorch/lib/python3.7/site-packages/tqdm/std.py\u001b[0m in \u001b[0;36mdisplay\u001b[0;34m(self, msg, pos)\u001b[0m\n\u001b[1;32m   1395\u001b[0m         \u001b[0;32mif\u001b[0m \u001b[0mpos\u001b[0m\u001b[0;34m:\u001b[0m\u001b[0;34m\u001b[0m\u001b[0;34m\u001b[0m\u001b[0m\n\u001b[1;32m   1396\u001b[0m             \u001b[0mself\u001b[0m\u001b[0;34m.\u001b[0m\u001b[0mmoveto\u001b[0m\u001b[0;34m(\u001b[0m\u001b[0mpos\u001b[0m\u001b[0;34m)\u001b[0m\u001b[0;34m\u001b[0m\u001b[0;34m\u001b[0m\u001b[0m\n\u001b[0;32m-> 1397\u001b[0;31m         \u001b[0mself\u001b[0m\u001b[0;34m.\u001b[0m\u001b[0msp\u001b[0m\u001b[0;34m(\u001b[0m\u001b[0mself\u001b[0m\u001b[0;34m.\u001b[0m\u001b[0m__repr__\u001b[0m\u001b[0;34m(\u001b[0m\u001b[0;34m)\u001b[0m \u001b[0;32mif\u001b[0m \u001b[0mmsg\u001b[0m \u001b[0;32mis\u001b[0m \u001b[0;32mNone\u001b[0m \u001b[0;32melse\u001b[0m \u001b[0mmsg\u001b[0m\u001b[0;34m)\u001b[0m\u001b[0;34m\u001b[0m\u001b[0;34m\u001b[0m\u001b[0m\n\u001b[0m\u001b[1;32m   1398\u001b[0m         \u001b[0;32mif\u001b[0m \u001b[0mpos\u001b[0m\u001b[0;34m:\u001b[0m\u001b[0;34m\u001b[0m\u001b[0;34m\u001b[0m\u001b[0m\n\u001b[1;32m   1399\u001b[0m             \u001b[0mself\u001b[0m\u001b[0;34m.\u001b[0m\u001b[0mmoveto\u001b[0m\u001b[0;34m(\u001b[0m\u001b[0;34m-\u001b[0m\u001b[0mpos\u001b[0m\u001b[0;34m)\u001b[0m\u001b[0;34m\u001b[0m\u001b[0;34m\u001b[0m\u001b[0m\n",
      "\u001b[0;32m~/anaconda3/envs/condatorch/lib/python3.7/site-packages/tqdm/std.py\u001b[0m in \u001b[0;36mprint_status\u001b[0;34m(s)\u001b[0m\n\u001b[1;32m    302\u001b[0m         \u001b[0;32mdef\u001b[0m \u001b[0mprint_status\u001b[0m\u001b[0;34m(\u001b[0m\u001b[0ms\u001b[0m\u001b[0;34m)\u001b[0m\u001b[0;34m:\u001b[0m\u001b[0;34m\u001b[0m\u001b[0;34m\u001b[0m\u001b[0m\n\u001b[1;32m    303\u001b[0m             \u001b[0mlen_s\u001b[0m \u001b[0;34m=\u001b[0m \u001b[0mlen\u001b[0m\u001b[0;34m(\u001b[0m\u001b[0ms\u001b[0m\u001b[0;34m)\u001b[0m\u001b[0;34m\u001b[0m\u001b[0;34m\u001b[0m\u001b[0m\n\u001b[0;32m--> 304\u001b[0;31m             \u001b[0mfp_write\u001b[0m\u001b[0;34m(\u001b[0m\u001b[0;34m'\\r'\u001b[0m \u001b[0;34m+\u001b[0m \u001b[0ms\u001b[0m \u001b[0;34m+\u001b[0m \u001b[0;34m(\u001b[0m\u001b[0;34m' '\u001b[0m \u001b[0;34m*\u001b[0m \u001b[0mmax\u001b[0m\u001b[0;34m(\u001b[0m\u001b[0mlast_len\u001b[0m\u001b[0;34m[\u001b[0m\u001b[0;36m0\u001b[0m\u001b[0;34m]\u001b[0m \u001b[0;34m-\u001b[0m \u001b[0mlen_s\u001b[0m\u001b[0;34m,\u001b[0m \u001b[0;36m0\u001b[0m\u001b[0;34m)\u001b[0m\u001b[0;34m)\u001b[0m\u001b[0;34m)\u001b[0m\u001b[0;34m\u001b[0m\u001b[0;34m\u001b[0m\u001b[0m\n\u001b[0m\u001b[1;32m    305\u001b[0m             \u001b[0mlast_len\u001b[0m\u001b[0;34m[\u001b[0m\u001b[0;36m0\u001b[0m\u001b[0;34m]\u001b[0m \u001b[0;34m=\u001b[0m \u001b[0mlen_s\u001b[0m\u001b[0;34m\u001b[0m\u001b[0;34m\u001b[0m\u001b[0m\n\u001b[1;32m    306\u001b[0m \u001b[0;34m\u001b[0m\u001b[0m\n",
      "\u001b[0;32m~/anaconda3/envs/condatorch/lib/python3.7/site-packages/tqdm/std.py\u001b[0m in \u001b[0;36mfp_write\u001b[0;34m(s)\u001b[0m\n\u001b[1;32m    296\u001b[0m         \u001b[0;32mdef\u001b[0m \u001b[0mfp_write\u001b[0m\u001b[0;34m(\u001b[0m\u001b[0ms\u001b[0m\u001b[0;34m)\u001b[0m\u001b[0;34m:\u001b[0m\u001b[0;34m\u001b[0m\u001b[0;34m\u001b[0m\u001b[0m\n\u001b[1;32m    297\u001b[0m             \u001b[0mfp\u001b[0m\u001b[0;34m.\u001b[0m\u001b[0mwrite\u001b[0m\u001b[0;34m(\u001b[0m\u001b[0m_unicode\u001b[0m\u001b[0;34m(\u001b[0m\u001b[0ms\u001b[0m\u001b[0;34m)\u001b[0m\u001b[0;34m)\u001b[0m\u001b[0;34m\u001b[0m\u001b[0;34m\u001b[0m\u001b[0m\n\u001b[0;32m--> 298\u001b[0;31m             \u001b[0mfp_flush\u001b[0m\u001b[0;34m(\u001b[0m\u001b[0;34m)\u001b[0m\u001b[0;34m\u001b[0m\u001b[0;34m\u001b[0m\u001b[0m\n\u001b[0m\u001b[1;32m    299\u001b[0m \u001b[0;34m\u001b[0m\u001b[0m\n\u001b[1;32m    300\u001b[0m         \u001b[0mlast_len\u001b[0m \u001b[0;34m=\u001b[0m \u001b[0;34m[\u001b[0m\u001b[0;36m0\u001b[0m\u001b[0;34m]\u001b[0m\u001b[0;34m\u001b[0m\u001b[0;34m\u001b[0m\u001b[0m\n",
      "\u001b[0;32m~/anaconda3/envs/condatorch/lib/python3.7/site-packages/ipykernel/iostream.py\u001b[0m in \u001b[0;36mflush\u001b[0;34m(self)\u001b[0m\n\u001b[1;32m    347\u001b[0m                 \u001b[0mself\u001b[0m\u001b[0;34m.\u001b[0m\u001b[0mpub_thread\u001b[0m\u001b[0;34m.\u001b[0m\u001b[0mschedule\u001b[0m\u001b[0;34m(\u001b[0m\u001b[0mevt\u001b[0m\u001b[0;34m.\u001b[0m\u001b[0mset\u001b[0m\u001b[0;34m)\u001b[0m\u001b[0;34m\u001b[0m\u001b[0;34m\u001b[0m\u001b[0m\n\u001b[1;32m    348\u001b[0m                 \u001b[0;31m# and give a timeout to avoid\u001b[0m\u001b[0;34m\u001b[0m\u001b[0;34m\u001b[0m\u001b[0;34m\u001b[0m\u001b[0m\n\u001b[0;32m--> 349\u001b[0;31m                 \u001b[0;32mif\u001b[0m \u001b[0;32mnot\u001b[0m \u001b[0mevt\u001b[0m\u001b[0;34m.\u001b[0m\u001b[0mwait\u001b[0m\u001b[0;34m(\u001b[0m\u001b[0mself\u001b[0m\u001b[0;34m.\u001b[0m\u001b[0mflush_timeout\u001b[0m\u001b[0;34m)\u001b[0m\u001b[0;34m:\u001b[0m\u001b[0;34m\u001b[0m\u001b[0;34m\u001b[0m\u001b[0m\n\u001b[0m\u001b[1;32m    350\u001b[0m                     \u001b[0;31m# write directly to __stderr__ instead of warning because\u001b[0m\u001b[0;34m\u001b[0m\u001b[0;34m\u001b[0m\u001b[0;34m\u001b[0m\u001b[0m\n\u001b[1;32m    351\u001b[0m                     \u001b[0;31m# if this is happening sys.stderr may be the problem.\u001b[0m\u001b[0;34m\u001b[0m\u001b[0;34m\u001b[0m\u001b[0;34m\u001b[0m\u001b[0m\n",
      "\u001b[0;32m~/anaconda3/envs/condatorch/lib/python3.7/threading.py\u001b[0m in \u001b[0;36mwait\u001b[0;34m(self, timeout)\u001b[0m\n\u001b[1;32m    550\u001b[0m             \u001b[0msignaled\u001b[0m \u001b[0;34m=\u001b[0m \u001b[0mself\u001b[0m\u001b[0;34m.\u001b[0m\u001b[0m_flag\u001b[0m\u001b[0;34m\u001b[0m\u001b[0;34m\u001b[0m\u001b[0m\n\u001b[1;32m    551\u001b[0m             \u001b[0;32mif\u001b[0m \u001b[0;32mnot\u001b[0m \u001b[0msignaled\u001b[0m\u001b[0;34m:\u001b[0m\u001b[0;34m\u001b[0m\u001b[0;34m\u001b[0m\u001b[0m\n\u001b[0;32m--> 552\u001b[0;31m                 \u001b[0msignaled\u001b[0m \u001b[0;34m=\u001b[0m \u001b[0mself\u001b[0m\u001b[0;34m.\u001b[0m\u001b[0m_cond\u001b[0m\u001b[0;34m.\u001b[0m\u001b[0mwait\u001b[0m\u001b[0;34m(\u001b[0m\u001b[0mtimeout\u001b[0m\u001b[0;34m)\u001b[0m\u001b[0;34m\u001b[0m\u001b[0;34m\u001b[0m\u001b[0m\n\u001b[0m\u001b[1;32m    553\u001b[0m             \u001b[0;32mreturn\u001b[0m \u001b[0msignaled\u001b[0m\u001b[0;34m\u001b[0m\u001b[0;34m\u001b[0m\u001b[0m\n\u001b[1;32m    554\u001b[0m \u001b[0;34m\u001b[0m\u001b[0m\n",
      "\u001b[0;32m~/anaconda3/envs/condatorch/lib/python3.7/threading.py\u001b[0m in \u001b[0;36mwait\u001b[0;34m(self, timeout)\u001b[0m\n\u001b[1;32m    298\u001b[0m             \u001b[0;32melse\u001b[0m\u001b[0;34m:\u001b[0m\u001b[0;34m\u001b[0m\u001b[0;34m\u001b[0m\u001b[0m\n\u001b[1;32m    299\u001b[0m                 \u001b[0;32mif\u001b[0m \u001b[0mtimeout\u001b[0m \u001b[0;34m>\u001b[0m \u001b[0;36m0\u001b[0m\u001b[0;34m:\u001b[0m\u001b[0;34m\u001b[0m\u001b[0;34m\u001b[0m\u001b[0m\n\u001b[0;32m--> 300\u001b[0;31m                     \u001b[0mgotit\u001b[0m \u001b[0;34m=\u001b[0m \u001b[0mwaiter\u001b[0m\u001b[0;34m.\u001b[0m\u001b[0macquire\u001b[0m\u001b[0;34m(\u001b[0m\u001b[0;32mTrue\u001b[0m\u001b[0;34m,\u001b[0m \u001b[0mtimeout\u001b[0m\u001b[0;34m)\u001b[0m\u001b[0;34m\u001b[0m\u001b[0;34m\u001b[0m\u001b[0m\n\u001b[0m\u001b[1;32m    301\u001b[0m                 \u001b[0;32melse\u001b[0m\u001b[0;34m:\u001b[0m\u001b[0;34m\u001b[0m\u001b[0;34m\u001b[0m\u001b[0m\n\u001b[1;32m    302\u001b[0m                     \u001b[0mgotit\u001b[0m \u001b[0;34m=\u001b[0m \u001b[0mwaiter\u001b[0m\u001b[0;34m.\u001b[0m\u001b[0macquire\u001b[0m\u001b[0;34m(\u001b[0m\u001b[0;32mFalse\u001b[0m\u001b[0;34m)\u001b[0m\u001b[0;34m\u001b[0m\u001b[0;34m\u001b[0m\u001b[0m\n",
      "\u001b[0;31mKeyboardInterrupt\u001b[0m: "
     ]
    }
   ],
   "source": [
    "print_info_ = 100\n",
    "torch_log_2 = torch.tensor(np.log(2.), device=args.device, dtype=args.torchType)\n",
    "best_elbo = -float(\"inf\")\n",
    "\n",
    "def compute_loss(q_new, p_new, q_old, p_old, sum_log_alpha, sum_log_jac):\n",
    "    log_p = target.get_logdensity(z=q_new) + args.std_normal.log_prob(p_new).sum(1)\n",
    "    log_r = -args.K * torch_log_2\n",
    "    log_m = args.std_normal.log_prob(q_old).sum(1) + args.std_normal.log_prob(p_old).sum(1) - sum_log_jacobian + sum_log_alpha\n",
    "    elbo_full = log_p + log_r - log_m\n",
    "    grad_elbo = torch.mean(elbo_full + elbo_full.detach() * sum_log_alpha)\n",
    "    return elbo_full.detach().mean().item(), grad_elbo\n",
    "\n",
    "if args.step_conditioning == 'fixed':\n",
    "    cond_vectors = [args.std_normal.sample((args.z_dim, )) for k in range(args.K)]\n",
    "\n",
    "iterator = tqdm(range(args.num_batches))\n",
    "cur_tolerance = 0\n",
    "for batch_num in iterator:\n",
    "    plt.close()\n",
    "    if args.step_conditioning == 'free':\n",
    "        cond_vectors = [args.std_normal.sample((args.z_dim, )) for k in range(args.K)]\n",
    "        \n",
    "    # sample initial q and p\n",
    "    q_old = args.std_normal.sample((args.train_batch_size, args.z_dim)).requires_grad_(True) * torch.exp(log_scale) + mean\n",
    "    p_old = args.std_normal.sample((args.train_batch_size, args.z_dim))\n",
    "    \n",
    "    # prepare tensors for auxilary stuff\n",
    "    sum_log_alpha = torch.zeros(q_old.shape[0], dtype=args.torchType, device=args.device) # for grad log alpha accumulation\n",
    "    sum_log_jacobian = torch.zeros(q_old.shape[0], dtype=args.torchType, device=args.device) # for log_jacobian accumulation\n",
    "    \n",
    "    q = q_old\n",
    "    p = p_old\n",
    "    # run training cycle\n",
    "    for k in range(args.K):\n",
    "        q, p, log_jac, current_log_alphas, directions = transitions[k].make_transition(q_old=q,\n",
    "                                                    p_old=p, k=cond_vectors[k], target_distr=target) # sample a_i -- directions\n",
    "        if (batch_num ) % print_info_ == 0:\n",
    "            print('On batch number {} and on k = {} we have for 0: {} and for +1: {}'.format(batch_num, k + 1,\n",
    "                                                        (directions==0.).to(float).mean(), (directions==1.).to(float).mean()))\n",
    "            print('Step size for {}-th transition is {}'.format(k, transitions[k].gamma.detach().exp()))\n",
    "            print('Alpha (ref) for {}-th transition is {}'.format(k, torch.sigmoid(transitions[k].alpha_logit.detach())))\n",
    "        sum_log_alpha += current_log_alphas\n",
    "        sum_log_jacobian += log_jac\n",
    "        \n",
    "    elbo_full, grad_elbo = compute_loss(q_new=q, p_new=p, q_old=q_old, p_old=p_old, sum_log_jac=sum_log_jacobian,\n",
    "                                            sum_log_alpha=sum_log_alpha)\n",
    "    if (batch_num ) % print_info_ == 0:\n",
    "        plt.scatter(q.cpu().detach()[:, 0], q.cpu().detach()[:, 1])\n",
    "        plt.show();\n",
    "        for param_group in optimizer.param_groups:\n",
    "            current_lr = param_group['lr']\n",
    "        print('Current lr: ', current_lr)\n",
    "        print('Current prior mean: ', mean.cpu().detach().item())\n",
    "        print('Current prior scale: ', scale.cpu().detach().item())\n",
    "        print('On batch number {} ELBO is {}'.format(batch_num, elbo_full))\n",
    "        print('On batch number {} Best ELBO is {}'.format(batch_num, best_elbo))\n",
    "    (-grad_elbo).backward()\n",
    "    optimizer.step()\n",
    "    optimizer.zero_grad()\n",
    "    scheduler.step(elbo_full)\n",
    "\n",
    "    if np.isnan(elbo_full):\n",
    "        print('NAN appeared!')\n",
    "        raise ValueError\n",
    "\n",
    "    if elbo_full > best_elbo:\n",
    "        best_elbo = elbo_full\n",
    "        our_kernel.load_state_dict(transitions.state_dict())\n",
    "        cur_tolerance = 0\n",
    "    else:\n",
    "        cur_tolerance += 1\n",
    "        if cur_tolerance >= args.early_stopping_tolerance:\n",
    "            print('Early stopping on {}'.format(batch_num))\n",
    "            iterator.close()\n",
    "            break"
   ]
  },
  {
   "cell_type": "code",
   "execution_count": null,
   "metadata": {},
   "outputs": [],
   "source": [
    "for p in our_kernel.parameters():\n",
    "    p.requires_grad_(False)"
   ]
  },
  {
   "cell_type": "code",
   "execution_count": null,
   "metadata": {},
   "outputs": [],
   "source": [
    "# args.n_steps = args.K # how many samples to use\n",
    "# args.n_warmup = 0 # num of first samples to refuse\n",
    "\n",
    "# args.n_chains = 1000 # how many chains to model\n",
    "\n",
    "# q_init = args.std_normal.sample((args.n_chains, args.z_dim))\n",
    "# p_init = args.std_normal.sample((args.n_chains, args.z_dim))"
   ]
  },
  {
   "cell_type": "code",
   "execution_count": null,
   "metadata": {},
   "outputs": [],
   "source": [
    "q_new = q_init\n",
    "p_new = p_init\n",
    "\n",
    "print(\"Now we are running warmup!\")\n",
    "iterator = tqdm(range(args.n_warmup))\n",
    "for i in iterator:\n",
    "    q_new = q_new.detach().requires_grad_(True)\n",
    "    p_new = p_new.detach().requires_grad_(True)\n",
    "    if args.step_conditioning == 'free':\n",
    "        cond_vectors = [args.std_normal.sample((args.z_dim, )) for k in range(args.K)]\n",
    "    q_new, p_new, _, _, _ = our_kernel[i % args.K].make_transition(q_old=q_new, p_old=p_new, target_distr=target,\n",
    "                                                                   k=cond_vectors[i % args.K])\n",
    "iterator.close()\n",
    "    \n",
    "samples_our = torch.empty((args.n_steps, args.n_chains, args.z_dim), device=args.device, dtype=args.torchType)\n",
    "print(\"Now we are sampling!\")\n",
    "\n",
    "iterator = tqdm(range(args.n_steps))\n",
    "for i in iterator:\n",
    "    q_new = q_new.detach().requires_grad_(True)\n",
    "    p_new = p_new.detach().requires_grad_(True)\n",
    "    if args.step_conditioning == 'free':\n",
    "        cond_vectors = [args.std_normal.sample((args.z_dim, )) for k in range(args.K)]\n",
    "    q_new, p_new, _, _, a = our_kernel[i % args.K].make_transition(q_old=q_new, p_old=p_new, target_distr=target,\n",
    "                                                                   k=cond_vectors[i % args.K])\n",
    "    \n",
    "    samples_our[i] = q_new.detach()\n",
    "iterator.close()"
   ]
  },
  {
   "cell_type": "code",
   "execution_count": null,
   "metadata": {},
   "outputs": [],
   "source": [
    "chain_num = 0\n",
    "plt.scatter(samples_our[:, chain_num, 0].cpu(), samples_our[:, chain_num, 1].cpu())\n",
    "plt.axis('equal');"
   ]
  },
  {
   "cell_type": "code",
   "execution_count": null,
   "metadata": {},
   "outputs": [],
   "source": []
  }
 ],
 "metadata": {
  "kernelspec": {
   "display_name": "Condatorch",
   "language": "python",
   "name": "condatorch"
  },
  "language_info": {
   "codemirror_mode": {
    "name": "ipython",
    "version": 3
   },
   "file_extension": ".py",
   "mimetype": "text/x-python",
   "name": "python",
   "nbconvert_exporter": "python",
   "pygments_lexer": "ipython3",
   "version": "3.7.6"
  }
 },
 "nbformat": 4,
 "nbformat_minor": 4
}
