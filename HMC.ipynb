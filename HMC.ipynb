{
 "cells": [
  {
   "cell_type": "code",
   "execution_count": 1,
   "metadata": {},
   "outputs": [],
   "source": [
    "import torch\n",
    "import torch.nn as nn\n",
    "import matplotlib.pyplot as plt\n",
    "import numpy as np\n",
    "from tqdm import tqdm\n",
    "%matplotlib inline\n",
    "\n",
    "import itertools\n",
    "from kernels import HMC_our, HMC_vanilla\n",
    "from target import GMM_target, GMM_target2\n",
    "from args import get_args"
   ]
  },
  {
   "cell_type": "code",
   "execution_count": 2,
   "metadata": {},
   "outputs": [],
   "source": [
    "args = get_args()"
   ]
  },
  {
   "cell_type": "code",
   "execution_count": 3,
   "metadata": {},
   "outputs": [],
   "source": [
    "target = GMM_target2(args)"
   ]
  },
  {
   "cell_type": "code",
   "execution_count": 4,
   "metadata": {},
   "outputs": [
    {
     "data": {
      "image/png": "[encoded data removed]",
      "text/plain": [
       "<Figure size 432x288 with 1 Axes>"
      ]
     },
     "metadata": {
      "needs_background": "light"
     },
     "output_type": "display_data"
    }
   ],
   "source": [
    "target_samples = target.get_samples(n=1000).cpu().numpy()\n",
    "plt.scatter(target_samples[:, 0], target_samples[:, 1])\n",
    "plt.axis('equal');"
   ]
  },
  {
   "cell_type": "markdown",
   "metadata": {},
   "source": [
    "#### Common setup"
   ]
  },
  {
   "cell_type": "code",
   "execution_count": 5,
   "metadata": {},
   "outputs": [],
   "source": [
    "args.n_steps = 1000 # how many samples to use\n",
    "args.n_warmup = 1000 # num of first samples to refuse\n",
    "\n",
    "args.n_chains = 10 # how many chains to model"
   ]
  },
  {
   "cell_type": "code",
   "execution_count": 6,
   "metadata": {},
   "outputs": [],
   "source": [
    "q_init = args.std_normal.sample((args.n_chains, args.z_dim))\n",
    "p_init = args.std_normal.sample((args.n_chains, args.z_dim))"
   ]
  },
  {
   "cell_type": "markdown",
   "metadata": {},
   "source": [
    "#### Vanilla HMC"
   ]
  },
  {
   "cell_type": "code",
   "execution_count": 7,
   "metadata": {},
   "outputs": [],
   "source": [
    "vanilla_kernel = HMC_vanilla(args)"
   ]
  },
  {
   "cell_type": "code",
   "execution_count": 8,
   "metadata": {},
   "outputs": [
    {
     "name": "stderr",
     "output_type": "stream",
     "text": [
      "  1%|          | 7/1000 [00:00<00:15, 65.36it/s]"
     ]
    },
    {
     "name": "stdout",
     "output_type": "stream",
     "text": [
      "Now we are running warmup!\n"
     ]
    },
    {
     "name": "stderr",
     "output_type": "stream",
     "text": [
      "100%|██████████| 1000/1000 [00:14<00:00, 70.09it/s]\n",
      "  1%|          | 8/1000 [00:00<00:13, 71.53it/s]"
     ]
    },
    {
     "name": "stdout",
     "output_type": "stream",
     "text": [
      "Now we are sampling!\n"
     ]
    },
    {
     "name": "stderr",
     "output_type": "stream",
     "text": [
      "100%|██████████| 1000/1000 [00:13<00:00, 71.74it/s]\n"
     ]
    }
   ],
   "source": [
    "q_new = q_init\n",
    "p_new = p_init\n",
    "\n",
    "print(\"Now we are running warmup!\")\n",
    "iterator = tqdm(range(args.n_warmup))\n",
    "for i in iterator:\n",
    "    q_new, p_new, _, _, a = vanilla_kernel.make_transition(q_old=q_new, p_old=p_new, target_distr=target)\n",
    "iterator.close()\n",
    "    \n",
    "samples_vanilla = torch.empty((args.n_steps, args.n_chains, args.z_dim), device=args.device, dtype=args.torchType)\n",
    "print(\"Now we are sampling!\")\n",
    "\n",
    "iterator = tqdm(range(args.n_steps))\n",
    "for i in iterator:\n",
    "    q_new, p_new, _, _, a = vanilla_kernel.make_transition(q_old=q_new, p_old=p_new, target_distr=target)\n",
    "    samples_vanilla[i] = q_new\n",
    "iterator.close()"
   ]
  },
  {
   "cell_type": "code",
   "execution_count": 9,
   "metadata": {},
   "outputs": [
    {
     "data": {
      "image/png": "[encoded data removed]",
      "text/plain": [
       "<Figure size 432x288 with 1 Axes>"
      ]
     },
     "metadata": {
      "needs_background": "light"
     },
     "output_type": "display_data"
    }
   ],
   "source": [
    "chain_num = 4\n",
    "plt.scatter(samples_vanilla[:, chain_num, 0].cpu(), samples_vanilla[:, chain_num, 1].cpu())\n",
    "plt.axis('equal');"
   ]
  },
  {
   "cell_type": "markdown",
   "metadata": {},
   "source": [
    "#### Ours HMC"
   ]
  },
  {
   "cell_type": "code",
   "execution_count": 10,
   "metadata": {},
   "outputs": [],
   "source": [
    "transitions = nn.ModuleList([HMC_our(kwargs=args).to(args.device) for _ in range(args.K)])\n",
    "our_kernel = nn.ModuleList([HMC_our(kwargs=args).to(args.device) for _ in range(args.K)])\n",
    "params = transitions.parameters()\n",
    "\n",
    "optimizer = torch.optim.Adam(params=params, lr=1e-1)\n",
    "scheduler = torch.optim.lr_scheduler.ReduceLROnPlateau(optimizer, mode='max', patience=100, factor=0.9)"
   ]
  },
  {
   "cell_type": "markdown",
   "metadata": {},
   "source": [
    "##### Training"
   ]
  },
  {
   "cell_type": "code",
   "execution_count": 11,
   "metadata": {},
   "outputs": [
    {
     "name": "stderr",
     "output_type": "stream",
     "text": [
      "  0%|          | 0/5000 [00:00<?, ?it/s]"
     ]
    },
    {
     "name": "stdout",
     "output_type": "stream",
     "text": [
      "On batch number 0 and on k = 1 we have for 0: 0.065 and for +1: 0.935\n",
      "Step size for 0-th transition is 1.0\n",
      "Alpha (ref) for 0-th transition is 0.5\n",
      "On batch number 0 and on k = 2 we have for 0: 0.755 and for +1: 0.245\n",
      "Step size for 1-th transition is 1.0\n",
      "Alpha (ref) for 1-th transition is 0.5\n",
      "On batch number 0 and on k = 3 we have for 0: 0.36 and for +1: 0.64\n",
      "Step size for 2-th transition is 1.0\n",
      "Alpha (ref) for 2-th transition is 0.5\n",
      "On batch number 0 and on k = 4 we have for 0: 0.41 and for +1: 0.59\n",
      "Step size for 3-th transition is 1.0\n",
      "Alpha (ref) for 3-th transition is 0.5\n",
      "On batch number 0 and on k = 5 we have for 0: 0.445 and for +1: 0.555\n",
      "Step size for 4-th transition is 1.0\n",
      "Alpha (ref) for 4-th transition is 0.5\n"
     ]
    },
    {
     "data": {
      "image/png": "[encoded data removed]",
      "text/plain": [
       "<Figure size 432x288 with 1 Axes>"
      ]
     },
     "metadata": {
      "needs_background": "light"
     },
     "output_type": "display_data"
    },
    {
     "name": "stderr",
     "output_type": "stream",
     "text": [
      "  0%|          | 1/5000 [00:00<16:51,  4.94it/s]"
     ]
    },
    {
     "name": "stdout",
     "output_type": "stream",
     "text": [
      "Current lr:  0.1\n",
      "On batch number 0 ELBO is -13.555489540100098\n",
      "On batch number 0 Best ELBO is -inf\n"
     ]
    },
    {
     "name": "stderr",
     "output_type": "stream",
     "text": [
      "  2%|▏         | 100/5000 [00:10<08:38,  9.45it/s]"
     ]
    },
    {
     "name": "stdout",
     "output_type": "stream",
     "text": [
      "On batch number 100 and on k = 1 we have for 0: 0.0 and for +1: 1.0\n",
      "Step size for 0-th transition is 1.366655945777893\n",
      "Alpha (ref) for 0-th transition is 0.6901626586914062\n",
      "On batch number 100 and on k = 2 we have for 0: 0.47 and for +1: 0.53\n",
      "Step size for 1-th transition is 0.098526231944561\n",
      "Alpha (ref) for 1-th transition is 0.8580954670906067\n",
      "On batch number 100 and on k = 3 we have for 0: 0.505 and for +1: 0.495\n",
      "Step size for 2-th transition is 1.501810908317566\n",
      "Alpha (ref) for 2-th transition is 0.19754768908023834\n",
      "On batch number 100 and on k = 4 we have for 0: 0.45 and for +1: 0.55\n",
      "Step size for 3-th transition is 0.13830120861530304\n",
      "Alpha (ref) for 3-th transition is 0.5283372402191162\n",
      "On batch number 100 and on k = 5 we have for 0: 0.54 and for +1: 0.46\n",
      "Step size for 4-th transition is 0.12440157681703568\n",
      "Alpha (ref) for 4-th transition is 0.5280680060386658\n"
     ]
    },
    {
     "data": {
      "image/png": "[encoded data removed]",
      "text/plain": [
       "<Figure size 432x288 with 1 Axes>"
      ]
     },
     "metadata": {
      "needs_background": "light"
     },
     "output_type": "display_data"
    },
    {
     "name": "stderr",
     "output_type": "stream",
     "text": [
      "  2%|▏         | 101/5000 [00:10<10:37,  7.69it/s]"
     ]
    },
    {
     "name": "stdout",
     "output_type": "stream",
     "text": [
      "Current lr:  0.1\n",
      "On batch number 100 ELBO is -16.090599060058594\n",
      "On batch number 100 Best ELBO is -8.362927436828613\n"
     ]
    },
    {
     "name": "stderr",
     "output_type": "stream",
     "text": [
      "  4%|▍         | 200/5000 [00:21<08:25,  9.49it/s]"
     ]
    },
    {
     "name": "stdout",
     "output_type": "stream",
     "text": [
      "On batch number 200 and on k = 1 we have for 0: 0.01 and for +1: 0.99\n",
      "Step size for 0-th transition is 0.9168904423713684\n",
      "Alpha (ref) for 0-th transition is 0.5574475526809692\n",
      "On batch number 200 and on k = 2 we have for 0: 0.485 and for +1: 0.515\n",
      "Step size for 1-th transition is 0.09188644587993622\n",
      "Alpha (ref) for 1-th transition is 0.8666349649429321\n",
      "On batch number 200 and on k = 3 we have for 0: 0.62 and for +1: 0.38\n",
      "Step size for 2-th transition is 1.5349522829055786\n",
      "Alpha (ref) for 2-th transition is 0.16779939830303192\n",
      "On batch number 200 and on k = 4 we have for 0: 0.485 and for +1: 0.515\n",
      "Step size for 3-th transition is 0.13078922033309937\n",
      "Alpha (ref) for 3-th transition is 0.605675995349884\n",
      "On batch number 200 and on k = 5 we have for 0: 0.515 and for +1: 0.485\n",
      "Step size for 4-th transition is 0.10759086906909943\n",
      "Alpha (ref) for 4-th transition is 0.7016739249229431\n"
     ]
    },
    {
     "data": {
      "image/png": "[encoded data removed]",
      "text/plain": [
       "<Figure size 432x288 with 1 Axes>"
      ]
     },
     "metadata": {
      "needs_background": "light"
     },
     "output_type": "display_data"
    },
    {
     "name": "stderr",
     "output_type": "stream",
     "text": [
      "  4%|▍         | 201/5000 [00:21<10:12,  7.83it/s]"
     ]
    },
    {
     "name": "stdout",
     "output_type": "stream",
     "text": [
      "Current lr:  0.09000000000000001\n",
      "On batch number 200 ELBO is -10.935935974121094\n",
      "On batch number 200 Best ELBO is -8.362927436828613\n"
     ]
    },
    {
     "name": "stderr",
     "output_type": "stream",
     "text": [
      "  6%|▌         | 300/5000 [00:31<08:14,  9.50it/s]"
     ]
    },
    {
     "name": "stdout",
     "output_type": "stream",
     "text": [
      "On batch number 300 and on k = 1 we have for 0: 0.09 and for +1: 0.91\n",
      "Step size for 0-th transition is 0.9952535033226013\n",
      "Alpha (ref) for 0-th transition is 0.46257510781288147\n",
      "On batch number 300 and on k = 2 we have for 0: 0.53 and for +1: 0.47\n",
      "Step size for 1-th transition is 0.09593908488750458\n",
      "Alpha (ref) for 1-th transition is 0.8616470694541931\n",
      "On batch number 300 and on k = 3 we have for 0: 0.59 and for +1: 0.41\n",
      "Step size for 2-th transition is 1.5778565406799316\n",
      "Alpha (ref) for 2-th transition is 0.12684540450572968\n",
      "On batch number 300 and on k = 4 we have for 0: 0.505 and for +1: 0.495\n",
      "Step size for 3-th transition is 0.13836570084095\n",
      "Alpha (ref) for 3-th transition is 0.6620716452598572\n",
      "On batch number 300 and on k = 5 we have for 0: 0.525 and for +1: 0.475\n",
      "Step size for 4-th transition is 0.09771490097045898\n",
      "Alpha (ref) for 4-th transition is 0.7670320868492126\n"
     ]
    },
    {
     "data": {
      "image/png": "[encoded data removed]",
      "text/plain": [
       "<Figure size 432x288 with 1 Axes>"
      ]
     },
     "metadata": {
      "needs_background": "light"
     },
     "output_type": "display_data"
    },
    {
     "name": "stderr",
     "output_type": "stream",
     "text": [
      "  6%|▌         | 301/5000 [00:32<10:35,  7.39it/s]"
     ]
    },
    {
     "name": "stdout",
     "output_type": "stream",
     "text": [
      "Current lr:  0.08100000000000002\n",
      "On batch number 300 ELBO is -15.241244316101074\n",
      "On batch number 300 Best ELBO is -8.362927436828613\n"
     ]
    },
    {
     "name": "stderr",
     "output_type": "stream",
     "text": [
      "  8%|▊         | 400/5000 [00:42<08:15,  9.29it/s]"
     ]
    },
    {
     "name": "stdout",
     "output_type": "stream",
     "text": [
      "On batch number 400 and on k = 1 we have for 0: 0.035 and for +1: 0.965\n",
      "Step size for 0-th transition is 0.9697604179382324\n",
      "Alpha (ref) for 0-th transition is 0.44950613379478455\n",
      "On batch number 400 and on k = 2 we have for 0: 0.49 and for +1: 0.51\n",
      "Step size for 1-th transition is 0.09824161231517792\n",
      "Alpha (ref) for 1-th transition is 0.8680074214935303\n",
      "On batch number 400 and on k = 3 we have for 0: 0.65 and for +1: 0.35\n",
      "Step size for 2-th transition is 1.5016835927963257\n",
      "Alpha (ref) for 2-th transition is 0.19549044966697693\n",
      "On batch number 400 and on k = 4 we have for 0: 0.53 and for +1: 0.47\n",
      "Step size for 3-th transition is 0.13624392449855804\n",
      "Alpha (ref) for 3-th transition is 0.6536121964454651\n",
      "On batch number 400 and on k = 5 we have for 0: 0.48 and for +1: 0.52\n",
      "Step size for 4-th transition is 0.08777584880590439\n",
      "Alpha (ref) for 4-th transition is 0.7831264138221741\n"
     ]
    },
    {
     "data": {
      "image/png": "[encoded data removed]",
      "text/plain": [
       "<Figure size 432x288 with 1 Axes>"
      ]
     },
     "metadata": {
      "needs_background": "light"
     },
     "output_type": "display_data"
    },
    {
     "name": "stderr",
     "output_type": "stream",
     "text": [
      "  8%|▊         | 401/5000 [00:42<09:55,  7.73it/s]"
     ]
    },
    {
     "name": "stdout",
     "output_type": "stream",
     "text": [
      "Current lr:  0.07290000000000002\n",
      "On batch number 400 ELBO is -10.879351615905762\n",
      "On batch number 400 Best ELBO is -8.362927436828613\n"
     ]
    },
    {
     "name": "stderr",
     "output_type": "stream",
     "text": [
      " 10%|█         | 500/5000 [00:53<07:53,  9.50it/s]"
     ]
    },
    {
     "name": "stdout",
     "output_type": "stream",
     "text": [
      "On batch number 500 and on k = 1 we have for 0: 0.0 and for +1: 1.0\n",
      "Step size for 0-th transition is 0.8581435084342957\n",
      "Alpha (ref) for 0-th transition is 0.4489646553993225\n",
      "On batch number 500 and on k = 2 we have for 0: 0.505 and for +1: 0.495\n",
      "Step size for 1-th transition is 0.09617368876934052\n",
      "Alpha (ref) for 1-th transition is 0.8556273579597473\n",
      "On batch number 500 and on k = 3 we have for 0: 0.445 and for +1: 0.555\n",
      "Step size for 2-th transition is 1.463721513748169\n",
      "Alpha (ref) for 2-th transition is 0.19407767057418823\n",
      "On batch number 500 and on k = 4 we have for 0: 0.51 and for +1: 0.49\n",
      "Step size for 3-th transition is 0.14256404340267181\n",
      "Alpha (ref) for 3-th transition is 0.656525731086731\n",
      "On batch number 500 and on k = 5 we have for 0: 0.505 and for +1: 0.495\n",
      "Step size for 4-th transition is 0.08164379745721817\n",
      "Alpha (ref) for 4-th transition is 0.7676033973693848\n"
     ]
    },
    {
     "data": {
      "image/png": "[encoded data removed]",
      "text/plain": [
       "<Figure size 432x288 with 1 Axes>"
      ]
     },
     "metadata": {
      "needs_background": "light"
     },
     "output_type": "display_data"
    },
    {
     "name": "stderr",
     "output_type": "stream",
     "text": [
      " 10%|█         | 501/5000 [00:53<09:39,  7.77it/s]"
     ]
    },
    {
     "name": "stdout",
     "output_type": "stream",
     "text": [
      "Current lr:  0.06561000000000002\n",
      "On batch number 500 ELBO is -14.151058197021484\n",
      "On batch number 500 Best ELBO is -8.362927436828613\n"
     ]
    },
    {
     "name": "stderr",
     "output_type": "stream",
     "text": [
      " 11%|█         | 528/5000 [00:56<07:55,  9.40it/s]"
     ]
    },
    {
     "name": "stdout",
     "output_type": "stream",
     "text": [
      "Early stopping on 528\n"
     ]
    },
    {
     "name": "stderr",
     "output_type": "stream",
     "text": [
      "\n"
     ]
    }
   ],
   "source": [
    "print_info_ = 100\n",
    "torch_log_2 = torch.tensor(np.log(2.), device=args.device, dtype=args.torchType)\n",
    "best_elbo = -float(\"inf\")\n",
    "\n",
    "def compute_loss(q_new, p_new, q_old, p_old, sum_log_alpha, sum_log_jac):\n",
    "    log_p = target.get_logdensity(z=q_new) + args.std_normal.log_prob(p_new).sum(1)\n",
    "    log_r = -args.K * torch_log_2\n",
    "    log_m = args.std_normal.log_prob(q_old).sum(1) + args.std_normal.log_prob(p_old).sum(1) - sum_log_jacobian + sum_log_alpha\n",
    "    elbo_full = log_p + log_r - log_m\n",
    "    grad_elbo = torch.mean(elbo_full + elbo_full.detach() * sum_log_alpha)\n",
    "    return elbo_full.detach().mean().item(), grad_elbo\n",
    "\n",
    "if args.step_conditioning == 'fixed':\n",
    "    cond_vectors = [args.std_normal.sample((args.z_dim, )) for k in range(args.K)]\n",
    "\n",
    "iterator = tqdm(range(args.num_batches))\n",
    "cur_tolerance = 0\n",
    "for batch_num in iterator:\n",
    "    plt.close()\n",
    "    if args.step_conditioning == 'free':\n",
    "        cond_vectors = [args.std_normal.sample((args.z_dim, )) for k in range(args.K)]\n",
    "        \n",
    "    # sample initial q and p\n",
    "    q_old = args.std_normal.sample((args.train_batch_size, args.z_dim)).requires_grad_(True)\n",
    "    p_old = args.std_normal.sample((args.train_batch_size, args.z_dim))\n",
    "    \n",
    "    # prepare tensors for auxilary stuff\n",
    "    sum_log_alpha = torch.zeros(q_old.shape[0], dtype=args.torchType, device=args.device) # for grad log alpha accumulation\n",
    "    sum_log_jacobian = torch.zeros(q_old.shape[0], dtype=args.torchType, device=args.device) # for log_jacobian accumulation\n",
    "    \n",
    "    q = q_old\n",
    "    p = p_old\n",
    "    # run training cycle\n",
    "    for k in range(args.K):\n",
    "        q, p, log_jac, current_log_alphas, directions = transitions[k].make_transition(q_old=q,\n",
    "                                                    p_old=p, k=cond_vectors[k], target_distr=target) # sample a_i -- directions\n",
    "        if (batch_num ) % print_info_ == 0:\n",
    "            print('On batch number {} and on k = {} we have for 0: {} and for +1: {}'.format(batch_num, k + 1,\n",
    "                                                        (directions==0.).to(float).mean(), (directions==1.).to(float).mean()))\n",
    "            print('Step size for {}-th transition is {}'.format(k, transitions[k].gamma.detach().exp()))\n",
    "            print('Alpha (ref) for {}-th transition is {}'.format(k, torch.sigmoid(transitions[k].alpha_logit.detach())))\n",
    "        sum_log_alpha += current_log_alphas\n",
    "        sum_log_jacobian += log_jac\n",
    "        \n",
    "    elbo_full, grad_elbo = compute_loss(q_new=q, p_new=p, q_old=q_old, p_old=p_old, sum_log_jac=sum_log_jacobian,\n",
    "                                            sum_log_alpha=sum_log_alpha)\n",
    "    if (batch_num ) % print_info_ == 0:\n",
    "        plt.scatter(q.cpu().detach()[:, 0], q.cpu().detach()[:, 1])\n",
    "        plt.show();\n",
    "        for param_group in optimizer.param_groups:\n",
    "            current_lr = param_group['lr']\n",
    "        print('Current lr: ', current_lr)\n",
    "        print('On batch number {} ELBO is {}'.format(batch_num, elbo_full))\n",
    "        print('On batch number {} Best ELBO is {}'.format(batch_num, best_elbo))\n",
    "    (-grad_elbo).backward()\n",
    "    optimizer.step()\n",
    "    optimizer.zero_grad()\n",
    "    scheduler.step(elbo_full)\n",
    "\n",
    "    if np.isnan(elbo_full):\n",
    "        print('NAN appeared!')\n",
    "        raise ValueError\n",
    "\n",
    "    if elbo_full > best_elbo:\n",
    "        best_elbo = elbo_full\n",
    "        our_kernel.load_state_dict(transitions.state_dict())\n",
    "        cur_tolerance = 0\n",
    "    else:\n",
    "        cur_tolerance += 1\n",
    "        if cur_tolerance >= args.early_stopping_tolerance:\n",
    "            print('Early stopping on {}'.format(batch_num))\n",
    "            iterator.close()\n",
    "            break"
   ]
  },
  {
   "cell_type": "code",
   "execution_count": 12,
   "metadata": {},
   "outputs": [],
   "source": [
    "for p in our_kernel.parameters():\n",
    "    p.requires_grad_(False)"
   ]
  },
  {
   "cell_type": "code",
   "execution_count": 13,
   "metadata": {},
   "outputs": [],
   "source": [
    "# args.n_steps = args.K # how many samples to use\n",
    "# args.n_warmup = 0 # num of first samples to refuse\n",
    "\n",
    "# args.n_chains = 1000 # how many chains to model\n",
    "\n",
    "# q_init = args.std_normal.sample((args.n_chains, args.z_dim))\n",
    "# p_init = args.std_normal.sample((args.n_chains, args.z_dim))"
   ]
  },
  {
   "cell_type": "code",
   "execution_count": 14,
   "metadata": {},
   "outputs": [
    {
     "name": "stderr",
     "output_type": "stream",
     "text": [
      "  0%|          | 5/1000 [00:00<00:22, 43.46it/s]"
     ]
    },
    {
     "name": "stdout",
     "output_type": "stream",
     "text": [
      "Now we are running warmup!\n"
     ]
    },
    {
     "name": "stderr",
     "output_type": "stream",
     "text": [
      "100%|██████████| 1000/1000 [00:14<00:00, 70.64it/s]\n",
      "  1%|          | 8/1000 [00:00<00:13, 72.03it/s]"
     ]
    },
    {
     "name": "stdout",
     "output_type": "stream",
     "text": [
      "Now we are sampling!\n"
     ]
    },
    {
     "name": "stderr",
     "output_type": "stream",
     "text": [
      "100%|██████████| 1000/1000 [00:14<00:00, 69.15it/s]\n"
     ]
    }
   ],
   "source": [
    "q_new = q_init\n",
    "p_new = p_init\n",
    "\n",
    "print(\"Now we are running warmup!\")\n",
    "iterator = tqdm(range(args.n_warmup))\n",
    "for i in iterator:\n",
    "    q_new = q_new.detach().requires_grad_(True)\n",
    "    p_new = p_new.detach().requires_grad_(True)\n",
    "    if args.step_conditioning == 'free':\n",
    "        cond_vectors = [args.std_normal.sample((args.z_dim, )) for k in range(args.K)]\n",
    "    q_new, p_new, _, _, _ = our_kernel[i % args.K].make_transition(q_old=q_new, p_old=p_new, target_distr=target,\n",
    "                                                                   k=cond_vectors[i % args.K])\n",
    "iterator.close()\n",
    "    \n",
    "samples_our = torch.empty((args.n_steps, args.n_chains, args.z_dim), device=args.device, dtype=args.torchType)\n",
    "print(\"Now we are sampling!\")\n",
    "\n",
    "iterator = tqdm(range(args.n_steps))\n",
    "for i in iterator:\n",
    "    q_new = q_new.detach().requires_grad_(True)\n",
    "    p_new = p_new.detach().requires_grad_(True)\n",
    "    if args.step_conditioning == 'free':\n",
    "        cond_vectors = [args.std_normal.sample((args.z_dim, )) for k in range(args.K)]\n",
    "    q_new, p_new, _, _, a = our_kernel[i % args.K].make_transition(q_old=q_new, p_old=p_new, target_distr=target,\n",
    "                                                                   k=cond_vectors[i % args.K])\n",
    "    \n",
    "    samples_our[i] = q_new.detach()\n",
    "iterator.close()"
   ]
  },
  {
   "cell_type": "code",
   "execution_count": 24,
   "metadata": {},
   "outputs": [
    {
     "data": {
      "image/png": "[encoded data removed]",
      "text/plain": [
       "<Figure size 432x288 with 1 Axes>"
      ]
     },
     "metadata": {
      "needs_background": "light"
     },
     "output_type": "display_data"
    }
   ],
   "source": [
    "chain_num = 9\n",
    "plt.scatter(samples_our[:, chain_num, 0].cpu(), samples_our[:, chain_num, 1].cpu())\n",
    "plt.axis('equal');"
   ]
  },
  {
   "cell_type": "code",
   "execution_count": null,
   "metadata": {},
   "outputs": [],
   "source": []
  },
  {
   "cell_type": "code",
   "execution_count": null,
   "metadata": {},
   "outputs": [],
   "source": []
  }
 ],
 "metadata": {
  "kernelspec": {
   "display_name": "Condatorch",
   "language": "python",
   "name": "condatorch"
  },
  "language_info": {
   "codemirror_mode": {
    "name": "ipython",
    "version": 3
   },
   "file_extension": ".py",
   "mimetype": "text/x-python",
   "name": "python",
   "nbconvert_exporter": "python",
   "pygments_lexer": "ipython3",
   "version": "3.7.6"
  }
 },
 "nbformat": 4,
 "nbformat_minor": 4
}
