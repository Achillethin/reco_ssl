{
 "cells": [
  {
   "cell_type": "code",
   "execution_count": 1,
   "metadata": {},
   "outputs": [],
   "source": [
    "import torch\n",
    "import numpy as np\n",
    "import random\n",
    "import torch.nn as nn\n",
    "import torch.nn.functional as F\n",
    "import itertools\n",
    "import pdb\n",
    "from tqdm import tqdm\n",
    "import matplotlib.pyplot as plt\n",
    "%matplotlib inline\n",
    "\n",
    "import sys\n",
    "\n",
    "sys.path.insert(0, './src')\n",
    "\n",
    "from data import Dataset\n",
    "from kernels import HMC_our\n",
    "from models import Gen_network, Inf_network\n",
    "from target import NN_bernoulli\n",
    "from utils import plot_digit_samples, get_samples\n",
    "from args import get_args"
   ]
  },
  {
   "cell_type": "code",
   "execution_count": 2,
   "metadata": {},
   "outputs": [],
   "source": [
    "torchType = torch.float32"
   ]
  },
  {
   "cell_type": "code",
   "execution_count": 3,
   "metadata": {},
   "outputs": [],
   "source": [
    "def set_seeds(rand_seed):\n",
    "#     torch.cuda.manual_seed_all(rand_seed)\n",
    "    torch.backends.cudnn.deterministic = True\n",
    "    torch.backends.cudnn.benchmark = False\n",
    "    torch.manual_seed(rand_seed)\n",
    "    np.random.seed(rand_seed)\n",
    "    random.seed(rand_seed)\n",
    "\n",
    "seed = 1 # 1337 #\n",
    "set_seeds(seed)"
   ]
  },
  {
   "cell_type": "code",
   "execution_count": 4,
   "metadata": {},
   "outputs": [],
   "source": [
    "args = get_args()"
   ]
  },
  {
   "cell_type": "code",
   "execution_count": 5,
   "metadata": {},
   "outputs": [],
   "source": [
    "encoder = Inf_network(kwargs=args).to(args.device)\n",
    "target = NN_bernoulli(kwargs=args, model=Gen_network(args.z_dim, args), device=args.device).to(args.device)\n",
    "\n",
    "transitions = nn.ModuleList([HMC_our(kwargs=args).to(args.device) for _ in range(args['K'])])\n",
    "params = [encoder.parameters(), target.parameters(), transitions.parameters()]\n",
    "    \n",
    "optimizer = torch.optim.Adam(params=itertools.chain(*params))"
   ]
  },
  {
   "cell_type": "code",
   "execution_count": 6,
   "metadata": {},
   "outputs": [],
   "source": [
    "dataset = Dataset(args, device=args.device)"
   ]
  },
  {
   "cell_type": "code",
   "execution_count": 7,
   "metadata": {},
   "outputs": [],
   "source": [
    "random_code = args.std_normal.sample((64, args.z_dim))"
   ]
  },
  {
   "cell_type": "code",
   "execution_count": 8,
   "metadata": {},
   "outputs": [
    {
     "name": "stderr",
     "output_type": "stream",
     "text": [
      "  0%|          | 0/400 [00:00<?, ?it/s]"
     ]
    },
    {
     "name": "stdout",
     "output_type": "stream",
     "text": [
      "On batch number 1/500 and on k = 1 we have for  0: 0.5199999883770943 and for +1: 0.47999998927116394\n",
      "On batch number 101/500 and on k = 1 we have for  0: 0.4999999888241291 and for +1: 0.4999999888241291\n",
      "On batch number 201/500 and on k = 1 we have for  0: 0.41999999061226845 and for +1: 0.5799999870359898\n",
      "On batch number 301/500 and on k = 1 we have for  0: 0.5699999872595072 and for +1: 0.42999999038875103\n",
      "On batch number 401/500 and on k = 1 we have for  0: 0.4499999899417162 and for +1: 0.549999987706542\n"
     ]
    },
    {
     "name": "stderr",
     "output_type": "stream",
     "text": [
      "  0%|          | 1/400 [00:18<2:04:52, 18.78s/it]"
     ]
    },
    {
     "name": "stdout",
     "output_type": "stream",
     "text": [
      "Current epoch: 1 \t Current ELBO: -263.84326171875\n",
      "Saved samples to ./pics/mnist_epoch_0_K_1_N_5.png\n",
      "On batch number 1/500 and on k = 1 we have for  0: 0.46999998949468136 and for +1: 0.5299999881535769\n",
      "On batch number 101/500 and on k = 1 we have for  0: 0.029999999329447746 and for +1: 0.9699999783188105\n",
      "On batch number 201/500 and on k = 1 we have for  0: 0.4499999899417162 and for +1: 0.549999987706542\n",
      "On batch number 301/500 and on k = 1 we have for  0: 0.46999998949468136 and for +1: 0.5299999881535769\n",
      "On batch number 401/500 and on k = 1 we have for  0: 0.5299999881535769 and for +1: 0.46999998949468136\n"
     ]
    },
    {
     "name": "stderr",
     "output_type": "stream",
     "text": [
      "  0%|          | 2/400 [00:37<2:04:15, 18.73s/it]"
     ]
    },
    {
     "name": "stdout",
     "output_type": "stream",
     "text": [
      "Current epoch: 2 \t Current ELBO: -280.04791259765625\n",
      "Saved samples to ./pics/mnist_epoch_1_K_1_N_5.png\n",
      "On batch number 1/500 and on k = 1 we have for  0: 0.4499999899417162 and for +1: 0.549999987706542\n",
      "On batch number 101/500 and on k = 1 we have for  0: 0.549999987706542 and for +1: 0.4499999899417162\n",
      "On batch number 201/500 and on k = 1 we have for  0: 0.4599999897181988 and for +1: 0.5399999879300594\n",
      "On batch number 301/500 and on k = 1 we have for  0: 0.4499999899417162 and for +1: 0.549999987706542\n",
      "On batch number 401/500 and on k = 1 we have for  0: 0.42999999038875103 and for +1: 0.5699999872595072\n"
     ]
    },
    {
     "name": "stderr",
     "output_type": "stream",
     "text": [
      "  1%|          | 3/400 [00:56<2:03:41, 18.69s/it]"
     ]
    },
    {
     "name": "stdout",
     "output_type": "stream",
     "text": [
      "Current epoch: 3 \t Current ELBO: -388.7711181640625\n",
      "Saved samples to ./pics/mnist_epoch_2_K_1_N_5.png\n",
      "On batch number 1/500 and on k = 1 we have for  0: 0.46999998949468136 and for +1: 0.5299999881535769\n",
      "On batch number 101/500 and on k = 1 we have for  0: 0.3899999912828207 and for +1: 0.6099999863654375\n",
      "On batch number 201/500 and on k = 1 we have for  0: 0.2699999939650297 and for +1: 0.7299999836832285\n",
      "On batch number 301/500 and on k = 1 we have for  0: 0.04999999888241291 and for +1: 0.9499999787658453\n",
      "On batch number 401/500 and on k = 1 we have for  0: 0.3399999924004078 and for +1: 0.6599999852478504\n"
     ]
    },
    {
     "name": "stderr",
     "output_type": "stream",
     "text": [
      "  1%|          | 4/400 [01:14<2:03:16, 18.68s/it]"
     ]
    },
    {
     "name": "stdout",
     "output_type": "stream",
     "text": [
      "Current epoch: 4 \t Current ELBO: -1896.8740234375\n",
      "Saved samples to ./pics/mnist_epoch_3_K_1_N_5.png\n",
      "On batch number 1/500 and on k = 1 we have for  0: 0.3999999910593033 and for +1: 0.5999999865889549\n",
      "On batch number 101/500 and on k = 1 we have for  0: 0.5299999881535769 and for +1: 0.46999998949468136\n",
      "On batch number 201/500 and on k = 1 we have for  0: 0.4499999899417162 and for +1: 0.549999987706542\n",
      "On batch number 301/500 and on k = 1 we have for  0: 0.4999999888241291 and for +1: 0.4999999888241291\n",
      "On batch number 401/500 and on k = 1 we have for  0: 0.4999999888241291 and for +1: 0.4999999888241291\n"
     ]
    },
    {
     "name": "stderr",
     "output_type": "stream",
     "text": [
      "  1%|▏         | 5/400 [01:33<2:02:49, 18.66s/it]"
     ]
    },
    {
     "name": "stdout",
     "output_type": "stream",
     "text": [
      "Current epoch: 5 \t Current ELBO: -409.4996032714844\n",
      "Saved samples to ./pics/mnist_epoch_4_K_1_N_5.png\n",
      "On batch number 1/500 and on k = 1 we have for  0: 0.46999998949468136 and for +1: 0.5299999881535769\n",
      "On batch number 101/500 and on k = 1 we have for  0: 0.47999998927116394 and for +1: 0.5199999883770943\n",
      "On batch number 201/500 and on k = 1 we have for  0: 0.47999998927116394 and for +1: 0.5199999883770943\n",
      "On batch number 301/500 and on k = 1 we have for  0: 0.46999998949468136 and for +1: 0.5299999881535769\n",
      "On batch number 401/500 and on k = 1 we have for  0: 0.47999998927116394 and for +1: 0.5199999883770943\n"
     ]
    },
    {
     "name": "stderr",
     "output_type": "stream",
     "text": [
      "  2%|▏         | 6/400 [01:51<2:02:25, 18.64s/it]"
     ]
    },
    {
     "name": "stdout",
     "output_type": "stream",
     "text": [
      "Current epoch: 6 \t Current ELBO: -245.5962371826172\n",
      "Saved samples to ./pics/mnist_epoch_5_K_1_N_5.png\n",
      "On batch number 1/500 and on k = 1 we have for  0: 0.5599999874830246 and for +1: 0.4399999901652336\n",
      "On batch number 101/500 and on k = 1 we have for  0: 0.3899999912828207 and for +1: 0.6099999863654375\n",
      "On batch number 201/500 and on k = 1 we have for  0: 0.549999987706542 and for +1: 0.4499999899417162\n",
      "On batch number 301/500 and on k = 1 we have for  0: 0.5199999883770943 and for +1: 0.47999998927116394\n",
      "On batch number 401/500 and on k = 1 we have for  0: 0.47999998927116394 and for +1: 0.5199999883770943\n"
     ]
    },
    {
     "name": "stderr",
     "output_type": "stream",
     "text": [
      "  2%|▏         | 7/400 [02:10<2:02:03, 18.64s/it]"
     ]
    },
    {
     "name": "stdout",
     "output_type": "stream",
     "text": [
      "Current epoch: 7 \t Current ELBO: -239.16632080078125\n",
      "Saved samples to ./pics/mnist_epoch_6_K_1_N_5.png\n",
      "On batch number 1/500 and on k = 1 we have for  0: 0.4499999899417162 and for +1: 0.549999987706542\n",
      "On batch number 101/500 and on k = 1 we have for  0: 0.5399999879300594 and for +1: 0.4599999897181988\n",
      "On batch number 201/500 and on k = 1 we have for  0: 0.4499999899417162 and for +1: 0.549999987706542\n",
      "On batch number 301/500 and on k = 1 we have for  0: 0.4599999897181988 and for +1: 0.5399999879300594\n",
      "On batch number 401/500 and on k = 1 we have for  0: 0.5299999881535769 and for +1: 0.46999998949468136\n"
     ]
    },
    {
     "name": "stderr",
     "output_type": "stream",
     "text": [
      "  2%|▏         | 8/400 [02:29<2:01:41, 18.63s/it]"
     ]
    },
    {
     "name": "stdout",
     "output_type": "stream",
     "text": [
      "Current epoch: 8 \t Current ELBO: -232.21487426757812\n",
      "Saved samples to ./pics/mnist_epoch_7_K_1_N_5.png\n",
      "On batch number 1/500 and on k = 1 we have for  0: 0.5299999881535769 and for +1: 0.46999998949468136\n",
      "On batch number 101/500 and on k = 1 we have for  0: 0.549999987706542 and for +1: 0.4499999899417162\n",
      "On batch number 201/500 and on k = 1 we have for  0: 0.4599999897181988 and for +1: 0.5399999879300594\n",
      "On batch number 301/500 and on k = 1 we have for  0: 0.5099999886006117 and for +1: 0.4899999890476465\n",
      "On batch number 401/500 and on k = 1 we have for  0: 0.4899999890476465 and for +1: 0.5099999886006117\n"
     ]
    },
    {
     "name": "stderr",
     "output_type": "stream",
     "text": [
      "  2%|▏         | 9/400 [02:47<2:01:21, 18.62s/it]"
     ]
    },
    {
     "name": "stdout",
     "output_type": "stream",
     "text": [
      "Current epoch: 9 \t Current ELBO: -234.25587463378906\n",
      "Saved samples to ./pics/mnist_epoch_8_K_1_N_5.png\n",
      "On batch number 1/500 and on k = 1 we have for  0: 0.47999998927116394 and for +1: 0.5199999883770943\n",
      "On batch number 101/500 and on k = 1 we have for  0: 0.46999998949468136 and for +1: 0.5299999881535769\n",
      "On batch number 201/500 and on k = 1 we have for  0: 0.47999998927116394 and for +1: 0.5199999883770943\n",
      "On batch number 301/500 and on k = 1 we have for  0: 0.40999999083578587 and for +1: 0.5899999868124723\n",
      "On batch number 401/500 and on k = 1 we have for  0: 0.4499999899417162 and for +1: 0.549999987706542\n"
     ]
    },
    {
     "name": "stderr",
     "output_type": "stream",
     "text": [
      "  2%|▎         | 10/400 [03:06<2:01:02, 18.62s/it]"
     ]
    },
    {
     "name": "stdout",
     "output_type": "stream",
     "text": [
      "Current epoch: 10 \t Current ELBO: -266.88427734375\n",
      "Saved samples to ./pics/mnist_epoch_9_K_1_N_5.png\n",
      "On batch number 1/500 and on k = 1 we have for  0: 0.5099999886006117 and for +1: 0.4899999890476465\n",
      "On batch number 101/500 and on k = 1 we have for  0: 0.40999999083578587 and for +1: 0.5899999868124723\n",
      "On batch number 201/500 and on k = 1 we have for  0: 0.5099999886006117 and for +1: 0.4899999890476465\n",
      "On batch number 301/500 and on k = 1 we have for  0: 0.46999998949468136 and for +1: 0.5299999881535769\n",
      "On batch number 401/500 and on k = 1 we have for  0: 0.4599999897181988 and for +1: 0.5399999879300594\n"
     ]
    },
    {
     "name": "stderr",
     "output_type": "stream",
     "text": [
      "  3%|▎         | 11/400 [03:24<2:00:43, 18.62s/it]"
     ]
    },
    {
     "name": "stdout",
     "output_type": "stream",
     "text": [
      "Current epoch: 11 \t Current ELBO: -237.2966766357422\n",
      "Saved samples to ./pics/mnist_epoch_10_K_1_N_5.png\n",
      "On batch number 1/500 and on k = 1 we have for  0: 0.5099999886006117 and for +1: 0.4899999890476465\n",
      "On batch number 101/500 and on k = 1 we have for  0: 0.4899999890476465 and for +1: 0.5099999886006117\n",
      "On batch number 201/500 and on k = 1 we have for  0: 0.5299999881535769 and for +1: 0.46999998949468136\n",
      "On batch number 301/500 and on k = 1 we have for  0: 0.5399999879300594 and for +1: 0.4599999897181988\n",
      "On batch number 401/500 and on k = 1 we have for  0: 0.42999999038875103 and for +1: 0.5699999872595072\n"
     ]
    },
    {
     "name": "stderr",
     "output_type": "stream",
     "text": [
      "  3%|▎         | 12/400 [03:43<2:00:24, 18.62s/it]"
     ]
    },
    {
     "name": "stdout",
     "output_type": "stream",
     "text": [
      "Current epoch: 12 \t Current ELBO: -225.4737091064453\n",
      "Saved samples to ./pics/mnist_epoch_11_K_1_N_5.png\n",
      "On batch number 1/500 and on k = 1 we have for  0: 0.4999999888241291 and for +1: 0.4999999888241291\n",
      "On batch number 101/500 and on k = 1 we have for  0: 0.5599999874830246 and for +1: 0.4399999901652336\n",
      "On batch number 201/500 and on k = 1 we have for  0: 0.4399999901652336 and for +1: 0.5599999874830246\n"
     ]
    },
    {
     "ename": "KeyboardInterrupt",
     "evalue": "",
     "output_type": "error",
     "traceback": [
      "\u001b[0;31m---------------------------------------------------------------------------\u001b[0m",
      "\u001b[0;31mKeyboardInterrupt\u001b[0m                         Traceback (most recent call last)",
      "\u001b[0;32m<ipython-input-8-365fc500e6ee>\u001b[0m in \u001b[0;36m<module>\u001b[0;34m\u001b[0m\n\u001b[1;32m     19\u001b[0m \u001b[0;31m# with torch.autograd.detect_anomaly():\u001b[0m\u001b[0;34m\u001b[0m\u001b[0;34m\u001b[0m\u001b[0;34m\u001b[0m\u001b[0m\n\u001b[1;32m     20\u001b[0m \u001b[0;32mfor\u001b[0m \u001b[0mep\u001b[0m \u001b[0;32min\u001b[0m \u001b[0mtqdm\u001b[0m\u001b[0;34m(\u001b[0m\u001b[0mrange\u001b[0m\u001b[0;34m(\u001b[0m\u001b[0margs\u001b[0m\u001b[0;34m.\u001b[0m\u001b[0mnum_epoches\u001b[0m\u001b[0;34m)\u001b[0m\u001b[0;34m)\u001b[0m\u001b[0;34m:\u001b[0m \u001b[0;31m# cycle over epoches\u001b[0m\u001b[0;34m\u001b[0m\u001b[0;34m\u001b[0m\u001b[0m\n\u001b[0;32m---> 21\u001b[0;31m     \u001b[0;32mfor\u001b[0m \u001b[0mb_num\u001b[0m\u001b[0;34m,\u001b[0m \u001b[0mbatch_train\u001b[0m \u001b[0;32min\u001b[0m \u001b[0menumerate\u001b[0m\u001b[0;34m(\u001b[0m\u001b[0mdataset\u001b[0m\u001b[0;34m.\u001b[0m\u001b[0mnext_train_batch\u001b[0m\u001b[0;34m(\u001b[0m\u001b[0;34m)\u001b[0m\u001b[0;34m)\u001b[0m\u001b[0;34m:\u001b[0m \u001b[0;31m# cycle over batches\u001b[0m\u001b[0;34m\u001b[0m\u001b[0;34m\u001b[0m\u001b[0m\n\u001b[0m\u001b[1;32m     22\u001b[0m         \u001b[0;32mif\u001b[0m \u001b[0margs\u001b[0m\u001b[0;34m.\u001b[0m\u001b[0mstep_conditioning\u001b[0m \u001b[0;34m==\u001b[0m \u001b[0;34m'free'\u001b[0m\u001b[0;34m:\u001b[0m\u001b[0;34m\u001b[0m\u001b[0;34m\u001b[0m\u001b[0m\n\u001b[1;32m     23\u001b[0m             \u001b[0mcond_vectors\u001b[0m \u001b[0;34m=\u001b[0m \u001b[0;34m[\u001b[0m\u001b[0margs\u001b[0m\u001b[0;34m.\u001b[0m\u001b[0mstd_normal\u001b[0m\u001b[0;34m.\u001b[0m\u001b[0msample\u001b[0m\u001b[0;34m(\u001b[0m\u001b[0;34m(\u001b[0m\u001b[0margs\u001b[0m\u001b[0;34m.\u001b[0m\u001b[0mz_dim\u001b[0m\u001b[0;34m,\u001b[0m \u001b[0;34m)\u001b[0m\u001b[0;34m)\u001b[0m \u001b[0;32mfor\u001b[0m \u001b[0m_\u001b[0m \u001b[0;32min\u001b[0m \u001b[0mrange\u001b[0m\u001b[0;34m(\u001b[0m\u001b[0margs\u001b[0m\u001b[0;34m.\u001b[0m\u001b[0mK\u001b[0m\u001b[0;34m)\u001b[0m\u001b[0;34m]\u001b[0m\u001b[0;34m\u001b[0m\u001b[0;34m\u001b[0m\u001b[0m\n",
      "\u001b[0;32m~/github/hmc_ouralg/src/data.py\u001b[0m in \u001b[0;36mnext_train_batch\u001b[0;34m(self)\u001b[0m\n\u001b[1;32m     75\u001b[0m         \u001b[0;32mfor\u001b[0m \u001b[0mbatch\u001b[0m \u001b[0;32min\u001b[0m \u001b[0mself\u001b[0m\u001b[0;34m.\u001b[0m\u001b[0mtrain_dataloader\u001b[0m\u001b[0;34m:\u001b[0m\u001b[0;34m\u001b[0m\u001b[0;34m\u001b[0m\u001b[0m\n\u001b[1;32m     76\u001b[0m             \u001b[0;32mif\u001b[0m \u001b[0mself\u001b[0m\u001b[0;34m.\u001b[0m\u001b[0mimg_c\u001b[0m \u001b[0;34m==\u001b[0m \u001b[0;36m1\u001b[0m\u001b[0;34m:\u001b[0m\u001b[0;34m\u001b[0m\u001b[0;34m\u001b[0m\u001b[0m\n\u001b[0;32m---> 77\u001b[0;31m                 \u001b[0mbatch\u001b[0m \u001b[0;34m=\u001b[0m \u001b[0mtorch\u001b[0m\u001b[0;34m.\u001b[0m\u001b[0mdistributions\u001b[0m\u001b[0;34m.\u001b[0m\u001b[0mBinomial\u001b[0m\u001b[0;34m(\u001b[0m\u001b[0mprobs\u001b[0m\u001b[0;34m=\u001b[0m\u001b[0mbatch\u001b[0m\u001b[0;34m)\u001b[0m\u001b[0;34m.\u001b[0m\u001b[0msample\u001b[0m\u001b[0;34m(\u001b[0m\u001b[0;34m)\u001b[0m\u001b[0;34m\u001b[0m\u001b[0;34m\u001b[0m\u001b[0m\n\u001b[0m\u001b[1;32m     78\u001b[0m             \u001b[0mbatch\u001b[0m \u001b[0;34m=\u001b[0m \u001b[0mbatch\u001b[0m\u001b[0;34m.\u001b[0m\u001b[0mview\u001b[0m\u001b[0;34m(\u001b[0m\u001b[0;34m[\u001b[0m\u001b[0mself\u001b[0m\u001b[0;34m.\u001b[0m\u001b[0mtrain_batch_size\u001b[0m\u001b[0;34m,\u001b[0m \u001b[0mself\u001b[0m\u001b[0;34m.\u001b[0m\u001b[0mimg_c\u001b[0m\u001b[0;34m,\u001b[0m \u001b[0mself\u001b[0m\u001b[0;34m.\u001b[0m\u001b[0mimg_h\u001b[0m\u001b[0;34m,\u001b[0m \u001b[0mself\u001b[0m\u001b[0;34m.\u001b[0m\u001b[0mimg_w\u001b[0m\u001b[0;34m]\u001b[0m\u001b[0;34m)\u001b[0m\u001b[0;34m\u001b[0m\u001b[0;34m\u001b[0m\u001b[0m\n\u001b[1;32m     79\u001b[0m             \u001b[0;32myield\u001b[0m \u001b[0mbatch\u001b[0m\u001b[0;34m\u001b[0m\u001b[0;34m\u001b[0m\u001b[0m\n",
      "\u001b[0;32m~/anaconda3/envs/condatorch/lib/python3.7/site-packages/torch/distributions/binomial.py\u001b[0m in \u001b[0;36m__init__\u001b[0;34m(self, total_count, probs, logits, validate_args)\u001b[0m\n\u001b[1;32m     42\u001b[0m             \u001b[0;32mraise\u001b[0m \u001b[0mValueError\u001b[0m\u001b[0;34m(\u001b[0m\u001b[0;34m\"Either `probs` or `logits` must be specified, but not both.\"\u001b[0m\u001b[0;34m)\u001b[0m\u001b[0;34m\u001b[0m\u001b[0;34m\u001b[0m\u001b[0m\n\u001b[1;32m     43\u001b[0m         \u001b[0;32mif\u001b[0m \u001b[0mprobs\u001b[0m \u001b[0;32mis\u001b[0m \u001b[0;32mnot\u001b[0m \u001b[0;32mNone\u001b[0m\u001b[0;34m:\u001b[0m\u001b[0;34m\u001b[0m\u001b[0;34m\u001b[0m\u001b[0m\n\u001b[0;32m---> 44\u001b[0;31m             \u001b[0mself\u001b[0m\u001b[0;34m.\u001b[0m\u001b[0mtotal_count\u001b[0m\u001b[0;34m,\u001b[0m \u001b[0mself\u001b[0m\u001b[0;34m.\u001b[0m\u001b[0mprobs\u001b[0m\u001b[0;34m,\u001b[0m \u001b[0;34m=\u001b[0m \u001b[0mbroadcast_all\u001b[0m\u001b[0;34m(\u001b[0m\u001b[0mtotal_count\u001b[0m\u001b[0;34m,\u001b[0m \u001b[0mprobs\u001b[0m\u001b[0;34m)\u001b[0m\u001b[0;34m\u001b[0m\u001b[0;34m\u001b[0m\u001b[0m\n\u001b[0m\u001b[1;32m     45\u001b[0m             \u001b[0mself\u001b[0m\u001b[0;34m.\u001b[0m\u001b[0mtotal_count\u001b[0m \u001b[0;34m=\u001b[0m \u001b[0mself\u001b[0m\u001b[0;34m.\u001b[0m\u001b[0mtotal_count\u001b[0m\u001b[0;34m.\u001b[0m\u001b[0mtype_as\u001b[0m\u001b[0;34m(\u001b[0m\u001b[0mself\u001b[0m\u001b[0;34m.\u001b[0m\u001b[0mlogits\u001b[0m\u001b[0;34m)\u001b[0m\u001b[0;34m\u001b[0m\u001b[0;34m\u001b[0m\u001b[0m\n\u001b[1;32m     46\u001b[0m             \u001b[0mis_scalar\u001b[0m \u001b[0;34m=\u001b[0m \u001b[0misinstance\u001b[0m\u001b[0;34m(\u001b[0m\u001b[0mself\u001b[0m\u001b[0;34m.\u001b[0m\u001b[0mprobs\u001b[0m\u001b[0;34m,\u001b[0m \u001b[0mNumber\u001b[0m\u001b[0;34m)\u001b[0m\u001b[0;34m\u001b[0m\u001b[0;34m\u001b[0m\u001b[0m\n",
      "\u001b[0;32m~/anaconda3/envs/condatorch/lib/python3.7/site-packages/torch/distributions/utils.py\u001b[0m in \u001b[0;36mbroadcast_all\u001b[0;34m(*values)\u001b[0m\n\u001b[1;32m     30\u001b[0m                 \u001b[0;32mbreak\u001b[0m\u001b[0;34m\u001b[0m\u001b[0;34m\u001b[0m\u001b[0m\n\u001b[1;32m     31\u001b[0m         values = [v if torch.is_tensor(v) else torch.tensor(v, **options)\n\u001b[0;32m---> 32\u001b[0;31m                   for v in values]\n\u001b[0m\u001b[1;32m     33\u001b[0m     \u001b[0;32mreturn\u001b[0m \u001b[0mtorch\u001b[0m\u001b[0;34m.\u001b[0m\u001b[0mbroadcast_tensors\u001b[0m\u001b[0;34m(\u001b[0m\u001b[0;34m*\u001b[0m\u001b[0mvalues\u001b[0m\u001b[0;34m)\u001b[0m\u001b[0;34m\u001b[0m\u001b[0;34m\u001b[0m\u001b[0m\n\u001b[1;32m     34\u001b[0m \u001b[0;34m\u001b[0m\u001b[0m\n",
      "\u001b[0;32m~/anaconda3/envs/condatorch/lib/python3.7/site-packages/torch/distributions/utils.py\u001b[0m in \u001b[0;36m<listcomp>\u001b[0;34m(.0)\u001b[0m\n\u001b[1;32m     30\u001b[0m                 \u001b[0;32mbreak\u001b[0m\u001b[0;34m\u001b[0m\u001b[0;34m\u001b[0m\u001b[0m\n\u001b[1;32m     31\u001b[0m         values = [v if torch.is_tensor(v) else torch.tensor(v, **options)\n\u001b[0;32m---> 32\u001b[0;31m                   for v in values]\n\u001b[0m\u001b[1;32m     33\u001b[0m     \u001b[0;32mreturn\u001b[0m \u001b[0mtorch\u001b[0m\u001b[0;34m.\u001b[0m\u001b[0mbroadcast_tensors\u001b[0m\u001b[0;34m(\u001b[0m\u001b[0;34m*\u001b[0m\u001b[0mvalues\u001b[0m\u001b[0;34m)\u001b[0m\u001b[0;34m\u001b[0m\u001b[0;34m\u001b[0m\u001b[0m\n\u001b[1;32m     34\u001b[0m \u001b[0;34m\u001b[0m\u001b[0m\n",
      "\u001b[0;31mKeyboardInterrupt\u001b[0m: "
     ]
    },
    {
     "data": {
      "image/png": "[encoded data removed]",
      "text/plain": [
       "<Figure size 432x288 with 1 Axes>"
      ]
     },
     "metadata": {
      "needs_background": "light"
     },
     "output_type": "display_data"
    }
   ],
   "source": [
    "print_info_ = 1\n",
    "\n",
    "torch_log_2 = torch.tensor(np.log(2.), device=args.device, dtype=args.torchType)\n",
    "\n",
    "if args.step_conditioning == 'fixed':\n",
    "    cond_vectors = [args.std_normal.sample((args.z_dim, )) for _ in range(args.K)]\n",
    "else:\n",
    "    cond_vectors = [None] * args.K\n",
    "\n",
    "\n",
    "def compute_loss(z_new, p_new, u, p_old, x, sum_log_alpha, sum_log_jac, sum_log_sigma):\n",
    "    log_p = target.get_logdensity(z=z_new, x=x) + args.std_normal.log_prob(p_new).sum(1)\n",
    "    log_r = -args.K * torch_log_2\n",
    "    log_m = args.std_normal.log_prob(u).sum(1) + args.std_normal.log_prob(p_old).sum(1) - sum_log_jac - sum_log_sigma + sum_log_alpha\n",
    "    elbo_full = log_p + log_r - log_m\n",
    "    grad_elbo = torch.mean(elbo_full + elbo_full.detach() * sum_log_alpha)\n",
    "    return elbo_full, grad_elbo\n",
    "  \n",
    "# with torch.autograd.detect_anomaly():\n",
    "for ep in tqdm(range(args.num_epoches)): # cycle over epoches\n",
    "    for b_num, batch_train in enumerate(dataset.next_train_batch()): # cycle over batches\n",
    "        if args.step_conditioning == 'free':\n",
    "            cond_vectors = [args.std_normal.sample((args.z_dim, )) for _ in range(args.K)]\n",
    "        optimizer.zero_grad()\n",
    "\n",
    "        mu, sigma = encoder(batch_train) # sample mu and sigma from encoder\n",
    "        u = args.std_normal.sample(mu.shape) # sample random tensor for reparametrization trick\n",
    "        z = mu + sigma * u # reperametrization trick\n",
    "        p_old = args.std_normal.sample(mu.shape)\n",
    "\n",
    "        sum_log_alpha = torch.zeros(mu.shape[0], dtype=args.torchType, device=args.device) # for grad log alpha accumulation\n",
    "        sum_log_jacobian = torch.zeros(mu.shape[0], dtype=args.torchType, device=args.device) # for log_jacobian accumulation\n",
    "        sum_log_sigma = torch.sum(torch.log(sigma), 1)\n",
    "        p = p_old\n",
    "        for k in range(args.K):\n",
    "            # sample alpha - transition probabilities \n",
    "            z, p, log_jac, current_log_alphas, directions, _ = transitions[k].make_transition(q_old=z, x=batch_train,\n",
    "                                                                p_old=p, k=cond_vectors[k], target_distr=target) # sample a_i -- directions\n",
    "\n",
    "            if ep  % print_info_ == 0 and b_num % (100 * print_info_) == 0:\n",
    "                print('On batch number {}/{} and on k = {} we have for  0: {} and for +1: {}'.format(b_num + 1,\n",
    "                                                                        dataset.train.shape[0] // args['train_batch_size'],\n",
    "                                                                           k + 1,\n",
    "                                                    (directions==0.).to(float).mean(),\n",
    "                                                                (directions==1.).to(float).mean()))\n",
    "            # Accumulate alphas\n",
    "            sum_log_alpha = sum_log_alpha + current_log_alphas\n",
    "            sum_log_jacobian = sum_log_jacobian + log_jac  # refresh log jacobian\n",
    "\n",
    "        elbo_full, grad_elbo = compute_loss(z_new=z, p_new=p, u=u, p_old=p_old, x=batch_train, sum_log_alpha=sum_log_alpha,\n",
    "                                            sum_log_jac=sum_log_jacobian, sum_log_sigma=sum_log_sigma)\n",
    "    #     pdb.set_trace()\n",
    "        (-grad_elbo).backward()\n",
    "        optimizer.step()\n",
    "        optimizer.zero_grad()\n",
    "        # Bias squared\n",
    "    if ep % print_info_ == 0:\n",
    "        print('Current epoch:', (ep + 1), '\\t', 'Current ELBO:', elbo_full.detach().mean().item())\n",
    "        plot_digit_samples(samples=get_samples(target.decoder, random_code), args=args, epoch=ep)"
   ]
  },
  {
   "cell_type": "code",
   "execution_count": null,
   "metadata": {},
   "outputs": [],
   "source": []
  }
 ],
 "metadata": {
  "kernelspec": {
   "display_name": "Condatorch",
   "language": "python",
   "name": "condatorch"
  },
  "language_info": {
   "codemirror_mode": {
    "name": "ipython",
    "version": 3
   },
   "file_extension": ".py",
   "mimetype": "text/x-python",
   "name": "python",
   "nbconvert_exporter": "python",
   "pygments_lexer": "ipython3",
   "version": "3.7.6"
  }
 },
 "nbformat": 4,
 "nbformat_minor": 4
}
