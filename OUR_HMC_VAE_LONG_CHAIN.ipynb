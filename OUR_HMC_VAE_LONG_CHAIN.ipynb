{
 "cells": [
  {
   "cell_type": "code",
   "execution_count": 1,
   "metadata": {},
   "outputs": [],
   "source": [
    "import torch\n",
    "import numpy as np\n",
    "import random\n",
    "import torch.nn as nn\n",
    "import torch.nn.functional as F\n",
    "import itertools\n",
    "import pdb\n",
    "from tqdm import tqdm\n",
    "import matplotlib.pyplot as plt\n",
    "%matplotlib inline\n",
    "\n",
    "import sys\n",
    "\n",
    "sys.path.insert(0, './src')\n",
    "\n",
    "from data import Dataset\n",
    "from kernels import HMC_our, HMC_vanilla, Reverse_kernel\n",
    "from models import Gen_network, Inf_network\n",
    "from target import NN_bernoulli\n",
    "from utils import plot_digit_samples, get_samples\n",
    "from args import get_args"
   ]
  },
  {
   "cell_type": "code",
   "execution_count": 2,
   "metadata": {},
   "outputs": [],
   "source": [
    "torchType = torch.float32"
   ]
  },
  {
   "cell_type": "code",
   "execution_count": 3,
   "metadata": {},
   "outputs": [],
   "source": [
    "def set_seeds(rand_seed):\n",
    "#     torch.cuda.manual_seed_all(rand_seed)\n",
    "    torch.backends.cudnn.deterministic = True\n",
    "    torch.backends.cudnn.benchmark = False\n",
    "    torch.manual_seed(rand_seed)\n",
    "    np.random.seed(rand_seed)\n",
    "    random.seed(rand_seed)\n",
    "\n",
    "seed = 1 # 1337 #\n",
    "set_seeds(seed)"
   ]
  },
  {
   "cell_type": "code",
   "execution_count": 4,
   "metadata": {},
   "outputs": [],
   "source": [
    "args = get_args()"
   ]
  },
  {
   "cell_type": "code",
   "execution_count": 5,
   "metadata": {},
   "outputs": [],
   "source": [
    "encoder = Inf_network(kwargs=args).to(args.device)\n",
    "target = NN_bernoulli(kwargs=args, model=Gen_network(args.z_dim, args), device=args.device).to(args.device)\n",
    "\n",
    "if args.learnable_reverse:\n",
    "    reverse_kernel = Reverse_kernel(kwargs=args).to(args.device)\n",
    "    reverse_params = reverse_kernel.parameters()\n",
    "else:\n",
    "    reverse_params = list([])\n",
    "\n",
    "\n",
    "if args.amortize:\n",
    "    transitions = HMC_our(kwargs=args).to(args.device)\n",
    "else:\n",
    "    transitions = nn.ModuleList([HMC_our(kwargs=args).to(args.device) for _ in range(args['K'])])\n",
    "for p in transitions.parameters():\n",
    "    transitions.requires_grad_(False)\n",
    "params = [encoder.parameters(), target.parameters(),reverse_params]\n",
    "optimizer = torch.optim.Adam(params=itertools.chain(*params), lr=1e-3)"
   ]
  },
  {
   "cell_type": "code",
   "execution_count": 6,
   "metadata": {},
   "outputs": [],
   "source": [
    "dataset = Dataset(args, device=args.device)"
   ]
  },
  {
   "cell_type": "code",
   "execution_count": 7,
   "metadata": {},
   "outputs": [],
   "source": [
    "random_code = args.std_normal.sample((64, args.z_dim))"
   ]
  },
  {
   "cell_type": "code",
   "execution_count": null,
   "metadata": {},
   "outputs": [
    {
     "name": "stderr",
     "output_type": "stream",
     "text": [
      "  0%|          | 0/500 [00:00<?, ?it/s]"
     ]
    },
    {
     "name": "stdout",
     "output_type": "stream",
     "text": [
      "On batch number 1/100 and on k = 1 we have for  0: 0.5040000239387155 and for +1: 0.49600002355873585\n",
      "Stepsize 0.009999999360491285\n",
      "Autoregression coeff 0.5\n",
      "On batch number 1/100 and on k = 2 we have for  0: 0.49000002327375114 and for +1: 0.5100000242237002\n",
      "Stepsize 0.009999999360491285\n",
      "Autoregression coeff 0.5\n",
      "On batch number 1/100 and on k = 3 we have for  0: 0.49600002355873585 and for +1: 0.5040000239387155\n",
      "Stepsize 0.009999999360491285\n",
      "Autoregression coeff 0.5\n",
      "On batch number 1/100 and on k = 4 we have for  0: 0.48800002317875624 and for +1: 0.5120000243186951\n",
      "Stepsize 0.009999999360491285\n",
      "Autoregression coeff 0.5\n",
      "On batch number 1/100 and on k = 5 we have for  0: 0.472000022418797 and for +1: 0.5280000250786543\n",
      "Stepsize 0.009999999360491285\n",
      "Autoregression coeff 0.5\n",
      "On batch number 1/100 and on k = 6 we have for  0: 0.48600002308376133 and for +1: 0.51400002441369\n",
      "Stepsize 0.009999999360491285\n",
      "Autoregression coeff 0.5\n",
      "On batch number 1/100 and on k = 7 we have for  0: 0.5120000243186951 and for +1: 0.48800002317875624\n",
      "Stepsize 0.009999999360491285\n",
      "Autoregression coeff 0.5\n",
      "On batch number 1/100 and on k = 8 we have for  0: 0.4560000216588378 and for +1: 0.5440000258386135\n",
      "Stepsize 0.009999999360491285\n",
      "Autoregression coeff 0.5\n",
      "On batch number 1/100 and on k = 9 we have for  0: 0.5080000241287053 and for +1: 0.49200002336874604\n",
      "Stepsize 0.009999999360491285\n",
      "Autoregression coeff 0.5\n",
      "On batch number 1/100 and on k = 10 we have for  0: 0.534000025363639 and for +1: 0.4660000221338123\n",
      "Stepsize 0.009999999360491285\n",
      "Autoregression coeff 0.5\n",
      "Current epoch: 1 \t Current ELBO: -1169.00927734375\n"
     ]
    }
   ],
   "source": [
    "print_info_ = 1\n",
    "\n",
    "torch_log_2 = torch.tensor(np.log(2.), device=args.device, dtype=args.torchType)\n",
    "\n",
    "\n",
    "def compute_loss(z_new, p_new, u, z_old, p_old, x, sum_log_alpha, sum_log_jac, sum_log_sigma, mu=None, sigma = None, all_directions=None):\n",
    "    log_p = target.get_logdensity(z=z, x=x) + args.std_normal.log_prob(p).sum(1)\n",
    "    if args.learnable_reverse:\n",
    "        log_r = reverse_kernel(z_fin=z_new, mu=mu.detach(), a=all_directions)\n",
    "        log_m = args.std_normal.log_prob(u).sum(1) + args.std_normal.log_prob(p_old).sum(1) - sum_log_jac - sum_log_sigma + sum_log_alpha\n",
    "    else:\n",
    "        log_r = 0 #-args.K * torch_log_2\n",
    "        log_m = args.std_normal.log_prob(u).sum(1) + args.std_normal.log_prob(p_old).sum(1) - sum_log_jac - sum_log_sigma #+ sum_log_alpha\n",
    "    \n",
    "    elbo_full = log_p + log_r - log_m\n",
    "    current_grad = torch.mean(log_p + log_r  + (sum_log_alpha  - sum_log_sigma - torch.sum((z-mu)/sigma * u, 1)) * (elbo_full.detach()-torch.tensor(1., dtype=args.torchType, device=args.device)))\n",
    "    return elbo_full, current_grad\n",
    "\n",
    "\n",
    "# with torch.autograd.detect_anomaly():\n",
    "for ep in tqdm(range(args.num_epoches)): # cycle over epoches\n",
    "    for b_num, batch_train in enumerate(dataset.next_train_batch()): # cycle over batches\n",
    "        cond_vectors = [args.std_normal.sample((args.z_dim, )) for _ in range(args.K)]\n",
    "        optimizer.zero_grad()\n",
    "\n",
    "        mu, sigma = encoder(batch_train) # sample mu and sigma from encoder\n",
    "        y = args.std_normal.sample(mu.shape) # sample random tensor for reparametrization trick\n",
    "        z = mu + sigma * y # reperametrization trick\n",
    "        p_old = args.std_normal.sample(mu.shape)\n",
    "\n",
    "        sum_log_alpha = torch.zeros(mu.shape[0], dtype=args.torchType, device=args.device) # for grad log alpha accumulation\n",
    "        sum_log_jacobian = torch.zeros(mu.shape[0], dtype=args.torchType, device=args.device) # for log_jacobian accumulation\n",
    "        sum_log_sigma = torch.sum(torch.log(sigma), 1)\n",
    "        p_old = p_old.detach()\n",
    "        p = p_old\n",
    "        z = z.detach()\n",
    "        z_old = z\n",
    "        #sum_grad = -sum_log_sigma + args.std_normal.log_prob(y).sum(1) + args.std_normal.log_prob(p_old).sum(1)\n",
    "        if args.learnable_reverse:\n",
    "            all_directions = torch.tensor([], device=args.device)\n",
    "        else:\n",
    "            all_directions = None\n",
    "        for k in range(args.K):\n",
    "            # sample alpha - transition probabilities \n",
    "            if args.amortize:\n",
    "                z, p, log_jac, current_log_alphas, directions, _ = transitions.make_transition(q_old=z, x=batch_train,\n",
    "                                                    p_old=p, k=cond_vectors[k], target_distr=target)\n",
    "            else:\n",
    "                z, p, log_jac, current_log_alphas, directions, _ = transitions[k].make_transition(q_old=z, x=batch_train,\n",
    "                                                                    p_old=p, k=cond_vectors[k], target_distr=target) # sample a_i -- directions\n",
    "            z = z.detach()\n",
    "            p = p.detach()\n",
    "            if ep  % print_info_ == 0 and b_num % (100 * print_info_) == 0:\n",
    "                print('On batch number {}/{} and on k = {} we have for  0: {} and for +1: {}'.format(b_num + 1,\n",
    "                                                                        dataset.train.shape[0] // args['train_batch_size'],\n",
    "                                                                           k + 1,\n",
    "                                                    (directions==0.).to(float).mean(),\n",
    "                                                                    (directions==1.).to(float).mean()))\n",
    "                \n",
    "                if args.amortize:\n",
    "                    print('Stepsize {}'.format(np.exp(transitions.gamma.cpu().detach().item())))\n",
    "                    print('Autoregression coeff {}'.format(torch.sigmoid(transitions.alpha_logit).cpu().detach().item()))\n",
    "            if args.learnable_reverse:\n",
    "                all_directions = torch.cat([all_directions, directions.detach().view(-1, 1)], dim=1)\n",
    "            sum_log_alpha += current_log_alphas\n",
    "            sum_log_jacobian += log_jac\n",
    "            \n",
    "        elbo_full, grad_elbo = compute_loss(z_new=z, p_new=p, u=y, z_old = z_old, p_old=p_old, x=batch_train, sum_log_alpha=sum_log_alpha,\n",
    "                                            sum_log_jac=sum_log_jacobian, sum_log_sigma=sum_log_sigma, mu=mu,sigma = sigma, all_directions=all_directions)\n",
    "        #sum_grad = torch.mean(sum_grad + current_grad)\n",
    "        (-grad_elbo).backward()\n",
    "        optimizer.step()\n",
    "        optimizer.zero_grad()\n",
    "        if ep  % print_info_ == 0 and b_num % (100 * print_info_) == 0:\n",
    "            print('Current epoch:', (ep + 1), '\\t', 'Current ELBO:', elbo_full.detach().mean().item())\n",
    "        # Bias squared\n",
    "    if ep % print_info_ == 0:\n",
    "        print('Current epoch:', (ep + 1), '\\t', 'Current ELBO:', elbo_full.detach().mean().item())\n",
    "        plot_digit_samples(samples=get_samples(target.decoder, random_code), args=args, epoch=ep)"
   ]
  },
  {
   "cell_type": "code",
   "execution_count": null,
   "metadata": {
    "collapsed": true,
    "jupyter": {
     "outputs_hidden": true
    }
   },
   "outputs": [],
   "source": []
  }
 ],
 "metadata": {
  "kernelspec": {
   "display_name": "Python 3",
   "language": "python",
   "name": "python3"
  },
  "language_info": {
   "codemirror_mode": {
    "name": "ipython",
    "version": 3
   },
   "file_extension": ".py",
   "mimetype": "text/x-python",
   "name": "python",
   "nbconvert_exporter": "python",
   "pygments_lexer": "ipython3",
   "version": "3.6.8"
  }
 },
 "nbformat": 4,
 "nbformat_minor": 4
}
