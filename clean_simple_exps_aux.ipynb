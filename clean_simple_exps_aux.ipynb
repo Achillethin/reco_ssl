{
 "cells": [
  {
   "cell_type": "code",
   "execution_count": 1,
   "metadata": {},
   "outputs": [],
   "source": [
    "import torch\n",
    "import torch.nn as nn\n",
    "import torch.nn.functional as F\n",
    "from tqdm import tqdm\n",
    "import pdb\n",
    "import matplotlib.pyplot as plt\n",
    "import numpy as np\n",
    "from kernels import HMC_vanilla, HMC_our, Reverse_kernel\n",
    "\n",
    "%matplotlib inline\n",
    "\n",
    "import random\n",
    "\n",
    "import pyro\n",
    "import pyro.distributions as dist\n",
    "import pyro.poutine as poutine\n",
    "from pyro.infer import MCMC, NUTS"
   ]
  },
  {
   "cell_type": "code",
   "execution_count": 2,
   "metadata": {},
   "outputs": [],
   "source": [
    "def set_seeds(rand_seed):\n",
    "    torch.backends.cudnn.deterministic = True\n",
    "    torch.backends.cudnn.benchmark = False\n",
    "    torch.manual_seed(rand_seed)\n",
    "    np.random.seed(rand_seed)\n",
    "    random.seed(rand_seed)\n",
    "    torch.cuda.manual_seed_all(rand_seed)\n",
    "\n",
    "set_seeds(1)"
   ]
  },
  {
   "cell_type": "code",
   "execution_count": 3,
   "metadata": {},
   "outputs": [],
   "source": [
    "class Encoder_vae(nn.Module):\n",
    "    def __init__(self, data_dim, z_dim, K=8):\n",
    "        super(Encoder_vae, self).__init__()\n",
    "        self.h1 = nn.Linear(in_features=data_dim, out_features=K)\n",
    "        self.h2 = nn.Linear(in_features=K, out_features=K)\n",
    "        self.mu = nn.Linear(in_features=K, out_features=z_dim)\n",
    "        self.sigma = nn.Linear(in_features=K, out_features=z_dim)\n",
    "    def forward(self, x):\n",
    "        h1 = F.selu(self.h1(x))\n",
    "        h2 = F.selu(self.h2(h1))\n",
    "        return self.mu(h2), F.softplus(self.sigma(h2))\n",
    "    \n",
    "class Decoder(nn.Module):\n",
    "    def __init__(self, data_dim, z_dim):\n",
    "        super(Decoder, self).__init__()\n",
    "        self.W = nn.Linear(in_features=z_dim, out_features=data_dim, bias=False)\n",
    "    def forward(self, z):\n",
    "        return self.W(z)"
   ]
  },
  {
   "cell_type": "markdown",
   "metadata": {},
   "source": [
    "# Notebook with simple experiments"
   ]
  },
  {
   "cell_type": "markdown",
   "metadata": {},
   "source": [
    "## Task 1"
   ]
  },
  {
   "cell_type": "markdown",
   "metadata": {},
   "source": [
    "### Receiving of the true $\\theta$ and generating of a dataset"
   ]
  },
  {
   "cell_type": "code",
   "execution_count": 4,
   "metadata": {},
   "outputs": [],
   "source": [
    "device = \"cuda:0\" if torch.cuda.is_available() else \"cpu\"\n",
    "\n",
    "z_dim = 2 # Latent space dimensionality\n",
    "data_dim = 10 # Data dimensionality\n",
    "N = 10000 # Dataset size\n",
    "N_val = 1000 # Validation Dataset\n",
    "\n",
    "sigma_0 = 1. # True std"
   ]
  },
  {
   "cell_type": "code",
   "execution_count": 5,
   "metadata": {},
   "outputs": [
    {
     "name": "stdout",
     "output_type": "stream",
     "text": [
      "True decoder matrix\n",
      "tensor([[-0.2963,  2.6764, -0.1408, -0.8441,  0.2905, -0.2838, -1.4535,  2.3737,\n",
      "         -0.0177, -2.7884],\n",
      "        [-0.3788,  0.7046, -1.3956, -0.1248, -0.9259, -1.5463, -0.4902,  0.0244,\n",
      "         -1.5992, -0.8469]], device='cuda:0')\n",
      "----------------------------------------------------------------------------------------------------\n",
      "Generated data example:\n",
      "tensor([[1., 0., 1., 0., 1., 1., 1., 0., 1., 1.],\n",
      "        [1., 0., 0., 1., 1., 1., 1., 1., 1., 1.],\n",
      "        [0., 1., 0., 1., 1., 0., 0., 1., 1., 1.],\n",
      "        [1., 0., 1., 1., 1., 1., 0., 0., 1., 1.],\n",
      "        [0., 1., 1., 1., 1., 1., 0., 1., 0., 1.],\n",
      "        [0., 1., 0., 0., 1., 0., 0., 0., 0., 0.],\n",
      "        [1., 1., 1., 0., 1., 0., 0., 1., 0., 0.],\n",
      "        [1., 0., 0., 1., 1., 0., 1., 0., 0., 1.],\n",
      "        [0., 0., 0., 0., 0., 0., 0., 0., 0., 0.],\n",
      "        [1., 0., 0., 0., 0., 1., 1., 0., 1., 1.]], device='cuda:0')\n"
     ]
    }
   ],
   "source": [
    "std_normal = torch.distributions.Normal(loc=torch.tensor(0., device=device),\n",
    "                                                scale=torch.tensor(1., device=device))\n",
    "std_normal_pyro = torch.distributions.Normal(loc=torch.tensor(0., device=device),\n",
    "                                                scale=torch.tensor(1., device=device))\n",
    "true_theta = std_normal.sample((z_dim, data_dim)) * sigma_0\n",
    "print('True decoder matrix')\n",
    "print(true_theta)\n",
    "print('-' * 100)\n",
    "\n",
    "data_probs = torch.sigmoid(std_normal.sample((N, z_dim)) @ true_theta)\n",
    "data = torch.distributions.Bernoulli(probs=data_probs).sample()\n",
    "\n",
    "data_probs_val = torch.sigmoid(std_normal.sample((N_val, z_dim)) @ true_theta)\n",
    "data_val = torch.distributions.Bernoulli(probs=data_probs_val).sample()\n",
    "\n",
    "print('Generated data example:')\n",
    "print(data[:10])"
   ]
  },
  {
   "cell_type": "code",
   "execution_count": 6,
   "metadata": {},
   "outputs": [
    {
     "name": "stdout",
     "output_type": "stream",
     "text": [
      "!!!!!\n",
      "OK!\n"
     ]
    }
   ],
   "source": [
    "print('!!!!!')\n",
    "previous_theta = torch.tensor([[-0.296278  ,  2.676448  , -0.1408463 , -0.84409505,  0.29053846,\n",
    "        -0.28383088, -1.4534557 ,  2.3736813 , -0.01774164, -2.7884495 ],\n",
    "       [-0.37882465,  0.7045725 , -1.3956138 , -0.12478404, -0.9258568 ,\n",
    "        -1.5463208 , -0.49016267,  0.02436782, -1.5992415 , -0.8468648 ]], dtype=torch.float32, device=device)\n",
    "assert(np.abs(previous_theta.cpu().numpy() - true_theta.cpu().numpy()) < 1e-8).all()\n",
    "print('OK!')"
   ]
  },
  {
   "cell_type": "markdown",
   "metadata": {},
   "source": [
    "## Task 2"
   ]
  },
  {
   "cell_type": "markdown",
   "metadata": {},
   "source": [
    "### Sample z with target $p(z|x)$, using NUTS"
   ]
  },
  {
   "cell_type": "markdown",
   "metadata": {},
   "source": [
    "#### 1) Bernoulli likelihood from torch"
   ]
  },
  {
   "cell_type": "code",
   "execution_count": 7,
   "metadata": {},
   "outputs": [],
   "source": [
    "n_warmup = 2000\n",
    "n_samples = 1000\n",
    "\n",
    "data_ind = 0  #  index of datapoint we conditioned on"
   ]
  },
  {
   "cell_type": "code",
   "execution_count": 8,
   "metadata": {},
   "outputs": [],
   "source": [
    "def potential_fn(z):\n",
    "    z = z['points']\n",
    "    probs = torch.sigmoid(z @ true_theta)\n",
    "    return -torch.sum(pyro.distributions.Bernoulli(probs=probs).log_prob(data[data_ind][None]).sum(1) + std_normal_pyro.log_prob(z).sum(1))"
   ]
  },
  {
   "cell_type": "code",
   "execution_count": 9,
   "metadata": {},
   "outputs": [
    {
     "name": "stderr",
     "output_type": "stream",
     "text": [
      "Sample: 100%|██████████| 3000/3000 [00:22, 133.99it/s, step size=8.18e-01, acc. prob=0.910]\n"
     ]
    }
   ],
   "source": [
    "init_samples = std_normal_pyro.sample((1, z_dim))\n",
    "init_params = {'points': init_samples}\n",
    "\n",
    "nuts_kernel = NUTS(potential_fn=potential_fn)\n",
    "mcmc = MCMC(nuts_kernel,\n",
    "            initial_params=init_params,\n",
    "            num_samples=n_samples,\n",
    "            warmup_steps=n_warmup)\n",
    "\n",
    "mcmc.run()\n",
    "z = mcmc.get_samples()['points'].squeeze()"
   ]
  },
  {
   "cell_type": "code",
   "execution_count": 10,
   "metadata": {},
   "outputs": [
    {
     "data": {
      "image/png": "[encoded data removed]",
      "text/plain": [
       "<Figure size 1200x900 with 1 Axes>"
      ]
     },
     "metadata": {
      "needs_background": "light"
     },
     "output_type": "display_data"
    }
   ],
   "source": [
    "plt.figure(figsize=(4, 3), dpi=300)\n",
    "plt.scatter(z[:, 0].cpu(), z[:, 1].cpu(), label='posterior samples', s=10, alpha=0.5)\n",
    "plt.legend()\n",
    "plt.axis('equal');"
   ]
  },
  {
   "cell_type": "code",
   "execution_count": null,
   "metadata": {
    "collapsed": true,
    "jupyter": {
     "outputs_hidden": true
    }
   },
   "outputs": [],
   "source": []
  },
  {
   "cell_type": "markdown",
   "metadata": {},
   "source": [
    "### Sample z with target $p(z|x)$, using our HMC"
   ]
  },
  {
   "cell_type": "code",
   "execution_count": 11,
   "metadata": {},
   "outputs": [],
   "source": [
    "class dotdict(dict):\n",
    "    \"\"\"dot.notation access to dictionary attributes\"\"\"\n",
    "    __getattr__ = dict.get\n",
    "    __setattr__ = dict.__setitem__\n",
    "    __delattr__ = dict.__delitem__\n",
    "    \n",
    "args = dotdict({})\n",
    "\n",
    "args.device = device\n",
    "\n",
    "args.N = 5\n",
    "\n",
    "args.alpha = 0.5\n",
    "args.use_partialref = False\n",
    "\n",
    "args.gamma = 0.1\n",
    "args.use_barker = False"
   ]
  },
  {
   "cell_type": "code",
   "execution_count": 12,
   "metadata": {},
   "outputs": [],
   "source": [
    "class Target():\n",
    "    def __init__(self,):\n",
    "        pass\n",
    "    def get_logdensity(self, z, x):\n",
    "        probs = torch.sigmoid(z @ true_theta)\n",
    "        return torch.distributions.Bernoulli(probs=probs).log_prob(x).sum(1) + std_normal.log_prob(z).sum(1)\n",
    "target = Target()"
   ]
  },
  {
   "cell_type": "code",
   "execution_count": 13,
   "metadata": {},
   "outputs": [
    {
     "name": "stderr",
     "output_type": "stream",
     "text": [
      "  1%|          | 15/2000 [00:00<00:13, 149.20it/s]"
     ]
    },
    {
     "name": "stdout",
     "output_type": "stream",
     "text": [
      "Warm up\n"
     ]
    },
    {
     "name": "stderr",
     "output_type": "stream",
     "text": [
      "100%|██████████| 2000/2000 [00:13<00:00, 149.60it/s]\n",
      "  2%|▏         | 15/1000 [00:00<00:06, 149.72it/s]"
     ]
    },
    {
     "name": "stdout",
     "output_type": "stream",
     "text": [
      "Sampling\n"
     ]
    },
    {
     "name": "stderr",
     "output_type": "stream",
     "text": [
      "100%|██████████| 1000/1000 [00:06<00:00, 149.64it/s]\n"
     ]
    }
   ],
   "source": [
    "transitions = HMC_vanilla(args)\n",
    "z = std_normal.sample((1, z_dim))\n",
    "momentum = std_normal.sample(z.shape)\n",
    "\n",
    "print('Warm up')\n",
    "for i in tqdm(range(n_warmup)):\n",
    "    z, momentum, _, _, _, _ = transitions.make_transition(z, momentum, target, x=data[data_ind][None])\n",
    "    \n",
    "print('Sampling')\n",
    "samples = []\n",
    "for i in tqdm(range(n_samples)):\n",
    "    z, momentum, _, _, _, _ = transitions.make_transition(z, momentum, target, x=data[data_ind][None])\n",
    "    samples.append(z.cpu().detach().numpy())"
   ]
  },
  {
   "cell_type": "code",
   "execution_count": 14,
   "metadata": {},
   "outputs": [
    {
     "data": {
      "image/png": "[encoded data removed]",
      "text/plain": [
       "<Figure size 1200x900 with 1 Axes>"
      ]
     },
     "metadata": {
      "needs_background": "light"
     },
     "output_type": "display_data"
    }
   ],
   "source": [
    "samples = np.array(samples).squeeze()\n",
    "\n",
    "plt.figure(figsize=(4, 3), dpi=300)\n",
    "plt.scatter(samples[:, 0], samples[:, 1], label='posterior samples', s=10, alpha=0.5)\n",
    "plt.legend()\n",
    "plt.axis('equal');"
   ]
  },
  {
   "cell_type": "code",
   "execution_count": null,
   "metadata": {
    "collapsed": true,
    "jupyter": {
     "outputs_hidden": true
    }
   },
   "outputs": [],
   "source": []
  },
  {
   "cell_type": "code",
   "execution_count": null,
   "metadata": {
    "collapsed": true,
    "jupyter": {
     "outputs_hidden": true
    }
   },
   "outputs": [],
   "source": []
  },
  {
   "cell_type": "markdown",
   "metadata": {},
   "source": [
    "## Task 3"
   ]
  },
  {
   "cell_type": "markdown",
   "metadata": {},
   "source": [
    "### EVALUATING THETA"
   ]
  },
  {
   "cell_type": "code",
   "execution_count": 6,
   "metadata": {
    "collapsed": true,
    "jupyter": {
     "outputs_hidden": true
    }
   },
   "outputs": [],
   "source": [
    "### How to evaluate\n",
    "### Distribution of Z latent space is invariant by any orthogonal transformation\n",
    "### Compute the min of the norm of difference of theta_0 - Orthogonal * hat_theta\n",
    "### Allow you to retrive the invariance of latent space wrt orthogonal transformation\n",
    "def r_phi(phi):\n",
    "    return np.array([[np.cos(phi), -np.sin(phi)], [np.sin(phi),np.cos(phi)]])\n",
    "\n",
    "def r_phi_ref(phi):\n",
    "    return np.array([[np.cos(phi), np.sin(phi)], [np.sin(phi), -np.cos(phi)]])\n",
    "\n",
    "def eval(theta_0, hat_theta, n_phi):\n",
    "    phis = np.linspace(0, 2* np.pi, n_phi)\n",
    "    l = []\n",
    "    ####Want to compute norm of theta_0 - R * hat_theta\n",
    "    #### Any norm is good, svd or \n",
    "    for p in phis:\n",
    "        #s = np.linalg.svd(theta_0.cpu().detach().numpy()- r_phi(p)@hat_theta.cpu().detach().numpy(), compute_uv = False)\n",
    "        #s_ref = np.linalg.svd(theta_0.cpu().detach().numpy() - r_phi_ref(p)@hat_theta.cpu().detach().numpy(), compute_uv = False)\n",
    "        #l.append(np.sum(s**2))\n",
    "        #l.append(np.sum(s_ref**2))\n",
    "        l.append(np.linalg.norm(theta_0.cpu().detach().numpy()- r_phi(p)@hat_theta.cpu().detach().numpy()))\n",
    "        l.append(np.linalg.norm(theta_0.cpu().detach().numpy()- r_phi_ref(p)@hat_theta.cpu().detach().numpy()))\n",
    "    return min(l)\n",
    "\n"
   ]
  },
  {
   "cell_type": "code",
   "execution_count": 72,
   "metadata": {},
   "outputs": [
    {
     "data": {
      "text/plain": [
       "6.3329787"
      ]
     },
     "execution_count": 72,
     "metadata": {},
     "output_type": "execute_result"
    }
   ],
   "source": []
  },
  {
   "cell_type": "markdown",
   "metadata": {},
   "source": [
    "\n",
    "#### Fisher's identity, our HMC\n",
    "\n"
   ]
  },
  {
   "cell_type": "code",
   "execution_count": 17,
   "metadata": {},
   "outputs": [],
   "source": [
    "num_epoches = 100\n",
    "batch_size = 200\n",
    "\n",
    "\n",
    "print_info_ = 5\n",
    "\n",
    "K_wu = 70\n",
    "K_s = 30\n",
    "args.N = 2\n",
    "\n",
    "dataloader = torch.utils.data.DataLoader(data, batch_size=batch_size, shuffle=True)\n",
    "\n",
    "dec_our_hmc_fisher = Decoder(data_dim=data_dim, z_dim=z_dim).to(device)\n",
    "optimizer = torch.optim.Adam(params=dec_our_hmc_fisher.parameters(), lr=1e-3)\n",
    "scheduler = torch.optim.lr_scheduler.ReduceLROnPlateau(optimizer, verbose=True, threshold=1e-2, eps=1e-6, mode='max')\n",
    "\n",
    "transitions = HMC_vanilla(args)\n",
    "\n"
   ]
  },
  {
   "cell_type": "code",
   "execution_count": 11,
   "metadata": {},
   "outputs": [],
   "source": [
    "\n",
    "class Target():\n",
    "    def __init__(self,):\n",
    "        pass\n",
    "    def get_logdensity(self, z, x):\n",
    "        probs = torch.sigmoid(dec_our_hmc_fisher(z))\n",
    "        return torch.distributions.Bernoulli(probs=probs).log_prob(x).sum(1) + std_normal.log_prob(z).sum(1)\n",
    "target = Target()\n"
   ]
  },
  {
   "cell_type": "code",
   "execution_count": 71,
   "metadata": {},
   "outputs": [
    {
     "name": "stderr",
     "output_type": "stream",
     "text": [
      "  1%|          | 1/100 [00:19<31:47, 19.26s/it]"
     ]
    },
    {
     "name": "stdout",
     "output_type": "stream",
     "text": [
      "obj mean over epoch: -0.6774089550971985\n",
      "obj: -0.6786472797393799\n",
      "true diff to theta:  34.90882365460733\n"
     ]
    },
    {
     "name": "stderr",
     "output_type": "stream",
     "text": [
      "  6%|▌         | 6/100 [01:54<29:38, 18.92s/it]"
     ]
    },
    {
     "name": "stdout",
     "output_type": "stream",
     "text": [
      "obj mean over epoch: -0.645768494606018\n",
      "obj: -0.639400064945221\n",
      "true diff to theta:  24.158165822244133\n"
     ]
    },
    {
     "name": "stderr",
     "output_type": "stream",
     "text": [
      " 11%|█         | 11/100 [03:42<32:06, 21.65s/it]"
     ]
    },
    {
     "name": "stdout",
     "output_type": "stream",
     "text": [
      "obj mean over epoch: -0.614772355556488\n",
      "obj: -0.6105393171310425\n",
      "true diff to theta:  15.686047715331533\n"
     ]
    },
    {
     "name": "stderr",
     "output_type": "stream",
     "text": [
      " 16%|█▌        | 16/100 [05:27<29:08, 20.81s/it]"
     ]
    },
    {
     "name": "stdout",
     "output_type": "stream",
     "text": [
      "obj mean over epoch: -0.5907112038135529\n",
      "obj: -0.580992579460144\n",
      "true diff to theta:  9.882463714211653\n"
     ]
    },
    {
     "name": "stderr",
     "output_type": "stream",
     "text": [
      " 21%|██        | 21/100 [07:08<27:37, 20.98s/it]"
     ]
    },
    {
     "name": "stdout",
     "output_type": "stream",
     "text": [
      "obj mean over epoch: -0.5774281263351441\n",
      "obj: -0.5613259077072144\n",
      "true diff to theta:  6.547752373875408\n"
     ]
    },
    {
     "name": "stderr",
     "output_type": "stream",
     "text": [
      " 26%|██▌       | 26/100 [08:47<24:27, 19.84s/it]"
     ]
    },
    {
     "name": "stdout",
     "output_type": "stream",
     "text": [
      "obj mean over epoch: -0.5703528606891632\n",
      "obj: -0.5953282117843628\n",
      "true diff to theta:  4.53198022479597\n"
     ]
    },
    {
     "name": "stderr",
     "output_type": "stream",
     "text": [
      " 26%|██▌       | 26/100 [09:03<25:46, 20.90s/it]\n"
     ]
    },
    {
     "ename": "KeyboardInterrupt",
     "evalue": "",
     "output_type": "error",
     "traceback": [
      "\u001b[0;31m---------------------------------------------------------------------------\u001b[0m",
      "\u001b[0;31mKeyboardInterrupt\u001b[0m                         Traceback (most recent call last)",
      "\u001b[0;32m<ipython-input-71-af5a06d2f2ec>\u001b[0m in \u001b[0;36m<module>\u001b[0;34m\u001b[0m\n\u001b[1;32m     13\u001b[0m         \u001b[0mobj\u001b[0m \u001b[0;34m=\u001b[0m \u001b[0;36m0\u001b[0m\u001b[0;34m\u001b[0m\u001b[0;34m\u001b[0m\u001b[0m\n\u001b[1;32m     14\u001b[0m         \u001b[0;32mfor\u001b[0m \u001b[0m_\u001b[0m \u001b[0;32min\u001b[0m \u001b[0mrange\u001b[0m\u001b[0;34m(\u001b[0m\u001b[0mK_s\u001b[0m\u001b[0;34m)\u001b[0m\u001b[0;34m:\u001b[0m\u001b[0;34m\u001b[0m\u001b[0;34m\u001b[0m\u001b[0m\n\u001b[0;32m---> 15\u001b[0;31m             \u001b[0mz\u001b[0m\u001b[0;34m,\u001b[0m \u001b[0mmomentum\u001b[0m\u001b[0;34m,\u001b[0m \u001b[0m_\u001b[0m\u001b[0;34m,\u001b[0m \u001b[0m_\u001b[0m\u001b[0;34m,\u001b[0m \u001b[0m_\u001b[0m\u001b[0;34m,\u001b[0m \u001b[0m_\u001b[0m \u001b[0;34m=\u001b[0m \u001b[0mtransitions\u001b[0m\u001b[0;34m.\u001b[0m\u001b[0mmake_transition\u001b[0m\u001b[0;34m(\u001b[0m\u001b[0mz\u001b[0m\u001b[0;34m,\u001b[0m \u001b[0mmomentum\u001b[0m\u001b[0;34m,\u001b[0m \u001b[0mtarget\u001b[0m\u001b[0;34m,\u001b[0m \u001b[0mx\u001b[0m\u001b[0;34m=\u001b[0m\u001b[0mbatch_train\u001b[0m\u001b[0;34m)\u001b[0m\u001b[0;34m\u001b[0m\u001b[0;34m\u001b[0m\u001b[0m\n\u001b[0m\u001b[1;32m     16\u001b[0m             \u001b[0mprobs\u001b[0m \u001b[0;34m=\u001b[0m \u001b[0mtorch\u001b[0m\u001b[0;34m.\u001b[0m\u001b[0msigmoid\u001b[0m\u001b[0;34m(\u001b[0m\u001b[0mdec_our_hmc_fisher\u001b[0m\u001b[0;34m(\u001b[0m\u001b[0mz\u001b[0m\u001b[0;34m)\u001b[0m\u001b[0;34m)\u001b[0m\u001b[0;34m\u001b[0m\u001b[0;34m\u001b[0m\u001b[0m\n\u001b[1;32m     17\u001b[0m             \u001b[0mobj\u001b[0m \u001b[0;34m+=\u001b[0m \u001b[0mtorch\u001b[0m\u001b[0;34m.\u001b[0m\u001b[0mdistributions\u001b[0m\u001b[0;34m.\u001b[0m\u001b[0mBernoulli\u001b[0m\u001b[0;34m(\u001b[0m\u001b[0mprobs\u001b[0m\u001b[0;34m=\u001b[0m\u001b[0mprobs\u001b[0m\u001b[0;34m)\u001b[0m\u001b[0;34m.\u001b[0m\u001b[0mlog_prob\u001b[0m\u001b[0;34m(\u001b[0m\u001b[0mbatch_train\u001b[0m\u001b[0;34m)\u001b[0m\u001b[0;34m.\u001b[0m\u001b[0mmean\u001b[0m\u001b[0;34m(\u001b[0m\u001b[0;34m)\u001b[0m\u001b[0;34m\u001b[0m\u001b[0;34m\u001b[0m\u001b[0m\n",
      "\u001b[0;32m~/Documents/GitHub/hmc/kernels.py\u001b[0m in \u001b[0;36mmake_transition\u001b[0;34m(self, q_old, p_old, target_distr, k, x, flows, args, get_prior, prior_flow)\u001b[0m\n\u001b[1;32m    247\u001b[0m \u001b[0;34m\u001b[0m\u001b[0m\n\u001b[1;32m    248\u001b[0m         \u001b[0;31m############ Then we compute new points and densities ############\u001b[0m\u001b[0;34m\u001b[0m\u001b[0;34m\u001b[0m\u001b[0;34m\u001b[0m\u001b[0m\n\u001b[0;32m--> 249\u001b[0;31m         \u001b[0mq_upd\u001b[0m\u001b[0;34m,\u001b[0m \u001b[0mp_upd\u001b[0m \u001b[0;34m=\u001b[0m \u001b[0mself\u001b[0m\u001b[0;34m.\u001b[0m\u001b[0m_forward_step\u001b[0m\u001b[0;34m(\u001b[0m\u001b[0mq_old\u001b[0m\u001b[0;34m=\u001b[0m\u001b[0mq_old\u001b[0m\u001b[0;34m,\u001b[0m \u001b[0mp_old\u001b[0m\u001b[0;34m=\u001b[0m\u001b[0mp_ref\u001b[0m\u001b[0;34m,\u001b[0m \u001b[0mk\u001b[0m\u001b[0;34m=\u001b[0m\u001b[0mk\u001b[0m\u001b[0;34m,\u001b[0m \u001b[0mtarget\u001b[0m\u001b[0;34m=\u001b[0m\u001b[0mtarget_distr\u001b[0m\u001b[0;34m,\u001b[0m \u001b[0mx\u001b[0m\u001b[0;34m=\u001b[0m\u001b[0mx\u001b[0m\u001b[0;34m,\u001b[0m \u001b[0mflows\u001b[0m\u001b[0;34m=\u001b[0m\u001b[0mflows\u001b[0m\u001b[0;34m)\u001b[0m\u001b[0;34m\u001b[0m\u001b[0;34m\u001b[0m\u001b[0m\n\u001b[0m\u001b[1;32m    250\u001b[0m \u001b[0;34m\u001b[0m\u001b[0m\n\u001b[1;32m    251\u001b[0m         \u001b[0mtarget_log_density_f\u001b[0m \u001b[0;34m=\u001b[0m \u001b[0mtarget_distr\u001b[0m\u001b[0;34m.\u001b[0m\u001b[0mget_logdensity\u001b[0m\u001b[0;34m(\u001b[0m\u001b[0mz\u001b[0m\u001b[0;34m=\u001b[0m\u001b[0mq_upd\u001b[0m\u001b[0;34m,\u001b[0m \u001b[0mx\u001b[0m\u001b[0;34m=\u001b[0m\u001b[0mx\u001b[0m\u001b[0;34m)\u001b[0m \u001b[0;34m+\u001b[0m \u001b[0mself\u001b[0m\u001b[0;34m.\u001b[0m\u001b[0mstd_normal\u001b[0m\u001b[0;34m.\u001b[0m\u001b[0mlog_prob\u001b[0m\u001b[0;34m(\u001b[0m\u001b[0mp_upd\u001b[0m\u001b[0;34m)\u001b[0m\u001b[0;34m.\u001b[0m\u001b[0msum\u001b[0m\u001b[0;34m(\u001b[0m\u001b[0;36m1\u001b[0m\u001b[0;34m)\u001b[0m\u001b[0;34m\u001b[0m\u001b[0;34m\u001b[0m\u001b[0m\n",
      "\u001b[0;32m~/Documents/GitHub/hmc/kernels.py\u001b[0m in \u001b[0;36m_forward_step\u001b[0;34m(self, q_old, x, k, target, p_old, flows)\u001b[0m\n\u001b[1;32m    185\u001b[0m             \u001b[0mq_\u001b[0m \u001b[0;34m=\u001b[0m \u001b[0mq_\u001b[0m \u001b[0;34m+\u001b[0m \u001b[0mgamma\u001b[0m \u001b[0;34m*\u001b[0m \u001b[0mp_\u001b[0m\u001b[0;34m\u001b[0m\u001b[0;34m\u001b[0m\u001b[0m\n\u001b[1;32m    186\u001b[0m             \u001b[0;32mif\u001b[0m \u001b[0;34m(\u001b[0m\u001b[0ml\u001b[0m \u001b[0;34m!=\u001b[0m \u001b[0mself\u001b[0m\u001b[0;34m.\u001b[0m\u001b[0mN\u001b[0m \u001b[0;34m-\u001b[0m \u001b[0;36m1\u001b[0m\u001b[0;34m)\u001b[0m\u001b[0;34m:\u001b[0m\u001b[0;34m\u001b[0m\u001b[0;34m\u001b[0m\u001b[0m\n\u001b[0;32m--> 187\u001b[0;31m                 \u001b[0mp_\u001b[0m \u001b[0;34m=\u001b[0m \u001b[0mp_\u001b[0m \u001b[0;34m+\u001b[0m \u001b[0mgamma\u001b[0m \u001b[0;34m*\u001b[0m \u001b[0mself\u001b[0m\u001b[0;34m.\u001b[0m\u001b[0mget_grad\u001b[0m\u001b[0;34m(\u001b[0m\u001b[0mq\u001b[0m\u001b[0;34m=\u001b[0m\u001b[0mq_\u001b[0m\u001b[0;34m,\u001b[0m \u001b[0mtarget\u001b[0m\u001b[0;34m=\u001b[0m\u001b[0mtarget\u001b[0m\u001b[0;34m,\u001b[0m \u001b[0mx\u001b[0m\u001b[0;34m=\u001b[0m\u001b[0mx\u001b[0m\u001b[0;34m,\u001b[0m \u001b[0mflows\u001b[0m\u001b[0;34m=\u001b[0m\u001b[0mflows\u001b[0m\u001b[0;34m)\u001b[0m  \u001b[0;31m# NOTE that we are using log-density, not energy!\u001b[0m\u001b[0;34m\u001b[0m\u001b[0;34m\u001b[0m\u001b[0m\n\u001b[0m\u001b[1;32m    188\u001b[0m         \u001b[0mp_\u001b[0m \u001b[0;34m=\u001b[0m \u001b[0mp_\u001b[0m \u001b[0;34m+\u001b[0m \u001b[0mgamma\u001b[0m \u001b[0;34m/\u001b[0m \u001b[0;36m2.\u001b[0m \u001b[0;34m*\u001b[0m \u001b[0mself\u001b[0m\u001b[0;34m.\u001b[0m\u001b[0mget_grad\u001b[0m\u001b[0;34m(\u001b[0m\u001b[0mq\u001b[0m\u001b[0;34m=\u001b[0m\u001b[0mq_\u001b[0m\u001b[0;34m,\u001b[0m \u001b[0mtarget\u001b[0m\u001b[0;34m=\u001b[0m\u001b[0mtarget\u001b[0m\u001b[0;34m,\u001b[0m \u001b[0mx\u001b[0m\u001b[0;34m=\u001b[0m\u001b[0mx\u001b[0m\u001b[0;34m,\u001b[0m \u001b[0mflows\u001b[0m\u001b[0;34m=\u001b[0m\u001b[0mflows\u001b[0m\u001b[0;34m)\u001b[0m  \u001b[0;31m# NOTE that we are using log-density, not energy!\u001b[0m\u001b[0;34m\u001b[0m\u001b[0;34m\u001b[0m\u001b[0m\n\u001b[1;32m    189\u001b[0m \u001b[0;34m\u001b[0m\u001b[0m\n",
      "\u001b[0;32m~/Documents/GitHub/hmc/kernels.py\u001b[0m in \u001b[0;36mget_grad\u001b[0;34m(self, q, target, x, flows)\u001b[0m\n\u001b[1;32m    282\u001b[0m         \u001b[0;32melse\u001b[0m\u001b[0;34m:\u001b[0m\u001b[0;34m\u001b[0m\u001b[0;34m\u001b[0m\u001b[0m\n\u001b[1;32m    283\u001b[0m             \u001b[0ms\u001b[0m \u001b[0;34m=\u001b[0m \u001b[0mtarget\u001b[0m\u001b[0;34m.\u001b[0m\u001b[0mget_logdensity\u001b[0m\u001b[0;34m(\u001b[0m\u001b[0mx\u001b[0m\u001b[0;34m=\u001b[0m\u001b[0mx\u001b[0m\u001b[0;34m,\u001b[0m \u001b[0mz\u001b[0m\u001b[0;34m=\u001b[0m\u001b[0mq_init\u001b[0m\u001b[0;34m)\u001b[0m\u001b[0;34m\u001b[0m\u001b[0;34m\u001b[0m\u001b[0m\n\u001b[0;32m--> 284\u001b[0;31m             \u001b[0mgrad\u001b[0m \u001b[0;34m=\u001b[0m \u001b[0mtorch\u001b[0m\u001b[0;34m.\u001b[0m\u001b[0mautograd\u001b[0m\u001b[0;34m.\u001b[0m\u001b[0mgrad\u001b[0m\u001b[0;34m(\u001b[0m\u001b[0ms\u001b[0m\u001b[0;34m.\u001b[0m\u001b[0msum\u001b[0m\u001b[0;34m(\u001b[0m\u001b[0;34m)\u001b[0m\u001b[0;34m,\u001b[0m \u001b[0mq_init\u001b[0m\u001b[0;34m)\u001b[0m\u001b[0;34m[\u001b[0m\u001b[0;36m0\u001b[0m\u001b[0;34m]\u001b[0m\u001b[0;34m\u001b[0m\u001b[0;34m\u001b[0m\u001b[0m\n\u001b[0m\u001b[1;32m    285\u001b[0m         \u001b[0;32mreturn\u001b[0m \u001b[0mgrad\u001b[0m\u001b[0;34m\u001b[0m\u001b[0;34m\u001b[0m\u001b[0m\n\u001b[1;32m    286\u001b[0m \u001b[0;34m\u001b[0m\u001b[0m\n",
      "\u001b[0;32m~/.local/lib/python3.7/site-packages/torch/autograd/__init__.py\u001b[0m in \u001b[0;36mgrad\u001b[0;34m(outputs, inputs, grad_outputs, retain_graph, create_graph, only_inputs, allow_unused)\u001b[0m\n\u001b[1;32m    155\u001b[0m     return Variable._execution_engine.run_backward(\n\u001b[1;32m    156\u001b[0m         \u001b[0moutputs\u001b[0m\u001b[0;34m,\u001b[0m \u001b[0mgrad_outputs\u001b[0m\u001b[0;34m,\u001b[0m \u001b[0mretain_graph\u001b[0m\u001b[0;34m,\u001b[0m \u001b[0mcreate_graph\u001b[0m\u001b[0;34m,\u001b[0m\u001b[0;34m\u001b[0m\u001b[0;34m\u001b[0m\u001b[0m\n\u001b[0;32m--> 157\u001b[0;31m         inputs, allow_unused)\n\u001b[0m\u001b[1;32m    158\u001b[0m \u001b[0;34m\u001b[0m\u001b[0m\n\u001b[1;32m    159\u001b[0m \u001b[0;34m\u001b[0m\u001b[0m\n",
      "\u001b[0;31mKeyboardInterrupt\u001b[0m: "
     ]
    }
   ],
   "source": [
    "\n",
    "for ep in tqdm(range(num_epoches)): # cycle over epoches\n",
    "    j = 0\n",
    "    obj_sum = 0\n",
    "    for b_num, batch_train in enumerate(dataloader): # cycle over batches\n",
    "        \n",
    "        momentum = std_normal.sample((batch_train.shape[0], z_dim))\n",
    "        z = std_normal.sample((batch_train.shape[0], z_dim))\n",
    "\n",
    "#         pdb.set_trace()\n",
    "        for _ in range(K_wu):\n",
    "            z, momentum, _, _, _, _ = transitions.make_transition(z, momentum, target, x=batch_train)\n",
    "            \n",
    "        obj = 0\n",
    "        for _ in range(K_s):\n",
    "            z, momentum, _, _, _, _ = transitions.make_transition(z, momentum, target, x=batch_train)\n",
    "            probs = torch.sigmoid(dec_our_hmc_fisher(z))\n",
    "            obj += torch.distributions.Bernoulli(probs=probs).log_prob(batch_train).mean()\n",
    "            \n",
    "        obj /= K_s \n",
    "\n",
    "        (-obj).backward()\n",
    "        optimizer.step()\n",
    "        optimizer.zero_grad()\n",
    "        \n",
    "        j += 1\n",
    "        obj_sum += obj.cpu().detach().numpy()\n",
    "    scheduler.step(obj)\n",
    "    obj_sum /= j\n",
    "    if ep % print_info_ == 0:\n",
    "        print('obj mean over epoch:', obj_sum)\n",
    "        print('obj:', obj.cpu().detach().item())\n",
    "        print('true diff to theta: ', eval(true_theta, dec_our_hmc_fisher.W.weight.T, 200))\n",
    "\n",
    "\n"
   ]
  },
  {
   "cell_type": "code",
   "execution_count": null,
   "metadata": {},
   "outputs": [],
   "source": [
    "print('true_theta', true_theta)\n",
    "print('-' * 100)\n",
    "print(dec_our_hmc_fisher.W.weight.detach().T)\n",
    "\n",
    "for p in dec_our_hmc_fisher.parameters():\n",
    "    p.requires_grad_(False)\n",
    "u = std_normal.sample((10, z_dim))\n",
    "\n",
    "print('reconstructed probs', torch.sigmoid(dec_our_hmc_fisher(u)))\n",
    "print('true probs', torch.sigmoid(u @ true_theta))\n",
    "\n"
   ]
  },
  {
   "cell_type": "markdown",
   "metadata": {},
   "source": [
    "### Encoder with true fixed theta\n",
    "\n"
   ]
  },
  {
   "cell_type": "code",
   "execution_count": 12,
   "metadata": {},
   "outputs": [],
   "source": [
    "\n",
    "K = 16\n",
    "enc_0 = Encoder_vae(data_dim=data_dim, z_dim=z_dim, K=K).to(device)\n",
    "\n",
    "optimizer_phi = torch.optim.Adam(params=enc_0.parameters(), lr=1e-3)\n",
    "true_kl = False\n",
    "batch_size = 100\n",
    "dataloader = torch.utils.data.DataLoader(data, batch_size=batch_size, shuffle=True)\n"
   ]
  },
  {
   "cell_type": "code",
   "execution_count": null,
   "metadata": {},
   "outputs": [],
   "source": [
    "\n",
    "print_info = 500\n",
    "for ep in tqdm(range(num_epoches)):\n",
    "    elbo_ep = 0\n",
    "    for b_num, batch_train in enumerate(dataloader): # cycle over batches\n",
    "        mu, sigma = enc_0(batch_train)\n",
    "        u = std_normal.sample(mu.shape)\n",
    "        z = mu + sigma * u # reparametrization trick\n",
    "        probs = torch.sigmoid(z @ true_theta)\n",
    "        if true_kl == True:\n",
    "            log_likelihood = torch.distributions.Bernoulli(probs=probs).log_prob(batch_train).sum(1)\n",
    "            KLD = (-0.5 * (1 + 2 * sigma.log() - mu.pow(2) - sigma.pow(2))).sum(1)\n",
    "            elbo = (log_likelihood - KLD).mean()    \n",
    "        else:    \n",
    "            log_p = torch.distributions.Bernoulli(probs=probs).log_prob(batch_train).sum(1) + std_normal.log_prob(z).sum(1)\n",
    "            sum_log_sigma = torch.sum(torch.log(sigma), 1)\n",
    "            log_m = std_normal.log_prob(u).sum(1) - sum_log_sigma\n",
    "            elbo = (log_p - log_m).mean()\n",
    "        elbo_ep += elbo.detach().cpu().numpy()\n",
    "        (-elbo).backward()\n",
    "        optimizer_phi.step()\n",
    "        optimizer_phi.zero_grad()\n",
    "    if ep % print_info ==0:\n",
    "        print('elbo: ', (elbo_ep / b_num))\n",
    "\n",
    "for p in enc_0.parameters():\n",
    "    p.requires_grad_(False)\n",
    "\n"
   ]
  },
  {
   "cell_type": "markdown",
   "metadata": {},
   "source": [
    "Convergence seems to appear after 10 epoches only, for lr = 1e-3 and batch_size = 500 and 5 epoches for batch_size = 100 and lr = 1e-3\n",
    "\n"
   ]
  },
  {
   "cell_type": "code",
   "execution_count": null,
   "metadata": {},
   "outputs": [],
   "source": [
    "n_warmup = 50\n",
    "n_samples = 500\n",
    "\n",
    "data_ind = 1  #  index of datapoint we conditioned on\n",
    "def potential_fn(z):\n",
    "    z = z['points']\n",
    "    probs = torch.sigmoid(z @ true_theta)\n",
    "    return -torch.sum(pyro.distributions.Bernoulli(probs=probs).log_prob(data[data_ind][None]).sum(1) + std_normal_pyro.log_prob(z).sum(1))\n"
   ]
  },
  {
   "cell_type": "code",
   "execution_count": null,
   "metadata": {},
   "outputs": [],
   "source": [
    "init_samples = std_normal_pyro.sample((1, z_dim))\n",
    "init_params = {'points': init_samples}\n",
    "\n",
    "nuts_kernel = NUTS(potential_fn=potential_fn)\n",
    "mcmc = MCMC(nuts_kernel,\n",
    "            initial_params=init_params,\n",
    "            num_samples=n_samples,\n",
    "            warmup_steps=n_warmup)\n",
    "\n",
    "mcmc.run()\n",
    "z = mcmc.get_samples()['points'].squeeze()\n",
    "\n",
    "mu, sigma = enc_0(data[data_ind][None])\n",
    "u_enc = std_normal_pyro.sample((n_samples, z_dim))\n",
    "z_enc = mu + sigma * u_enc\n",
    "z_enc = z_enc.detach()\n",
    "\n"
   ]
  },
  {
   "cell_type": "markdown",
   "metadata": {},
   "source": [
    "\n",
    "Plotting the two distributions for observations $\\mathrm{data\\_ind}$ and checking that variational approximation is good\n"
   ]
  },
  {
   "cell_type": "code",
   "execution_count": null,
   "metadata": {},
   "outputs": [],
   "source": [
    "plt.figure(figsize=(4, 3), dpi=300)\n",
    "plt.scatter(z[:, 0].cpu(), z[:, 1].cpu(), label='posterior samples', s=10, alpha=0.1)\n",
    "plt.scatter(z_enc[:, 0].cpu(), z_enc[:, 1].cpu(), label='encoder samples', s=10, alpha=0.1, color = 'red')\n",
    "plt.legend()\n",
    "plt.axis('equal');\n"
   ]
  },
  {
   "cell_type": "markdown",
   "metadata": {},
   "source": [
    "\n",
    "### lagging VAE \n",
    "\n",
    "Encoder seems to reach convergence within 5 epoches with lr_phi = 1e-3 and batch size = 100\n",
    "\n"
   ]
  },
  {
   "cell_type": "code",
   "execution_count": 13,
   "metadata": {},
   "outputs": [],
   "source": [
    "\n",
    "K = 10\n",
    "enc_lagg = Encoder_vae(data_dim=data_dim, z_dim=z_dim, K=K).to(device)\n",
    "dec_lagg = Decoder(data_dim=data_dim, z_dim=z_dim).to(device)\n",
    "\n",
    "optimizer_phi = torch.optim.Adam(params=enc_lagg.parameters(), lr = 1e-3)\n",
    "optimizer_theta = torch.optim.Adam(params=dec_lagg.parameters(), lr = 1e-3)\n",
    "n_epoches_enc = 5\n",
    "true_kl = False\n",
    "better_log = False\n",
    "batch_size = 500\n",
    "dataloader = torch.utils.data.DataLoader(data, batch_size=batch_size, shuffle=True)\n",
    "\n",
    "\n"
   ]
  },
  {
   "cell_type": "code",
   "execution_count": 75,
   "metadata": {},
   "outputs": [
    {
     "name": "stderr",
     "output_type": "stream",
     "text": [
      "  0%|          | 2/1000 [00:00<02:40,  6.21it/s]"
     ]
    },
    {
     "name": "stdout",
     "output_type": "stream",
     "text": [
      "Epoch_theta  1\n",
      "elbo:  -15.520937\n",
      "true diff to theta:  6.361342741288113\n"
     ]
    },
    {
     "name": "stderr",
     "output_type": "stream",
     "text": [
      "  1%|          | 12/1000 [00:01<02:35,  6.35it/s]"
     ]
    },
    {
     "name": "stdout",
     "output_type": "stream",
     "text": [
      "Epoch_theta  3\n",
      "elbo:  -14.868587\n",
      "true diff to theta:  6.291144228178771\n"
     ]
    },
    {
     "name": "stderr",
     "output_type": "stream",
     "text": [
      "  2%|▏         | 22/1000 [00:03<02:32,  6.42it/s]"
     ]
    },
    {
     "name": "stdout",
     "output_type": "stream",
     "text": [
      "Epoch_theta  5\n",
      "elbo:  -14.771838\n",
      "true diff to theta:  6.197454199309844\n"
     ]
    },
    {
     "name": "stderr",
     "output_type": "stream",
     "text": [
      "  3%|▎         | 32/1000 [00:04<02:30,  6.44it/s]"
     ]
    },
    {
     "name": "stdout",
     "output_type": "stream",
     "text": [
      "Epoch_theta  7\n",
      "elbo:  -14.720975\n",
      "true diff to theta:  6.0964254355990715\n"
     ]
    },
    {
     "name": "stderr",
     "output_type": "stream",
     "text": [
      "  4%|▍         | 42/1000 [00:06<02:28,  6.47it/s]"
     ]
    },
    {
     "name": "stdout",
     "output_type": "stream",
     "text": [
      "Epoch_theta  9\n",
      "elbo:  -14.666816\n",
      "true diff to theta:  5.985255875153743\n"
     ]
    },
    {
     "name": "stderr",
     "output_type": "stream",
     "text": [
      "  5%|▌         | 52/1000 [00:08<02:26,  6.47it/s]"
     ]
    },
    {
     "name": "stdout",
     "output_type": "stream",
     "text": [
      "Epoch_theta  11\n",
      "elbo:  -14.605344\n",
      "true diff to theta:  5.8542777173083\n"
     ]
    },
    {
     "name": "stderr",
     "output_type": "stream",
     "text": [
      "  6%|▌         | 61/1000 [00:09<02:33,  6.11it/s]"
     ]
    },
    {
     "name": "stdout",
     "output_type": "stream",
     "text": [
      "Epoch_theta  13\n",
      "elbo:  -14.528902\n",
      "true diff to theta:  5.71779026074533\n"
     ]
    },
    {
     "name": "stderr",
     "output_type": "stream",
     "text": [
      "  7%|▋         | 72/1000 [00:11<02:27,  6.30it/s]"
     ]
    },
    {
     "name": "stdout",
     "output_type": "stream",
     "text": [
      "Epoch_theta  15\n",
      "elbo:  -14.449909\n",
      "true diff to theta:  5.576670948030917\n"
     ]
    },
    {
     "name": "stderr",
     "output_type": "stream",
     "text": [
      "  7%|▋         | 74/1000 [00:11<02:24,  6.39it/s]\n"
     ]
    },
    {
     "ename": "KeyboardInterrupt",
     "evalue": "",
     "output_type": "error",
     "traceback": [
      "\u001b[0;31m---------------------------------------------------------------------------\u001b[0m",
      "\u001b[0;31mKeyboardInterrupt\u001b[0m                         Traceback (most recent call last)",
      "\u001b[0;32m<ipython-input-75-2cdb772a756c>\u001b[0m in \u001b[0;36m<module>\u001b[0;34m\u001b[0m\n\u001b[1;32m      4\u001b[0m \u001b[0;32mfor\u001b[0m \u001b[0mep\u001b[0m \u001b[0;32min\u001b[0m \u001b[0mtqdm\u001b[0m\u001b[0;34m(\u001b[0m\u001b[0mrange\u001b[0m\u001b[0;34m(\u001b[0m\u001b[0mnum_epoches\u001b[0m\u001b[0;34m)\u001b[0m\u001b[0;34m)\u001b[0m\u001b[0;34m:\u001b[0m\u001b[0;34m\u001b[0m\u001b[0;34m\u001b[0m\u001b[0m\n\u001b[1;32m      5\u001b[0m     \u001b[0melbo_ep\u001b[0m \u001b[0;34m=\u001b[0m \u001b[0;36m0\u001b[0m\u001b[0;34m\u001b[0m\u001b[0;34m\u001b[0m\u001b[0m\n\u001b[0;32m----> 6\u001b[0;31m     \u001b[0;32mfor\u001b[0m \u001b[0mb_num\u001b[0m\u001b[0;34m,\u001b[0m \u001b[0mbatch_train\u001b[0m \u001b[0;32min\u001b[0m \u001b[0menumerate\u001b[0m\u001b[0;34m(\u001b[0m\u001b[0mdataloader\u001b[0m\u001b[0;34m)\u001b[0m\u001b[0;34m:\u001b[0m \u001b[0;31m# cycle over batches\u001b[0m\u001b[0;34m\u001b[0m\u001b[0;34m\u001b[0m\u001b[0m\n\u001b[0m\u001b[1;32m      7\u001b[0m         \u001b[0mmu\u001b[0m\u001b[0;34m,\u001b[0m \u001b[0msigma\u001b[0m \u001b[0;34m=\u001b[0m \u001b[0menc_lagg\u001b[0m\u001b[0;34m(\u001b[0m\u001b[0mbatch_train\u001b[0m\u001b[0;34m)\u001b[0m\u001b[0;34m\u001b[0m\u001b[0;34m\u001b[0m\u001b[0m\n\u001b[1;32m      8\u001b[0m         \u001b[0mu\u001b[0m \u001b[0;34m=\u001b[0m \u001b[0mstd_normal\u001b[0m\u001b[0;34m.\u001b[0m\u001b[0msample\u001b[0m\u001b[0;34m(\u001b[0m\u001b[0mmu\u001b[0m\u001b[0;34m.\u001b[0m\u001b[0mshape\u001b[0m\u001b[0;34m)\u001b[0m\u001b[0;34m\u001b[0m\u001b[0;34m\u001b[0m\u001b[0m\n",
      "\u001b[0;32m~/.local/lib/python3.7/site-packages/torch/utils/data/dataloader.py\u001b[0m in \u001b[0;36m__next__\u001b[0;34m(self)\u001b[0m\n\u001b[1;32m    343\u001b[0m \u001b[0;34m\u001b[0m\u001b[0m\n\u001b[1;32m    344\u001b[0m     \u001b[0;32mdef\u001b[0m \u001b[0m__next__\u001b[0m\u001b[0;34m(\u001b[0m\u001b[0mself\u001b[0m\u001b[0;34m)\u001b[0m\u001b[0;34m:\u001b[0m\u001b[0;34m\u001b[0m\u001b[0;34m\u001b[0m\u001b[0m\n\u001b[0;32m--> 345\u001b[0;31m         \u001b[0mdata\u001b[0m \u001b[0;34m=\u001b[0m \u001b[0mself\u001b[0m\u001b[0;34m.\u001b[0m\u001b[0m_next_data\u001b[0m\u001b[0;34m(\u001b[0m\u001b[0;34m)\u001b[0m\u001b[0;34m\u001b[0m\u001b[0;34m\u001b[0m\u001b[0m\n\u001b[0m\u001b[1;32m    346\u001b[0m         \u001b[0mself\u001b[0m\u001b[0;34m.\u001b[0m\u001b[0m_num_yielded\u001b[0m \u001b[0;34m+=\u001b[0m \u001b[0;36m1\u001b[0m\u001b[0;34m\u001b[0m\u001b[0;34m\u001b[0m\u001b[0m\n\u001b[1;32m    347\u001b[0m         \u001b[0;32mif\u001b[0m \u001b[0mself\u001b[0m\u001b[0;34m.\u001b[0m\u001b[0m_dataset_kind\u001b[0m \u001b[0;34m==\u001b[0m \u001b[0m_DatasetKind\u001b[0m\u001b[0;34m.\u001b[0m\u001b[0mIterable\u001b[0m \u001b[0;32mand\u001b[0m\u001b[0;31m \u001b[0m\u001b[0;31m\\\u001b[0m\u001b[0;34m\u001b[0m\u001b[0;34m\u001b[0m\u001b[0m\n",
      "\u001b[0;32m~/.local/lib/python3.7/site-packages/torch/utils/data/dataloader.py\u001b[0m in \u001b[0;36m_next_data\u001b[0;34m(self)\u001b[0m\n\u001b[1;32m    383\u001b[0m     \u001b[0;32mdef\u001b[0m \u001b[0m_next_data\u001b[0m\u001b[0;34m(\u001b[0m\u001b[0mself\u001b[0m\u001b[0;34m)\u001b[0m\u001b[0;34m:\u001b[0m\u001b[0;34m\u001b[0m\u001b[0;34m\u001b[0m\u001b[0m\n\u001b[1;32m    384\u001b[0m         \u001b[0mindex\u001b[0m \u001b[0;34m=\u001b[0m \u001b[0mself\u001b[0m\u001b[0;34m.\u001b[0m\u001b[0m_next_index\u001b[0m\u001b[0;34m(\u001b[0m\u001b[0;34m)\u001b[0m  \u001b[0;31m# may raise StopIteration\u001b[0m\u001b[0;34m\u001b[0m\u001b[0;34m\u001b[0m\u001b[0m\n\u001b[0;32m--> 385\u001b[0;31m         \u001b[0mdata\u001b[0m \u001b[0;34m=\u001b[0m \u001b[0mself\u001b[0m\u001b[0;34m.\u001b[0m\u001b[0m_dataset_fetcher\u001b[0m\u001b[0;34m.\u001b[0m\u001b[0mfetch\u001b[0m\u001b[0;34m(\u001b[0m\u001b[0mindex\u001b[0m\u001b[0;34m)\u001b[0m  \u001b[0;31m# may raise StopIteration\u001b[0m\u001b[0;34m\u001b[0m\u001b[0;34m\u001b[0m\u001b[0m\n\u001b[0m\u001b[1;32m    386\u001b[0m         \u001b[0;32mif\u001b[0m \u001b[0mself\u001b[0m\u001b[0;34m.\u001b[0m\u001b[0m_pin_memory\u001b[0m\u001b[0;34m:\u001b[0m\u001b[0;34m\u001b[0m\u001b[0;34m\u001b[0m\u001b[0m\n\u001b[1;32m    387\u001b[0m             \u001b[0mdata\u001b[0m \u001b[0;34m=\u001b[0m \u001b[0m_utils\u001b[0m\u001b[0;34m.\u001b[0m\u001b[0mpin_memory\u001b[0m\u001b[0;34m.\u001b[0m\u001b[0mpin_memory\u001b[0m\u001b[0;34m(\u001b[0m\u001b[0mdata\u001b[0m\u001b[0;34m)\u001b[0m\u001b[0;34m\u001b[0m\u001b[0;34m\u001b[0m\u001b[0m\n",
      "\u001b[0;32m~/.local/lib/python3.7/site-packages/torch/utils/data/_utils/fetch.py\u001b[0m in \u001b[0;36mfetch\u001b[0;34m(self, possibly_batched_index)\u001b[0m\n\u001b[1;32m     42\u001b[0m     \u001b[0;32mdef\u001b[0m \u001b[0mfetch\u001b[0m\u001b[0;34m(\u001b[0m\u001b[0mself\u001b[0m\u001b[0;34m,\u001b[0m \u001b[0mpossibly_batched_index\u001b[0m\u001b[0;34m)\u001b[0m\u001b[0;34m:\u001b[0m\u001b[0;34m\u001b[0m\u001b[0;34m\u001b[0m\u001b[0m\n\u001b[1;32m     43\u001b[0m         \u001b[0;32mif\u001b[0m \u001b[0mself\u001b[0m\u001b[0;34m.\u001b[0m\u001b[0mauto_collation\u001b[0m\u001b[0;34m:\u001b[0m\u001b[0;34m\u001b[0m\u001b[0;34m\u001b[0m\u001b[0m\n\u001b[0;32m---> 44\u001b[0;31m             \u001b[0mdata\u001b[0m \u001b[0;34m=\u001b[0m \u001b[0;34m[\u001b[0m\u001b[0mself\u001b[0m\u001b[0;34m.\u001b[0m\u001b[0mdataset\u001b[0m\u001b[0;34m[\u001b[0m\u001b[0midx\u001b[0m\u001b[0;34m]\u001b[0m \u001b[0;32mfor\u001b[0m \u001b[0midx\u001b[0m \u001b[0;32min\u001b[0m \u001b[0mpossibly_batched_index\u001b[0m\u001b[0;34m]\u001b[0m\u001b[0;34m\u001b[0m\u001b[0;34m\u001b[0m\u001b[0m\n\u001b[0m\u001b[1;32m     45\u001b[0m         \u001b[0;32melse\u001b[0m\u001b[0;34m:\u001b[0m\u001b[0;34m\u001b[0m\u001b[0;34m\u001b[0m\u001b[0m\n\u001b[1;32m     46\u001b[0m             \u001b[0mdata\u001b[0m \u001b[0;34m=\u001b[0m \u001b[0mself\u001b[0m\u001b[0;34m.\u001b[0m\u001b[0mdataset\u001b[0m\u001b[0;34m[\u001b[0m\u001b[0mpossibly_batched_index\u001b[0m\u001b[0;34m]\u001b[0m\u001b[0;34m\u001b[0m\u001b[0;34m\u001b[0m\u001b[0m\n",
      "\u001b[0;32m~/.local/lib/python3.7/site-packages/torch/utils/data/_utils/fetch.py\u001b[0m in \u001b[0;36m<listcomp>\u001b[0;34m(.0)\u001b[0m\n\u001b[1;32m     42\u001b[0m     \u001b[0;32mdef\u001b[0m \u001b[0mfetch\u001b[0m\u001b[0;34m(\u001b[0m\u001b[0mself\u001b[0m\u001b[0;34m,\u001b[0m \u001b[0mpossibly_batched_index\u001b[0m\u001b[0;34m)\u001b[0m\u001b[0;34m:\u001b[0m\u001b[0;34m\u001b[0m\u001b[0;34m\u001b[0m\u001b[0m\n\u001b[1;32m     43\u001b[0m         \u001b[0;32mif\u001b[0m \u001b[0mself\u001b[0m\u001b[0;34m.\u001b[0m\u001b[0mauto_collation\u001b[0m\u001b[0;34m:\u001b[0m\u001b[0;34m\u001b[0m\u001b[0;34m\u001b[0m\u001b[0m\n\u001b[0;32m---> 44\u001b[0;31m             \u001b[0mdata\u001b[0m \u001b[0;34m=\u001b[0m \u001b[0;34m[\u001b[0m\u001b[0mself\u001b[0m\u001b[0;34m.\u001b[0m\u001b[0mdataset\u001b[0m\u001b[0;34m[\u001b[0m\u001b[0midx\u001b[0m\u001b[0;34m]\u001b[0m \u001b[0;32mfor\u001b[0m \u001b[0midx\u001b[0m \u001b[0;32min\u001b[0m \u001b[0mpossibly_batched_index\u001b[0m\u001b[0;34m]\u001b[0m\u001b[0;34m\u001b[0m\u001b[0;34m\u001b[0m\u001b[0m\n\u001b[0m\u001b[1;32m     45\u001b[0m         \u001b[0;32melse\u001b[0m\u001b[0;34m:\u001b[0m\u001b[0;34m\u001b[0m\u001b[0;34m\u001b[0m\u001b[0m\n\u001b[1;32m     46\u001b[0m             \u001b[0mdata\u001b[0m \u001b[0;34m=\u001b[0m \u001b[0mself\u001b[0m\u001b[0;34m.\u001b[0m\u001b[0mdataset\u001b[0m\u001b[0;34m[\u001b[0m\u001b[0mpossibly_batched_index\u001b[0m\u001b[0;34m]\u001b[0m\u001b[0;34m\u001b[0m\u001b[0;34m\u001b[0m\u001b[0m\n",
      "\u001b[0;31mKeyboardInterrupt\u001b[0m: "
     ]
    }
   ],
   "source": [
    "print_info = 10\n",
    "count = 0\n",
    "num_epoches=1000\n",
    "for ep in tqdm(range(num_epoches)):\n",
    "    elbo_ep = 0\n",
    "    for b_num, batch_train in enumerate(dataloader): # cycle over batches\n",
    "        mu, sigma = enc_lagg(batch_train)\n",
    "        u = std_normal.sample(mu.shape)\n",
    "        z = mu + sigma * u # reparametrization trick\n",
    "        prod = (dec_lagg(z))\n",
    "        if true_kl == True:\n",
    "            if better_log == True:\n",
    "                log_likelihood = (batch_train * dec_lagg(mu) - torch.log(1 + torch.exp(prod))).sum(1)\n",
    "            else:\n",
    "                log_likelihood = torch.distributions.Bernoulli(probs=torch.sigmoid(prod)).log_prob(batch_train).sum(1)\n",
    "            KLD = (-0.5 * (1 + 2 * sigma.log() - mu.pow(2) - sigma.pow(2))).sum(1)\n",
    "            elbo = (log_likelihood - KLD).mean()    \n",
    "        else:    \n",
    "            log_p = torch.distributions.Bernoulli(probs=torch.sigmoid(prod)).log_prob(batch_train).sum(1) + std_normal.log_prob(z).sum(1)\n",
    "            sum_log_sigma = torch.sum(torch.log(sigma), 1)\n",
    "            log_m = std_normal.log_prob(u).sum(1) - sum_log_sigma\n",
    "            elbo = (log_p - log_m).mean()\n",
    "        elbo_ep += elbo\n",
    "        (-elbo).backward()\n",
    "        if ep % n_epoches_enc == 0:\n",
    "            optimizer_theta.step()\n",
    "            optimizer_phi.zero_grad()\n",
    "            optimizer_theta.zero_grad()\n",
    "        else:\n",
    "            optimizer_phi.step()\n",
    "            optimizer_phi.zero_grad()\n",
    "            optimizer_theta.zero_grad()\n",
    "    if ep % n_epoches_enc==0:\n",
    "        count += 1\n",
    "    if (ep % print_info==0):\n",
    "        print('Epoch_theta ', count)\n",
    "        print('elbo: ', (elbo_ep / b_num).cpu().detach().numpy())\n",
    "        print('true diff to theta: ', eval(true_theta, dec_lagg.W.weight.T, 200))\n",
    "        if False:\n",
    "            init_samples = std_normal_pyro.sample((1, z_dim))\n",
    "            init_params = {'points': init_samples}\n",
    "            nuts_kernel = NUTS(potential_fn=potential_fn)\n",
    "            def potential_fn(z):\n",
    "                z = z['points']\n",
    "                probs = torch.sigmoid(dec_lagg(z))\n",
    "                return -torch.sum(pyro.distributions.Bernoulli(probs=probs).log_prob(data[data_ind][None]).sum(1) + std_normal_pyro.log_prob(z).sum(1))\n",
    "            mcmc = MCMC(nuts_kernel,\n",
    "                        initial_params=init_params,\n",
    "                        num_samples=n_samples,\n",
    "                        warmup_steps=n_warmup)\n",
    "            mcmc.run()\n",
    "            z = mcmc.get_samples()['points'].squeeze()\n",
    "            mu, sigma = enc_lagg(data[data_ind][None])\n",
    "            u_enc = std_normal_pyro.sample((n_samples, z_dim))\n",
    "            z_enc = mu + sigma * u_enc\n",
    "            z_enc = z_enc.detach()\n",
    "            plt.figure(figsize=(4, 3), dpi=300)\n",
    "            plt.scatter(z[:, 0].cpu(), z[:, 1].cpu(), label='posterior samples', s=10, alpha=0.1)\n",
    "            plt.scatter(z_enc[:, 0].cpu(), z_enc[:, 1].cpu(), label='encoder samples', s=10, alpha=0.1, color='red')\n",
    "            plt.legend()\n",
    "            plt.axis('equal')\n",
    "            plt.show()\n",
    "        #print('KL divergence: ', KLD.mean().cpu().detach().numpy())\n",
    "\n",
    "print('true_theta', true_theta)\n",
    "print('-' * 100)\n",
    "print(dec_lagg.W.weight.detach().T)\n",
    "\n"
   ]
  },
  {
   "cell_type": "markdown",
   "metadata": {},
   "source": [
    "### Vanilla VAE\n"
   ]
  },
  {
   "cell_type": "code",
   "execution_count": 8,
   "metadata": {},
   "outputs": [],
   "source": [
    "K=10\n",
    "enc_vae = Encoder_vae(data_dim=data_dim, z_dim=z_dim, K=K).to(device)\n",
    "dec_vae = Decoder(data_dim=data_dim, z_dim=z_dim).to(device)\n",
    "\n",
    "optimizer_phi = torch.optim.Adam(params=enc_vae.parameters(), lr = 1e-3)\n",
    "optimizer_theta = torch.optim.Adam(params=dec_vae.parameters(), lr = 5e-4)\n",
    "true_kl = False\n",
    "better_log = False\n",
    "first_phi = 10\n",
    "batch_size = 500\n",
    "dataloader = torch.utils.data.DataLoader(data, batch_size=batch_size, shuffle=True)\n",
    "\n"
   ]
  },
  {
   "cell_type": "code",
   "execution_count": 9,
   "metadata": {
    "scrolled": true
   },
   "outputs": [
    {
     "name": "stderr",
     "output_type": "stream",
     "text": [
      "  0%|          | 3/1000 [00:00<01:50,  9.00it/s]"
     ]
    },
    {
     "name": "stdout",
     "output_type": "stream",
     "text": [
      "Epoch  0\n",
      "elbo:  -7.894319\n",
      "true diff to theta:  4.1493721226300515\n"
     ]
    },
    {
     "name": "stderr",
     "output_type": "stream",
     "text": [
      "  1%|          | 12/1000 [00:01<01:43,  9.59it/s]"
     ]
    },
    {
     "name": "stdout",
     "output_type": "stream",
     "text": [
      "Epoch  10\n",
      "elbo:  -7.432446\n",
      "true diff to theta:  4.129230424641086\n"
     ]
    },
    {
     "name": "stderr",
     "output_type": "stream",
     "text": [
      "  2%|▏         | 21/1000 [00:02<01:39,  9.88it/s]"
     ]
    },
    {
     "name": "stdout",
     "output_type": "stream",
     "text": [
      "Epoch  20\n",
      "elbo:  -7.352821\n",
      "true diff to theta:  3.948767472738874\n"
     ]
    },
    {
     "name": "stderr",
     "output_type": "stream",
     "text": [
      "  3%|▎         | 31/1000 [00:03<01:37,  9.90it/s]"
     ]
    },
    {
     "name": "stdout",
     "output_type": "stream",
     "text": [
      "Epoch  30\n",
      "elbo:  -7.306662\n",
      "true diff to theta:  3.757285423343091\n"
     ]
    },
    {
     "name": "stderr",
     "output_type": "stream",
     "text": [
      "  4%|▍         | 43/1000 [00:04<01:32, 10.40it/s]"
     ]
    },
    {
     "name": "stdout",
     "output_type": "stream",
     "text": [
      "Epoch  40\n",
      "elbo:  -7.2630897\n",
      "true diff to theta:  3.557800548208484\n"
     ]
    },
    {
     "name": "stderr",
     "output_type": "stream",
     "text": [
      "  5%|▌         | 51/1000 [00:05<01:34, 10.06it/s]"
     ]
    },
    {
     "name": "stdout",
     "output_type": "stream",
     "text": [
      "Epoch  50\n",
      "elbo:  -7.223514\n",
      "true diff to theta:  3.369231379403881\n"
     ]
    },
    {
     "name": "stderr",
     "output_type": "stream",
     "text": [
      "  6%|▌         | 62/1000 [00:06<01:38,  9.54it/s]"
     ]
    },
    {
     "name": "stdout",
     "output_type": "stream",
     "text": [
      "Epoch  60\n",
      "elbo:  -7.186137\n",
      "true diff to theta:  3.1901325667481735\n"
     ]
    },
    {
     "name": "stderr",
     "output_type": "stream",
     "text": [
      "  7%|▋         | 71/1000 [00:07<01:35,  9.77it/s]"
     ]
    },
    {
     "name": "stdout",
     "output_type": "stream",
     "text": [
      "Epoch  70\n",
      "elbo:  -7.161093\n",
      "true diff to theta:  3.0348342698916775\n"
     ]
    },
    {
     "name": "stderr",
     "output_type": "stream",
     "text": [
      "  8%|▊         | 83/1000 [00:08<01:29, 10.24it/s]"
     ]
    },
    {
     "name": "stdout",
     "output_type": "stream",
     "text": [
      "Epoch  80\n",
      "elbo:  -7.1391945\n",
      "true diff to theta:  2.879069139056834\n"
     ]
    },
    {
     "name": "stderr",
     "output_type": "stream",
     "text": [
      "  9%|▉         | 91/1000 [00:09<01:31,  9.98it/s]"
     ]
    },
    {
     "name": "stdout",
     "output_type": "stream",
     "text": [
      "Epoch  90\n",
      "elbo:  -7.1230154\n",
      "true diff to theta:  2.718458738323387\n"
     ]
    },
    {
     "name": "stderr",
     "output_type": "stream",
     "text": [
      " 10%|█         | 101/1000 [00:10<01:29, 10.09it/s]"
     ]
    },
    {
     "name": "stdout",
     "output_type": "stream",
     "text": [
      "Epoch  100\n",
      "elbo:  -7.110247\n",
      "true diff to theta:  2.552144774913212\n"
     ]
    },
    {
     "name": "stderr",
     "output_type": "stream",
     "text": [
      " 11%|█         | 111/1000 [00:10<01:29,  9.96it/s]"
     ]
    },
    {
     "name": "stdout",
     "output_type": "stream",
     "text": [
      "Epoch  110\n",
      "elbo:  -7.091271\n",
      "true diff to theta:  2.372647463172586\n"
     ]
    },
    {
     "name": "stderr",
     "output_type": "stream",
     "text": [
      " 12%|█▏        | 121/1000 [00:11<01:27, 10.08it/s]"
     ]
    },
    {
     "name": "stdout",
     "output_type": "stream",
     "text": [
      "Epoch  120\n",
      "elbo:  -7.0757318\n",
      "true diff to theta:  2.1958699967486006\n"
     ]
    },
    {
     "name": "stderr",
     "output_type": "stream",
     "text": [
      " 13%|█▎        | 133/1000 [00:13<01:25, 10.17it/s]"
     ]
    },
    {
     "name": "stdout",
     "output_type": "stream",
     "text": [
      "Epoch  130\n",
      "elbo:  -7.062978\n",
      "true diff to theta:  2.0209881273624384\n"
     ]
    },
    {
     "name": "stderr",
     "output_type": "stream",
     "text": [
      " 14%|█▍        | 143/1000 [00:14<01:18, 10.89it/s]"
     ]
    },
    {
     "name": "stdout",
     "output_type": "stream",
     "text": [
      "Epoch  140\n",
      "elbo:  -7.0481753\n",
      "true diff to theta:  1.8577483046010586\n"
     ]
    },
    {
     "name": "stderr",
     "output_type": "stream",
     "text": [
      " 15%|█▌        | 153/1000 [00:14<01:17, 10.98it/s]"
     ]
    },
    {
     "name": "stdout",
     "output_type": "stream",
     "text": [
      "Epoch  150\n",
      "elbo:  -7.0368867\n",
      "true diff to theta:  1.7065778406458487\n"
     ]
    },
    {
     "name": "stderr",
     "output_type": "stream",
     "text": [
      " 16%|█▋        | 163/1000 [00:15<01:15, 11.03it/s]"
     ]
    },
    {
     "name": "stdout",
     "output_type": "stream",
     "text": [
      "Epoch  160\n",
      "elbo:  -7.0292616\n",
      "true diff to theta:  1.575280044512531\n"
     ]
    },
    {
     "name": "stderr",
     "output_type": "stream",
     "text": [
      " 17%|█▋        | 173/1000 [00:16<01:14, 11.05it/s]"
     ]
    },
    {
     "name": "stdout",
     "output_type": "stream",
     "text": [
      "Epoch  170\n",
      "elbo:  -7.023525\n",
      "true diff to theta:  1.4556153649859687\n"
     ]
    },
    {
     "name": "stderr",
     "output_type": "stream",
     "text": [
      " 18%|█▊        | 183/1000 [00:17<01:14, 11.01it/s]"
     ]
    },
    {
     "name": "stdout",
     "output_type": "stream",
     "text": [
      "Epoch  180\n",
      "elbo:  -7.018921\n",
      "true diff to theta:  1.35432319683168\n"
     ]
    },
    {
     "name": "stderr",
     "output_type": "stream",
     "text": [
      " 19%|█▉        | 193/1000 [00:18<01:13, 11.01it/s]"
     ]
    },
    {
     "name": "stdout",
     "output_type": "stream",
     "text": [
      "Epoch  190\n",
      "elbo:  -7.0137763\n",
      "true diff to theta:  1.2672764182903207\n"
     ]
    },
    {
     "name": "stderr",
     "output_type": "stream",
     "text": [
      " 20%|██        | 203/1000 [00:19<01:12, 10.97it/s]"
     ]
    },
    {
     "name": "stdout",
     "output_type": "stream",
     "text": [
      "Epoch  200\n",
      "elbo:  -7.0116696\n",
      "true diff to theta:  1.1937128609164767\n"
     ]
    },
    {
     "name": "stderr",
     "output_type": "stream",
     "text": [
      " 21%|██▏       | 213/1000 [00:20<01:11, 11.02it/s]"
     ]
    },
    {
     "name": "stdout",
     "output_type": "stream",
     "text": [
      "Epoch  210\n",
      "elbo:  -7.011146\n",
      "true diff to theta:  1.1296922126508313\n"
     ]
    },
    {
     "name": "stderr",
     "output_type": "stream",
     "text": [
      " 22%|██▏       | 223/1000 [00:21<01:10, 10.95it/s]"
     ]
    },
    {
     "name": "stdout",
     "output_type": "stream",
     "text": [
      "Epoch  220\n",
      "elbo:  -7.0099545\n",
      "true diff to theta:  1.073878615707634\n"
     ]
    },
    {
     "name": "stderr",
     "output_type": "stream",
     "text": [
      " 23%|██▎       | 233/1000 [00:22<01:09, 11.05it/s]"
     ]
    },
    {
     "name": "stdout",
     "output_type": "stream",
     "text": [
      "Epoch  230\n",
      "elbo:  -7.0051503\n",
      "true diff to theta:  1.024855797481874\n"
     ]
    },
    {
     "name": "stderr",
     "output_type": "stream",
     "text": [
      " 24%|██▍       | 241/1000 [00:22<01:11, 10.65it/s]"
     ]
    },
    {
     "name": "stdout",
     "output_type": "stream",
     "text": [
      "Epoch  240\n",
      "elbo:  -7.0051165\n",
      "true diff to theta:  0.9824262762204568\n"
     ]
    },
    {
     "name": "stderr",
     "output_type": "stream",
     "text": [
      " 25%|██▌       | 253/1000 [00:24<01:08, 10.86it/s]"
     ]
    },
    {
     "name": "stdout",
     "output_type": "stream",
     "text": [
      "Epoch  250\n",
      "elbo:  -7.0043817\n",
      "true diff to theta:  0.9481255116381736\n"
     ]
    },
    {
     "name": "stderr",
     "output_type": "stream",
     "text": [
      " 26%|██▋       | 263/1000 [00:25<01:08, 10.76it/s]"
     ]
    },
    {
     "name": "stdout",
     "output_type": "stream",
     "text": [
      "Epoch  260\n",
      "elbo:  -7.0071363\n",
      "true diff to theta:  0.9179196765805885\n"
     ]
    },
    {
     "name": "stderr",
     "output_type": "stream",
     "text": [
      " 27%|██▋       | 271/1000 [00:25<01:10, 10.32it/s]"
     ]
    },
    {
     "name": "stdout",
     "output_type": "stream",
     "text": [
      "Epoch  270\n",
      "elbo:  -7.004233\n",
      "true diff to theta:  0.890826041998277\n"
     ]
    },
    {
     "name": "stderr",
     "output_type": "stream",
     "text": [
      " 28%|██▊       | 283/1000 [00:26<01:07, 10.59it/s]"
     ]
    },
    {
     "name": "stdout",
     "output_type": "stream",
     "text": [
      "Epoch  280\n",
      "elbo:  -7.0067196\n",
      "true diff to theta:  0.8643889918938491\n"
     ]
    },
    {
     "name": "stderr",
     "output_type": "stream",
     "text": [
      " 29%|██▉       | 293/1000 [00:27<01:06, 10.61it/s]"
     ]
    },
    {
     "name": "stdout",
     "output_type": "stream",
     "text": [
      "Epoch  290\n",
      "elbo:  -7.006531\n",
      "true diff to theta:  0.8451954747031822\n"
     ]
    },
    {
     "name": "stderr",
     "output_type": "stream",
     "text": [
      " 30%|███       | 301/1000 [00:28<01:08, 10.18it/s]"
     ]
    },
    {
     "name": "stdout",
     "output_type": "stream",
     "text": [
      "Epoch  300\n",
      "elbo:  -7.0062327\n",
      "true diff to theta:  0.8313520398807174\n"
     ]
    },
    {
     "name": "stderr",
     "output_type": "stream",
     "text": [
      " 31%|███▏      | 313/1000 [00:29<01:06, 10.40it/s]"
     ]
    },
    {
     "name": "stdout",
     "output_type": "stream",
     "text": [
      "Epoch  310\n",
      "elbo:  -7.0039825\n",
      "true diff to theta:  0.8131833663160872\n"
     ]
    },
    {
     "name": "stderr",
     "output_type": "stream",
     "text": [
      " 32%|███▏      | 321/1000 [00:30<01:04, 10.48it/s]"
     ]
    },
    {
     "name": "stdout",
     "output_type": "stream",
     "text": [
      "Epoch  320\n",
      "elbo:  -7.006654\n",
      "true diff to theta:  0.7978233949202244\n"
     ]
    },
    {
     "name": "stderr",
     "output_type": "stream",
     "text": [
      " 33%|███▎      | 333/1000 [00:31<01:01, 10.77it/s]"
     ]
    },
    {
     "name": "stdout",
     "output_type": "stream",
     "text": [
      "Epoch  330\n",
      "elbo:  -7.006268\n",
      "true diff to theta:  0.7843253753353464\n"
     ]
    },
    {
     "name": "stderr",
     "output_type": "stream",
     "text": [
      " 34%|███▍      | 343/1000 [00:32<01:00, 10.89it/s]"
     ]
    },
    {
     "name": "stdout",
     "output_type": "stream",
     "text": [
      "Epoch  340\n",
      "elbo:  -7.0048394\n",
      "true diff to theta:  0.7728929848729652\n"
     ]
    },
    {
     "name": "stderr",
     "output_type": "stream",
     "text": [
      " 35%|███▌      | 353/1000 [00:33<00:59, 10.82it/s]"
     ]
    },
    {
     "name": "stdout",
     "output_type": "stream",
     "text": [
      "Epoch  350\n",
      "elbo:  -7.005094\n",
      "true diff to theta:  0.759494416610997\n"
     ]
    },
    {
     "name": "stderr",
     "output_type": "stream",
     "text": [
      " 36%|███▋      | 363/1000 [00:34<00:59, 10.78it/s]"
     ]
    },
    {
     "name": "stdout",
     "output_type": "stream",
     "text": [
      "Epoch  360\n",
      "elbo:  -7.0035706\n",
      "true diff to theta:  0.7505402290911253\n"
     ]
    },
    {
     "name": "stderr",
     "output_type": "stream",
     "text": [
      " 37%|███▋      | 373/1000 [00:35<00:58, 10.72it/s]"
     ]
    },
    {
     "name": "stdout",
     "output_type": "stream",
     "text": [
      "Epoch  370\n",
      "elbo:  -7.002472\n",
      "true diff to theta:  0.7454203050470198\n"
     ]
    },
    {
     "name": "stderr",
     "output_type": "stream",
     "text": [
      " 38%|███▊      | 383/1000 [00:36<00:58, 10.63it/s]"
     ]
    },
    {
     "name": "stdout",
     "output_type": "stream",
     "text": [
      "Epoch  380\n",
      "elbo:  -7.004282\n",
      "true diff to theta:  0.7342397624756343\n"
     ]
    },
    {
     "name": "stderr",
     "output_type": "stream",
     "text": [
      " 39%|███▉      | 393/1000 [00:37<00:57, 10.61it/s]"
     ]
    },
    {
     "name": "stdout",
     "output_type": "stream",
     "text": [
      "Epoch  390\n",
      "elbo:  -7.00533\n",
      "true diff to theta:  0.7290503998812184\n"
     ]
    },
    {
     "name": "stderr",
     "output_type": "stream",
     "text": [
      " 40%|████      | 403/1000 [00:38<00:54, 10.93it/s]"
     ]
    },
    {
     "name": "stdout",
     "output_type": "stream",
     "text": [
      "Epoch  400\n",
      "elbo:  -7.0048337\n",
      "true diff to theta:  0.7212480404665592\n"
     ]
    },
    {
     "name": "stderr",
     "output_type": "stream",
     "text": [
      " 41%|████▏     | 413/1000 [00:39<00:53, 10.92it/s]"
     ]
    },
    {
     "name": "stdout",
     "output_type": "stream",
     "text": [
      "Epoch  410\n",
      "elbo:  -7.0022745\n",
      "true diff to theta:  0.7148329227611401\n"
     ]
    },
    {
     "name": "stderr",
     "output_type": "stream",
     "text": [
      " 42%|████▏     | 423/1000 [00:39<00:52, 10.92it/s]"
     ]
    },
    {
     "name": "stdout",
     "output_type": "stream",
     "text": [
      "Epoch  420\n",
      "elbo:  -7.0031424\n",
      "true diff to theta:  0.7110073051862492\n"
     ]
    },
    {
     "name": "stderr",
     "output_type": "stream",
     "text": [
      " 43%|████▎     | 433/1000 [00:40<00:53, 10.62it/s]"
     ]
    },
    {
     "name": "stdout",
     "output_type": "stream",
     "text": [
      "Epoch  430\n",
      "elbo:  -7.0038934\n",
      "true diff to theta:  0.7043813972808101\n"
     ]
    },
    {
     "name": "stderr",
     "output_type": "stream",
     "text": [
      " 44%|████▍     | 443/1000 [00:41<00:52, 10.57it/s]"
     ]
    },
    {
     "name": "stdout",
     "output_type": "stream",
     "text": [
      "Epoch  440\n",
      "elbo:  -7.0017757\n",
      "true diff to theta:  0.6985036629240441\n"
     ]
    },
    {
     "name": "stderr",
     "output_type": "stream",
     "text": [
      " 45%|████▌     | 453/1000 [00:42<00:51, 10.67it/s]"
     ]
    },
    {
     "name": "stdout",
     "output_type": "stream",
     "text": [
      "Epoch  450\n",
      "elbo:  -7.002183\n",
      "true diff to theta:  0.6944161026151746\n"
     ]
    },
    {
     "name": "stderr",
     "output_type": "stream",
     "text": [
      " 46%|████▋     | 463/1000 [00:43<00:50, 10.66it/s]"
     ]
    },
    {
     "name": "stdout",
     "output_type": "stream",
     "text": [
      "Epoch  460\n",
      "elbo:  -7.0033007\n",
      "true diff to theta:  0.6909425030088236\n"
     ]
    },
    {
     "name": "stderr",
     "output_type": "stream",
     "text": [
      " 47%|████▋     | 471/1000 [00:44<00:51, 10.20it/s]"
     ]
    },
    {
     "name": "stdout",
     "output_type": "stream",
     "text": [
      "Epoch  470\n",
      "elbo:  -7.002959\n",
      "true diff to theta:  0.6867406550616498\n"
     ]
    },
    {
     "name": "stderr",
     "output_type": "stream",
     "text": [
      " 48%|████▊     | 481/1000 [00:45<00:50, 10.31it/s]"
     ]
    },
    {
     "name": "stdout",
     "output_type": "stream",
     "text": [
      "Epoch  480\n",
      "elbo:  -7.0021396\n",
      "true diff to theta:  0.6819201951289897\n"
     ]
    },
    {
     "name": "stderr",
     "output_type": "stream",
     "text": [
      " 49%|████▉     | 493/1000 [00:46<00:47, 10.75it/s]"
     ]
    },
    {
     "name": "stdout",
     "output_type": "stream",
     "text": [
      "Epoch  490\n",
      "elbo:  -7.0016866\n",
      "true diff to theta:  0.6767501312831974\n"
     ]
    },
    {
     "name": "stderr",
     "output_type": "stream",
     "text": [
      " 50%|█████     | 501/1000 [00:47<00:46, 10.69it/s]"
     ]
    },
    {
     "name": "stdout",
     "output_type": "stream",
     "text": [
      "Epoch  500\n",
      "elbo:  -7.0041127\n",
      "true diff to theta:  0.6772465811847996\n"
     ]
    },
    {
     "name": "stderr",
     "output_type": "stream",
     "text": [
      " 51%|█████     | 512/1000 [00:48<00:51,  9.51it/s]"
     ]
    },
    {
     "name": "stdout",
     "output_type": "stream",
     "text": [
      "Epoch  510\n",
      "elbo:  -7.0027127\n",
      "true diff to theta:  0.66911980289084\n"
     ]
    },
    {
     "name": "stderr",
     "output_type": "stream",
     "text": [
      " 52%|█████▏    | 523/1000 [00:49<00:48,  9.78it/s]"
     ]
    },
    {
     "name": "stdout",
     "output_type": "stream",
     "text": [
      "Epoch  520\n",
      "elbo:  -7.0020204\n",
      "true diff to theta:  0.6680413749051899\n"
     ]
    },
    {
     "name": "stderr",
     "output_type": "stream",
     "text": [
      " 53%|█████▎    | 532/1000 [00:50<00:47,  9.81it/s]"
     ]
    },
    {
     "name": "stdout",
     "output_type": "stream",
     "text": [
      "Epoch  530\n",
      "elbo:  -7.003356\n",
      "true diff to theta:  0.6686238778061588\n"
     ]
    },
    {
     "name": "stderr",
     "output_type": "stream",
     "text": [
      " 54%|█████▍    | 542/1000 [00:51<00:45, 10.09it/s]"
     ]
    },
    {
     "name": "stdout",
     "output_type": "stream",
     "text": [
      "Epoch  540\n",
      "elbo:  -7.0029182\n",
      "true diff to theta:  0.6640410895968172\n"
     ]
    },
    {
     "name": "stderr",
     "output_type": "stream",
     "text": [
      " 55%|█████▌    | 552/1000 [00:52<00:43, 10.33it/s]"
     ]
    },
    {
     "name": "stdout",
     "output_type": "stream",
     "text": [
      "Epoch  550\n",
      "elbo:  -7.0030823\n",
      "true diff to theta:  0.6592788390203919\n"
     ]
    },
    {
     "name": "stderr",
     "output_type": "stream",
     "text": [
      " 56%|█████▌    | 562/1000 [00:53<00:42, 10.22it/s]"
     ]
    },
    {
     "name": "stdout",
     "output_type": "stream",
     "text": [
      "Epoch  560\n",
      "elbo:  -7.001764\n",
      "true diff to theta:  0.6588351572958019\n"
     ]
    },
    {
     "name": "stderr",
     "output_type": "stream",
     "text": [
      " 57%|█████▋    | 572/1000 [00:54<00:40, 10.65it/s]"
     ]
    },
    {
     "name": "stdout",
     "output_type": "stream",
     "text": [
      "Epoch  570\n",
      "elbo:  -7.002419\n",
      "true diff to theta:  0.6586671308599741\n"
     ]
    },
    {
     "name": "stderr",
     "output_type": "stream",
     "text": [
      " 58%|█████▊    | 582/1000 [00:55<00:38, 10.80it/s]"
     ]
    },
    {
     "name": "stdout",
     "output_type": "stream",
     "text": [
      "Epoch  580\n",
      "elbo:  -7.0040765\n",
      "true diff to theta:  0.6582361564816488\n"
     ]
    },
    {
     "name": "stderr",
     "output_type": "stream",
     "text": [
      " 59%|█████▉    | 592/1000 [00:56<00:37, 10.82it/s]"
     ]
    },
    {
     "name": "stdout",
     "output_type": "stream",
     "text": [
      "Epoch  590\n",
      "elbo:  -7.003451\n",
      "true diff to theta:  0.6596014321665636\n"
     ]
    },
    {
     "name": "stderr",
     "output_type": "stream",
     "text": [
      " 60%|██████    | 602/1000 [00:57<00:36, 10.94it/s]"
     ]
    },
    {
     "name": "stdout",
     "output_type": "stream",
     "text": [
      "Epoch  600\n",
      "elbo:  -6.999542\n",
      "true diff to theta:  0.6577891876188616\n"
     ]
    },
    {
     "name": "stderr",
     "output_type": "stream",
     "text": [
      " 61%|██████    | 612/1000 [00:57<00:35, 10.91it/s]"
     ]
    },
    {
     "name": "stdout",
     "output_type": "stream",
     "text": [
      "Epoch  610\n",
      "elbo:  -7.0018945\n",
      "true diff to theta:  0.6520993670384824\n"
     ]
    },
    {
     "name": "stderr",
     "output_type": "stream",
     "text": [
      " 62%|██████▏   | 622/1000 [00:58<00:34, 10.96it/s]"
     ]
    },
    {
     "name": "stdout",
     "output_type": "stream",
     "text": [
      "Epoch  620\n",
      "elbo:  -7.001298\n",
      "true diff to theta:  0.6515680640967654\n"
     ]
    },
    {
     "name": "stderr",
     "output_type": "stream",
     "text": [
      " 63%|██████▎   | 632/1000 [00:59<00:33, 10.89it/s]"
     ]
    },
    {
     "name": "stdout",
     "output_type": "stream",
     "text": [
      "Epoch  630\n",
      "elbo:  -7.0019803\n",
      "true diff to theta:  0.654967998063317\n"
     ]
    },
    {
     "name": "stderr",
     "output_type": "stream",
     "text": [
      " 64%|██████▍   | 642/1000 [01:00<00:33, 10.73it/s]"
     ]
    },
    {
     "name": "stdout",
     "output_type": "stream",
     "text": [
      "Epoch  640\n",
      "elbo:  -7.001059\n",
      "true diff to theta:  0.6503071174304783\n"
     ]
    },
    {
     "name": "stderr",
     "output_type": "stream",
     "text": [
      " 65%|██████▌   | 652/1000 [01:01<00:31, 10.89it/s]"
     ]
    },
    {
     "name": "stdout",
     "output_type": "stream",
     "text": [
      "Epoch  650\n",
      "elbo:  -7.001407\n",
      "true diff to theta:  0.6476674886782424\n"
     ]
    },
    {
     "name": "stderr",
     "output_type": "stream",
     "text": [
      " 66%|██████▌   | 662/1000 [01:02<00:30, 10.97it/s]"
     ]
    },
    {
     "name": "stdout",
     "output_type": "stream",
     "text": [
      "Epoch  660\n",
      "elbo:  -7.001593\n",
      "true diff to theta:  0.6490758918775668\n"
     ]
    },
    {
     "name": "stderr",
     "output_type": "stream",
     "text": [
      " 67%|██████▋   | 672/1000 [01:03<00:30, 10.92it/s]"
     ]
    },
    {
     "name": "stdout",
     "output_type": "stream",
     "text": [
      "Epoch  670\n",
      "elbo:  -7.0031753\n",
      "true diff to theta:  0.6479989774222484\n"
     ]
    },
    {
     "name": "stderr",
     "output_type": "stream",
     "text": [
      " 68%|██████▊   | 682/1000 [01:04<00:29, 10.90it/s]"
     ]
    },
    {
     "name": "stdout",
     "output_type": "stream",
     "text": [
      "Epoch  680\n",
      "elbo:  -7.001695\n",
      "true diff to theta:  0.6446531122265856\n"
     ]
    },
    {
     "name": "stderr",
     "output_type": "stream",
     "text": [
      " 69%|██████▉   | 692/1000 [01:05<00:28, 10.91it/s]"
     ]
    },
    {
     "name": "stdout",
     "output_type": "stream",
     "text": [
      "Epoch  690\n",
      "elbo:  -7.00335\n",
      "true diff to theta:  0.6491921926294157\n"
     ]
    },
    {
     "name": "stderr",
     "output_type": "stream",
     "text": [
      " 70%|███████   | 702/1000 [01:06<00:27, 10.91it/s]"
     ]
    },
    {
     "name": "stdout",
     "output_type": "stream",
     "text": [
      "Epoch  700\n",
      "elbo:  -7.001244\n",
      "true diff to theta:  0.6432428766211223\n"
     ]
    },
    {
     "name": "stderr",
     "output_type": "stream",
     "text": [
      " 71%|███████   | 712/1000 [01:06<00:26, 10.88it/s]"
     ]
    },
    {
     "name": "stdout",
     "output_type": "stream",
     "text": [
      "Epoch  710\n",
      "elbo:  -7.001522\n",
      "true diff to theta:  0.6443614642815174\n"
     ]
    },
    {
     "name": "stderr",
     "output_type": "stream",
     "text": [
      " 72%|███████▏  | 722/1000 [01:07<00:25, 10.88it/s]"
     ]
    },
    {
     "name": "stdout",
     "output_type": "stream",
     "text": [
      "Epoch  720\n",
      "elbo:  -7.002323\n",
      "true diff to theta:  0.6439024266078117\n"
     ]
    },
    {
     "name": "stderr",
     "output_type": "stream",
     "text": [
      " 73%|███████▎  | 732/1000 [01:08<00:24, 10.88it/s]"
     ]
    },
    {
     "name": "stdout",
     "output_type": "stream",
     "text": [
      "Epoch  730\n",
      "elbo:  -7.000979\n",
      "true diff to theta:  0.6411054128930117\n"
     ]
    },
    {
     "name": "stderr",
     "output_type": "stream",
     "text": [
      " 74%|███████▍  | 742/1000 [01:09<00:23, 10.90it/s]"
     ]
    },
    {
     "name": "stdout",
     "output_type": "stream",
     "text": [
      "Epoch  740\n",
      "elbo:  -7.002311\n",
      "true diff to theta:  0.6398279767966124\n"
     ]
    },
    {
     "name": "stderr",
     "output_type": "stream",
     "text": [
      " 75%|███████▌  | 752/1000 [01:10<00:22, 10.94it/s]"
     ]
    },
    {
     "name": "stdout",
     "output_type": "stream",
     "text": [
      "Epoch  750\n",
      "elbo:  -7.000696\n",
      "true diff to theta:  0.6433677303234834\n"
     ]
    },
    {
     "name": "stderr",
     "output_type": "stream",
     "text": [
      " 76%|███████▌  | 762/1000 [01:11<00:21, 10.82it/s]"
     ]
    },
    {
     "name": "stdout",
     "output_type": "stream",
     "text": [
      "Epoch  760\n",
      "elbo:  -7.0012603\n",
      "true diff to theta:  0.6429753439298858\n"
     ]
    },
    {
     "name": "stderr",
     "output_type": "stream",
     "text": [
      " 77%|███████▋  | 772/1000 [01:12<00:20, 10.90it/s]"
     ]
    },
    {
     "name": "stdout",
     "output_type": "stream",
     "text": [
      "Epoch  770\n",
      "elbo:  -7.0016246\n",
      "true diff to theta:  0.640272647811081\n"
     ]
    },
    {
     "name": "stderr",
     "output_type": "stream",
     "text": [
      " 78%|███████▊  | 782/1000 [01:13<00:20, 10.88it/s]"
     ]
    },
    {
     "name": "stdout",
     "output_type": "stream",
     "text": [
      "Epoch  780\n",
      "elbo:  -7.001465\n",
      "true diff to theta:  0.6425304373893908\n"
     ]
    },
    {
     "name": "stderr",
     "output_type": "stream",
     "text": [
      " 79%|███████▉  | 792/1000 [01:14<00:19, 10.92it/s]"
     ]
    },
    {
     "name": "stdout",
     "output_type": "stream",
     "text": [
      "Epoch  790\n",
      "elbo:  -7.0014615\n",
      "true diff to theta:  0.6427827596467801\n"
     ]
    },
    {
     "name": "stderr",
     "output_type": "stream",
     "text": [
      " 80%|████████  | 802/1000 [01:15<00:18, 10.98it/s]"
     ]
    },
    {
     "name": "stdout",
     "output_type": "stream",
     "text": [
      "Epoch  800\n",
      "elbo:  -6.9997053\n",
      "true diff to theta:  0.6464437330409638\n"
     ]
    },
    {
     "name": "stderr",
     "output_type": "stream",
     "text": [
      " 81%|████████  | 812/1000 [01:16<00:17, 11.01it/s]"
     ]
    },
    {
     "name": "stdout",
     "output_type": "stream",
     "text": [
      "Epoch  810\n",
      "elbo:  -6.9998283\n",
      "true diff to theta:  0.643598654296422\n"
     ]
    },
    {
     "name": "stderr",
     "output_type": "stream",
     "text": [
      " 82%|████████▏ | 822/1000 [01:16<00:16, 10.98it/s]"
     ]
    },
    {
     "name": "stdout",
     "output_type": "stream",
     "text": [
      "Epoch  820\n",
      "elbo:  -7.000815\n",
      "true diff to theta:  0.6463034940980119\n"
     ]
    },
    {
     "name": "stderr",
     "output_type": "stream",
     "text": [
      " 83%|████████▎ | 832/1000 [01:17<00:15, 10.94it/s]"
     ]
    },
    {
     "name": "stdout",
     "output_type": "stream",
     "text": [
      "Epoch  830\n",
      "elbo:  -7.002366\n",
      "true diff to theta:  0.6449082387117039\n"
     ]
    },
    {
     "name": "stderr",
     "output_type": "stream",
     "text": [
      " 84%|████████▍ | 842/1000 [01:18<00:14, 10.97it/s]"
     ]
    },
    {
     "name": "stdout",
     "output_type": "stream",
     "text": [
      "Epoch  840\n",
      "elbo:  -7.00062\n",
      "true diff to theta:  0.6457859231343677\n"
     ]
    },
    {
     "name": "stderr",
     "output_type": "stream",
     "text": [
      " 85%|████████▌ | 852/1000 [01:19<00:13, 10.98it/s]"
     ]
    },
    {
     "name": "stdout",
     "output_type": "stream",
     "text": [
      "Epoch  850\n",
      "elbo:  -7.000357\n",
      "true diff to theta:  0.6407160540288686\n"
     ]
    },
    {
     "name": "stderr",
     "output_type": "stream",
     "text": [
      " 86%|████████▌ | 862/1000 [01:20<00:12, 10.93it/s]"
     ]
    },
    {
     "name": "stdout",
     "output_type": "stream",
     "text": [
      "Epoch  860\n",
      "elbo:  -7.0021596\n",
      "true diff to theta:  0.64307467795758\n"
     ]
    },
    {
     "name": "stderr",
     "output_type": "stream",
     "text": [
      " 87%|████████▋ | 872/1000 [01:21<00:11, 10.92it/s]"
     ]
    },
    {
     "name": "stdout",
     "output_type": "stream",
     "text": [
      "Epoch  870\n",
      "elbo:  -7.000884\n",
      "true diff to theta:  0.6394571997168488\n"
     ]
    },
    {
     "name": "stderr",
     "output_type": "stream",
     "text": [
      " 88%|████████▊ | 882/1000 [01:22<00:10, 10.96it/s]"
     ]
    },
    {
     "name": "stdout",
     "output_type": "stream",
     "text": [
      "Epoch  880\n",
      "elbo:  -7.0035515\n",
      "true diff to theta:  0.6403232260487545\n"
     ]
    },
    {
     "name": "stderr",
     "output_type": "stream",
     "text": [
      " 89%|████████▉ | 892/1000 [01:23<00:09, 10.88it/s]"
     ]
    },
    {
     "name": "stdout",
     "output_type": "stream",
     "text": [
      "Epoch  890\n",
      "elbo:  -6.998555\n",
      "true diff to theta:  0.6435688160415065\n"
     ]
    },
    {
     "name": "stderr",
     "output_type": "stream",
     "text": [
      " 90%|█████████ | 902/1000 [01:24<00:09, 10.68it/s]"
     ]
    },
    {
     "name": "stdout",
     "output_type": "stream",
     "text": [
      "Epoch  900\n",
      "elbo:  -7.000453\n",
      "true diff to theta:  0.6455372743019223\n"
     ]
    },
    {
     "name": "stderr",
     "output_type": "stream",
     "text": [
      " 91%|█████████ | 912/1000 [01:25<00:08, 10.55it/s]"
     ]
    },
    {
     "name": "stdout",
     "output_type": "stream",
     "text": [
      "Epoch  910\n",
      "elbo:  -7.000627\n",
      "true diff to theta:  0.6397835799530699\n"
     ]
    },
    {
     "name": "stderr",
     "output_type": "stream",
     "text": [
      " 92%|█████████▏| 922/1000 [01:26<00:07, 10.68it/s]"
     ]
    },
    {
     "name": "stdout",
     "output_type": "stream",
     "text": [
      "Epoch  920\n",
      "elbo:  -7.0014687\n",
      "true diff to theta:  0.6423996995269387\n"
     ]
    },
    {
     "name": "stderr",
     "output_type": "stream",
     "text": [
      " 93%|█████████▎| 932/1000 [01:26<00:06, 10.88it/s]"
     ]
    },
    {
     "name": "stdout",
     "output_type": "stream",
     "text": [
      "Epoch  930\n",
      "elbo:  -7.002005\n",
      "true diff to theta:  0.6402307211382776\n"
     ]
    },
    {
     "name": "stderr",
     "output_type": "stream",
     "text": [
      " 94%|█████████▍| 942/1000 [01:27<00:05, 10.94it/s]"
     ]
    },
    {
     "name": "stdout",
     "output_type": "stream",
     "text": [
      "Epoch  940\n",
      "elbo:  -7.0013156\n",
      "true diff to theta:  0.642762281913206\n"
     ]
    },
    {
     "name": "stderr",
     "output_type": "stream",
     "text": [
      " 95%|█████████▌| 952/1000 [01:28<00:04, 10.97it/s]"
     ]
    },
    {
     "name": "stdout",
     "output_type": "stream",
     "text": [
      "Epoch  950\n",
      "elbo:  -6.998384\n",
      "true diff to theta:  0.6405966509794723\n"
     ]
    },
    {
     "name": "stderr",
     "output_type": "stream",
     "text": [
      " 96%|█████████▌| 962/1000 [01:29<00:03, 10.92it/s]"
     ]
    },
    {
     "name": "stdout",
     "output_type": "stream",
     "text": [
      "Epoch  960\n",
      "elbo:  -7.0008707\n",
      "true diff to theta:  0.6405353044932632\n"
     ]
    },
    {
     "name": "stderr",
     "output_type": "stream",
     "text": [
      " 97%|█████████▋| 972/1000 [01:30<00:02, 10.84it/s]"
     ]
    },
    {
     "name": "stdout",
     "output_type": "stream",
     "text": [
      "Epoch  970\n",
      "elbo:  -7.000318\n",
      "true diff to theta:  0.6448875167025088\n"
     ]
    },
    {
     "name": "stderr",
     "output_type": "stream",
     "text": [
      " 98%|█████████▊| 982/1000 [01:31<00:01, 10.84it/s]"
     ]
    },
    {
     "name": "stdout",
     "output_type": "stream",
     "text": [
      "Epoch  980\n",
      "elbo:  -7.001836\n",
      "true diff to theta:  0.6392167704898349\n"
     ]
    },
    {
     "name": "stderr",
     "output_type": "stream",
     "text": [
      " 99%|█████████▉| 992/1000 [01:32<00:00, 10.94it/s]"
     ]
    },
    {
     "name": "stdout",
     "output_type": "stream",
     "text": [
      "Epoch  990\n",
      "elbo:  -7.001081\n",
      "true diff to theta:  0.639015092444518\n"
     ]
    },
    {
     "name": "stderr",
     "output_type": "stream",
     "text": [
      "100%|██████████| 1000/1000 [01:33<00:00, 10.75it/s]"
     ]
    },
    {
     "name": "stdout",
     "output_type": "stream",
     "text": [
      "true_theta tensor([[-1.5256, -0.7502, -0.6540, -1.6095,  0.8657,  0.2444, -0.6629,  0.8073,\n",
      "          0.4391,  1.1712],\n",
      "        [ 1.7674, -0.0954,  0.0612, -0.6177, -0.7981, -0.1316, -0.7984,  0.3357,\n",
      "          0.2753,  1.7163]])\n",
      "----------------------------------------------------------------------------------------------------\n"
     ]
    },
    {
     "name": "stderr",
     "output_type": "stream",
     "text": [
      "\n"
     ]
    },
    {
     "ename": "NameError",
     "evalue": "name 'dec_vanilla_vae' is not defined",
     "output_type": "error",
     "traceback": [
      "\u001b[0;31m---------------------------------------------------------------------------\u001b[0m",
      "\u001b[0;31mNameError\u001b[0m                                 Traceback (most recent call last)",
      "\u001b[0;32m<ipython-input-9-14f7ea0723d6>\u001b[0m in \u001b[0;36m<module>\u001b[0;34m\u001b[0m\n\u001b[1;32m     63\u001b[0m \u001b[0mprint\u001b[0m\u001b[0;34m(\u001b[0m\u001b[0;34m'true_theta'\u001b[0m\u001b[0;34m,\u001b[0m \u001b[0mtrue_theta\u001b[0m\u001b[0;34m)\u001b[0m\u001b[0;34m\u001b[0m\u001b[0;34m\u001b[0m\u001b[0m\n\u001b[1;32m     64\u001b[0m \u001b[0mprint\u001b[0m\u001b[0;34m(\u001b[0m\u001b[0;34m'-'\u001b[0m \u001b[0;34m*\u001b[0m \u001b[0;36m100\u001b[0m\u001b[0;34m)\u001b[0m\u001b[0;34m\u001b[0m\u001b[0;34m\u001b[0m\u001b[0m\n\u001b[0;32m---> 65\u001b[0;31m \u001b[0mprint\u001b[0m\u001b[0;34m(\u001b[0m\u001b[0mdec_vanilla_vae\u001b[0m\u001b[0;34m.\u001b[0m\u001b[0mW\u001b[0m\u001b[0;34m.\u001b[0m\u001b[0mweight\u001b[0m\u001b[0;34m.\u001b[0m\u001b[0mdetach\u001b[0m\u001b[0;34m(\u001b[0m\u001b[0;34m)\u001b[0m\u001b[0;34m.\u001b[0m\u001b[0mT\u001b[0m\u001b[0;34m)\u001b[0m\u001b[0;34m\u001b[0m\u001b[0;34m\u001b[0m\u001b[0m\n\u001b[0m\u001b[1;32m     66\u001b[0m \u001b[0;34m\u001b[0m\u001b[0m\n\u001b[1;32m     67\u001b[0m \u001b[0;32mfor\u001b[0m \u001b[0mp\u001b[0m \u001b[0;32min\u001b[0m \u001b[0mdec_vanilla_vae\u001b[0m\u001b[0;34m.\u001b[0m\u001b[0mparameters\u001b[0m\u001b[0;34m(\u001b[0m\u001b[0;34m)\u001b[0m\u001b[0;34m:\u001b[0m\u001b[0;34m\u001b[0m\u001b[0;34m\u001b[0m\u001b[0m\n",
      "\u001b[0;31mNameError\u001b[0m: name 'dec_vanilla_vae' is not defined"
     ]
    }
   ],
   "source": [
    "print_info = 10\n",
    "count = 0\n",
    "num_epoches = 1000\n",
    "for ep in tqdm(range(num_epoches)):\n",
    "    elbo_ep = 0\n",
    "    for b_num, batch_train in enumerate(dataloader): # cycle over batches\n",
    "        mu, sigma = enc_vae(batch_train)\n",
    "        u = std_normal.sample(mu.shape)\n",
    "        z = mu + sigma * u # reparametrization trick\n",
    "        prod = (dec_vae(z))\n",
    "        if true_kl == True:\n",
    "            if better_log == True:\n",
    "                log_likelihood = (batch_train * dec_vae(mu) - torch.log(1 + torch.exp(prod))).sum(1)\n",
    "            else:\n",
    "                log_likelihood = torch.distributions.Bernoulli(probs=torch.sigmoid(prod)).log_prob(batch_train).sum(1)\n",
    "            KLD = (-0.5 * (1 + 2 * sigma.log() - mu.pow(2) - sigma.pow(2))).sum(1)\n",
    "            elbo = (log_likelihood - KLD).mean()    \n",
    "        else:    \n",
    "            log_p = torch.distributions.Bernoulli(probs=torch.sigmoid(prod)).log_prob(batch_train).sum(1) + std_normal.log_prob(z).sum(1)\n",
    "            sum_log_sigma = torch.sum(torch.log(sigma), 1)\n",
    "            log_m = std_normal.log_prob(u).sum(1) - sum_log_sigma\n",
    "            elbo = (log_p - log_m).mean()\n",
    "        elbo_ep += elbo\n",
    "        (-elbo).backward()\n",
    "        if ep < first_phi:\n",
    "            optimizer_phi.step()\n",
    "            optimizer_phi.zero_grad()\n",
    "            optimizer_theta.zero_grad()\n",
    "        else:\n",
    "            optimizer_theta.step()\n",
    "            optimizer_phi.step()\n",
    "            optimizer_phi.zero_grad()\n",
    "            optimizer_theta.zero_grad()\n",
    "    if (ep % print_info==0):\n",
    "        print('Epoch ', ep)\n",
    "        print('elbo: ', (elbo_ep / b_num).cpu().detach().numpy())\n",
    "        print('true diff to theta: ', eval(true_theta, dec_vae.W.weight.T, 200))\n",
    "        if False:\n",
    "            init_samples = std_normal_pyro.sample((1, z_dim))\n",
    "            init_params = {'points': init_samples}\n",
    "            nuts_kernel = NUTS(potential_fn=potential_fn)\n",
    "            def potential_fn(z):\n",
    "                z = z['points']\n",
    "                probs = torch.sigmoid(dec_vae(z))\n",
    "                return -torch.sum(pyro.distributions.Bernoulli(probs=probs).log_prob(data[data_ind][None]).sum(1) + std_normal_pyro.log_prob(z).sum(1))\n",
    "            mcmc = MCMC(nuts_kernel,\n",
    "                        initial_params=init_params,\n",
    "                        num_samples=n_samples,\n",
    "                        warmup_steps=n_warmup)\n",
    "            mcmc.run()\n",
    "            z = mcmc.get_samples()['points'].squeeze()\n",
    "            mu, sigma = enc_vae(data[data_ind][None])\n",
    "            u_enc = std_normal_pyro.sample((n_samples, z_dim))\n",
    "            z_enc = mu + sigma * u_enc\n",
    "            z_enc = z_enc.detach()\n",
    "            plt.figure(figsize=(4, 3), dpi=300)\n",
    "            plt.scatter(z[:, 0].cpu(), z[:, 1].cpu(), label='posterior samples', s=10, alpha=0.1)\n",
    "            plt.scatter(z_enc[:, 0].cpu(), z_enc[:, 1].cpu(), label='encoder samples', s=10, alpha=0.1, color='red')\n",
    "            plt.legend()\n",
    "            plt.axis('equal')\n",
    "            plt.show()\n",
    "\n",
    "print('true_theta', true_theta)\n",
    "print('-' * 100)\n",
    "print(dec_vanilla_vae.W.weight.detach().T)\n",
    "\n",
    "for p in dec_vanilla_vae.parameters():\n",
    "    p.requires_grad_(False)\n",
    "u = std_normal.sample((10, z_dim))\n",
    "\n",
    "print('reconstructed probs', torch.sigmoid(dec_vanilla_vae(u)))\n",
    "print('true probs', torch.sigmoid(u @ true_theta))\n"
   ]
  },
  {
   "cell_type": "code",
   "execution_count": null,
   "metadata": {
    "collapsed": true,
    "jupyter": {
     "outputs_hidden": true
    }
   },
   "outputs": [],
   "source": []
  },
  {
   "cell_type": "markdown",
   "metadata": {},
   "source": [
    "## Task 4"
   ]
  },
  {
   "cell_type": "markdown",
   "metadata": {},
   "source": [
    "### Selecting best annealing coeff"
   ]
  },
  {
   "cell_type": "code",
   "execution_count": 17,
   "metadata": {},
   "outputs": [],
   "source": [
    "K = 8\n",
    "num_epoches = 3000\n",
    "batch_size = 200\n",
    "print_info_ = 500\n",
    "\n",
    "dataloader = torch.utils.data.DataLoader(data, batch_size=batch_size, shuffle=True)\n",
    "dataloader_val = torch.utils.data.DataLoader(data_val, batch_size=batch_size, shuffle=True)\n",
    "\n",
    "enc = Encoder_vae(data_dim=data_dim, z_dim=z_dim, K=K).to(device)\n",
    "dec_annealing_all = Decoder(data_dim=data_dim, z_dim=z_dim).to(device)\n",
    "\n",
    "params = list(enc.parameters()) + list(dec_annealing_all.parameters())\n",
    "optimizer = torch.optim.Adam(params=params, lr=3e-4)\n",
    "scheduler = torch.optim.lr_scheduler.ReduceLROnPlateau(optimizer, verbose=True, threshold=1e-2, eps=1e-6, mode='max', patience=150, factor=0.75)"
   ]
  },
  {
   "cell_type": "code",
   "execution_count": 18,
   "metadata": {},
   "outputs": [],
   "source": [
    "def run_validation(enc, dec):\n",
    "    for p in enc.parameters():\n",
    "        p.requires_grad_(False)\n",
    "        \n",
    "    for p in dec.parameters():\n",
    "        p.requires_grad_(False)\n",
    "        \n",
    "    j = 0\n",
    "    elbo_sum = 0\n",
    "    for b_num, batch_val in enumerate(dataloader_val):\n",
    "        mu, sigma = enc(batch_val) # sample mu and sigma from encoder\n",
    "        u = std_normal.sample(mu.shape) # sample random tensor for reparametrization trick\n",
    "        z = mu + u * sigma # reperametrization trick\n",
    "\n",
    "        prod = dec(z)\n",
    "        log_likelihood = torch.mean(torch.distributions.Bernoulli(probs=torch.sigmoid(prod)).log_prob(batch_val))\n",
    "\n",
    "        KLD = -0.5 * torch.mean(1 + 2 * sigma.log() - mu.pow(2) - sigma.pow(2))\n",
    "        elbo = log_likelihood - KLD\n",
    "        \n",
    "        j += 1\n",
    "        elbo_sum += elbo.cpu().detach().numpy()\n",
    "        \n",
    "    elbo_sum /= j\n",
    "    for p in enc.parameters():\n",
    "        p.requires_grad_(True)\n",
    "        \n",
    "    for p in dec.parameters():\n",
    "        p.requires_grad_(True)\n",
    "    return elbo_sum"
   ]
  },
  {
   "cell_type": "code",
   "execution_count": 19,
   "metadata": {},
   "outputs": [],
   "source": [
    "def run_training(enc, dec, best_beta=None, annealing_beta=True):\n",
    "    patience = 100\n",
    "    patience_current = 0\n",
    "    \n",
    "    if annealing_beta:\n",
    "        beta = torch.linspace(0., 1., 20, device=device)\n",
    "        beta_ind = 0\n",
    "        beta_current = beta[beta_ind]\n",
    "        best_ind = 0\n",
    "    else:\n",
    "        beta_current = 1.\n",
    "\n",
    "    best_elbo = -float('inf')\n",
    "    iterator = tqdm(range(num_epoches))\n",
    "\n",
    "    for ep in iterator: # cycle over epoches\n",
    "        j = 0\n",
    "        elbo_sum = 0\n",
    "        for b_num, batch_train in enumerate(dataloader): # cycle over batches\n",
    "            mu, sigma = enc(batch_train) # sample mu and sigma from encoder\n",
    "            u = std_normal.sample(mu.shape) # sample random tensor for reparametrization trick\n",
    "            z = mu + u * sigma # reperametrization trick\n",
    "\n",
    "            prod = dec(z)\n",
    "#             log_likelihood = torch.mean(torch.distributions.Bernoulli(probs=torch.sigmoid(prod)).log_prob(batch_train))\n",
    "            log_likelihood = (batch_train * dec(mu) - torch.log(1 + torch.exp(prod))).sum(1)\n",
    "\n",
    "            KLD = beta_current * (-0.5) * torch.sum(1 + 2 * sigma.log() - mu.pow(2) - sigma.pow(2), 1)\n",
    "            elbo = torch.mean(log_likelihood - KLD)\n",
    "            \n",
    "            (-elbo).backward()\n",
    "\n",
    "            optimizer.step()\n",
    "            optimizer.zero_grad()\n",
    "\n",
    "            j += 1\n",
    "            elbo_sum += elbo.cpu().detach().numpy()\n",
    "\n",
    "        current_val_elbo = run_validation(enc, dec)\n",
    "        elbo_sum /= j\n",
    "\n",
    "        if current_val_elbo > best_elbo:\n",
    "            patience_current = 0\n",
    "            best_elbo = current_val_elbo\n",
    "            if annealing_beta:\n",
    "                best_ind = beta_ind\n",
    "        else:\n",
    "            patience_current += 1\n",
    "            if patience_current >= patience:\n",
    "                if annealing_beta:\n",
    "                    beta_ind = min(beta_ind + 1, beta.shape[0] - 1)\n",
    "                    if best_beta:\n",
    "                        beta_current = min(beta[beta_ind], best_beta)\n",
    "                    else:\n",
    "                        beta_current = beta[beta_ind]\n",
    "                    patience_current = 0\n",
    "                    print('Current beta:', beta_current)\n",
    "                else:\n",
    "                    iterator.close()\n",
    "                    break\n",
    "\n",
    "    #     scheduler.step(elbo_sum)\n",
    "        if ep % print_info_ == 0:\n",
    "            print('Current validational ELBO:', current_val_elbo)\n",
    "            if annealing_beta:\n",
    "                print('Current best validational ELBO:', best_elbo, 'index:', best_ind)\n",
    "            else:\n",
    "                print('Current best validational ELBO:', best_elbo)\n",
    "            print('elbo mean over epoch:', elbo_sum)\n",
    "            print('elbo:', elbo.cpu().detach().numpy())\n",
    "            print('likelihood', log_likelihood.cpu().mean().detach().numpy())\n",
    "            print('KLD', KLD.cpu().mean().detach().numpy())\n",
    "    if annealing_beta and (best_beta is None):\n",
    "        print('Finish')\n",
    "        print('Best beta', beta[best_ind])\n",
    "        return beta[best_ind]"
   ]
  },
  {
   "cell_type": "code",
   "execution_count": 20,
   "metadata": {},
   "outputs": [
    {
     "name": "stderr",
     "output_type": "stream",
     "text": [
      "  0%|          | 2/3000 [00:00<07:42,  6.48it/s]"
     ]
    },
    {
     "name": "stdout",
     "output_type": "stream",
     "text": [
      "Current validational ELBO: -0.7893006682395936\n",
      "Current best validational ELBO: -0.7893006682395936 index: 0\n",
      "elbo mean over epoch: -7.3495682334899906\n",
      "elbo: -7.305869\n",
      "likelihood -7.305869\n",
      "KLD 0.0\n"
     ]
    },
    {
     "name": "stderr",
     "output_type": "stream",
     "text": [
      "  3%|▎         | 102/3000 [00:13<06:31,  7.39it/s]"
     ]
    },
    {
     "name": "stdout",
     "output_type": "stream",
     "text": [
      "Current beta: tensor(0.0526, device='cuda:0')\n"
     ]
    },
    {
     "name": "stderr",
     "output_type": "stream",
     "text": [
      "  7%|▋         | 202/3000 [00:27<06:18,  7.39it/s]"
     ]
    },
    {
     "name": "stdout",
     "output_type": "stream",
     "text": [
      "Current beta: tensor(0.1053, device='cuda:0')\n"
     ]
    },
    {
     "name": "stderr",
     "output_type": "stream",
     "text": [
      " 10%|█         | 302/3000 [00:40<06:09,  7.31it/s]"
     ]
    },
    {
     "name": "stdout",
     "output_type": "stream",
     "text": [
      "Current beta: tensor(0.1579, device='cuda:0')\n"
     ]
    },
    {
     "name": "stderr",
     "output_type": "stream",
     "text": [
      " 13%|█▎        | 402/3000 [00:54<05:57,  7.26it/s]"
     ]
    },
    {
     "name": "stdout",
     "output_type": "stream",
     "text": [
      "Current beta: tensor(0.2105, device='cuda:0')\n"
     ]
    },
    {
     "name": "stderr",
     "output_type": "stream",
     "text": [
      " 17%|█▋        | 502/3000 [01:08<05:41,  7.32it/s]"
     ]
    },
    {
     "name": "stdout",
     "output_type": "stream",
     "text": [
      "Current beta: tensor(0.2632, device='cuda:0')\n",
      "Current validational ELBO: -1.8769989252090453\n",
      "Current best validational ELBO: -0.7893006682395936 index: 0\n",
      "elbo mean over epoch: -4.92001745223999\n",
      "elbo: -4.627346\n",
      "likelihood -4.011404\n",
      "KLD 0.6159412\n"
     ]
    },
    {
     "name": "stderr",
     "output_type": "stream",
     "text": [
      " 20%|██        | 602/3000 [01:21<05:21,  7.45it/s]"
     ]
    },
    {
     "name": "stdout",
     "output_type": "stream",
     "text": [
      "Current beta: tensor(0.3158, device='cuda:0')\n"
     ]
    },
    {
     "name": "stderr",
     "output_type": "stream",
     "text": [
      " 23%|██▎       | 702/3000 [01:35<05:15,  7.29it/s]"
     ]
    },
    {
     "name": "stdout",
     "output_type": "stream",
     "text": [
      "Current beta: tensor(0.3684, device='cuda:0')\n"
     ]
    },
    {
     "name": "stderr",
     "output_type": "stream",
     "text": [
      " 27%|██▋       | 802/3000 [01:49<04:56,  7.41it/s]"
     ]
    },
    {
     "name": "stdout",
     "output_type": "stream",
     "text": [
      "Current beta: tensor(0.4211, device='cuda:0')\n"
     ]
    },
    {
     "name": "stderr",
     "output_type": "stream",
     "text": [
      " 30%|███       | 902/3000 [02:02<04:47,  7.29it/s]"
     ]
    },
    {
     "name": "stdout",
     "output_type": "stream",
     "text": [
      "Current beta: tensor(0.4737, device='cuda:0')\n"
     ]
    },
    {
     "name": "stderr",
     "output_type": "stream",
     "text": [
      " 33%|███▎      | 1002/3000 [02:16<04:30,  7.39it/s]"
     ]
    },
    {
     "name": "stdout",
     "output_type": "stream",
     "text": [
      "Current beta: tensor(0.5263, device='cuda:0')\n",
      "Current validational ELBO: -1.5024275302886962\n",
      "Current best validational ELBO: -0.7893006682395936 index: 0\n",
      "elbo mean over epoch: -5.574191007614136\n",
      "elbo: -5.908444\n",
      "likelihood -4.9098506\n",
      "KLD 0.99859375\n"
     ]
    },
    {
     "name": "stderr",
     "output_type": "stream",
     "text": [
      " 37%|███▋      | 1102/3000 [02:29<04:19,  7.31it/s]"
     ]
    },
    {
     "name": "stdout",
     "output_type": "stream",
     "text": [
      "Current beta: tensor(0.5789, device='cuda:0')\n"
     ]
    },
    {
     "name": "stderr",
     "output_type": "stream",
     "text": [
      " 40%|████      | 1202/3000 [02:43<04:01,  7.45it/s]"
     ]
    },
    {
     "name": "stdout",
     "output_type": "stream",
     "text": [
      "Current beta: tensor(0.6316, device='cuda:0')\n"
     ]
    },
    {
     "name": "stderr",
     "output_type": "stream",
     "text": [
      " 43%|████▎     | 1302/3000 [02:57<03:53,  7.27it/s]"
     ]
    },
    {
     "name": "stdout",
     "output_type": "stream",
     "text": [
      "Current beta: tensor(0.6842, device='cuda:0')\n"
     ]
    },
    {
     "name": "stderr",
     "output_type": "stream",
     "text": [
      " 47%|████▋     | 1402/3000 [03:10<03:35,  7.41it/s]"
     ]
    },
    {
     "name": "stdout",
     "output_type": "stream",
     "text": [
      "Current beta: tensor(0.7368, device='cuda:0')\n"
     ]
    },
    {
     "name": "stderr",
     "output_type": "stream",
     "text": [
      " 50%|█████     | 1502/3000 [03:24<03:22,  7.40it/s]"
     ]
    },
    {
     "name": "stdout",
     "output_type": "stream",
     "text": [
      "Current beta: tensor(0.7895, device='cuda:0')\n",
      "Current validational ELBO: -1.2775094985961915\n",
      "Current best validational ELBO: -0.7893006682395936 index: 0\n",
      "elbo mean over epoch: -5.942164478302002\n",
      "elbo: -6.255864\n",
      "likelihood -5.098993\n",
      "KLD 1.1568706\n"
     ]
    },
    {
     "name": "stderr",
     "output_type": "stream",
     "text": [
      " 53%|█████▎    | 1602/3000 [03:37<03:07,  7.47it/s]"
     ]
    },
    {
     "name": "stdout",
     "output_type": "stream",
     "text": [
      "Current beta: tensor(0.8421, device='cuda:0')\n"
     ]
    },
    {
     "name": "stderr",
     "output_type": "stream",
     "text": [
      " 57%|█████▋    | 1702/3000 [03:51<02:56,  7.36it/s]"
     ]
    },
    {
     "name": "stdout",
     "output_type": "stream",
     "text": [
      "Current beta: tensor(0.8947, device='cuda:0')\n"
     ]
    },
    {
     "name": "stderr",
     "output_type": "stream",
     "text": [
      " 60%|██████    | 1802/3000 [04:04<02:43,  7.33it/s]"
     ]
    },
    {
     "name": "stdout",
     "output_type": "stream",
     "text": [
      "Current beta: tensor(0.9474, device='cuda:0')\n"
     ]
    },
    {
     "name": "stderr",
     "output_type": "stream",
     "text": [
      " 63%|██████▎   | 1902/3000 [04:18<02:28,  7.40it/s]"
     ]
    },
    {
     "name": "stdout",
     "output_type": "stream",
     "text": [
      "Current beta: tensor(1., device='cuda:0')\n"
     ]
    },
    {
     "name": "stderr",
     "output_type": "stream",
     "text": [
      " 67%|██████▋   | 2002/3000 [04:32<02:14,  7.42it/s]"
     ]
    },
    {
     "name": "stdout",
     "output_type": "stream",
     "text": [
      "Current beta: tensor(1., device='cuda:0')\n",
      "Current validational ELBO: -1.0981261491775514\n",
      "Current best validational ELBO: -0.7893006682395936 index: 0\n",
      "elbo mean over epoch: -6.328453578948975\n",
      "elbo: -6.5221996\n",
      "likelihood -5.3564563\n",
      "KLD 1.1657434\n"
     ]
    },
    {
     "name": "stderr",
     "output_type": "stream",
     "text": [
      " 70%|███████   | 2102/3000 [04:45<01:58,  7.56it/s]"
     ]
    },
    {
     "name": "stdout",
     "output_type": "stream",
     "text": [
      "Current beta: tensor(1., device='cuda:0')\n"
     ]
    },
    {
     "name": "stderr",
     "output_type": "stream",
     "text": [
      " 73%|███████▎  | 2202/3000 [04:58<01:48,  7.37it/s]"
     ]
    },
    {
     "name": "stdout",
     "output_type": "stream",
     "text": [
      "Current beta: tensor(1., device='cuda:0')\n"
     ]
    },
    {
     "name": "stderr",
     "output_type": "stream",
     "text": [
      " 77%|███████▋  | 2302/3000 [05:12<01:33,  7.48it/s]"
     ]
    },
    {
     "name": "stdout",
     "output_type": "stream",
     "text": [
      "Current beta: tensor(1., device='cuda:0')\n"
     ]
    },
    {
     "name": "stderr",
     "output_type": "stream",
     "text": [
      " 80%|████████  | 2402/3000 [05:25<01:19,  7.48it/s]"
     ]
    },
    {
     "name": "stdout",
     "output_type": "stream",
     "text": [
      "Current beta: tensor(1., device='cuda:0')\n"
     ]
    },
    {
     "name": "stderr",
     "output_type": "stream",
     "text": [
      " 83%|████████▎ | 2502/3000 [05:38<01:06,  7.48it/s]"
     ]
    },
    {
     "name": "stdout",
     "output_type": "stream",
     "text": [
      "Current beta: tensor(1., device='cuda:0')\n",
      "Current validational ELBO: -1.0595893621444703\n",
      "Current best validational ELBO: -0.7893006682395936 index: 0\n",
      "elbo mean over epoch: -6.2388704395294186\n",
      "elbo: -6.059628\n",
      "likelihood -4.964479\n",
      "KLD 1.0951488\n"
     ]
    },
    {
     "name": "stderr",
     "output_type": "stream",
     "text": [
      " 87%|████████▋ | 2602/3000 [05:52<00:54,  7.36it/s]"
     ]
    },
    {
     "name": "stdout",
     "output_type": "stream",
     "text": [
      "Current beta: tensor(1., device='cuda:0')\n"
     ]
    },
    {
     "name": "stderr",
     "output_type": "stream",
     "text": [
      " 90%|█████████ | 2702/3000 [06:06<00:40,  7.32it/s]"
     ]
    },
    {
     "name": "stdout",
     "output_type": "stream",
     "text": [
      "Current beta: tensor(1., device='cuda:0')\n"
     ]
    },
    {
     "name": "stderr",
     "output_type": "stream",
     "text": [
      " 93%|█████████▎| 2802/3000 [06:19<00:26,  7.36it/s]"
     ]
    },
    {
     "name": "stdout",
     "output_type": "stream",
     "text": [
      "Current beta: tensor(1., device='cuda:0')\n"
     ]
    },
    {
     "name": "stderr",
     "output_type": "stream",
     "text": [
      " 97%|█████████▋| 2902/3000 [06:33<00:13,  7.29it/s]"
     ]
    },
    {
     "name": "stdout",
     "output_type": "stream",
     "text": [
      "Current beta: tensor(1., device='cuda:0')\n"
     ]
    },
    {
     "name": "stderr",
     "output_type": "stream",
     "text": [
      "100%|██████████| 3000/3000 [06:46<00:00,  7.38it/s]"
     ]
    },
    {
     "name": "stdout",
     "output_type": "stream",
     "text": [
      "Finish\n",
      "Best beta tensor(0., device='cuda:0')\n"
     ]
    },
    {
     "name": "stderr",
     "output_type": "stream",
     "text": [
      "\n"
     ]
    }
   ],
   "source": [
    "best_beta = run_training(enc, dec_annealing_all)"
   ]
  },
  {
   "cell_type": "code",
   "execution_count": 21,
   "metadata": {},
   "outputs": [
    {
     "name": "stdout",
     "output_type": "stream",
     "text": [
      "true_theta tensor([[-0.2963,  2.6764, -0.1408, -0.8441,  0.2905, -0.2838, -1.4535,  2.3737,\n",
      "         -0.0177, -2.7884],\n",
      "        [-0.3788,  0.7046, -1.3956, -0.1248, -0.9259, -1.5463, -0.4902,  0.0244,\n",
      "         -1.5992, -0.8469]], device='cuda:0')\n",
      "----------------------------------------------------------------------------------------------------\n",
      "tensor([[ 0.3163,  0.2291,  1.2451, -0.1628,  0.9789,  1.3099, -0.0116,  0.7617,\n",
      "          1.4595, -0.0604],\n",
      "        [ 0.4007, -2.5592,  0.5494,  0.8392, -0.0241,  0.6852,  1.4899, -2.1309,\n",
      "          0.4691,  2.5818]], device='cuda:0')\n"
     ]
    }
   ],
   "source": [
    "print('true_theta', true_theta)\n",
    "print('-' * 100)\n",
    "print(dec_annealing_all.W.weight.detach().T)"
   ]
  },
  {
   "cell_type": "code",
   "execution_count": 22,
   "metadata": {},
   "outputs": [
    {
     "name": "stdout",
     "output_type": "stream",
     "text": [
      "reconstructed probs tensor([[0.4664, 0.6811, 0.4449, 0.4391, 0.4908, 0.4341, 0.3900, 0.6471, 0.4485,\n",
      "         0.3158],\n",
      "        [0.3132, 0.8174, 0.0875, 0.4123, 0.1806, 0.0728, 0.2567, 0.5880, 0.0678,\n",
      "         0.1444],\n",
      "        [0.6014, 0.3866, 0.7933, 0.5167, 0.7183, 0.8090, 0.5953, 0.5412, 0.8220,\n",
      "         0.6525],\n",
      "        [0.4381, 0.9262, 0.4995, 0.2960, 0.6064, 0.4740, 0.1944, 0.9125, 0.5409,\n",
      "         0.0772],\n",
      "        [0.3613, 0.9920, 0.4126, 0.1640, 0.6366, 0.3615, 0.0603, 0.9869, 0.4769,\n",
      "         0.0083],\n",
      "        [0.4000, 0.7093, 0.2371, 0.4437, 0.3254, 0.2186, 0.3518, 0.5773, 0.2147,\n",
      "         0.2633],\n",
      "        [0.3840, 0.8674, 0.2575, 0.3609, 0.3829, 0.2319, 0.2396, 0.7815, 0.2488,\n",
      "         0.1212],\n",
      "        [0.6766, 0.3726, 0.9259, 0.5019, 0.8601, 0.9368, 0.6296, 0.6526, 0.9476,\n",
      "         0.6994],\n",
      "        [0.4455, 0.9258, 0.5264, 0.2949, 0.6254, 0.5025, 0.1965, 0.9159, 0.5716,\n",
      "         0.0786],\n",
      "        [0.5685, 0.1624, 0.6040, 0.6302, 0.5094, 0.6256, 0.7234, 0.2084, 0.5944,\n",
      "         0.8408]], device='cuda:0')\n",
      "true probs tensor([[0.5318, 0.4177, 0.6049, 0.5189, 0.5659, 0.6172, 0.5530, 0.4715, 0.6181,\n",
      "         0.5939],\n",
      "        [0.6765, 0.0091, 0.7743, 0.8037, 0.5542, 0.8272, 0.9326, 0.0235, 0.7664,\n",
      "         0.9931],\n",
      "        [0.4046, 0.9407, 0.3758, 0.3003, 0.5082, 0.3351, 0.1780, 0.9082, 0.3910,\n",
      "         0.0517],\n",
      "        [0.5588, 0.6104, 0.7805, 0.4417, 0.7315, 0.7944, 0.4647, 0.7250, 0.8196,\n",
      "         0.4108],\n",
      "        [0.6319, 0.5291, 0.9236, 0.4462, 0.8648, 0.9366, 0.5335, 0.7699, 0.9494,\n",
      "         0.5215],\n",
      "        [0.5942, 0.0900, 0.6653, 0.6658, 0.5414, 0.7022, 0.7860, 0.1416, 0.6635,\n",
      "         0.9211],\n",
      "        [0.6095, 0.1295, 0.7611, 0.6283, 0.6397, 0.7939, 0.7537, 0.2276, 0.7782,\n",
      "         0.8882],\n",
      "        [0.3334, 0.9948, 0.3143, 0.1652, 0.5495, 0.2493, 0.0526, 0.9883, 0.3485,\n",
      "         0.0040],\n",
      "        [0.5519, 0.6627, 0.7762, 0.4244, 0.7344, 0.7882, 0.4340, 0.7621, 0.8171,\n",
      "         0.3549],\n",
      "        [0.4352, 0.6457, 0.2872, 0.4685, 0.3584, 0.2662, 0.4024, 0.5361, 0.2624,\n",
      "         0.3322]], device='cuda:0')\n"
     ]
    }
   ],
   "source": [
    "for p in dec_annealing_all.parameters():\n",
    "    p.requires_grad_(False)\n",
    "u = std_normal.sample((10, z_dim))\n",
    "\n",
    "print('reconstructed probs', torch.sigmoid(dec_annealing_all(u)))\n",
    "print('true probs', torch.sigmoid(u @ true_theta))"
   ]
  },
  {
   "cell_type": "markdown",
   "metadata": {},
   "source": [
    "### Best annealing coeff"
   ]
  },
  {
   "cell_type": "code",
   "execution_count": 23,
   "metadata": {},
   "outputs": [],
   "source": [
    "enc = Encoder_vae(data_dim=data_dim, z_dim=z_dim, K=K).to(device)\n",
    "dec_annealing_best = Decoder(data_dim=data_dim, z_dim=z_dim).to(device)\n",
    "\n",
    "params = list(enc.parameters()) + list(dec_annealing_best.parameters())\n",
    "optimizer = torch.optim.Adam(params=params, lr=3e-4)\n",
    "scheduler = torch.optim.lr_scheduler.ReduceLROnPlateau(optimizer, verbose=True, threshold=1e-2, eps=1e-6, mode='max', patience=150, factor=0.75)"
   ]
  },
  {
   "cell_type": "code",
   "execution_count": 24,
   "metadata": {},
   "outputs": [
    {
     "name": "stderr",
     "output_type": "stream",
     "text": [
      "  0%|          | 1/3000 [00:00<07:57,  6.28it/s]"
     ]
    },
    {
     "name": "stdout",
     "output_type": "stream",
     "text": [
      "Current validational ELBO: -0.975763463973999\n",
      "Current best validational ELBO: -0.975763463973999 index: 0\n",
      "elbo mean over epoch: -7.023444309234619\n",
      "elbo: -7.0401573\n",
      "likelihood -7.040157\n",
      "KLD 0.0\n"
     ]
    },
    {
     "name": "stderr",
     "output_type": "stream",
     "text": [
      "  3%|▎         | 102/3000 [00:13<06:39,  7.25it/s]"
     ]
    },
    {
     "name": "stdout",
     "output_type": "stream",
     "text": [
      "Current beta: tensor(0.0526, device='cuda:0')\n"
     ]
    },
    {
     "name": "stderr",
     "output_type": "stream",
     "text": [
      "  7%|▋         | 202/3000 [00:27<06:23,  7.29it/s]"
     ]
    },
    {
     "name": "stdout",
     "output_type": "stream",
     "text": [
      "Current beta: tensor(0.1053, device='cuda:0')\n"
     ]
    },
    {
     "name": "stderr",
     "output_type": "stream",
     "text": [
      " 10%|█         | 302/3000 [00:41<06:06,  7.36it/s]"
     ]
    },
    {
     "name": "stdout",
     "output_type": "stream",
     "text": [
      "Current beta: tensor(0.1579, device='cuda:0')\n"
     ]
    },
    {
     "name": "stderr",
     "output_type": "stream",
     "text": [
      " 13%|█▎        | 402/3000 [00:54<05:52,  7.37it/s]"
     ]
    },
    {
     "name": "stdout",
     "output_type": "stream",
     "text": [
      "Current beta: tensor(0.2105, device='cuda:0')\n"
     ]
    },
    {
     "name": "stderr",
     "output_type": "stream",
     "text": [
      " 17%|█▋        | 502/3000 [01:08<05:41,  7.31it/s]"
     ]
    },
    {
     "name": "stdout",
     "output_type": "stream",
     "text": [
      "Current beta: tensor(0.2632, device='cuda:0')\n",
      "Current validational ELBO: -1.8665243864059449\n",
      "Current best validational ELBO: -0.975763463973999 index: 0\n",
      "elbo mean over epoch: -4.968809680938721\n",
      "elbo: -5.2543454\n",
      "likelihood -4.659558\n",
      "KLD 0.5947882\n"
     ]
    },
    {
     "name": "stderr",
     "output_type": "stream",
     "text": [
      " 20%|██        | 602/3000 [01:22<05:28,  7.29it/s]"
     ]
    },
    {
     "name": "stdout",
     "output_type": "stream",
     "text": [
      "Current beta: tensor(0.3158, device='cuda:0')\n"
     ]
    },
    {
     "name": "stderr",
     "output_type": "stream",
     "text": [
      " 23%|██▎       | 702/3000 [01:35<05:10,  7.40it/s]"
     ]
    },
    {
     "name": "stdout",
     "output_type": "stream",
     "text": [
      "Current beta: tensor(0.3684, device='cuda:0')\n"
     ]
    },
    {
     "name": "stderr",
     "output_type": "stream",
     "text": [
      " 27%|██▋       | 802/3000 [01:49<04:56,  7.42it/s]"
     ]
    },
    {
     "name": "stdout",
     "output_type": "stream",
     "text": [
      "Current beta: tensor(0.4211, device='cuda:0')\n"
     ]
    },
    {
     "name": "stderr",
     "output_type": "stream",
     "text": [
      " 30%|███       | 902/3000 [02:03<04:49,  7.26it/s]"
     ]
    },
    {
     "name": "stdout",
     "output_type": "stream",
     "text": [
      "Current beta: tensor(0.4737, device='cuda:0')\n"
     ]
    },
    {
     "name": "stderr",
     "output_type": "stream",
     "text": [
      " 33%|███▎      | 1002/3000 [02:16<04:32,  7.32it/s]"
     ]
    },
    {
     "name": "stdout",
     "output_type": "stream",
     "text": [
      "Current beta: tensor(0.5263, device='cuda:0')\n",
      "Current validational ELBO: -1.4347455501556396\n",
      "Current best validational ELBO: -0.975763463973999 index: 0\n",
      "elbo mean over epoch: -5.49041750907898\n",
      "elbo: -5.516172\n",
      "likelihood -4.5971293\n",
      "KLD 0.9190428\n"
     ]
    },
    {
     "name": "stderr",
     "output_type": "stream",
     "text": [
      " 37%|███▋      | 1102/3000 [02:30<04:14,  7.46it/s]"
     ]
    },
    {
     "name": "stdout",
     "output_type": "stream",
     "text": [
      "Current beta: tensor(0.5789, device='cuda:0')\n"
     ]
    },
    {
     "name": "stderr",
     "output_type": "stream",
     "text": [
      " 40%|████      | 1202/3000 [02:43<04:00,  7.47it/s]"
     ]
    },
    {
     "name": "stdout",
     "output_type": "stream",
     "text": [
      "Current beta: tensor(0.6316, device='cuda:0')\n"
     ]
    },
    {
     "name": "stderr",
     "output_type": "stream",
     "text": [
      " 43%|████▎     | 1302/3000 [02:57<03:50,  7.36it/s]"
     ]
    },
    {
     "name": "stdout",
     "output_type": "stream",
     "text": [
      "Current beta: tensor(0.6842, device='cuda:0')\n"
     ]
    },
    {
     "name": "stderr",
     "output_type": "stream",
     "text": [
      " 47%|████▋     | 1402/3000 [03:10<03:36,  7.37it/s]"
     ]
    },
    {
     "name": "stdout",
     "output_type": "stream",
     "text": [
      "Current beta: tensor(0.7368, device='cuda:0')\n"
     ]
    },
    {
     "name": "stderr",
     "output_type": "stream",
     "text": [
      " 50%|█████     | 1502/3000 [03:24<03:27,  7.23it/s]"
     ]
    },
    {
     "name": "stdout",
     "output_type": "stream",
     "text": [
      "Current beta: tensor(0.7895, device='cuda:0')\n",
      "Current validational ELBO: -1.2194181680679321\n",
      "Current best validational ELBO: -0.975763463973999 index: 0\n",
      "elbo mean over epoch: -5.9484062767028805\n",
      "elbo: -5.7320566\n",
      "likelihood -4.673244\n",
      "KLD 1.0588126\n"
     ]
    },
    {
     "name": "stderr",
     "output_type": "stream",
     "text": [
      " 53%|█████▎    | 1602/3000 [03:38<03:10,  7.33it/s]"
     ]
    },
    {
     "name": "stdout",
     "output_type": "stream",
     "text": [
      "Current beta: tensor(0.8421, device='cuda:0')\n"
     ]
    },
    {
     "name": "stderr",
     "output_type": "stream",
     "text": [
      " 57%|█████▋    | 1702/3000 [03:51<02:58,  7.28it/s]"
     ]
    },
    {
     "name": "stdout",
     "output_type": "stream",
     "text": [
      "Current beta: tensor(0.8947, device='cuda:0')\n"
     ]
    },
    {
     "name": "stderr",
     "output_type": "stream",
     "text": [
      " 60%|██████    | 1802/3000 [04:05<02:43,  7.33it/s]"
     ]
    },
    {
     "name": "stdout",
     "output_type": "stream",
     "text": [
      "Current beta: tensor(0.9474, device='cuda:0')\n"
     ]
    },
    {
     "name": "stderr",
     "output_type": "stream",
     "text": [
      " 63%|██████▎   | 1902/3000 [04:18<02:28,  7.38it/s]"
     ]
    },
    {
     "name": "stdout",
     "output_type": "stream",
     "text": [
      "Current beta: tensor(1., device='cuda:0')\n"
     ]
    },
    {
     "name": "stderr",
     "output_type": "stream",
     "text": [
      " 67%|██████▋   | 2002/3000 [04:32<02:12,  7.54it/s]"
     ]
    },
    {
     "name": "stdout",
     "output_type": "stream",
     "text": [
      "Current beta: tensor(1., device='cuda:0')\n",
      "Current validational ELBO: -1.076676845550537\n",
      "Current best validational ELBO: -0.975763463973999 index: 0\n",
      "elbo mean over epoch: -6.321665964126587\n",
      "elbo: -6.1967516\n",
      "likelihood -5.0727444\n",
      "KLD 1.1240071\n"
     ]
    },
    {
     "name": "stderr",
     "output_type": "stream",
     "text": [
      " 70%|███████   | 2102/3000 [04:45<01:58,  7.56it/s]"
     ]
    },
    {
     "name": "stdout",
     "output_type": "stream",
     "text": [
      "Current beta: tensor(1., device='cuda:0')\n"
     ]
    },
    {
     "name": "stderr",
     "output_type": "stream",
     "text": [
      " 73%|███████▎  | 2202/3000 [04:58<01:45,  7.56it/s]"
     ]
    },
    {
     "name": "stdout",
     "output_type": "stream",
     "text": [
      "Current beta: tensor(1., device='cuda:0')\n"
     ]
    },
    {
     "name": "stderr",
     "output_type": "stream",
     "text": [
      " 77%|███████▋  | 2302/3000 [05:11<01:32,  7.56it/s]"
     ]
    },
    {
     "name": "stdout",
     "output_type": "stream",
     "text": [
      "Current beta: tensor(1., device='cuda:0')\n"
     ]
    },
    {
     "name": "stderr",
     "output_type": "stream",
     "text": [
      " 80%|████████  | 2402/3000 [05:25<01:19,  7.56it/s]"
     ]
    },
    {
     "name": "stdout",
     "output_type": "stream",
     "text": [
      "Current beta: tensor(1., device='cuda:0')\n"
     ]
    },
    {
     "name": "stderr",
     "output_type": "stream",
     "text": [
      " 83%|████████▎ | 2502/3000 [05:38<01:05,  7.55it/s]"
     ]
    },
    {
     "name": "stdout",
     "output_type": "stream",
     "text": [
      "Current beta: tensor(1., device='cuda:0')\n",
      "Current validational ELBO: -1.0518383264541626\n",
      "Current best validational ELBO: -0.975763463973999 index: 0\n",
      "elbo mean over epoch: -6.24718596458435\n",
      "elbo: -6.267483\n",
      "likelihood -5.1907487\n",
      "KLD 1.0767344\n"
     ]
    },
    {
     "name": "stderr",
     "output_type": "stream",
     "text": [
      " 87%|████████▋ | 2602/3000 [05:51<00:52,  7.57it/s]"
     ]
    },
    {
     "name": "stdout",
     "output_type": "stream",
     "text": [
      "Current beta: tensor(1., device='cuda:0')\n"
     ]
    },
    {
     "name": "stderr",
     "output_type": "stream",
     "text": [
      " 90%|█████████ | 2702/3000 [06:04<00:39,  7.56it/s]"
     ]
    },
    {
     "name": "stdout",
     "output_type": "stream",
     "text": [
      "Current beta: tensor(1., device='cuda:0')\n"
     ]
    },
    {
     "name": "stderr",
     "output_type": "stream",
     "text": [
      " 93%|█████████▎| 2802/3000 [06:18<00:26,  7.55it/s]"
     ]
    },
    {
     "name": "stdout",
     "output_type": "stream",
     "text": [
      "Current beta: tensor(1., device='cuda:0')\n"
     ]
    },
    {
     "name": "stderr",
     "output_type": "stream",
     "text": [
      " 97%|█████████▋| 2902/3000 [06:31<00:13,  7.39it/s]"
     ]
    },
    {
     "name": "stdout",
     "output_type": "stream",
     "text": [
      "Current beta: tensor(1., device='cuda:0')\n"
     ]
    },
    {
     "name": "stderr",
     "output_type": "stream",
     "text": [
      "100%|██████████| 3000/3000 [06:44<00:00,  7.42it/s]\n"
     ]
    }
   ],
   "source": [
    "run_training(enc, dec_annealing_best, best_beta)"
   ]
  },
  {
   "cell_type": "code",
   "execution_count": 25,
   "metadata": {},
   "outputs": [
    {
     "name": "stdout",
     "output_type": "stream",
     "text": [
      "true_theta tensor([[-0.2963,  2.6764, -0.1408, -0.8441,  0.2905, -0.2838, -1.4535,  2.3737,\n",
      "         -0.0177, -2.7884],\n",
      "        [-0.3788,  0.7046, -1.3956, -0.1248, -0.9259, -1.5463, -0.4902,  0.0244,\n",
      "         -1.5992, -0.8469]], device='cuda:0')\n",
      "----------------------------------------------------------------------------------------------------\n",
      "tensor([[-0.4046,  2.5451, -0.5585, -0.8401,  0.0202, -0.6917, -1.4943,  2.1227,\n",
      "         -0.4733, -2.6062],\n",
      "        [-0.3092, -0.2365, -1.2337,  0.1710, -0.9814, -1.3112,  0.0217, -0.7663,\n",
      "         -1.4570,  0.0713]], device='cuda:0')\n"
     ]
    }
   ],
   "source": [
    "print('true_theta', true_theta)\n",
    "print('-' * 100)\n",
    "print(dec_annealing_best.W.weight.detach().T)"
   ]
  },
  {
   "cell_type": "code",
   "execution_count": 26,
   "metadata": {},
   "outputs": [
    {
     "name": "stdout",
     "output_type": "stream",
     "text": [
      "reconstructed probs tensor([[0.5719, 0.5947, 0.7713, 0.4451, 0.7298, 0.7836, 0.4734, 0.7100, 0.8095,\n",
      "         0.4453],\n",
      "        [0.3867, 0.9495, 0.3487, 0.2749, 0.5095, 0.3150, 0.1517, 0.9210, 0.3721,\n",
      "         0.0473],\n",
      "        [0.5839, 0.7834, 0.8497, 0.3612, 0.8242, 0.8588, 0.3609, 0.8770, 0.8921,\n",
      "         0.2594],\n",
      "        [0.3188, 0.9000, 0.1189, 0.3509, 0.2421, 0.0976, 0.1933, 0.7612, 0.1012,\n",
      "         0.0793],\n",
      "        [0.2835, 0.8837, 0.0637, 0.3759, 0.1555, 0.0497, 0.1987, 0.6678, 0.0476,\n",
      "         0.0852],\n",
      "        [0.5684, 0.6421, 0.7749, 0.4276, 0.7397, 0.7860, 0.4455, 0.7487, 0.8152,\n",
      "         0.3972],\n",
      "        [0.5389, 0.3046, 0.5679, 0.5660, 0.5159, 0.5801, 0.6208, 0.3436, 0.5649,\n",
      "         0.7021],\n",
      "        [0.3443, 0.9710, 0.2515, 0.2431, 0.4462, 0.2147, 0.1100, 0.9419, 0.2637,\n",
      "         0.0256],\n",
      "        [0.4831, 0.3621, 0.3870, 0.5570, 0.3894, 0.3843, 0.5693, 0.3250, 0.3596,\n",
      "         0.6230],\n",
      "        [0.5978, 0.0279, 0.5390, 0.7715, 0.3769, 0.5741, 0.8836, 0.0378, 0.4833,\n",
      "         0.9721]], device='cuda:0')\n",
      "true probs tensor([[0.5906, 0.3634, 0.8027, 0.5196, 0.7217, 0.8246, 0.6019, 0.5274, 0.8343,\n",
      "         0.6678],\n",
      "        [0.4169, 0.9557, 0.4647, 0.2748, 0.5862, 0.4246, 0.1589, 0.9390, 0.5009,\n",
      "         0.0392],\n",
      "        [0.6194, 0.4647, 0.8943, 0.4730, 0.8256, 0.9106, 0.5610, 0.6933, 0.9241,\n",
      "         0.5803],\n",
      "        [0.3238, 0.9689, 0.1433, 0.2751, 0.3074, 0.1086, 0.1198, 0.9120, 0.1291,\n",
      "         0.0238],\n",
      "        [0.2799, 0.9780, 0.0711, 0.2637, 0.2081, 0.0488, 0.0955, 0.9104, 0.0570,\n",
      "         0.0155],\n",
      "        [0.5898, 0.4020, 0.8120, 0.5055, 0.7351, 0.8326, 0.5817, 0.5708, 0.8449,\n",
      "         0.6303],\n",
      "        [0.5313, 0.2816, 0.5366, 0.5716, 0.4926, 0.5511, 0.6263, 0.3128, 0.5301,\n",
      "         0.7278],\n",
      "        [0.3752, 0.9807, 0.3670, 0.2288, 0.5441, 0.3137, 0.1033, 0.9656, 0.3958,\n",
      "         0.0160],\n",
      "        [0.4703, 0.4596, 0.3523, 0.5238, 0.3839, 0.3426, 0.5098, 0.3973, 0.3266,\n",
      "         0.5294],\n",
      "        [0.5539, 0.0366, 0.3809, 0.7463, 0.3014, 0.4095, 0.8487, 0.0395, 0.3207,\n",
      "         0.9662]], device='cuda:0')\n"
     ]
    }
   ],
   "source": [
    "for p in dec_annealing_best.parameters():\n",
    "    p.requires_grad_(False)\n",
    "u = std_normal.sample((10, z_dim))\n",
    "\n",
    "print('reconstructed probs', torch.sigmoid(dec_annealing_best(u)))\n",
    "print('true probs', torch.sigmoid(u @ true_theta))"
   ]
  },
  {
   "cell_type": "code",
   "execution_count": null,
   "metadata": {
    "collapsed": true,
    "jupyter": {
     "outputs_hidden": true
    }
   },
   "outputs": [],
   "source": []
  },
  {
   "cell_type": "markdown",
   "metadata": {},
   "source": [
    "## Task 5"
   ]
  },
  {
   "cell_type": "markdown",
   "metadata": {},
   "source": [
    "### Our HMC"
   ]
  },
  {
   "cell_type": "code",
   "execution_count": 33,
   "metadata": {},
   "outputs": [],
   "source": [
    "from training import run_training_our_var"
   ]
  },
  {
   "cell_type": "code",
   "execution_count": 34,
   "metadata": {},
   "outputs": [],
   "source": [
    "class dotdict(dict):\n",
    "    \"\"\"dot.notation access to dictionary attributes\"\"\"\n",
    "    __getattr__ = dict.get\n",
    "    __setattr__ = dict.__setitem__\n",
    "    __delattr__ = dict.__delitem__\n",
    "    \n",
    "args = dotdict({})\n",
    "\n",
    "args.device = device\n",
    "args.torchType = torch.float32\n",
    "\n",
    "args.K = 10\n",
    "args.N = 2\n",
    "\n",
    "\n",
    "args.data_dim = data_dim\n",
    "args.z_dim = z_dim\n",
    "args.alpha = 0.5\n",
    "args.gamma = 0.1\n",
    "args.use_partialref = True\n",
    "args.use_barker = True\n",
    "args.learnable_reverse = False\n",
    "args.amortize = False\n",
    "args.fix_transition_params = True \n",
    "\n",
    "args.print_info_ = 50\n",
    "args.num_epoches = 1000\n",
    "args.batch_size = 200\n",
    "args.std_normal = std_normal\n",
    "args.learning_rate = 1e-3"
   ]
  },
  {
   "cell_type": "code",
   "execution_count": 35,
   "metadata": {},
   "outputs": [],
   "source": [
    "dataloader = torch.utils.data.DataLoader(data, batch_size=args.batch_size, shuffle=True)"
   ]
  },
  {
   "cell_type": "code",
   "execution_count": 36,
   "metadata": {},
   "outputs": [
    {
     "name": "stderr",
     "output_type": "stream",
     "text": [
      "  0%|          | 1/1000 [00:02<45:12,  2.72s/it]"
     ]
    },
    {
     "name": "stdout",
     "output_type": "stream",
     "text": [
      "elbo_full: -21.024160385131836\n",
      "tensor([[-0.4437, -0.2169,  0.3887, -0.4531, -0.3893,  0.3132, -0.6513, -0.0943,\n",
      "          0.0532, -0.3400],\n",
      "        [ 0.4656, -0.1555,  0.0286,  0.4594, -0.5693,  0.0174,  0.6562, -0.2464,\n",
      "         -0.4039,  0.6015]], device='cuda:0')\n",
      "0\n",
      "Stepsize 0.09999999680245637\n",
      "Autoregression coeff 0.5\n",
      "1\n",
      "Stepsize 0.09999999680245637\n",
      "Autoregression coeff 0.5\n",
      "2\n",
      "Stepsize 0.09999999680245637\n",
      "Autoregression coeff 0.5\n",
      "3\n",
      "Stepsize 0.09999999680245637\n",
      "Autoregression coeff 0.5\n",
      "4\n",
      "Stepsize 0.09999999680245637\n",
      "Autoregression coeff 0.5\n",
      "5\n",
      "Stepsize 0.09999999680245637\n",
      "Autoregression coeff 0.5\n",
      "6\n",
      "Stepsize 0.09999999680245637\n",
      "Autoregression coeff 0.5\n",
      "7\n",
      "Stepsize 0.09999999680245637\n",
      "Autoregression coeff 0.5\n",
      "8\n",
      "Stepsize 0.09999999680245637\n",
      "Autoregression coeff 0.5\n",
      "9\n",
      "Stepsize 0.09999999680245637\n",
      "Autoregression coeff 0.5\n"
     ]
    },
    {
     "name": "stderr",
     "output_type": "stream",
     "text": [
      "  5%|▌         | 51/1000 [02:21<42:53,  2.71s/it]"
     ]
    },
    {
     "name": "stdout",
     "output_type": "stream",
     "text": [
      "elbo_full: -20.384273529052734\n",
      "tensor([[-0.1796,  0.1174,  0.2289, -0.1953, -0.0968,  0.1885, -0.2809,  0.1789,\n",
      "          0.0682, -0.2805],\n",
      "        [ 0.3486, -1.0522,  0.3215,  0.6005, -0.2008,  0.3442,  0.9290, -0.9581,\n",
      "          0.0354,  1.1879]], device='cuda:0')\n",
      "0\n",
      "Stepsize 0.09999999680245637\n",
      "Autoregression coeff 0.5\n",
      "1\n",
      "Stepsize 0.09999999680245637\n",
      "Autoregression coeff 0.5\n",
      "2\n",
      "Stepsize 0.09999999680245637\n",
      "Autoregression coeff 0.5\n",
      "3\n",
      "Stepsize 0.09999999680245637\n",
      "Autoregression coeff 0.5\n",
      "4\n",
      "Stepsize 0.09999999680245637\n",
      "Autoregression coeff 0.5\n",
      "5\n",
      "Stepsize 0.09999999680245637\n",
      "Autoregression coeff 0.5\n",
      "6\n",
      "Stepsize 0.09999999680245637\n",
      "Autoregression coeff 0.5\n",
      "7\n",
      "Stepsize 0.09999999680245637\n",
      "Autoregression coeff 0.5\n",
      "8\n",
      "Stepsize 0.09999999680245637\n",
      "Autoregression coeff 0.5\n",
      "9\n",
      "Stepsize 0.09999999680245637\n",
      "Autoregression coeff 0.5\n"
     ]
    },
    {
     "name": "stderr",
     "output_type": "stream",
     "text": [
      " 10%|█         | 101/1000 [04:39<41:18,  2.76s/it]"
     ]
    },
    {
     "name": "stdout",
     "output_type": "stream",
     "text": [
      "elbo_full: -20.179746627807617\n",
      "tensor([[-0.0271,  0.1242,  0.3830, -0.2482,  0.1005,  0.2913, -0.2388,  0.2395,\n",
      "          0.2361, -0.2302],\n",
      "        [ 0.3551, -1.5705,  0.4742,  0.7008, -0.0170,  0.4952,  1.1873, -1.3907,\n",
      "          0.2988,  1.6993]], device='cuda:0')\n",
      "0\n",
      "Stepsize 0.09999999680245637\n",
      "Autoregression coeff 0.5\n",
      "1\n",
      "Stepsize 0.09999999680245637\n",
      "Autoregression coeff 0.5\n",
      "2\n",
      "Stepsize 0.09999999680245637\n",
      "Autoregression coeff 0.5\n",
      "3\n",
      "Stepsize 0.09999999680245637\n",
      "Autoregression coeff 0.5\n",
      "4\n",
      "Stepsize 0.09999999680245637\n",
      "Autoregression coeff 0.5\n",
      "5\n",
      "Stepsize 0.09999999680245637\n",
      "Autoregression coeff 0.5\n",
      "6\n",
      "Stepsize 0.09999999680245637\n",
      "Autoregression coeff 0.5\n",
      "7\n",
      "Stepsize 0.09999999680245637\n",
      "Autoregression coeff 0.5\n",
      "8\n",
      "Stepsize 0.09999999680245637\n",
      "Autoregression coeff 0.5\n",
      "9\n",
      "Stepsize 0.09999999680245637\n",
      "Autoregression coeff 0.5\n"
     ]
    },
    {
     "name": "stderr",
     "output_type": "stream",
     "text": [
      " 15%|█▌        | 151/1000 [06:58<38:51,  2.75s/it]"
     ]
    },
    {
     "name": "stdout",
     "output_type": "stream",
     "text": [
      "elbo_full: -20.442216873168945\n",
      "tensor([[ 0.0653,  0.1662,  0.6627, -0.3375,  0.4167,  0.5957, -0.2333,  0.3961,\n",
      "          0.6118, -0.2813],\n",
      "        [ 0.4429, -1.8305,  0.5580,  0.7722,  0.0865,  0.6037,  1.3635, -1.5238,\n",
      "          0.4575,  1.9195]], device='cuda:0')\n",
      "0\n",
      "Stepsize 0.09999999680245637\n",
      "Autoregression coeff 0.5\n",
      "1\n",
      "Stepsize 0.09999999680245637\n",
      "Autoregression coeff 0.5\n",
      "2\n",
      "Stepsize 0.09999999680245637\n",
      "Autoregression coeff 0.5\n",
      "3\n",
      "Stepsize 0.09999999680245637\n",
      "Autoregression coeff 0.5\n",
      "4\n",
      "Stepsize 0.09999999680245637\n",
      "Autoregression coeff 0.5\n",
      "5\n",
      "Stepsize 0.09999999680245637\n",
      "Autoregression coeff 0.5\n",
      "6\n",
      "Stepsize 0.09999999680245637\n",
      "Autoregression coeff 0.5\n",
      "7\n",
      "Stepsize 0.09999999680245637\n",
      "Autoregression coeff 0.5\n",
      "8\n",
      "Stepsize 0.09999999680245637\n",
      "Autoregression coeff 0.5\n",
      "9\n",
      "Stepsize 0.09999999680245637\n",
      "Autoregression coeff 0.5\n"
     ]
    },
    {
     "name": "stderr",
     "output_type": "stream",
     "text": [
      " 20%|██        | 201/1000 [09:17<37:27,  2.81s/it]"
     ]
    },
    {
     "name": "stdout",
     "output_type": "stream",
     "text": [
      "elbo_full: -20.156129837036133\n",
      "tensor([[ 0.1596,  0.2194,  0.9255, -0.4022,  0.7075,  0.8509, -0.2566,  0.5694,\n",
      "          0.9334, -0.2958],\n",
      "        [ 0.4417, -2.0098,  0.6544,  0.7719,  0.0724,  0.6855,  1.4042, -1.6163,\n",
      "          0.5400,  2.1011]], device='cuda:0')\n",
      "0\n",
      "Stepsize 0.09999999680245637\n",
      "Autoregression coeff 0.5\n",
      "1\n",
      "Stepsize 0.09999999680245637\n",
      "Autoregression coeff 0.5\n",
      "2\n",
      "Stepsize 0.09999999680245637\n",
      "Autoregression coeff 0.5\n",
      "3\n",
      "Stepsize 0.09999999680245637\n",
      "Autoregression coeff 0.5\n",
      "4\n",
      "Stepsize 0.09999999680245637\n",
      "Autoregression coeff 0.5\n",
      "5\n",
      "Stepsize 0.09999999680245637\n",
      "Autoregression coeff 0.5\n",
      "6\n",
      "Stepsize 0.09999999680245637\n",
      "Autoregression coeff 0.5\n",
      "7\n",
      "Stepsize 0.09999999680245637\n",
      "Autoregression coeff 0.5\n",
      "8\n",
      "Stepsize 0.09999999680245637\n",
      "Autoregression coeff 0.5\n",
      "9\n",
      "Stepsize 0.09999999680245637\n",
      "Autoregression coeff 0.5\n"
     ]
    },
    {
     "name": "stderr",
     "output_type": "stream",
     "text": [
      " 25%|██▌       | 251/1000 [11:37<35:20,  2.83s/it]"
     ]
    },
    {
     "name": "stdout",
     "output_type": "stream",
     "text": [
      "elbo_full: -20.285232543945312\n",
      "tensor([[ 0.2118,  0.3305,  1.0399, -0.3271,  0.8378,  0.9679, -0.2355,  0.6830,\n",
      "          1.0956, -0.3484],\n",
      "        [ 0.4272, -2.1749,  0.6414,  0.8330,  0.1165,  0.7931,  1.5123, -1.7742,\n",
      "          0.5873,  2.3012]], device='cuda:0')\n",
      "0\n",
      "Stepsize 0.09999999680245637\n",
      "Autoregression coeff 0.5\n",
      "1\n",
      "Stepsize 0.09999999680245637\n",
      "Autoregression coeff 0.5\n",
      "2\n",
      "Stepsize 0.09999999680245637\n",
      "Autoregression coeff 0.5\n",
      "3\n",
      "Stepsize 0.09999999680245637\n",
      "Autoregression coeff 0.5\n",
      "4\n",
      "Stepsize 0.09999999680245637\n",
      "Autoregression coeff 0.5\n",
      "5\n",
      "Stepsize 0.09999999680245637\n",
      "Autoregression coeff 0.5\n",
      "6\n",
      "Stepsize 0.09999999680245637\n",
      "Autoregression coeff 0.5\n",
      "7\n",
      "Stepsize 0.09999999680245637\n",
      "Autoregression coeff 0.5\n",
      "8\n",
      "Stepsize 0.09999999680245637\n",
      "Autoregression coeff 0.5\n",
      "9\n",
      "Stepsize 0.09999999680245637\n",
      "Autoregression coeff 0.5\n"
     ]
    },
    {
     "name": "stderr",
     "output_type": "stream",
     "text": [
      " 30%|███       | 301/1000 [13:58<32:18,  2.77s/it]"
     ]
    },
    {
     "name": "stdout",
     "output_type": "stream",
     "text": [
      "elbo_full: -20.207250595092773\n",
      "tensor([[ 0.2782,  0.3766,  1.1143, -0.3169,  0.9254,  1.1029, -0.2261,  0.7908,\n",
      "          1.2346, -0.3486],\n",
      "        [ 0.4362, -2.2505,  0.7134,  0.8265,  0.1132,  0.8403,  1.5258, -1.8410,\n",
      "          0.6310,  2.3840]], device='cuda:0')\n",
      "0\n",
      "Stepsize 0.09999999680245637\n",
      "Autoregression coeff 0.5\n",
      "1\n",
      "Stepsize 0.09999999680245637\n",
      "Autoregression coeff 0.5\n",
      "2\n",
      "Stepsize 0.09999999680245637\n",
      "Autoregression coeff 0.5\n",
      "3\n",
      "Stepsize 0.09999999680245637\n",
      "Autoregression coeff 0.5\n",
      "4\n",
      "Stepsize 0.09999999680245637\n",
      "Autoregression coeff 0.5\n",
      "5\n",
      "Stepsize 0.09999999680245637\n",
      "Autoregression coeff 0.5\n",
      "6\n",
      "Stepsize 0.09999999680245637\n",
      "Autoregression coeff 0.5\n",
      "7\n",
      "Stepsize 0.09999999680245637\n",
      "Autoregression coeff 0.5\n",
      "8\n",
      "Stepsize 0.09999999680245637\n",
      "Autoregression coeff 0.5\n",
      "9\n",
      "Stepsize 0.09999999680245637\n",
      "Autoregression coeff 0.5\n"
     ]
    },
    {
     "name": "stderr",
     "output_type": "stream",
     "text": [
      " 35%|███▌      | 351/1000 [16:17<30:24,  2.81s/it]"
     ]
    },
    {
     "name": "stdout",
     "output_type": "stream",
     "text": [
      "elbo_full: -20.080371856689453\n",
      "tensor([[ 0.2706,  0.3742,  1.1707, -0.2799,  0.9573,  1.2182, -0.1875,  0.8363,\n",
      "          1.3155, -0.3273],\n",
      "        [ 0.4705, -2.3695,  0.7357,  0.8670,  0.1236,  0.8525,  1.5721, -1.8900,\n",
      "          0.6599,  2.5036]], device='cuda:0')\n",
      "0\n",
      "Stepsize 0.09999999680245637\n",
      "Autoregression coeff 0.5\n",
      "1\n",
      "Stepsize 0.09999999680245637\n",
      "Autoregression coeff 0.5\n",
      "2\n",
      "Stepsize 0.09999999680245637\n",
      "Autoregression coeff 0.5\n",
      "3\n",
      "Stepsize 0.09999999680245637\n",
      "Autoregression coeff 0.5\n",
      "4\n",
      "Stepsize 0.09999999680245637\n",
      "Autoregression coeff 0.5\n",
      "5\n",
      "Stepsize 0.09999999680245637\n",
      "Autoregression coeff 0.5\n",
      "6\n",
      "Stepsize 0.09999999680245637\n",
      "Autoregression coeff 0.5\n",
      "7\n",
      "Stepsize 0.09999999680245637\n",
      "Autoregression coeff 0.5\n",
      "8\n",
      "Stepsize 0.09999999680245637\n",
      "Autoregression coeff 0.5\n",
      "9\n",
      "Stepsize 0.09999999680245637\n",
      "Autoregression coeff 0.5\n"
     ]
    },
    {
     "name": "stderr",
     "output_type": "stream",
     "text": [
      " 40%|████      | 401/1000 [18:37<28:08,  2.82s/it]"
     ]
    },
    {
     "name": "stdout",
     "output_type": "stream",
     "text": [
      "elbo_full: -20.312490463256836\n",
      "tensor([[ 0.2824,  0.4177,  1.1877, -0.2586,  0.9789,  1.1948, -0.1977,  0.8530,\n",
      "          1.3505, -0.3276],\n",
      "        [ 0.4666, -2.4217,  0.7258,  0.8439,  0.1176,  0.8609,  1.5680, -1.9380,\n",
      "          0.6550,  2.5689]], device='cuda:0')\n",
      "0\n",
      "Stepsize 0.09999999680245637\n",
      "Autoregression coeff 0.5\n",
      "1\n",
      "Stepsize 0.09999999680245637\n",
      "Autoregression coeff 0.5\n",
      "2\n",
      "Stepsize 0.09999999680245637\n",
      "Autoregression coeff 0.5\n",
      "3\n",
      "Stepsize 0.09999999680245637\n",
      "Autoregression coeff 0.5\n",
      "4\n",
      "Stepsize 0.09999999680245637\n",
      "Autoregression coeff 0.5\n",
      "5\n",
      "Stepsize 0.09999999680245637\n",
      "Autoregression coeff 0.5\n",
      "6\n",
      "Stepsize 0.09999999680245637\n",
      "Autoregression coeff 0.5\n",
      "7\n",
      "Stepsize 0.09999999680245637\n",
      "Autoregression coeff 0.5\n",
      "8\n",
      "Stepsize 0.09999999680245637\n",
      "Autoregression coeff 0.5\n",
      "9\n",
      "Stepsize 0.09999999680245637\n",
      "Autoregression coeff 0.5\n"
     ]
    },
    {
     "name": "stderr",
     "output_type": "stream",
     "text": [
      " 45%|████▌     | 451/1000 [20:58<25:43,  2.81s/it]"
     ]
    },
    {
     "name": "stdout",
     "output_type": "stream",
     "text": [
      "elbo_full: -20.167299270629883\n",
      "tensor([[ 0.3098,  0.4338,  1.2467, -0.2621,  1.0268,  1.2244, -0.1936,  0.8860,\n",
      "          1.4159, -0.3556],\n",
      "        [ 0.5064, -2.5229,  0.7576,  0.8576,  0.1171,  0.8872,  1.5892, -1.9698,\n",
      "          0.6624,  2.6357]], device='cuda:0')\n",
      "0\n",
      "Stepsize 0.09999999680245637\n",
      "Autoregression coeff 0.5\n",
      "1\n",
      "Stepsize 0.09999999680245637\n",
      "Autoregression coeff 0.5\n",
      "2\n",
      "Stepsize 0.09999999680245637\n",
      "Autoregression coeff 0.5\n",
      "3\n",
      "Stepsize 0.09999999680245637\n",
      "Autoregression coeff 0.5\n",
      "4\n",
      "Stepsize 0.09999999680245637\n",
      "Autoregression coeff 0.5\n",
      "5\n",
      "Stepsize 0.09999999680245637\n",
      "Autoregression coeff 0.5\n",
      "6\n",
      "Stepsize 0.09999999680245637\n",
      "Autoregression coeff 0.5\n",
      "7\n",
      "Stepsize 0.09999999680245637\n",
      "Autoregression coeff 0.5\n",
      "8\n",
      "Stepsize 0.09999999680245637\n",
      "Autoregression coeff 0.5\n",
      "9\n",
      "Stepsize 0.09999999680245637\n",
      "Autoregression coeff 0.5\n"
     ]
    },
    {
     "name": "stderr",
     "output_type": "stream",
     "text": [
      " 50%|█████     | 501/1000 [23:19<23:27,  2.82s/it]"
     ]
    },
    {
     "name": "stdout",
     "output_type": "stream",
     "text": [
      "elbo_full: -19.979246139526367\n",
      "tensor([[ 0.2989,  0.3960,  1.2765, -0.2632,  0.9950,  1.2682, -0.1619,  0.9228,\n",
      "          1.4127, -0.3257],\n",
      "        [ 0.4844, -2.5951,  0.7384,  0.8327,  0.1372,  0.8932,  1.5708, -2.0167,\n",
      "          0.6831,  2.7006]], device='cuda:0')\n",
      "0\n",
      "Stepsize 0.09999999680245637\n",
      "Autoregression coeff 0.5\n",
      "1\n",
      "Stepsize 0.09999999680245637\n",
      "Autoregression coeff 0.5\n",
      "2\n",
      "Stepsize 0.09999999680245637\n",
      "Autoregression coeff 0.5\n",
      "3\n",
      "Stepsize 0.09999999680245637\n",
      "Autoregression coeff 0.5\n",
      "4\n",
      "Stepsize 0.09999999680245637\n",
      "Autoregression coeff 0.5\n",
      "5\n",
      "Stepsize 0.09999999680245637\n",
      "Autoregression coeff 0.5\n",
      "6\n",
      "Stepsize 0.09999999680245637\n",
      "Autoregression coeff 0.5\n",
      "7\n",
      "Stepsize 0.09999999680245637\n",
      "Autoregression coeff 0.5\n",
      "8\n",
      "Stepsize 0.09999999680245637\n",
      "Autoregression coeff 0.5\n",
      "9\n",
      "Stepsize 0.09999999680245637\n",
      "Autoregression coeff 0.5\n"
     ]
    },
    {
     "name": "stderr",
     "output_type": "stream",
     "text": [
      " 55%|█████▌    | 551/1000 [25:39<21:08,  2.82s/it]"
     ]
    },
    {
     "name": "stdout",
     "output_type": "stream",
     "text": [
      "elbo_full: -20.30231285095215\n",
      "tensor([[ 0.3104,  0.4680,  1.2144, -0.2429,  1.0093,  1.2779, -0.1808,  0.9504,\n",
      "          1.4347, -0.3409],\n",
      "        [ 0.4134, -2.6004,  0.7421,  0.8625,  0.1022,  0.8423,  1.5753, -2.0661,\n",
      "          0.6444,  2.7257]], device='cuda:0')\n",
      "0\n",
      "Stepsize 0.09999999680245637\n",
      "Autoregression coeff 0.5\n",
      "1\n",
      "Stepsize 0.09999999680245637\n",
      "Autoregression coeff 0.5\n",
      "2\n",
      "Stepsize 0.09999999680245637\n",
      "Autoregression coeff 0.5\n",
      "3\n",
      "Stepsize 0.09999999680245637\n",
      "Autoregression coeff 0.5\n",
      "4\n",
      "Stepsize 0.09999999680245637\n",
      "Autoregression coeff 0.5\n",
      "5\n",
      "Stepsize 0.09999999680245637\n",
      "Autoregression coeff 0.5\n",
      "6\n",
      "Stepsize 0.09999999680245637\n",
      "Autoregression coeff 0.5\n",
      "7\n",
      "Stepsize 0.09999999680245637\n",
      "Autoregression coeff 0.5\n",
      "8\n",
      "Stepsize 0.09999999680245637\n",
      "Autoregression coeff 0.5\n",
      "9\n",
      "Stepsize 0.09999999680245637\n",
      "Autoregression coeff 0.5\n"
     ]
    },
    {
     "name": "stderr",
     "output_type": "stream",
     "text": [
      " 60%|██████    | 601/1000 [28:00<18:33,  2.79s/it]"
     ]
    },
    {
     "name": "stdout",
     "output_type": "stream",
     "text": [
      "elbo_full: -20.235511779785156\n",
      "tensor([[ 0.2908,  0.5118,  1.2315, -0.2577,  1.0245,  1.2941, -0.1959,  0.9439,\n",
      "          1.4616, -0.3443],\n",
      "        [ 0.4561, -2.6376,  0.7147,  0.8042,  0.0849,  0.8689,  1.6019, -2.1013,\n",
      "          0.6851,  2.8003]], device='cuda:0')\n",
      "0\n",
      "Stepsize 0.09999999680245637\n",
      "Autoregression coeff 0.5\n",
      "1\n",
      "Stepsize 0.09999999680245637\n",
      "Autoregression coeff 0.5\n",
      "2\n",
      "Stepsize 0.09999999680245637\n",
      "Autoregression coeff 0.5\n",
      "3\n",
      "Stepsize 0.09999999680245637\n",
      "Autoregression coeff 0.5\n",
      "4\n",
      "Stepsize 0.09999999680245637\n",
      "Autoregression coeff 0.5\n",
      "5\n",
      "Stepsize 0.09999999680245637\n",
      "Autoregression coeff 0.5\n",
      "6\n",
      "Stepsize 0.09999999680245637\n",
      "Autoregression coeff 0.5\n",
      "7\n",
      "Stepsize 0.09999999680245637\n",
      "Autoregression coeff 0.5\n",
      "8\n",
      "Stepsize 0.09999999680245637\n",
      "Autoregression coeff 0.5\n",
      "9\n",
      "Stepsize 0.09999999680245637\n",
      "Autoregression coeff 0.5\n"
     ]
    },
    {
     "name": "stderr",
     "output_type": "stream",
     "text": [
      " 65%|██████▌   | 651/1000 [30:20<16:23,  2.82s/it]"
     ]
    },
    {
     "name": "stdout",
     "output_type": "stream",
     "text": [
      "elbo_full: -20.204103469848633\n",
      "tensor([[ 0.2600,  0.4586,  1.2087, -0.2514,  0.9483,  1.2656, -0.1657,  0.9508,\n",
      "          1.4370, -0.3569],\n",
      "        [ 0.4468, -2.6987,  0.7599,  0.8610,  0.0940,  0.9095,  1.6530, -2.1731,\n",
      "          0.6903,  2.8769]], device='cuda:0')\n",
      "0\n",
      "Stepsize 0.09999999680245637\n",
      "Autoregression coeff 0.5\n",
      "1\n",
      "Stepsize 0.09999999680245637\n",
      "Autoregression coeff 0.5\n",
      "2\n",
      "Stepsize 0.09999999680245637\n",
      "Autoregression coeff 0.5\n",
      "3\n",
      "Stepsize 0.09999999680245637\n",
      "Autoregression coeff 0.5\n",
      "4\n",
      "Stepsize 0.09999999680245637\n",
      "Autoregression coeff 0.5\n",
      "5\n",
      "Stepsize 0.09999999680245637\n",
      "Autoregression coeff 0.5\n",
      "6\n",
      "Stepsize 0.09999999680245637\n",
      "Autoregression coeff 0.5\n",
      "7\n",
      "Stepsize 0.09999999680245637\n",
      "Autoregression coeff 0.5\n",
      "8\n",
      "Stepsize 0.09999999680245637\n",
      "Autoregression coeff 0.5\n",
      "9\n",
      "Stepsize 0.09999999680245637\n",
      "Autoregression coeff 0.5\n"
     ]
    },
    {
     "name": "stderr",
     "output_type": "stream",
     "text": [
      " 70%|███████   | 701/1000 [32:41<14:06,  2.83s/it]"
     ]
    },
    {
     "name": "stdout",
     "output_type": "stream",
     "text": [
      "elbo_full: -19.960926055908203\n",
      "tensor([[ 0.2699,  0.4517,  1.2386, -0.2310,  0.9813,  1.2792, -0.1397,  0.9357,\n",
      "          1.4383, -0.3116],\n",
      "        [ 0.4199, -2.6938,  0.7869,  0.8604,  0.1255,  0.9427,  1.6803, -2.1709,\n",
      "          0.7369,  2.8844]], device='cuda:0')\n",
      "0\n",
      "Stepsize 0.09999999680245637\n",
      "Autoregression coeff 0.5\n",
      "1\n",
      "Stepsize 0.09999999680245637\n",
      "Autoregression coeff 0.5\n",
      "2\n",
      "Stepsize 0.09999999680245637\n",
      "Autoregression coeff 0.5\n",
      "3\n",
      "Stepsize 0.09999999680245637\n",
      "Autoregression coeff 0.5\n",
      "4\n",
      "Stepsize 0.09999999680245637\n",
      "Autoregression coeff 0.5\n",
      "5\n",
      "Stepsize 0.09999999680245637\n",
      "Autoregression coeff 0.5\n",
      "6\n",
      "Stepsize 0.09999999680245637\n",
      "Autoregression coeff 0.5\n",
      "7\n",
      "Stepsize 0.09999999680245637\n",
      "Autoregression coeff 0.5\n",
      "8\n",
      "Stepsize 0.09999999680245637\n",
      "Autoregression coeff 0.5\n",
      "9\n",
      "Stepsize 0.09999999680245637\n",
      "Autoregression coeff 0.5\n"
     ]
    },
    {
     "name": "stderr",
     "output_type": "stream",
     "text": [
      " 75%|███████▌  | 751/1000 [35:00<11:41,  2.82s/it]"
     ]
    },
    {
     "name": "stdout",
     "output_type": "stream",
     "text": [
      "elbo_full: -20.021310806274414\n",
      "tensor([[ 0.2853,  0.4633,  1.2498, -0.2614,  0.9996,  1.2942, -0.1662,  0.9359,\n",
      "          1.4743, -0.3540],\n",
      "        [ 0.4655, -2.7854,  0.7528,  0.8872,  0.1133,  0.9590,  1.6482, -2.1840,\n",
      "          0.7393,  2.9542]], device='cuda:0')\n",
      "0\n",
      "Stepsize 0.09999999680245637\n",
      "Autoregression coeff 0.5\n",
      "1\n",
      "Stepsize 0.09999999680245637\n",
      "Autoregression coeff 0.5\n",
      "2\n",
      "Stepsize 0.09999999680245637\n",
      "Autoregression coeff 0.5\n",
      "3\n",
      "Stepsize 0.09999999680245637\n",
      "Autoregression coeff 0.5\n",
      "4\n",
      "Stepsize 0.09999999680245637\n",
      "Autoregression coeff 0.5\n",
      "5\n",
      "Stepsize 0.09999999680245637\n",
      "Autoregression coeff 0.5\n",
      "6\n",
      "Stepsize 0.09999999680245637\n",
      "Autoregression coeff 0.5\n",
      "7\n",
      "Stepsize 0.09999999680245637\n",
      "Autoregression coeff 0.5\n",
      "8\n",
      "Stepsize 0.09999999680245637\n",
      "Autoregression coeff 0.5\n",
      "9\n",
      "Stepsize 0.09999999680245637\n",
      "Autoregression coeff 0.5\n"
     ]
    },
    {
     "name": "stderr",
     "output_type": "stream",
     "text": [
      " 80%|████████  | 801/1000 [37:21<09:21,  2.82s/it]"
     ]
    },
    {
     "name": "stdout",
     "output_type": "stream",
     "text": [
      "elbo_full: -20.214801788330078\n",
      "tensor([[ 0.2798,  0.4527,  1.2506, -0.2159,  0.9895,  1.3246, -0.1515,  0.9611,\n",
      "          1.4674, -0.3558],\n",
      "        [ 0.5037, -2.8306,  0.8132,  0.8723,  0.1462,  0.9205,  1.6405, -2.2335,\n",
      "          0.7526,  3.0174]], device='cuda:0')\n",
      "0\n",
      "Stepsize 0.09999999680245637\n",
      "Autoregression coeff 0.5\n",
      "1\n",
      "Stepsize 0.09999999680245637\n",
      "Autoregression coeff 0.5\n",
      "2\n",
      "Stepsize 0.09999999680245637\n",
      "Autoregression coeff 0.5\n",
      "3\n",
      "Stepsize 0.09999999680245637\n",
      "Autoregression coeff 0.5\n",
      "4\n",
      "Stepsize 0.09999999680245637\n",
      "Autoregression coeff 0.5\n",
      "5\n",
      "Stepsize 0.09999999680245637\n",
      "Autoregression coeff 0.5\n",
      "6\n",
      "Stepsize 0.09999999680245637\n",
      "Autoregression coeff 0.5\n",
      "7\n",
      "Stepsize 0.09999999680245637\n",
      "Autoregression coeff 0.5\n",
      "8\n",
      "Stepsize 0.09999999680245637\n",
      "Autoregression coeff 0.5\n",
      "9\n",
      "Stepsize 0.09999999680245637\n",
      "Autoregression coeff 0.5\n"
     ]
    },
    {
     "name": "stderr",
     "output_type": "stream",
     "text": [
      " 85%|████████▌ | 851/1000 [39:42<06:54,  2.78s/it]"
     ]
    },
    {
     "name": "stdout",
     "output_type": "stream",
     "text": [
      "elbo_full: -20.061695098876953\n",
      "tensor([[ 0.2623,  0.4432,  1.2553, -0.2271,  0.9984,  1.3391, -0.1548,  0.9643,\n",
      "          1.4807, -0.3353],\n",
      "        [ 0.5200, -2.8925,  0.8366,  0.8936,  0.1296,  0.9586,  1.6942, -2.3212,\n",
      "          0.7420,  2.9929]], device='cuda:0')\n",
      "0\n",
      "Stepsize 0.09999999680245637\n",
      "Autoregression coeff 0.5\n",
      "1\n",
      "Stepsize 0.09999999680245637\n",
      "Autoregression coeff 0.5\n",
      "2\n",
      "Stepsize 0.09999999680245637\n",
      "Autoregression coeff 0.5\n",
      "3\n",
      "Stepsize 0.09999999680245637\n",
      "Autoregression coeff 0.5\n",
      "4\n",
      "Stepsize 0.09999999680245637\n",
      "Autoregression coeff 0.5\n",
      "5\n",
      "Stepsize 0.09999999680245637\n",
      "Autoregression coeff 0.5\n",
      "6\n",
      "Stepsize 0.09999999680245637\n",
      "Autoregression coeff 0.5\n",
      "7\n",
      "Stepsize 0.09999999680245637\n",
      "Autoregression coeff 0.5\n",
      "8\n",
      "Stepsize 0.09999999680245637\n",
      "Autoregression coeff 0.5\n",
      "9\n",
      "Stepsize 0.09999999680245637\n",
      "Autoregression coeff 0.5\n"
     ]
    },
    {
     "name": "stderr",
     "output_type": "stream",
     "text": [
      " 90%|█████████ | 901/1000 [42:03<04:41,  2.84s/it]"
     ]
    },
    {
     "name": "stdout",
     "output_type": "stream",
     "text": [
      "elbo_full: -19.995580673217773\n",
      "tensor([[ 0.2854,  0.4599,  1.2031, -0.2462,  0.9607,  1.2941, -0.1566,  0.9643,\n",
      "          1.4784, -0.3061],\n",
      "        [ 0.4660, -2.9482,  0.8322,  0.9294,  0.0947,  1.0019,  1.7005, -2.3603,\n",
      "          0.7040,  3.1230]], device='cuda:0')\n",
      "0\n",
      "Stepsize 0.09999999680245637\n",
      "Autoregression coeff 0.5\n",
      "1\n",
      "Stepsize 0.09999999680245637\n",
      "Autoregression coeff 0.5\n",
      "2\n",
      "Stepsize 0.09999999680245637\n",
      "Autoregression coeff 0.5\n",
      "3\n",
      "Stepsize 0.09999999680245637\n",
      "Autoregression coeff 0.5\n",
      "4\n",
      "Stepsize 0.09999999680245637\n",
      "Autoregression coeff 0.5\n",
      "5\n",
      "Stepsize 0.09999999680245637\n",
      "Autoregression coeff 0.5\n",
      "6\n",
      "Stepsize 0.09999999680245637\n",
      "Autoregression coeff 0.5\n",
      "7\n",
      "Stepsize 0.09999999680245637\n",
      "Autoregression coeff 0.5\n",
      "8\n",
      "Stepsize 0.09999999680245637\n",
      "Autoregression coeff 0.5\n",
      "9\n",
      "Stepsize 0.09999999680245637\n",
      "Autoregression coeff 0.5\n"
     ]
    },
    {
     "name": "stderr",
     "output_type": "stream",
     "text": [
      " 95%|█████████▌| 951/1000 [44:23<02:15,  2.77s/it]"
     ]
    },
    {
     "name": "stdout",
     "output_type": "stream",
     "text": [
      "elbo_full: -19.836994171142578\n",
      "tensor([[ 0.2961,  0.4306,  1.2015, -0.2132,  0.9478,  1.2465, -0.1331,  0.9524,\n",
      "          1.4619, -0.3264],\n",
      "        [ 0.4920, -3.0505,  0.7652,  0.9188,  0.1132,  0.9237,  1.7975, -2.4038,\n",
      "          0.7397,  3.2247]], device='cuda:0')\n",
      "0\n",
      "Stepsize 0.09999999680245637\n",
      "Autoregression coeff 0.5\n",
      "1\n",
      "Stepsize 0.09999999680245637\n",
      "Autoregression coeff 0.5\n",
      "2\n",
      "Stepsize 0.09999999680245637\n",
      "Autoregression coeff 0.5\n",
      "3\n",
      "Stepsize 0.09999999680245637\n",
      "Autoregression coeff 0.5\n",
      "4\n",
      "Stepsize 0.09999999680245637\n",
      "Autoregression coeff 0.5\n",
      "5\n",
      "Stepsize 0.09999999680245637\n",
      "Autoregression coeff 0.5\n",
      "6\n",
      "Stepsize 0.09999999680245637\n",
      "Autoregression coeff 0.5\n",
      "7\n",
      "Stepsize 0.09999999680245637\n",
      "Autoregression coeff 0.5\n",
      "8\n",
      "Stepsize 0.09999999680245637\n",
      "Autoregression coeff 0.5\n",
      "9\n",
      "Stepsize 0.09999999680245637\n",
      "Autoregression coeff 0.5\n"
     ]
    },
    {
     "name": "stderr",
     "output_type": "stream",
     "text": [
      "100%|██████████| 1000/1000 [46:39<00:00,  2.80s/it]\n"
     ]
    }
   ],
   "source": [
    "encoder, target_ourhmc = run_training_our_var(args=args, enc=Encoder_vae, dec=Decoder, transition_kernel=HMC_our, reverse=Reverse_kernel, dataloader=dataloader)"
   ]
  },
  {
   "cell_type": "code",
   "execution_count": 37,
   "metadata": {},
   "outputs": [
    {
     "name": "stdout",
     "output_type": "stream",
     "text": [
      "reconstructed probs tensor([[0.5051, 0.7709, 0.6329, 0.3996, 0.6454, 0.6320, 0.3487, 0.7913, 0.6714,\n",
      "         0.2341],\n",
      "        [0.5306, 0.7857, 0.7209, 0.3871, 0.7155, 0.7269, 0.3457, 0.8318, 0.7701,\n",
      "         0.2270],\n",
      "        [0.5645, 0.1760, 0.5856, 0.6110, 0.5094, 0.6104, 0.7076, 0.2299, 0.5870,\n",
      "         0.8362],\n",
      "        [0.3861, 0.9326, 0.3389, 0.3180, 0.4686, 0.2991, 0.1808, 0.8828, 0.3328,\n",
      "         0.0582],\n",
      "        [0.6628, 0.0135, 0.6890, 0.7799, 0.4944, 0.7440, 0.9200, 0.0312, 0.6849,\n",
      "         0.9891],\n",
      "        [0.7206, 0.0605, 0.9154, 0.6657, 0.8064, 0.9389, 0.8483, 0.2108, 0.9410,\n",
      "         0.9571],\n",
      "        [0.2975, 0.9739, 0.1516, 0.2690, 0.3121, 0.1140, 0.1044, 0.9173, 0.1267,\n",
      "         0.0193],\n",
      "        [0.6168, 0.1048, 0.7109, 0.6457, 0.5927, 0.7470, 0.7796, 0.1851, 0.7306,\n",
      "         0.9101],\n",
      "        [0.3428, 0.9555, 0.2352, 0.2963, 0.3885, 0.1930, 0.1422, 0.8976, 0.2149,\n",
      "         0.0357],\n",
      "        [0.4449, 0.6323, 0.3557, 0.4680, 0.4069, 0.3374, 0.4132, 0.5506, 0.3325,\n",
      "         0.3479]], device='cuda:0')\n",
      "true probs tensor([[0.4811, 0.8174, 0.5814, 0.3771, 0.6138, 0.5701, 0.3140, 0.8190, 0.6149,\n",
      "         0.1783],\n",
      "        [0.4551, 0.9160, 0.5638, 0.3141, 0.6322, 0.5401, 0.2197, 0.9079, 0.6066,\n",
      "         0.0789],\n",
      "        [0.4541, 0.5800, 0.3346, 0.4866, 0.3870, 0.3185, 0.4432, 0.4974, 0.3123,\n",
      "         0.4033],\n",
      "        [0.5830, 0.3271, 0.7669, 0.5361, 0.6840, 0.7901, 0.6185, 0.4675, 0.7955,\n",
      "         0.7000],\n",
      "        [0.3852, 0.6324, 0.1337, 0.4902, 0.2144, 0.1140, 0.3917, 0.4178, 0.1031,\n",
      "         0.3278],\n",
      "        [0.3090, 0.9875, 0.1569, 0.2187, 0.3551, 0.1156, 0.0768, 0.9620, 0.1503,\n",
      "         0.0093],\n",
      "        [0.6634, 0.0621, 0.8640, 0.6756, 0.7239, 0.8943, 0.8333, 0.1607, 0.8829,\n",
      "         0.9512],\n",
      "        [0.4087, 0.7940, 0.2565, 0.4123, 0.3575, 0.2281, 0.3076, 0.6808, 0.2360,\n",
      "         0.1842],\n",
      "        [0.6222, 0.1547, 0.8167, 0.6070, 0.7010, 0.8457, 0.7376, 0.2921, 0.8402,\n",
      "         0.8683],\n",
      "        [0.5479, 0.2446, 0.5901, 0.5827, 0.5256, 0.6106, 0.6540, 0.2962, 0.5904,\n",
      "         0.7686]], device='cuda:0')\n"
     ]
    }
   ],
   "source": [
    "for p in target_ourhmc.parameters():\n",
    "    p.requires_grad_(False)\n",
    "u = std_normal.sample((10, z_dim))\n",
    "\n",
    "print('reconstructed probs', torch.sigmoid(target_ourhmc.decoder(u)))\n",
    "print('true probs', torch.sigmoid(u @ true_theta))"
   ]
  },
  {
   "cell_type": "code",
   "execution_count": 38,
   "metadata": {},
   "outputs": [
    {
     "data": {
      "text/plain": [
       "tensor([[ 0.2814,  0.4360,  1.1918, -0.2102,  0.9816,  1.2843, -0.1394,  0.9455,\n",
       "          1.4654, -0.3080],\n",
       "        [ 0.5311, -3.1191,  0.7228,  0.9104,  0.0949,  0.9337,  1.7874, -2.4307,\n",
       "          0.7397,  3.2968]], device='cuda:0')"
      ]
     },
     "execution_count": 38,
     "metadata": {},
     "output_type": "execute_result"
    }
   ],
   "source": [
    "target_ourhmc.decoder.W.weight.detach().T"
   ]
  },
  {
   "cell_type": "code",
   "execution_count": 39,
   "metadata": {},
   "outputs": [
    {
     "data": {
      "text/plain": [
       "tensor([[-0.2963,  2.6764, -0.1408, -0.8441,  0.2905, -0.2838, -1.4535,  2.3737,\n",
       "         -0.0177, -2.7884],\n",
       "        [-0.3788,  0.7046, -1.3956, -0.1248, -0.9259, -1.5463, -0.4902,  0.0244,\n",
       "         -1.5992, -0.8469]], device='cuda:0')"
      ]
     },
     "execution_count": 39,
     "metadata": {},
     "output_type": "execute_result"
    }
   ],
   "source": [
    "true_theta"
   ]
  },
  {
   "cell_type": "markdown",
   "metadata": {},
   "source": [
    "### Hoffman's VAE"
   ]
  },
  {
   "cell_type": "code",
   "execution_count": 40,
   "metadata": {},
   "outputs": [],
   "source": [
    "class Target():\n",
    "    def __init__(self,):\n",
    "        pass\n",
    "    def get_logdensity(self, z, x, prior=None, args=None, prior_flow=None):\n",
    "        probs = torch.sigmoid(dec_hoff(z))\n",
    "        return torch.distributions.Bernoulli(probs=probs).log_prob(x).sum(1) + std_normal.log_prob(z).sum(1)\n",
    "target = Target()"
   ]
  },
  {
   "cell_type": "code",
   "execution_count": 41,
   "metadata": {},
   "outputs": [],
   "source": [
    "num_epoches = 5000\n",
    "batch_size = 200\n",
    "print_info_ = 500\n",
    "\n",
    "dataloader = torch.utils.data.DataLoader(data, batch_size=batch_size, shuffle=True)"
   ]
  },
  {
   "cell_type": "code",
   "execution_count": 42,
   "metadata": {},
   "outputs": [],
   "source": [
    "enc_hoff = Encoder_vae(data_dim=data_dim, z_dim=z_dim).to(device)\n",
    "dec_hoff = Decoder(data_dim=data_dim, z_dim=z_dim).to(device)"
   ]
  },
  {
   "cell_type": "code",
   "execution_count": 43,
   "metadata": {},
   "outputs": [],
   "source": [
    "optimizer_phi = torch.optim.Adam(params=enc_hoff.parameters())\n",
    "optimizer_theta = torch.optim.Adam(params=dec_hoff.parameters())\n",
    "\n",
    "steps = 10\n",
    "hoffman_other = True\n",
    "transitions = HMC_vanilla(args).to(device)"
   ]
  },
  {
   "cell_type": "code",
   "execution_count": 44,
   "metadata": {},
   "outputs": [
    {
     "name": "stderr",
     "output_type": "stream",
     "text": [
      "  0%|          | 1/5000 [00:02<3:29:44,  2.52s/it]"
     ]
    },
    {
     "name": "stdout",
     "output_type": "stream",
     "text": [
      "log-likelihood:  -0.7024872\n",
      "elbo classical:  -7.2205057\n",
      "KL divergence:  0.17233475\n"
     ]
    },
    {
     "name": "stderr",
     "output_type": "stream",
     "text": [
      "  1%|          | 51/5000 [02:07<3:30:32,  2.55s/it]"
     ]
    },
    {
     "name": "stdout",
     "output_type": "stream",
     "text": [
      "log-likelihood:  -0.5239901\n",
      "elbo classical:  -6.218973\n",
      "KL divergence:  1.0270793\n"
     ]
    },
    {
     "name": "stderr",
     "output_type": "stream",
     "text": [
      "  2%|▏         | 101/5000 [04:15<3:28:22,  2.55s/it]"
     ]
    },
    {
     "name": "stdout",
     "output_type": "stream",
     "text": [
      "log-likelihood:  -0.5192222\n",
      "elbo classical:  -6.094963\n",
      "KL divergence:  1.0573604\n"
     ]
    },
    {
     "name": "stderr",
     "output_type": "stream",
     "text": [
      "  3%|▎         | 151/5000 [06:21<3:25:55,  2.55s/it]"
     ]
    },
    {
     "name": "stdout",
     "output_type": "stream",
     "text": [
      "log-likelihood:  -0.5132626\n",
      "elbo classical:  -6.106284\n",
      "KL divergence:  1.1454543\n"
     ]
    },
    {
     "name": "stderr",
     "output_type": "stream",
     "text": [
      "  4%|▍         | 201/5000 [08:28<3:24:42,  2.56s/it]"
     ]
    },
    {
     "name": "stdout",
     "output_type": "stream",
     "text": [
      "log-likelihood:  -0.5395323\n",
      "elbo classical:  -6.4432425\n",
      "KL divergence:  1.0393109\n"
     ]
    },
    {
     "name": "stderr",
     "output_type": "stream",
     "text": [
      "  5%|▌         | 251/5000 [10:35<3:20:26,  2.53s/it]"
     ]
    },
    {
     "name": "stdout",
     "output_type": "stream",
     "text": [
      "log-likelihood:  -0.5180324\n",
      "elbo classical:  -6.411122\n",
      "KL divergence:  1.1185861\n"
     ]
    },
    {
     "name": "stderr",
     "output_type": "stream",
     "text": [
      "  6%|▌         | 301/5000 [12:42<3:19:53,  2.55s/it]"
     ]
    },
    {
     "name": "stdout",
     "output_type": "stream",
     "text": [
      "log-likelihood:  -0.5123225\n",
      "elbo classical:  -6.30317\n",
      "KL divergence:  1.1034733\n"
     ]
    },
    {
     "name": "stderr",
     "output_type": "stream",
     "text": [
      "  7%|▋         | 351/5000 [14:49<3:17:51,  2.55s/it]"
     ]
    },
    {
     "name": "stdout",
     "output_type": "stream",
     "text": [
      "log-likelihood:  -0.52567\n",
      "elbo classical:  -6.38162\n",
      "KL divergence:  1.0727813\n"
     ]
    },
    {
     "name": "stderr",
     "output_type": "stream",
     "text": [
      "  8%|▊         | 401/5000 [16:57<3:15:36,  2.55s/it]"
     ]
    },
    {
     "name": "stdout",
     "output_type": "stream",
     "text": [
      "log-likelihood:  -0.53441715\n",
      "elbo classical:  -5.81385\n",
      "KL divergence:  1.0837123\n"
     ]
    },
    {
     "name": "stderr",
     "output_type": "stream",
     "text": [
      "  9%|▉         | 451/5000 [19:02<3:07:44,  2.48s/it]"
     ]
    },
    {
     "name": "stdout",
     "output_type": "stream",
     "text": [
      "log-likelihood:  -0.5160495\n",
      "elbo classical:  -6.446067\n",
      "KL divergence:  1.0441612\n"
     ]
    },
    {
     "name": "stderr",
     "output_type": "stream",
     "text": [
      " 10%|█         | 501/5000 [21:09<3:12:01,  2.56s/it]"
     ]
    },
    {
     "name": "stdout",
     "output_type": "stream",
     "text": [
      "log-likelihood:  -0.5138411\n",
      "elbo classical:  -6.316494\n",
      "KL divergence:  1.0732554\n"
     ]
    },
    {
     "name": "stderr",
     "output_type": "stream",
     "text": [
      " 11%|█         | 551/5000 [23:17<3:08:07,  2.54s/it]"
     ]
    },
    {
     "name": "stdout",
     "output_type": "stream",
     "text": [
      "log-likelihood:  -0.5406844\n",
      "elbo classical:  -6.3988943\n",
      "KL divergence:  1.0495421\n"
     ]
    },
    {
     "name": "stderr",
     "output_type": "stream",
     "text": [
      " 12%|█▏        | 601/5000 [25:23<3:05:32,  2.53s/it]"
     ]
    },
    {
     "name": "stdout",
     "output_type": "stream",
     "text": [
      "log-likelihood:  -0.52472657\n",
      "elbo classical:  -6.5227923\n",
      "KL divergence:  1.0387852\n"
     ]
    },
    {
     "name": "stderr",
     "output_type": "stream",
     "text": [
      " 13%|█▎        | 651/5000 [27:27<3:05:08,  2.55s/it]"
     ]
    },
    {
     "name": "stdout",
     "output_type": "stream",
     "text": [
      "log-likelihood:  -0.5252758\n",
      "elbo classical:  -6.639723\n",
      "KL divergence:  1.0986668\n"
     ]
    },
    {
     "name": "stderr",
     "output_type": "stream",
     "text": [
      " 14%|█▍        | 701/5000 [29:30<3:01:39,  2.54s/it]"
     ]
    },
    {
     "name": "stdout",
     "output_type": "stream",
     "text": [
      "log-likelihood:  -0.5330316\n",
      "elbo classical:  -6.3794475\n",
      "KL divergence:  1.0673056\n"
     ]
    },
    {
     "name": "stderr",
     "output_type": "stream",
     "text": [
      " 15%|█▌        | 751/5000 [31:37<2:59:29,  2.53s/it]"
     ]
    },
    {
     "name": "stdout",
     "output_type": "stream",
     "text": [
      "log-likelihood:  -0.5127\n",
      "elbo classical:  -6.426151\n",
      "KL divergence:  1.0852503\n"
     ]
    },
    {
     "name": "stderr",
     "output_type": "stream",
     "text": [
      " 16%|█▌        | 801/5000 [33:43<2:54:30,  2.49s/it]"
     ]
    },
    {
     "name": "stdout",
     "output_type": "stream",
     "text": [
      "log-likelihood:  -0.5049685\n",
      "elbo classical:  -6.32146\n",
      "KL divergence:  1.1013858\n"
     ]
    },
    {
     "name": "stderr",
     "output_type": "stream",
     "text": [
      " 17%|█▋        | 851/5000 [35:50<2:55:34,  2.54s/it]"
     ]
    },
    {
     "name": "stdout",
     "output_type": "stream",
     "text": [
      "log-likelihood:  -0.50799423\n",
      "elbo classical:  -6.380599\n",
      "KL divergence:  1.081935\n"
     ]
    },
    {
     "name": "stderr",
     "output_type": "stream",
     "text": [
      " 18%|█▊        | 901/5000 [37:56<2:54:02,  2.55s/it]"
     ]
    },
    {
     "name": "stdout",
     "output_type": "stream",
     "text": [
      "log-likelihood:  -0.51859444\n",
      "elbo classical:  -6.032728\n",
      "KL divergence:  1.0662633\n"
     ]
    },
    {
     "name": "stderr",
     "output_type": "stream",
     "text": [
      " 19%|█▉        | 951/5000 [40:03<2:51:31,  2.54s/it]"
     ]
    },
    {
     "name": "stdout",
     "output_type": "stream",
     "text": [
      "log-likelihood:  -0.51805484\n",
      "elbo classical:  -6.499889\n",
      "KL divergence:  1.0597209\n"
     ]
    },
    {
     "name": "stderr",
     "output_type": "stream",
     "text": [
      " 20%|██        | 1001/5000 [42:10<2:47:33,  2.51s/it]"
     ]
    },
    {
     "name": "stdout",
     "output_type": "stream",
     "text": [
      "log-likelihood:  -0.5281313\n",
      "elbo classical:  -6.2139482\n",
      "KL divergence:  1.0834259\n"
     ]
    },
    {
     "name": "stderr",
     "output_type": "stream",
     "text": [
      " 21%|██        | 1051/5000 [44:13<2:42:54,  2.48s/it]"
     ]
    },
    {
     "name": "stdout",
     "output_type": "stream",
     "text": [
      "log-likelihood:  -0.5316891\n",
      "elbo classical:  -6.4097056\n",
      "KL divergence:  1.0509646\n"
     ]
    },
    {
     "name": "stderr",
     "output_type": "stream",
     "text": [
      " 22%|██▏       | 1101/5000 [46:19<2:45:47,  2.55s/it]"
     ]
    },
    {
     "name": "stdout",
     "output_type": "stream",
     "text": [
      "log-likelihood:  -0.51273435\n",
      "elbo classical:  -6.2207956\n",
      "KL divergence:  1.1122713\n"
     ]
    },
    {
     "name": "stderr",
     "output_type": "stream",
     "text": [
      " 23%|██▎       | 1151/5000 [48:26<2:42:02,  2.53s/it]"
     ]
    },
    {
     "name": "stdout",
     "output_type": "stream",
     "text": [
      "log-likelihood:  -0.51959723\n",
      "elbo classical:  -6.15619\n",
      "KL divergence:  1.0828873\n"
     ]
    },
    {
     "name": "stderr",
     "output_type": "stream",
     "text": [
      " 24%|██▍       | 1201/5000 [50:32<2:39:39,  2.52s/it]"
     ]
    },
    {
     "name": "stdout",
     "output_type": "stream",
     "text": [
      "log-likelihood:  -0.5287033\n",
      "elbo classical:  -6.751604\n",
      "KL divergence:  1.0525128\n"
     ]
    },
    {
     "name": "stderr",
     "output_type": "stream",
     "text": [
      " 25%|██▌       | 1251/5000 [52:39<2:39:08,  2.55s/it]"
     ]
    },
    {
     "name": "stdout",
     "output_type": "stream",
     "text": [
      "log-likelihood:  -0.5359832\n",
      "elbo classical:  -6.363498\n",
      "KL divergence:  1.0470376\n"
     ]
    },
    {
     "name": "stderr",
     "output_type": "stream",
     "text": [
      " 26%|██▌       | 1301/5000 [54:46<2:38:10,  2.57s/it]"
     ]
    },
    {
     "name": "stdout",
     "output_type": "stream",
     "text": [
      "log-likelihood:  -0.5138058\n",
      "elbo classical:  -6.0454235\n",
      "KL divergence:  1.1219662\n"
     ]
    },
    {
     "name": "stderr",
     "output_type": "stream",
     "text": [
      " 27%|██▋       | 1351/5000 [56:53<2:35:53,  2.56s/it]"
     ]
    },
    {
     "name": "stdout",
     "output_type": "stream",
     "text": [
      "log-likelihood:  -0.5287472\n",
      "elbo classical:  -6.405742\n",
      "KL divergence:  1.0809541\n"
     ]
    },
    {
     "name": "stderr",
     "output_type": "stream",
     "text": [
      " 28%|██▊       | 1401/5000 [58:59<2:30:36,  2.51s/it]"
     ]
    },
    {
     "name": "stdout",
     "output_type": "stream",
     "text": [
      "log-likelihood:  -0.49831143\n",
      "elbo classical:  -6.153744\n",
      "KL divergence:  1.0954949\n"
     ]
    },
    {
     "name": "stderr",
     "output_type": "stream",
     "text": [
      " 29%|██▉       | 1451/5000 [1:01:05<2:29:25,  2.53s/it]"
     ]
    },
    {
     "name": "stdout",
     "output_type": "stream",
     "text": [
      "log-likelihood:  -0.53010494\n",
      "elbo classical:  -6.559738\n",
      "KL divergence:  1.0593222\n"
     ]
    },
    {
     "name": "stderr",
     "output_type": "stream",
     "text": [
      " 30%|███       | 1501/5000 [1:03:12<2:26:02,  2.50s/it]"
     ]
    },
    {
     "name": "stdout",
     "output_type": "stream",
     "text": [
      "log-likelihood:  -0.50769114\n",
      "elbo classical:  -6.5629272\n",
      "KL divergence:  1.0894338\n"
     ]
    },
    {
     "name": "stderr",
     "output_type": "stream",
     "text": [
      " 31%|███       | 1551/5000 [1:05:18<2:24:43,  2.52s/it]"
     ]
    },
    {
     "name": "stdout",
     "output_type": "stream",
     "text": [
      "log-likelihood:  -0.49221635\n",
      "elbo classical:  -6.081003\n",
      "KL divergence:  1.1275477\n"
     ]
    },
    {
     "name": "stderr",
     "output_type": "stream",
     "text": [
      " 32%|███▏      | 1601/5000 [1:07:25<2:23:17,  2.53s/it]"
     ]
    },
    {
     "name": "stdout",
     "output_type": "stream",
     "text": [
      "log-likelihood:  -0.5034594\n",
      "elbo classical:  -6.301223\n",
      "KL divergence:  1.0976322\n"
     ]
    },
    {
     "name": "stderr",
     "output_type": "stream",
     "text": [
      " 33%|███▎      | 1651/5000 [1:09:32<2:22:23,  2.55s/it]"
     ]
    },
    {
     "name": "stdout",
     "output_type": "stream",
     "text": [
      "log-likelihood:  -0.51091933\n",
      "elbo classical:  -6.550618\n",
      "KL divergence:  1.0713186\n"
     ]
    },
    {
     "name": "stderr",
     "output_type": "stream",
     "text": [
      " 34%|███▍      | 1701/5000 [1:11:37<2:20:30,  2.56s/it]"
     ]
    },
    {
     "name": "stdout",
     "output_type": "stream",
     "text": [
      "log-likelihood:  -0.51502675\n",
      "elbo classical:  -6.4052525\n",
      "KL divergence:  1.0919086\n"
     ]
    },
    {
     "name": "stderr",
     "output_type": "stream",
     "text": [
      " 35%|███▌      | 1751/5000 [1:13:44<2:17:22,  2.54s/it]"
     ]
    },
    {
     "name": "stdout",
     "output_type": "stream",
     "text": [
      "log-likelihood:  -0.5248024\n",
      "elbo classical:  -6.483386\n",
      "KL divergence:  1.0716424\n"
     ]
    },
    {
     "name": "stderr",
     "output_type": "stream",
     "text": [
      " 36%|███▌      | 1801/5000 [1:15:51<2:16:27,  2.56s/it]"
     ]
    },
    {
     "name": "stdout",
     "output_type": "stream",
     "text": [
      "log-likelihood:  -0.5113525\n",
      "elbo classical:  -6.496231\n",
      "KL divergence:  1.0927174\n"
     ]
    },
    {
     "name": "stderr",
     "output_type": "stream",
     "text": [
      " 37%|███▋      | 1851/5000 [1:17:57<2:12:29,  2.52s/it]"
     ]
    },
    {
     "name": "stdout",
     "output_type": "stream",
     "text": [
      "log-likelihood:  -0.5038839\n",
      "elbo classical:  -6.343092\n",
      "KL divergence:  1.1338615\n"
     ]
    },
    {
     "name": "stderr",
     "output_type": "stream",
     "text": [
      " 38%|███▊      | 1901/5000 [1:20:04<2:12:41,  2.57s/it]"
     ]
    },
    {
     "name": "stdout",
     "output_type": "stream",
     "text": [
      "log-likelihood:  -0.52201724\n",
      "elbo classical:  -6.0801535\n",
      "KL divergence:  1.0671464\n"
     ]
    },
    {
     "name": "stderr",
     "output_type": "stream",
     "text": [
      " 39%|███▉      | 1951/5000 [1:22:11<2:11:03,  2.58s/it]"
     ]
    },
    {
     "name": "stdout",
     "output_type": "stream",
     "text": [
      "log-likelihood:  -0.5303899\n",
      "elbo classical:  -6.4525547\n",
      "KL divergence:  1.0922666\n"
     ]
    },
    {
     "name": "stderr",
     "output_type": "stream",
     "text": [
      " 40%|████      | 2001/5000 [1:24:17<2:07:37,  2.55s/it]"
     ]
    },
    {
     "name": "stdout",
     "output_type": "stream",
     "text": [
      "log-likelihood:  -0.5354991\n",
      "elbo classical:  -6.173005\n",
      "KL divergence:  1.0813521\n"
     ]
    },
    {
     "name": "stderr",
     "output_type": "stream",
     "text": [
      " 41%|████      | 2051/5000 [1:26:25<2:04:05,  2.52s/it]"
     ]
    },
    {
     "name": "stdout",
     "output_type": "stream",
     "text": [
      "log-likelihood:  -0.5183627\n",
      "elbo classical:  -6.1140075\n",
      "KL divergence:  1.1014843\n"
     ]
    },
    {
     "name": "stderr",
     "output_type": "stream",
     "text": [
      " 42%|████▏     | 2101/5000 [1:28:32<2:02:47,  2.54s/it]"
     ]
    },
    {
     "name": "stdout",
     "output_type": "stream",
     "text": [
      "log-likelihood:  -0.5104088\n",
      "elbo classical:  -6.0696263\n",
      "KL divergence:  1.1172272\n"
     ]
    },
    {
     "name": "stderr",
     "output_type": "stream",
     "text": [
      " 43%|████▎     | 2151/5000 [1:30:39<2:00:39,  2.54s/it]"
     ]
    },
    {
     "name": "stdout",
     "output_type": "stream",
     "text": [
      "log-likelihood:  -0.5178062\n",
      "elbo classical:  -6.069609\n",
      "KL divergence:  1.0892015\n"
     ]
    },
    {
     "name": "stderr",
     "output_type": "stream",
     "text": [
      " 44%|████▍     | 2201/5000 [1:32:46<1:58:34,  2.54s/it]"
     ]
    },
    {
     "name": "stdout",
     "output_type": "stream",
     "text": [
      "log-likelihood:  -0.51604354\n",
      "elbo classical:  -6.398778\n",
      "KL divergence:  1.0925465\n"
     ]
    },
    {
     "name": "stderr",
     "output_type": "stream",
     "text": [
      " 45%|████▌     | 2251/5000 [1:34:54<1:55:55,  2.53s/it]"
     ]
    },
    {
     "name": "stdout",
     "output_type": "stream",
     "text": [
      "log-likelihood:  -0.5573485\n",
      "elbo classical:  -6.420147\n",
      "KL divergence:  1.052973\n"
     ]
    },
    {
     "name": "stderr",
     "output_type": "stream",
     "text": [
      " 46%|████▌     | 2301/5000 [1:37:01<1:54:34,  2.55s/it]"
     ]
    },
    {
     "name": "stdout",
     "output_type": "stream",
     "text": [
      "log-likelihood:  -0.5079094\n",
      "elbo classical:  -6.1391244\n",
      "KL divergence:  1.0983995\n"
     ]
    },
    {
     "name": "stderr",
     "output_type": "stream",
     "text": [
      " 47%|████▋     | 2351/5000 [1:39:08<1:52:35,  2.55s/it]"
     ]
    },
    {
     "name": "stdout",
     "output_type": "stream",
     "text": [
      "log-likelihood:  -0.51694995\n",
      "elbo classical:  -6.160034\n",
      "KL divergence:  1.1119665\n"
     ]
    },
    {
     "name": "stderr",
     "output_type": "stream",
     "text": [
      " 48%|████▊     | 2401/5000 [1:41:14<1:50:23,  2.55s/it]"
     ]
    },
    {
     "name": "stdout",
     "output_type": "stream",
     "text": [
      "log-likelihood:  -0.5087184\n",
      "elbo classical:  -5.949429\n",
      "KL divergence:  1.0818357\n"
     ]
    },
    {
     "name": "stderr",
     "output_type": "stream",
     "text": [
      " 49%|████▉     | 2451/5000 [1:43:21<1:47:35,  2.53s/it]"
     ]
    },
    {
     "name": "stdout",
     "output_type": "stream",
     "text": [
      "log-likelihood:  -0.52104086\n",
      "elbo classical:  -6.3974195\n",
      "KL divergence:  1.0853252\n"
     ]
    },
    {
     "name": "stderr",
     "output_type": "stream",
     "text": [
      " 50%|█████     | 2501/5000 [1:45:29<1:46:04,  2.55s/it]"
     ]
    },
    {
     "name": "stdout",
     "output_type": "stream",
     "text": [
      "log-likelihood:  -0.512456\n",
      "elbo classical:  -6.352483\n",
      "KL divergence:  1.1101608\n"
     ]
    },
    {
     "name": "stderr",
     "output_type": "stream",
     "text": [
      " 51%|█████     | 2551/5000 [1:47:35<1:43:18,  2.53s/it]"
     ]
    },
    {
     "name": "stdout",
     "output_type": "stream",
     "text": [
      "log-likelihood:  -0.5158497\n",
      "elbo classical:  -6.4344\n",
      "KL divergence:  1.0793304\n"
     ]
    },
    {
     "name": "stderr",
     "output_type": "stream",
     "text": [
      " 52%|█████▏    | 2601/5000 [1:49:42<1:40:32,  2.51s/it]"
     ]
    },
    {
     "name": "stdout",
     "output_type": "stream",
     "text": [
      "log-likelihood:  -0.5063157\n",
      "elbo classical:  -6.256247\n",
      "KL divergence:  1.1052151\n"
     ]
    },
    {
     "name": "stderr",
     "output_type": "stream",
     "text": [
      " 53%|█████▎    | 2651/5000 [1:51:49<1:39:20,  2.54s/it]"
     ]
    },
    {
     "name": "stdout",
     "output_type": "stream",
     "text": [
      "log-likelihood:  -0.5127906\n",
      "elbo classical:  -6.3360405\n",
      "KL divergence:  1.0817612\n"
     ]
    },
    {
     "name": "stderr",
     "output_type": "stream",
     "text": [
      " 54%|█████▍    | 2701/5000 [1:53:56<1:37:17,  2.54s/it]"
     ]
    },
    {
     "name": "stdout",
     "output_type": "stream",
     "text": [
      "log-likelihood:  -0.51323175\n",
      "elbo classical:  -6.2409167\n",
      "KL divergence:  1.0830237\n"
     ]
    },
    {
     "name": "stderr",
     "output_type": "stream",
     "text": [
      " 55%|█████▌    | 2751/5000 [1:56:03<1:35:25,  2.55s/it]"
     ]
    },
    {
     "name": "stdout",
     "output_type": "stream",
     "text": [
      "log-likelihood:  -0.5084936\n",
      "elbo classical:  -6.0703626\n",
      "KL divergence:  1.1194654\n"
     ]
    },
    {
     "name": "stderr",
     "output_type": "stream",
     "text": [
      " 56%|█████▌    | 2801/5000 [1:58:10<1:32:42,  2.53s/it]"
     ]
    },
    {
     "name": "stdout",
     "output_type": "stream",
     "text": [
      "log-likelihood:  -0.5286281\n",
      "elbo classical:  -6.2017922\n",
      "KL divergence:  1.0591515\n"
     ]
    },
    {
     "name": "stderr",
     "output_type": "stream",
     "text": [
      " 57%|█████▋    | 2851/5000 [2:00:16<1:28:54,  2.48s/it]"
     ]
    },
    {
     "name": "stdout",
     "output_type": "stream",
     "text": [
      "log-likelihood:  -0.51001567\n",
      "elbo classical:  -6.487153\n",
      "KL divergence:  1.1046422\n"
     ]
    },
    {
     "name": "stderr",
     "output_type": "stream",
     "text": [
      " 58%|█████▊    | 2901/5000 [2:02:23<1:29:00,  2.54s/it]"
     ]
    },
    {
     "name": "stdout",
     "output_type": "stream",
     "text": [
      "log-likelihood:  -0.5213298\n",
      "elbo classical:  -6.275456\n",
      "KL divergence:  1.0992442\n"
     ]
    },
    {
     "name": "stderr",
     "output_type": "stream",
     "text": [
      " 59%|█████▉    | 2951/5000 [2:04:30<1:25:23,  2.50s/it]"
     ]
    },
    {
     "name": "stdout",
     "output_type": "stream",
     "text": [
      "log-likelihood:  -0.5311908\n",
      "elbo classical:  -6.322849\n",
      "KL divergence:  1.0582454\n"
     ]
    },
    {
     "name": "stderr",
     "output_type": "stream",
     "text": [
      " 60%|██████    | 3001/5000 [2:06:36<1:23:40,  2.51s/it]"
     ]
    },
    {
     "name": "stdout",
     "output_type": "stream",
     "text": [
      "log-likelihood:  -0.51965284\n",
      "elbo classical:  -6.5350366\n",
      "KL divergence:  1.0526935\n"
     ]
    },
    {
     "name": "stderr",
     "output_type": "stream",
     "text": [
      " 61%|██████    | 3051/5000 [2:08:43<1:22:31,  2.54s/it]"
     ]
    },
    {
     "name": "stdout",
     "output_type": "stream",
     "text": [
      "log-likelihood:  -0.5157858\n",
      "elbo classical:  -6.4728036\n",
      "KL divergence:  1.1035626\n"
     ]
    },
    {
     "name": "stderr",
     "output_type": "stream",
     "text": [
      " 62%|██████▏   | 3101/5000 [2:10:50<1:20:10,  2.53s/it]"
     ]
    },
    {
     "name": "stdout",
     "output_type": "stream",
     "text": [
      "log-likelihood:  -0.54197717\n",
      "elbo classical:  -6.4796367\n",
      "KL divergence:  1.0609027\n"
     ]
    },
    {
     "name": "stderr",
     "output_type": "stream",
     "text": [
      " 63%|██████▎   | 3151/5000 [2:12:57<1:18:56,  2.56s/it]"
     ]
    },
    {
     "name": "stdout",
     "output_type": "stream",
     "text": [
      "log-likelihood:  -0.5280619\n",
      "elbo classical:  -6.748791\n",
      "KL divergence:  1.0641836\n"
     ]
    },
    {
     "name": "stderr",
     "output_type": "stream",
     "text": [
      " 64%|██████▍   | 3201/5000 [2:15:04<1:16:34,  2.55s/it]"
     ]
    },
    {
     "name": "stdout",
     "output_type": "stream",
     "text": [
      "log-likelihood:  -0.51444817\n",
      "elbo classical:  -6.258389\n",
      "KL divergence:  1.088746\n"
     ]
    },
    {
     "name": "stderr",
     "output_type": "stream",
     "text": [
      " 65%|██████▌   | 3251/5000 [2:17:10<1:14:36,  2.56s/it]"
     ]
    },
    {
     "name": "stdout",
     "output_type": "stream",
     "text": [
      "log-likelihood:  -0.5164644\n",
      "elbo classical:  -6.0557904\n",
      "KL divergence:  1.0830382\n"
     ]
    },
    {
     "name": "stderr",
     "output_type": "stream",
     "text": [
      " 66%|██████▌   | 3301/5000 [2:19:17<1:10:09,  2.48s/it]"
     ]
    },
    {
     "name": "stdout",
     "output_type": "stream",
     "text": [
      "log-likelihood:  -0.5311595\n",
      "elbo classical:  -6.252274\n",
      "KL divergence:  1.0485942\n"
     ]
    },
    {
     "name": "stderr",
     "output_type": "stream",
     "text": [
      " 67%|██████▋   | 3351/5000 [2:21:23<1:09:51,  2.54s/it]"
     ]
    },
    {
     "name": "stdout",
     "output_type": "stream",
     "text": [
      "log-likelihood:  -0.52209616\n",
      "elbo classical:  -5.9142795\n",
      "KL divergence:  1.0900949\n"
     ]
    },
    {
     "name": "stderr",
     "output_type": "stream",
     "text": [
      " 68%|██████▊   | 3401/5000 [2:23:30<1:07:34,  2.54s/it]"
     ]
    },
    {
     "name": "stdout",
     "output_type": "stream",
     "text": [
      "log-likelihood:  -0.5107043\n",
      "elbo classical:  -6.647516\n",
      "KL divergence:  1.1175615\n"
     ]
    },
    {
     "name": "stderr",
     "output_type": "stream",
     "text": [
      " 69%|██████▉   | 3451/5000 [2:25:37<1:05:46,  2.55s/it]"
     ]
    },
    {
     "name": "stdout",
     "output_type": "stream",
     "text": [
      "log-likelihood:  -0.50166625\n",
      "elbo classical:  -6.5185337\n",
      "KL divergence:  1.102136\n"
     ]
    },
    {
     "name": "stderr",
     "output_type": "stream",
     "text": [
      " 70%|███████   | 3501/5000 [2:27:43<1:01:28,  2.46s/it]"
     ]
    },
    {
     "name": "stdout",
     "output_type": "stream",
     "text": [
      "log-likelihood:  -0.523489\n",
      "elbo classical:  -6.333717\n",
      "KL divergence:  1.0982584\n"
     ]
    },
    {
     "name": "stderr",
     "output_type": "stream",
     "text": [
      " 71%|███████   | 3551/5000 [2:29:49<1:00:30,  2.51s/it]"
     ]
    },
    {
     "name": "stdout",
     "output_type": "stream",
     "text": [
      "log-likelihood:  -0.5252073\n",
      "elbo classical:  -6.0673375\n",
      "KL divergence:  1.095294\n"
     ]
    },
    {
     "name": "stderr",
     "output_type": "stream",
     "text": [
      " 72%|███████▏  | 3601/5000 [2:31:56<59:29,  2.55s/it]  "
     ]
    },
    {
     "name": "stdout",
     "output_type": "stream",
     "text": [
      "log-likelihood:  -0.4978504\n",
      "elbo classical:  -6.0185766\n",
      "KL divergence:  1.1338372\n"
     ]
    },
    {
     "name": "stderr",
     "output_type": "stream",
     "text": [
      " 73%|███████▎  | 3651/5000 [2:34:01<55:54,  2.49s/it]"
     ]
    },
    {
     "name": "stdout",
     "output_type": "stream",
     "text": [
      "log-likelihood:  -0.5246992\n",
      "elbo classical:  -6.2268586\n",
      "KL divergence:  1.0704573\n"
     ]
    },
    {
     "name": "stderr",
     "output_type": "stream",
     "text": [
      " 74%|███████▍  | 3701/5000 [2:36:08<54:56,  2.54s/it]"
     ]
    },
    {
     "name": "stdout",
     "output_type": "stream",
     "text": [
      "log-likelihood:  -0.5029889\n",
      "elbo classical:  -6.179707\n",
      "KL divergence:  1.1184291\n"
     ]
    },
    {
     "name": "stderr",
     "output_type": "stream",
     "text": [
      " 75%|███████▌  | 3751/5000 [2:38:15<52:39,  2.53s/it]"
     ]
    },
    {
     "name": "stdout",
     "output_type": "stream",
     "text": [
      "log-likelihood:  -0.5056087\n",
      "elbo classical:  -6.494422\n",
      "KL divergence:  1.0746931\n"
     ]
    },
    {
     "name": "stderr",
     "output_type": "stream",
     "text": [
      " 76%|███████▌  | 3801/5000 [2:40:22<50:24,  2.52s/it]"
     ]
    },
    {
     "name": "stdout",
     "output_type": "stream",
     "text": [
      "log-likelihood:  -0.50100136\n",
      "elbo classical:  -6.642367\n",
      "KL divergence:  1.0878928\n"
     ]
    },
    {
     "name": "stderr",
     "output_type": "stream",
     "text": [
      " 77%|███████▋  | 3851/5000 [2:42:29<49:01,  2.56s/it]"
     ]
    },
    {
     "name": "stdout",
     "output_type": "stream",
     "text": [
      "log-likelihood:  -0.5107121\n",
      "elbo classical:  -6.2932982\n",
      "KL divergence:  1.0871128\n"
     ]
    },
    {
     "name": "stderr",
     "output_type": "stream",
     "text": [
      " 78%|███████▊  | 3901/5000 [2:44:36<46:48,  2.56s/it]"
     ]
    },
    {
     "name": "stdout",
     "output_type": "stream",
     "text": [
      "log-likelihood:  -0.5223585\n",
      "elbo classical:  -6.227782\n",
      "KL divergence:  1.0988214\n"
     ]
    },
    {
     "name": "stderr",
     "output_type": "stream",
     "text": [
      " 79%|███████▉  | 3951/5000 [2:46:42<44:07,  2.52s/it]"
     ]
    },
    {
     "name": "stdout",
     "output_type": "stream",
     "text": [
      "log-likelihood:  -0.5297875\n",
      "elbo classical:  -6.391803\n",
      "KL divergence:  1.113201\n"
     ]
    },
    {
     "name": "stderr",
     "output_type": "stream",
     "text": [
      " 80%|████████  | 4001/5000 [2:48:50<42:34,  2.56s/it]"
     ]
    },
    {
     "name": "stdout",
     "output_type": "stream",
     "text": [
      "log-likelihood:  -0.5354421\n",
      "elbo classical:  -6.835907\n",
      "KL divergence:  1.0699792\n"
     ]
    },
    {
     "name": "stderr",
     "output_type": "stream",
     "text": [
      " 81%|████████  | 4051/5000 [2:50:57<40:09,  2.54s/it]"
     ]
    },
    {
     "name": "stdout",
     "output_type": "stream",
     "text": [
      "log-likelihood:  -0.52352816\n",
      "elbo classical:  -6.087683\n",
      "KL divergence:  1.0648031\n"
     ]
    },
    {
     "name": "stderr",
     "output_type": "stream",
     "text": [
      " 82%|████████▏ | 4101/5000 [2:53:03<37:40,  2.51s/it]"
     ]
    },
    {
     "name": "stdout",
     "output_type": "stream",
     "text": [
      "log-likelihood:  -0.52478933\n",
      "elbo classical:  -6.3795495\n",
      "KL divergence:  1.0627335\n"
     ]
    },
    {
     "name": "stderr",
     "output_type": "stream",
     "text": [
      " 83%|████████▎ | 4151/5000 [2:55:09<35:54,  2.54s/it]"
     ]
    },
    {
     "name": "stdout",
     "output_type": "stream",
     "text": [
      "log-likelihood:  -0.5308674\n",
      "elbo classical:  -5.981891\n",
      "KL divergence:  1.0707684\n"
     ]
    },
    {
     "name": "stderr",
     "output_type": "stream",
     "text": [
      " 84%|████████▍ | 4201/5000 [2:57:16<34:08,  2.56s/it]"
     ]
    },
    {
     "name": "stdout",
     "output_type": "stream",
     "text": [
      "log-likelihood:  -0.5231207\n",
      "elbo classical:  -6.3580174\n",
      "KL divergence:  1.1066713\n"
     ]
    },
    {
     "name": "stderr",
     "output_type": "stream",
     "text": [
      " 85%|████████▌ | 4251/5000 [2:59:23<31:30,  2.52s/it]"
     ]
    },
    {
     "name": "stdout",
     "output_type": "stream",
     "text": [
      "log-likelihood:  -0.54836\n",
      "elbo classical:  -6.140639\n",
      "KL divergence:  1.0625448\n"
     ]
    },
    {
     "name": "stderr",
     "output_type": "stream",
     "text": [
      " 86%|████████▌ | 4301/5000 [3:01:30<29:32,  2.54s/it]"
     ]
    },
    {
     "name": "stdout",
     "output_type": "stream",
     "text": [
      "log-likelihood:  -0.5268871\n",
      "elbo classical:  -5.927227\n",
      "KL divergence:  1.0736485\n"
     ]
    },
    {
     "name": "stderr",
     "output_type": "stream",
     "text": [
      " 87%|████████▋ | 4351/5000 [3:03:37<27:30,  2.54s/it]"
     ]
    },
    {
     "name": "stdout",
     "output_type": "stream",
     "text": [
      "log-likelihood:  -0.5216734\n",
      "elbo classical:  -6.3213615\n",
      "KL divergence:  1.1055185\n"
     ]
    },
    {
     "name": "stderr",
     "output_type": "stream",
     "text": [
      " 88%|████████▊ | 4401/5000 [3:05:44<25:24,  2.55s/it]"
     ]
    },
    {
     "name": "stdout",
     "output_type": "stream",
     "text": [
      "log-likelihood:  -0.5245047\n",
      "elbo classical:  -5.847147\n",
      "KL divergence:  1.0975236\n"
     ]
    },
    {
     "name": "stderr",
     "output_type": "stream",
     "text": [
      " 89%|████████▉ | 4451/5000 [3:07:50<22:22,  2.45s/it]"
     ]
    },
    {
     "name": "stdout",
     "output_type": "stream",
     "text": [
      "log-likelihood:  -0.53337747\n",
      "elbo classical:  -6.080384\n",
      "KL divergence:  1.0754336\n"
     ]
    },
    {
     "name": "stderr",
     "output_type": "stream",
     "text": [
      " 90%|█████████ | 4501/5000 [3:09:54<20:55,  2.52s/it]"
     ]
    },
    {
     "name": "stdout",
     "output_type": "stream",
     "text": [
      "log-likelihood:  -0.51387376\n",
      "elbo classical:  -6.349492\n",
      "KL divergence:  1.0792997\n"
     ]
    },
    {
     "name": "stderr",
     "output_type": "stream",
     "text": [
      " 91%|█████████ | 4551/5000 [3:12:01<19:03,  2.55s/it]"
     ]
    },
    {
     "name": "stdout",
     "output_type": "stream",
     "text": [
      "log-likelihood:  -0.50971794\n",
      "elbo classical:  -6.508488\n",
      "KL divergence:  1.0815614\n"
     ]
    },
    {
     "name": "stderr",
     "output_type": "stream",
     "text": [
      " 92%|█████████▏| 4601/5000 [3:14:07<17:01,  2.56s/it]"
     ]
    },
    {
     "name": "stdout",
     "output_type": "stream",
     "text": [
      "log-likelihood:  -0.50661445\n",
      "elbo classical:  -6.307976\n",
      "KL divergence:  1.1090132\n"
     ]
    },
    {
     "name": "stderr",
     "output_type": "stream",
     "text": [
      " 93%|█████████▎| 4651/5000 [3:16:14<14:46,  2.54s/it]"
     ]
    },
    {
     "name": "stdout",
     "output_type": "stream",
     "text": [
      "log-likelihood:  -0.53015786\n",
      "elbo classical:  -6.545494\n",
      "KL divergence:  1.0686152\n"
     ]
    },
    {
     "name": "stderr",
     "output_type": "stream",
     "text": [
      " 94%|█████████▍| 4701/5000 [3:18:21<12:46,  2.56s/it]"
     ]
    },
    {
     "name": "stdout",
     "output_type": "stream",
     "text": [
      "log-likelihood:  -0.5099347\n",
      "elbo classical:  -6.4829016\n",
      "KL divergence:  1.073669\n"
     ]
    },
    {
     "name": "stderr",
     "output_type": "stream",
     "text": [
      " 95%|█████████▌| 4751/5000 [3:20:25<10:08,  2.44s/it]"
     ]
    },
    {
     "name": "stdout",
     "output_type": "stream",
     "text": [
      "log-likelihood:  -0.5172774\n",
      "elbo classical:  -6.134487\n",
      "KL divergence:  1.0955784\n"
     ]
    },
    {
     "name": "stderr",
     "output_type": "stream",
     "text": [
      " 96%|█████████▌| 4801/5000 [3:22:32<08:23,  2.53s/it]"
     ]
    },
    {
     "name": "stdout",
     "output_type": "stream",
     "text": [
      "log-likelihood:  -0.50811195\n",
      "elbo classical:  -6.305132\n",
      "KL divergence:  1.0888395\n"
     ]
    },
    {
     "name": "stderr",
     "output_type": "stream",
     "text": [
      " 97%|█████████▋| 4851/5000 [3:24:37<06:20,  2.56s/it]"
     ]
    },
    {
     "name": "stdout",
     "output_type": "stream",
     "text": [
      "log-likelihood:  -0.5286762\n",
      "elbo classical:  -5.8040056\n",
      "KL divergence:  1.0910552\n"
     ]
    },
    {
     "name": "stderr",
     "output_type": "stream",
     "text": [
      " 98%|█████████▊| 4901/5000 [3:26:44<04:11,  2.54s/it]"
     ]
    },
    {
     "name": "stdout",
     "output_type": "stream",
     "text": [
      "log-likelihood:  -0.5123104\n",
      "elbo classical:  -6.1490545\n",
      "KL divergence:  1.1184411\n"
     ]
    },
    {
     "name": "stderr",
     "output_type": "stream",
     "text": [
      " 99%|█████████▉| 4951/5000 [3:28:51<02:05,  2.55s/it]"
     ]
    },
    {
     "name": "stdout",
     "output_type": "stream",
     "text": [
      "log-likelihood:  -0.5030931\n",
      "elbo classical:  -6.466467\n",
      "KL divergence:  1.1211601\n"
     ]
    },
    {
     "name": "stderr",
     "output_type": "stream",
     "text": [
      "100%|██████████| 5000/5000 [3:30:54<00:00,  2.53s/it]\n"
     ]
    }
   ],
   "source": [
    "print_info = 50\n",
    "\n",
    "for ep in tqdm(range(num_epoches)):\n",
    "    for b_num, batch_train in enumerate(dataloader): # cycle over batches\n",
    "#         pdb.set_trace()\n",
    "        mu, sigma = enc_hoff(batch_train)\n",
    "        u = std_normal.sample(mu.shape)\n",
    "        z = mu + sigma * u # reparametrization trick\n",
    "        z_hmc = z.detach()\n",
    "        ###### objective for phi\n",
    "        ####\n",
    "        prod = dec_hoff(z)\n",
    "        exp_log = (batch_train * dec_hoff(mu) - torch.log(1+ torch.exp(prod))).sum(1)\n",
    "        KLD = (-0.5 * (1 + 2 * sigma.log() - mu.pow(2) - sigma.pow(2))).sum(1)\n",
    "        obj_1 = (exp_log - KLD).mean()\n",
    "        (-obj_1).backward()\n",
    "        optimizer_phi.step()\n",
    "        optimizer_phi.zero_grad()\n",
    "        optimizer_theta.zero_grad()\n",
    "        ###### objective for theta\n",
    "        ####\n",
    "        p_hmc = std_normal.sample(mu.shape)\n",
    "        obj_2 = 0\n",
    "        for k in range(steps):\n",
    "            z_hmc, p_hmc, _, _, _, _ = transitions.make_transition(q_old=z_hmc, p_old=p_hmc, target_distr=target, x=batch_train)\n",
    "            if hoffman_other:\n",
    "                probs = torch.sigmoid(dec_hoff(z_hmc))\n",
    "                obj_2 += torch.distributions.Bernoulli(probs=probs).log_prob(batch_train).mean()\n",
    "        if hoffman_other:\n",
    "            obj_2 = obj_2 / steps\n",
    "        else: \n",
    "            probs = torch.sigmoid(dec_hoff(z_hmc))\n",
    "            obj_2 = torch.distributions.Bernoulli(probs=probs).log_prob(batch_train).mean()\n",
    "        (-obj_2).backward()\n",
    "        optimizer_theta.step()\n",
    "        optimizer_theta.zero_grad()\n",
    "        \n",
    "    if ep % print_info ==0:\n",
    "        print('log-likelihood: ', obj_2.cpu().detach().numpy())\n",
    "        print('elbo classical: ', obj_1.cpu().detach().numpy())\n",
    "        print('KL divergence: ', KLD.mean().cpu().detach().numpy())"
   ]
  },
  {
   "cell_type": "code",
   "execution_count": 45,
   "metadata": {},
   "outputs": [
    {
     "name": "stdout",
     "output_type": "stream",
     "text": [
      "reconstructed probs tensor([[0.5628, 0.1454, 0.5754, 0.6388, 0.4835, 0.5965, 0.7330, 0.1834, 0.5586,\n",
      "         0.8566],\n",
      "        [0.6851, 0.7260, 0.9623, 0.3615, 0.9277, 0.9683, 0.4371, 0.9097, 0.9783,\n",
      "         0.3675],\n",
      "        [0.4708, 0.3765, 0.3508, 0.5535, 0.3688, 0.3457, 0.5561, 0.3248, 0.3220,\n",
      "         0.6031],\n",
      "        [0.5490, 0.4914, 0.6724, 0.4894, 0.6284, 0.6832, 0.5207, 0.5702, 0.6961,\n",
      "         0.5316],\n",
      "        [0.5481, 0.2998, 0.6021, 0.5629, 0.5416, 0.6163, 0.6242, 0.3548, 0.6042,\n",
      "         0.7090],\n",
      "        [0.4649, 0.7937, 0.4900, 0.3898, 0.5477, 0.4767, 0.3205, 0.7720, 0.5106,\n",
      "         0.2083],\n",
      "        [0.2384, 0.9438, 0.0352, 0.3327, 0.1212, 0.0257, 0.1348, 0.7584, 0.0256,\n",
      "         0.0388],\n",
      "        [0.5362, 0.9663, 0.8508, 0.2221, 0.8625, 0.8496, 0.1535, 0.9790, 0.9031,\n",
      "         0.0437],\n",
      "        [0.3899, 0.8262, 0.2485, 0.3920, 0.3631, 0.2245, 0.2762, 0.7206, 0.2356,\n",
      "         0.1570],\n",
      "        [0.5594, 0.2085, 0.6010, 0.6025, 0.5209, 0.6195, 0.6850, 0.2601, 0.5954,\n",
      "         0.7972]], device='cuda:0')\n",
      "true probs tensor([[0.4440, 0.8629, 0.4517, 0.3605, 0.5320, 0.4255, 0.2677, 0.8304, 0.4686,\n",
      "         0.1274],\n",
      "        [0.7377, 0.1108, 0.9768, 0.5979, 0.9207, 0.9845, 0.8051, 0.4395, 0.9863,\n",
      "         0.9221],\n",
      "        [0.4374, 0.6780, 0.3092, 0.4551, 0.3815, 0.2876, 0.3858, 0.5799, 0.2886,\n",
      "         0.3017],\n",
      "        [0.5464, 0.4530, 0.6806, 0.5015, 0.6295, 0.6960, 0.5403, 0.5406, 0.7063,\n",
      "         0.5643],\n",
      "        [0.4910, 0.6892, 0.5482, 0.4334, 0.5647, 0.5425, 0.3980, 0.6922, 0.5673,\n",
      "         0.3079],\n",
      "        [0.5554, 0.1885, 0.5870, 0.6084, 0.5111, 0.6112, 0.6930, 0.2363, 0.5823,\n",
      "         0.8240],\n",
      "        [0.4022, 0.1150, 0.0628, 0.6995, 0.0915, 0.0558, 0.7080, 0.0451, 0.0361,\n",
      "         0.8690],\n",
      "        [0.7399, 0.0146, 0.9446, 0.7578, 0.8134, 0.9637, 0.9237, 0.0705, 0.9568,\n",
      "         0.9901],\n",
      "        [0.4935, 0.2051, 0.3265, 0.6188, 0.3243, 0.3279, 0.6621, 0.1746, 0.2840,\n",
      "         0.7934],\n",
      "        [0.4697, 0.7906, 0.5117, 0.3948, 0.5573, 0.4964, 0.3291, 0.7738, 0.5320,\n",
      "         0.2019]], device='cuda:0')\n"
     ]
    }
   ],
   "source": [
    "for p in dec_hoff.parameters():\n",
    "    p.requires_grad_(False)\n",
    "u = std_normal.sample((10, z_dim))\n",
    "\n",
    "print('reconstructed probs', torch.sigmoid(dec_hoff(u)))\n",
    "print('true probs', torch.sigmoid(u @ true_theta))"
   ]
  },
  {
   "cell_type": "code",
   "execution_count": 46,
   "metadata": {},
   "outputs": [
    {
     "data": {
      "text/plain": [
       "tensor([[ 0.4099, -2.6188,  0.5861,  0.8326,  0.0034,  0.7238,  1.5055, -2.1481,\n",
       "          0.5058,  2.6599],\n",
       "        [-0.3025, -0.2912, -1.2295,  0.1896, -0.9557, -1.3008,  0.0524, -0.8042,\n",
       "         -1.4403,  0.1285]], device='cuda:0')"
      ]
     },
     "execution_count": 46,
     "metadata": {},
     "output_type": "execute_result"
    }
   ],
   "source": [
    "dec_hoff.W.weight.T"
   ]
  },
  {
   "cell_type": "code",
   "execution_count": 47,
   "metadata": {},
   "outputs": [
    {
     "data": {
      "text/plain": [
       "tensor([[-0.2963,  2.6764, -0.1408, -0.8441,  0.2905, -0.2838, -1.4535,  2.3737,\n",
       "         -0.0177, -2.7884],\n",
       "        [-0.3788,  0.7046, -1.3956, -0.1248, -0.9259, -1.5463, -0.4902,  0.0244,\n",
       "         -1.5992, -0.8469]], device='cuda:0')"
      ]
     },
     "execution_count": 47,
     "metadata": {},
     "output_type": "execute_result"
    }
   ],
   "source": [
    "true_theta"
   ]
  },
  {
   "cell_type": "code",
   "execution_count": null,
   "metadata": {},
   "outputs": [],
   "source": []
  },
  {
   "cell_type": "code",
   "execution_count": null,
   "metadata": {},
   "outputs": [],
   "source": []
  },
  {
   "cell_type": "markdown",
   "metadata": {},
   "source": [
    "### Work on our VAE and Hoffman loss"
   ]
  },
  {
   "cell_type": "code",
   "execution_count": 81,
   "metadata": {},
   "outputs": [],
   "source": [
    "enc_hoff_our = Encoder_vae(data_dim=data_dim, z_dim=z_dim, K=K).to(device)\n",
    "dec_hoff_our = Decoder(data_dim=data_dim, z_dim=z_dim).to(device)\n",
    "\n",
    "optimizer_phi = torch.optim.Adam(params=enc_hoff_our.parameters())\n",
    "optimizer_theta = torch.optim.Adam(params=dec_hoff_our.parameters())\n",
    "\n",
    "transitions = HMC_our(kwargs=args).to(args.device)\n",
    "torch_log_2 = torch.tensor(np.log(2.), device=args.device, dtype=args.torchType)\n",
    "\n",
    "K_steps = 5\n",
    "print_info = 100"
   ]
  },
  {
   "cell_type": "code",
   "execution_count": 82,
   "metadata": {},
   "outputs": [],
   "source": [
    "class Target():\n",
    "    def __init__(self,):\n",
    "        pass\n",
    "    def get_logdensity(self, z, x, prior=None, args=None, prior_flow=None):\n",
    "        probs = torch.sigmoid(dec_hoff_our(z))\n",
    "        return torch.distributions.Bernoulli(probs=probs).log_prob(x).sum(1) + std_normal.log_prob(z).sum(1)\n",
    "target = Target()"
   ]
  },
  {
   "cell_type": "code",
   "execution_count": 83,
   "metadata": {},
   "outputs": [
    {
     "name": "stdout",
     "output_type": "stream",
     "text": [
      "log-likelihood:  -9.832247\n",
      "elbo our:  -17.65849\n",
      "log-likelihood:  -8.312729\n",
      "elbo our:  -16.766851\n",
      "log-likelihood:  -8.299725\n",
      "elbo our:  -16.855505\n",
      "log-likelihood:  -8.3062\n",
      "elbo our:  -16.69615\n",
      "log-likelihood:  -8.297422\n",
      "elbo our:  -16.758532\n",
      "log-likelihood:  -8.065443\n",
      "elbo our:  -16.700111\n",
      "log-likelihood:  -8.154625\n",
      "elbo our:  -16.667288\n",
      "log-likelihood:  -8.210495\n",
      "elbo our:  -16.731775\n",
      "log-likelihood:  -8.179302\n",
      "elbo our:  -16.697556\n",
      "log-likelihood:  -8.22062\n",
      "elbo our:  -16.724377\n",
      "log-likelihood:  -8.252865\n",
      "elbo our:  -16.616934\n",
      "log-likelihood:  -8.123395\n",
      "elbo our:  -16.575151\n",
      "log-likelihood:  -8.232658\n",
      "elbo our:  -16.702282\n",
      "log-likelihood:  -8.14432\n",
      "elbo our:  -16.640135\n",
      "log-likelihood:  -8.157821\n",
      "elbo our:  -16.73252\n",
      "log-likelihood:  -8.19649\n",
      "elbo our:  -16.65738\n",
      "log-likelihood:  -8.205331\n",
      "elbo our:  -16.638458\n",
      "log-likelihood:  -8.0914345\n",
      "elbo our:  -16.593853\n",
      "log-likelihood:  -8.219341\n",
      "elbo our:  -16.742945\n",
      "log-likelihood:  -8.168125\n",
      "elbo our:  -16.601124\n",
      "log-likelihood:  -8.163246\n",
      "elbo our:  -16.701488\n",
      "log-likelihood:  -8.047204\n",
      "elbo our:  -16.635118\n",
      "log-likelihood:  -8.186018\n",
      "elbo our:  -16.714075\n",
      "log-likelihood:  -8.173516\n",
      "elbo our:  -16.667786\n",
      "log-likelihood:  -8.072957\n",
      "elbo our:  -16.609777\n",
      "log-likelihood:  -8.100353\n",
      "elbo our:  -16.6205\n",
      "log-likelihood:  -7.9977455\n",
      "elbo our:  -16.544744\n",
      "log-likelihood:  -8.1692705\n",
      "elbo our:  -16.761597\n",
      "log-likelihood:  -8.169476\n",
      "elbo our:  -16.684282\n",
      "log-likelihood:  -8.042924\n",
      "elbo our:  -16.657225\n",
      "log-likelihood:  -8.084788\n",
      "elbo our:  -16.59804\n",
      "log-likelihood:  -8.063763\n",
      "elbo our:  -16.65937\n",
      "log-likelihood:  -8.137402\n",
      "elbo our:  -16.767998\n",
      "log-likelihood:  -8.0535965\n",
      "elbo our:  -16.57947\n",
      "log-likelihood:  -8.160559\n",
      "elbo our:  -16.694456\n",
      "log-likelihood:  -8.044104\n",
      "elbo our:  -16.697935\n",
      "log-likelihood:  -8.026427\n",
      "elbo our:  -16.563763\n",
      "log-likelihood:  -8.06002\n",
      "elbo our:  -16.712275\n",
      "log-likelihood:  -8.034636\n",
      "elbo our:  -16.60023\n",
      "log-likelihood:  -8.167586\n",
      "elbo our:  -16.717125\n",
      "log-likelihood:  -8.079426\n",
      "elbo our:  -16.539974\n",
      "log-likelihood:  -8.17208\n",
      "elbo our:  -16.826109\n",
      "log-likelihood:  -8.272929\n",
      "elbo our:  -16.792234\n",
      "log-likelihood:  -8.133088\n",
      "elbo our:  -16.703485\n",
      "log-likelihood:  -8.168003\n",
      "elbo our:  -16.662111\n",
      "log-likelihood:  -8.049869\n",
      "elbo our:  -16.610004\n",
      "log-likelihood:  -8.178428\n",
      "elbo our:  -16.713423\n",
      "log-likelihood:  -8.255326\n",
      "elbo our:  -16.726778\n",
      "log-likelihood:  -8.304537\n",
      "elbo our:  -16.747536\n",
      "log-likelihood:  -8.1305485\n",
      "elbo our:  -16.666407\n"
     ]
    }
   ],
   "source": [
    "# for ep in tqdm(range(num_epoches)):\n",
    "for ep in range(num_epoches):\n",
    "    for b_num, batch_train in enumerate(dataloader): # cycle over batches\n",
    "        mu, sigma = enc_hoff_our(batch_train)\n",
    "        u = std_normal.sample(mu.shape)\n",
    "        z = mu + sigma * u # reparametrization trick\n",
    "        z_hmc = z.detach()\n",
    "        sum_log_sigma = torch.sum(torch.log(sigma), 1)\n",
    "        \n",
    "        p_old = std_normal.sample(z.shape)\n",
    "        cond_vectors = [std_normal.sample(p_old.shape) for _ in range(K_steps)]\n",
    "\n",
    "        sum_log_alpha = torch.zeros(mu.shape[0], dtype=args.torchType, device=args.device) # for grad log alpha accumulation\n",
    "        sum_log_jacobian = torch.zeros(mu.shape[0], dtype=args.torchType, device=args.device) # for log_jacobian accumulation\n",
    "        p = p_old\n",
    "\n",
    "        for k in range(K_steps):\n",
    "            z, p, log_jac, current_log_alphas, directions, _ = transitions.make_transition(q_old=z, x=batch_train,\n",
    "                                                            p_old=p, k=cond_vectors[k], target_distr=target, args=args)\n",
    "            sum_log_alpha = sum_log_alpha + current_log_alphas\n",
    "            sum_log_jacobian = sum_log_jacobian + log_jac  \n",
    "        \n",
    "        log_r = -K * torch_log_2\n",
    "        log_m = std_normal.log_prob(u).sum(1) + std_normal.log_prob(p_old).sum(1) - sum_log_jacobian - sum_log_sigma + sum_log_alpha\n",
    "        probs = torch.sigmoid(dec_hoff_our(z))\n",
    "        log_p = torch.distributions.Bernoulli(probs=probs).log_prob(batch_train).sum(1) + std_normal.log_prob(z).sum(1) + args.std_normal.log_prob(p).sum(1)\n",
    "        obj_1 = torch.mean(log_p + log_r - log_m)\n",
    "        dec_hoff_our.eval()\n",
    "        (-obj_1).backward(retain_graph=True)\n",
    "        optimizer_phi.step()\n",
    "        optimizer_phi.zero_grad()\n",
    "        optimizer_theta.zero_grad() \n",
    "        \n",
    "        dec_hoff_our.train()\n",
    "        ###TO DO BETTER : USE ALL HISTORY OF Z ??\n",
    "        probs = torch.sigmoid(dec_hoff_our(z.detach()))\n",
    "        ### Below we can omit prior, since there it is not in graph\n",
    "        obj_2 = torch.mean(torch.distributions.Bernoulli(probs=probs).log_prob(batch_train).sum(1) + args.std_normal.log_prob(p).sum(1))\n",
    "        (-obj_2).backward()\n",
    "        optimizer_theta.step()\n",
    "        optimizer_phi.zero_grad()\n",
    "        optimizer_theta.zero_grad() \n",
    "        \n",
    "\n",
    "    if ep % print_info ==0:\n",
    "        print('log-likelihood: ', obj_2.cpu().detach().numpy())\n",
    "        print('elbo our: ', obj_1.cpu().detach().numpy())\n",
    "        #print('KL divergence: ', KLD.mean().cpu().detach().numpy())"
   ]
  },
  {
   "cell_type": "code",
   "execution_count": null,
   "metadata": {},
   "outputs": [],
   "source": []
  },
  {
   "cell_type": "code",
   "execution_count": 84,
   "metadata": {},
   "outputs": [
    {
     "name": "stdout",
     "output_type": "stream",
     "text": [
      "reconstructed probs tensor([[0.5720, 0.6547, 0.7898, 0.4194, 0.7535, 0.7994, 0.4382, 0.7595, 0.8276,\n",
      "         0.3816],\n",
      "        [0.4607, 0.7236, 0.4454, 0.4205, 0.4998, 0.4326, 0.3604, 0.6880, 0.4530,\n",
      "         0.2749],\n",
      "        [0.5446, 0.0398, 0.3666, 0.7608, 0.2759, 0.3879, 0.8560, 0.0409, 0.3010,\n",
      "         0.9555],\n",
      "        [0.5473, 0.0627, 0.4197, 0.7256, 0.3290, 0.4409, 0.8216, 0.0678, 0.3651,\n",
      "         0.9323],\n",
      "        [0.7184, 0.0450, 0.9107, 0.7096, 0.7755, 0.9302, 0.8774, 0.1396, 0.9223,\n",
      "         0.9630],\n",
      "        [0.5741, 0.6695, 0.7992, 0.4127, 0.7636, 0.8086, 0.4301, 0.7747, 0.8375,\n",
      "         0.3678],\n",
      "        [0.4436, 0.7394, 0.3906, 0.4179, 0.4604, 0.3742, 0.3451, 0.6833, 0.3909,\n",
      "         0.2546],\n",
      "        [0.8109, 0.0042, 0.9657, 0.8400, 0.8318, 0.9774, 0.9691, 0.0267, 0.9703,\n",
      "         0.9968],\n",
      "        [0.4173, 0.9930, 0.6557, 0.1438, 0.7931, 0.6201, 0.0578, 0.9920, 0.7451,\n",
      "         0.0082],\n",
      "        [0.6564, 0.1358, 0.8460, 0.6268, 0.7265, 0.8682, 0.7719, 0.2737, 0.8631,\n",
      "         0.8815]], device='cuda:0')\n",
      "true probs tensor([[0.3762, 0.7686, 0.1485, 0.4359, 0.2476, 0.1245, 0.3132, 0.5795, 0.1209,\n",
      "         0.1994],\n",
      "        [0.4686, 0.7520, 0.4819, 0.4137, 0.5275, 0.4668, 0.3536, 0.7266, 0.4940,\n",
      "         0.2393],\n",
      "        [0.6860, 0.0168, 0.8468, 0.7642, 0.6597, 0.8861, 0.9112, 0.0499, 0.8560,\n",
      "         0.9874],\n",
      "        [0.6511, 0.0319, 0.7841, 0.7304, 0.6103, 0.8270, 0.8745, 0.0734, 0.7902,\n",
      "         0.9746],\n",
      "        [0.4832, 0.0471, 0.1612, 0.7462, 0.1597, 0.1626, 0.8162, 0.0303, 0.1089,\n",
      "         0.9518],\n",
      "        [0.3693, 0.7858, 0.1376, 0.4297, 0.2382, 0.1139, 0.3003, 0.5919, 0.1108,\n",
      "         0.1823],\n",
      "        [0.4808, 0.7571, 0.5402, 0.4075, 0.5711, 0.5296, 0.3544, 0.7514, 0.5626,\n",
      "         0.2376],\n",
      "        [0.5282, 0.0036, 0.1182, 0.8745, 0.0901, 0.1300, 0.9466, 0.0024, 0.0648,\n",
      "         0.9966],\n",
      "        [0.2393, 0.9981, 0.0816, 0.1388, 0.2967, 0.0507, 0.0275, 0.9903, 0.0761,\n",
      "         0.0012],\n",
      "        [0.4685, 0.1507, 0.2071, 0.6566, 0.2235, 0.2027, 0.6954, 0.1028, 0.1583,\n",
      "         0.8432]], device='cuda:0')\n"
     ]
    }
   ],
   "source": [
    "for p in dec_hoff_our.parameters():\n",
    "    p.requires_grad_(False)\n",
    "u = std_normal.sample((10, z_dim))\n",
    "\n",
    "print('reconstructed probs', torch.sigmoid(dec_hoff_our(u)))\n",
    "print('true probs', torch.sigmoid(u @ true_theta))"
   ]
  },
  {
   "cell_type": "code",
   "execution_count": 85,
   "metadata": {},
   "outputs": [
    {
     "data": {
      "text/plain": [
       "tensor([[-0.3894,  2.3303, -0.5610, -0.7739, -0.0250, -0.6887, -1.3922,  1.9019,\n",
       "         -0.4919, -2.3521],\n",
       "        [ 0.2726,  0.2862,  1.1237, -0.1861,  0.9041,  1.1839, -0.0632,  0.7403,\n",
       "          1.3149, -0.1575]], device='cuda:0')"
      ]
     },
     "execution_count": 85,
     "metadata": {},
     "output_type": "execute_result"
    }
   ],
   "source": [
    "dec_hoff_our.W.weight.T"
   ]
  },
  {
   "cell_type": "code",
   "execution_count": 86,
   "metadata": {},
   "outputs": [
    {
     "data": {
      "text/plain": [
       "tensor([[-0.2963,  2.6764, -0.1408, -0.8441,  0.2905, -0.2838, -1.4535,  2.3737,\n",
       "         -0.0177, -2.7884],\n",
       "        [-0.3788,  0.7046, -1.3956, -0.1248, -0.9259, -1.5463, -0.4902,  0.0244,\n",
       "         -1.5992, -0.8469]], device='cuda:0')"
      ]
     },
     "execution_count": 86,
     "metadata": {},
     "output_type": "execute_result"
    }
   ],
   "source": [
    "true_theta"
   ]
  },
  {
   "cell_type": "code",
   "execution_count": 25,
   "metadata": {},
   "outputs": [],
   "source": [
    "main_path = './models_to_eval/'"
   ]
  },
  {
   "cell_type": "code",
   "execution_count": 93,
   "metadata": {},
   "outputs": [
    {
     "name": "stderr",
     "output_type": "stream",
     "text": [
      "/home/nkotelevskii/anaconda3/envs/condatorch/lib/python3.7/site-packages/torch/serialization.py:360: UserWarning: Couldn't retrieve source code for container of type Encoder_vae. It won't be checked for correctness upon loading.\n",
      "  \"type \" + obj.__name__ + \". It won't be checked \"\n",
      "/home/nkotelevskii/anaconda3/envs/condatorch/lib/python3.7/site-packages/torch/serialization.py:360: UserWarning: Couldn't retrieve source code for container of type Decoder. It won't be checked for correctness upon loading.\n",
      "  \"type \" + obj.__name__ + \". It won't be checked \"\n"
     ]
    }
   ],
   "source": [
    "## loss from metflow\n",
    "torch.save(encoder, main_path + 'encoder_metflow_loss.pth')\n",
    "torch.save(target_ourhmc, main_path + 'decoder_metflow_loss.pth')"
   ]
  },
  {
   "cell_type": "code",
   "execution_count": 94,
   "metadata": {},
   "outputs": [],
   "source": [
    "## hoffman with 10 hmc steps\n",
    "torch.save(enc_hoff, main_path + 'encoder_hoffman_loss.pth')\n",
    "torch.save(dec_hoff, main_path + 'decoder_hoffman_loss.pth')"
   ]
  },
  {
   "cell_type": "code",
   "execution_count": 95,
   "metadata": {},
   "outputs": [],
   "source": [
    "## our not-learnable kernels and hoffman stuff\n",
    "torch.save(enc_hoff_our, main_path + 'encoder_hoffman_metflow_loss.pth')\n",
    "torch.save(dec_hoff_our, main_path + 'decoder_hoffman_metflow_loss.pth')"
   ]
  },
  {
   "cell_type": "code",
   "execution_count": 96,
   "metadata": {},
   "outputs": [],
   "source": [
    "## lagging VAE\n",
    "torch.save(enc_lagg, main_path + 'encoder_lagging.pth')\n",
    "torch.save(dec_lagg, main_path + 'decoder_lagging.pth')"
   ]
  },
  {
   "cell_type": "code",
   "execution_count": 28,
   "metadata": {},
   "outputs": [],
   "source": [
    "##  VAE\n",
    "torch.save(enc_vae, main_path + 'encoder_vae.pt')\n",
    "torch.save(dec_vae, main_path + 'decoder_vae.pt')"
   ]
  }
 ],
 "metadata": {
  "kernelspec": {
   "display_name": "Condatorch",
   "language": "python",
   "name": "condatorch"
  },
  "language_info": {
   "codemirror_mode": {
    "name": "ipython",
    "version": 3
   },
   "file_extension": ".py",
   "mimetype": "text/x-python",
   "name": "python",
   "nbconvert_exporter": "python",
   "pygments_lexer": "ipython3",
   "version": "3.7.6"
  }
 },
 "nbformat": 4,
 "nbformat_minor": 4
}
