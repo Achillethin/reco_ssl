{
 "cells": [
  {
   "cell_type": "code",
   "execution_count": null,
   "metadata": {},
   "outputs": [],
   "source": [
    "import torch\n",
    "import torch.nn as nn\n",
    "import torch.nn.functional as F\n",
    "from tqdm import tqdm\n",
    "import pdb\n",
    "import matplotlib.pyplot as plt\n",
    "import numpy as np\n",
    "from kernels import HMC_vanilla, HMC_our, Reverse_kernel\n",
    "\n",
    "%matplotlib inline\n",
    "\n",
    "import random\n",
    "\n",
    "import pyro\n",
    "import pyro.distributions as dist\n",
    "import pyro.poutine as poutine\n",
    "from pyro.infer import MCMC, NUTS"
   ]
  },
  {
   "cell_type": "code",
   "execution_count": null,
   "metadata": {},
   "outputs": [],
   "source": [
    "def set_seeds(rand_seed):\n",
    "    torch.backends.cudnn.deterministic = True\n",
    "    torch.backends.cudnn.benchmark = False\n",
    "    torch.manual_seed(rand_seed)\n",
    "    np.random.seed(rand_seed)\n",
    "    random.seed(rand_seed)\n",
    "    torch.cuda.manual_seed_all(rand_seed)\n",
    "\n",
    "set_seeds(1)"
   ]
  },
  {
   "cell_type": "code",
   "execution_count": 3,
   "metadata": {},
   "outputs": [],
   "source": [
    "class Encoder_vae(nn.Module):\n",
    "    def __init__(self, data_dim, z_dim, K=8):\n",
    "        super(Encoder_vae, self).__init__()\n",
    "        self.h1 = nn.Linear(in_features=data_dim, out_features=K)\n",
    "        self.h2 = nn.Linear(in_features=K, out_features=K)\n",
    "        self.mu = nn.Linear(in_features=K, out_features=z_dim)\n",
    "        self.sigma = nn.Linear(in_features=K, out_features=z_dim)\n",
    "    def forward(self, x):\n",
    "        h1 = F.selu(self.h1(x))\n",
    "        h2 = F.selu(self.h2(h1))\n",
    "        return self.mu(h2), F.softplus(self.sigma(h2))\n",
    "    \n",
    "class Decoder(nn.Module):\n",
    "    def __init__(self, data_dim, z_dim):\n",
    "        super(Decoder, self).__init__()\n",
    "        self.W = nn.Linear(in_features=z_dim, out_features=data_dim, bias=False)\n",
    "    def forward(self, z):\n",
    "        return self.W(z)"
   ]
  },
  {
   "cell_type": "markdown",
   "metadata": {},
   "source": [
    "# Notebook with simple experiments"
   ]
  },
  {
   "cell_type": "markdown",
   "metadata": {},
   "source": [
    "## Task 1"
   ]
  },
  {
   "cell_type": "markdown",
   "metadata": {},
   "source": [
    "### Receiving of the true $\\theta$ and generating of a dataset"
   ]
  },
  {
   "cell_type": "code",
   "execution_count": 4,
   "metadata": {},
   "outputs": [],
   "source": [
    "device = \"cuda:0\" if torch.cuda.is_available() else \"cpu\"\n",
    "\n",
    "z_dim = 2 # Latent space dimensionality\n",
    "data_dim = 10 # Data dimensionality\n",
    "N = 10000 # Dataset size\n",
    "N_val = 1000 # Validation Dataset\n",
    "\n",
    "sigma_0 = 1. # True std"
   ]
  },
  {
   "cell_type": "code",
   "execution_count": 5,
   "metadata": {},
   "outputs": [
    {
     "name": "stdout",
     "output_type": "stream",
     "text": [
      "True decoder matrix\n",
      "tensor([[-0.2963,  2.6764, -0.1408, -0.8441,  0.2905, -0.2838, -1.4535,  2.3737,\n",
      "         -0.0177, -2.7884],\n",
      "        [-0.3788,  0.7046, -1.3956, -0.1248, -0.9259, -1.5463, -0.4902,  0.0244,\n",
      "         -1.5992, -0.8469]], device='cuda:0')\n",
      "----------------------------------------------------------------------------------------------------\n",
      "Generated data example:\n",
      "tensor([[1., 0., 1., 0., 1., 1., 1., 0., 1., 1.],\n",
      "        [1., 0., 0., 1., 1., 1., 1., 1., 1., 1.],\n",
      "        [0., 1., 0., 1., 1., 0., 0., 1., 1., 1.],\n",
      "        [1., 0., 1., 1., 1., 1., 0., 0., 1., 1.],\n",
      "        [0., 1., 1., 1., 1., 1., 0., 1., 0., 1.],\n",
      "        [0., 1., 0., 0., 1., 0., 0., 0., 0., 0.],\n",
      "        [1., 1., 1., 0., 1., 0., 0., 1., 0., 0.],\n",
      "        [1., 0., 0., 1., 1., 0., 1., 0., 0., 1.],\n",
      "        [0., 0., 0., 0., 0., 0., 0., 0., 0., 0.],\n",
      "        [1., 0., 0., 0., 0., 1., 1., 0., 1., 1.]], device='cuda:0')\n"
     ]
    }
   ],
   "source": [
    "std_normal = torch.distributions.Normal(loc=torch.tensor(0., device=device),\n",
    "                                                scale=torch.tensor(1., device=device))\n",
    "std_normal_pyro = torch.distributions.Normal(loc=torch.tensor(0., device=device),\n",
    "                                                scale=torch.tensor(1., device=device))\n",
    "true_theta = std_normal.sample((z_dim, data_dim)) * sigma_0\n",
    "print('True decoder matrix')\n",
    "print(true_theta)\n",
    "print('-' * 100)\n",
    "\n",
    "data_probs = torch.sigmoid(std_normal.sample((N, z_dim)) @ true_theta)\n",
    "data = torch.distributions.Bernoulli(probs=data_probs).sample()\n",
    "\n",
    "data_probs_val = torch.sigmoid(std_normal.sample((N_val, z_dim)) @ true_theta)\n",
    "data_val = torch.distributions.Bernoulli(probs=data_probs_val).sample()\n",
    "\n",
    "print('Generated data example:')\n",
    "print(data[:10])"
   ]
  },
  {
   "cell_type": "code",
   "execution_count": 6,
   "metadata": {},
   "outputs": [
    {
     "name": "stdout",
     "output_type": "stream",
     "text": [
      "!!!!!\n",
      "OK!\n"
     ]
    }
   ],
   "source": [
    "print('!!!!!')\n",
    "previous_theta = torch.tensor([[-0.296278  ,  2.676448  , -0.1408463 , -0.84409505,  0.29053846,\n",
    "        -0.28383088, -1.4534557 ,  2.3736813 , -0.01774164, -2.7884495 ],\n",
    "       [-0.37882465,  0.7045725 , -1.3956138 , -0.12478404, -0.9258568 ,\n",
    "        -1.5463208 , -0.49016267,  0.02436782, -1.5992415 , -0.8468648 ]], dtype=torch.float32, device=device)\n",
    "assert(np.abs(previous_theta.cpu().numpy() - true_theta.cpu().numpy()) < 1e-8).all()\n",
    "print('OK!')"
   ]
  },
  {
   "cell_type": "markdown",
   "metadata": {},
   "source": [
    "## Task 2"
   ]
  },
  {
   "cell_type": "markdown",
   "metadata": {},
   "source": [
    "### Sample z with target $p(z|x)$, using NUTS"
   ]
  },
  {
   "cell_type": "markdown",
   "metadata": {},
   "source": [
    "#### 1) Bernoulli likelihood from torch"
   ]
  },
  {
   "cell_type": "code",
   "execution_count": 7,
   "metadata": {},
   "outputs": [],
   "source": [
    "n_warmup = 20000\n",
    "n_samples = 1000\n",
    "\n",
    "data_ind = 0  #  index of datapoint we conditioned on"
   ]
  },
  {
   "cell_type": "code",
   "execution_count": 8,
   "metadata": {},
   "outputs": [],
   "source": [
    "def potential_fn(z):\n",
    "    z = z['points']\n",
    "    probs = torch.sigmoid(z @ true_theta)\n",
    "    return -torch.sum(pyro.distributions.Bernoulli(probs=probs).log_prob(data[data_ind][None]).sum(1) + std_normal_pyro.log_prob(z).sum(1))"
   ]
  },
  {
   "cell_type": "code",
   "execution_count": 9,
   "metadata": {},
   "outputs": [
    {
     "name": "stderr",
     "output_type": "stream",
     "text": [
      "Sample: 100%|██████████| 21000/21000 [02:05, 167.54it/s, step size=8.49e-01, acc. prob=0.900]\n"
     ]
    }
   ],
   "source": [
    "init_samples = std_normal_pyro.sample((1, z_dim))\n",
    "init_params = {'points': init_samples}\n",
    "\n",
    "nuts_kernel = NUTS(potential_fn=potential_fn)\n",
    "mcmc = MCMC(nuts_kernel,\n",
    "            initial_params=init_params,\n",
    "            num_samples=n_samples,\n",
    "            warmup_steps=n_warmup)\n",
    "\n",
    "mcmc.run()\n",
    "z = mcmc.get_samples()['points'].squeeze()"
   ]
  },
  {
   "cell_type": "code",
   "execution_count": 10,
   "metadata": {},
   "outputs": [
    {
     "data": {
      "image/png": "[encoded data removed]",
      "text/plain": [
       "<Figure size 1200x900 with 1 Axes>"
      ]
     },
     "metadata": {
      "needs_background": "light"
     },
     "output_type": "display_data"
    }
   ],
   "source": [
    "plt.figure(figsize=(4, 3), dpi=300)\n",
    "plt.scatter(z[:, 0].cpu(), z[:, 1].cpu(), label='posterior samples', s=10, alpha=0.5)\n",
    "plt.legend()\n",
    "plt.axis('equal');"
   ]
  },
  {
   "cell_type": "code",
   "execution_count": null,
   "metadata": {
    "collapsed": true,
    "jupyter": {
     "outputs_hidden": true
    }
   },
   "outputs": [],
   "source": []
  },
  {
   "cell_type": "markdown",
   "metadata": {},
   "source": [
    "### Sample z with target $p(z|x)$, using our HMC"
   ]
  },
  {
   "cell_type": "code",
   "execution_count": 9,
   "metadata": {},
   "outputs": [],
   "source": [
    "class dotdict(dict):\n",
    "    \"\"\"dot.notation access to dictionary attributes\"\"\"\n",
    "    __getattr__ = dict.get\n",
    "    __setattr__ = dict.__setitem__\n",
    "    __delattr__ = dict.__delitem__\n",
    "    \n",
    "args = dotdict({})\n",
    "\n",
    "args.device = device\n",
    "\n",
    "args.N = 5\n",
    "\n",
    "args.alpha = 0.5\n",
    "args.use_partialref = False\n",
    "\n",
    "args.gamma = 0.1\n",
    "args.use_barker = False"
   ]
  },
  {
   "cell_type": "code",
   "execution_count": 10,
   "metadata": {},
   "outputs": [],
   "source": [
    "class Target():\n",
    "    def __init__(self,):\n",
    "        pass\n",
    "    def get_logdensity(self, z, x):\n",
    "        probs = torch.sigmoid(z @ true_theta)\n",
    "        return torch.distributions.Bernoulli(probs=probs).log_prob(x).sum(1) + std_normal.log_prob(z).sum(1)\n",
    "target = Target()"
   ]
  },
  {
   "cell_type": "code",
   "execution_count": 13,
   "metadata": {},
   "outputs": [
    {
     "name": "stderr",
     "output_type": "stream",
     "text": [
      "  0%|          | 16/20000 [00:00<02:12, 150.58it/s]"
     ]
    },
    {
     "name": "stdout",
     "output_type": "stream",
     "text": [
      "Warm up\n"
     ]
    },
    {
     "name": "stderr",
     "output_type": "stream",
     "text": [
      "100%|██████████| 20000/20000 [02:12<00:00, 150.44it/s]\n",
      "  2%|▏         | 16/1000 [00:00<00:06, 151.57it/s]"
     ]
    },
    {
     "name": "stdout",
     "output_type": "stream",
     "text": [
      "Sampling\n"
     ]
    },
    {
     "name": "stderr",
     "output_type": "stream",
     "text": [
      "100%|██████████| 1000/1000 [00:06<00:00, 150.42it/s]\n"
     ]
    }
   ],
   "source": [
    "transitions = HMC_vanilla(args)\n",
    "z = std_normal.sample((1, z_dim))\n",
    "momentum = std_normal.sample(z.shape)\n",
    "\n",
    "print('Warm up')\n",
    "for i in tqdm(range(n_warmup)):\n",
    "    z, momentum, _, _, _, _ = transitions.make_transition(z, momentum, target, x=data[data_ind][None])\n",
    "    \n",
    "print('Sampling')\n",
    "samples = []\n",
    "for i in tqdm(range(n_samples)):\n",
    "    z, momentum, _, _, _, _ = transitions.make_transition(z, momentum, target, x=data[data_ind][None])\n",
    "    samples.append(z.cpu().detach().numpy())"
   ]
  },
  {
   "cell_type": "code",
   "execution_count": 14,
   "metadata": {},
   "outputs": [
    {
     "data": {
      "image/png": "[encoded data removed]",
      "text/plain": [
       "<Figure size 1200x900 with 1 Axes>"
      ]
     },
     "metadata": {
      "needs_background": "light"
     },
     "output_type": "display_data"
    }
   ],
   "source": [
    "samples = np.array(samples).squeeze()\n",
    "\n",
    "plt.figure(figsize=(4, 3), dpi=300)\n",
    "plt.scatter(samples[:, 0], samples[:, 1], label='posterior samples', s=10, alpha=0.5)\n",
    "plt.legend()\n",
    "plt.axis('equal');"
   ]
  },
  {
   "cell_type": "code",
   "execution_count": null,
   "metadata": {
    "collapsed": true,
    "jupyter": {
     "outputs_hidden": true
    }
   },
   "outputs": [],
   "source": []
  },
  {
   "cell_type": "code",
   "execution_count": null,
   "metadata": {
    "collapsed": true,
    "jupyter": {
     "outputs_hidden": true
    }
   },
   "outputs": [],
   "source": []
  },
  {
   "cell_type": "markdown",
   "metadata": {},
   "source": [
    "## Task 3"
   ]
  },
  {
   "cell_type": "markdown",
   "metadata": {},
   "source": [
    "#### Fisher's identity, NUTS"
   ]
  },
  {
   "cell_type": "code",
   "execution_count": 11,
   "metadata": {},
   "outputs": [],
   "source": [
    "num_epoches = 10\n",
    "batch_size = 1\n",
    "n_samples = 10\n",
    "n_warmup = 25\n",
    "\n",
    "print_info_ = 1"
   ]
  },
  {
   "cell_type": "code",
   "execution_count": 12,
   "metadata": {},
   "outputs": [],
   "source": [
    "dataloader = torch.utils.data.DataLoader(data, batch_size=batch_size, shuffle=True)"
   ]
  },
  {
   "cell_type": "code",
   "execution_count": 13,
   "metadata": {},
   "outputs": [],
   "source": [
    "# dec_nuts = Decoder(data_dim=data_dim, z_dim=z_dim).to(device)\n",
    "# optimizer = torch.optim.Adam(params=dec_nuts.parameters(), lr=3e-4)\n",
    "# scheduler = torch.optim.lr_scheduler.ReduceLROnPlateau(optimizer, verbose=True, threshold=1e-2, eps=1e-6, mode='max')"
   ]
  },
  {
   "cell_type": "code",
   "execution_count": 14,
   "metadata": {},
   "outputs": [],
   "source": [
    "# def potential_fn(z):\n",
    "#     z = z['points']\n",
    "#     probs = torch.sigmoid(z @ current_matrix)\n",
    "#     return -torch.sum(pyro.distributions.Bernoulli(probs=probs).log_prob(batch_train).sum(1) + std_normal_pyro.log_prob(z).sum(1))"
   ]
  },
  {
   "cell_type": "code",
   "execution_count": 19,
   "metadata": {},
   "outputs": [],
   "source": [
    "# for ep in tqdm(range(num_epoches)): # cycle over epoches\n",
    "#     plt.close()\n",
    "#     j = 0\n",
    "#     obj_sum = 0\n",
    "#     for b_num, batch_train in enumerate(dataloader): # cycle over batches\n",
    "        \n",
    "#         init_samples = std_normal.sample((batch_train.shape[0], z_dim))\n",
    "#         init_params = {'points': init_samples}\n",
    "        \n",
    "#         current_matrix = dec_nuts.W.weight.detach().T\n",
    "        \n",
    "#         nuts_kernel = NUTS(potential_fn=potential_fn)\n",
    "#         mcmc = MCMC(nuts_kernel,\n",
    "#                     initial_params=init_params,\n",
    "#                     num_samples=n_samples,\n",
    "#                     warmup_steps=n_warmup,\n",
    "#                    disable_progbar=True)\n",
    "#         mcmc.run()\n",
    "#         z = mcmc.get_samples()['points'][-n_samples:].squeeze(1)\n",
    "        \n",
    "# #         pdb.set_trace()\n",
    "        \n",
    "#         probs = torch.sigmoid(dec_nuts(z))\n",
    "#         obj = torch.distributions.Bernoulli(probs=probs).log_prob(batch_train).mean()\n",
    "\n",
    "#         (-obj).backward()\n",
    "#         optimizer.step()\n",
    "#         optimizer.zero_grad()\n",
    "        \n",
    "#         j += 1\n",
    "#         obj_sum += obj.cpu().detach().numpy()\n",
    "# #     scheduler.step(obj)\n",
    "#     obj_sum /= j\n",
    "#     if ep % print_info_ == 0:\n",
    "#         print('obj mean over epoch:', obj_sum)\n",
    "#         print('obj:', obj.cpu().detach().item())"
   ]
  },
  {
   "cell_type": "code",
   "execution_count": 20,
   "metadata": {},
   "outputs": [],
   "source": [
    "# print('true_theta', true_theta)\n",
    "# print('-' * 100)\n",
    "# print(dec_nuts.W.weight.detach().T)"
   ]
  },
  {
   "cell_type": "code",
   "execution_count": null,
   "metadata": {
    "collapsed": true,
    "jupyter": {
     "outputs_hidden": true
    }
   },
   "outputs": [],
   "source": []
  },
  {
   "cell_type": "markdown",
   "metadata": {},
   "source": [
    "#### Fisher's identity, our HMC"
   ]
  },
  {
   "cell_type": "code",
   "execution_count": 13,
   "metadata": {},
   "outputs": [],
   "source": [
    "num_epoches = 100\n",
    "batch_size = 200\n",
    "\n",
    "print_info_ = 5\n",
    "\n",
    "K_wu = 70\n",
    "K_s = 30\n",
    "args.N = 2"
   ]
  },
  {
   "cell_type": "code",
   "execution_count": 14,
   "metadata": {},
   "outputs": [],
   "source": [
    "dataloader = torch.utils.data.DataLoader(data, batch_size=batch_size, shuffle=True)"
   ]
  },
  {
   "cell_type": "code",
   "execution_count": 15,
   "metadata": {},
   "outputs": [],
   "source": [
    "dec_our_hmc_fisher = Decoder(data_dim=data_dim, z_dim=z_dim).to(device)\n",
    "optimizer = torch.optim.Adam(params=dec_our_hmc_fisher.parameters(), lr=1e-3)\n",
    "scheduler = torch.optim.lr_scheduler.ReduceLROnPlateau(optimizer, verbose=True, threshold=1e-2, eps=1e-6, mode='max')\n",
    "\n",
    "transitions = HMC_vanilla(args)"
   ]
  },
  {
   "cell_type": "code",
   "execution_count": 16,
   "metadata": {},
   "outputs": [],
   "source": [
    "class Target():\n",
    "    def __init__(self,):\n",
    "        pass\n",
    "    def get_logdensity(self, z, x):\n",
    "        probs = torch.sigmoid(dec_our_hmc_fisher(z))\n",
    "        return torch.distributions.Bernoulli(probs=probs).log_prob(x).sum(1) + std_normal.log_prob(z).sum(1)\n",
    "target = Target()"
   ]
  },
  {
   "cell_type": "code",
   "execution_count": 25,
   "metadata": {},
   "outputs": [
    {
     "name": "stderr",
     "output_type": "stream",
     "text": [
      "  1%|          | 1/100 [00:21<35:48, 21.70s/it]"
     ]
    },
    {
     "name": "stdout",
     "output_type": "stream",
     "text": [
      "obj mean over epoch: -0.6639611458778382\n",
      "obj: -0.6650576591491699\n",
      "tensor([[-0.2204, -0.1672, -0.1812,  0.4571, -0.6451,  0.2160,  0.5137, -0.7145,\n",
      "          0.5728,  0.3522],\n",
      "        [-0.3948, -0.2687,  0.0681,  0.3505,  0.4267,  0.6359, -0.5981, -0.2986,\n",
      "         -0.0790, -0.2877]], device='cuda:0')\n"
     ]
    },
    {
     "name": "stderr",
     "output_type": "stream",
     "text": [
      "  6%|▌         | 6/100 [02:09<33:50, 21.61s/it]"
     ]
    },
    {
     "name": "stdout",
     "output_type": "stream",
     "text": [
      "obj mean over epoch: -0.6348888170719147\n",
      "obj: -0.6394892334938049\n",
      "tensor([[ 0.0059, -0.4184,  0.0367,  0.6322, -0.4279,  0.3253,  0.7473, -0.9450,\n",
      "          0.3985,  0.6004],\n",
      "        [-0.2056, -0.1438,  0.2331,  0.2182,  0.4669,  0.5634, -0.3920, -0.1259,\n",
      "          0.1391, -0.1010]], device='cuda:0')\n"
     ]
    },
    {
     "name": "stderr",
     "output_type": "stream",
     "text": [
      " 11%|█         | 11/100 [03:58<32:11, 21.71s/it]"
     ]
    },
    {
     "name": "stdout",
     "output_type": "stream",
     "text": [
      "obj mean over epoch: -0.6032061970233917\n",
      "obj: -0.5767140984535217\n",
      "tensor([[ 0.1858, -0.6540,  0.2053,  0.7399, -0.2397,  0.4247,  0.9553, -1.1576,\n",
      "          0.3248,  0.8346],\n",
      "        [-0.0038, -0.1208,  0.4545,  0.1223,  0.6007,  0.6666, -0.2180,  0.0072,\n",
      "          0.3671,  0.0404]], device='cuda:0')\n"
     ]
    },
    {
     "name": "stderr",
     "output_type": "stream",
     "text": [
      " 16%|█▌        | 16/100 [05:46<30:14, 21.60s/it]"
     ]
    },
    {
     "name": "stdout",
     "output_type": "stream",
     "text": [
      "obj mean over epoch: -0.5801374566555023\n",
      "obj: -0.5680239796638489\n",
      "tensor([[ 0.2796, -0.8555,  0.3042,  0.7844, -0.1378,  0.4513,  1.1139, -1.3305,\n",
      "          0.3068,  1.0357],\n",
      "        [ 0.1322, -0.0869,  0.6496,  0.0406,  0.7510,  0.8399, -0.0934,  0.1407,\n",
      "          0.5821,  0.1161]], device='cuda:0')\n"
     ]
    },
    {
     "name": "stderr",
     "output_type": "stream",
     "text": [
      " 21%|██        | 21/100 [07:35<28:43, 21.82s/it]"
     ]
    },
    {
     "name": "stdout",
     "output_type": "stream",
     "text": [
      "obj mean over epoch: -0.5608962750434876\n",
      "obj: -0.5594804286956787\n",
      "tensor([[ 0.3367, -1.0339,  0.3474,  0.8069, -0.1016,  0.4795,  1.2303, -1.4833,\n",
      "          0.3028,  1.2146],\n",
      "        [ 0.2286, -0.0715,  0.8255, -0.0392,  0.8613,  1.0142, -0.0077,  0.2367,\n",
      "          0.7727,  0.1388]], device='cuda:0')\n"
     ]
    },
    {
     "name": "stderr",
     "output_type": "stream",
     "text": [
      " 26%|██▌       | 26/100 [09:25<27:06, 21.98s/it]"
     ]
    },
    {
     "name": "stdout",
     "output_type": "stream",
     "text": [
      "obj mean over epoch: -0.5505064606666565\n",
      "obj: -0.5500346422195435\n",
      "tensor([[ 0.3557, -1.1940,  0.3830,  0.8145, -0.0908,  0.4958,  1.3223, -1.6062,\n",
      "          0.3135,  1.3675],\n",
      "        [ 0.3043, -0.0577,  0.9515, -0.0885,  0.9228,  1.1402,  0.0505,  0.3200,\n",
      "          0.9336,  0.1231]], device='cuda:0')\n"
     ]
    },
    {
     "name": "stderr",
     "output_type": "stream",
     "text": [
      " 31%|███       | 31/100 [11:14<25:11, 21.91s/it]"
     ]
    },
    {
     "name": "stdout",
     "output_type": "stream",
     "text": [
      "obj mean over epoch: -0.5428840792179108\n",
      "obj: -0.5506240129470825\n",
      "tensor([[ 0.3596, -1.3373,  0.3973,  0.8232, -0.0847,  0.5147,  1.3908, -1.7265,\n",
      "          0.3072,  1.5104],\n",
      "        [ 0.3323, -0.0445,  1.0566, -0.0945,  0.9572,  1.2326,  0.0716,  0.3770,\n",
      "          1.0634,  0.1472]], device='cuda:0')\n"
     ]
    },
    {
     "name": "stderr",
     "output_type": "stream",
     "text": [
      " 36%|███▌      | 36/100 [13:04<23:19, 21.87s/it]"
     ]
    },
    {
     "name": "stdout",
     "output_type": "stream",
     "text": [
      "obj mean over epoch: -0.5365270900726319\n",
      "obj: -0.5364713668823242\n",
      "tensor([[ 0.3559, -1.4665,  0.4134,  0.8266, -0.0936,  0.5373,  1.4388, -1.8337,\n",
      "          0.3265,  1.6372],\n",
      "        [ 0.3417, -0.0501,  1.1493, -0.1000,  0.9704,  1.3009,  0.0900,  0.4097,\n",
      "          1.1675,  0.1509]], device='cuda:0')\n"
     ]
    },
    {
     "name": "stderr",
     "output_type": "stream",
     "text": [
      " 41%|████      | 41/100 [14:52<21:18, 21.67s/it]"
     ]
    },
    {
     "name": "stdout",
     "output_type": "stream",
     "text": [
      "obj mean over epoch: -0.5333943164348602\n",
      "obj: -0.521647572517395\n",
      "tensor([[ 0.3565, -1.5930,  0.4255,  0.8348, -0.0930,  0.5492,  1.4624, -1.9108,\n",
      "          0.3348,  1.7568],\n",
      "        [ 0.3524, -0.0396,  1.2183, -0.0995,  0.9707,  1.3554,  0.1069,  0.4348,\n",
      "          1.2494,  0.1571]], device='cuda:0')\n"
     ]
    },
    {
     "name": "stderr",
     "output_type": "stream",
     "text": [
      " 46%|████▌     | 46/100 [16:41<19:40, 21.86s/it]"
     ]
    },
    {
     "name": "stdout",
     "output_type": "stream",
     "text": [
      "obj mean over epoch: -0.529369215965271\n",
      "obj: -0.5327000617980957\n",
      "tensor([[ 0.3572, -1.7054,  0.4316,  0.8422, -0.0941,  0.5622,  1.4877, -1.9888,\n",
      "          0.3359,  1.8673],\n",
      "        [ 0.3650, -0.0429,  1.2645, -0.0951,  0.9582,  1.4017,  0.1181,  0.4753,\n",
      "          1.3083,  0.1548]], device='cuda:0')\n"
     ]
    },
    {
     "name": "stderr",
     "output_type": "stream",
     "text": [
      " 51%|█████     | 51/100 [18:26<17:16, 21.16s/it]"
     ]
    },
    {
     "name": "stdout",
     "output_type": "stream",
     "text": [
      "obj mean over epoch: -0.525317280292511\n",
      "obj: -0.5263804197311401\n",
      "tensor([[ 0.3609, -1.8087,  0.4409,  0.8264, -0.0863,  0.5724,  1.4996, -2.0520,\n",
      "          0.3458,  1.9724],\n",
      "        [ 0.3611, -0.0343,  1.2962, -0.0964,  0.9665,  1.4198,  0.1184,  0.5009,\n",
      "          1.3670,  0.1468]], device='cuda:0')\n"
     ]
    },
    {
     "name": "stderr",
     "output_type": "stream",
     "text": [
      " 56%|█████▌    | 56/100 [20:14<15:47, 21.54s/it]"
     ]
    },
    {
     "name": "stdout",
     "output_type": "stream",
     "text": [
      "obj mean over epoch: -0.5255551242828369\n",
      "obj: -0.5478469729423523\n",
      "tensor([[ 0.3707, -1.9103,  0.4591,  0.8263, -0.0858,  0.5829,  1.5065, -2.1071,\n",
      "          0.3581,  2.0631],\n",
      "        [ 0.3610, -0.0315,  1.3199, -0.0927,  0.9647,  1.4353,  0.1263,  0.5207,\n",
      "          1.3975,  0.1404]], device='cuda:0')\n"
     ]
    },
    {
     "name": "stderr",
     "output_type": "stream",
     "text": [
      " 61%|██████    | 61/100 [22:01<13:53, 21.37s/it]"
     ]
    },
    {
     "name": "stdout",
     "output_type": "stream",
     "text": [
      "obj mean over epoch: -0.5237181413173676\n",
      "obj: -0.523196816444397\n",
      "tensor([[ 0.3689, -2.0034,  0.4603,  0.8244, -0.0783,  0.5872,  1.5085, -2.1640,\n",
      "          0.3693,  2.1516],\n",
      "        [ 0.3585, -0.0183,  1.3281, -0.0752,  0.9633,  1.4488,  0.1381,  0.5359,\n",
      "          1.4429,  0.1445]], device='cuda:0')\n"
     ]
    },
    {
     "name": "stderr",
     "output_type": "stream",
     "text": [
      " 66%|██████▌   | 66/100 [23:49<12:14, 21.60s/it]"
     ]
    },
    {
     "name": "stdout",
     "output_type": "stream",
     "text": [
      "obj mean over epoch: -0.5217935329675675\n",
      "obj: -0.541688859462738\n",
      "tensor([[ 0.3656, -2.0902,  0.4603,  0.8260, -0.0826,  0.5974,  1.5093, -2.2066,\n",
      "          0.3711,  2.2358],\n",
      "        [ 0.3589, -0.0148,  1.3332, -0.0918,  0.9774,  1.4686,  0.1293,  0.5515,\n",
      "          1.4793,  0.1549]], device='cuda:0')\n"
     ]
    },
    {
     "name": "stderr",
     "output_type": "stream",
     "text": [
      " 71%|███████   | 71/100 [25:38<10:32, 21.82s/it]"
     ]
    },
    {
     "name": "stdout",
     "output_type": "stream",
     "text": [
      "obj mean over epoch: -0.5217273330688477\n",
      "obj: -0.5091897249221802\n",
      "tensor([[ 0.3680, -2.1664,  0.4620,  0.8379, -0.0840,  0.5922,  1.5041, -2.2397,\n",
      "          0.3570,  2.3136],\n",
      "        [ 0.3543, -0.0213,  1.3413, -0.0925,  0.9780,  1.4643,  0.1378,  0.5522,\n",
      "          1.4939,  0.1566]], device='cuda:0')\n"
     ]
    },
    {
     "name": "stderr",
     "output_type": "stream",
     "text": [
      " 76%|███████▌  | 76/100 [27:27<08:43, 21.83s/it]"
     ]
    },
    {
     "name": "stdout",
     "output_type": "stream",
     "text": [
      "obj mean over epoch: -0.520965074300766\n",
      "obj: -0.5244486927986145\n",
      "tensor([[ 0.3665, -2.2472,  0.4572,  0.8431, -0.0820,  0.5876,  1.5041, -2.2684,\n",
      "          0.3680,  2.3878],\n",
      "        [ 0.3545, -0.0254,  1.3418, -0.0877,  0.9820,  1.4567,  0.1388,  0.5572,\n",
      "          1.5116,  0.1702]], device='cuda:0')\n"
     ]
    },
    {
     "name": "stderr",
     "output_type": "stream",
     "text": [
      " 80%|████████  | 80/100 [28:55<07:18, 21.90s/it]"
     ]
    },
    {
     "name": "stdout",
     "output_type": "stream",
     "text": [
      "Epoch    80: reducing learning rate of group 0 to 1.0000e-04.\n"
     ]
    },
    {
     "name": "stderr",
     "output_type": "stream",
     "text": [
      " 81%|████████  | 81/100 [29:17<06:55, 21.89s/it]"
     ]
    },
    {
     "name": "stdout",
     "output_type": "stream",
     "text": [
      "obj mean over epoch: -0.5194236701726913\n",
      "obj: -0.5101088285446167\n",
      "tensor([[ 0.3666, -2.3053,  0.4516,  0.8427, -0.0832,  0.5929,  1.5037, -2.2650,\n",
      "          0.3719,  2.4394],\n",
      "        [ 0.3536, -0.0258,  1.3398, -0.0807,  0.9800,  1.4752,  0.1346,  0.5704,\n",
      "          1.5213,  0.1604]], device='cuda:0')\n"
     ]
    },
    {
     "name": "stderr",
     "output_type": "stream",
     "text": [
      " 86%|████████▌ | 86/100 [31:05<05:03, 21.71s/it]"
     ]
    },
    {
     "name": "stdout",
     "output_type": "stream",
     "text": [
      "obj mean over epoch: -0.519871746301651\n",
      "obj: -0.5226106643676758\n",
      "tensor([[ 0.3667, -2.3119,  0.4533,  0.8428, -0.0837,  0.5930,  1.5035, -2.2678,\n",
      "          0.3701,  2.4461],\n",
      "        [ 0.3538, -0.0268,  1.3388, -0.0800,  0.9784,  1.4738,  0.1351,  0.5689,\n",
      "          1.5224,  0.1613]], device='cuda:0')\n"
     ]
    },
    {
     "name": "stderr",
     "output_type": "stream",
     "text": [
      " 91%|█████████ | 91/100 [32:52<03:12, 21.36s/it]"
     ]
    },
    {
     "name": "stdout",
     "output_type": "stream",
     "text": [
      "obj mean over epoch: -0.5188726186752319\n",
      "obj: -0.5346565246582031\n",
      "tensor([[ 0.3662, -2.3194,  0.4544,  0.8416, -0.0840,  0.5935,  1.5051, -2.2700,\n",
      "          0.3688,  2.4525],\n",
      "        [ 0.3539, -0.0282,  1.3382, -0.0793,  0.9765,  1.4738,  0.1340,  0.5684,\n",
      "          1.5230,  0.1626]], device='cuda:0')\n"
     ]
    },
    {
     "name": "stderr",
     "output_type": "stream",
     "text": [
      " 96%|█████████▌| 96/100 [34:42<01:27, 21.76s/it]"
     ]
    },
    {
     "name": "stdout",
     "output_type": "stream",
     "text": [
      "obj mean over epoch: -0.5197654193639756\n",
      "obj: -0.534059464931488\n",
      "tensor([[ 0.3667, -2.3265,  0.4559,  0.8406, -0.0841,  0.5934,  1.5049, -2.2725,\n",
      "          0.3692,  2.4594],\n",
      "        [ 0.3532, -0.0275,  1.3382, -0.0799,  0.9759,  1.4729,  0.1365,  0.5682,\n",
      "          1.5254,  0.1631]], device='cuda:0')\n"
     ]
    },
    {
     "name": "stderr",
     "output_type": "stream",
     "text": [
      "100%|██████████| 100/100 [36:10<00:00, 21.70s/it]\n"
     ]
    }
   ],
   "source": [
    "for ep in tqdm(range(num_epoches)): # cycle over epoches\n",
    "    j = 0\n",
    "    obj_sum = 0\n",
    "    for b_num, batch_train in enumerate(dataloader): # cycle over batches\n",
    "        \n",
    "        momentum = std_normal.sample((batch_train.shape[0], z_dim))\n",
    "        z = std_normal.sample((batch_train.shape[0], z_dim))\n",
    "\n",
    "#         pdb.set_trace()\n",
    "        for _ in range(K_wu):\n",
    "            z, momentum, _, _, _, _ = transitions.make_transition(z, momentum, target, x=batch_train)\n",
    "            \n",
    "        obj = 0\n",
    "        for _ in range(K_s):\n",
    "            z, momentum, _, _, _, _ = transitions.make_transition(z, momentum, target, x=batch_train)\n",
    "            probs = torch.sigmoid(dec_our_hmc_fisher(z))\n",
    "            obj += torch.distributions.Bernoulli(probs=probs).log_prob(batch_train).mean()\n",
    "            \n",
    "        obj /= K_s \n",
    "\n",
    "        (-obj).backward()\n",
    "        optimizer.step()\n",
    "        optimizer.zero_grad()\n",
    "        \n",
    "        j += 1\n",
    "        obj_sum += obj.cpu().detach().numpy()\n",
    "    scheduler.step(obj)\n",
    "    obj_sum /= j\n",
    "    if ep % print_info_ == 0:\n",
    "        print('obj mean over epoch:', obj_sum)\n",
    "        print('obj:', obj.cpu().detach().item())\n",
    "        print(dec_our_hmc_fisher.W.weight.detach().T)"
   ]
  },
  {
   "cell_type": "code",
   "execution_count": 26,
   "metadata": {},
   "outputs": [
    {
     "name": "stdout",
     "output_type": "stream",
     "text": [
      "true_theta tensor([[-0.2963,  2.6764, -0.1408, -0.8441,  0.2905, -0.2838, -1.4535,  2.3737,\n",
      "         -0.0177, -2.7884],\n",
      "        [-0.3788,  0.7046, -1.3956, -0.1248, -0.9259, -1.5463, -0.4902,  0.0244,\n",
      "         -1.5992, -0.8469]], device='cuda:0')\n",
      "----------------------------------------------------------------------------------------------------\n",
      "tensor([[ 0.3666, -2.3329,  0.4573,  0.8417, -0.0834,  0.5933,  1.5054, -2.2738,\n",
      "          0.3698,  2.4653],\n",
      "        [ 0.3532, -0.0271,  1.3382, -0.0795,  0.9741,  1.4714,  0.1370,  0.5685,\n",
      "          1.5270,  0.1658]], device='cuda:0')\n"
     ]
    }
   ],
   "source": [
    "print('true_theta', true_theta)\n",
    "print('-' * 100)\n",
    "print(dec_our_hmc_fisher.W.weight.detach().T)"
   ]
  },
  {
   "cell_type": "code",
   "execution_count": 27,
   "metadata": {},
   "outputs": [
    {
     "name": "stdout",
     "output_type": "stream",
     "text": [
      "reconstructed probs tensor([[6.7111e-01, 1.3951e-02, 7.3158e-01, 8.2129e-01, 4.9265e-01, 7.8032e-01,\n",
      "         9.4063e-01, 1.6703e-02, 7.0409e-01, 9.8920e-01],\n",
      "        [2.6128e-01, 6.8282e-01, 2.5098e-02, 4.8961e-01, 7.3111e-02, 1.7107e-02,\n",
      "         3.0805e-01, 3.0596e-01, 1.5817e-02, 2.3660e-01],\n",
      "        [3.9451e-01, 5.9986e-01, 1.8655e-01, 4.8682e-01, 2.6801e-01, 1.6330e-01,\n",
      "         4.0465e-01, 4.4343e-01, 1.6032e-01, 3.6095e-01],\n",
      "        [4.9959e-01, 1.3448e-01, 3.1889e-01, 6.7854e-01, 2.9136e-01, 3.1835e-01,\n",
      "         7.5040e-01, 8.9771e-02, 2.7114e-01, 8.6436e-01],\n",
      "        [4.1618e-01, 8.8939e-01, 3.8935e-01, 3.2097e-01, 5.1106e-01, 3.5993e-01,\n",
      "         2.0607e-01, 8.8217e-01, 4.0667e-01, 9.9118e-02],\n",
      "        [4.2526e-01, 8.7882e-01, 4.1351e-01, 3.2795e-01, 5.2481e-01, 3.8671e-01,\n",
      "         2.1840e-01, 8.7528e-01, 4.3300e-01, 1.1009e-01],\n",
      "        [2.3947e-01, 9.9916e-01, 1.7516e-01, 7.2728e-02, 5.3391e-01, 1.2148e-01,\n",
      "         1.0088e-02, 9.9892e-01, 2.1306e-01, 5.5075e-04],\n",
      "        [3.5725e-01, 8.3967e-01, 1.7167e-01, 3.7432e-01, 2.9844e-01, 1.4260e-01,\n",
      "         2.3498e-01, 7.4197e-01, 1.5581e-01, 1.3258e-01],\n",
      "        [6.8388e-01, 1.5899e-01, 9.0668e-01, 6.1552e-01, 7.9657e-01, 9.2846e-01,\n",
      "         7.7720e-01, 3.1987e-01, 9.2335e-01, 8.7661e-01],\n",
      "        [3.6776e-01, 6.3312e-01, 1.3600e-01, 4.7997e-01, 2.2186e-01, 1.1376e-01,\n",
      "         3.7562e-01, 4.3886e-01, 1.1139e-01, 3.1955e-01]], device='cuda:0')\n",
      "true probs tensor([[3.5707e-01, 9.9311e-01, 3.9346e-01, 1.7433e-01, 6.0185e-01, 3.2903e-01,\n",
      "         6.2231e-02, 9.8703e-01, 4.4178e-01, 5.5279e-03],\n",
      "        [7.4757e-01, 6.5819e-02, 9.7626e-01, 6.4109e-01, 9.1302e-01, 9.8457e-01,\n",
      "         8.4861e-01, 3.1613e-01, 9.8546e-01, 9.5525e-01],\n",
      "        [6.0916e-01, 2.3714e-01, 8.1481e-01, 5.6627e-01, 7.1523e-01, 8.4053e-01,\n",
      "         6.7851e-01, 3.9926e-01, 8.4218e-01, 7.9171e-01],\n",
      "        [5.2000e-01, 8.2755e-01, 7.4326e-01, 3.5968e-01, 7.3408e-01, 7.4546e-01,\n",
      "         3.1843e-01, 8.6958e-01, 7.9153e-01, 1.7670e-01],\n",
      "        [5.6867e-01, 8.2229e-02, 5.4220e-01, 6.8088e-01, 4.4258e-01, 5.7483e-01,\n",
      "         7.8809e-01, 1.0708e-01, 5.1639e-01, 9.2532e-01],\n",
      "        [5.5988e-01, 9.5047e-02, 5.1973e-01, 6.7119e-01, 4.3196e-01, 5.4886e-01,\n",
      "         7.7218e-01, 1.1752e-01, 4.9211e-01, 9.1250e-01],\n",
      "        [7.2012e-01, 2.7192e-04, 6.4471e-01, 9.2939e-01, 3.1641e-01, 7.4041e-01,\n",
      "         9.8870e-01, 7.3963e-04, 5.6136e-01, 9.9981e-01],\n",
      "        [6.3695e-01, 7.3721e-02, 8.0322e-01, 6.6971e-01, 6.6033e-01, 8.3859e-01,\n",
      "         8.1385e-01, 1.5687e-01, 8.1927e-01, 9.3949e-01],\n",
      "        [3.1865e-01, 9.4760e-01, 1.0554e-01, 3.1633e-01, 2.4046e-01, 7.8927e-02,\n",
      "         1.5068e-01, 8.4424e-01, 8.7156e-02, 3.9890e-02],\n",
      "        [6.3643e-01, 1.8152e-01, 8.6469e-01, 5.8605e-01, 7.5888e-01, 8.8924e-01,\n",
      "         7.2281e-01, 3.6565e-01, 8.9032e-01, 8.4769e-01]], device='cuda:0')\n"
     ]
    }
   ],
   "source": [
    "for p in dec_our_hmc_fisher.parameters():\n",
    "    p.requires_grad_(False)\n",
    "u = std_normal.sample((10, z_dim))\n",
    "\n",
    "print('reconstructed probs', torch.sigmoid(dec_our_hmc_fisher(u)))\n",
    "print('true probs', torch.sigmoid(u @ true_theta))"
   ]
  },
  {
   "cell_type": "code",
   "execution_count": null,
   "metadata": {
    "collapsed": true,
    "jupyter": {
     "outputs_hidden": true
    }
   },
   "outputs": [],
   "source": []
  },
  {
   "cell_type": "markdown",
   "metadata": {},
   "source": [
    "## Task 4"
   ]
  },
  {
   "cell_type": "markdown",
   "metadata": {},
   "source": [
    "### Selecting best annealing coeff"
   ]
  },
  {
   "cell_type": "code",
   "execution_count": 17,
   "metadata": {},
   "outputs": [],
   "source": [
    "K = 8\n",
    "num_epoches = 3000\n",
    "batch_size = 200\n",
    "print_info_ = 500\n",
    "\n",
    "dataloader = torch.utils.data.DataLoader(data, batch_size=batch_size, shuffle=True)\n",
    "dataloader_val = torch.utils.data.DataLoader(data_val, batch_size=batch_size, shuffle=True)\n",
    "\n",
    "enc = Encoder_vae(data_dim=data_dim, z_dim=z_dim, K=K).to(device)\n",
    "dec_annealing_all = Decoder(data_dim=data_dim, z_dim=z_dim).to(device)\n",
    "\n",
    "params = list(enc.parameters()) + list(dec_annealing_all.parameters())\n",
    "optimizer = torch.optim.Adam(params=params, lr=3e-4)\n",
    "scheduler = torch.optim.lr_scheduler.ReduceLROnPlateau(optimizer, verbose=True, threshold=1e-2, eps=1e-6, mode='max', patience=150, factor=0.75)"
   ]
  },
  {
   "cell_type": "code",
   "execution_count": 18,
   "metadata": {},
   "outputs": [],
   "source": [
    "def run_validation(enc, dec):\n",
    "    for p in enc.parameters():\n",
    "        p.requires_grad_(False)\n",
    "        \n",
    "    for p in dec.parameters():\n",
    "        p.requires_grad_(False)\n",
    "        \n",
    "    j = 0\n",
    "    elbo_sum = 0\n",
    "    for b_num, batch_val in enumerate(dataloader_val):\n",
    "        mu, sigma = enc(batch_val) # sample mu and sigma from encoder\n",
    "        u = std_normal.sample(mu.shape) # sample random tensor for reparametrization trick\n",
    "        z = mu + u * sigma # reperametrization trick\n",
    "\n",
    "        prod = dec(z)\n",
    "        log_likelihood = torch.mean(torch.distributions.Bernoulli(probs=torch.sigmoid(prod)).log_prob(batch_val))\n",
    "\n",
    "        KLD = -0.5 * torch.mean(1 + 2 * sigma.log() - mu.pow(2) - sigma.pow(2))\n",
    "        elbo = log_likelihood - KLD\n",
    "        \n",
    "        j += 1\n",
    "        elbo_sum += elbo.cpu().detach().numpy()\n",
    "        \n",
    "    elbo_sum /= j\n",
    "    for p in enc.parameters():\n",
    "        p.requires_grad_(True)\n",
    "        \n",
    "    for p in dec.parameters():\n",
    "        p.requires_grad_(True)\n",
    "    return elbo_sum"
   ]
  },
  {
   "cell_type": "code",
   "execution_count": 19,
   "metadata": {},
   "outputs": [],
   "source": [
    "def run_training(enc, dec, best_beta=None, annealing_beta=True):\n",
    "    patience = 100\n",
    "    patience_current = 0\n",
    "    \n",
    "    if annealing_beta:\n",
    "        beta = torch.linspace(0., 1., 20, device=device)\n",
    "        beta_ind = 0\n",
    "        beta_current = beta[beta_ind]\n",
    "        best_ind = 0\n",
    "    else:\n",
    "        beta_current = 1.\n",
    "\n",
    "    best_elbo = -float('inf')\n",
    "    iterator = tqdm(range(num_epoches))\n",
    "\n",
    "    for ep in iterator: # cycle over epoches\n",
    "        j = 0\n",
    "        elbo_sum = 0\n",
    "        for b_num, batch_train in enumerate(dataloader): # cycle over batches\n",
    "            mu, sigma = enc(batch_train) # sample mu and sigma from encoder\n",
    "            u = std_normal.sample(mu.shape) # sample random tensor for reparametrization trick\n",
    "            z = mu + u * sigma # reperametrization trick\n",
    "\n",
    "            prod = dec(z)\n",
    "#             log_likelihood = torch.mean(torch.distributions.Bernoulli(probs=torch.sigmoid(prod)).log_prob(batch_train))\n",
    "            log_likelihood = (batch_train * dec(mu) - torch.log(1 + torch.exp(prod))).sum(1)\n",
    "\n",
    "            KLD = beta_current * (-0.5) * torch.sum(1 + 2 * sigma.log() - mu.pow(2) - sigma.pow(2), 1)\n",
    "            elbo = torch.mean(log_likelihood - KLD)\n",
    "            \n",
    "            (-elbo).backward()\n",
    "\n",
    "            optimizer.step()\n",
    "            optimizer.zero_grad()\n",
    "\n",
    "            j += 1\n",
    "            elbo_sum += elbo.cpu().detach().numpy()\n",
    "\n",
    "        current_val_elbo = run_validation(enc, dec)\n",
    "        elbo_sum /= j\n",
    "\n",
    "        if current_val_elbo > best_elbo:\n",
    "            patience_current = 0\n",
    "            best_elbo = current_val_elbo\n",
    "            if annealing_beta:\n",
    "                best_ind = beta_ind\n",
    "        else:\n",
    "            patience_current += 1\n",
    "            if patience_current >= patience:\n",
    "                if annealing_beta:\n",
    "                    beta_ind = min(beta_ind + 1, beta.shape[0] - 1)\n",
    "                    if best_beta:\n",
    "                        beta_current = min(beta[beta_ind], best_beta)\n",
    "                    else:\n",
    "                        beta_current = beta[beta_ind]\n",
    "                    patience_current = 0\n",
    "                    print('Current beta:', beta_current)\n",
    "                else:\n",
    "                    iterator.close()\n",
    "                    break\n",
    "\n",
    "    #     scheduler.step(elbo_sum)\n",
    "        if ep % print_info_ == 0:\n",
    "            print('Current validational ELBO:', current_val_elbo)\n",
    "            if annealing_beta:\n",
    "                print('Current best validational ELBO:', best_elbo, 'index:', best_ind)\n",
    "            else:\n",
    "                print('Current best validational ELBO:', best_elbo)\n",
    "            print('elbo mean over epoch:', elbo_sum)\n",
    "            print('elbo:', elbo.cpu().detach().numpy())\n",
    "            print('likelihood', log_likelihood.cpu().mean().detach().numpy())\n",
    "            print('KLD', KLD.cpu().mean().detach().numpy())\n",
    "    if annealing_beta and (best_beta is None):\n",
    "        print('Finish')\n",
    "        print('Best beta', beta[best_ind])\n",
    "        return beta[best_ind]"
   ]
  },
  {
   "cell_type": "code",
   "execution_count": 20,
   "metadata": {},
   "outputs": [
    {
     "name": "stderr",
     "output_type": "stream",
     "text": [
      "  0%|          | 2/3000 [00:00<07:42,  6.48it/s]"
     ]
    },
    {
     "name": "stdout",
     "output_type": "stream",
     "text": [
      "Current validational ELBO: -0.7893006682395936\n",
      "Current best validational ELBO: -0.7893006682395936 index: 0\n",
      "elbo mean over epoch: -7.3495682334899906\n",
      "elbo: -7.305869\n",
      "likelihood -7.305869\n",
      "KLD 0.0\n"
     ]
    },
    {
     "name": "stderr",
     "output_type": "stream",
     "text": [
      "  3%|▎         | 102/3000 [00:13<06:31,  7.39it/s]"
     ]
    },
    {
     "name": "stdout",
     "output_type": "stream",
     "text": [
      "Current beta: tensor(0.0526, device='cuda:0')\n"
     ]
    },
    {
     "name": "stderr",
     "output_type": "stream",
     "text": [
      "  7%|▋         | 202/3000 [00:27<06:18,  7.39it/s]"
     ]
    },
    {
     "name": "stdout",
     "output_type": "stream",
     "text": [
      "Current beta: tensor(0.1053, device='cuda:0')\n"
     ]
    },
    {
     "name": "stderr",
     "output_type": "stream",
     "text": [
      " 10%|█         | 302/3000 [00:40<06:09,  7.31it/s]"
     ]
    },
    {
     "name": "stdout",
     "output_type": "stream",
     "text": [
      "Current beta: tensor(0.1579, device='cuda:0')\n"
     ]
    },
    {
     "name": "stderr",
     "output_type": "stream",
     "text": [
      " 13%|█▎        | 402/3000 [00:54<05:57,  7.26it/s]"
     ]
    },
    {
     "name": "stdout",
     "output_type": "stream",
     "text": [
      "Current beta: tensor(0.2105, device='cuda:0')\n"
     ]
    },
    {
     "name": "stderr",
     "output_type": "stream",
     "text": [
      " 17%|█▋        | 502/3000 [01:08<05:41,  7.32it/s]"
     ]
    },
    {
     "name": "stdout",
     "output_type": "stream",
     "text": [
      "Current beta: tensor(0.2632, device='cuda:0')\n",
      "Current validational ELBO: -1.8769989252090453\n",
      "Current best validational ELBO: -0.7893006682395936 index: 0\n",
      "elbo mean over epoch: -4.92001745223999\n",
      "elbo: -4.627346\n",
      "likelihood -4.011404\n",
      "KLD 0.6159412\n"
     ]
    },
    {
     "name": "stderr",
     "output_type": "stream",
     "text": [
      " 20%|██        | 602/3000 [01:21<05:21,  7.45it/s]"
     ]
    },
    {
     "name": "stdout",
     "output_type": "stream",
     "text": [
      "Current beta: tensor(0.3158, device='cuda:0')\n"
     ]
    },
    {
     "name": "stderr",
     "output_type": "stream",
     "text": [
      " 23%|██▎       | 702/3000 [01:35<05:15,  7.29it/s]"
     ]
    },
    {
     "name": "stdout",
     "output_type": "stream",
     "text": [
      "Current beta: tensor(0.3684, device='cuda:0')\n"
     ]
    },
    {
     "name": "stderr",
     "output_type": "stream",
     "text": [
      " 27%|██▋       | 802/3000 [01:49<04:56,  7.41it/s]"
     ]
    },
    {
     "name": "stdout",
     "output_type": "stream",
     "text": [
      "Current beta: tensor(0.4211, device='cuda:0')\n"
     ]
    },
    {
     "name": "stderr",
     "output_type": "stream",
     "text": [
      " 30%|███       | 902/3000 [02:02<04:47,  7.29it/s]"
     ]
    },
    {
     "name": "stdout",
     "output_type": "stream",
     "text": [
      "Current beta: tensor(0.4737, device='cuda:0')\n"
     ]
    },
    {
     "name": "stderr",
     "output_type": "stream",
     "text": [
      " 33%|███▎      | 1002/3000 [02:16<04:30,  7.39it/s]"
     ]
    },
    {
     "name": "stdout",
     "output_type": "stream",
     "text": [
      "Current beta: tensor(0.5263, device='cuda:0')\n",
      "Current validational ELBO: -1.5024275302886962\n",
      "Current best validational ELBO: -0.7893006682395936 index: 0\n",
      "elbo mean over epoch: -5.574191007614136\n",
      "elbo: -5.908444\n",
      "likelihood -4.9098506\n",
      "KLD 0.99859375\n"
     ]
    },
    {
     "name": "stderr",
     "output_type": "stream",
     "text": [
      " 37%|███▋      | 1102/3000 [02:29<04:19,  7.31it/s]"
     ]
    },
    {
     "name": "stdout",
     "output_type": "stream",
     "text": [
      "Current beta: tensor(0.5789, device='cuda:0')\n"
     ]
    },
    {
     "name": "stderr",
     "output_type": "stream",
     "text": [
      " 40%|████      | 1202/3000 [02:43<04:01,  7.45it/s]"
     ]
    },
    {
     "name": "stdout",
     "output_type": "stream",
     "text": [
      "Current beta: tensor(0.6316, device='cuda:0')\n"
     ]
    },
    {
     "name": "stderr",
     "output_type": "stream",
     "text": [
      " 43%|████▎     | 1302/3000 [02:57<03:53,  7.27it/s]"
     ]
    },
    {
     "name": "stdout",
     "output_type": "stream",
     "text": [
      "Current beta: tensor(0.6842, device='cuda:0')\n"
     ]
    },
    {
     "name": "stderr",
     "output_type": "stream",
     "text": [
      " 47%|████▋     | 1402/3000 [03:10<03:35,  7.41it/s]"
     ]
    },
    {
     "name": "stdout",
     "output_type": "stream",
     "text": [
      "Current beta: tensor(0.7368, device='cuda:0')\n"
     ]
    },
    {
     "name": "stderr",
     "output_type": "stream",
     "text": [
      " 50%|█████     | 1502/3000 [03:24<03:22,  7.40it/s]"
     ]
    },
    {
     "name": "stdout",
     "output_type": "stream",
     "text": [
      "Current beta: tensor(0.7895, device='cuda:0')\n",
      "Current validational ELBO: -1.2775094985961915\n",
      "Current best validational ELBO: -0.7893006682395936 index: 0\n",
      "elbo mean over epoch: -5.942164478302002\n",
      "elbo: -6.255864\n",
      "likelihood -5.098993\n",
      "KLD 1.1568706\n"
     ]
    },
    {
     "name": "stderr",
     "output_type": "stream",
     "text": [
      " 53%|█████▎    | 1602/3000 [03:37<03:07,  7.47it/s]"
     ]
    },
    {
     "name": "stdout",
     "output_type": "stream",
     "text": [
      "Current beta: tensor(0.8421, device='cuda:0')\n"
     ]
    },
    {
     "name": "stderr",
     "output_type": "stream",
     "text": [
      " 57%|█████▋    | 1702/3000 [03:51<02:56,  7.36it/s]"
     ]
    },
    {
     "name": "stdout",
     "output_type": "stream",
     "text": [
      "Current beta: tensor(0.8947, device='cuda:0')\n"
     ]
    },
    {
     "name": "stderr",
     "output_type": "stream",
     "text": [
      " 60%|██████    | 1802/3000 [04:04<02:43,  7.33it/s]"
     ]
    },
    {
     "name": "stdout",
     "output_type": "stream",
     "text": [
      "Current beta: tensor(0.9474, device='cuda:0')\n"
     ]
    },
    {
     "name": "stderr",
     "output_type": "stream",
     "text": [
      " 63%|██████▎   | 1902/3000 [04:18<02:28,  7.40it/s]"
     ]
    },
    {
     "name": "stdout",
     "output_type": "stream",
     "text": [
      "Current beta: tensor(1., device='cuda:0')\n"
     ]
    },
    {
     "name": "stderr",
     "output_type": "stream",
     "text": [
      " 67%|██████▋   | 2002/3000 [04:32<02:14,  7.42it/s]"
     ]
    },
    {
     "name": "stdout",
     "output_type": "stream",
     "text": [
      "Current beta: tensor(1., device='cuda:0')\n",
      "Current validational ELBO: -1.0981261491775514\n",
      "Current best validational ELBO: -0.7893006682395936 index: 0\n",
      "elbo mean over epoch: -6.328453578948975\n",
      "elbo: -6.5221996\n",
      "likelihood -5.3564563\n",
      "KLD 1.1657434\n"
     ]
    },
    {
     "name": "stderr",
     "output_type": "stream",
     "text": [
      " 70%|███████   | 2102/3000 [04:45<01:58,  7.56it/s]"
     ]
    },
    {
     "name": "stdout",
     "output_type": "stream",
     "text": [
      "Current beta: tensor(1., device='cuda:0')\n"
     ]
    },
    {
     "name": "stderr",
     "output_type": "stream",
     "text": [
      " 73%|███████▎  | 2202/3000 [04:58<01:48,  7.37it/s]"
     ]
    },
    {
     "name": "stdout",
     "output_type": "stream",
     "text": [
      "Current beta: tensor(1., device='cuda:0')\n"
     ]
    },
    {
     "name": "stderr",
     "output_type": "stream",
     "text": [
      " 77%|███████▋  | 2302/3000 [05:12<01:33,  7.48it/s]"
     ]
    },
    {
     "name": "stdout",
     "output_type": "stream",
     "text": [
      "Current beta: tensor(1., device='cuda:0')\n"
     ]
    },
    {
     "name": "stderr",
     "output_type": "stream",
     "text": [
      " 80%|████████  | 2402/3000 [05:25<01:19,  7.48it/s]"
     ]
    },
    {
     "name": "stdout",
     "output_type": "stream",
     "text": [
      "Current beta: tensor(1., device='cuda:0')\n"
     ]
    },
    {
     "name": "stderr",
     "output_type": "stream",
     "text": [
      " 83%|████████▎ | 2502/3000 [05:38<01:06,  7.48it/s]"
     ]
    },
    {
     "name": "stdout",
     "output_type": "stream",
     "text": [
      "Current beta: tensor(1., device='cuda:0')\n",
      "Current validational ELBO: -1.0595893621444703\n",
      "Current best validational ELBO: -0.7893006682395936 index: 0\n",
      "elbo mean over epoch: -6.2388704395294186\n",
      "elbo: -6.059628\n",
      "likelihood -4.964479\n",
      "KLD 1.0951488\n"
     ]
    },
    {
     "name": "stderr",
     "output_type": "stream",
     "text": [
      " 87%|████████▋ | 2602/3000 [05:52<00:54,  7.36it/s]"
     ]
    },
    {
     "name": "stdout",
     "output_type": "stream",
     "text": [
      "Current beta: tensor(1., device='cuda:0')\n"
     ]
    },
    {
     "name": "stderr",
     "output_type": "stream",
     "text": [
      " 90%|█████████ | 2702/3000 [06:06<00:40,  7.32it/s]"
     ]
    },
    {
     "name": "stdout",
     "output_type": "stream",
     "text": [
      "Current beta: tensor(1., device='cuda:0')\n"
     ]
    },
    {
     "name": "stderr",
     "output_type": "stream",
     "text": [
      " 93%|█████████▎| 2802/3000 [06:19<00:26,  7.36it/s]"
     ]
    },
    {
     "name": "stdout",
     "output_type": "stream",
     "text": [
      "Current beta: tensor(1., device='cuda:0')\n"
     ]
    },
    {
     "name": "stderr",
     "output_type": "stream",
     "text": [
      " 97%|█████████▋| 2902/3000 [06:33<00:13,  7.29it/s]"
     ]
    },
    {
     "name": "stdout",
     "output_type": "stream",
     "text": [
      "Current beta: tensor(1., device='cuda:0')\n"
     ]
    },
    {
     "name": "stderr",
     "output_type": "stream",
     "text": [
      "100%|██████████| 3000/3000 [06:46<00:00,  7.38it/s]"
     ]
    },
    {
     "name": "stdout",
     "output_type": "stream",
     "text": [
      "Finish\n",
      "Best beta tensor(0., device='cuda:0')\n"
     ]
    },
    {
     "name": "stderr",
     "output_type": "stream",
     "text": [
      "\n"
     ]
    }
   ],
   "source": [
    "best_beta = run_training(enc, dec_annealing_all)"
   ]
  },
  {
   "cell_type": "code",
   "execution_count": 21,
   "metadata": {},
   "outputs": [
    {
     "name": "stdout",
     "output_type": "stream",
     "text": [
      "true_theta tensor([[-0.2963,  2.6764, -0.1408, -0.8441,  0.2905, -0.2838, -1.4535,  2.3737,\n",
      "         -0.0177, -2.7884],\n",
      "        [-0.3788,  0.7046, -1.3956, -0.1248, -0.9259, -1.5463, -0.4902,  0.0244,\n",
      "         -1.5992, -0.8469]], device='cuda:0')\n",
      "----------------------------------------------------------------------------------------------------\n",
      "tensor([[ 0.3163,  0.2291,  1.2451, -0.1628,  0.9789,  1.3099, -0.0116,  0.7617,\n",
      "          1.4595, -0.0604],\n",
      "        [ 0.4007, -2.5592,  0.5494,  0.8392, -0.0241,  0.6852,  1.4899, -2.1309,\n",
      "          0.4691,  2.5818]], device='cuda:0')\n"
     ]
    }
   ],
   "source": [
    "print('true_theta', true_theta)\n",
    "print('-' * 100)\n",
    "print(dec_annealing_all.W.weight.detach().T)"
   ]
  },
  {
   "cell_type": "code",
   "execution_count": 22,
   "metadata": {},
   "outputs": [
    {
     "name": "stdout",
     "output_type": "stream",
     "text": [
      "reconstructed probs tensor([[0.4664, 0.6811, 0.4449, 0.4391, 0.4908, 0.4341, 0.3900, 0.6471, 0.4485,\n",
      "         0.3158],\n",
      "        [0.3132, 0.8174, 0.0875, 0.4123, 0.1806, 0.0728, 0.2567, 0.5880, 0.0678,\n",
      "         0.1444],\n",
      "        [0.6014, 0.3866, 0.7933, 0.5167, 0.7183, 0.8090, 0.5953, 0.5412, 0.8220,\n",
      "         0.6525],\n",
      "        [0.4381, 0.9262, 0.4995, 0.2960, 0.6064, 0.4740, 0.1944, 0.9125, 0.5409,\n",
      "         0.0772],\n",
      "        [0.3613, 0.9920, 0.4126, 0.1640, 0.6366, 0.3615, 0.0603, 0.9869, 0.4769,\n",
      "         0.0083],\n",
      "        [0.4000, 0.7093, 0.2371, 0.4437, 0.3254, 0.2186, 0.3518, 0.5773, 0.2147,\n",
      "         0.2633],\n",
      "        [0.3840, 0.8674, 0.2575, 0.3609, 0.3829, 0.2319, 0.2396, 0.7815, 0.2488,\n",
      "         0.1212],\n",
      "        [0.6766, 0.3726, 0.9259, 0.5019, 0.8601, 0.9368, 0.6296, 0.6526, 0.9476,\n",
      "         0.6994],\n",
      "        [0.4455, 0.9258, 0.5264, 0.2949, 0.6254, 0.5025, 0.1965, 0.9159, 0.5716,\n",
      "         0.0786],\n",
      "        [0.5685, 0.1624, 0.6040, 0.6302, 0.5094, 0.6256, 0.7234, 0.2084, 0.5944,\n",
      "         0.8408]], device='cuda:0')\n",
      "true probs tensor([[0.5318, 0.4177, 0.6049, 0.5189, 0.5659, 0.6172, 0.5530, 0.4715, 0.6181,\n",
      "         0.5939],\n",
      "        [0.6765, 0.0091, 0.7743, 0.8037, 0.5542, 0.8272, 0.9326, 0.0235, 0.7664,\n",
      "         0.9931],\n",
      "        [0.4046, 0.9407, 0.3758, 0.3003, 0.5082, 0.3351, 0.1780, 0.9082, 0.3910,\n",
      "         0.0517],\n",
      "        [0.5588, 0.6104, 0.7805, 0.4417, 0.7315, 0.7944, 0.4647, 0.7250, 0.8196,\n",
      "         0.4108],\n",
      "        [0.6319, 0.5291, 0.9236, 0.4462, 0.8648, 0.9366, 0.5335, 0.7699, 0.9494,\n",
      "         0.5215],\n",
      "        [0.5942, 0.0900, 0.6653, 0.6658, 0.5414, 0.7022, 0.7860, 0.1416, 0.6635,\n",
      "         0.9211],\n",
      "        [0.6095, 0.1295, 0.7611, 0.6283, 0.6397, 0.7939, 0.7537, 0.2276, 0.7782,\n",
      "         0.8882],\n",
      "        [0.3334, 0.9948, 0.3143, 0.1652, 0.5495, 0.2493, 0.0526, 0.9883, 0.3485,\n",
      "         0.0040],\n",
      "        [0.5519, 0.6627, 0.7762, 0.4244, 0.7344, 0.7882, 0.4340, 0.7621, 0.8171,\n",
      "         0.3549],\n",
      "        [0.4352, 0.6457, 0.2872, 0.4685, 0.3584, 0.2662, 0.4024, 0.5361, 0.2624,\n",
      "         0.3322]], device='cuda:0')\n"
     ]
    }
   ],
   "source": [
    "for p in dec_annealing_all.parameters():\n",
    "    p.requires_grad_(False)\n",
    "u = std_normal.sample((10, z_dim))\n",
    "\n",
    "print('reconstructed probs', torch.sigmoid(dec_annealing_all(u)))\n",
    "print('true probs', torch.sigmoid(u @ true_theta))"
   ]
  },
  {
   "cell_type": "markdown",
   "metadata": {},
   "source": [
    "### Best annealing coeff"
   ]
  },
  {
   "cell_type": "code",
   "execution_count": 23,
   "metadata": {},
   "outputs": [],
   "source": [
    "enc = Encoder_vae(data_dim=data_dim, z_dim=z_dim, K=K).to(device)\n",
    "dec_annealing_best = Decoder(data_dim=data_dim, z_dim=z_dim).to(device)\n",
    "\n",
    "params = list(enc.parameters()) + list(dec_annealing_best.parameters())\n",
    "optimizer = torch.optim.Adam(params=params, lr=3e-4)\n",
    "scheduler = torch.optim.lr_scheduler.ReduceLROnPlateau(optimizer, verbose=True, threshold=1e-2, eps=1e-6, mode='max', patience=150, factor=0.75)"
   ]
  },
  {
   "cell_type": "code",
   "execution_count": 24,
   "metadata": {},
   "outputs": [
    {
     "name": "stderr",
     "output_type": "stream",
     "text": [
      "  0%|          | 1/3000 [00:00<07:57,  6.28it/s]"
     ]
    },
    {
     "name": "stdout",
     "output_type": "stream",
     "text": [
      "Current validational ELBO: -0.975763463973999\n",
      "Current best validational ELBO: -0.975763463973999 index: 0\n",
      "elbo mean over epoch: -7.023444309234619\n",
      "elbo: -7.0401573\n",
      "likelihood -7.040157\n",
      "KLD 0.0\n"
     ]
    },
    {
     "name": "stderr",
     "output_type": "stream",
     "text": [
      "  3%|▎         | 102/3000 [00:13<06:39,  7.25it/s]"
     ]
    },
    {
     "name": "stdout",
     "output_type": "stream",
     "text": [
      "Current beta: tensor(0.0526, device='cuda:0')\n"
     ]
    },
    {
     "name": "stderr",
     "output_type": "stream",
     "text": [
      "  7%|▋         | 202/3000 [00:27<06:23,  7.29it/s]"
     ]
    },
    {
     "name": "stdout",
     "output_type": "stream",
     "text": [
      "Current beta: tensor(0.1053, device='cuda:0')\n"
     ]
    },
    {
     "name": "stderr",
     "output_type": "stream",
     "text": [
      " 10%|█         | 302/3000 [00:41<06:06,  7.36it/s]"
     ]
    },
    {
     "name": "stdout",
     "output_type": "stream",
     "text": [
      "Current beta: tensor(0.1579, device='cuda:0')\n"
     ]
    },
    {
     "name": "stderr",
     "output_type": "stream",
     "text": [
      " 13%|█▎        | 402/3000 [00:54<05:52,  7.37it/s]"
     ]
    },
    {
     "name": "stdout",
     "output_type": "stream",
     "text": [
      "Current beta: tensor(0.2105, device='cuda:0')\n"
     ]
    },
    {
     "name": "stderr",
     "output_type": "stream",
     "text": [
      " 17%|█▋        | 502/3000 [01:08<05:41,  7.31it/s]"
     ]
    },
    {
     "name": "stdout",
     "output_type": "stream",
     "text": [
      "Current beta: tensor(0.2632, device='cuda:0')\n",
      "Current validational ELBO: -1.8665243864059449\n",
      "Current best validational ELBO: -0.975763463973999 index: 0\n",
      "elbo mean over epoch: -4.968809680938721\n",
      "elbo: -5.2543454\n",
      "likelihood -4.659558\n",
      "KLD 0.5947882\n"
     ]
    },
    {
     "name": "stderr",
     "output_type": "stream",
     "text": [
      " 20%|██        | 602/3000 [01:22<05:28,  7.29it/s]"
     ]
    },
    {
     "name": "stdout",
     "output_type": "stream",
     "text": [
      "Current beta: tensor(0.3158, device='cuda:0')\n"
     ]
    },
    {
     "name": "stderr",
     "output_type": "stream",
     "text": [
      " 23%|██▎       | 702/3000 [01:35<05:10,  7.40it/s]"
     ]
    },
    {
     "name": "stdout",
     "output_type": "stream",
     "text": [
      "Current beta: tensor(0.3684, device='cuda:0')\n"
     ]
    },
    {
     "name": "stderr",
     "output_type": "stream",
     "text": [
      " 27%|██▋       | 802/3000 [01:49<04:56,  7.42it/s]"
     ]
    },
    {
     "name": "stdout",
     "output_type": "stream",
     "text": [
      "Current beta: tensor(0.4211, device='cuda:0')\n"
     ]
    },
    {
     "name": "stderr",
     "output_type": "stream",
     "text": [
      " 30%|███       | 902/3000 [02:03<04:49,  7.26it/s]"
     ]
    },
    {
     "name": "stdout",
     "output_type": "stream",
     "text": [
      "Current beta: tensor(0.4737, device='cuda:0')\n"
     ]
    },
    {
     "name": "stderr",
     "output_type": "stream",
     "text": [
      " 33%|███▎      | 1002/3000 [02:16<04:32,  7.32it/s]"
     ]
    },
    {
     "name": "stdout",
     "output_type": "stream",
     "text": [
      "Current beta: tensor(0.5263, device='cuda:0')\n",
      "Current validational ELBO: -1.4347455501556396\n",
      "Current best validational ELBO: -0.975763463973999 index: 0\n",
      "elbo mean over epoch: -5.49041750907898\n",
      "elbo: -5.516172\n",
      "likelihood -4.5971293\n",
      "KLD 0.9190428\n"
     ]
    },
    {
     "name": "stderr",
     "output_type": "stream",
     "text": [
      " 37%|███▋      | 1102/3000 [02:30<04:14,  7.46it/s]"
     ]
    },
    {
     "name": "stdout",
     "output_type": "stream",
     "text": [
      "Current beta: tensor(0.5789, device='cuda:0')\n"
     ]
    },
    {
     "name": "stderr",
     "output_type": "stream",
     "text": [
      " 40%|████      | 1202/3000 [02:43<04:00,  7.47it/s]"
     ]
    },
    {
     "name": "stdout",
     "output_type": "stream",
     "text": [
      "Current beta: tensor(0.6316, device='cuda:0')\n"
     ]
    },
    {
     "name": "stderr",
     "output_type": "stream",
     "text": [
      " 43%|████▎     | 1302/3000 [02:57<03:50,  7.36it/s]"
     ]
    },
    {
     "name": "stdout",
     "output_type": "stream",
     "text": [
      "Current beta: tensor(0.6842, device='cuda:0')\n"
     ]
    },
    {
     "name": "stderr",
     "output_type": "stream",
     "text": [
      " 47%|████▋     | 1402/3000 [03:10<03:36,  7.37it/s]"
     ]
    },
    {
     "name": "stdout",
     "output_type": "stream",
     "text": [
      "Current beta: tensor(0.7368, device='cuda:0')\n"
     ]
    },
    {
     "name": "stderr",
     "output_type": "stream",
     "text": [
      " 50%|█████     | 1502/3000 [03:24<03:27,  7.23it/s]"
     ]
    },
    {
     "name": "stdout",
     "output_type": "stream",
     "text": [
      "Current beta: tensor(0.7895, device='cuda:0')\n",
      "Current validational ELBO: -1.2194181680679321\n",
      "Current best validational ELBO: -0.975763463973999 index: 0\n",
      "elbo mean over epoch: -5.9484062767028805\n",
      "elbo: -5.7320566\n",
      "likelihood -4.673244\n",
      "KLD 1.0588126\n"
     ]
    },
    {
     "name": "stderr",
     "output_type": "stream",
     "text": [
      " 53%|█████▎    | 1602/3000 [03:38<03:10,  7.33it/s]"
     ]
    },
    {
     "name": "stdout",
     "output_type": "stream",
     "text": [
      "Current beta: tensor(0.8421, device='cuda:0')\n"
     ]
    },
    {
     "name": "stderr",
     "output_type": "stream",
     "text": [
      " 57%|█████▋    | 1702/3000 [03:51<02:58,  7.28it/s]"
     ]
    },
    {
     "name": "stdout",
     "output_type": "stream",
     "text": [
      "Current beta: tensor(0.8947, device='cuda:0')\n"
     ]
    },
    {
     "name": "stderr",
     "output_type": "stream",
     "text": [
      " 60%|██████    | 1802/3000 [04:05<02:43,  7.33it/s]"
     ]
    },
    {
     "name": "stdout",
     "output_type": "stream",
     "text": [
      "Current beta: tensor(0.9474, device='cuda:0')\n"
     ]
    },
    {
     "name": "stderr",
     "output_type": "stream",
     "text": [
      " 63%|██████▎   | 1902/3000 [04:18<02:28,  7.38it/s]"
     ]
    },
    {
     "name": "stdout",
     "output_type": "stream",
     "text": [
      "Current beta: tensor(1., device='cuda:0')\n"
     ]
    },
    {
     "name": "stderr",
     "output_type": "stream",
     "text": [
      " 67%|██████▋   | 2002/3000 [04:32<02:12,  7.54it/s]"
     ]
    },
    {
     "name": "stdout",
     "output_type": "stream",
     "text": [
      "Current beta: tensor(1., device='cuda:0')\n",
      "Current validational ELBO: -1.076676845550537\n",
      "Current best validational ELBO: -0.975763463973999 index: 0\n",
      "elbo mean over epoch: -6.321665964126587\n",
      "elbo: -6.1967516\n",
      "likelihood -5.0727444\n",
      "KLD 1.1240071\n"
     ]
    },
    {
     "name": "stderr",
     "output_type": "stream",
     "text": [
      " 70%|███████   | 2102/3000 [04:45<01:58,  7.56it/s]"
     ]
    },
    {
     "name": "stdout",
     "output_type": "stream",
     "text": [
      "Current beta: tensor(1., device='cuda:0')\n"
     ]
    },
    {
     "name": "stderr",
     "output_type": "stream",
     "text": [
      " 73%|███████▎  | 2202/3000 [04:58<01:45,  7.56it/s]"
     ]
    },
    {
     "name": "stdout",
     "output_type": "stream",
     "text": [
      "Current beta: tensor(1., device='cuda:0')\n"
     ]
    },
    {
     "name": "stderr",
     "output_type": "stream",
     "text": [
      " 77%|███████▋  | 2302/3000 [05:11<01:32,  7.56it/s]"
     ]
    },
    {
     "name": "stdout",
     "output_type": "stream",
     "text": [
      "Current beta: tensor(1., device='cuda:0')\n"
     ]
    },
    {
     "name": "stderr",
     "output_type": "stream",
     "text": [
      " 80%|████████  | 2402/3000 [05:25<01:19,  7.56it/s]"
     ]
    },
    {
     "name": "stdout",
     "output_type": "stream",
     "text": [
      "Current beta: tensor(1., device='cuda:0')\n"
     ]
    },
    {
     "name": "stderr",
     "output_type": "stream",
     "text": [
      " 83%|████████▎ | 2502/3000 [05:38<01:05,  7.55it/s]"
     ]
    },
    {
     "name": "stdout",
     "output_type": "stream",
     "text": [
      "Current beta: tensor(1., device='cuda:0')\n",
      "Current validational ELBO: -1.0518383264541626\n",
      "Current best validational ELBO: -0.975763463973999 index: 0\n",
      "elbo mean over epoch: -6.24718596458435\n",
      "elbo: -6.267483\n",
      "likelihood -5.1907487\n",
      "KLD 1.0767344\n"
     ]
    },
    {
     "name": "stderr",
     "output_type": "stream",
     "text": [
      " 87%|████████▋ | 2602/3000 [05:51<00:52,  7.57it/s]"
     ]
    },
    {
     "name": "stdout",
     "output_type": "stream",
     "text": [
      "Current beta: tensor(1., device='cuda:0')\n"
     ]
    },
    {
     "name": "stderr",
     "output_type": "stream",
     "text": [
      " 90%|█████████ | 2702/3000 [06:04<00:39,  7.56it/s]"
     ]
    },
    {
     "name": "stdout",
     "output_type": "stream",
     "text": [
      "Current beta: tensor(1., device='cuda:0')\n"
     ]
    },
    {
     "name": "stderr",
     "output_type": "stream",
     "text": [
      " 93%|█████████▎| 2802/3000 [06:18<00:26,  7.55it/s]"
     ]
    },
    {
     "name": "stdout",
     "output_type": "stream",
     "text": [
      "Current beta: tensor(1., device='cuda:0')\n"
     ]
    },
    {
     "name": "stderr",
     "output_type": "stream",
     "text": [
      " 97%|█████████▋| 2902/3000 [06:31<00:13,  7.39it/s]"
     ]
    },
    {
     "name": "stdout",
     "output_type": "stream",
     "text": [
      "Current beta: tensor(1., device='cuda:0')\n"
     ]
    },
    {
     "name": "stderr",
     "output_type": "stream",
     "text": [
      "100%|██████████| 3000/3000 [06:44<00:00,  7.42it/s]\n"
     ]
    }
   ],
   "source": [
    "run_training(enc, dec_annealing_best, best_beta)"
   ]
  },
  {
   "cell_type": "code",
   "execution_count": 25,
   "metadata": {},
   "outputs": [
    {
     "name": "stdout",
     "output_type": "stream",
     "text": [
      "true_theta tensor([[-0.2963,  2.6764, -0.1408, -0.8441,  0.2905, -0.2838, -1.4535,  2.3737,\n",
      "         -0.0177, -2.7884],\n",
      "        [-0.3788,  0.7046, -1.3956, -0.1248, -0.9259, -1.5463, -0.4902,  0.0244,\n",
      "         -1.5992, -0.8469]], device='cuda:0')\n",
      "----------------------------------------------------------------------------------------------------\n",
      "tensor([[-0.4046,  2.5451, -0.5585, -0.8401,  0.0202, -0.6917, -1.4943,  2.1227,\n",
      "         -0.4733, -2.6062],\n",
      "        [-0.3092, -0.2365, -1.2337,  0.1710, -0.9814, -1.3112,  0.0217, -0.7663,\n",
      "         -1.4570,  0.0713]], device='cuda:0')\n"
     ]
    }
   ],
   "source": [
    "print('true_theta', true_theta)\n",
    "print('-' * 100)\n",
    "print(dec_annealing_best.W.weight.detach().T)"
   ]
  },
  {
   "cell_type": "code",
   "execution_count": 26,
   "metadata": {},
   "outputs": [
    {
     "name": "stdout",
     "output_type": "stream",
     "text": [
      "reconstructed probs tensor([[0.5719, 0.5947, 0.7713, 0.4451, 0.7298, 0.7836, 0.4734, 0.7100, 0.8095,\n",
      "         0.4453],\n",
      "        [0.3867, 0.9495, 0.3487, 0.2749, 0.5095, 0.3150, 0.1517, 0.9210, 0.3721,\n",
      "         0.0473],\n",
      "        [0.5839, 0.7834, 0.8497, 0.3612, 0.8242, 0.8588, 0.3609, 0.8770, 0.8921,\n",
      "         0.2594],\n",
      "        [0.3188, 0.9000, 0.1189, 0.3509, 0.2421, 0.0976, 0.1933, 0.7612, 0.1012,\n",
      "         0.0793],\n",
      "        [0.2835, 0.8837, 0.0637, 0.3759, 0.1555, 0.0497, 0.1987, 0.6678, 0.0476,\n",
      "         0.0852],\n",
      "        [0.5684, 0.6421, 0.7749, 0.4276, 0.7397, 0.7860, 0.4455, 0.7487, 0.8152,\n",
      "         0.3972],\n",
      "        [0.5389, 0.3046, 0.5679, 0.5660, 0.5159, 0.5801, 0.6208, 0.3436, 0.5649,\n",
      "         0.7021],\n",
      "        [0.3443, 0.9710, 0.2515, 0.2431, 0.4462, 0.2147, 0.1100, 0.9419, 0.2637,\n",
      "         0.0256],\n",
      "        [0.4831, 0.3621, 0.3870, 0.5570, 0.3894, 0.3843, 0.5693, 0.3250, 0.3596,\n",
      "         0.6230],\n",
      "        [0.5978, 0.0279, 0.5390, 0.7715, 0.3769, 0.5741, 0.8836, 0.0378, 0.4833,\n",
      "         0.9721]], device='cuda:0')\n",
      "true probs tensor([[0.5906, 0.3634, 0.8027, 0.5196, 0.7217, 0.8246, 0.6019, 0.5274, 0.8343,\n",
      "         0.6678],\n",
      "        [0.4169, 0.9557, 0.4647, 0.2748, 0.5862, 0.4246, 0.1589, 0.9390, 0.5009,\n",
      "         0.0392],\n",
      "        [0.6194, 0.4647, 0.8943, 0.4730, 0.8256, 0.9106, 0.5610, 0.6933, 0.9241,\n",
      "         0.5803],\n",
      "        [0.3238, 0.9689, 0.1433, 0.2751, 0.3074, 0.1086, 0.1198, 0.9120, 0.1291,\n",
      "         0.0238],\n",
      "        [0.2799, 0.9780, 0.0711, 0.2637, 0.2081, 0.0488, 0.0955, 0.9104, 0.0570,\n",
      "         0.0155],\n",
      "        [0.5898, 0.4020, 0.8120, 0.5055, 0.7351, 0.8326, 0.5817, 0.5708, 0.8449,\n",
      "         0.6303],\n",
      "        [0.5313, 0.2816, 0.5366, 0.5716, 0.4926, 0.5511, 0.6263, 0.3128, 0.5301,\n",
      "         0.7278],\n",
      "        [0.3752, 0.9807, 0.3670, 0.2288, 0.5441, 0.3137, 0.1033, 0.9656, 0.3958,\n",
      "         0.0160],\n",
      "        [0.4703, 0.4596, 0.3523, 0.5238, 0.3839, 0.3426, 0.5098, 0.3973, 0.3266,\n",
      "         0.5294],\n",
      "        [0.5539, 0.0366, 0.3809, 0.7463, 0.3014, 0.4095, 0.8487, 0.0395, 0.3207,\n",
      "         0.9662]], device='cuda:0')\n"
     ]
    }
   ],
   "source": [
    "for p in dec_annealing_best.parameters():\n",
    "    p.requires_grad_(False)\n",
    "u = std_normal.sample((10, z_dim))\n",
    "\n",
    "print('reconstructed probs', torch.sigmoid(dec_annealing_best(u)))\n",
    "print('true probs', torch.sigmoid(u @ true_theta))"
   ]
  },
  {
   "cell_type": "markdown",
   "metadata": {},
   "source": [
    "### Vanilla VAE"
   ]
  },
  {
   "cell_type": "code",
   "execution_count": 30,
   "metadata": {},
   "outputs": [],
   "source": [
    "enc = Encoder_vae(data_dim=data_dim, z_dim=z_dim, K=K).to(device)\n",
    "dec_vanilla_vae = Decoder(data_dim=data_dim, z_dim=z_dim).to(device)\n",
    "\n",
    "params = list(enc.parameters()) + list(dec_vanilla_vae.parameters())\n",
    "optimizer = torch.optim.Adam(params=params, lr=1e-3)\n",
    "scheduler = torch.optim.lr_scheduler.ReduceLROnPlateau(optimizer, verbose=True, threshold=1e-2, eps=1e-6, mode='max', patience=150, factor=0.75)"
   ]
  },
  {
   "cell_type": "code",
   "execution_count": 28,
   "metadata": {},
   "outputs": [
    {
     "name": "stderr",
     "output_type": "stream",
     "text": [
      "  0%|          | 1/3000 [00:00<06:45,  7.40it/s]"
     ]
    },
    {
     "name": "stdout",
     "output_type": "stream",
     "text": [
      "Current validational ELBO: -0.7884276509284973\n",
      "Current best validational ELBO: -0.7884276509284973\n",
      "elbo mean over epoch: -7.3824037742614745\n",
      "elbo: -7.300476\n",
      "likelihood -7.153831\n",
      "KLD 0.14664477\n"
     ]
    },
    {
     "name": "stderr",
     "output_type": "stream",
     "text": [
      "  4%|▎         | 105/3000 [00:13<06:25,  7.51it/s]\n"
     ]
    }
   ],
   "source": [
    "run_training(enc, dec_vanilla_vae, annealing_beta=False)"
   ]
  },
  {
   "cell_type": "code",
   "execution_count": 31,
   "metadata": {},
   "outputs": [
    {
     "name": "stdout",
     "output_type": "stream",
     "text": [
      "true_theta tensor([[-0.2963,  2.6764, -0.1408, -0.8441,  0.2905, -0.2838, -1.4535,  2.3737,\n",
      "         -0.0177, -2.7884],\n",
      "        [-0.3788,  0.7046, -1.3956, -0.1248, -0.9259, -1.5463, -0.4902,  0.0244,\n",
      "         -1.5992, -0.8469]], device='cuda:0')\n",
      "----------------------------------------------------------------------------------------------------\n",
      "tensor([[ 0.1605, -0.2527,  0.5836,  0.6555, -0.1622, -0.7029,  0.6671,  0.2127,\n",
      "         -0.5395, -0.5449],\n",
      "        [ 0.0351, -0.3835,  0.1819, -0.0694, -0.3841,  0.1277, -0.3313, -0.0009,\n",
      "          0.1726, -0.2842]], device='cuda:0')\n"
     ]
    }
   ],
   "source": [
    "print('true_theta', true_theta)\n",
    "print('-' * 100)\n",
    "print(dec_vanilla_vae.W.weight.detach().T)"
   ]
  },
  {
   "cell_type": "code",
   "execution_count": 32,
   "metadata": {},
   "outputs": [
    {
     "name": "stdout",
     "output_type": "stream",
     "text": [
      "reconstructed probs tensor([[0.4068, 0.6578, 0.2007, 0.1821, 0.6093, 0.8322, 0.1852, 0.3796, 0.7713,\n",
      "         0.7877],\n",
      "        [0.4858, 0.5563, 0.4429, 0.4641, 0.5505, 0.5330, 0.4905, 0.4861, 0.5176,\n",
      "         0.5651],\n",
      "        [0.4772, 0.5665, 0.4130, 0.4276, 0.5557, 0.5726, 0.4506, 0.4743, 0.5489,\n",
      "         0.5919],\n",
      "        [0.4889, 0.4217, 0.4755, 0.3937, 0.4097, 0.6285, 0.3217, 0.4714, 0.6204,\n",
      "         0.4892],\n",
      "        [0.5277, 0.4599, 0.5988, 0.6133, 0.4756, 0.3783, 0.6178, 0.5371, 0.4051,\n",
      "         0.4087],\n",
      "        [0.5525, 0.4045, 0.6848, 0.6955, 0.4326, 0.2938, 0.6894, 0.5675, 0.3406,\n",
      "         0.3222],\n",
      "        [0.4626, 0.6598, 0.3510, 0.4172, 0.6467, 0.5718, 0.4997, 0.4659, 0.5312,\n",
      "         0.6732],\n",
      "        [0.5070, 0.5727, 0.5117, 0.5827, 0.5817, 0.3983, 0.6473, 0.5215, 0.4029,\n",
      "         0.5185],\n",
      "        [0.4932, 0.5731, 0.4649, 0.5130, 0.5731, 0.4759, 0.5629, 0.5001, 0.4672,\n",
      "         0.5545],\n",
      "        [0.4794, 0.5074, 0.4295, 0.4007, 0.4942, 0.6102, 0.3800, 0.4690, 0.5907,\n",
      "         0.5572]], device='cuda:0')\n",
      "true probs tensor([[0.6799, 0.0018, 0.6408, 0.8780, 0.3767, 0.7184, 0.9692, 0.0041, 0.5821,\n",
      "         0.9986],\n",
      "        [0.5587, 0.2693, 0.6497, 0.5681, 0.5766, 0.6722, 0.6426, 0.3463, 0.6615,\n",
      "         0.7478],\n",
      "        [0.5712, 0.1731, 0.6447, 0.6122, 0.5521, 0.6731, 0.7089, 0.2386, 0.6486,\n",
      "         0.8419],\n",
      "        [0.4287, 0.3540, 0.1728, 0.5755, 0.2237, 0.1588, 0.5499, 0.2245, 0.1334,\n",
      "         0.6211],\n",
      "        [0.4523, 0.8632, 0.4898, 0.3578, 0.5601, 0.4664, 0.2697, 0.8400, 0.5134,\n",
      "         0.1285],\n",
      "        [0.3914, 0.9717, 0.3984, 0.2499, 0.5541, 0.3498, 0.1258, 0.9542, 0.4283,\n",
      "         0.0240],\n",
      "        [0.6648, 0.0660, 0.8706, 0.6702, 0.7342, 0.8998, 0.8291, 0.1723, 0.8901,\n",
      "         0.9482],\n",
      "        [0.5672, 0.5860, 0.7986, 0.4478, 0.7441, 0.8138, 0.4805, 0.7161, 0.8370,\n",
      "         0.4388],\n",
      "        [0.5722, 0.3671, 0.7446, 0.5243, 0.6702, 0.7660, 0.5935, 0.4943, 0.7731,\n",
      "         0.6579],\n",
      "        [0.5141, 0.2073, 0.4145, 0.6113, 0.3887, 0.4235, 0.6671, 0.2021, 0.3824,\n",
      "         0.7962]], device='cuda:0')\n"
     ]
    }
   ],
   "source": [
    "for p in dec_vanilla_vae.parameters():\n",
    "    p.requires_grad_(False)\n",
    "u = std_normal.sample((10, z_dim))\n",
    "\n",
    "print('reconstructed probs', torch.sigmoid(dec_vanilla_vae(u)))\n",
    "print('true probs', torch.sigmoid(u @ true_theta))"
   ]
  },
  {
   "cell_type": "code",
   "execution_count": null,
   "metadata": {
    "collapsed": true,
    "jupyter": {
     "outputs_hidden": true
    }
   },
   "outputs": [],
   "source": []
  },
  {
   "cell_type": "code",
   "execution_count": null,
   "metadata": {
    "collapsed": true,
    "jupyter": {
     "outputs_hidden": true
    }
   },
   "outputs": [],
   "source": []
  },
  {
   "cell_type": "markdown",
   "metadata": {},
   "source": [
    "## Task 5"
   ]
  },
  {
   "cell_type": "markdown",
   "metadata": {},
   "source": [
    "### Our HMC"
   ]
  },
  {
   "cell_type": "code",
   "execution_count": 33,
   "metadata": {},
   "outputs": [],
   "source": [
    "from training import run_training_our_var"
   ]
  },
  {
   "cell_type": "code",
   "execution_count": 34,
   "metadata": {},
   "outputs": [],
   "source": [
    "class dotdict(dict):\n",
    "    \"\"\"dot.notation access to dictionary attributes\"\"\"\n",
    "    __getattr__ = dict.get\n",
    "    __setattr__ = dict.__setitem__\n",
    "    __delattr__ = dict.__delitem__\n",
    "    \n",
    "args = dotdict({})\n",
    "\n",
    "args.device = device\n",
    "args.torchType = torch.float32\n",
    "\n",
    "args.K = 10\n",
    "args.N = 2\n",
    "\n",
    "\n",
    "args.data_dim = data_dim\n",
    "args.z_dim = z_dim\n",
    "args.alpha = 0.5\n",
    "args.gamma = 0.1\n",
    "args.use_partialref = True\n",
    "args.use_barker = True\n",
    "args.learnable_reverse = False\n",
    "args.amortize = False\n",
    "args.fix_transition_params = True \n",
    "\n",
    "args.print_info_ = 50\n",
    "args.num_epoches = 1000\n",
    "args.batch_size = 200\n",
    "args.std_normal = std_normal\n",
    "args.learning_rate = 1e-3"
   ]
  },
  {
   "cell_type": "code",
   "execution_count": 35,
   "metadata": {},
   "outputs": [],
   "source": [
    "dataloader = torch.utils.data.DataLoader(data, batch_size=args.batch_size, shuffle=True)"
   ]
  },
  {
   "cell_type": "code",
   "execution_count": 36,
   "metadata": {},
   "outputs": [
    {
     "name": "stderr",
     "output_type": "stream",
     "text": [
      "  0%|          | 1/1000 [00:02<45:12,  2.72s/it]"
     ]
    },
    {
     "name": "stdout",
     "output_type": "stream",
     "text": [
      "elbo_full: -21.024160385131836\n",
      "tensor([[-0.4437, -0.2169,  0.3887, -0.4531, -0.3893,  0.3132, -0.6513, -0.0943,\n",
      "          0.0532, -0.3400],\n",
      "        [ 0.4656, -0.1555,  0.0286,  0.4594, -0.5693,  0.0174,  0.6562, -0.2464,\n",
      "         -0.4039,  0.6015]], device='cuda:0')\n",
      "0\n",
      "Stepsize 0.09999999680245637\n",
      "Autoregression coeff 0.5\n",
      "1\n",
      "Stepsize 0.09999999680245637\n",
      "Autoregression coeff 0.5\n",
      "2\n",
      "Stepsize 0.09999999680245637\n",
      "Autoregression coeff 0.5\n",
      "3\n",
      "Stepsize 0.09999999680245637\n",
      "Autoregression coeff 0.5\n",
      "4\n",
      "Stepsize 0.09999999680245637\n",
      "Autoregression coeff 0.5\n",
      "5\n",
      "Stepsize 0.09999999680245637\n",
      "Autoregression coeff 0.5\n",
      "6\n",
      "Stepsize 0.09999999680245637\n",
      "Autoregression coeff 0.5\n",
      "7\n",
      "Stepsize 0.09999999680245637\n",
      "Autoregression coeff 0.5\n",
      "8\n",
      "Stepsize 0.09999999680245637\n",
      "Autoregression coeff 0.5\n",
      "9\n",
      "Stepsize 0.09999999680245637\n",
      "Autoregression coeff 0.5\n"
     ]
    },
    {
     "name": "stderr",
     "output_type": "stream",
     "text": [
      "  5%|▌         | 51/1000 [02:21<42:53,  2.71s/it]"
     ]
    },
    {
     "name": "stdout",
     "output_type": "stream",
     "text": [
      "elbo_full: -20.384273529052734\n",
      "tensor([[-0.1796,  0.1174,  0.2289, -0.1953, -0.0968,  0.1885, -0.2809,  0.1789,\n",
      "          0.0682, -0.2805],\n",
      "        [ 0.3486, -1.0522,  0.3215,  0.6005, -0.2008,  0.3442,  0.9290, -0.9581,\n",
      "          0.0354,  1.1879]], device='cuda:0')\n",
      "0\n",
      "Stepsize 0.09999999680245637\n",
      "Autoregression coeff 0.5\n",
      "1\n",
      "Stepsize 0.09999999680245637\n",
      "Autoregression coeff 0.5\n",
      "2\n",
      "Stepsize 0.09999999680245637\n",
      "Autoregression coeff 0.5\n",
      "3\n",
      "Stepsize 0.09999999680245637\n",
      "Autoregression coeff 0.5\n",
      "4\n",
      "Stepsize 0.09999999680245637\n",
      "Autoregression coeff 0.5\n",
      "5\n",
      "Stepsize 0.09999999680245637\n",
      "Autoregression coeff 0.5\n",
      "6\n",
      "Stepsize 0.09999999680245637\n",
      "Autoregression coeff 0.5\n",
      "7\n",
      "Stepsize 0.09999999680245637\n",
      "Autoregression coeff 0.5\n",
      "8\n",
      "Stepsize 0.09999999680245637\n",
      "Autoregression coeff 0.5\n",
      "9\n",
      "Stepsize 0.09999999680245637\n",
      "Autoregression coeff 0.5\n"
     ]
    },
    {
     "name": "stderr",
     "output_type": "stream",
     "text": [
      " 10%|█         | 101/1000 [04:39<41:18,  2.76s/it]"
     ]
    },
    {
     "name": "stdout",
     "output_type": "stream",
     "text": [
      "elbo_full: -20.179746627807617\n",
      "tensor([[-0.0271,  0.1242,  0.3830, -0.2482,  0.1005,  0.2913, -0.2388,  0.2395,\n",
      "          0.2361, -0.2302],\n",
      "        [ 0.3551, -1.5705,  0.4742,  0.7008, -0.0170,  0.4952,  1.1873, -1.3907,\n",
      "          0.2988,  1.6993]], device='cuda:0')\n",
      "0\n",
      "Stepsize 0.09999999680245637\n",
      "Autoregression coeff 0.5\n",
      "1\n",
      "Stepsize 0.09999999680245637\n",
      "Autoregression coeff 0.5\n",
      "2\n",
      "Stepsize 0.09999999680245637\n",
      "Autoregression coeff 0.5\n",
      "3\n",
      "Stepsize 0.09999999680245637\n",
      "Autoregression coeff 0.5\n",
      "4\n",
      "Stepsize 0.09999999680245637\n",
      "Autoregression coeff 0.5\n",
      "5\n",
      "Stepsize 0.09999999680245637\n",
      "Autoregression coeff 0.5\n",
      "6\n",
      "Stepsize 0.09999999680245637\n",
      "Autoregression coeff 0.5\n",
      "7\n",
      "Stepsize 0.09999999680245637\n",
      "Autoregression coeff 0.5\n",
      "8\n",
      "Stepsize 0.09999999680245637\n",
      "Autoregression coeff 0.5\n",
      "9\n",
      "Stepsize 0.09999999680245637\n",
      "Autoregression coeff 0.5\n"
     ]
    },
    {
     "name": "stderr",
     "output_type": "stream",
     "text": [
      " 15%|█▌        | 151/1000 [06:58<38:51,  2.75s/it]"
     ]
    },
    {
     "name": "stdout",
     "output_type": "stream",
     "text": [
      "elbo_full: -20.442216873168945\n",
      "tensor([[ 0.0653,  0.1662,  0.6627, -0.3375,  0.4167,  0.5957, -0.2333,  0.3961,\n",
      "          0.6118, -0.2813],\n",
      "        [ 0.4429, -1.8305,  0.5580,  0.7722,  0.0865,  0.6037,  1.3635, -1.5238,\n",
      "          0.4575,  1.9195]], device='cuda:0')\n",
      "0\n",
      "Stepsize 0.09999999680245637\n",
      "Autoregression coeff 0.5\n",
      "1\n",
      "Stepsize 0.09999999680245637\n",
      "Autoregression coeff 0.5\n",
      "2\n",
      "Stepsize 0.09999999680245637\n",
      "Autoregression coeff 0.5\n",
      "3\n",
      "Stepsize 0.09999999680245637\n",
      "Autoregression coeff 0.5\n",
      "4\n",
      "Stepsize 0.09999999680245637\n",
      "Autoregression coeff 0.5\n",
      "5\n",
      "Stepsize 0.09999999680245637\n",
      "Autoregression coeff 0.5\n",
      "6\n",
      "Stepsize 0.09999999680245637\n",
      "Autoregression coeff 0.5\n",
      "7\n",
      "Stepsize 0.09999999680245637\n",
      "Autoregression coeff 0.5\n",
      "8\n",
      "Stepsize 0.09999999680245637\n",
      "Autoregression coeff 0.5\n",
      "9\n",
      "Stepsize 0.09999999680245637\n",
      "Autoregression coeff 0.5\n"
     ]
    },
    {
     "name": "stderr",
     "output_type": "stream",
     "text": [
      " 20%|██        | 201/1000 [09:17<37:27,  2.81s/it]"
     ]
    },
    {
     "name": "stdout",
     "output_type": "stream",
     "text": [
      "elbo_full: -20.156129837036133\n",
      "tensor([[ 0.1596,  0.2194,  0.9255, -0.4022,  0.7075,  0.8509, -0.2566,  0.5694,\n",
      "          0.9334, -0.2958],\n",
      "        [ 0.4417, -2.0098,  0.6544,  0.7719,  0.0724,  0.6855,  1.4042, -1.6163,\n",
      "          0.5400,  2.1011]], device='cuda:0')\n",
      "0\n",
      "Stepsize 0.09999999680245637\n",
      "Autoregression coeff 0.5\n",
      "1\n",
      "Stepsize 0.09999999680245637\n",
      "Autoregression coeff 0.5\n",
      "2\n",
      "Stepsize 0.09999999680245637\n",
      "Autoregression coeff 0.5\n",
      "3\n",
      "Stepsize 0.09999999680245637\n",
      "Autoregression coeff 0.5\n",
      "4\n",
      "Stepsize 0.09999999680245637\n",
      "Autoregression coeff 0.5\n",
      "5\n",
      "Stepsize 0.09999999680245637\n",
      "Autoregression coeff 0.5\n",
      "6\n",
      "Stepsize 0.09999999680245637\n",
      "Autoregression coeff 0.5\n",
      "7\n",
      "Stepsize 0.09999999680245637\n",
      "Autoregression coeff 0.5\n",
      "8\n",
      "Stepsize 0.09999999680245637\n",
      "Autoregression coeff 0.5\n",
      "9\n",
      "Stepsize 0.09999999680245637\n",
      "Autoregression coeff 0.5\n"
     ]
    },
    {
     "name": "stderr",
     "output_type": "stream",
     "text": [
      " 25%|██▌       | 251/1000 [11:37<35:20,  2.83s/it]"
     ]
    },
    {
     "name": "stdout",
     "output_type": "stream",
     "text": [
      "elbo_full: -20.285232543945312\n",
      "tensor([[ 0.2118,  0.3305,  1.0399, -0.3271,  0.8378,  0.9679, -0.2355,  0.6830,\n",
      "          1.0956, -0.3484],\n",
      "        [ 0.4272, -2.1749,  0.6414,  0.8330,  0.1165,  0.7931,  1.5123, -1.7742,\n",
      "          0.5873,  2.3012]], device='cuda:0')\n",
      "0\n",
      "Stepsize 0.09999999680245637\n",
      "Autoregression coeff 0.5\n",
      "1\n",
      "Stepsize 0.09999999680245637\n",
      "Autoregression coeff 0.5\n",
      "2\n",
      "Stepsize 0.09999999680245637\n",
      "Autoregression coeff 0.5\n",
      "3\n",
      "Stepsize 0.09999999680245637\n",
      "Autoregression coeff 0.5\n",
      "4\n",
      "Stepsize 0.09999999680245637\n",
      "Autoregression coeff 0.5\n",
      "5\n",
      "Stepsize 0.09999999680245637\n",
      "Autoregression coeff 0.5\n",
      "6\n",
      "Stepsize 0.09999999680245637\n",
      "Autoregression coeff 0.5\n",
      "7\n",
      "Stepsize 0.09999999680245637\n",
      "Autoregression coeff 0.5\n",
      "8\n",
      "Stepsize 0.09999999680245637\n",
      "Autoregression coeff 0.5\n",
      "9\n",
      "Stepsize 0.09999999680245637\n",
      "Autoregression coeff 0.5\n"
     ]
    },
    {
     "name": "stderr",
     "output_type": "stream",
     "text": [
      " 30%|███       | 301/1000 [13:58<32:18,  2.77s/it]"
     ]
    },
    {
     "name": "stdout",
     "output_type": "stream",
     "text": [
      "elbo_full: -20.207250595092773\n",
      "tensor([[ 0.2782,  0.3766,  1.1143, -0.3169,  0.9254,  1.1029, -0.2261,  0.7908,\n",
      "          1.2346, -0.3486],\n",
      "        [ 0.4362, -2.2505,  0.7134,  0.8265,  0.1132,  0.8403,  1.5258, -1.8410,\n",
      "          0.6310,  2.3840]], device='cuda:0')\n",
      "0\n",
      "Stepsize 0.09999999680245637\n",
      "Autoregression coeff 0.5\n",
      "1\n",
      "Stepsize 0.09999999680245637\n",
      "Autoregression coeff 0.5\n",
      "2\n",
      "Stepsize 0.09999999680245637\n",
      "Autoregression coeff 0.5\n",
      "3\n",
      "Stepsize 0.09999999680245637\n",
      "Autoregression coeff 0.5\n",
      "4\n",
      "Stepsize 0.09999999680245637\n",
      "Autoregression coeff 0.5\n",
      "5\n",
      "Stepsize 0.09999999680245637\n",
      "Autoregression coeff 0.5\n",
      "6\n",
      "Stepsize 0.09999999680245637\n",
      "Autoregression coeff 0.5\n",
      "7\n",
      "Stepsize 0.09999999680245637\n",
      "Autoregression coeff 0.5\n",
      "8\n",
      "Stepsize 0.09999999680245637\n",
      "Autoregression coeff 0.5\n",
      "9\n",
      "Stepsize 0.09999999680245637\n",
      "Autoregression coeff 0.5\n"
     ]
    },
    {
     "name": "stderr",
     "output_type": "stream",
     "text": [
      " 35%|███▌      | 351/1000 [16:17<30:24,  2.81s/it]"
     ]
    },
    {
     "name": "stdout",
     "output_type": "stream",
     "text": [
      "elbo_full: -20.080371856689453\n",
      "tensor([[ 0.2706,  0.3742,  1.1707, -0.2799,  0.9573,  1.2182, -0.1875,  0.8363,\n",
      "          1.3155, -0.3273],\n",
      "        [ 0.4705, -2.3695,  0.7357,  0.8670,  0.1236,  0.8525,  1.5721, -1.8900,\n",
      "          0.6599,  2.5036]], device='cuda:0')\n",
      "0\n",
      "Stepsize 0.09999999680245637\n",
      "Autoregression coeff 0.5\n",
      "1\n",
      "Stepsize 0.09999999680245637\n",
      "Autoregression coeff 0.5\n",
      "2\n",
      "Stepsize 0.09999999680245637\n",
      "Autoregression coeff 0.5\n",
      "3\n",
      "Stepsize 0.09999999680245637\n",
      "Autoregression coeff 0.5\n",
      "4\n",
      "Stepsize 0.09999999680245637\n",
      "Autoregression coeff 0.5\n",
      "5\n",
      "Stepsize 0.09999999680245637\n",
      "Autoregression coeff 0.5\n",
      "6\n",
      "Stepsize 0.09999999680245637\n",
      "Autoregression coeff 0.5\n",
      "7\n",
      "Stepsize 0.09999999680245637\n",
      "Autoregression coeff 0.5\n",
      "8\n",
      "Stepsize 0.09999999680245637\n",
      "Autoregression coeff 0.5\n",
      "9\n",
      "Stepsize 0.09999999680245637\n",
      "Autoregression coeff 0.5\n"
     ]
    },
    {
     "name": "stderr",
     "output_type": "stream",
     "text": [
      " 40%|████      | 401/1000 [18:37<28:08,  2.82s/it]"
     ]
    },
    {
     "name": "stdout",
     "output_type": "stream",
     "text": [
      "elbo_full: -20.312490463256836\n",
      "tensor([[ 0.2824,  0.4177,  1.1877, -0.2586,  0.9789,  1.1948, -0.1977,  0.8530,\n",
      "          1.3505, -0.3276],\n",
      "        [ 0.4666, -2.4217,  0.7258,  0.8439,  0.1176,  0.8609,  1.5680, -1.9380,\n",
      "          0.6550,  2.5689]], device='cuda:0')\n",
      "0\n",
      "Stepsize 0.09999999680245637\n",
      "Autoregression coeff 0.5\n",
      "1\n",
      "Stepsize 0.09999999680245637\n",
      "Autoregression coeff 0.5\n",
      "2\n",
      "Stepsize 0.09999999680245637\n",
      "Autoregression coeff 0.5\n",
      "3\n",
      "Stepsize 0.09999999680245637\n",
      "Autoregression coeff 0.5\n",
      "4\n",
      "Stepsize 0.09999999680245637\n",
      "Autoregression coeff 0.5\n",
      "5\n",
      "Stepsize 0.09999999680245637\n",
      "Autoregression coeff 0.5\n",
      "6\n",
      "Stepsize 0.09999999680245637\n",
      "Autoregression coeff 0.5\n",
      "7\n",
      "Stepsize 0.09999999680245637\n",
      "Autoregression coeff 0.5\n",
      "8\n",
      "Stepsize 0.09999999680245637\n",
      "Autoregression coeff 0.5\n",
      "9\n",
      "Stepsize 0.09999999680245637\n",
      "Autoregression coeff 0.5\n"
     ]
    },
    {
     "name": "stderr",
     "output_type": "stream",
     "text": [
      " 45%|████▌     | 451/1000 [20:58<25:43,  2.81s/it]"
     ]
    },
    {
     "name": "stdout",
     "output_type": "stream",
     "text": [
      "elbo_full: -20.167299270629883\n",
      "tensor([[ 0.3098,  0.4338,  1.2467, -0.2621,  1.0268,  1.2244, -0.1936,  0.8860,\n",
      "          1.4159, -0.3556],\n",
      "        [ 0.5064, -2.5229,  0.7576,  0.8576,  0.1171,  0.8872,  1.5892, -1.9698,\n",
      "          0.6624,  2.6357]], device='cuda:0')\n",
      "0\n",
      "Stepsize 0.09999999680245637\n",
      "Autoregression coeff 0.5\n",
      "1\n",
      "Stepsize 0.09999999680245637\n",
      "Autoregression coeff 0.5\n",
      "2\n",
      "Stepsize 0.09999999680245637\n",
      "Autoregression coeff 0.5\n",
      "3\n",
      "Stepsize 0.09999999680245637\n",
      "Autoregression coeff 0.5\n",
      "4\n",
      "Stepsize 0.09999999680245637\n",
      "Autoregression coeff 0.5\n",
      "5\n",
      "Stepsize 0.09999999680245637\n",
      "Autoregression coeff 0.5\n",
      "6\n",
      "Stepsize 0.09999999680245637\n",
      "Autoregression coeff 0.5\n",
      "7\n",
      "Stepsize 0.09999999680245637\n",
      "Autoregression coeff 0.5\n",
      "8\n",
      "Stepsize 0.09999999680245637\n",
      "Autoregression coeff 0.5\n",
      "9\n",
      "Stepsize 0.09999999680245637\n",
      "Autoregression coeff 0.5\n"
     ]
    },
    {
     "name": "stderr",
     "output_type": "stream",
     "text": [
      " 50%|█████     | 501/1000 [23:19<23:27,  2.82s/it]"
     ]
    },
    {
     "name": "stdout",
     "output_type": "stream",
     "text": [
      "elbo_full: -19.979246139526367\n",
      "tensor([[ 0.2989,  0.3960,  1.2765, -0.2632,  0.9950,  1.2682, -0.1619,  0.9228,\n",
      "          1.4127, -0.3257],\n",
      "        [ 0.4844, -2.5951,  0.7384,  0.8327,  0.1372,  0.8932,  1.5708, -2.0167,\n",
      "          0.6831,  2.7006]], device='cuda:0')\n",
      "0\n",
      "Stepsize 0.09999999680245637\n",
      "Autoregression coeff 0.5\n",
      "1\n",
      "Stepsize 0.09999999680245637\n",
      "Autoregression coeff 0.5\n",
      "2\n",
      "Stepsize 0.09999999680245637\n",
      "Autoregression coeff 0.5\n",
      "3\n",
      "Stepsize 0.09999999680245637\n",
      "Autoregression coeff 0.5\n",
      "4\n",
      "Stepsize 0.09999999680245637\n",
      "Autoregression coeff 0.5\n",
      "5\n",
      "Stepsize 0.09999999680245637\n",
      "Autoregression coeff 0.5\n",
      "6\n",
      "Stepsize 0.09999999680245637\n",
      "Autoregression coeff 0.5\n",
      "7\n",
      "Stepsize 0.09999999680245637\n",
      "Autoregression coeff 0.5\n",
      "8\n",
      "Stepsize 0.09999999680245637\n",
      "Autoregression coeff 0.5\n",
      "9\n",
      "Stepsize 0.09999999680245637\n",
      "Autoregression coeff 0.5\n"
     ]
    },
    {
     "name": "stderr",
     "output_type": "stream",
     "text": [
      " 55%|█████▌    | 551/1000 [25:39<21:08,  2.82s/it]"
     ]
    },
    {
     "name": "stdout",
     "output_type": "stream",
     "text": [
      "elbo_full: -20.30231285095215\n",
      "tensor([[ 0.3104,  0.4680,  1.2144, -0.2429,  1.0093,  1.2779, -0.1808,  0.9504,\n",
      "          1.4347, -0.3409],\n",
      "        [ 0.4134, -2.6004,  0.7421,  0.8625,  0.1022,  0.8423,  1.5753, -2.0661,\n",
      "          0.6444,  2.7257]], device='cuda:0')\n",
      "0\n",
      "Stepsize 0.09999999680245637\n",
      "Autoregression coeff 0.5\n",
      "1\n",
      "Stepsize 0.09999999680245637\n",
      "Autoregression coeff 0.5\n",
      "2\n",
      "Stepsize 0.09999999680245637\n",
      "Autoregression coeff 0.5\n",
      "3\n",
      "Stepsize 0.09999999680245637\n",
      "Autoregression coeff 0.5\n",
      "4\n",
      "Stepsize 0.09999999680245637\n",
      "Autoregression coeff 0.5\n",
      "5\n",
      "Stepsize 0.09999999680245637\n",
      "Autoregression coeff 0.5\n",
      "6\n",
      "Stepsize 0.09999999680245637\n",
      "Autoregression coeff 0.5\n",
      "7\n",
      "Stepsize 0.09999999680245637\n",
      "Autoregression coeff 0.5\n",
      "8\n",
      "Stepsize 0.09999999680245637\n",
      "Autoregression coeff 0.5\n",
      "9\n",
      "Stepsize 0.09999999680245637\n",
      "Autoregression coeff 0.5\n"
     ]
    },
    {
     "name": "stderr",
     "output_type": "stream",
     "text": [
      " 60%|██████    | 601/1000 [28:00<18:33,  2.79s/it]"
     ]
    },
    {
     "name": "stdout",
     "output_type": "stream",
     "text": [
      "elbo_full: -20.235511779785156\n",
      "tensor([[ 0.2908,  0.5118,  1.2315, -0.2577,  1.0245,  1.2941, -0.1959,  0.9439,\n",
      "          1.4616, -0.3443],\n",
      "        [ 0.4561, -2.6376,  0.7147,  0.8042,  0.0849,  0.8689,  1.6019, -2.1013,\n",
      "          0.6851,  2.8003]], device='cuda:0')\n",
      "0\n",
      "Stepsize 0.09999999680245637\n",
      "Autoregression coeff 0.5\n",
      "1\n",
      "Stepsize 0.09999999680245637\n",
      "Autoregression coeff 0.5\n",
      "2\n",
      "Stepsize 0.09999999680245637\n",
      "Autoregression coeff 0.5\n",
      "3\n",
      "Stepsize 0.09999999680245637\n",
      "Autoregression coeff 0.5\n",
      "4\n",
      "Stepsize 0.09999999680245637\n",
      "Autoregression coeff 0.5\n",
      "5\n",
      "Stepsize 0.09999999680245637\n",
      "Autoregression coeff 0.5\n",
      "6\n",
      "Stepsize 0.09999999680245637\n",
      "Autoregression coeff 0.5\n",
      "7\n",
      "Stepsize 0.09999999680245637\n",
      "Autoregression coeff 0.5\n",
      "8\n",
      "Stepsize 0.09999999680245637\n",
      "Autoregression coeff 0.5\n",
      "9\n",
      "Stepsize 0.09999999680245637\n",
      "Autoregression coeff 0.5\n"
     ]
    },
    {
     "name": "stderr",
     "output_type": "stream",
     "text": [
      " 65%|██████▌   | 651/1000 [30:20<16:23,  2.82s/it]"
     ]
    },
    {
     "name": "stdout",
     "output_type": "stream",
     "text": [
      "elbo_full: -20.204103469848633\n",
      "tensor([[ 0.2600,  0.4586,  1.2087, -0.2514,  0.9483,  1.2656, -0.1657,  0.9508,\n",
      "          1.4370, -0.3569],\n",
      "        [ 0.4468, -2.6987,  0.7599,  0.8610,  0.0940,  0.9095,  1.6530, -2.1731,\n",
      "          0.6903,  2.8769]], device='cuda:0')\n",
      "0\n",
      "Stepsize 0.09999999680245637\n",
      "Autoregression coeff 0.5\n",
      "1\n",
      "Stepsize 0.09999999680245637\n",
      "Autoregression coeff 0.5\n",
      "2\n",
      "Stepsize 0.09999999680245637\n",
      "Autoregression coeff 0.5\n",
      "3\n",
      "Stepsize 0.09999999680245637\n",
      "Autoregression coeff 0.5\n",
      "4\n",
      "Stepsize 0.09999999680245637\n",
      "Autoregression coeff 0.5\n",
      "5\n",
      "Stepsize 0.09999999680245637\n",
      "Autoregression coeff 0.5\n",
      "6\n",
      "Stepsize 0.09999999680245637\n",
      "Autoregression coeff 0.5\n",
      "7\n",
      "Stepsize 0.09999999680245637\n",
      "Autoregression coeff 0.5\n",
      "8\n",
      "Stepsize 0.09999999680245637\n",
      "Autoregression coeff 0.5\n",
      "9\n",
      "Stepsize 0.09999999680245637\n",
      "Autoregression coeff 0.5\n"
     ]
    },
    {
     "name": "stderr",
     "output_type": "stream",
     "text": [
      " 70%|███████   | 701/1000 [32:41<14:06,  2.83s/it]"
     ]
    },
    {
     "name": "stdout",
     "output_type": "stream",
     "text": [
      "elbo_full: -19.960926055908203\n",
      "tensor([[ 0.2699,  0.4517,  1.2386, -0.2310,  0.9813,  1.2792, -0.1397,  0.9357,\n",
      "          1.4383, -0.3116],\n",
      "        [ 0.4199, -2.6938,  0.7869,  0.8604,  0.1255,  0.9427,  1.6803, -2.1709,\n",
      "          0.7369,  2.8844]], device='cuda:0')\n",
      "0\n",
      "Stepsize 0.09999999680245637\n",
      "Autoregression coeff 0.5\n",
      "1\n",
      "Stepsize 0.09999999680245637\n",
      "Autoregression coeff 0.5\n",
      "2\n",
      "Stepsize 0.09999999680245637\n",
      "Autoregression coeff 0.5\n",
      "3\n",
      "Stepsize 0.09999999680245637\n",
      "Autoregression coeff 0.5\n",
      "4\n",
      "Stepsize 0.09999999680245637\n",
      "Autoregression coeff 0.5\n",
      "5\n",
      "Stepsize 0.09999999680245637\n",
      "Autoregression coeff 0.5\n",
      "6\n",
      "Stepsize 0.09999999680245637\n",
      "Autoregression coeff 0.5\n",
      "7\n",
      "Stepsize 0.09999999680245637\n",
      "Autoregression coeff 0.5\n",
      "8\n",
      "Stepsize 0.09999999680245637\n",
      "Autoregression coeff 0.5\n",
      "9\n",
      "Stepsize 0.09999999680245637\n",
      "Autoregression coeff 0.5\n"
     ]
    },
    {
     "name": "stderr",
     "output_type": "stream",
     "text": [
      " 75%|███████▌  | 751/1000 [35:00<11:41,  2.82s/it]"
     ]
    },
    {
     "name": "stdout",
     "output_type": "stream",
     "text": [
      "elbo_full: -20.021310806274414\n",
      "tensor([[ 0.2853,  0.4633,  1.2498, -0.2614,  0.9996,  1.2942, -0.1662,  0.9359,\n",
      "          1.4743, -0.3540],\n",
      "        [ 0.4655, -2.7854,  0.7528,  0.8872,  0.1133,  0.9590,  1.6482, -2.1840,\n",
      "          0.7393,  2.9542]], device='cuda:0')\n",
      "0\n",
      "Stepsize 0.09999999680245637\n",
      "Autoregression coeff 0.5\n",
      "1\n",
      "Stepsize 0.09999999680245637\n",
      "Autoregression coeff 0.5\n",
      "2\n",
      "Stepsize 0.09999999680245637\n",
      "Autoregression coeff 0.5\n",
      "3\n",
      "Stepsize 0.09999999680245637\n",
      "Autoregression coeff 0.5\n",
      "4\n",
      "Stepsize 0.09999999680245637\n",
      "Autoregression coeff 0.5\n",
      "5\n",
      "Stepsize 0.09999999680245637\n",
      "Autoregression coeff 0.5\n",
      "6\n",
      "Stepsize 0.09999999680245637\n",
      "Autoregression coeff 0.5\n",
      "7\n",
      "Stepsize 0.09999999680245637\n",
      "Autoregression coeff 0.5\n",
      "8\n",
      "Stepsize 0.09999999680245637\n",
      "Autoregression coeff 0.5\n",
      "9\n",
      "Stepsize 0.09999999680245637\n",
      "Autoregression coeff 0.5\n"
     ]
    },
    {
     "name": "stderr",
     "output_type": "stream",
     "text": [
      " 80%|████████  | 801/1000 [37:21<09:21,  2.82s/it]"
     ]
    },
    {
     "name": "stdout",
     "output_type": "stream",
     "text": [
      "elbo_full: -20.214801788330078\n",
      "tensor([[ 0.2798,  0.4527,  1.2506, -0.2159,  0.9895,  1.3246, -0.1515,  0.9611,\n",
      "          1.4674, -0.3558],\n",
      "        [ 0.5037, -2.8306,  0.8132,  0.8723,  0.1462,  0.9205,  1.6405, -2.2335,\n",
      "          0.7526,  3.0174]], device='cuda:0')\n",
      "0\n",
      "Stepsize 0.09999999680245637\n",
      "Autoregression coeff 0.5\n",
      "1\n",
      "Stepsize 0.09999999680245637\n",
      "Autoregression coeff 0.5\n",
      "2\n",
      "Stepsize 0.09999999680245637\n",
      "Autoregression coeff 0.5\n",
      "3\n",
      "Stepsize 0.09999999680245637\n",
      "Autoregression coeff 0.5\n",
      "4\n",
      "Stepsize 0.09999999680245637\n",
      "Autoregression coeff 0.5\n",
      "5\n",
      "Stepsize 0.09999999680245637\n",
      "Autoregression coeff 0.5\n",
      "6\n",
      "Stepsize 0.09999999680245637\n",
      "Autoregression coeff 0.5\n",
      "7\n",
      "Stepsize 0.09999999680245637\n",
      "Autoregression coeff 0.5\n",
      "8\n",
      "Stepsize 0.09999999680245637\n",
      "Autoregression coeff 0.5\n",
      "9\n",
      "Stepsize 0.09999999680245637\n",
      "Autoregression coeff 0.5\n"
     ]
    },
    {
     "name": "stderr",
     "output_type": "stream",
     "text": [
      " 85%|████████▌ | 851/1000 [39:42<06:54,  2.78s/it]"
     ]
    },
    {
     "name": "stdout",
     "output_type": "stream",
     "text": [
      "elbo_full: -20.061695098876953\n",
      "tensor([[ 0.2623,  0.4432,  1.2553, -0.2271,  0.9984,  1.3391, -0.1548,  0.9643,\n",
      "          1.4807, -0.3353],\n",
      "        [ 0.5200, -2.8925,  0.8366,  0.8936,  0.1296,  0.9586,  1.6942, -2.3212,\n",
      "          0.7420,  2.9929]], device='cuda:0')\n",
      "0\n",
      "Stepsize 0.09999999680245637\n",
      "Autoregression coeff 0.5\n",
      "1\n",
      "Stepsize 0.09999999680245637\n",
      "Autoregression coeff 0.5\n",
      "2\n",
      "Stepsize 0.09999999680245637\n",
      "Autoregression coeff 0.5\n",
      "3\n",
      "Stepsize 0.09999999680245637\n",
      "Autoregression coeff 0.5\n",
      "4\n",
      "Stepsize 0.09999999680245637\n",
      "Autoregression coeff 0.5\n",
      "5\n",
      "Stepsize 0.09999999680245637\n",
      "Autoregression coeff 0.5\n",
      "6\n",
      "Stepsize 0.09999999680245637\n",
      "Autoregression coeff 0.5\n",
      "7\n",
      "Stepsize 0.09999999680245637\n",
      "Autoregression coeff 0.5\n",
      "8\n",
      "Stepsize 0.09999999680245637\n",
      "Autoregression coeff 0.5\n",
      "9\n",
      "Stepsize 0.09999999680245637\n",
      "Autoregression coeff 0.5\n"
     ]
    },
    {
     "name": "stderr",
     "output_type": "stream",
     "text": [
      " 90%|█████████ | 901/1000 [42:03<04:41,  2.84s/it]"
     ]
    },
    {
     "name": "stdout",
     "output_type": "stream",
     "text": [
      "elbo_full: -19.995580673217773\n",
      "tensor([[ 0.2854,  0.4599,  1.2031, -0.2462,  0.9607,  1.2941, -0.1566,  0.9643,\n",
      "          1.4784, -0.3061],\n",
      "        [ 0.4660, -2.9482,  0.8322,  0.9294,  0.0947,  1.0019,  1.7005, -2.3603,\n",
      "          0.7040,  3.1230]], device='cuda:0')\n",
      "0\n",
      "Stepsize 0.09999999680245637\n",
      "Autoregression coeff 0.5\n",
      "1\n",
      "Stepsize 0.09999999680245637\n",
      "Autoregression coeff 0.5\n",
      "2\n",
      "Stepsize 0.09999999680245637\n",
      "Autoregression coeff 0.5\n",
      "3\n",
      "Stepsize 0.09999999680245637\n",
      "Autoregression coeff 0.5\n",
      "4\n",
      "Stepsize 0.09999999680245637\n",
      "Autoregression coeff 0.5\n",
      "5\n",
      "Stepsize 0.09999999680245637\n",
      "Autoregression coeff 0.5\n",
      "6\n",
      "Stepsize 0.09999999680245637\n",
      "Autoregression coeff 0.5\n",
      "7\n",
      "Stepsize 0.09999999680245637\n",
      "Autoregression coeff 0.5\n",
      "8\n",
      "Stepsize 0.09999999680245637\n",
      "Autoregression coeff 0.5\n",
      "9\n",
      "Stepsize 0.09999999680245637\n",
      "Autoregression coeff 0.5\n"
     ]
    },
    {
     "name": "stderr",
     "output_type": "stream",
     "text": [
      " 95%|█████████▌| 951/1000 [44:23<02:15,  2.77s/it]"
     ]
    },
    {
     "name": "stdout",
     "output_type": "stream",
     "text": [
      "elbo_full: -19.836994171142578\n",
      "tensor([[ 0.2961,  0.4306,  1.2015, -0.2132,  0.9478,  1.2465, -0.1331,  0.9524,\n",
      "          1.4619, -0.3264],\n",
      "        [ 0.4920, -3.0505,  0.7652,  0.9188,  0.1132,  0.9237,  1.7975, -2.4038,\n",
      "          0.7397,  3.2247]], device='cuda:0')\n",
      "0\n",
      "Stepsize 0.09999999680245637\n",
      "Autoregression coeff 0.5\n",
      "1\n",
      "Stepsize 0.09999999680245637\n",
      "Autoregression coeff 0.5\n",
      "2\n",
      "Stepsize 0.09999999680245637\n",
      "Autoregression coeff 0.5\n",
      "3\n",
      "Stepsize 0.09999999680245637\n",
      "Autoregression coeff 0.5\n",
      "4\n",
      "Stepsize 0.09999999680245637\n",
      "Autoregression coeff 0.5\n",
      "5\n",
      "Stepsize 0.09999999680245637\n",
      "Autoregression coeff 0.5\n",
      "6\n",
      "Stepsize 0.09999999680245637\n",
      "Autoregression coeff 0.5\n",
      "7\n",
      "Stepsize 0.09999999680245637\n",
      "Autoregression coeff 0.5\n",
      "8\n",
      "Stepsize 0.09999999680245637\n",
      "Autoregression coeff 0.5\n",
      "9\n",
      "Stepsize 0.09999999680245637\n",
      "Autoregression coeff 0.5\n"
     ]
    },
    {
     "name": "stderr",
     "output_type": "stream",
     "text": [
      "100%|██████████| 1000/1000 [46:39<00:00,  2.80s/it]\n"
     ]
    }
   ],
   "source": [
    "encoder, target_ourhmc = run_training_our_var(args=args, enc=Encoder_vae, dec=Decoder, transition_kernel=HMC_our, reverse=Reverse_kernel, dataloader=dataloader)"
   ]
  },
  {
   "cell_type": "code",
   "execution_count": 37,
   "metadata": {},
   "outputs": [
    {
     "name": "stdout",
     "output_type": "stream",
     "text": [
      "reconstructed probs tensor([[0.5051, 0.7709, 0.6329, 0.3996, 0.6454, 0.6320, 0.3487, 0.7913, 0.6714,\n",
      "         0.2341],\n",
      "        [0.5306, 0.7857, 0.7209, 0.3871, 0.7155, 0.7269, 0.3457, 0.8318, 0.7701,\n",
      "         0.2270],\n",
      "        [0.5645, 0.1760, 0.5856, 0.6110, 0.5094, 0.6104, 0.7076, 0.2299, 0.5870,\n",
      "         0.8362],\n",
      "        [0.3861, 0.9326, 0.3389, 0.3180, 0.4686, 0.2991, 0.1808, 0.8828, 0.3328,\n",
      "         0.0582],\n",
      "        [0.6628, 0.0135, 0.6890, 0.7799, 0.4944, 0.7440, 0.9200, 0.0312, 0.6849,\n",
      "         0.9891],\n",
      "        [0.7206, 0.0605, 0.9154, 0.6657, 0.8064, 0.9389, 0.8483, 0.2108, 0.9410,\n",
      "         0.9571],\n",
      "        [0.2975, 0.9739, 0.1516, 0.2690, 0.3121, 0.1140, 0.1044, 0.9173, 0.1267,\n",
      "         0.0193],\n",
      "        [0.6168, 0.1048, 0.7109, 0.6457, 0.5927, 0.7470, 0.7796, 0.1851, 0.7306,\n",
      "         0.9101],\n",
      "        [0.3428, 0.9555, 0.2352, 0.2963, 0.3885, 0.1930, 0.1422, 0.8976, 0.2149,\n",
      "         0.0357],\n",
      "        [0.4449, 0.6323, 0.3557, 0.4680, 0.4069, 0.3374, 0.4132, 0.5506, 0.3325,\n",
      "         0.3479]], device='cuda:0')\n",
      "true probs tensor([[0.4811, 0.8174, 0.5814, 0.3771, 0.6138, 0.5701, 0.3140, 0.8190, 0.6149,\n",
      "         0.1783],\n",
      "        [0.4551, 0.9160, 0.5638, 0.3141, 0.6322, 0.5401, 0.2197, 0.9079, 0.6066,\n",
      "         0.0789],\n",
      "        [0.4541, 0.5800, 0.3346, 0.4866, 0.3870, 0.3185, 0.4432, 0.4974, 0.3123,\n",
      "         0.4033],\n",
      "        [0.5830, 0.3271, 0.7669, 0.5361, 0.6840, 0.7901, 0.6185, 0.4675, 0.7955,\n",
      "         0.7000],\n",
      "        [0.3852, 0.6324, 0.1337, 0.4902, 0.2144, 0.1140, 0.3917, 0.4178, 0.1031,\n",
      "         0.3278],\n",
      "        [0.3090, 0.9875, 0.1569, 0.2187, 0.3551, 0.1156, 0.0768, 0.9620, 0.1503,\n",
      "         0.0093],\n",
      "        [0.6634, 0.0621, 0.8640, 0.6756, 0.7239, 0.8943, 0.8333, 0.1607, 0.8829,\n",
      "         0.9512],\n",
      "        [0.4087, 0.7940, 0.2565, 0.4123, 0.3575, 0.2281, 0.3076, 0.6808, 0.2360,\n",
      "         0.1842],\n",
      "        [0.6222, 0.1547, 0.8167, 0.6070, 0.7010, 0.8457, 0.7376, 0.2921, 0.8402,\n",
      "         0.8683],\n",
      "        [0.5479, 0.2446, 0.5901, 0.5827, 0.5256, 0.6106, 0.6540, 0.2962, 0.5904,\n",
      "         0.7686]], device='cuda:0')\n"
     ]
    }
   ],
   "source": [
    "for p in target_ourhmc.parameters():\n",
    "    p.requires_grad_(False)\n",
    "u = std_normal.sample((10, z_dim))\n",
    "\n",
    "print('reconstructed probs', torch.sigmoid(target_ourhmc.decoder(u)))\n",
    "print('true probs', torch.sigmoid(u @ true_theta))"
   ]
  },
  {
   "cell_type": "code",
   "execution_count": 38,
   "metadata": {},
   "outputs": [
    {
     "data": {
      "text/plain": [
       "tensor([[ 0.2814,  0.4360,  1.1918, -0.2102,  0.9816,  1.2843, -0.1394,  0.9455,\n",
       "          1.4654, -0.3080],\n",
       "        [ 0.5311, -3.1191,  0.7228,  0.9104,  0.0949,  0.9337,  1.7874, -2.4307,\n",
       "          0.7397,  3.2968]], device='cuda:0')"
      ]
     },
     "execution_count": 38,
     "metadata": {},
     "output_type": "execute_result"
    }
   ],
   "source": [
    "target_ourhmc.decoder.W.weight.detach().T"
   ]
  },
  {
   "cell_type": "code",
   "execution_count": 39,
   "metadata": {},
   "outputs": [
    {
     "data": {
      "text/plain": [
       "tensor([[-0.2963,  2.6764, -0.1408, -0.8441,  0.2905, -0.2838, -1.4535,  2.3737,\n",
       "         -0.0177, -2.7884],\n",
       "        [-0.3788,  0.7046, -1.3956, -0.1248, -0.9259, -1.5463, -0.4902,  0.0244,\n",
       "         -1.5992, -0.8469]], device='cuda:0')"
      ]
     },
     "execution_count": 39,
     "metadata": {},
     "output_type": "execute_result"
    }
   ],
   "source": [
    "true_theta"
   ]
  },
  {
   "cell_type": "markdown",
   "metadata": {},
   "source": [
    "### Hoffman's VAE"
   ]
  },
  {
   "cell_type": "code",
   "execution_count": 40,
   "metadata": {},
   "outputs": [],
   "source": [
    "class Target():\n",
    "    def __init__(self,):\n",
    "        pass\n",
    "    def get_logdensity(self, z, x, prior=None, args=None, prior_flow=None):\n",
    "        probs = torch.sigmoid(dec_hoff(z))\n",
    "        return torch.distributions.Bernoulli(probs=probs).log_prob(x).sum(1) + std_normal.log_prob(z).sum(1)\n",
    "target = Target()"
   ]
  },
  {
   "cell_type": "code",
   "execution_count": 41,
   "metadata": {},
   "outputs": [],
   "source": [
    "num_epoches = 5000\n",
    "batch_size = 200\n",
    "print_info_ = 500\n",
    "\n",
    "dataloader = torch.utils.data.DataLoader(data, batch_size=batch_size, shuffle=True)"
   ]
  },
  {
   "cell_type": "code",
   "execution_count": 42,
   "metadata": {},
   "outputs": [],
   "source": [
    "enc_hoff = Encoder_vae(data_dim=data_dim, z_dim=z_dim).to(device)\n",
    "dec_hoff = Decoder(data_dim=data_dim, z_dim=z_dim).to(device)"
   ]
  },
  {
   "cell_type": "code",
   "execution_count": 43,
   "metadata": {},
   "outputs": [],
   "source": [
    "optimizer_phi = torch.optim.Adam(params=enc_hoff.parameters())\n",
    "optimizer_theta = torch.optim.Adam(params=dec_hoff.parameters())\n",
    "\n",
    "steps = 10\n",
    "hoffman_other = True\n",
    "transitions = HMC_vanilla(args).to(device)"
   ]
  },
  {
   "cell_type": "code",
   "execution_count": 44,
   "metadata": {},
   "outputs": [
    {
     "name": "stderr",
     "output_type": "stream",
     "text": [
      "  0%|          | 1/5000 [00:02<3:29:44,  2.52s/it]"
     ]
    },
    {
     "name": "stdout",
     "output_type": "stream",
     "text": [
      "log-likelihood:  -0.7024872\n",
      "elbo classical:  -7.2205057\n",
      "KL divergence:  0.17233475\n"
     ]
    },
    {
     "name": "stderr",
     "output_type": "stream",
     "text": [
      "  1%|          | 51/5000 [02:07<3:30:32,  2.55s/it]"
     ]
    },
    {
     "name": "stdout",
     "output_type": "stream",
     "text": [
      "log-likelihood:  -0.5239901\n",
      "elbo classical:  -6.218973\n",
      "KL divergence:  1.0270793\n"
     ]
    },
    {
     "name": "stderr",
     "output_type": "stream",
     "text": [
      "  2%|▏         | 101/5000 [04:15<3:28:22,  2.55s/it]"
     ]
    },
    {
     "name": "stdout",
     "output_type": "stream",
     "text": [
      "log-likelihood:  -0.5192222\n",
      "elbo classical:  -6.094963\n",
      "KL divergence:  1.0573604\n"
     ]
    },
    {
     "name": "stderr",
     "output_type": "stream",
     "text": [
      "  3%|▎         | 151/5000 [06:21<3:25:55,  2.55s/it]"
     ]
    },
    {
     "name": "stdout",
     "output_type": "stream",
     "text": [
      "log-likelihood:  -0.5132626\n",
      "elbo classical:  -6.106284\n",
      "KL divergence:  1.1454543\n"
     ]
    },
    {
     "name": "stderr",
     "output_type": "stream",
     "text": [
      "  4%|▍         | 201/5000 [08:28<3:24:42,  2.56s/it]"
     ]
    },
    {
     "name": "stdout",
     "output_type": "stream",
     "text": [
      "log-likelihood:  -0.5395323\n",
      "elbo classical:  -6.4432425\n",
      "KL divergence:  1.0393109\n"
     ]
    },
    {
     "name": "stderr",
     "output_type": "stream",
     "text": [
      "  5%|▌         | 251/5000 [10:35<3:20:26,  2.53s/it]"
     ]
    },
    {
     "name": "stdout",
     "output_type": "stream",
     "text": [
      "log-likelihood:  -0.5180324\n",
      "elbo classical:  -6.411122\n",
      "KL divergence:  1.1185861\n"
     ]
    },
    {
     "name": "stderr",
     "output_type": "stream",
     "text": [
      "  6%|▌         | 301/5000 [12:42<3:19:53,  2.55s/it]"
     ]
    },
    {
     "name": "stdout",
     "output_type": "stream",
     "text": [
      "log-likelihood:  -0.5123225\n",
      "elbo classical:  -6.30317\n",
      "KL divergence:  1.1034733\n"
     ]
    },
    {
     "name": "stderr",
     "output_type": "stream",
     "text": [
      "  7%|▋         | 351/5000 [14:49<3:17:51,  2.55s/it]"
     ]
    },
    {
     "name": "stdout",
     "output_type": "stream",
     "text": [
      "log-likelihood:  -0.52567\n",
      "elbo classical:  -6.38162\n",
      "KL divergence:  1.0727813\n"
     ]
    },
    {
     "name": "stderr",
     "output_type": "stream",
     "text": [
      "  8%|▊         | 401/5000 [16:57<3:15:36,  2.55s/it]"
     ]
    },
    {
     "name": "stdout",
     "output_type": "stream",
     "text": [
      "log-likelihood:  -0.53441715\n",
      "elbo classical:  -5.81385\n",
      "KL divergence:  1.0837123\n"
     ]
    },
    {
     "name": "stderr",
     "output_type": "stream",
     "text": [
      "  9%|▉         | 451/5000 [19:02<3:07:44,  2.48s/it]"
     ]
    },
    {
     "name": "stdout",
     "output_type": "stream",
     "text": [
      "log-likelihood:  -0.5160495\n",
      "elbo classical:  -6.446067\n",
      "KL divergence:  1.0441612\n"
     ]
    },
    {
     "name": "stderr",
     "output_type": "stream",
     "text": [
      " 10%|█         | 501/5000 [21:09<3:12:01,  2.56s/it]"
     ]
    },
    {
     "name": "stdout",
     "output_type": "stream",
     "text": [
      "log-likelihood:  -0.5138411\n",
      "elbo classical:  -6.316494\n",
      "KL divergence:  1.0732554\n"
     ]
    },
    {
     "name": "stderr",
     "output_type": "stream",
     "text": [
      " 11%|█         | 551/5000 [23:17<3:08:07,  2.54s/it]"
     ]
    },
    {
     "name": "stdout",
     "output_type": "stream",
     "text": [
      "log-likelihood:  -0.5406844\n",
      "elbo classical:  -6.3988943\n",
      "KL divergence:  1.0495421\n"
     ]
    },
    {
     "name": "stderr",
     "output_type": "stream",
     "text": [
      " 12%|█▏        | 601/5000 [25:23<3:05:32,  2.53s/it]"
     ]
    },
    {
     "name": "stdout",
     "output_type": "stream",
     "text": [
      "log-likelihood:  -0.52472657\n",
      "elbo classical:  -6.5227923\n",
      "KL divergence:  1.0387852\n"
     ]
    },
    {
     "name": "stderr",
     "output_type": "stream",
     "text": [
      " 13%|█▎        | 651/5000 [27:27<3:05:08,  2.55s/it]"
     ]
    },
    {
     "name": "stdout",
     "output_type": "stream",
     "text": [
      "log-likelihood:  -0.5252758\n",
      "elbo classical:  -6.639723\n",
      "KL divergence:  1.0986668\n"
     ]
    },
    {
     "name": "stderr",
     "output_type": "stream",
     "text": [
      " 14%|█▍        | 701/5000 [29:30<3:01:39,  2.54s/it]"
     ]
    },
    {
     "name": "stdout",
     "output_type": "stream",
     "text": [
      "log-likelihood:  -0.5330316\n",
      "elbo classical:  -6.3794475\n",
      "KL divergence:  1.0673056\n"
     ]
    },
    {
     "name": "stderr",
     "output_type": "stream",
     "text": [
      " 15%|█▌        | 751/5000 [31:37<2:59:29,  2.53s/it]"
     ]
    },
    {
     "name": "stdout",
     "output_type": "stream",
     "text": [
      "log-likelihood:  -0.5127\n",
      "elbo classical:  -6.426151\n",
      "KL divergence:  1.0852503\n"
     ]
    },
    {
     "name": "stderr",
     "output_type": "stream",
     "text": [
      " 16%|█▌        | 801/5000 [33:43<2:54:30,  2.49s/it]"
     ]
    },
    {
     "name": "stdout",
     "output_type": "stream",
     "text": [
      "log-likelihood:  -0.5049685\n",
      "elbo classical:  -6.32146\n",
      "KL divergence:  1.1013858\n"
     ]
    },
    {
     "name": "stderr",
     "output_type": "stream",
     "text": [
      " 17%|█▋        | 851/5000 [35:50<2:55:34,  2.54s/it]"
     ]
    },
    {
     "name": "stdout",
     "output_type": "stream",
     "text": [
      "log-likelihood:  -0.50799423\n",
      "elbo classical:  -6.380599\n",
      "KL divergence:  1.081935\n"
     ]
    },
    {
     "name": "stderr",
     "output_type": "stream",
     "text": [
      " 18%|█▊        | 901/5000 [37:56<2:54:02,  2.55s/it]"
     ]
    },
    {
     "name": "stdout",
     "output_type": "stream",
     "text": [
      "log-likelihood:  -0.51859444\n",
      "elbo classical:  -6.032728\n",
      "KL divergence:  1.0662633\n"
     ]
    },
    {
     "name": "stderr",
     "output_type": "stream",
     "text": [
      " 19%|█▉        | 951/5000 [40:03<2:51:31,  2.54s/it]"
     ]
    },
    {
     "name": "stdout",
     "output_type": "stream",
     "text": [
      "log-likelihood:  -0.51805484\n",
      "elbo classical:  -6.499889\n",
      "KL divergence:  1.0597209\n"
     ]
    },
    {
     "name": "stderr",
     "output_type": "stream",
     "text": [
      " 20%|██        | 1001/5000 [42:10<2:47:33,  2.51s/it]"
     ]
    },
    {
     "name": "stdout",
     "output_type": "stream",
     "text": [
      "log-likelihood:  -0.5281313\n",
      "elbo classical:  -6.2139482\n",
      "KL divergence:  1.0834259\n"
     ]
    },
    {
     "name": "stderr",
     "output_type": "stream",
     "text": [
      " 21%|██        | 1051/5000 [44:13<2:42:54,  2.48s/it]"
     ]
    },
    {
     "name": "stdout",
     "output_type": "stream",
     "text": [
      "log-likelihood:  -0.5316891\n",
      "elbo classical:  -6.4097056\n",
      "KL divergence:  1.0509646\n"
     ]
    },
    {
     "name": "stderr",
     "output_type": "stream",
     "text": [
      " 22%|██▏       | 1101/5000 [46:19<2:45:47,  2.55s/it]"
     ]
    },
    {
     "name": "stdout",
     "output_type": "stream",
     "text": [
      "log-likelihood:  -0.51273435\n",
      "elbo classical:  -6.2207956\n",
      "KL divergence:  1.1122713\n"
     ]
    },
    {
     "name": "stderr",
     "output_type": "stream",
     "text": [
      " 23%|██▎       | 1151/5000 [48:26<2:42:02,  2.53s/it]"
     ]
    },
    {
     "name": "stdout",
     "output_type": "stream",
     "text": [
      "log-likelihood:  -0.51959723\n",
      "elbo classical:  -6.15619\n",
      "KL divergence:  1.0828873\n"
     ]
    },
    {
     "name": "stderr",
     "output_type": "stream",
     "text": [
      " 24%|██▍       | 1201/5000 [50:32<2:39:39,  2.52s/it]"
     ]
    },
    {
     "name": "stdout",
     "output_type": "stream",
     "text": [
      "log-likelihood:  -0.5287033\n",
      "elbo classical:  -6.751604\n",
      "KL divergence:  1.0525128\n"
     ]
    },
    {
     "name": "stderr",
     "output_type": "stream",
     "text": [
      " 25%|██▌       | 1251/5000 [52:39<2:39:08,  2.55s/it]"
     ]
    },
    {
     "name": "stdout",
     "output_type": "stream",
     "text": [
      "log-likelihood:  -0.5359832\n",
      "elbo classical:  -6.363498\n",
      "KL divergence:  1.0470376\n"
     ]
    },
    {
     "name": "stderr",
     "output_type": "stream",
     "text": [
      " 26%|██▌       | 1301/5000 [54:46<2:38:10,  2.57s/it]"
     ]
    },
    {
     "name": "stdout",
     "output_type": "stream",
     "text": [
      "log-likelihood:  -0.5138058\n",
      "elbo classical:  -6.0454235\n",
      "KL divergence:  1.1219662\n"
     ]
    },
    {
     "name": "stderr",
     "output_type": "stream",
     "text": [
      " 27%|██▋       | 1351/5000 [56:53<2:35:53,  2.56s/it]"
     ]
    },
    {
     "name": "stdout",
     "output_type": "stream",
     "text": [
      "log-likelihood:  -0.5287472\n",
      "elbo classical:  -6.405742\n",
      "KL divergence:  1.0809541\n"
     ]
    },
    {
     "name": "stderr",
     "output_type": "stream",
     "text": [
      " 28%|██▊       | 1401/5000 [58:59<2:30:36,  2.51s/it]"
     ]
    },
    {
     "name": "stdout",
     "output_type": "stream",
     "text": [
      "log-likelihood:  -0.49831143\n",
      "elbo classical:  -6.153744\n",
      "KL divergence:  1.0954949\n"
     ]
    },
    {
     "name": "stderr",
     "output_type": "stream",
     "text": [
      " 29%|██▉       | 1451/5000 [1:01:05<2:29:25,  2.53s/it]"
     ]
    },
    {
     "name": "stdout",
     "output_type": "stream",
     "text": [
      "log-likelihood:  -0.53010494\n",
      "elbo classical:  -6.559738\n",
      "KL divergence:  1.0593222\n"
     ]
    },
    {
     "name": "stderr",
     "output_type": "stream",
     "text": [
      " 30%|███       | 1501/5000 [1:03:12<2:26:02,  2.50s/it]"
     ]
    },
    {
     "name": "stdout",
     "output_type": "stream",
     "text": [
      "log-likelihood:  -0.50769114\n",
      "elbo classical:  -6.5629272\n",
      "KL divergence:  1.0894338\n"
     ]
    },
    {
     "name": "stderr",
     "output_type": "stream",
     "text": [
      " 31%|███       | 1551/5000 [1:05:18<2:24:43,  2.52s/it]"
     ]
    },
    {
     "name": "stdout",
     "output_type": "stream",
     "text": [
      "log-likelihood:  -0.49221635\n",
      "elbo classical:  -6.081003\n",
      "KL divergence:  1.1275477\n"
     ]
    },
    {
     "name": "stderr",
     "output_type": "stream",
     "text": [
      " 32%|███▏      | 1601/5000 [1:07:25<2:23:17,  2.53s/it]"
     ]
    },
    {
     "name": "stdout",
     "output_type": "stream",
     "text": [
      "log-likelihood:  -0.5034594\n",
      "elbo classical:  -6.301223\n",
      "KL divergence:  1.0976322\n"
     ]
    },
    {
     "name": "stderr",
     "output_type": "stream",
     "text": [
      " 33%|███▎      | 1651/5000 [1:09:32<2:22:23,  2.55s/it]"
     ]
    },
    {
     "name": "stdout",
     "output_type": "stream",
     "text": [
      "log-likelihood:  -0.51091933\n",
      "elbo classical:  -6.550618\n",
      "KL divergence:  1.0713186\n"
     ]
    },
    {
     "name": "stderr",
     "output_type": "stream",
     "text": [
      " 34%|███▍      | 1701/5000 [1:11:37<2:20:30,  2.56s/it]"
     ]
    },
    {
     "name": "stdout",
     "output_type": "stream",
     "text": [
      "log-likelihood:  -0.51502675\n",
      "elbo classical:  -6.4052525\n",
      "KL divergence:  1.0919086\n"
     ]
    },
    {
     "name": "stderr",
     "output_type": "stream",
     "text": [
      " 35%|███▌      | 1751/5000 [1:13:44<2:17:22,  2.54s/it]"
     ]
    },
    {
     "name": "stdout",
     "output_type": "stream",
     "text": [
      "log-likelihood:  -0.5248024\n",
      "elbo classical:  -6.483386\n",
      "KL divergence:  1.0716424\n"
     ]
    },
    {
     "name": "stderr",
     "output_type": "stream",
     "text": [
      " 36%|███▌      | 1801/5000 [1:15:51<2:16:27,  2.56s/it]"
     ]
    },
    {
     "name": "stdout",
     "output_type": "stream",
     "text": [
      "log-likelihood:  -0.5113525\n",
      "elbo classical:  -6.496231\n",
      "KL divergence:  1.0927174\n"
     ]
    },
    {
     "name": "stderr",
     "output_type": "stream",
     "text": [
      " 37%|███▋      | 1851/5000 [1:17:57<2:12:29,  2.52s/it]"
     ]
    },
    {
     "name": "stdout",
     "output_type": "stream",
     "text": [
      "log-likelihood:  -0.5038839\n",
      "elbo classical:  -6.343092\n",
      "KL divergence:  1.1338615\n"
     ]
    },
    {
     "name": "stderr",
     "output_type": "stream",
     "text": [
      " 38%|███▊      | 1901/5000 [1:20:04<2:12:41,  2.57s/it]"
     ]
    },
    {
     "name": "stdout",
     "output_type": "stream",
     "text": [
      "log-likelihood:  -0.52201724\n",
      "elbo classical:  -6.0801535\n",
      "KL divergence:  1.0671464\n"
     ]
    },
    {
     "name": "stderr",
     "output_type": "stream",
     "text": [
      " 39%|███▉      | 1951/5000 [1:22:11<2:11:03,  2.58s/it]"
     ]
    },
    {
     "name": "stdout",
     "output_type": "stream",
     "text": [
      "log-likelihood:  -0.5303899\n",
      "elbo classical:  -6.4525547\n",
      "KL divergence:  1.0922666\n"
     ]
    },
    {
     "name": "stderr",
     "output_type": "stream",
     "text": [
      " 40%|████      | 2001/5000 [1:24:17<2:07:37,  2.55s/it]"
     ]
    },
    {
     "name": "stdout",
     "output_type": "stream",
     "text": [
      "log-likelihood:  -0.5354991\n",
      "elbo classical:  -6.173005\n",
      "KL divergence:  1.0813521\n"
     ]
    },
    {
     "name": "stderr",
     "output_type": "stream",
     "text": [
      " 41%|████      | 2051/5000 [1:26:25<2:04:05,  2.52s/it]"
     ]
    },
    {
     "name": "stdout",
     "output_type": "stream",
     "text": [
      "log-likelihood:  -0.5183627\n",
      "elbo classical:  -6.1140075\n",
      "KL divergence:  1.1014843\n"
     ]
    },
    {
     "name": "stderr",
     "output_type": "stream",
     "text": [
      " 42%|████▏     | 2101/5000 [1:28:32<2:02:47,  2.54s/it]"
     ]
    },
    {
     "name": "stdout",
     "output_type": "stream",
     "text": [
      "log-likelihood:  -0.5104088\n",
      "elbo classical:  -6.0696263\n",
      "KL divergence:  1.1172272\n"
     ]
    },
    {
     "name": "stderr",
     "output_type": "stream",
     "text": [
      " 43%|████▎     | 2151/5000 [1:30:39<2:00:39,  2.54s/it]"
     ]
    },
    {
     "name": "stdout",
     "output_type": "stream",
     "text": [
      "log-likelihood:  -0.5178062\n",
      "elbo classical:  -6.069609\n",
      "KL divergence:  1.0892015\n"
     ]
    },
    {
     "name": "stderr",
     "output_type": "stream",
     "text": [
      " 44%|████▍     | 2201/5000 [1:32:46<1:58:34,  2.54s/it]"
     ]
    },
    {
     "name": "stdout",
     "output_type": "stream",
     "text": [
      "log-likelihood:  -0.51604354\n",
      "elbo classical:  -6.398778\n",
      "KL divergence:  1.0925465\n"
     ]
    },
    {
     "name": "stderr",
     "output_type": "stream",
     "text": [
      " 45%|████▌     | 2251/5000 [1:34:54<1:55:55,  2.53s/it]"
     ]
    },
    {
     "name": "stdout",
     "output_type": "stream",
     "text": [
      "log-likelihood:  -0.5573485\n",
      "elbo classical:  -6.420147\n",
      "KL divergence:  1.052973\n"
     ]
    },
    {
     "name": "stderr",
     "output_type": "stream",
     "text": [
      " 46%|████▌     | 2301/5000 [1:37:01<1:54:34,  2.55s/it]"
     ]
    },
    {
     "name": "stdout",
     "output_type": "stream",
     "text": [
      "log-likelihood:  -0.5079094\n",
      "elbo classical:  -6.1391244\n",
      "KL divergence:  1.0983995\n"
     ]
    },
    {
     "name": "stderr",
     "output_type": "stream",
     "text": [
      " 47%|████▋     | 2351/5000 [1:39:08<1:52:35,  2.55s/it]"
     ]
    },
    {
     "name": "stdout",
     "output_type": "stream",
     "text": [
      "log-likelihood:  -0.51694995\n",
      "elbo classical:  -6.160034\n",
      "KL divergence:  1.1119665\n"
     ]
    },
    {
     "name": "stderr",
     "output_type": "stream",
     "text": [
      " 48%|████▊     | 2401/5000 [1:41:14<1:50:23,  2.55s/it]"
     ]
    },
    {
     "name": "stdout",
     "output_type": "stream",
     "text": [
      "log-likelihood:  -0.5087184\n",
      "elbo classical:  -5.949429\n",
      "KL divergence:  1.0818357\n"
     ]
    },
    {
     "name": "stderr",
     "output_type": "stream",
     "text": [
      " 49%|████▉     | 2451/5000 [1:43:21<1:47:35,  2.53s/it]"
     ]
    },
    {
     "name": "stdout",
     "output_type": "stream",
     "text": [
      "log-likelihood:  -0.52104086\n",
      "elbo classical:  -6.3974195\n",
      "KL divergence:  1.0853252\n"
     ]
    },
    {
     "name": "stderr",
     "output_type": "stream",
     "text": [
      " 50%|█████     | 2501/5000 [1:45:29<1:46:04,  2.55s/it]"
     ]
    },
    {
     "name": "stdout",
     "output_type": "stream",
     "text": [
      "log-likelihood:  -0.512456\n",
      "elbo classical:  -6.352483\n",
      "KL divergence:  1.1101608\n"
     ]
    },
    {
     "name": "stderr",
     "output_type": "stream",
     "text": [
      " 51%|█████     | 2551/5000 [1:47:35<1:43:18,  2.53s/it]"
     ]
    },
    {
     "name": "stdout",
     "output_type": "stream",
     "text": [
      "log-likelihood:  -0.5158497\n",
      "elbo classical:  -6.4344\n",
      "KL divergence:  1.0793304\n"
     ]
    },
    {
     "name": "stderr",
     "output_type": "stream",
     "text": [
      " 52%|█████▏    | 2601/5000 [1:49:42<1:40:32,  2.51s/it]"
     ]
    },
    {
     "name": "stdout",
     "output_type": "stream",
     "text": [
      "log-likelihood:  -0.5063157\n",
      "elbo classical:  -6.256247\n",
      "KL divergence:  1.1052151\n"
     ]
    },
    {
     "name": "stderr",
     "output_type": "stream",
     "text": [
      " 53%|█████▎    | 2651/5000 [1:51:49<1:39:20,  2.54s/it]"
     ]
    },
    {
     "name": "stdout",
     "output_type": "stream",
     "text": [
      "log-likelihood:  -0.5127906\n",
      "elbo classical:  -6.3360405\n",
      "KL divergence:  1.0817612\n"
     ]
    },
    {
     "name": "stderr",
     "output_type": "stream",
     "text": [
      " 54%|█████▍    | 2701/5000 [1:53:56<1:37:17,  2.54s/it]"
     ]
    },
    {
     "name": "stdout",
     "output_type": "stream",
     "text": [
      "log-likelihood:  -0.51323175\n",
      "elbo classical:  -6.2409167\n",
      "KL divergence:  1.0830237\n"
     ]
    },
    {
     "name": "stderr",
     "output_type": "stream",
     "text": [
      " 55%|█████▌    | 2751/5000 [1:56:03<1:35:25,  2.55s/it]"
     ]
    },
    {
     "name": "stdout",
     "output_type": "stream",
     "text": [
      "log-likelihood:  -0.5084936\n",
      "elbo classical:  -6.0703626\n",
      "KL divergence:  1.1194654\n"
     ]
    },
    {
     "name": "stderr",
     "output_type": "stream",
     "text": [
      " 56%|█████▌    | 2801/5000 [1:58:10<1:32:42,  2.53s/it]"
     ]
    },
    {
     "name": "stdout",
     "output_type": "stream",
     "text": [
      "log-likelihood:  -0.5286281\n",
      "elbo classical:  -6.2017922\n",
      "KL divergence:  1.0591515\n"
     ]
    },
    {
     "name": "stderr",
     "output_type": "stream",
     "text": [
      " 57%|█████▋    | 2851/5000 [2:00:16<1:28:54,  2.48s/it]"
     ]
    },
    {
     "name": "stdout",
     "output_type": "stream",
     "text": [
      "log-likelihood:  -0.51001567\n",
      "elbo classical:  -6.487153\n",
      "KL divergence:  1.1046422\n"
     ]
    },
    {
     "name": "stderr",
     "output_type": "stream",
     "text": [
      " 58%|█████▊    | 2901/5000 [2:02:23<1:29:00,  2.54s/it]"
     ]
    },
    {
     "name": "stdout",
     "output_type": "stream",
     "text": [
      "log-likelihood:  -0.5213298\n",
      "elbo classical:  -6.275456\n",
      "KL divergence:  1.0992442\n"
     ]
    },
    {
     "name": "stderr",
     "output_type": "stream",
     "text": [
      " 59%|█████▉    | 2951/5000 [2:04:30<1:25:23,  2.50s/it]"
     ]
    },
    {
     "name": "stdout",
     "output_type": "stream",
     "text": [
      "log-likelihood:  -0.5311908\n",
      "elbo classical:  -6.322849\n",
      "KL divergence:  1.0582454\n"
     ]
    },
    {
     "name": "stderr",
     "output_type": "stream",
     "text": [
      " 60%|██████    | 3001/5000 [2:06:36<1:23:40,  2.51s/it]"
     ]
    },
    {
     "name": "stdout",
     "output_type": "stream",
     "text": [
      "log-likelihood:  -0.51965284\n",
      "elbo classical:  -6.5350366\n",
      "KL divergence:  1.0526935\n"
     ]
    },
    {
     "name": "stderr",
     "output_type": "stream",
     "text": [
      " 61%|██████    | 3051/5000 [2:08:43<1:22:31,  2.54s/it]"
     ]
    },
    {
     "name": "stdout",
     "output_type": "stream",
     "text": [
      "log-likelihood:  -0.5157858\n",
      "elbo classical:  -6.4728036\n",
      "KL divergence:  1.1035626\n"
     ]
    },
    {
     "name": "stderr",
     "output_type": "stream",
     "text": [
      " 62%|██████▏   | 3101/5000 [2:10:50<1:20:10,  2.53s/it]"
     ]
    },
    {
     "name": "stdout",
     "output_type": "stream",
     "text": [
      "log-likelihood:  -0.54197717\n",
      "elbo classical:  -6.4796367\n",
      "KL divergence:  1.0609027\n"
     ]
    },
    {
     "name": "stderr",
     "output_type": "stream",
     "text": [
      " 63%|██████▎   | 3151/5000 [2:12:57<1:18:56,  2.56s/it]"
     ]
    },
    {
     "name": "stdout",
     "output_type": "stream",
     "text": [
      "log-likelihood:  -0.5280619\n",
      "elbo classical:  -6.748791\n",
      "KL divergence:  1.0641836\n"
     ]
    },
    {
     "name": "stderr",
     "output_type": "stream",
     "text": [
      " 64%|██████▍   | 3201/5000 [2:15:04<1:16:34,  2.55s/it]"
     ]
    },
    {
     "name": "stdout",
     "output_type": "stream",
     "text": [
      "log-likelihood:  -0.51444817\n",
      "elbo classical:  -6.258389\n",
      "KL divergence:  1.088746\n"
     ]
    },
    {
     "name": "stderr",
     "output_type": "stream",
     "text": [
      " 65%|██████▌   | 3251/5000 [2:17:10<1:14:36,  2.56s/it]"
     ]
    },
    {
     "name": "stdout",
     "output_type": "stream",
     "text": [
      "log-likelihood:  -0.5164644\n",
      "elbo classical:  -6.0557904\n",
      "KL divergence:  1.0830382\n"
     ]
    },
    {
     "name": "stderr",
     "output_type": "stream",
     "text": [
      " 66%|██████▌   | 3301/5000 [2:19:17<1:10:09,  2.48s/it]"
     ]
    },
    {
     "name": "stdout",
     "output_type": "stream",
     "text": [
      "log-likelihood:  -0.5311595\n",
      "elbo classical:  -6.252274\n",
      "KL divergence:  1.0485942\n"
     ]
    },
    {
     "name": "stderr",
     "output_type": "stream",
     "text": [
      " 67%|██████▋   | 3351/5000 [2:21:23<1:09:51,  2.54s/it]"
     ]
    },
    {
     "name": "stdout",
     "output_type": "stream",
     "text": [
      "log-likelihood:  -0.52209616\n",
      "elbo classical:  -5.9142795\n",
      "KL divergence:  1.0900949\n"
     ]
    },
    {
     "name": "stderr",
     "output_type": "stream",
     "text": [
      " 68%|██████▊   | 3401/5000 [2:23:30<1:07:34,  2.54s/it]"
     ]
    },
    {
     "name": "stdout",
     "output_type": "stream",
     "text": [
      "log-likelihood:  -0.5107043\n",
      "elbo classical:  -6.647516\n",
      "KL divergence:  1.1175615\n"
     ]
    },
    {
     "name": "stderr",
     "output_type": "stream",
     "text": [
      " 69%|██████▉   | 3451/5000 [2:25:37<1:05:46,  2.55s/it]"
     ]
    },
    {
     "name": "stdout",
     "output_type": "stream",
     "text": [
      "log-likelihood:  -0.50166625\n",
      "elbo classical:  -6.5185337\n",
      "KL divergence:  1.102136\n"
     ]
    },
    {
     "name": "stderr",
     "output_type": "stream",
     "text": [
      " 70%|███████   | 3501/5000 [2:27:43<1:01:28,  2.46s/it]"
     ]
    },
    {
     "name": "stdout",
     "output_type": "stream",
     "text": [
      "log-likelihood:  -0.523489\n",
      "elbo classical:  -6.333717\n",
      "KL divergence:  1.0982584\n"
     ]
    },
    {
     "name": "stderr",
     "output_type": "stream",
     "text": [
      " 71%|███████   | 3551/5000 [2:29:49<1:00:30,  2.51s/it]"
     ]
    },
    {
     "name": "stdout",
     "output_type": "stream",
     "text": [
      "log-likelihood:  -0.5252073\n",
      "elbo classical:  -6.0673375\n",
      "KL divergence:  1.095294\n"
     ]
    },
    {
     "name": "stderr",
     "output_type": "stream",
     "text": [
      " 72%|███████▏  | 3601/5000 [2:31:56<59:29,  2.55s/it]  "
     ]
    },
    {
     "name": "stdout",
     "output_type": "stream",
     "text": [
      "log-likelihood:  -0.4978504\n",
      "elbo classical:  -6.0185766\n",
      "KL divergence:  1.1338372\n"
     ]
    },
    {
     "name": "stderr",
     "output_type": "stream",
     "text": [
      " 73%|███████▎  | 3651/5000 [2:34:01<55:54,  2.49s/it]"
     ]
    },
    {
     "name": "stdout",
     "output_type": "stream",
     "text": [
      "log-likelihood:  -0.5246992\n",
      "elbo classical:  -6.2268586\n",
      "KL divergence:  1.0704573\n"
     ]
    },
    {
     "name": "stderr",
     "output_type": "stream",
     "text": [
      " 74%|███████▍  | 3701/5000 [2:36:08<54:56,  2.54s/it]"
     ]
    },
    {
     "name": "stdout",
     "output_type": "stream",
     "text": [
      "log-likelihood:  -0.5029889\n",
      "elbo classical:  -6.179707\n",
      "KL divergence:  1.1184291\n"
     ]
    },
    {
     "name": "stderr",
     "output_type": "stream",
     "text": [
      " 75%|███████▌  | 3751/5000 [2:38:15<52:39,  2.53s/it]"
     ]
    },
    {
     "name": "stdout",
     "output_type": "stream",
     "text": [
      "log-likelihood:  -0.5056087\n",
      "elbo classical:  -6.494422\n",
      "KL divergence:  1.0746931\n"
     ]
    },
    {
     "name": "stderr",
     "output_type": "stream",
     "text": [
      " 76%|███████▌  | 3801/5000 [2:40:22<50:24,  2.52s/it]"
     ]
    },
    {
     "name": "stdout",
     "output_type": "stream",
     "text": [
      "log-likelihood:  -0.50100136\n",
      "elbo classical:  -6.642367\n",
      "KL divergence:  1.0878928\n"
     ]
    },
    {
     "name": "stderr",
     "output_type": "stream",
     "text": [
      " 77%|███████▋  | 3851/5000 [2:42:29<49:01,  2.56s/it]"
     ]
    },
    {
     "name": "stdout",
     "output_type": "stream",
     "text": [
      "log-likelihood:  -0.5107121\n",
      "elbo classical:  -6.2932982\n",
      "KL divergence:  1.0871128\n"
     ]
    },
    {
     "name": "stderr",
     "output_type": "stream",
     "text": [
      " 78%|███████▊  | 3901/5000 [2:44:36<46:48,  2.56s/it]"
     ]
    },
    {
     "name": "stdout",
     "output_type": "stream",
     "text": [
      "log-likelihood:  -0.5223585\n",
      "elbo classical:  -6.227782\n",
      "KL divergence:  1.0988214\n"
     ]
    },
    {
     "name": "stderr",
     "output_type": "stream",
     "text": [
      " 79%|███████▉  | 3951/5000 [2:46:42<44:07,  2.52s/it]"
     ]
    },
    {
     "name": "stdout",
     "output_type": "stream",
     "text": [
      "log-likelihood:  -0.5297875\n",
      "elbo classical:  -6.391803\n",
      "KL divergence:  1.113201\n"
     ]
    },
    {
     "name": "stderr",
     "output_type": "stream",
     "text": [
      " 80%|████████  | 4001/5000 [2:48:50<42:34,  2.56s/it]"
     ]
    },
    {
     "name": "stdout",
     "output_type": "stream",
     "text": [
      "log-likelihood:  -0.5354421\n",
      "elbo classical:  -6.835907\n",
      "KL divergence:  1.0699792\n"
     ]
    },
    {
     "name": "stderr",
     "output_type": "stream",
     "text": [
      " 81%|████████  | 4051/5000 [2:50:57<40:09,  2.54s/it]"
     ]
    },
    {
     "name": "stdout",
     "output_type": "stream",
     "text": [
      "log-likelihood:  -0.52352816\n",
      "elbo classical:  -6.087683\n",
      "KL divergence:  1.0648031\n"
     ]
    },
    {
     "name": "stderr",
     "output_type": "stream",
     "text": [
      " 82%|████████▏ | 4101/5000 [2:53:03<37:40,  2.51s/it]"
     ]
    },
    {
     "name": "stdout",
     "output_type": "stream",
     "text": [
      "log-likelihood:  -0.52478933\n",
      "elbo classical:  -6.3795495\n",
      "KL divergence:  1.0627335\n"
     ]
    },
    {
     "name": "stderr",
     "output_type": "stream",
     "text": [
      " 83%|████████▎ | 4151/5000 [2:55:09<35:54,  2.54s/it]"
     ]
    },
    {
     "name": "stdout",
     "output_type": "stream",
     "text": [
      "log-likelihood:  -0.5308674\n",
      "elbo classical:  -5.981891\n",
      "KL divergence:  1.0707684\n"
     ]
    },
    {
     "name": "stderr",
     "output_type": "stream",
     "text": [
      " 84%|████████▍ | 4201/5000 [2:57:16<34:08,  2.56s/it]"
     ]
    },
    {
     "name": "stdout",
     "output_type": "stream",
     "text": [
      "log-likelihood:  -0.5231207\n",
      "elbo classical:  -6.3580174\n",
      "KL divergence:  1.1066713\n"
     ]
    },
    {
     "name": "stderr",
     "output_type": "stream",
     "text": [
      " 85%|████████▌ | 4251/5000 [2:59:23<31:30,  2.52s/it]"
     ]
    },
    {
     "name": "stdout",
     "output_type": "stream",
     "text": [
      "log-likelihood:  -0.54836\n",
      "elbo classical:  -6.140639\n",
      "KL divergence:  1.0625448\n"
     ]
    },
    {
     "name": "stderr",
     "output_type": "stream",
     "text": [
      " 86%|████████▌ | 4301/5000 [3:01:30<29:32,  2.54s/it]"
     ]
    },
    {
     "name": "stdout",
     "output_type": "stream",
     "text": [
      "log-likelihood:  -0.5268871\n",
      "elbo classical:  -5.927227\n",
      "KL divergence:  1.0736485\n"
     ]
    },
    {
     "name": "stderr",
     "output_type": "stream",
     "text": [
      " 87%|████████▋ | 4351/5000 [3:03:37<27:30,  2.54s/it]"
     ]
    },
    {
     "name": "stdout",
     "output_type": "stream",
     "text": [
      "log-likelihood:  -0.5216734\n",
      "elbo classical:  -6.3213615\n",
      "KL divergence:  1.1055185\n"
     ]
    },
    {
     "name": "stderr",
     "output_type": "stream",
     "text": [
      " 88%|████████▊ | 4401/5000 [3:05:44<25:24,  2.55s/it]"
     ]
    },
    {
     "name": "stdout",
     "output_type": "stream",
     "text": [
      "log-likelihood:  -0.5245047\n",
      "elbo classical:  -5.847147\n",
      "KL divergence:  1.0975236\n"
     ]
    },
    {
     "name": "stderr",
     "output_type": "stream",
     "text": [
      " 89%|████████▉ | 4451/5000 [3:07:50<22:22,  2.45s/it]"
     ]
    },
    {
     "name": "stdout",
     "output_type": "stream",
     "text": [
      "log-likelihood:  -0.53337747\n",
      "elbo classical:  -6.080384\n",
      "KL divergence:  1.0754336\n"
     ]
    },
    {
     "name": "stderr",
     "output_type": "stream",
     "text": [
      " 90%|█████████ | 4501/5000 [3:09:54<20:55,  2.52s/it]"
     ]
    },
    {
     "name": "stdout",
     "output_type": "stream",
     "text": [
      "log-likelihood:  -0.51387376\n",
      "elbo classical:  -6.349492\n",
      "KL divergence:  1.0792997\n"
     ]
    },
    {
     "name": "stderr",
     "output_type": "stream",
     "text": [
      " 91%|█████████ | 4551/5000 [3:12:01<19:03,  2.55s/it]"
     ]
    },
    {
     "name": "stdout",
     "output_type": "stream",
     "text": [
      "log-likelihood:  -0.50971794\n",
      "elbo classical:  -6.508488\n",
      "KL divergence:  1.0815614\n"
     ]
    },
    {
     "name": "stderr",
     "output_type": "stream",
     "text": [
      " 92%|█████████▏| 4601/5000 [3:14:07<17:01,  2.56s/it]"
     ]
    },
    {
     "name": "stdout",
     "output_type": "stream",
     "text": [
      "log-likelihood:  -0.50661445\n",
      "elbo classical:  -6.307976\n",
      "KL divergence:  1.1090132\n"
     ]
    },
    {
     "name": "stderr",
     "output_type": "stream",
     "text": [
      " 93%|█████████▎| 4651/5000 [3:16:14<14:46,  2.54s/it]"
     ]
    },
    {
     "name": "stdout",
     "output_type": "stream",
     "text": [
      "log-likelihood:  -0.53015786\n",
      "elbo classical:  -6.545494\n",
      "KL divergence:  1.0686152\n"
     ]
    },
    {
     "name": "stderr",
     "output_type": "stream",
     "text": [
      " 94%|█████████▍| 4701/5000 [3:18:21<12:46,  2.56s/it]"
     ]
    },
    {
     "name": "stdout",
     "output_type": "stream",
     "text": [
      "log-likelihood:  -0.5099347\n",
      "elbo classical:  -6.4829016\n",
      "KL divergence:  1.073669\n"
     ]
    },
    {
     "name": "stderr",
     "output_type": "stream",
     "text": [
      " 95%|█████████▌| 4751/5000 [3:20:25<10:08,  2.44s/it]"
     ]
    },
    {
     "name": "stdout",
     "output_type": "stream",
     "text": [
      "log-likelihood:  -0.5172774\n",
      "elbo classical:  -6.134487\n",
      "KL divergence:  1.0955784\n"
     ]
    },
    {
     "name": "stderr",
     "output_type": "stream",
     "text": [
      " 96%|█████████▌| 4801/5000 [3:22:32<08:23,  2.53s/it]"
     ]
    },
    {
     "name": "stdout",
     "output_type": "stream",
     "text": [
      "log-likelihood:  -0.50811195\n",
      "elbo classical:  -6.305132\n",
      "KL divergence:  1.0888395\n"
     ]
    },
    {
     "name": "stderr",
     "output_type": "stream",
     "text": [
      " 97%|█████████▋| 4851/5000 [3:24:37<06:20,  2.56s/it]"
     ]
    },
    {
     "name": "stdout",
     "output_type": "stream",
     "text": [
      "log-likelihood:  -0.5286762\n",
      "elbo classical:  -5.8040056\n",
      "KL divergence:  1.0910552\n"
     ]
    },
    {
     "name": "stderr",
     "output_type": "stream",
     "text": [
      " 98%|█████████▊| 4901/5000 [3:26:44<04:11,  2.54s/it]"
     ]
    },
    {
     "name": "stdout",
     "output_type": "stream",
     "text": [
      "log-likelihood:  -0.5123104\n",
      "elbo classical:  -6.1490545\n",
      "KL divergence:  1.1184411\n"
     ]
    },
    {
     "name": "stderr",
     "output_type": "stream",
     "text": [
      " 99%|█████████▉| 4951/5000 [3:28:51<02:05,  2.55s/it]"
     ]
    },
    {
     "name": "stdout",
     "output_type": "stream",
     "text": [
      "log-likelihood:  -0.5030931\n",
      "elbo classical:  -6.466467\n",
      "KL divergence:  1.1211601\n"
     ]
    },
    {
     "name": "stderr",
     "output_type": "stream",
     "text": [
      "100%|██████████| 5000/5000 [3:30:54<00:00,  2.53s/it]\n"
     ]
    }
   ],
   "source": [
    "print_info = 50\n",
    "\n",
    "for ep in tqdm(range(num_epoches)):\n",
    "    for b_num, batch_train in enumerate(dataloader): # cycle over batches\n",
    "#         pdb.set_trace()\n",
    "        mu, sigma = enc_hoff(batch_train)\n",
    "        u = std_normal.sample(mu.shape)\n",
    "        z = mu + sigma * u # reparametrization trick\n",
    "        z_hmc = z.detach()\n",
    "        ###### objective for phi\n",
    "        ####\n",
    "        prod = dec_hoff(z)\n",
    "        exp_log = (batch_train * dec_hoff(mu) - torch.log(1+ torch.exp(prod))).sum(1)\n",
    "        KLD = (-0.5 * (1 + 2 * sigma.log() - mu.pow(2) - sigma.pow(2))).sum(1)\n",
    "        obj_1 = (exp_log - KLD).mean()\n",
    "        (-obj_1).backward()\n",
    "        optimizer_phi.step()\n",
    "        optimizer_phi.zero_grad()\n",
    "        optimizer_theta.zero_grad()\n",
    "        ###### objective for theta\n",
    "        ####\n",
    "        p_hmc = std_normal.sample(mu.shape)\n",
    "        obj_2 = 0\n",
    "        for k in range(steps):\n",
    "            z_hmc, p_hmc, _, _, _, _ = transitions.make_transition(q_old=z_hmc, p_old=p_hmc, target_distr=target, x=batch_train)\n",
    "            if hoffman_other:\n",
    "                probs = torch.sigmoid(dec_hoff(z_hmc))\n",
    "                obj_2 += torch.distributions.Bernoulli(probs=probs).log_prob(batch_train).mean()\n",
    "        if hoffman_other:\n",
    "            obj_2 = obj_2 / steps\n",
    "        else: \n",
    "            probs = torch.sigmoid(dec_hoff(z_hmc))\n",
    "            obj_2 = torch.distributions.Bernoulli(probs=probs).log_prob(batch_train).mean()\n",
    "        (-obj_2).backward()\n",
    "        optimizer_theta.step()\n",
    "        optimizer_theta.zero_grad()\n",
    "        \n",
    "    if ep % print_info ==0:\n",
    "        print('log-likelihood: ', obj_2.cpu().detach().numpy())\n",
    "        print('elbo classical: ', obj_1.cpu().detach().numpy())\n",
    "        print('KL divergence: ', KLD.mean().cpu().detach().numpy())"
   ]
  },
  {
   "cell_type": "code",
   "execution_count": 45,
   "metadata": {},
   "outputs": [
    {
     "name": "stdout",
     "output_type": "stream",
     "text": [
      "reconstructed probs tensor([[0.5628, 0.1454, 0.5754, 0.6388, 0.4835, 0.5965, 0.7330, 0.1834, 0.5586,\n",
      "         0.8566],\n",
      "        [0.6851, 0.7260, 0.9623, 0.3615, 0.9277, 0.9683, 0.4371, 0.9097, 0.9783,\n",
      "         0.3675],\n",
      "        [0.4708, 0.3765, 0.3508, 0.5535, 0.3688, 0.3457, 0.5561, 0.3248, 0.3220,\n",
      "         0.6031],\n",
      "        [0.5490, 0.4914, 0.6724, 0.4894, 0.6284, 0.6832, 0.5207, 0.5702, 0.6961,\n",
      "         0.5316],\n",
      "        [0.5481, 0.2998, 0.6021, 0.5629, 0.5416, 0.6163, 0.6242, 0.3548, 0.6042,\n",
      "         0.7090],\n",
      "        [0.4649, 0.7937, 0.4900, 0.3898, 0.5477, 0.4767, 0.3205, 0.7720, 0.5106,\n",
      "         0.2083],\n",
      "        [0.2384, 0.9438, 0.0352, 0.3327, 0.1212, 0.0257, 0.1348, 0.7584, 0.0256,\n",
      "         0.0388],\n",
      "        [0.5362, 0.9663, 0.8508, 0.2221, 0.8625, 0.8496, 0.1535, 0.9790, 0.9031,\n",
      "         0.0437],\n",
      "        [0.3899, 0.8262, 0.2485, 0.3920, 0.3631, 0.2245, 0.2762, 0.7206, 0.2356,\n",
      "         0.1570],\n",
      "        [0.5594, 0.2085, 0.6010, 0.6025, 0.5209, 0.6195, 0.6850, 0.2601, 0.5954,\n",
      "         0.7972]], device='cuda:0')\n",
      "true probs tensor([[0.4440, 0.8629, 0.4517, 0.3605, 0.5320, 0.4255, 0.2677, 0.8304, 0.4686,\n",
      "         0.1274],\n",
      "        [0.7377, 0.1108, 0.9768, 0.5979, 0.9207, 0.9845, 0.8051, 0.4395, 0.9863,\n",
      "         0.9221],\n",
      "        [0.4374, 0.6780, 0.3092, 0.4551, 0.3815, 0.2876, 0.3858, 0.5799, 0.2886,\n",
      "         0.3017],\n",
      "        [0.5464, 0.4530, 0.6806, 0.5015, 0.6295, 0.6960, 0.5403, 0.5406, 0.7063,\n",
      "         0.5643],\n",
      "        [0.4910, 0.6892, 0.5482, 0.4334, 0.5647, 0.5425, 0.3980, 0.6922, 0.5673,\n",
      "         0.3079],\n",
      "        [0.5554, 0.1885, 0.5870, 0.6084, 0.5111, 0.6112, 0.6930, 0.2363, 0.5823,\n",
      "         0.8240],\n",
      "        [0.4022, 0.1150, 0.0628, 0.6995, 0.0915, 0.0558, 0.7080, 0.0451, 0.0361,\n",
      "         0.8690],\n",
      "        [0.7399, 0.0146, 0.9446, 0.7578, 0.8134, 0.9637, 0.9237, 0.0705, 0.9568,\n",
      "         0.9901],\n",
      "        [0.4935, 0.2051, 0.3265, 0.6188, 0.3243, 0.3279, 0.6621, 0.1746, 0.2840,\n",
      "         0.7934],\n",
      "        [0.4697, 0.7906, 0.5117, 0.3948, 0.5573, 0.4964, 0.3291, 0.7738, 0.5320,\n",
      "         0.2019]], device='cuda:0')\n"
     ]
    }
   ],
   "source": [
    "for p in dec_hoff.parameters():\n",
    "    p.requires_grad_(False)\n",
    "u = std_normal.sample((10, z_dim))\n",
    "\n",
    "print('reconstructed probs', torch.sigmoid(dec_hoff(u)))\n",
    "print('true probs', torch.sigmoid(u @ true_theta))"
   ]
  },
  {
   "cell_type": "code",
   "execution_count": 46,
   "metadata": {},
   "outputs": [
    {
     "data": {
      "text/plain": [
       "tensor([[ 0.4099, -2.6188,  0.5861,  0.8326,  0.0034,  0.7238,  1.5055, -2.1481,\n",
       "          0.5058,  2.6599],\n",
       "        [-0.3025, -0.2912, -1.2295,  0.1896, -0.9557, -1.3008,  0.0524, -0.8042,\n",
       "         -1.4403,  0.1285]], device='cuda:0')"
      ]
     },
     "execution_count": 46,
     "metadata": {},
     "output_type": "execute_result"
    }
   ],
   "source": [
    "dec_hoff.W.weight.T"
   ]
  },
  {
   "cell_type": "code",
   "execution_count": 47,
   "metadata": {},
   "outputs": [
    {
     "data": {
      "text/plain": [
       "tensor([[-0.2963,  2.6764, -0.1408, -0.8441,  0.2905, -0.2838, -1.4535,  2.3737,\n",
       "         -0.0177, -2.7884],\n",
       "        [-0.3788,  0.7046, -1.3956, -0.1248, -0.9259, -1.5463, -0.4902,  0.0244,\n",
       "         -1.5992, -0.8469]], device='cuda:0')"
      ]
     },
     "execution_count": 47,
     "metadata": {},
     "output_type": "execute_result"
    }
   ],
   "source": [
    "true_theta"
   ]
  },
  {
   "cell_type": "code",
   "execution_count": null,
   "metadata": {},
   "outputs": [],
   "source": []
  },
  {
   "cell_type": "code",
   "execution_count": null,
   "metadata": {},
   "outputs": [],
   "source": []
  },
  {
   "cell_type": "markdown",
   "metadata": {},
   "source": [
    "### Work on our VAE and Hoffman loss"
   ]
  },
  {
   "cell_type": "code",
   "execution_count": 81,
   "metadata": {},
   "outputs": [],
   "source": [
    "enc_hoff_our = Encoder_vae(data_dim=data_dim, z_dim=z_dim, K=K).to(device)\n",
    "dec_hoff_our = Decoder(data_dim=data_dim, z_dim=z_dim).to(device)\n",
    "\n",
    "optimizer_phi = torch.optim.Adam(params=enc_hoff_our.parameters())\n",
    "optimizer_theta = torch.optim.Adam(params=dec_hoff_our.parameters())\n",
    "\n",
    "transitions = HMC_our(kwargs=args).to(args.device)\n",
    "torch_log_2 = torch.tensor(np.log(2.), device=args.device, dtype=args.torchType)\n",
    "\n",
    "K_steps = 5\n",
    "print_info = 100"
   ]
  },
  {
   "cell_type": "code",
   "execution_count": 82,
   "metadata": {},
   "outputs": [],
   "source": [
    "class Target():\n",
    "    def __init__(self,):\n",
    "        pass\n",
    "    def get_logdensity(self, z, x, prior=None, args=None, prior_flow=None):\n",
    "        probs = torch.sigmoid(dec_hoff_our(z))\n",
    "        return torch.distributions.Bernoulli(probs=probs).log_prob(x).sum(1) + std_normal.log_prob(z).sum(1)\n",
    "target = Target()"
   ]
  },
  {
   "cell_type": "code",
   "execution_count": null,
   "metadata": {},
   "outputs": [
    {
     "name": "stdout",
     "output_type": "stream",
     "text": [
      "log-likelihood:  -9.832247\n",
      "elbo our:  -17.65849\n",
      "log-likelihood:  -8.312729\n",
      "elbo our:  -16.766851\n"
     ]
    }
   ],
   "source": [
    "# for ep in tqdm(range(num_epoches)):\n",
    "for ep in range(num_epoches):\n",
    "    for b_num, batch_train in enumerate(dataloader): # cycle over batches\n",
    "        mu, sigma = enc_hoff_our(batch_train)\n",
    "        u = std_normal.sample(mu.shape)\n",
    "        z = mu + sigma * u # reparametrization trick\n",
    "        z_hmc = z.detach()\n",
    "        sum_log_sigma = torch.sum(torch.log(sigma), 1)\n",
    "        \n",
    "        p_old = std_normal.sample(z.shape)\n",
    "        cond_vectors = [std_normal.sample(p_old.shape) for _ in range(K_steps)]\n",
    "\n",
    "        sum_log_alpha = torch.zeros(mu.shape[0], dtype=args.torchType, device=args.device) # for grad log alpha accumulation\n",
    "        sum_log_jacobian = torch.zeros(mu.shape[0], dtype=args.torchType, device=args.device) # for log_jacobian accumulation\n",
    "        p = p_old\n",
    "\n",
    "        for k in range(K_steps):\n",
    "            z, p, log_jac, current_log_alphas, directions, _ = transitions.make_transition(q_old=z, x=batch_train,\n",
    "                                                            p_old=p, k=cond_vectors[k], target_distr=target, args=args)\n",
    "            sum_log_alpha = sum_log_alpha + current_log_alphas\n",
    "            sum_log_jacobian = sum_log_jacobian + log_jac  \n",
    "        \n",
    "        log_r = -K * torch_log_2\n",
    "        log_m = std_normal.log_prob(u).sum(1) + std_normal.log_prob(p_old).sum(1) - sum_log_jacobian - sum_log_sigma + sum_log_alpha\n",
    "        probs = torch.sigmoid(dec_hoff_our(z))\n",
    "        log_p = torch.distributions.Bernoulli(probs=probs).log_prob(batch_train).sum(1) + std_normal.log_prob(z).sum(1) + args.std_normal.log_prob(p).sum(1)\n",
    "        obj_1 = torch.mean(log_p + log_r - log_m)\n",
    "        dec_hoff_our.eval()\n",
    "        (-obj_1).backward(retain_graph=True)\n",
    "        optimizer_phi.step()\n",
    "        optimizer_phi.zero_grad()\n",
    "        optimizer_theta.zero_grad() \n",
    "        \n",
    "        dec_hoff_our.train()\n",
    "        ###TO DO BETTER : USE ALL HISTORY OF Z ??\n",
    "        probs = torch.sigmoid(dec_hoff_our(z.detach()))\n",
    "        ### Below we can omit prior, since there it is not in graph\n",
    "        obj_2 = torch.mean(torch.distributions.Bernoulli(probs=probs).log_prob(batch_train).sum(1) + args.std_normal.log_prob(p).sum(1))\n",
    "        (-obj_2).backward()\n",
    "        optimizer_theta.step()\n",
    "        optimizer_phi.zero_grad()\n",
    "        optimizer_theta.zero_grad() \n",
    "        \n",
    "\n",
    "    if ep % print_info ==0:\n",
    "        print('log-likelihood: ', obj_2.cpu().detach().numpy())\n",
    "        print('elbo our: ', obj_1.cpu().detach().numpy())\n",
    "        #print('KL divergence: ', KLD.mean().cpu().detach().numpy())"
   ]
  },
  {
   "cell_type": "code",
   "execution_count": null,
   "metadata": {},
   "outputs": [],
   "source": []
  },
  {
   "cell_type": "code",
   "execution_count": null,
   "metadata": {},
   "outputs": [],
   "source": [
    "for p in dec_hoff_our.parameters():\n",
    "    p.requires_grad_(False)\n",
    "u = std_normal.sample((10, z_dim))\n",
    "\n",
    "print('reconstructed probs', torch.sigmoid(dec_hoff_our(u)))\n",
    "print('true probs', torch.sigmoid(u @ true_theta))"
   ]
  },
  {
   "cell_type": "code",
   "execution_count": null,
   "metadata": {},
   "outputs": [],
   "source": [
    "dec_hoff_our.W.weight.T"
   ]
  },
  {
   "cell_type": "code",
   "execution_count": null,
   "metadata": {},
   "outputs": [],
   "source": [
    "true_theta"
   ]
  },
  {
   "cell_type": "markdown",
   "metadata": {},
   "source": [
    "### Encoder with true fixed theta"
   ]
  },
  {
   "cell_type": "code",
   "execution_count": 65,
   "metadata": {},
   "outputs": [],
   "source": [
    "K = 16\n",
    "enc_0 = Encoder_vae(data_dim=data_dim, z_dim=z_dim, K=K).to(device)"
   ]
  },
  {
   "cell_type": "code",
   "execution_count": 66,
   "metadata": {},
   "outputs": [],
   "source": [
    "optimizer_phi = torch.optim.Adam(params=enc_0.parameters(), lr=1e-3)\n",
    "true_kl = False\n",
    "batch_size = 100\n",
    "dataloader = torch.utils.data.DataLoader(data, batch_size=batch_size, shuffle=True)"
   ]
  },
  {
   "cell_type": "code",
   "execution_count": 67,
   "metadata": {},
   "outputs": [
    {
     "name": "stderr",
     "output_type": "stream",
     "text": [
      "  0%|          | 1/5000 [00:00<21:55,  3.80it/s]"
     ]
    },
    {
     "name": "stdout",
     "output_type": "stream",
     "text": [
      "elbo:  -7.55395356091586\n"
     ]
    },
    {
     "name": "stderr",
     "output_type": "stream",
     "text": [
      " 10%|█         | 501/5000 [02:09<18:57,  3.95it/s]"
     ]
    },
    {
     "name": "stdout",
     "output_type": "stream",
     "text": [
      "elbo:  -6.374863687187735\n"
     ]
    },
    {
     "name": "stderr",
     "output_type": "stream",
     "text": [
      " 20%|██        | 1001/5000 [04:18<17:33,  3.79it/s]"
     ]
    },
    {
     "name": "stdout",
     "output_type": "stream",
     "text": [
      "elbo:  -6.375868204868201\n"
     ]
    },
    {
     "name": "stderr",
     "output_type": "stream",
     "text": [
      " 30%|███       | 1501/5000 [06:28<15:02,  3.88it/s]"
     ]
    },
    {
     "name": "stdout",
     "output_type": "stream",
     "text": [
      "elbo:  -6.376385650249443\n"
     ]
    },
    {
     "name": "stderr",
     "output_type": "stream",
     "text": [
      " 40%|████      | 2001/5000 [08:38<12:48,  3.90it/s]"
     ]
    },
    {
     "name": "stdout",
     "output_type": "stream",
     "text": [
      "elbo:  -6.370841955897784\n"
     ]
    },
    {
     "name": "stderr",
     "output_type": "stream",
     "text": [
      " 50%|█████     | 2501/5000 [10:47<10:47,  3.86it/s]"
     ]
    },
    {
     "name": "stdout",
     "output_type": "stream",
     "text": [
      "elbo:  -6.371269394653012\n"
     ]
    },
    {
     "name": "stderr",
     "output_type": "stream",
     "text": [
      " 60%|██████    | 3001/5000 [12:58<08:39,  3.85it/s]"
     ]
    },
    {
     "name": "stdout",
     "output_type": "stream",
     "text": [
      "elbo:  -6.373298264513112\n"
     ]
    },
    {
     "name": "stderr",
     "output_type": "stream",
     "text": [
      " 70%|███████   | 3501/5000 [15:08<06:27,  3.87it/s]"
     ]
    },
    {
     "name": "stdout",
     "output_type": "stream",
     "text": [
      "elbo:  -6.36878918638133\n"
     ]
    },
    {
     "name": "stderr",
     "output_type": "stream",
     "text": [
      " 80%|████████  | 4001/5000 [17:18<04:18,  3.87it/s]"
     ]
    },
    {
     "name": "stdout",
     "output_type": "stream",
     "text": [
      "elbo:  -6.371659298135777\n"
     ]
    },
    {
     "name": "stderr",
     "output_type": "stream",
     "text": [
      " 90%|█████████ | 4501/5000 [19:28<02:10,  3.82it/s]"
     ]
    },
    {
     "name": "stdout",
     "output_type": "stream",
     "text": [
      "elbo:  -6.37072196151271\n"
     ]
    },
    {
     "name": "stderr",
     "output_type": "stream",
     "text": [
      "100%|██████████| 5000/5000 [21:38<00:00,  3.85it/s]\n"
     ]
    }
   ],
   "source": [
    "print_info = 500\n",
    "for ep in tqdm(range(num_epoches)):\n",
    "    elbo_ep = 0\n",
    "    for b_num, batch_train in enumerate(dataloader): # cycle over batches\n",
    "        mu, sigma = enc_0(batch_train)\n",
    "        u = std_normal.sample(mu.shape)\n",
    "        z = mu + sigma * u # reparametrization trick\n",
    "        probs = torch.sigmoid(z @ true_theta)\n",
    "        if true_kl == True:\n",
    "            log_likelihood = torch.distributions.Bernoulli(probs=probs).log_prob(batch_train).sum(1)\n",
    "            KLD = (-0.5 * (1 + 2 * sigma.log() - mu.pow(2) - sigma.pow(2))).sum(1)\n",
    "            elbo = (log_likelihood - KLD).mean()    \n",
    "        else:    \n",
    "            log_p = torch.distributions.Bernoulli(probs=probs).log_prob(batch_train).sum(1) + std_normal.log_prob(z).sum(1)\n",
    "            sum_log_sigma = torch.sum(torch.log(sigma), 1)\n",
    "            log_m = std_normal.log_prob(u).sum(1) - sum_log_sigma\n",
    "            elbo = (log_p - log_m).mean()\n",
    "        elbo_ep += elbo.detach().cpu().numpy()\n",
    "        (-elbo).backward()\n",
    "        optimizer_phi.step()\n",
    "        optimizer_phi.zero_grad()\n",
    "    if ep % print_info ==0:\n",
    "        print('elbo: ', (elbo_ep / b_num))"
   ]
  },
  {
   "cell_type": "code",
   "execution_count": 68,
   "metadata": {},
   "outputs": [],
   "source": [
    "for p in enc_0.parameters():\n",
    "    p.requires_grad_(False)"
   ]
  },
  {
   "cell_type": "markdown",
   "metadata": {},
   "source": [
    "Convergence seems to appear after 10 epoches only, for lr = 1e-3 and batch_size = 500 and 5 epoches for batch_size = 100 and lr = 1e-3"
   ]
  },
  {
   "cell_type": "code",
   "execution_count": 69,
   "metadata": {},
   "outputs": [],
   "source": [
    "n_warmup = 50\n",
    "n_samples = 500\n",
    "\n",
    "data_ind = 1  #  index of datapoint we conditioned on\n",
    "def potential_fn(z):\n",
    "    z = z['points']\n",
    "    probs = torch.sigmoid(z @ true_theta)\n",
    "    return -torch.sum(pyro.distributions.Bernoulli(probs=probs).log_prob(data[data_ind][None]).sum(1) + std_normal_pyro.log_prob(z).sum(1))"
   ]
  },
  {
   "cell_type": "code",
   "execution_count": 70,
   "metadata": {},
   "outputs": [
    {
     "name": "stderr",
     "output_type": "stream",
     "text": [
      "Sample: 100%|██████████| 550/550 [00:03, 177.73it/s, step size=9.86e-01, acc. prob=0.754]\n"
     ]
    }
   ],
   "source": [
    "init_samples = std_normal_pyro.sample((1, z_dim))\n",
    "init_params = {'points': init_samples}\n",
    "\n",
    "nuts_kernel = NUTS(potential_fn=potential_fn)\n",
    "mcmc = MCMC(nuts_kernel,\n",
    "            initial_params=init_params,\n",
    "            num_samples=n_samples,\n",
    "            warmup_steps=n_warmup)\n",
    "\n",
    "mcmc.run()\n",
    "z = mcmc.get_samples()['points'].squeeze()"
   ]
  },
  {
   "cell_type": "code",
   "execution_count": 71,
   "metadata": {},
   "outputs": [],
   "source": [
    "mu, sigma = enc_0(data[data_ind][None])\n",
    "u_enc = std_normal_pyro.sample((n_samples, z_dim))\n",
    "z_enc = mu + sigma * u_enc\n",
    "z_enc = z_enc.detach()"
   ]
  },
  {
   "cell_type": "markdown",
   "metadata": {},
   "source": [
    "Plotting the two distributions for observations $\\mathrm{data\\_ind}$ and checking that variational approximation is good"
   ]
  },
  {
   "cell_type": "code",
   "execution_count": 72,
   "metadata": {},
   "outputs": [
    {
     "data": {
      "image/png": "[encoded data removed]",
      "text/plain": [
       "<Figure size 1200x900 with 1 Axes>"
      ]
     },
     "metadata": {
      "needs_background": "light"
     },
     "output_type": "display_data"
    }
   ],
   "source": [
    "plt.figure(figsize=(4, 3), dpi=300)\n",
    "plt.scatter(z[:, 0].cpu(), z[:, 1].cpu(), label='posterior samples', s=10, alpha=0.1)\n",
    "plt.scatter(z_enc[:, 0].cpu(), z_enc[:, 1].cpu(), label='encoder samples', s=10, alpha=0.1, color = 'red')\n",
    "plt.legend()\n",
    "plt.axis('equal');"
   ]
  },
  {
   "cell_type": "markdown",
   "metadata": {},
   "source": [
    "### lagging VAE "
   ]
  },
  {
   "cell_type": "markdown",
   "metadata": {},
   "source": [
    "Encoder seems to reach convergence within 5 epoches with lr_phi = 1e-3 and batch size = 100"
   ]
  },
  {
   "cell_type": "code",
   "execution_count": 73,
   "metadata": {},
   "outputs": [],
   "source": [
    "K = 10\n",
    "enc_lagg = Encoder_vae(data_dim=data_dim, z_dim=z_dim, K=K).to(device)\n",
    "dec_lagg = Decoder(data_dim=data_dim, z_dim=z_dim).to(device)"
   ]
  },
  {
   "cell_type": "code",
   "execution_count": 74,
   "metadata": {},
   "outputs": [],
   "source": [
    "optimizer_phi = torch.optim.Adam(params=enc_lagg.parameters(), lr = 1e-3)\n",
    "optimizer_theta = torch.optim.Adam(params=dec_lagg.parameters(), lr = 1e-3)\n",
    "n_epoches_enc = 5\n",
    "true_kl = False\n",
    "better_log = False\n",
    "batch_size = 500\n",
    "dataloader = torch.utils.data.DataLoader(data, batch_size=batch_size, shuffle=True)"
   ]
  },
  {
   "cell_type": "code",
   "execution_count": 75,
   "metadata": {},
   "outputs": [
    {
     "name": "stderr",
     "output_type": "stream",
     "text": [
      "  0%|          | 2/5000 [00:00<05:22, 15.48it/s]"
     ]
    },
    {
     "name": "stdout",
     "output_type": "stream",
     "text": [
      "Epoch_theta  1\n",
      "elbo:  -8.201071\n"
     ]
    },
    {
     "name": "stderr",
     "output_type": "stream",
     "text": [
      "  2%|▏         | 102/5000 [00:06<05:32, 14.72it/s]"
     ]
    },
    {
     "name": "stdout",
     "output_type": "stream",
     "text": [
      "Epoch_theta  21\n",
      "elbo:  -7.0648346\n"
     ]
    },
    {
     "name": "stderr",
     "output_type": "stream",
     "text": [
      "  4%|▍         | 202/5000 [00:13<05:22, 14.87it/s]"
     ]
    },
    {
     "name": "stdout",
     "output_type": "stream",
     "text": [
      "Epoch_theta  41\n",
      "elbo:  -6.8650618\n"
     ]
    },
    {
     "name": "stderr",
     "output_type": "stream",
     "text": [
      "  6%|▌         | 302/5000 [00:20<05:16, 14.86it/s]"
     ]
    },
    {
     "name": "stdout",
     "output_type": "stream",
     "text": [
      "Epoch_theta  61\n",
      "elbo:  -6.72302\n"
     ]
    },
    {
     "name": "stderr",
     "output_type": "stream",
     "text": [
      "  8%|▊         | 402/5000 [00:27<05:09, 14.87it/s]"
     ]
    },
    {
     "name": "stdout",
     "output_type": "stream",
     "text": [
      "Epoch_theta  81\n",
      "elbo:  -6.6692424\n"
     ]
    },
    {
     "name": "stderr",
     "output_type": "stream",
     "text": [
      " 10%|█         | 502/5000 [00:34<05:06, 14.66it/s]"
     ]
    },
    {
     "name": "stdout",
     "output_type": "stream",
     "text": [
      "Epoch_theta  101\n",
      "elbo:  -6.6442084\n"
     ]
    },
    {
     "name": "stderr",
     "output_type": "stream",
     "text": [
      " 12%|█▏        | 602/5000 [00:40<04:55, 14.88it/s]"
     ]
    },
    {
     "name": "stdout",
     "output_type": "stream",
     "text": [
      "Epoch_theta  121\n",
      "elbo:  -6.636615\n"
     ]
    },
    {
     "name": "stderr",
     "output_type": "stream",
     "text": [
      " 14%|█▍        | 702/5000 [00:47<04:49, 14.87it/s]"
     ]
    },
    {
     "name": "stdout",
     "output_type": "stream",
     "text": [
      "Epoch_theta  141\n",
      "elbo:  -6.6264052\n"
     ]
    },
    {
     "name": "stderr",
     "output_type": "stream",
     "text": [
      " 16%|█▌        | 802/5000 [00:54<04:42, 14.86it/s]"
     ]
    },
    {
     "name": "stdout",
     "output_type": "stream",
     "text": [
      "Epoch_theta  161\n",
      "elbo:  -6.620461\n"
     ]
    },
    {
     "name": "stderr",
     "output_type": "stream",
     "text": [
      " 18%|█▊        | 902/5000 [01:01<04:38, 14.71it/s]"
     ]
    },
    {
     "name": "stdout",
     "output_type": "stream",
     "text": [
      "Epoch_theta  181\n",
      "elbo:  -6.620513\n"
     ]
    },
    {
     "name": "stderr",
     "output_type": "stream",
     "text": [
      " 20%|██        | 1002/5000 [01:08<04:32, 14.67it/s]"
     ]
    },
    {
     "name": "stdout",
     "output_type": "stream",
     "text": [
      "Epoch_theta  201\n",
      "elbo:  -6.6204467\n"
     ]
    },
    {
     "name": "stderr",
     "output_type": "stream",
     "text": [
      " 22%|██▏       | 1102/5000 [01:14<04:21, 14.88it/s]"
     ]
    },
    {
     "name": "stdout",
     "output_type": "stream",
     "text": [
      "Epoch_theta  221\n",
      "elbo:  -6.612793\n"
     ]
    },
    {
     "name": "stderr",
     "output_type": "stream",
     "text": [
      " 24%|██▍       | 1202/5000 [01:21<04:17, 14.73it/s]"
     ]
    },
    {
     "name": "stdout",
     "output_type": "stream",
     "text": [
      "Epoch_theta  241\n",
      "elbo:  -6.6178875\n"
     ]
    },
    {
     "name": "stderr",
     "output_type": "stream",
     "text": [
      " 26%|██▌       | 1302/5000 [01:28<04:08, 14.87it/s]"
     ]
    },
    {
     "name": "stdout",
     "output_type": "stream",
     "text": [
      "Epoch_theta  261\n",
      "elbo:  -6.6119123\n"
     ]
    },
    {
     "name": "stderr",
     "output_type": "stream",
     "text": [
      " 28%|██▊       | 1402/5000 [01:35<04:01, 14.88it/s]"
     ]
    },
    {
     "name": "stdout",
     "output_type": "stream",
     "text": [
      "Epoch_theta  281\n",
      "elbo:  -6.613875\n"
     ]
    },
    {
     "name": "stderr",
     "output_type": "stream",
     "text": [
      " 30%|███       | 1502/5000 [01:42<03:57, 14.71it/s]"
     ]
    },
    {
     "name": "stdout",
     "output_type": "stream",
     "text": [
      "Epoch_theta  301\n",
      "elbo:  -6.6155243\n"
     ]
    },
    {
     "name": "stderr",
     "output_type": "stream",
     "text": [
      " 32%|███▏      | 1602/5000 [01:48<03:49, 14.81it/s]"
     ]
    },
    {
     "name": "stdout",
     "output_type": "stream",
     "text": [
      "Epoch_theta  321\n",
      "elbo:  -6.611517\n"
     ]
    },
    {
     "name": "stderr",
     "output_type": "stream",
     "text": [
      " 34%|███▍      | 1702/5000 [01:55<03:43, 14.75it/s]"
     ]
    },
    {
     "name": "stdout",
     "output_type": "stream",
     "text": [
      "Epoch_theta  341\n",
      "elbo:  -6.614517\n"
     ]
    },
    {
     "name": "stderr",
     "output_type": "stream",
     "text": [
      " 36%|███▌      | 1802/5000 [02:02<03:36, 14.78it/s]"
     ]
    },
    {
     "name": "stdout",
     "output_type": "stream",
     "text": [
      "Epoch_theta  361\n",
      "elbo:  -6.611766\n"
     ]
    },
    {
     "name": "stderr",
     "output_type": "stream",
     "text": [
      " 38%|███▊      | 1902/5000 [02:09<03:27, 14.93it/s]"
     ]
    },
    {
     "name": "stdout",
     "output_type": "stream",
     "text": [
      "Epoch_theta  381\n",
      "elbo:  -6.608567\n"
     ]
    },
    {
     "name": "stderr",
     "output_type": "stream",
     "text": [
      " 40%|████      | 2002/5000 [02:16<03:21, 14.87it/s]"
     ]
    },
    {
     "name": "stdout",
     "output_type": "stream",
     "text": [
      "Epoch_theta  401\n",
      "elbo:  -6.615902\n"
     ]
    },
    {
     "name": "stderr",
     "output_type": "stream",
     "text": [
      " 42%|████▏     | 2102/5000 [02:22<03:15, 14.82it/s]"
     ]
    },
    {
     "name": "stdout",
     "output_type": "stream",
     "text": [
      "Epoch_theta  421\n",
      "elbo:  -6.608621\n"
     ]
    },
    {
     "name": "stderr",
     "output_type": "stream",
     "text": [
      " 44%|████▍     | 2202/5000 [02:29<03:08, 14.85it/s]"
     ]
    },
    {
     "name": "stdout",
     "output_type": "stream",
     "text": [
      "Epoch_theta  441\n",
      "elbo:  -6.609421\n"
     ]
    },
    {
     "name": "stderr",
     "output_type": "stream",
     "text": [
      " 46%|████▌     | 2302/5000 [02:36<03:01, 14.87it/s]"
     ]
    },
    {
     "name": "stdout",
     "output_type": "stream",
     "text": [
      "Epoch_theta  461\n",
      "elbo:  -6.6114035\n"
     ]
    },
    {
     "name": "stderr",
     "output_type": "stream",
     "text": [
      " 48%|████▊     | 2402/5000 [02:43<02:56, 14.70it/s]"
     ]
    },
    {
     "name": "stdout",
     "output_type": "stream",
     "text": [
      "Epoch_theta  481\n",
      "elbo:  -6.6117997\n"
     ]
    },
    {
     "name": "stderr",
     "output_type": "stream",
     "text": [
      " 50%|█████     | 2502/5000 [02:50<02:48, 14.79it/s]"
     ]
    },
    {
     "name": "stdout",
     "output_type": "stream",
     "text": [
      "Epoch_theta  501\n",
      "elbo:  -6.610984\n"
     ]
    },
    {
     "name": "stderr",
     "output_type": "stream",
     "text": [
      " 52%|█████▏    | 2602/5000 [02:56<02:40, 14.91it/s]"
     ]
    },
    {
     "name": "stdout",
     "output_type": "stream",
     "text": [
      "Epoch_theta  521\n",
      "elbo:  -6.614212\n"
     ]
    },
    {
     "name": "stderr",
     "output_type": "stream",
     "text": [
      " 54%|█████▍    | 2702/5000 [03:03<02:36, 14.72it/s]"
     ]
    },
    {
     "name": "stdout",
     "output_type": "stream",
     "text": [
      "Epoch_theta  541\n",
      "elbo:  -6.6160235\n"
     ]
    },
    {
     "name": "stderr",
     "output_type": "stream",
     "text": [
      " 56%|█████▌    | 2802/5000 [03:10<02:28, 14.77it/s]"
     ]
    },
    {
     "name": "stdout",
     "output_type": "stream",
     "text": [
      "Epoch_theta  561\n",
      "elbo:  -6.614921\n"
     ]
    },
    {
     "name": "stderr",
     "output_type": "stream",
     "text": [
      " 58%|█████▊    | 2902/5000 [03:17<02:20, 14.97it/s]"
     ]
    },
    {
     "name": "stdout",
     "output_type": "stream",
     "text": [
      "Epoch_theta  581\n",
      "elbo:  -6.6141872\n"
     ]
    },
    {
     "name": "stderr",
     "output_type": "stream",
     "text": [
      " 60%|██████    | 3002/5000 [03:24<02:16, 14.63it/s]"
     ]
    },
    {
     "name": "stdout",
     "output_type": "stream",
     "text": [
      "Epoch_theta  601\n",
      "elbo:  -6.613578\n"
     ]
    },
    {
     "name": "stderr",
     "output_type": "stream",
     "text": [
      " 62%|██████▏   | 3102/5000 [03:30<02:07, 14.85it/s]"
     ]
    },
    {
     "name": "stdout",
     "output_type": "stream",
     "text": [
      "Epoch_theta  621\n",
      "elbo:  -6.61155\n"
     ]
    },
    {
     "name": "stderr",
     "output_type": "stream",
     "text": [
      " 64%|██████▍   | 3202/5000 [03:37<02:02, 14.71it/s]"
     ]
    },
    {
     "name": "stdout",
     "output_type": "stream",
     "text": [
      "Epoch_theta  641\n",
      "elbo:  -6.615716\n"
     ]
    },
    {
     "name": "stderr",
     "output_type": "stream",
     "text": [
      " 66%|██████▌   | 3302/5000 [03:44<01:53, 14.99it/s]"
     ]
    },
    {
     "name": "stdout",
     "output_type": "stream",
     "text": [
      "Epoch_theta  661\n",
      "elbo:  -6.613979\n"
     ]
    },
    {
     "name": "stderr",
     "output_type": "stream",
     "text": [
      " 68%|██████▊   | 3402/5000 [03:51<01:48, 14.68it/s]"
     ]
    },
    {
     "name": "stdout",
     "output_type": "stream",
     "text": [
      "Epoch_theta  681\n",
      "elbo:  -6.610776\n"
     ]
    },
    {
     "name": "stderr",
     "output_type": "stream",
     "text": [
      " 70%|███████   | 3502/5000 [03:57<01:40, 14.90it/s]"
     ]
    },
    {
     "name": "stdout",
     "output_type": "stream",
     "text": [
      "Epoch_theta  701\n",
      "elbo:  -6.6152096\n"
     ]
    },
    {
     "name": "stderr",
     "output_type": "stream",
     "text": [
      " 72%|███████▏  | 3602/5000 [04:04<01:33, 14.95it/s]"
     ]
    },
    {
     "name": "stdout",
     "output_type": "stream",
     "text": [
      "Epoch_theta  721\n",
      "elbo:  -6.6095285\n"
     ]
    },
    {
     "name": "stderr",
     "output_type": "stream",
     "text": [
      " 74%|███████▍  | 3702/5000 [04:11<01:27, 14.76it/s]"
     ]
    },
    {
     "name": "stdout",
     "output_type": "stream",
     "text": [
      "Epoch_theta  741\n",
      "elbo:  -6.6131063\n"
     ]
    },
    {
     "name": "stderr",
     "output_type": "stream",
     "text": [
      " 76%|███████▌  | 3802/5000 [04:18<01:21, 14.76it/s]"
     ]
    },
    {
     "name": "stdout",
     "output_type": "stream",
     "text": [
      "Epoch_theta  761\n",
      "elbo:  -6.612173\n"
     ]
    },
    {
     "name": "stderr",
     "output_type": "stream",
     "text": [
      " 78%|███████▊  | 3902/5000 [04:25<01:14, 14.67it/s]"
     ]
    },
    {
     "name": "stdout",
     "output_type": "stream",
     "text": [
      "Epoch_theta  781\n",
      "elbo:  -6.6142426\n"
     ]
    },
    {
     "name": "stderr",
     "output_type": "stream",
     "text": [
      " 80%|████████  | 4002/5000 [04:31<01:07, 14.74it/s]"
     ]
    },
    {
     "name": "stdout",
     "output_type": "stream",
     "text": [
      "Epoch_theta  801\n",
      "elbo:  -6.611982\n"
     ]
    },
    {
     "name": "stderr",
     "output_type": "stream",
     "text": [
      " 82%|████████▏ | 4102/5000 [04:38<01:00, 14.79it/s]"
     ]
    },
    {
     "name": "stdout",
     "output_type": "stream",
     "text": [
      "Epoch_theta  821\n",
      "elbo:  -6.612406\n"
     ]
    },
    {
     "name": "stderr",
     "output_type": "stream",
     "text": [
      " 84%|████████▍ | 4202/5000 [04:45<00:54, 14.73it/s]"
     ]
    },
    {
     "name": "stdout",
     "output_type": "stream",
     "text": [
      "Epoch_theta  841\n",
      "elbo:  -6.61693\n"
     ]
    },
    {
     "name": "stderr",
     "output_type": "stream",
     "text": [
      " 86%|████████▌ | 4302/5000 [04:52<00:47, 14.78it/s]"
     ]
    },
    {
     "name": "stdout",
     "output_type": "stream",
     "text": [
      "Epoch_theta  861\n",
      "elbo:  -6.6144667\n"
     ]
    },
    {
     "name": "stderr",
     "output_type": "stream",
     "text": [
      " 88%|████████▊ | 4402/5000 [04:59<00:40, 14.90it/s]"
     ]
    },
    {
     "name": "stdout",
     "output_type": "stream",
     "text": [
      "Epoch_theta  881\n",
      "elbo:  -6.6120186\n"
     ]
    },
    {
     "name": "stderr",
     "output_type": "stream",
     "text": [
      " 90%|█████████ | 4502/5000 [05:05<00:33, 14.90it/s]"
     ]
    },
    {
     "name": "stdout",
     "output_type": "stream",
     "text": [
      "Epoch_theta  901\n",
      "elbo:  -6.6152816\n"
     ]
    },
    {
     "name": "stderr",
     "output_type": "stream",
     "text": [
      " 92%|█████████▏| 4602/5000 [05:12<00:26, 14.89it/s]"
     ]
    },
    {
     "name": "stdout",
     "output_type": "stream",
     "text": [
      "Epoch_theta  921\n",
      "elbo:  -6.6146226\n"
     ]
    },
    {
     "name": "stderr",
     "output_type": "stream",
     "text": [
      " 94%|█████████▍| 4702/5000 [05:19<00:20, 14.89it/s]"
     ]
    },
    {
     "name": "stdout",
     "output_type": "stream",
     "text": [
      "Epoch_theta  941\n",
      "elbo:  -6.6127915\n"
     ]
    },
    {
     "name": "stderr",
     "output_type": "stream",
     "text": [
      " 96%|█████████▌| 4802/5000 [05:26<00:13, 14.91it/s]"
     ]
    },
    {
     "name": "stdout",
     "output_type": "stream",
     "text": [
      "Epoch_theta  961\n",
      "elbo:  -6.610161\n"
     ]
    },
    {
     "name": "stderr",
     "output_type": "stream",
     "text": [
      " 98%|█████████▊| 4902/5000 [05:33<00:06, 14.94it/s]"
     ]
    },
    {
     "name": "stdout",
     "output_type": "stream",
     "text": [
      "Epoch_theta  981\n",
      "elbo:  -6.615867\n"
     ]
    },
    {
     "name": "stderr",
     "output_type": "stream",
     "text": [
      "100%|██████████| 5000/5000 [05:39<00:00, 14.72it/s]\n"
     ]
    }
   ],
   "source": [
    "print_info = 100\n",
    "count = 0\n",
    "for ep in tqdm(range(num_epoches)):\n",
    "    elbo_ep = 0\n",
    "    for b_num, batch_train in enumerate(dataloader): # cycle over batches\n",
    "        mu, sigma = enc_lagg(batch_train)\n",
    "        u = std_normal.sample(mu.shape)\n",
    "        z = mu + sigma * u # reparametrization trick\n",
    "        prod = (dec_lagg(z))\n",
    "        if true_kl == True:\n",
    "            if better_log == True:\n",
    "                log_likelihood = (batch_train * dec_lagg(mu) - torch.log(1 + torch.exp(prod))).sum(1)\n",
    "            else:\n",
    "                log_likelihood = torch.distributions.Bernoulli(probs=torch.sigmoid(prod)).log_prob(batch_train).sum(1)\n",
    "            KLD = (-0.5 * (1 + 2 * sigma.log() - mu.pow(2) - sigma.pow(2))).sum(1)\n",
    "            elbo = (log_likelihood - KLD).mean()    \n",
    "        else:    \n",
    "            log_p = torch.distributions.Bernoulli(probs=torch.sigmoid(prod)).log_prob(batch_train).sum(1) + std_normal.log_prob(z).sum(1)\n",
    "            sum_log_sigma = torch.sum(torch.log(sigma), 1)\n",
    "            log_m = std_normal.log_prob(u).sum(1) - sum_log_sigma\n",
    "            elbo = (log_p - log_m).mean()\n",
    "        elbo_ep += elbo\n",
    "        (-elbo).backward()\n",
    "        if ep % n_epoches_enc == 0:\n",
    "            optimizer_theta.step()\n",
    "            optimizer_phi.zero_grad()\n",
    "            optimizer_theta.zero_grad()\n",
    "        else:\n",
    "            optimizer_phi.step()\n",
    "            optimizer_phi.zero_grad()\n",
    "            optimizer_theta.zero_grad()\n",
    "    if ep % n_epoches_enc==0:\n",
    "        count += 1\n",
    "    if (ep % print_info==0):\n",
    "        print('Epoch_theta ', count)\n",
    "        print('elbo: ', (elbo_ep / b_num).cpu().detach().numpy())\n",
    "        if False:\n",
    "            init_samples = std_normal_pyro.sample((1, z_dim))\n",
    "            init_params = {'points': init_samples}\n",
    "            nuts_kernel = NUTS(potential_fn=potential_fn)\n",
    "            def potential_fn(z):\n",
    "                z = z['points']\n",
    "                probs = torch.sigmoid(dec_lagg(z))\n",
    "                return -torch.sum(pyro.distributions.Bernoulli(probs=probs).log_prob(data[data_ind][None]).sum(1) + std_normal_pyro.log_prob(z).sum(1))\n",
    "            mcmc = MCMC(nuts_kernel,\n",
    "                        initial_params=init_params,\n",
    "                        num_samples=n_samples,\n",
    "                        warmup_steps=n_warmup)\n",
    "            mcmc.run()\n",
    "            z = mcmc.get_samples()['points'].squeeze()\n",
    "            mu, sigma = enc_lagg(data[data_ind][None])\n",
    "            u_enc = std_normal_pyro.sample((n_samples, z_dim))\n",
    "            z_enc = mu + sigma * u_enc\n",
    "            z_enc = z_enc.detach()\n",
    "            plt.figure(figsize=(4, 3), dpi=300)\n",
    "            plt.scatter(z[:, 0].cpu(), z[:, 1].cpu(), label='posterior samples', s=10, alpha=0.1)\n",
    "            plt.scatter(z_enc[:, 0].cpu(), z_enc[:, 1].cpu(), label='encoder samples', s=10, alpha=0.1, color='red')\n",
    "            plt.legend()\n",
    "            plt.axis('equal')\n",
    "            plt.show()\n",
    "        #print('KL divergence: ', KLD.mean().cpu().detach().numpy())"
   ]
  },
  {
   "cell_type": "code",
   "execution_count": 76,
   "metadata": {},
   "outputs": [
    {
     "name": "stdout",
     "output_type": "stream",
     "text": [
      "true_theta tensor([[-0.2963,  2.6764, -0.1408, -0.8441,  0.2905, -0.2838, -1.4535,  2.3737,\n",
      "         -0.0177, -2.7884],\n",
      "        [-0.3788,  0.7046, -1.3956, -0.1248, -0.9259, -1.5463, -0.4902,  0.0244,\n",
      "         -1.5992, -0.8469]], device='cuda:0')\n",
      "----------------------------------------------------------------------------------------------------\n",
      "tensor([[-3.0249e-01, -2.8807e-01, -1.2124e+00,  1.8971e-01, -9.5612e-01,\n",
      "         -1.2896e+00,  4.5475e-02, -8.0868e-01, -1.4403e+00,  1.3432e-01],\n",
      "        [-4.0706e-01,  2.4972e+00, -5.9998e-01, -8.3530e-01, -2.0343e-03,\n",
      "         -7.2090e-01, -1.4752e+00,  2.0861e+00, -5.1983e-01, -2.5374e+00]],\n",
      "       device='cuda:0')\n"
     ]
    }
   ],
   "source": [
    "print('true_theta', true_theta)\n",
    "print('-' * 100)\n",
    "print(dec_lagg.W.weight.detach().T)"
   ]
  },
  {
   "cell_type": "code",
   "execution_count": null,
   "metadata": {},
   "outputs": [],
   "source": []
  },
  {
   "cell_type": "code",
   "execution_count": null,
   "metadata": {},
   "outputs": [],
   "source": []
  }
 ],
 "metadata": {
  "kernelspec": {
   "display_name": "Condatorch",
   "language": "python",
   "name": "condatorch"
  },
  "language_info": {
   "codemirror_mode": {
    "name": "ipython",
    "version": 3
   },
   "file_extension": ".py",
   "mimetype": "text/x-python",
   "name": "python",
   "nbconvert_exporter": "python",
   "pygments_lexer": "ipython3",
   "version": "3.7.6"
  }
 },
 "nbformat": 4,
 "nbformat_minor": 4
}
