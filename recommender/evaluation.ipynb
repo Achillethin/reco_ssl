{
 "cells": [
  {
   "cell_type": "code",
   "execution_count": null,
   "metadata": {},
   "outputs": [],
   "source": [
    "import os\n",
    "import torch\n",
    "import matplotlib.pyplot as plt\n",
    "import sys\n",
    "from tqdm import tqdm\n",
    "sys.path.insert(0, './src')\n",
    "%matplotlib inline\n",
    "\n",
    "\n",
    "from metrics import NDCG_binary_at_k_batch, Recall_at_k_batch\n",
    "from models import MultiVAE, MultiDAE, Multi_our_VAE, MultiHoffmanVAE, Multi_ourHoffman_VAE\n",
    "from training import train_model\n",
    "from data import Dataset\n",
    "from args import get_args\n",
    "import numpy as np\n",
    "import pandas as pd\n",
    "\n",
    "import pdb\n",
    "\n",
    "from sklearn.decomposition import PCA\n",
    "from sklearn.manifold import TSNE\n",
    "import ncvis\n",
    "\n",
    "\n",
    "\n",
    "\n",
    "device = 'cpu'\n",
    "\n",
    "class dotdict(dict):\n",
    "    \"\"\"dot.notation access to dictionary attributes\"\"\"\n",
    "    __getattr__ = dict.get\n",
    "    __setattr__ = dict.__setitem__\n",
    "    __delattr__ = dict.__delitem__"
   ]
  },
  {
   "cell_type": "code",
   "execution_count": 2,
   "metadata": {},
   "outputs": [],
   "source": [
    "args = dotdict({})\n",
    "args.train_batch_size = 500\n",
    "args.val_batch_size = 2000\n",
    "args.data = 'ml20m'\n",
    "args.device = device\n",
    "\n",
    "args.learning_rate = 1e-4\n",
    "args.n_epoches = 200\n",
    "args.l2_coeff = 0.01 / args.train_batch_size\n",
    "args.print_info_ = 1\n",
    "\n",
    "args.annealing = True\n",
    "\n",
    "if args.annealing:\n",
    "    args.total_anneal_steps = 200000\n",
    "    args.anneal_cap = 0.2\n",
    "else:\n",
    "    args.total_anneal_steps = 0\n",
    "    args.anneal_cap = 1.\n",
    "\n",
    "device_zero = torch.tensor(0., device=device, dtype=torch.float32)\n",
    "device_one = torch.tensor(1., device=device, dtype=torch.float32)\n",
    "std_normal = torch.distributions.Normal(loc=device_zero,\n",
    "                                    scale=device_one)\n",
    "    \n",
    "dataset = Dataset(args, data_dir='./data/')"
   ]
  },
  {
   "cell_type": "code",
   "execution_count": 3,
   "metadata": {},
   "outputs": [
    {
     "name": "stdout",
     "output_type": "stream",
     "text": [
      "'best_model_MultiHoffmanVAE_K_1_N_1_learnreverse_False_anneal_False.pt',\n",
      "'best_model_MultiHoffmanVAE_K_1_N_1_learnreverse_False_anneal_True.pt',\n",
      "'best_model_MultiHoffmanVAE_K_2_N_2_learnreverse_False_anneal_False.pt',\n",
      "'best_model_MultiHoffmanVAE_K_2_N_2_learnreverse_False_anneal_True.pt',\n",
      "'best_model_MultiHoffmanVAE_K_3_N_3_learnreverse_False_anneal_False.pt',\n",
      "'best_model_MultiHoffmanVAE_K_3_N_3_learnreverse_False_anneal_True.pt',\n",
      "'best_model_MultiHoffmanVAE_K_5_N_5_learnreverse_False_anneal_False.pt',\n",
      "'best_model_MultiHoffmanVAE_K_5_N_5_learnreverse_False_anneal_True.pt',\n",
      "'best_model_MultiVAE_K_None_N_None_learnreverse_False_anneal_False.pt',\n",
      "'best_model_MultiVAE_K_None_N_None_learnreverse_False_anneal_True.pt',\n",
      "'best_model_Multi_ourHoffman_VAE_K_1_N_1_learnreverse_False_anneal_False.pt',\n",
      "'best_model_Multi_ourHoffman_VAE_K_1_N_1_learnreverse_False_anneal_True.pt',\n",
      "'best_model_Multi_ourHoffman_VAE_K_1_N_1_learnreverse_True_anneal_False.pt',\n",
      "'best_model_Multi_ourHoffman_VAE_K_1_N_1_learnreverse_True_anneal_True.pt',\n",
      "'best_model_Multi_ourHoffman_VAE_K_1_N_2_learnreverse_False_anneal_False.pt',\n",
      "'best_model_Multi_ourHoffman_VAE_K_1_N_2_learnreverse_False_anneal_True.pt',\n",
      "'best_model_Multi_ourHoffman_VAE_K_1_N_2_learnreverse_True_anneal_False.pt',\n",
      "'best_model_Multi_ourHoffman_VAE_K_1_N_2_learnreverse_True_anneal_True.pt',\n",
      "'best_model_Multi_ourHoffman_VAE_K_1_N_3_learnreverse_False_anneal_False.pt',\n",
      "'best_model_Multi_ourHoffman_VAE_K_1_N_3_learnreverse_False_anneal_True.pt',\n",
      "'best_model_Multi_ourHoffman_VAE_K_1_N_3_learnreverse_True_anneal_False.pt',\n",
      "'best_model_Multi_ourHoffman_VAE_K_1_N_3_learnreverse_True_anneal_True.pt',\n",
      "'best_model_Multi_ourHoffman_VAE_K_1_N_5_learnreverse_False_anneal_False.pt',\n",
      "'best_model_Multi_ourHoffman_VAE_K_1_N_5_learnreverse_False_anneal_True.pt',\n",
      "'best_model_Multi_ourHoffman_VAE_K_1_N_5_learnreverse_True_anneal_False.pt',\n",
      "'best_model_Multi_ourHoffman_VAE_K_1_N_5_learnreverse_True_anneal_True.pt',\n",
      "'best_model_Multi_ourHoffman_VAE_K_2_N_1_learnreverse_False_anneal_False.pt',\n",
      "'best_model_Multi_ourHoffman_VAE_K_2_N_1_learnreverse_False_anneal_True.pt',\n",
      "'best_model_Multi_ourHoffman_VAE_K_2_N_1_learnreverse_True_anneal_False.pt',\n",
      "'best_model_Multi_ourHoffman_VAE_K_2_N_1_learnreverse_True_anneal_True.pt',\n",
      "'best_model_Multi_ourHoffman_VAE_K_2_N_2_learnreverse_False_anneal_False.pt',\n",
      "'best_model_Multi_ourHoffman_VAE_K_2_N_2_learnreverse_False_anneal_True.pt',\n",
      "'best_model_Multi_ourHoffman_VAE_K_2_N_2_learnreverse_True_anneal_False.pt',\n",
      "'best_model_Multi_ourHoffman_VAE_K_2_N_2_learnreverse_True_anneal_True.pt',\n",
      "'best_model_Multi_ourHoffman_VAE_K_3_N_1_learnreverse_False_anneal_False.pt',\n",
      "'best_model_Multi_ourHoffman_VAE_K_3_N_1_learnreverse_False_anneal_True.pt',\n",
      "'best_model_Multi_ourHoffman_VAE_K_3_N_1_learnreverse_True_anneal_False.pt',\n",
      "'best_model_Multi_ourHoffman_VAE_K_3_N_1_learnreverse_True_anneal_True.pt',\n",
      "'best_model_Multi_ourHoffman_VAE_K_3_N_3_learnreverse_False_anneal_False.pt',\n",
      "'best_model_Multi_ourHoffman_VAE_K_3_N_3_learnreverse_False_anneal_True.pt',\n",
      "'best_model_Multi_ourHoffman_VAE_K_3_N_3_learnreverse_True_anneal_False.pt',\n",
      "'best_model_Multi_ourHoffman_VAE_K_3_N_3_learnreverse_True_anneal_True.pt',\n",
      "'best_model_Multi_ourHoffman_VAE_K_5_N_1_learnreverse_False_anneal_False.pt',\n",
      "'best_model_Multi_ourHoffman_VAE_K_5_N_1_learnreverse_False_anneal_True.pt',\n",
      "'best_model_Multi_ourHoffman_VAE_K_5_N_1_learnreverse_True_anneal_False.pt',\n",
      "'best_model_Multi_ourHoffman_VAE_K_5_N_1_learnreverse_True_anneal_True.pt',\n",
      "'best_model_Multi_ourHoffman_VAE_K_5_N_5_learnreverse_False_anneal_False.pt',\n",
      "'best_model_Multi_ourHoffman_VAE_K_5_N_5_learnreverse_False_anneal_True.pt',\n",
      "'best_model_Multi_our_VAE_K_1_N_1_learnreverse_False_anneal_False.pt',\n",
      "'best_model_Multi_our_VAE_K_1_N_1_learnreverse_False_anneal_True.pt',\n",
      "'best_model_Multi_our_VAE_K_1_N_1_learnreverse_True_anneal_False.pt',\n",
      "'best_model_Multi_our_VAE_K_1_N_1_learnreverse_True_anneal_True.pt',\n",
      "'best_model_Multi_our_VAE_K_1_N_2_learnreverse_False_anneal_False.pt',\n",
      "'best_model_Multi_our_VAE_K_1_N_2_learnreverse_False_anneal_True.pt',\n",
      "'best_model_Multi_our_VAE_K_1_N_2_learnreverse_True_anneal_False.pt',\n",
      "'best_model_Multi_our_VAE_K_1_N_2_learnreverse_True_anneal_True.pt',\n",
      "'best_model_Multi_our_VAE_K_1_N_3_learnreverse_False_anneal_False.pt',\n",
      "'best_model_Multi_our_VAE_K_1_N_3_learnreverse_False_anneal_True.pt',\n",
      "'best_model_Multi_our_VAE_K_1_N_3_learnreverse_True_anneal_False.pt',\n",
      "'best_model_Multi_our_VAE_K_1_N_3_learnreverse_True_anneal_True.pt',\n",
      "'best_model_Multi_our_VAE_K_1_N_5_learnreverse_False_anneal_False.pt',\n",
      "'best_model_Multi_our_VAE_K_1_N_5_learnreverse_False_anneal_True.pt',\n",
      "'best_model_Multi_our_VAE_K_1_N_5_learnreverse_True_anneal_False.pt',\n",
      "'best_model_Multi_our_VAE_K_1_N_5_learnreverse_True_anneal_True.pt',\n",
      "'best_model_Multi_our_VAE_K_2_N_1_learnreverse_False_anneal_False.pt',\n",
      "'best_model_Multi_our_VAE_K_2_N_1_learnreverse_False_anneal_True.pt',\n",
      "'best_model_Multi_our_VAE_K_2_N_1_learnreverse_True_anneal_False.pt',\n",
      "'best_model_Multi_our_VAE_K_2_N_1_learnreverse_True_anneal_True.pt',\n",
      "'best_model_Multi_our_VAE_K_2_N_2_learnreverse_False_anneal_False.pt',\n",
      "'best_model_Multi_our_VAE_K_2_N_2_learnreverse_False_anneal_True.pt',\n",
      "'best_model_Multi_our_VAE_K_2_N_2_learnreverse_True_anneal_False.pt',\n",
      "'best_model_Multi_our_VAE_K_2_N_2_learnreverse_True_anneal_True.pt',\n",
      "'best_model_Multi_our_VAE_K_3_N_1_learnreverse_False_anneal_False.pt',\n",
      "'best_model_Multi_our_VAE_K_3_N_1_learnreverse_False_anneal_True.pt',\n",
      "'best_model_Multi_our_VAE_K_3_N_1_learnreverse_True_anneal_False.pt',\n",
      "'best_model_Multi_our_VAE_K_3_N_1_learnreverse_True_anneal_True.pt',\n",
      "'best_model_Multi_our_VAE_K_3_N_3_learnreverse_False_anneal_False.pt',\n",
      "'best_model_Multi_our_VAE_K_3_N_3_learnreverse_False_anneal_True.pt',\n",
      "'best_model_Multi_our_VAE_K_3_N_3_learnreverse_True_anneal_False.pt',\n",
      "'best_model_Multi_our_VAE_K_3_N_3_learnreverse_True_anneal_True.pt',\n",
      "'best_model_Multi_our_VAE_K_5_N_1_learnreverse_False_anneal_False.pt',\n",
      "'best_model_Multi_our_VAE_K_5_N_1_learnreverse_False_anneal_True.pt',\n",
      "'best_model_Multi_our_VAE_K_5_N_1_learnreverse_True_anneal_False.pt',\n",
      "'best_model_Multi_our_VAE_K_5_N_1_learnreverse_True_anneal_True.pt',\n",
      "'best_model_Multi_our_VAE_K_5_N_5_learnreverse_False_anneal_False.pt',\n",
      "'best_model_Multi_our_VAE_K_5_N_5_learnreverse_False_anneal_True.pt',\n",
      "'best_model_Multi_our_VAE_K_5_N_5_learnreverse_True_anneal_False.pt',\n",
      "'best_model_Multi_our_VAE_K_5_N_5_learnreverse_True_anneal_True.pt',\n"
     ]
    }
   ],
   "source": [
    "models = [model for model in sorted(os.listdir('./models')) if model.startswith('best') ]\n",
    "for m in models:\n",
    "    print('\\'' + m + '\\',' )"
   ]
  },
  {
   "cell_type": "code",
   "execution_count": 4,
   "metadata": {},
   "outputs": [],
   "source": [
    "# models = [\n",
    "# 'best_model_MultiVAE_K_None_N_None_learnreverse_False_anneal_False.pt',\n",
    "# 'best_model_Multi_our_VAE_K_2_N_2_learnreverse_False_anneal_True.pt',\n",
    "# 'best_model_Multi_our_VAE_K_1_N_3_learnreverse_True_anneal_True.pt',\n",
    "# 'best_model_MultiHoffmanVAE_K_1_N_1_learnreverse_False_anneal_True.pt',\n",
    "# 'best_model_Multi_our_VAE_K_2_N_1_learnreverse_False_anneal_True.pt',\n",
    "# 'best_model_Multi_our_VAE_K_1_N_2_learnreverse_False_anneal_False.pt',\n",
    "# 'best_model_Multi_ourHoffman_VAE_K_2_N_2_learnreverse_False_anneal_False.pt',\n",
    "# 'best_model_Multi_our_VAE_K_1_N_1_learnreverse_True_anneal_True.pt',\n",
    "# 'best_model_Multi_ourHoffman_VAE_K_1_N_1_learnreverse_False_anneal_True.pt',\n",
    "# 'best_model_Multi_ourHoffman_VAE_K_2_N_2_learnreverse_True_anneal_True.pt',\n",
    "# 'best_model_Multi_our_VAE_K_1_N_3_learnreverse_False_anneal_True.pt',\n",
    "# 'best_model_Multi_our_VAE_K_1_N_1_learnreverse_False_anneal_False.pt',\n",
    "# 'best_model_Multi_our_VAE_K_2_N_1_learnreverse_True_anneal_True.pt',\n",
    "# 'best_model_Multi_ourHoffman_VAE_K_1_N_1_learnreverse_True_anneal_False.pt',\n",
    "# 'best_model_Multi_ourHoffman_VAE_K_2_N_2_learnreverse_True_anneal_False.pt',\n",
    "# 'best_model_Multi_our_VAE_K_1_N_5_learnreverse_False_anneal_True.pt',\n",
    "# 'best_model_Multi_our_VAE_K_2_N_1_learnreverse_False_anneal_False.pt',\n",
    "# 'best_model_MultiHoffmanVAE_K_1_N_1_learnreverse_False_anneal_False.pt',\n",
    "# 'best_model_Multi_our_VAE_K_2_N_1_learnreverse_True_anneal_False.pt',\n",
    "# 'best_model_Multi_our_VAE_K_3_N_1_learnreverse_False_anneal_False.pt',\n",
    "# 'best_model_Multi_our_VAE_K_1_N_1_learnreverse_True_anneal_False.pt',\n",
    "# 'best_model_Multi_our_VAE_K_1_N_2_learnreverse_True_anneal_False.pt',\n",
    "# 'best_model_Multi_our_VAE_K_1_N_2_learnreverse_True_anneal_True.pt',\n",
    "# 'best_model_Multi_ourHoffman_VAE_K_1_N_1_learnreverse_True_anneal_True.pt',\n",
    "# 'best_model_Multi_our_VAE_K_1_N_2_learnreverse_False_anneal_True.pt',\n",
    "# 'best_model_MultiVAE_K_None_N_None_learnreverse_False_anneal_True.pt',\n",
    "# 'best_model_Multi_our_VAE_K_3_N_1_learnreverse_True_anneal_True.pt',\n",
    "# 'best_model_Multi_our_VAE_K_3_N_1_learnreverse_True_anneal_False.pt',\n",
    "# 'best_model_MultiHoffmanVAE_K_2_N_2_learnreverse_False_anneal_False.pt',\n",
    "# 'best_model_Multi_our_VAE_K_5_N_1_learnreverse_False_anneal_True.pt',\n",
    "# 'best_model_MultiHoffmanVAE_K_2_N_2_learnreverse_False_anneal_True.pt',\n",
    "# 'best_model_Multi_our_VAE_K_2_N_2_learnreverse_False_anneal_False.pt',\n",
    "# 'best_model_Multi_our_VAE_K_1_N_1_learnreverse_False_anneal_True.pt',\n",
    "# 'best_model_Multi_ourHoffman_VAE_K_1_N_1_learnreverse_False_anneal_False.pt',\n",
    "# 'best_model_Multi_our_VAE_K_2_N_2_learnreverse_True_anneal_True.pt',\n",
    "# 'best_model_Multi_ourHoffman_VAE_K_2_N_2_learnreverse_False_anneal_True.pt',\n",
    "# 'best_model_Multi_our_VAE_K_5_N_1_learnreverse_True_anneal_False.pt',\n",
    "# 'best_model_Multi_our_VAE_K_2_N_2_learnreverse_True_anneal_False.pt',\n",
    "# 'best_model_Multi_our_VAE_K_3_N_1_learnreverse_False_anneal_True.pt',\n",
    "# 'best_model_Multi_our_VAE_K_5_N_1_learnreverse_False_anneal_False.pt',\n",
    "# 'best_model_Multi_our_VAE_K_5_N_1_learnreverse_True_anneal_True.pt',\n",
    "# ]"
   ]
  },
  {
   "cell_type": "code",
   "execution_count": 3,
   "metadata": {},
   "outputs": [],
   "source": [
    "def load_model(path, device):\n",
    "    device_zero = torch.tensor(0., device=device, dtype=torch.float32)\n",
    "    device_one = torch.tensor(1., device=device, dtype=torch.float32)\n",
    "    std_normal = torch.distributions.Normal(loc=device_zero,\n",
    "                                        scale=device_one)\n",
    "    uniform = torch.distributions.Uniform(low=device_zero, high=device_one)\n",
    "    torch_log_2 = torch.tensor(np.log(2), device=device, dtype=torch.float32)\n",
    "    \n",
    "    model = torch.load(path, map_location=device)\n",
    "    \n",
    "    model.eval()\n",
    "    model.std_normal = std_normal\n",
    "    if hasattr(model, 'torch_log_2'):\n",
    "        model.torch_log_2 = torch_log_2\n",
    "    if hasattr(model, 'transitions'):\n",
    "        model.transitions = model.transitions.to(device)\n",
    "        if type(model.transitions) == type(torch.nn.ModuleList([])):\n",
    "            for i in range(len(model.transitions)):\n",
    "                model.transitions[i].device = device\n",
    "                model.transitions[i].device_zero = device_zero\n",
    "                model.transitions[i].device_one = device_one\n",
    "        else:\n",
    "            model.transitions.device = device\n",
    "            model.transitions.device_zero = device_zero\n",
    "            model.transitions.device_one = device_one\n",
    "    if hasattr(model, 'reverse_kernel'):\n",
    "        model.reverse_kernel = model.reverse_kernel.to(device)\n",
    "        model.reverse_kernel.device = device\n",
    "        model.device_one = device_one\n",
    "        \n",
    "    return model"
   ]
  },
  {
   "cell_type": "code",
   "execution_count": 6,
   "metadata": {
    "collapsed": true,
    "jupyter": {
     "outputs_hidden": true
    }
   },
   "outputs": [
    {
     "name": "stderr",
     "output_type": "stream",
     "text": [
      "  2%|▏         | 1/50 [00:22<18:41, 22.90s/it]"
     ]
    },
    {
     "name": "stdout",
     "output_type": "stream",
     "text": [
      "best_model_MultiHoffmanVAE_K_1_N_1_learnreverse_False_anneal_False.pt NDCG:  0.3599860801663479 \t Recall:  0.5913827374137361\n"
     ]
    },
    {
     "name": "stderr",
     "output_type": "stream",
     "text": [
      "  4%|▍         | 2/50 [00:46<18:33, 23.20s/it]"
     ]
    },
    {
     "name": "stdout",
     "output_type": "stream",
     "text": [
      "best_model_MultiHoffmanVAE_K_1_N_1_learnreverse_False_anneal_True.pt NDCG:  0.3869960989637224 \t Recall:  0.6260463131454891\n"
     ]
    },
    {
     "name": "stderr",
     "output_type": "stream",
     "text": [
      "  6%|▌         | 3/50 [01:34<23:54, 30.51s/it]"
     ]
    },
    {
     "name": "stdout",
     "output_type": "stream",
     "text": [
      "best_model_MultiHoffmanVAE_K_2_N_2_learnreverse_False_anneal_False.pt NDCG:  0.3556332987902591 \t Recall:  0.584346510422563\n"
     ]
    },
    {
     "name": "stderr",
     "output_type": "stream",
     "text": [
      "  8%|▊         | 4/50 [02:19<26:40, 34.80s/it]"
     ]
    },
    {
     "name": "stdout",
     "output_type": "stream",
     "text": [
      "best_model_MultiHoffmanVAE_K_2_N_2_learnreverse_False_anneal_True.pt NDCG:  0.3871900650448047 \t Recall:  0.6202633598928076\n"
     ]
    },
    {
     "name": "stderr",
     "output_type": "stream",
     "text": [
      " 10%|█         | 5/50 [02:26<20:00, 26.68s/it]"
     ]
    },
    {
     "name": "stdout",
     "output_type": "stream",
     "text": [
      "best_model_MultiVAE_K_None_N_None_learnreverse_False_anneal_False.pt NDCG:  0.3619242533990528 \t Recall:  0.5955743713151105\n"
     ]
    },
    {
     "name": "stderr",
     "output_type": "stream",
     "text": [
      " 12%|█▏        | 6/50 [02:34<15:18, 20.88s/it]"
     ]
    },
    {
     "name": "stdout",
     "output_type": "stream",
     "text": [
      "best_model_MultiVAE_K_None_N_None_learnreverse_False_anneal_True.pt NDCG:  0.3923779405684078 \t Recall:  0.6286353124365546\n"
     ]
    },
    {
     "name": "stderr",
     "output_type": "stream",
     "text": [
      " 14%|█▍        | 7/50 [02:58<15:36, 21.78s/it]"
     ]
    },
    {
     "name": "stdout",
     "output_type": "stream",
     "text": [
      "best_model_Multi_ourHoffman_VAE_K_1_N_1_learnreverse_False_anneal_False.pt NDCG:  0.35879325821807323 \t Recall:  0.5894073144022108\n"
     ]
    },
    {
     "name": "stderr",
     "output_type": "stream",
     "text": [
      " 16%|█▌        | 8/50 [03:20<15:23, 22.00s/it]"
     ]
    },
    {
     "name": "stdout",
     "output_type": "stream",
     "text": [
      "best_model_Multi_ourHoffman_VAE_K_1_N_1_learnreverse_False_anneal_True.pt NDCG:  0.3941336728180382 \t Recall:  0.6283833780897363\n"
     ]
    },
    {
     "name": "stderr",
     "output_type": "stream",
     "text": [
      " 18%|█▊        | 9/50 [03:43<15:17, 22.38s/it]"
     ]
    },
    {
     "name": "stdout",
     "output_type": "stream",
     "text": [
      "best_model_Multi_ourHoffman_VAE_K_1_N_1_learnreverse_True_anneal_False.pt NDCG:  0.3605106032479916 \t Recall:  0.5908602258858912\n"
     ]
    },
    {
     "name": "stderr",
     "output_type": "stream",
     "text": [
      " 20%|██        | 10/50 [04:07<15:12, 22.82s/it]"
     ]
    },
    {
     "name": "stdout",
     "output_type": "stream",
     "text": [
      "best_model_Multi_ourHoffman_VAE_K_1_N_1_learnreverse_True_anneal_True.pt NDCG:  0.38840191318862777 \t Recall:  0.6276457781768106\n"
     ]
    },
    {
     "name": "stderr",
     "output_type": "stream",
     "text": [
      " 22%|██▏       | 11/50 [04:42<17:04, 26.28s/it]"
     ]
    },
    {
     "name": "stdout",
     "output_type": "stream",
     "text": [
      "best_model_Multi_ourHoffman_VAE_K_2_N_1_learnreverse_False_anneal_True.pt NDCG:  0.3913519364640719 \t Recall:  0.6287199617554532\n"
     ]
    },
    {
     "name": "stderr",
     "output_type": "stream",
     "text": [
      " 24%|██▍       | 12/50 [05:18<18:29, 29.19s/it]"
     ]
    },
    {
     "name": "stdout",
     "output_type": "stream",
     "text": [
      "best_model_Multi_ourHoffman_VAE_K_2_N_1_learnreverse_True_anneal_True.pt NDCG:  0.3918867038125033 \t Recall:  0.6288448197424459\n"
     ]
    },
    {
     "name": "stderr",
     "output_type": "stream",
     "text": [
      " 26%|██▌       | 13/50 [06:06<21:36, 35.03s/it]"
     ]
    },
    {
     "name": "stdout",
     "output_type": "stream",
     "text": [
      "best_model_Multi_ourHoffman_VAE_K_2_N_2_learnreverse_False_anneal_False.pt NDCG:  0.3596865985814431 \t Recall:  0.5885949688111318\n"
     ]
    },
    {
     "name": "stderr",
     "output_type": "stream",
     "text": [
      " 28%|██▊       | 14/50 [06:56<23:44, 39.58s/it]"
     ]
    },
    {
     "name": "stdout",
     "output_type": "stream",
     "text": [
      "best_model_Multi_ourHoffman_VAE_K_2_N_2_learnreverse_False_anneal_True.pt NDCG:  0.3898459361938759 \t Recall:  0.6283403871704691\n"
     ]
    },
    {
     "name": "stderr",
     "output_type": "stream",
     "text": [
      " 30%|███       | 15/50 [07:45<24:35, 42.15s/it]"
     ]
    },
    {
     "name": "stdout",
     "output_type": "stream",
     "text": [
      "best_model_Multi_ourHoffman_VAE_K_2_N_2_learnreverse_True_anneal_False.pt NDCG:  0.36035243063928446 \t Recall:  0.5896698527121945\n"
     ]
    },
    {
     "name": "stderr",
     "output_type": "stream",
     "text": [
      " 32%|███▏      | 16/50 [08:33<24:59, 44.10s/it]"
     ]
    },
    {
     "name": "stdout",
     "output_type": "stream",
     "text": [
      "best_model_Multi_ourHoffman_VAE_K_2_N_2_learnreverse_True_anneal_True.pt NDCG:  0.3928141160977155 \t Recall:  0.6306737619778007\n"
     ]
    },
    {
     "name": "stderr",
     "output_type": "stream",
     "text": [
      " 34%|███▍      | 17/50 [09:24<25:23, 46.18s/it]"
     ]
    },
    {
     "name": "stdout",
     "output_type": "stream",
     "text": [
      "best_model_Multi_ourHoffman_VAE_K_3_N_1_learnreverse_False_anneal_True.pt NDCG:  0.3924545336360928 \t Recall:  0.6294564018133613\n"
     ]
    },
    {
     "name": "stderr",
     "output_type": "stream",
     "text": [
      " 36%|███▌      | 18/50 [10:18<25:45, 48.31s/it]"
     ]
    },
    {
     "name": "stdout",
     "output_type": "stream",
     "text": [
      "best_model_Multi_ourHoffman_VAE_K_3_N_1_learnreverse_True_anneal_True.pt NDCG:  0.39866222776061483 \t Recall:  0.6353191968540188\n"
     ]
    },
    {
     "name": "stderr",
     "output_type": "stream",
     "text": [
      " 38%|███▊      | 19/50 [10:39<20:51, 40.36s/it]"
     ]
    },
    {
     "name": "stdout",
     "output_type": "stream",
     "text": [
      "best_model_Multi_our_VAE_K_1_N_1_learnreverse_False_anneal_False.pt NDCG:  0.36170831143295373 \t Recall:  0.5920325614287665\n"
     ]
    },
    {
     "name": "stderr",
     "output_type": "stream",
     "text": [
      " 40%|████      | 20/50 [11:01<17:25, 34.84s/it]"
     ]
    },
    {
     "name": "stdout",
     "output_type": "stream",
     "text": [
      "best_model_Multi_our_VAE_K_1_N_1_learnreverse_False_anneal_True.pt NDCG:  0.39265774620648664 \t Recall:  0.6289027201314517\n"
     ]
    },
    {
     "name": "stderr",
     "output_type": "stream",
     "text": [
      " 42%|████▏     | 21/50 [11:25<15:10, 31.39s/it]"
     ]
    },
    {
     "name": "stdout",
     "output_type": "stream",
     "text": [
      "best_model_Multi_our_VAE_K_1_N_1_learnreverse_True_anneal_False.pt NDCG:  0.36047320184691256 \t Recall:  0.5931143705545985\n"
     ]
    },
    {
     "name": "stderr",
     "output_type": "stream",
     "text": [
      " 44%|████▍     | 22/50 [11:48<13:31, 28.99s/it]"
     ]
    },
    {
     "name": "stdout",
     "output_type": "stream",
     "text": [
      "best_model_Multi_our_VAE_K_1_N_1_learnreverse_True_anneal_True.pt NDCG:  0.3898550466243452 \t Recall:  0.6279303140893364\n"
     ]
    },
    {
     "name": "stderr",
     "output_type": "stream",
     "text": [
      " 46%|████▌     | 23/50 [12:18<13:13, 29.38s/it]"
     ]
    },
    {
     "name": "stdout",
     "output_type": "stream",
     "text": [
      "best_model_Multi_our_VAE_K_1_N_2_learnreverse_False_anneal_False.pt NDCG:  0.3621371269608224 \t Recall:  0.5914337166871393\n"
     ]
    },
    {
     "name": "stderr",
     "output_type": "stream",
     "text": [
      " 48%|████▊     | 24/50 [12:49<12:54, 29.80s/it]"
     ]
    },
    {
     "name": "stdout",
     "output_type": "stream",
     "text": [
      "best_model_Multi_our_VAE_K_1_N_2_learnreverse_False_anneal_True.pt NDCG:  0.3898612432063945 \t Recall:  0.6270494068091119\n"
     ]
    },
    {
     "name": "stderr",
     "output_type": "stream",
     "text": [
      " 50%|█████     | 25/50 [13:18<12:21, 29.66s/it]"
     ]
    },
    {
     "name": "stdout",
     "output_type": "stream",
     "text": [
      "best_model_Multi_our_VAE_K_1_N_2_learnreverse_True_anneal_False.pt NDCG:  0.3591312197403387 \t Recall:  0.5871543506232507\n"
     ]
    },
    {
     "name": "stderr",
     "output_type": "stream",
     "text": [
      " 52%|█████▏    | 26/50 [13:45<11:30, 28.76s/it]"
     ]
    },
    {
     "name": "stdout",
     "output_type": "stream",
     "text": [
      "best_model_Multi_our_VAE_K_1_N_2_learnreverse_True_anneal_True.pt NDCG:  0.39080217299606784 \t Recall:  0.6292453610457914\n"
     ]
    },
    {
     "name": "stderr",
     "output_type": "stream",
     "text": [
      " 54%|█████▍    | 27/50 [14:18<11:31, 30.07s/it]"
     ]
    },
    {
     "name": "stdout",
     "output_type": "stream",
     "text": [
      "best_model_Multi_our_VAE_K_1_N_3_learnreverse_False_anneal_False.pt NDCG:  0.3600667941508042 \t Recall:  0.5913560818731581\n"
     ]
    },
    {
     "name": "stderr",
     "output_type": "stream",
     "text": [
      " 56%|█████▌    | 28/50 [14:52<11:22, 31.03s/it]"
     ]
    },
    {
     "name": "stdout",
     "output_type": "stream",
     "text": [
      "best_model_Multi_our_VAE_K_1_N_3_learnreverse_False_anneal_True.pt NDCG:  0.3908040670410487 \t Recall:  0.6262386175731842\n"
     ]
    },
    {
     "name": "stderr",
     "output_type": "stream",
     "text": [
      " 58%|█████▊    | 29/50 [15:24<11:00, 31.43s/it]"
     ]
    },
    {
     "name": "stdout",
     "output_type": "stream",
     "text": [
      "best_model_Multi_our_VAE_K_1_N_3_learnreverse_True_anneal_False.pt NDCG:  0.36010092377790864 \t Recall:  0.5890684228548533\n"
     ]
    },
    {
     "name": "stderr",
     "output_type": "stream",
     "text": [
      " 60%|██████    | 30/50 [15:54<10:21, 31.07s/it]"
     ]
    },
    {
     "name": "stdout",
     "output_type": "stream",
     "text": [
      "best_model_Multi_our_VAE_K_1_N_3_learnreverse_True_anneal_True.pt NDCG:  0.39037588122232236 \t Recall:  0.6278359611884752\n"
     ]
    },
    {
     "name": "stderr",
     "output_type": "stream",
     "text": [
      " 62%|██████▏   | 31/50 [16:35<10:45, 33.97s/it]"
     ]
    },
    {
     "name": "stdout",
     "output_type": "stream",
     "text": [
      "best_model_Multi_our_VAE_K_1_N_5_learnreverse_False_anneal_False.pt NDCG:  0.3624237380773636 \t Recall:  0.5912327783371122\n"
     ]
    },
    {
     "name": "stderr",
     "output_type": "stream",
     "text": [
      " 64%|██████▍   | 32/50 [17:17<10:54, 36.34s/it]"
     ]
    },
    {
     "name": "stdout",
     "output_type": "stream",
     "text": [
      "best_model_Multi_our_VAE_K_1_N_5_learnreverse_False_anneal_True.pt NDCG:  0.3900237260555439 \t Recall:  0.6291605778062179\n"
     ]
    },
    {
     "name": "stderr",
     "output_type": "stream",
     "text": [
      " 66%|██████▌   | 33/50 [17:56<10:34, 37.35s/it]"
     ]
    },
    {
     "name": "stdout",
     "output_type": "stream",
     "text": [
      "best_model_Multi_our_VAE_K_1_N_5_learnreverse_True_anneal_False.pt NDCG:  0.36026106882678843 \t Recall:  0.5897391586414781\n"
     ]
    },
    {
     "name": "stderr",
     "output_type": "stream",
     "text": [
      " 68%|██████▊   | 34/50 [18:37<10:15, 38.46s/it]"
     ]
    },
    {
     "name": "stdout",
     "output_type": "stream",
     "text": [
      "best_model_Multi_our_VAE_K_1_N_5_learnreverse_True_anneal_True.pt NDCG:  0.35309516260490253 \t Recall:  0.5746678078241246\n"
     ]
    },
    {
     "name": "stderr",
     "output_type": "stream",
     "text": [
      " 70%|███████   | 35/50 [19:10<09:12, 36.81s/it]"
     ]
    },
    {
     "name": "stdout",
     "output_type": "stream",
     "text": [
      "best_model_Multi_our_VAE_K_2_N_1_learnreverse_False_anneal_False.pt NDCG:  0.35979460033857474 \t Recall:  0.5909036847654905\n"
     ]
    },
    {
     "name": "stderr",
     "output_type": "stream",
     "text": [
      " 72%|███████▏  | 36/50 [19:45<08:26, 36.21s/it]"
     ]
    },
    {
     "name": "stdout",
     "output_type": "stream",
     "text": [
      "best_model_Multi_our_VAE_K_2_N_1_learnreverse_False_anneal_True.pt NDCG:  0.3908701160887269 \t Recall:  0.6273082869828766\n"
     ]
    },
    {
     "name": "stderr",
     "output_type": "stream",
     "text": [
      " 74%|███████▍  | 37/50 [20:19<07:40, 35.46s/it]"
     ]
    },
    {
     "name": "stdout",
     "output_type": "stream",
     "text": [
      "best_model_Multi_our_VAE_K_2_N_1_learnreverse_True_anneal_False.pt NDCG:  0.36002180894910496 \t Recall:  0.5879555332388788\n"
     ]
    },
    {
     "name": "stderr",
     "output_type": "stream",
     "text": [
      " 76%|███████▌  | 38/50 [20:53<07:01, 35.12s/it]"
     ]
    },
    {
     "name": "stdout",
     "output_type": "stream",
     "text": [
      "best_model_Multi_our_VAE_K_2_N_1_learnreverse_True_anneal_True.pt NDCG:  0.39206050872789583 \t Recall:  0.6264729359510488\n"
     ]
    },
    {
     "name": "stderr",
     "output_type": "stream",
     "text": [
      " 78%|███████▊  | 39/50 [21:37<06:53, 37.58s/it]"
     ]
    },
    {
     "name": "stdout",
     "output_type": "stream",
     "text": [
      "best_model_Multi_our_VAE_K_2_N_2_learnreverse_False_anneal_False.pt NDCG:  0.3605611358313147 \t Recall:  0.5926063677003554\n"
     ]
    },
    {
     "name": "stderr",
     "output_type": "stream",
     "text": [
      " 80%|████████  | 40/50 [22:20<06:33, 39.37s/it]"
     ]
    },
    {
     "name": "stdout",
     "output_type": "stream",
     "text": [
      "best_model_Multi_our_VAE_K_2_N_2_learnreverse_False_anneal_True.pt NDCG:  0.39164801091899065 \t Recall:  0.62714971770978\n"
     ]
    },
    {
     "name": "stderr",
     "output_type": "stream",
     "text": [
      " 82%|████████▏ | 41/50 [23:05<06:08, 40.94s/it]"
     ]
    },
    {
     "name": "stdout",
     "output_type": "stream",
     "text": [
      "best_model_Multi_our_VAE_K_2_N_2_learnreverse_True_anneal_False.pt NDCG:  0.3589631122757636 \t Recall:  0.592109615272958\n"
     ]
    },
    {
     "name": "stderr",
     "output_type": "stream",
     "text": [
      " 84%|████████▍ | 42/50 [23:50<05:38, 42.34s/it]"
     ]
    },
    {
     "name": "stdout",
     "output_type": "stream",
     "text": [
      "best_model_Multi_our_VAE_K_2_N_2_learnreverse_True_anneal_True.pt NDCG:  0.3922028186841143 \t Recall:  0.6267401614228858\n"
     ]
    },
    {
     "name": "stderr",
     "output_type": "stream",
     "text": [
      " 86%|████████▌ | 43/50 [24:38<05:08, 44.08s/it]"
     ]
    },
    {
     "name": "stdout",
     "output_type": "stream",
     "text": [
      "best_model_Multi_our_VAE_K_3_N_1_learnreverse_False_anneal_False.pt NDCG:  0.36096035802848503 \t Recall:  0.5917265339403359\n"
     ]
    },
    {
     "name": "stderr",
     "output_type": "stream",
     "text": [
      " 88%|████████▊ | 44/50 [25:30<04:38, 46.46s/it]"
     ]
    },
    {
     "name": "stdout",
     "output_type": "stream",
     "text": [
      "best_model_Multi_our_VAE_K_3_N_1_learnreverse_False_anneal_True.pt NDCG:  0.3906878219166558 \t Recall:  0.6297148680824918\n"
     ]
    },
    {
     "name": "stderr",
     "output_type": "stream",
     "text": [
      " 90%|█████████ | 45/50 [26:17<03:52, 46.60s/it]"
     ]
    },
    {
     "name": "stdout",
     "output_type": "stream",
     "text": [
      "best_model_Multi_our_VAE_K_3_N_1_learnreverse_True_anneal_False.pt NDCG:  0.3618596966775307 \t Recall:  0.5912938704494618\n"
     ]
    },
    {
     "name": "stderr",
     "output_type": "stream",
     "text": [
      " 92%|█████████▏| 46/50 [27:04<03:06, 46.61s/it]"
     ]
    },
    {
     "name": "stdout",
     "output_type": "stream",
     "text": [
      "best_model_Multi_our_VAE_K_3_N_1_learnreverse_True_anneal_True.pt NDCG:  0.3939162894991049 \t Recall:  0.6315151084976999\n"
     ]
    },
    {
     "name": "stderr",
     "output_type": "stream",
     "text": [
      " 94%|█████████▍| 47/50 [28:16<02:43, 54.36s/it]"
     ]
    },
    {
     "name": "stdout",
     "output_type": "stream",
     "text": [
      "best_model_Multi_our_VAE_K_5_N_1_learnreverse_False_anneal_False.pt NDCG:  0.36261712896943066 \t Recall:  0.5934934622207817\n"
     ]
    },
    {
     "name": "stderr",
     "output_type": "stream",
     "text": [
      " 96%|█████████▌| 48/50 [29:29<01:59, 59.94s/it]"
     ]
    },
    {
     "name": "stdout",
     "output_type": "stream",
     "text": [
      "best_model_Multi_our_VAE_K_5_N_1_learnreverse_False_anneal_True.pt NDCG:  0.39473817871855926 \t Recall:  0.6320618573761625\n"
     ]
    },
    {
     "name": "stderr",
     "output_type": "stream",
     "text": [
      " 98%|█████████▊| 49/50 [30:43<01:04, 64.15s/it]"
     ]
    },
    {
     "name": "stdout",
     "output_type": "stream",
     "text": [
      "best_model_Multi_our_VAE_K_5_N_1_learnreverse_True_anneal_False.pt NDCG:  0.35894335180999404 \t Recall:  0.5892748618434689\n"
     ]
    },
    {
     "name": "stderr",
     "output_type": "stream",
     "text": [
      "100%|██████████| 50/50 [31:58<00:00, 38.37s/it]\n",
      "  0%|          | 0/50 [00:00<?, ?it/s]"
     ]
    },
    {
     "name": "stdout",
     "output_type": "stream",
     "text": [
      "best_model_Multi_our_VAE_K_5_N_1_learnreverse_True_anneal_True.pt NDCG:  0.39334609972000656 \t Recall:  0.62731210396978\n"
     ]
    },
    {
     "name": "stderr",
     "output_type": "stream",
     "text": [
      "  2%|▏         | 1/50 [00:22<18:24, 22.54s/it]"
     ]
    },
    {
     "name": "stdout",
     "output_type": "stream",
     "text": [
      "best_model_MultiHoffmanVAE_K_1_N_1_learnreverse_False_anneal_False.pt NDCG:  0.39675711317791784 \t Recall:  0.6282092046507072\n"
     ]
    },
    {
     "name": "stderr",
     "output_type": "stream",
     "text": [
      "  4%|▍         | 2/50 [00:44<17:54, 22.38s/it]"
     ]
    },
    {
     "name": "stdout",
     "output_type": "stream",
     "text": [
      "best_model_MultiHoffmanVAE_K_1_N_1_learnreverse_False_anneal_True.pt NDCG:  0.4320197027484642 \t Recall:  0.6639729173601653\n"
     ]
    },
    {
     "name": "stderr",
     "output_type": "stream",
     "text": [
      "  6%|▌         | 3/50 [01:29<22:49, 29.14s/it]"
     ]
    },
    {
     "name": "stdout",
     "output_type": "stream",
     "text": [
      "best_model_MultiHoffmanVAE_K_2_N_2_learnreverse_False_anneal_False.pt NDCG:  0.38992758360543983 \t Recall:  0.6185308342589493\n"
     ]
    },
    {
     "name": "stderr",
     "output_type": "stream",
     "text": [
      "  8%|▊         | 4/50 [02:14<26:04, 34.01s/it]"
     ]
    },
    {
     "name": "stdout",
     "output_type": "stream",
     "text": [
      "best_model_MultiHoffmanVAE_K_2_N_2_learnreverse_False_anneal_True.pt NDCG:  0.4259487427528229 \t Recall:  0.6564985219294623\n"
     ]
    },
    {
     "name": "stderr",
     "output_type": "stream",
     "text": [
      " 10%|█         | 5/50 [02:21<19:22, 25.84s/it]"
     ]
    },
    {
     "name": "stdout",
     "output_type": "stream",
     "text": [
      "best_model_MultiVAE_K_None_N_None_learnreverse_False_anneal_False.pt NDCG:  0.39716638389173303 \t Recall:  0.6285131186203207\n"
     ]
    },
    {
     "name": "stderr",
     "output_type": "stream",
     "text": [
      " 12%|█▏        | 6/50 [02:28<14:45, 20.12s/it]"
     ]
    },
    {
     "name": "stdout",
     "output_type": "stream",
     "text": [
      "best_model_MultiVAE_K_None_N_None_learnreverse_False_anneal_True.pt NDCG:  0.43223991156491354 \t Recall:  0.6613630759783731\n"
     ]
    },
    {
     "name": "stderr",
     "output_type": "stream",
     "text": [
      " 14%|█▍        | 7/50 [02:49<14:44, 20.57s/it]"
     ]
    },
    {
     "name": "stdout",
     "output_type": "stream",
     "text": [
      "best_model_Multi_ourHoffman_VAE_K_1_N_1_learnreverse_False_anneal_False.pt NDCG:  0.3946547290584871 \t Recall:  0.6256582981588972\n"
     ]
    },
    {
     "name": "stderr",
     "output_type": "stream",
     "text": [
      " 16%|█▌        | 8/50 [03:12<14:44, 21.05s/it]"
     ]
    },
    {
     "name": "stdout",
     "output_type": "stream",
     "text": [
      "best_model_Multi_ourHoffman_VAE_K_1_N_1_learnreverse_False_anneal_True.pt NDCG:  0.43228676690172263 \t Recall:  0.6638881900904336\n"
     ]
    },
    {
     "name": "stderr",
     "output_type": "stream",
     "text": [
      " 18%|█▊        | 9/50 [03:34<14:33, 21.32s/it]"
     ]
    },
    {
     "name": "stdout",
     "output_type": "stream",
     "text": [
      "best_model_Multi_ourHoffman_VAE_K_1_N_1_learnreverse_True_anneal_False.pt NDCG:  0.3947283115488491 \t Recall:  0.6255529804913874\n"
     ]
    },
    {
     "name": "stderr",
     "output_type": "stream",
     "text": [
      " 20%|██        | 10/50 [03:54<14:03, 21.10s/it]"
     ]
    },
    {
     "name": "stdout",
     "output_type": "stream",
     "text": [
      "best_model_Multi_ourHoffman_VAE_K_1_N_1_learnreverse_True_anneal_True.pt NDCG:  0.43245409754443087 \t Recall:  0.6646831408889161\n"
     ]
    },
    {
     "name": "stderr",
     "output_type": "stream",
     "text": [
      " 22%|██▏       | 11/50 [04:29<16:24, 25.25s/it]"
     ]
    },
    {
     "name": "stdout",
     "output_type": "stream",
     "text": [
      "best_model_Multi_ourHoffman_VAE_K_2_N_1_learnreverse_False_anneal_True.pt NDCG:  0.4328045726658963 \t Recall:  0.6615015550440665\n"
     ]
    },
    {
     "name": "stderr",
     "output_type": "stream",
     "text": [
      " 24%|██▍       | 12/50 [05:04<17:49, 28.15s/it]"
     ]
    },
    {
     "name": "stdout",
     "output_type": "stream",
     "text": [
      "best_model_Multi_ourHoffman_VAE_K_2_N_1_learnreverse_True_anneal_True.pt NDCG:  0.4325158172193171 \t Recall:  0.6622387232585234\n"
     ]
    },
    {
     "name": "stderr",
     "output_type": "stream",
     "text": [
      " 26%|██▌       | 13/50 [05:52<20:59, 34.05s/it]"
     ]
    },
    {
     "name": "stdout",
     "output_type": "stream",
     "text": [
      "best_model_Multi_ourHoffman_VAE_K_2_N_2_learnreverse_False_anneal_False.pt NDCG:  0.39382461108769085 \t Recall:  0.6236045177792566\n"
     ]
    },
    {
     "name": "stderr",
     "output_type": "stream",
     "text": [
      " 28%|██▊       | 14/50 [06:41<23:06, 38.52s/it]"
     ]
    },
    {
     "name": "stdout",
     "output_type": "stream",
     "text": [
      "best_model_Multi_ourHoffman_VAE_K_2_N_2_learnreverse_False_anneal_True.pt NDCG:  0.43182996277755803 \t Recall:  0.6637024662945274\n"
     ]
    },
    {
     "name": "stderr",
     "output_type": "stream",
     "text": [
      " 30%|███       | 15/50 [07:31<24:32, 42.07s/it]"
     ]
    },
    {
     "name": "stdout",
     "output_type": "stream",
     "text": [
      "best_model_Multi_ourHoffman_VAE_K_2_N_2_learnreverse_True_anneal_False.pt NDCG:  0.39383953869150795 \t Recall:  0.6236438501675707\n"
     ]
    },
    {
     "name": "stderr",
     "output_type": "stream",
     "text": [
      " 32%|███▏      | 16/50 [08:15<24:13, 42.74s/it]"
     ]
    },
    {
     "name": "stdout",
     "output_type": "stream",
     "text": [
      "best_model_Multi_ourHoffman_VAE_K_2_N_2_learnreverse_True_anneal_True.pt NDCG:  0.43292576692225787 \t Recall:  0.6636614790184263\n"
     ]
    },
    {
     "name": "stderr",
     "output_type": "stream",
     "text": [
      " 34%|███▍      | 17/50 [09:05<24:36, 44.73s/it]"
     ]
    },
    {
     "name": "stdout",
     "output_type": "stream",
     "text": [
      "best_model_Multi_ourHoffman_VAE_K_3_N_1_learnreverse_False_anneal_True.pt NDCG:  0.43202368971913774 \t Recall:  0.6627317034824056\n"
     ]
    },
    {
     "name": "stderr",
     "output_type": "stream",
     "text": [
      " 36%|███▌      | 18/50 [09:54<24:33, 46.05s/it]"
     ]
    },
    {
     "name": "stdout",
     "output_type": "stream",
     "text": [
      "best_model_Multi_ourHoffman_VAE_K_3_N_1_learnreverse_True_anneal_True.pt NDCG:  0.431450756640749 \t Recall:  0.6630818135419878\n"
     ]
    },
    {
     "name": "stderr",
     "output_type": "stream",
     "text": [
      " 38%|███▊      | 19/50 [10:16<20:02, 38.80s/it]"
     ]
    },
    {
     "name": "stdout",
     "output_type": "stream",
     "text": [
      "best_model_Multi_our_VAE_K_1_N_1_learnreverse_False_anneal_False.pt NDCG:  0.39465373238242174 \t Recall:  0.6240018366045105\n"
     ]
    },
    {
     "name": "stderr",
     "output_type": "stream",
     "text": [
      " 40%|████      | 20/50 [10:35<16:27, 32.90s/it]"
     ]
    },
    {
     "name": "stdout",
     "output_type": "stream",
     "text": [
      "best_model_Multi_our_VAE_K_1_N_1_learnreverse_False_anneal_True.pt NDCG:  0.4328944051494731 \t Recall:  0.6630478076655533\n"
     ]
    },
    {
     "name": "stderr",
     "output_type": "stream",
     "text": [
      " 42%|████▏     | 21/50 [10:55<14:02, 29.04s/it]"
     ]
    },
    {
     "name": "stdout",
     "output_type": "stream",
     "text": [
      "best_model_Multi_our_VAE_K_1_N_1_learnreverse_True_anneal_False.pt NDCG:  0.3942925126324004 \t Recall:  0.6247742734367686\n"
     ]
    },
    {
     "name": "stderr",
     "output_type": "stream",
     "text": [
      " 44%|████▍     | 22/50 [11:16<12:24, 26.58s/it]"
     ]
    },
    {
     "name": "stdout",
     "output_type": "stream",
     "text": [
      "best_model_Multi_our_VAE_K_1_N_1_learnreverse_True_anneal_True.pt NDCG:  0.4335142018978614 \t Recall:  0.6646206260489538\n"
     ]
    },
    {
     "name": "stderr",
     "output_type": "stream",
     "text": [
      " 46%|████▌     | 23/50 [11:42<11:51, 26.35s/it]"
     ]
    },
    {
     "name": "stdout",
     "output_type": "stream",
     "text": [
      "best_model_Multi_our_VAE_K_1_N_2_learnreverse_False_anneal_False.pt NDCG:  0.39365518318366255 \t Recall:  0.6238886548207991\n"
     ]
    },
    {
     "name": "stderr",
     "output_type": "stream",
     "text": [
      " 48%|████▊     | 24/50 [12:08<11:22, 26.26s/it]"
     ]
    },
    {
     "name": "stdout",
     "output_type": "stream",
     "text": [
      "best_model_Multi_our_VAE_K_1_N_2_learnreverse_False_anneal_True.pt NDCG:  0.43236103284695937 \t Recall:  0.663000695818898\n"
     ]
    },
    {
     "name": "stderr",
     "output_type": "stream",
     "text": [
      " 50%|█████     | 25/50 [12:33<10:50, 26.02s/it]"
     ]
    },
    {
     "name": "stdout",
     "output_type": "stream",
     "text": [
      "best_model_Multi_our_VAE_K_1_N_2_learnreverse_True_anneal_False.pt NDCG:  0.393905761746157 \t Recall:  0.6227148824735784\n"
     ]
    },
    {
     "name": "stderr",
     "output_type": "stream",
     "text": [
      " 52%|█████▏    | 26/50 [12:59<10:26, 26.10s/it]"
     ]
    },
    {
     "name": "stdout",
     "output_type": "stream",
     "text": [
      "best_model_Multi_our_VAE_K_1_N_2_learnreverse_True_anneal_True.pt NDCG:  0.4324113587347856 \t Recall:  0.6636629934597966\n"
     ]
    },
    {
     "name": "stderr",
     "output_type": "stream",
     "text": [
      " 54%|█████▍    | 27/50 [13:32<10:45, 28.06s/it]"
     ]
    },
    {
     "name": "stdout",
     "output_type": "stream",
     "text": [
      "best_model_Multi_our_VAE_K_1_N_3_learnreverse_False_anneal_False.pt NDCG:  0.39464665494824275 \t Recall:  0.6258909873033474\n"
     ]
    },
    {
     "name": "stderr",
     "output_type": "stream",
     "text": [
      " 56%|█████▌    | 28/50 [14:06<10:58, 29.95s/it]"
     ]
    },
    {
     "name": "stdout",
     "output_type": "stream",
     "text": [
      "best_model_Multi_our_VAE_K_1_N_3_learnreverse_False_anneal_True.pt NDCG:  0.43326115555105943 \t Recall:  0.6637666364663711\n"
     ]
    },
    {
     "name": "stderr",
     "output_type": "stream",
     "text": [
      " 58%|█████▊    | 29/50 [14:41<10:55, 31.21s/it]"
     ]
    },
    {
     "name": "stdout",
     "output_type": "stream",
     "text": [
      "best_model_Multi_our_VAE_K_1_N_3_learnreverse_True_anneal_False.pt NDCG:  0.39462169394171054 \t Recall:  0.624403719428512\n"
     ]
    },
    {
     "name": "stderr",
     "output_type": "stream",
     "text": [
      " 60%|██████    | 30/50 [15:11<10:22, 31.10s/it]"
     ]
    },
    {
     "name": "stdout",
     "output_type": "stream",
     "text": [
      "best_model_Multi_our_VAE_K_1_N_3_learnreverse_True_anneal_True.pt NDCG:  0.4329023493760451 \t Recall:  0.6639837995103338\n"
     ]
    },
    {
     "name": "stderr",
     "output_type": "stream",
     "text": [
      " 62%|██████▏   | 31/50 [15:54<10:54, 34.46s/it]"
     ]
    },
    {
     "name": "stdout",
     "output_type": "stream",
     "text": [
      "best_model_Multi_our_VAE_K_1_N_5_learnreverse_False_anneal_False.pt NDCG:  0.3945503265071165 \t Recall:  0.6248159238741994\n"
     ]
    },
    {
     "name": "stderr",
     "output_type": "stream",
     "text": [
      " 64%|██████▍   | 32/50 [16:39<11:20, 37.82s/it]"
     ]
    },
    {
     "name": "stdout",
     "output_type": "stream",
     "text": [
      "best_model_Multi_our_VAE_K_1_N_5_learnreverse_False_anneal_True.pt NDCG:  0.43269630202915166 \t Recall:  0.66395870049706\n"
     ]
    },
    {
     "name": "stderr",
     "output_type": "stream",
     "text": [
      " 66%|██████▌   | 33/50 [17:25<11:23, 40.23s/it]"
     ]
    },
    {
     "name": "stdout",
     "output_type": "stream",
     "text": [
      "best_model_Multi_our_VAE_K_1_N_5_learnreverse_True_anneal_False.pt NDCG:  0.39429636004612667 \t Recall:  0.6246460009604804\n"
     ]
    },
    {
     "name": "stderr",
     "output_type": "stream",
     "text": [
      " 68%|██████▊   | 34/50 [18:10<11:02, 41.43s/it]"
     ]
    },
    {
     "name": "stdout",
     "output_type": "stream",
     "text": [
      "best_model_Multi_our_VAE_K_1_N_5_learnreverse_True_anneal_True.pt NDCG:  0.3559153380951852 \t Recall:  0.5781656100894702\n"
     ]
    },
    {
     "name": "stderr",
     "output_type": "stream",
     "text": [
      " 70%|███████   | 35/50 [18:45<09:54, 39.63s/it]"
     ]
    },
    {
     "name": "stdout",
     "output_type": "stream",
     "text": [
      "best_model_Multi_our_VAE_K_2_N_1_learnreverse_False_anneal_False.pt NDCG:  0.3942202946477678 \t Recall:  0.6246435925939003\n"
     ]
    },
    {
     "name": "stderr",
     "output_type": "stream",
     "text": [
      " 72%|███████▏  | 36/50 [19:19<08:49, 37.81s/it]"
     ]
    },
    {
     "name": "stdout",
     "output_type": "stream",
     "text": [
      "best_model_Multi_our_VAE_K_2_N_1_learnreverse_False_anneal_True.pt NDCG:  0.43288761373089774 \t Recall:  0.6632895886751105\n"
     ]
    },
    {
     "name": "stderr",
     "output_type": "stream",
     "text": [
      " 74%|███████▍  | 37/50 [19:53<07:56, 36.68s/it]"
     ]
    },
    {
     "name": "stdout",
     "output_type": "stream",
     "text": [
      "best_model_Multi_our_VAE_K_2_N_1_learnreverse_True_anneal_False.pt NDCG:  0.39431061501902753 \t Recall:  0.6247187095380861\n"
     ]
    },
    {
     "name": "stderr",
     "output_type": "stream",
     "text": [
      " 76%|███████▌  | 38/50 [20:26<07:09, 35.82s/it]"
     ]
    },
    {
     "name": "stdout",
     "output_type": "stream",
     "text": [
      "best_model_Multi_our_VAE_K_2_N_1_learnreverse_True_anneal_True.pt NDCG:  0.43289151464250564 \t Recall:  0.6626528310821381\n"
     ]
    },
    {
     "name": "stderr",
     "output_type": "stream",
     "text": [
      " 78%|███████▊  | 39/50 [21:12<07:06, 38.81s/it]"
     ]
    },
    {
     "name": "stdout",
     "output_type": "stream",
     "text": [
      "best_model_Multi_our_VAE_K_2_N_2_learnreverse_False_anneal_False.pt NDCG:  0.395547052235505 \t Recall:  0.6263853735124593\n"
     ]
    },
    {
     "name": "stderr",
     "output_type": "stream",
     "text": [
      " 80%|████████  | 40/50 [21:59<06:53, 41.34s/it]"
     ]
    },
    {
     "name": "stdout",
     "output_type": "stream",
     "text": [
      "best_model_Multi_our_VAE_K_2_N_2_learnreverse_False_anneal_True.pt NDCG:  0.4328883350539547 \t Recall:  0.6637168059647561\n"
     ]
    },
    {
     "name": "stderr",
     "output_type": "stream",
     "text": [
      " 82%|████████▏ | 41/50 [22:44<06:20, 42.30s/it]"
     ]
    },
    {
     "name": "stdout",
     "output_type": "stream",
     "text": [
      "best_model_Multi_our_VAE_K_2_N_2_learnreverse_True_anneal_False.pt NDCG:  0.39582178938050677 \t Recall:  0.6267767628830229\n"
     ]
    },
    {
     "name": "stderr",
     "output_type": "stream",
     "text": [
      " 84%|████████▍ | 42/50 [23:29<05:44, 43.07s/it]"
     ]
    },
    {
     "name": "stdout",
     "output_type": "stream",
     "text": [
      "best_model_Multi_our_VAE_K_2_N_2_learnreverse_True_anneal_True.pt NDCG:  0.43207361635955494 \t Recall:  0.6616242015818475\n"
     ]
    },
    {
     "name": "stderr",
     "output_type": "stream",
     "text": [
      " 86%|████████▌ | 43/50 [24:16<05:09, 44.25s/it]"
     ]
    },
    {
     "name": "stdout",
     "output_type": "stream",
     "text": [
      "best_model_Multi_our_VAE_K_3_N_1_learnreverse_False_anneal_False.pt NDCG:  0.39468654404632586 \t Recall:  0.6237404600852448\n"
     ]
    },
    {
     "name": "stderr",
     "output_type": "stream",
     "text": [
      " 88%|████████▊ | 44/50 [25:04<04:32, 45.49s/it]"
     ]
    },
    {
     "name": "stdout",
     "output_type": "stream",
     "text": [
      "best_model_Multi_our_VAE_K_3_N_1_learnreverse_False_anneal_True.pt NDCG:  0.4320835099533606 \t Recall:  0.6633997587474327\n"
     ]
    },
    {
     "name": "stderr",
     "output_type": "stream",
     "text": [
      " 90%|█████████ | 45/50 [25:50<03:48, 45.68s/it]"
     ]
    },
    {
     "name": "stdout",
     "output_type": "stream",
     "text": [
      "best_model_Multi_our_VAE_K_3_N_1_learnreverse_True_anneal_False.pt NDCG:  0.3948872528611854 \t Recall:  0.6240550797583879\n"
     ]
    },
    {
     "name": "stderr",
     "output_type": "stream",
     "text": [
      " 92%|█████████▏| 46/50 [26:39<03:06, 46.59s/it]"
     ]
    },
    {
     "name": "stdout",
     "output_type": "stream",
     "text": [
      "best_model_Multi_our_VAE_K_3_N_1_learnreverse_True_anneal_True.pt NDCG:  0.4324688935500537 \t Recall:  0.6636623519483595\n"
     ]
    },
    {
     "name": "stderr",
     "output_type": "stream",
     "text": [
      " 94%|█████████▍| 47/50 [27:52<02:43, 54.38s/it]"
     ]
    },
    {
     "name": "stdout",
     "output_type": "stream",
     "text": [
      "best_model_Multi_our_VAE_K_5_N_1_learnreverse_False_anneal_False.pt NDCG:  0.39485367862430837 \t Recall:  0.6255770918723464\n"
     ]
    },
    {
     "name": "stderr",
     "output_type": "stream",
     "text": [
      " 96%|█████████▌| 48/50 [29:05<02:00, 60.03s/it]"
     ]
    },
    {
     "name": "stdout",
     "output_type": "stream",
     "text": [
      "best_model_Multi_our_VAE_K_5_N_1_learnreverse_False_anneal_True.pt NDCG:  0.4325399914134912 \t Recall:  0.6629434271066635\n"
     ]
    },
    {
     "name": "stderr",
     "output_type": "stream",
     "text": [
      " 98%|█████████▊| 49/50 [30:19<01:04, 64.30s/it]"
     ]
    },
    {
     "name": "stdout",
     "output_type": "stream",
     "text": [
      "best_model_Multi_our_VAE_K_5_N_1_learnreverse_True_anneal_False.pt NDCG:  0.3947527895847348 \t Recall:  0.6248612436214498\n"
     ]
    },
    {
     "name": "stderr",
     "output_type": "stream",
     "text": [
      "100%|██████████| 50/50 [31:33<00:00, 37.87s/it]"
     ]
    },
    {
     "name": "stdout",
     "output_type": "stream",
     "text": [
      "best_model_Multi_our_VAE_K_5_N_1_learnreverse_True_anneal_True.pt NDCG:  0.4341622631175437 \t Recall:  0.6630982773745904\n"
     ]
    },
    {
     "name": "stderr",
     "output_type": "stream",
     "text": [
      "\n"
     ]
    }
   ],
   "source": [
    "resulting_dict = {'model': [], 'ndcg': [], 'recall': [], 'noise': []}\n",
    "\n",
    "for noise in [1., 0.]:\n",
    "    for m in tqdm(models):\n",
    "        model = load_model(os.path.join('./models', m), device)\n",
    "\n",
    "        ndcg = []\n",
    "        recall = []\n",
    "        for bnum, batch_val in enumerate(dataset.next_val_batch()):\n",
    "            out = model(batch_val[0], is_training_ph=noise)  ### Here we are using noise when estimate metrics\n",
    "            pred_val = out[0]\n",
    "            X = batch_val[0].cpu().detach().numpy()\n",
    "            pred_val = pred_val.cpu().detach().numpy()\n",
    "            # exclude examples from training and validation (if any)\n",
    "            pred_val[X.nonzero()] = -np.inf\n",
    "            ndcg.append(NDCG_binary_at_k_batch(pred_val, batch_val[1]))\n",
    "            recall.append(Recall_at_k_batch(pred_val, batch_val[1]))\n",
    "\n",
    "        ndcg_dist = np.concatenate(ndcg)\n",
    "        recall_dist = np.concatenate(recall)\n",
    "        current_ndcg = ndcg_dist.mean()\n",
    "        current_recall = recall_dist.mean()\n",
    "        resulting_dict['model'].append(m)\n",
    "        resulting_dict['ndcg'].append(current_ndcg)\n",
    "        resulting_dict['recall'].append(current_recall)\n",
    "        resulting_dict['noise'].append(noise)\n",
    "        print(m, 'NDCG: ', current_ndcg, '\\t', 'Recall: ', current_recall)\n",
    "        del model"
   ]
  },
  {
   "cell_type": "code",
   "execution_count": 7,
   "metadata": {},
   "outputs": [],
   "source": [
    "pd.set_option('display.max_colwidth', 100)"
   ]
  },
  {
   "cell_type": "code",
   "execution_count": 8,
   "metadata": {},
   "outputs": [
    {
     "data": {
      "text/html": [
       "<div>\n",
       "<style scoped>\n",
       "    .dataframe tbody tr th:only-of-type {\n",
       "        vertical-align: middle;\n",
       "    }\n",
       "\n",
       "    .dataframe tbody tr th {\n",
       "        vertical-align: top;\n",
       "    }\n",
       "\n",
       "    .dataframe thead th {\n",
       "        text-align: right;\n",
       "    }\n",
       "</style>\n",
       "<table border=\"1\" class=\"dataframe\">\n",
       "  <thead>\n",
       "    <tr style=\"text-align: right;\">\n",
       "      <th></th>\n",
       "      <th>model</th>\n",
       "      <th>ndcg</th>\n",
       "      <th>recall</th>\n",
       "      <th>noise</th>\n",
       "    </tr>\n",
       "  </thead>\n",
       "  <tbody>\n",
       "    <tr>\n",
       "      <th>0</th>\n",
       "      <td>best_model_MultiHoffmanVAE_K_1_N_1_learnreverse_False_anneal_False.pt</td>\n",
       "      <td>0.359986</td>\n",
       "      <td>0.591383</td>\n",
       "      <td>1.0</td>\n",
       "    </tr>\n",
       "    <tr>\n",
       "      <th>1</th>\n",
       "      <td>best_model_MultiHoffmanVAE_K_1_N_1_learnreverse_False_anneal_True.pt</td>\n",
       "      <td>0.386996</td>\n",
       "      <td>0.626046</td>\n",
       "      <td>1.0</td>\n",
       "    </tr>\n",
       "    <tr>\n",
       "      <th>2</th>\n",
       "      <td>best_model_MultiHoffmanVAE_K_2_N_2_learnreverse_False_anneal_False.pt</td>\n",
       "      <td>0.355633</td>\n",
       "      <td>0.584347</td>\n",
       "      <td>1.0</td>\n",
       "    </tr>\n",
       "    <tr>\n",
       "      <th>3</th>\n",
       "      <td>best_model_MultiHoffmanVAE_K_2_N_2_learnreverse_False_anneal_True.pt</td>\n",
       "      <td>0.387190</td>\n",
       "      <td>0.620263</td>\n",
       "      <td>1.0</td>\n",
       "    </tr>\n",
       "    <tr>\n",
       "      <th>4</th>\n",
       "      <td>best_model_MultiVAE_K_None_N_None_learnreverse_False_anneal_False.pt</td>\n",
       "      <td>0.361924</td>\n",
       "      <td>0.595574</td>\n",
       "      <td>1.0</td>\n",
       "    </tr>\n",
       "    <tr>\n",
       "      <th>5</th>\n",
       "      <td>best_model_MultiVAE_K_None_N_None_learnreverse_False_anneal_True.pt</td>\n",
       "      <td>0.392378</td>\n",
       "      <td>0.628635</td>\n",
       "      <td>1.0</td>\n",
       "    </tr>\n",
       "    <tr>\n",
       "      <th>6</th>\n",
       "      <td>best_model_Multi_ourHoffman_VAE_K_1_N_1_learnreverse_False_anneal_False.pt</td>\n",
       "      <td>0.358793</td>\n",
       "      <td>0.589407</td>\n",
       "      <td>1.0</td>\n",
       "    </tr>\n",
       "    <tr>\n",
       "      <th>7</th>\n",
       "      <td>best_model_Multi_ourHoffman_VAE_K_1_N_1_learnreverse_False_anneal_True.pt</td>\n",
       "      <td>0.394134</td>\n",
       "      <td>0.628383</td>\n",
       "      <td>1.0</td>\n",
       "    </tr>\n",
       "    <tr>\n",
       "      <th>8</th>\n",
       "      <td>best_model_Multi_ourHoffman_VAE_K_1_N_1_learnreverse_True_anneal_False.pt</td>\n",
       "      <td>0.360511</td>\n",
       "      <td>0.590860</td>\n",
       "      <td>1.0</td>\n",
       "    </tr>\n",
       "    <tr>\n",
       "      <th>9</th>\n",
       "      <td>best_model_Multi_ourHoffman_VAE_K_1_N_1_learnreverse_True_anneal_True.pt</td>\n",
       "      <td>0.388402</td>\n",
       "      <td>0.627646</td>\n",
       "      <td>1.0</td>\n",
       "    </tr>\n",
       "    <tr>\n",
       "      <th>10</th>\n",
       "      <td>best_model_Multi_ourHoffman_VAE_K_2_N_1_learnreverse_False_anneal_True.pt</td>\n",
       "      <td>0.391352</td>\n",
       "      <td>0.628720</td>\n",
       "      <td>1.0</td>\n",
       "    </tr>\n",
       "    <tr>\n",
       "      <th>11</th>\n",
       "      <td>best_model_Multi_ourHoffman_VAE_K_2_N_1_learnreverse_True_anneal_True.pt</td>\n",
       "      <td>0.391887</td>\n",
       "      <td>0.628845</td>\n",
       "      <td>1.0</td>\n",
       "    </tr>\n",
       "    <tr>\n",
       "      <th>12</th>\n",
       "      <td>best_model_Multi_ourHoffman_VAE_K_2_N_2_learnreverse_False_anneal_False.pt</td>\n",
       "      <td>0.359687</td>\n",
       "      <td>0.588595</td>\n",
       "      <td>1.0</td>\n",
       "    </tr>\n",
       "    <tr>\n",
       "      <th>13</th>\n",
       "      <td>best_model_Multi_ourHoffman_VAE_K_2_N_2_learnreverse_False_anneal_True.pt</td>\n",
       "      <td>0.389846</td>\n",
       "      <td>0.628340</td>\n",
       "      <td>1.0</td>\n",
       "    </tr>\n",
       "    <tr>\n",
       "      <th>14</th>\n",
       "      <td>best_model_Multi_ourHoffman_VAE_K_2_N_2_learnreverse_True_anneal_False.pt</td>\n",
       "      <td>0.360352</td>\n",
       "      <td>0.589670</td>\n",
       "      <td>1.0</td>\n",
       "    </tr>\n",
       "    <tr>\n",
       "      <th>15</th>\n",
       "      <td>best_model_Multi_ourHoffman_VAE_K_2_N_2_learnreverse_True_anneal_True.pt</td>\n",
       "      <td>0.392814</td>\n",
       "      <td>0.630674</td>\n",
       "      <td>1.0</td>\n",
       "    </tr>\n",
       "    <tr>\n",
       "      <th>16</th>\n",
       "      <td>best_model_Multi_ourHoffman_VAE_K_3_N_1_learnreverse_False_anneal_True.pt</td>\n",
       "      <td>0.392455</td>\n",
       "      <td>0.629456</td>\n",
       "      <td>1.0</td>\n",
       "    </tr>\n",
       "    <tr>\n",
       "      <th>17</th>\n",
       "      <td>best_model_Multi_ourHoffman_VAE_K_3_N_1_learnreverse_True_anneal_True.pt</td>\n",
       "      <td>0.398662</td>\n",
       "      <td>0.635319</td>\n",
       "      <td>1.0</td>\n",
       "    </tr>\n",
       "    <tr>\n",
       "      <th>18</th>\n",
       "      <td>best_model_Multi_our_VAE_K_1_N_1_learnreverse_False_anneal_False.pt</td>\n",
       "      <td>0.361708</td>\n",
       "      <td>0.592033</td>\n",
       "      <td>1.0</td>\n",
       "    </tr>\n",
       "    <tr>\n",
       "      <th>19</th>\n",
       "      <td>best_model_Multi_our_VAE_K_1_N_1_learnreverse_False_anneal_True.pt</td>\n",
       "      <td>0.392658</td>\n",
       "      <td>0.628903</td>\n",
       "      <td>1.0</td>\n",
       "    </tr>\n",
       "    <tr>\n",
       "      <th>20</th>\n",
       "      <td>best_model_Multi_our_VAE_K_1_N_1_learnreverse_True_anneal_False.pt</td>\n",
       "      <td>0.360473</td>\n",
       "      <td>0.593114</td>\n",
       "      <td>1.0</td>\n",
       "    </tr>\n",
       "    <tr>\n",
       "      <th>21</th>\n",
       "      <td>best_model_Multi_our_VAE_K_1_N_1_learnreverse_True_anneal_True.pt</td>\n",
       "      <td>0.389855</td>\n",
       "      <td>0.627930</td>\n",
       "      <td>1.0</td>\n",
       "    </tr>\n",
       "    <tr>\n",
       "      <th>22</th>\n",
       "      <td>best_model_Multi_our_VAE_K_1_N_2_learnreverse_False_anneal_False.pt</td>\n",
       "      <td>0.362137</td>\n",
       "      <td>0.591434</td>\n",
       "      <td>1.0</td>\n",
       "    </tr>\n",
       "    <tr>\n",
       "      <th>23</th>\n",
       "      <td>best_model_Multi_our_VAE_K_1_N_2_learnreverse_False_anneal_True.pt</td>\n",
       "      <td>0.389861</td>\n",
       "      <td>0.627049</td>\n",
       "      <td>1.0</td>\n",
       "    </tr>\n",
       "    <tr>\n",
       "      <th>24</th>\n",
       "      <td>best_model_Multi_our_VAE_K_1_N_2_learnreverse_True_anneal_False.pt</td>\n",
       "      <td>0.359131</td>\n",
       "      <td>0.587154</td>\n",
       "      <td>1.0</td>\n",
       "    </tr>\n",
       "    <tr>\n",
       "      <th>25</th>\n",
       "      <td>best_model_Multi_our_VAE_K_1_N_2_learnreverse_True_anneal_True.pt</td>\n",
       "      <td>0.390802</td>\n",
       "      <td>0.629245</td>\n",
       "      <td>1.0</td>\n",
       "    </tr>\n",
       "    <tr>\n",
       "      <th>26</th>\n",
       "      <td>best_model_Multi_our_VAE_K_1_N_3_learnreverse_False_anneal_False.pt</td>\n",
       "      <td>0.360067</td>\n",
       "      <td>0.591356</td>\n",
       "      <td>1.0</td>\n",
       "    </tr>\n",
       "    <tr>\n",
       "      <th>27</th>\n",
       "      <td>best_model_Multi_our_VAE_K_1_N_3_learnreverse_False_anneal_True.pt</td>\n",
       "      <td>0.390804</td>\n",
       "      <td>0.626239</td>\n",
       "      <td>1.0</td>\n",
       "    </tr>\n",
       "    <tr>\n",
       "      <th>28</th>\n",
       "      <td>best_model_Multi_our_VAE_K_1_N_3_learnreverse_True_anneal_False.pt</td>\n",
       "      <td>0.360101</td>\n",
       "      <td>0.589068</td>\n",
       "      <td>1.0</td>\n",
       "    </tr>\n",
       "    <tr>\n",
       "      <th>29</th>\n",
       "      <td>best_model_Multi_our_VAE_K_1_N_3_learnreverse_True_anneal_True.pt</td>\n",
       "      <td>0.390376</td>\n",
       "      <td>0.627836</td>\n",
       "      <td>1.0</td>\n",
       "    </tr>\n",
       "    <tr>\n",
       "      <th>...</th>\n",
       "      <td>...</td>\n",
       "      <td>...</td>\n",
       "      <td>...</td>\n",
       "      <td>...</td>\n",
       "    </tr>\n",
       "    <tr>\n",
       "      <th>70</th>\n",
       "      <td>best_model_Multi_our_VAE_K_1_N_1_learnreverse_True_anneal_False.pt</td>\n",
       "      <td>0.394293</td>\n",
       "      <td>0.624774</td>\n",
       "      <td>0.0</td>\n",
       "    </tr>\n",
       "    <tr>\n",
       "      <th>71</th>\n",
       "      <td>best_model_Multi_our_VAE_K_1_N_1_learnreverse_True_anneal_True.pt</td>\n",
       "      <td>0.433514</td>\n",
       "      <td>0.664621</td>\n",
       "      <td>0.0</td>\n",
       "    </tr>\n",
       "    <tr>\n",
       "      <th>72</th>\n",
       "      <td>best_model_Multi_our_VAE_K_1_N_2_learnreverse_False_anneal_False.pt</td>\n",
       "      <td>0.393655</td>\n",
       "      <td>0.623889</td>\n",
       "      <td>0.0</td>\n",
       "    </tr>\n",
       "    <tr>\n",
       "      <th>73</th>\n",
       "      <td>best_model_Multi_our_VAE_K_1_N_2_learnreverse_False_anneal_True.pt</td>\n",
       "      <td>0.432361</td>\n",
       "      <td>0.663001</td>\n",
       "      <td>0.0</td>\n",
       "    </tr>\n",
       "    <tr>\n",
       "      <th>74</th>\n",
       "      <td>best_model_Multi_our_VAE_K_1_N_2_learnreverse_True_anneal_False.pt</td>\n",
       "      <td>0.393906</td>\n",
       "      <td>0.622715</td>\n",
       "      <td>0.0</td>\n",
       "    </tr>\n",
       "    <tr>\n",
       "      <th>75</th>\n",
       "      <td>best_model_Multi_our_VAE_K_1_N_2_learnreverse_True_anneal_True.pt</td>\n",
       "      <td>0.432411</td>\n",
       "      <td>0.663663</td>\n",
       "      <td>0.0</td>\n",
       "    </tr>\n",
       "    <tr>\n",
       "      <th>76</th>\n",
       "      <td>best_model_Multi_our_VAE_K_1_N_3_learnreverse_False_anneal_False.pt</td>\n",
       "      <td>0.394647</td>\n",
       "      <td>0.625891</td>\n",
       "      <td>0.0</td>\n",
       "    </tr>\n",
       "    <tr>\n",
       "      <th>77</th>\n",
       "      <td>best_model_Multi_our_VAE_K_1_N_3_learnreverse_False_anneal_True.pt</td>\n",
       "      <td>0.433261</td>\n",
       "      <td>0.663767</td>\n",
       "      <td>0.0</td>\n",
       "    </tr>\n",
       "    <tr>\n",
       "      <th>78</th>\n",
       "      <td>best_model_Multi_our_VAE_K_1_N_3_learnreverse_True_anneal_False.pt</td>\n",
       "      <td>0.394622</td>\n",
       "      <td>0.624404</td>\n",
       "      <td>0.0</td>\n",
       "    </tr>\n",
       "    <tr>\n",
       "      <th>79</th>\n",
       "      <td>best_model_Multi_our_VAE_K_1_N_3_learnreverse_True_anneal_True.pt</td>\n",
       "      <td>0.432902</td>\n",
       "      <td>0.663984</td>\n",
       "      <td>0.0</td>\n",
       "    </tr>\n",
       "    <tr>\n",
       "      <th>80</th>\n",
       "      <td>best_model_Multi_our_VAE_K_1_N_5_learnreverse_False_anneal_False.pt</td>\n",
       "      <td>0.394550</td>\n",
       "      <td>0.624816</td>\n",
       "      <td>0.0</td>\n",
       "    </tr>\n",
       "    <tr>\n",
       "      <th>81</th>\n",
       "      <td>best_model_Multi_our_VAE_K_1_N_5_learnreverse_False_anneal_True.pt</td>\n",
       "      <td>0.432696</td>\n",
       "      <td>0.663959</td>\n",
       "      <td>0.0</td>\n",
       "    </tr>\n",
       "    <tr>\n",
       "      <th>82</th>\n",
       "      <td>best_model_Multi_our_VAE_K_1_N_5_learnreverse_True_anneal_False.pt</td>\n",
       "      <td>0.394296</td>\n",
       "      <td>0.624646</td>\n",
       "      <td>0.0</td>\n",
       "    </tr>\n",
       "    <tr>\n",
       "      <th>83</th>\n",
       "      <td>best_model_Multi_our_VAE_K_1_N_5_learnreverse_True_anneal_True.pt</td>\n",
       "      <td>0.355915</td>\n",
       "      <td>0.578166</td>\n",
       "      <td>0.0</td>\n",
       "    </tr>\n",
       "    <tr>\n",
       "      <th>84</th>\n",
       "      <td>best_model_Multi_our_VAE_K_2_N_1_learnreverse_False_anneal_False.pt</td>\n",
       "      <td>0.394220</td>\n",
       "      <td>0.624644</td>\n",
       "      <td>0.0</td>\n",
       "    </tr>\n",
       "    <tr>\n",
       "      <th>85</th>\n",
       "      <td>best_model_Multi_our_VAE_K_2_N_1_learnreverse_False_anneal_True.pt</td>\n",
       "      <td>0.432888</td>\n",
       "      <td>0.663290</td>\n",
       "      <td>0.0</td>\n",
       "    </tr>\n",
       "    <tr>\n",
       "      <th>86</th>\n",
       "      <td>best_model_Multi_our_VAE_K_2_N_1_learnreverse_True_anneal_False.pt</td>\n",
       "      <td>0.394311</td>\n",
       "      <td>0.624719</td>\n",
       "      <td>0.0</td>\n",
       "    </tr>\n",
       "    <tr>\n",
       "      <th>87</th>\n",
       "      <td>best_model_Multi_our_VAE_K_2_N_1_learnreverse_True_anneal_True.pt</td>\n",
       "      <td>0.432892</td>\n",
       "      <td>0.662653</td>\n",
       "      <td>0.0</td>\n",
       "    </tr>\n",
       "    <tr>\n",
       "      <th>88</th>\n",
       "      <td>best_model_Multi_our_VAE_K_2_N_2_learnreverse_False_anneal_False.pt</td>\n",
       "      <td>0.395547</td>\n",
       "      <td>0.626385</td>\n",
       "      <td>0.0</td>\n",
       "    </tr>\n",
       "    <tr>\n",
       "      <th>89</th>\n",
       "      <td>best_model_Multi_our_VAE_K_2_N_2_learnreverse_False_anneal_True.pt</td>\n",
       "      <td>0.432888</td>\n",
       "      <td>0.663717</td>\n",
       "      <td>0.0</td>\n",
       "    </tr>\n",
       "    <tr>\n",
       "      <th>90</th>\n",
       "      <td>best_model_Multi_our_VAE_K_2_N_2_learnreverse_True_anneal_False.pt</td>\n",
       "      <td>0.395822</td>\n",
       "      <td>0.626777</td>\n",
       "      <td>0.0</td>\n",
       "    </tr>\n",
       "    <tr>\n",
       "      <th>91</th>\n",
       "      <td>best_model_Multi_our_VAE_K_2_N_2_learnreverse_True_anneal_True.pt</td>\n",
       "      <td>0.432074</td>\n",
       "      <td>0.661624</td>\n",
       "      <td>0.0</td>\n",
       "    </tr>\n",
       "    <tr>\n",
       "      <th>92</th>\n",
       "      <td>best_model_Multi_our_VAE_K_3_N_1_learnreverse_False_anneal_False.pt</td>\n",
       "      <td>0.394687</td>\n",
       "      <td>0.623740</td>\n",
       "      <td>0.0</td>\n",
       "    </tr>\n",
       "    <tr>\n",
       "      <th>93</th>\n",
       "      <td>best_model_Multi_our_VAE_K_3_N_1_learnreverse_False_anneal_True.pt</td>\n",
       "      <td>0.432084</td>\n",
       "      <td>0.663400</td>\n",
       "      <td>0.0</td>\n",
       "    </tr>\n",
       "    <tr>\n",
       "      <th>94</th>\n",
       "      <td>best_model_Multi_our_VAE_K_3_N_1_learnreverse_True_anneal_False.pt</td>\n",
       "      <td>0.394887</td>\n",
       "      <td>0.624055</td>\n",
       "      <td>0.0</td>\n",
       "    </tr>\n",
       "    <tr>\n",
       "      <th>95</th>\n",
       "      <td>best_model_Multi_our_VAE_K_3_N_1_learnreverse_True_anneal_True.pt</td>\n",
       "      <td>0.432469</td>\n",
       "      <td>0.663662</td>\n",
       "      <td>0.0</td>\n",
       "    </tr>\n",
       "    <tr>\n",
       "      <th>96</th>\n",
       "      <td>best_model_Multi_our_VAE_K_5_N_1_learnreverse_False_anneal_False.pt</td>\n",
       "      <td>0.394854</td>\n",
       "      <td>0.625577</td>\n",
       "      <td>0.0</td>\n",
       "    </tr>\n",
       "    <tr>\n",
       "      <th>97</th>\n",
       "      <td>best_model_Multi_our_VAE_K_5_N_1_learnreverse_False_anneal_True.pt</td>\n",
       "      <td>0.432540</td>\n",
       "      <td>0.662943</td>\n",
       "      <td>0.0</td>\n",
       "    </tr>\n",
       "    <tr>\n",
       "      <th>98</th>\n",
       "      <td>best_model_Multi_our_VAE_K_5_N_1_learnreverse_True_anneal_False.pt</td>\n",
       "      <td>0.394753</td>\n",
       "      <td>0.624861</td>\n",
       "      <td>0.0</td>\n",
       "    </tr>\n",
       "    <tr>\n",
       "      <th>99</th>\n",
       "      <td>best_model_Multi_our_VAE_K_5_N_1_learnreverse_True_anneal_True.pt</td>\n",
       "      <td>0.434162</td>\n",
       "      <td>0.663098</td>\n",
       "      <td>0.0</td>\n",
       "    </tr>\n",
       "  </tbody>\n",
       "</table>\n",
       "<p>100 rows × 4 columns</p>\n",
       "</div>"
      ],
      "text/plain": [
       "                                                                         model  \\\n",
       "0        best_model_MultiHoffmanVAE_K_1_N_1_learnreverse_False_anneal_False.pt   \n",
       "1         best_model_MultiHoffmanVAE_K_1_N_1_learnreverse_False_anneal_True.pt   \n",
       "2        best_model_MultiHoffmanVAE_K_2_N_2_learnreverse_False_anneal_False.pt   \n",
       "3         best_model_MultiHoffmanVAE_K_2_N_2_learnreverse_False_anneal_True.pt   \n",
       "4         best_model_MultiVAE_K_None_N_None_learnreverse_False_anneal_False.pt   \n",
       "5          best_model_MultiVAE_K_None_N_None_learnreverse_False_anneal_True.pt   \n",
       "6   best_model_Multi_ourHoffman_VAE_K_1_N_1_learnreverse_False_anneal_False.pt   \n",
       "7    best_model_Multi_ourHoffman_VAE_K_1_N_1_learnreverse_False_anneal_True.pt   \n",
       "8    best_model_Multi_ourHoffman_VAE_K_1_N_1_learnreverse_True_anneal_False.pt   \n",
       "9     best_model_Multi_ourHoffman_VAE_K_1_N_1_learnreverse_True_anneal_True.pt   \n",
       "10   best_model_Multi_ourHoffman_VAE_K_2_N_1_learnreverse_False_anneal_True.pt   \n",
       "11    best_model_Multi_ourHoffman_VAE_K_2_N_1_learnreverse_True_anneal_True.pt   \n",
       "12  best_model_Multi_ourHoffman_VAE_K_2_N_2_learnreverse_False_anneal_False.pt   \n",
       "13   best_model_Multi_ourHoffman_VAE_K_2_N_2_learnreverse_False_anneal_True.pt   \n",
       "14   best_model_Multi_ourHoffman_VAE_K_2_N_2_learnreverse_True_anneal_False.pt   \n",
       "15    best_model_Multi_ourHoffman_VAE_K_2_N_2_learnreverse_True_anneal_True.pt   \n",
       "16   best_model_Multi_ourHoffman_VAE_K_3_N_1_learnreverse_False_anneal_True.pt   \n",
       "17    best_model_Multi_ourHoffman_VAE_K_3_N_1_learnreverse_True_anneal_True.pt   \n",
       "18         best_model_Multi_our_VAE_K_1_N_1_learnreverse_False_anneal_False.pt   \n",
       "19          best_model_Multi_our_VAE_K_1_N_1_learnreverse_False_anneal_True.pt   \n",
       "20          best_model_Multi_our_VAE_K_1_N_1_learnreverse_True_anneal_False.pt   \n",
       "21           best_model_Multi_our_VAE_K_1_N_1_learnreverse_True_anneal_True.pt   \n",
       "22         best_model_Multi_our_VAE_K_1_N_2_learnreverse_False_anneal_False.pt   \n",
       "23          best_model_Multi_our_VAE_K_1_N_2_learnreverse_False_anneal_True.pt   \n",
       "24          best_model_Multi_our_VAE_K_1_N_2_learnreverse_True_anneal_False.pt   \n",
       "25           best_model_Multi_our_VAE_K_1_N_2_learnreverse_True_anneal_True.pt   \n",
       "26         best_model_Multi_our_VAE_K_1_N_3_learnreverse_False_anneal_False.pt   \n",
       "27          best_model_Multi_our_VAE_K_1_N_3_learnreverse_False_anneal_True.pt   \n",
       "28          best_model_Multi_our_VAE_K_1_N_3_learnreverse_True_anneal_False.pt   \n",
       "29           best_model_Multi_our_VAE_K_1_N_3_learnreverse_True_anneal_True.pt   \n",
       "..                                                                         ...   \n",
       "70          best_model_Multi_our_VAE_K_1_N_1_learnreverse_True_anneal_False.pt   \n",
       "71           best_model_Multi_our_VAE_K_1_N_1_learnreverse_True_anneal_True.pt   \n",
       "72         best_model_Multi_our_VAE_K_1_N_2_learnreverse_False_anneal_False.pt   \n",
       "73          best_model_Multi_our_VAE_K_1_N_2_learnreverse_False_anneal_True.pt   \n",
       "74          best_model_Multi_our_VAE_K_1_N_2_learnreverse_True_anneal_False.pt   \n",
       "75           best_model_Multi_our_VAE_K_1_N_2_learnreverse_True_anneal_True.pt   \n",
       "76         best_model_Multi_our_VAE_K_1_N_3_learnreverse_False_anneal_False.pt   \n",
       "77          best_model_Multi_our_VAE_K_1_N_3_learnreverse_False_anneal_True.pt   \n",
       "78          best_model_Multi_our_VAE_K_1_N_3_learnreverse_True_anneal_False.pt   \n",
       "79           best_model_Multi_our_VAE_K_1_N_3_learnreverse_True_anneal_True.pt   \n",
       "80         best_model_Multi_our_VAE_K_1_N_5_learnreverse_False_anneal_False.pt   \n",
       "81          best_model_Multi_our_VAE_K_1_N_5_learnreverse_False_anneal_True.pt   \n",
       "82          best_model_Multi_our_VAE_K_1_N_5_learnreverse_True_anneal_False.pt   \n",
       "83           best_model_Multi_our_VAE_K_1_N_5_learnreverse_True_anneal_True.pt   \n",
       "84         best_model_Multi_our_VAE_K_2_N_1_learnreverse_False_anneal_False.pt   \n",
       "85          best_model_Multi_our_VAE_K_2_N_1_learnreverse_False_anneal_True.pt   \n",
       "86          best_model_Multi_our_VAE_K_2_N_1_learnreverse_True_anneal_False.pt   \n",
       "87           best_model_Multi_our_VAE_K_2_N_1_learnreverse_True_anneal_True.pt   \n",
       "88         best_model_Multi_our_VAE_K_2_N_2_learnreverse_False_anneal_False.pt   \n",
       "89          best_model_Multi_our_VAE_K_2_N_2_learnreverse_False_anneal_True.pt   \n",
       "90          best_model_Multi_our_VAE_K_2_N_2_learnreverse_True_anneal_False.pt   \n",
       "91           best_model_Multi_our_VAE_K_2_N_2_learnreverse_True_anneal_True.pt   \n",
       "92         best_model_Multi_our_VAE_K_3_N_1_learnreverse_False_anneal_False.pt   \n",
       "93          best_model_Multi_our_VAE_K_3_N_1_learnreverse_False_anneal_True.pt   \n",
       "94          best_model_Multi_our_VAE_K_3_N_1_learnreverse_True_anneal_False.pt   \n",
       "95           best_model_Multi_our_VAE_K_3_N_1_learnreverse_True_anneal_True.pt   \n",
       "96         best_model_Multi_our_VAE_K_5_N_1_learnreverse_False_anneal_False.pt   \n",
       "97          best_model_Multi_our_VAE_K_5_N_1_learnreverse_False_anneal_True.pt   \n",
       "98          best_model_Multi_our_VAE_K_5_N_1_learnreverse_True_anneal_False.pt   \n",
       "99           best_model_Multi_our_VAE_K_5_N_1_learnreverse_True_anneal_True.pt   \n",
       "\n",
       "        ndcg    recall  noise  \n",
       "0   0.359986  0.591383    1.0  \n",
       "1   0.386996  0.626046    1.0  \n",
       "2   0.355633  0.584347    1.0  \n",
       "3   0.387190  0.620263    1.0  \n",
       "4   0.361924  0.595574    1.0  \n",
       "5   0.392378  0.628635    1.0  \n",
       "6   0.358793  0.589407    1.0  \n",
       "7   0.394134  0.628383    1.0  \n",
       "8   0.360511  0.590860    1.0  \n",
       "9   0.388402  0.627646    1.0  \n",
       "10  0.391352  0.628720    1.0  \n",
       "11  0.391887  0.628845    1.0  \n",
       "12  0.359687  0.588595    1.0  \n",
       "13  0.389846  0.628340    1.0  \n",
       "14  0.360352  0.589670    1.0  \n",
       "15  0.392814  0.630674    1.0  \n",
       "16  0.392455  0.629456    1.0  \n",
       "17  0.398662  0.635319    1.0  \n",
       "18  0.361708  0.592033    1.0  \n",
       "19  0.392658  0.628903    1.0  \n",
       "20  0.360473  0.593114    1.0  \n",
       "21  0.389855  0.627930    1.0  \n",
       "22  0.362137  0.591434    1.0  \n",
       "23  0.389861  0.627049    1.0  \n",
       "24  0.359131  0.587154    1.0  \n",
       "25  0.390802  0.629245    1.0  \n",
       "26  0.360067  0.591356    1.0  \n",
       "27  0.390804  0.626239    1.0  \n",
       "28  0.360101  0.589068    1.0  \n",
       "29  0.390376  0.627836    1.0  \n",
       "..       ...       ...    ...  \n",
       "70  0.394293  0.624774    0.0  \n",
       "71  0.433514  0.664621    0.0  \n",
       "72  0.393655  0.623889    0.0  \n",
       "73  0.432361  0.663001    0.0  \n",
       "74  0.393906  0.622715    0.0  \n",
       "75  0.432411  0.663663    0.0  \n",
       "76  0.394647  0.625891    0.0  \n",
       "77  0.433261  0.663767    0.0  \n",
       "78  0.394622  0.624404    0.0  \n",
       "79  0.432902  0.663984    0.0  \n",
       "80  0.394550  0.624816    0.0  \n",
       "81  0.432696  0.663959    0.0  \n",
       "82  0.394296  0.624646    0.0  \n",
       "83  0.355915  0.578166    0.0  \n",
       "84  0.394220  0.624644    0.0  \n",
       "85  0.432888  0.663290    0.0  \n",
       "86  0.394311  0.624719    0.0  \n",
       "87  0.432892  0.662653    0.0  \n",
       "88  0.395547  0.626385    0.0  \n",
       "89  0.432888  0.663717    0.0  \n",
       "90  0.395822  0.626777    0.0  \n",
       "91  0.432074  0.661624    0.0  \n",
       "92  0.394687  0.623740    0.0  \n",
       "93  0.432084  0.663400    0.0  \n",
       "94  0.394887  0.624055    0.0  \n",
       "95  0.432469  0.663662    0.0  \n",
       "96  0.394854  0.625577    0.0  \n",
       "97  0.432540  0.662943    0.0  \n",
       "98  0.394753  0.624861    0.0  \n",
       "99  0.434162  0.663098    0.0  \n",
       "\n",
       "[100 rows x 4 columns]"
      ]
     },
     "execution_count": 8,
     "metadata": {},
     "output_type": "execute_result"
    }
   ],
   "source": [
    "df = pd.DataFrame(resulting_dict)\n",
    "df.to_csv('./eval_results.csv', index=False)\n",
    "df"
   ]
  },
  {
   "cell_type": "code",
   "execution_count": 14,
   "metadata": {},
   "outputs": [
    {
     "data": {
      "text/html": [
       "<div>\n",
       "<style scoped>\n",
       "    .dataframe tbody tr th:only-of-type {\n",
       "        vertical-align: middle;\n",
       "    }\n",
       "\n",
       "    .dataframe tbody tr th {\n",
       "        vertical-align: top;\n",
       "    }\n",
       "\n",
       "    .dataframe thead th {\n",
       "        text-align: right;\n",
       "    }\n",
       "</style>\n",
       "<table border=\"1\" class=\"dataframe\">\n",
       "  <thead>\n",
       "    <tr style=\"text-align: right;\">\n",
       "      <th></th>\n",
       "      <th>model</th>\n",
       "      <th>ndcg</th>\n",
       "      <th>recall</th>\n",
       "      <th>noise</th>\n",
       "    </tr>\n",
       "  </thead>\n",
       "  <tbody>\n",
       "    <tr>\n",
       "      <th>17</th>\n",
       "      <td>best_model_Multi_ourHoffman_VAE_K_3_N_1_learnreverse_True_anneal_True.pt</td>\n",
       "      <td>0.398662</td>\n",
       "      <td>0.635319</td>\n",
       "      <td>1.0</td>\n",
       "    </tr>\n",
       "    <tr>\n",
       "      <th>47</th>\n",
       "      <td>best_model_Multi_our_VAE_K_5_N_1_learnreverse_False_anneal_True.pt</td>\n",
       "      <td>0.394738</td>\n",
       "      <td>0.632062</td>\n",
       "      <td>1.0</td>\n",
       "    </tr>\n",
       "    <tr>\n",
       "      <th>7</th>\n",
       "      <td>best_model_Multi_ourHoffman_VAE_K_1_N_1_learnreverse_False_anneal_True.pt</td>\n",
       "      <td>0.394134</td>\n",
       "      <td>0.628383</td>\n",
       "      <td>1.0</td>\n",
       "    </tr>\n",
       "    <tr>\n",
       "      <th>45</th>\n",
       "      <td>best_model_Multi_our_VAE_K_3_N_1_learnreverse_True_anneal_True.pt</td>\n",
       "      <td>0.393916</td>\n",
       "      <td>0.631515</td>\n",
       "      <td>1.0</td>\n",
       "    </tr>\n",
       "    <tr>\n",
       "      <th>49</th>\n",
       "      <td>best_model_Multi_our_VAE_K_5_N_1_learnreverse_True_anneal_True.pt</td>\n",
       "      <td>0.393346</td>\n",
       "      <td>0.627312</td>\n",
       "      <td>1.0</td>\n",
       "    </tr>\n",
       "    <tr>\n",
       "      <th>15</th>\n",
       "      <td>best_model_Multi_ourHoffman_VAE_K_2_N_2_learnreverse_True_anneal_True.pt</td>\n",
       "      <td>0.392814</td>\n",
       "      <td>0.630674</td>\n",
       "      <td>1.0</td>\n",
       "    </tr>\n",
       "    <tr>\n",
       "      <th>19</th>\n",
       "      <td>best_model_Multi_our_VAE_K_1_N_1_learnreverse_False_anneal_True.pt</td>\n",
       "      <td>0.392658</td>\n",
       "      <td>0.628903</td>\n",
       "      <td>1.0</td>\n",
       "    </tr>\n",
       "    <tr>\n",
       "      <th>16</th>\n",
       "      <td>best_model_Multi_ourHoffman_VAE_K_3_N_1_learnreverse_False_anneal_True.pt</td>\n",
       "      <td>0.392455</td>\n",
       "      <td>0.629456</td>\n",
       "      <td>1.0</td>\n",
       "    </tr>\n",
       "    <tr>\n",
       "      <th>5</th>\n",
       "      <td>best_model_MultiVAE_K_None_N_None_learnreverse_False_anneal_True.pt</td>\n",
       "      <td>0.392378</td>\n",
       "      <td>0.628635</td>\n",
       "      <td>1.0</td>\n",
       "    </tr>\n",
       "  </tbody>\n",
       "</table>\n",
       "</div>"
      ],
      "text/plain": [
       "                                                                        model  \\\n",
       "17   best_model_Multi_ourHoffman_VAE_K_3_N_1_learnreverse_True_anneal_True.pt   \n",
       "47         best_model_Multi_our_VAE_K_5_N_1_learnreverse_False_anneal_True.pt   \n",
       "7   best_model_Multi_ourHoffman_VAE_K_1_N_1_learnreverse_False_anneal_True.pt   \n",
       "45          best_model_Multi_our_VAE_K_3_N_1_learnreverse_True_anneal_True.pt   \n",
       "49          best_model_Multi_our_VAE_K_5_N_1_learnreverse_True_anneal_True.pt   \n",
       "15   best_model_Multi_ourHoffman_VAE_K_2_N_2_learnreverse_True_anneal_True.pt   \n",
       "19         best_model_Multi_our_VAE_K_1_N_1_learnreverse_False_anneal_True.pt   \n",
       "16  best_model_Multi_ourHoffman_VAE_K_3_N_1_learnreverse_False_anneal_True.pt   \n",
       "5         best_model_MultiVAE_K_None_N_None_learnreverse_False_anneal_True.pt   \n",
       "\n",
       "        ndcg    recall  noise  \n",
       "17  0.398662  0.635319    1.0  \n",
       "47  0.394738  0.632062    1.0  \n",
       "7   0.394134  0.628383    1.0  \n",
       "45  0.393916  0.631515    1.0  \n",
       "49  0.393346  0.627312    1.0  \n",
       "15  0.392814  0.630674    1.0  \n",
       "19  0.392658  0.628903    1.0  \n",
       "16  0.392455  0.629456    1.0  \n",
       "5   0.392378  0.628635    1.0  "
      ]
     },
     "execution_count": 14,
     "metadata": {},
     "output_type": "execute_result"
    }
   ],
   "source": [
    "df[df.noise == 1.].sort_values('ndcg', ascending=False).head(9)"
   ]
  },
  {
   "cell_type": "code",
   "execution_count": 12,
   "metadata": {},
   "outputs": [
    {
     "data": {
      "text/html": [
       "<div>\n",
       "<style scoped>\n",
       "    .dataframe tbody tr th:only-of-type {\n",
       "        vertical-align: middle;\n",
       "    }\n",
       "\n",
       "    .dataframe tbody tr th {\n",
       "        vertical-align: top;\n",
       "    }\n",
       "\n",
       "    .dataframe thead th {\n",
       "        text-align: right;\n",
       "    }\n",
       "</style>\n",
       "<table border=\"1\" class=\"dataframe\">\n",
       "  <thead>\n",
       "    <tr style=\"text-align: right;\">\n",
       "      <th></th>\n",
       "      <th>model</th>\n",
       "      <th>ndcg</th>\n",
       "      <th>recall</th>\n",
       "      <th>noise</th>\n",
       "    </tr>\n",
       "  </thead>\n",
       "  <tbody>\n",
       "    <tr>\n",
       "      <th>99</th>\n",
       "      <td>best_model_Multi_our_VAE_K_5_N_1_learnreverse_True_anneal_True.pt</td>\n",
       "      <td>0.434162</td>\n",
       "      <td>0.663098</td>\n",
       "      <td>0.0</td>\n",
       "    </tr>\n",
       "    <tr>\n",
       "      <th>71</th>\n",
       "      <td>best_model_Multi_our_VAE_K_1_N_1_learnreverse_True_anneal_True.pt</td>\n",
       "      <td>0.433514</td>\n",
       "      <td>0.664621</td>\n",
       "      <td>0.0</td>\n",
       "    </tr>\n",
       "    <tr>\n",
       "      <th>77</th>\n",
       "      <td>best_model_Multi_our_VAE_K_1_N_3_learnreverse_False_anneal_True.pt</td>\n",
       "      <td>0.433261</td>\n",
       "      <td>0.663767</td>\n",
       "      <td>0.0</td>\n",
       "    </tr>\n",
       "    <tr>\n",
       "      <th>65</th>\n",
       "      <td>best_model_Multi_ourHoffman_VAE_K_2_N_2_learnreverse_True_anneal_True.pt</td>\n",
       "      <td>0.432926</td>\n",
       "      <td>0.663661</td>\n",
       "      <td>0.0</td>\n",
       "    </tr>\n",
       "    <tr>\n",
       "      <th>79</th>\n",
       "      <td>best_model_Multi_our_VAE_K_1_N_3_learnreverse_True_anneal_True.pt</td>\n",
       "      <td>0.432902</td>\n",
       "      <td>0.663984</td>\n",
       "      <td>0.0</td>\n",
       "    </tr>\n",
       "    <tr>\n",
       "      <th>69</th>\n",
       "      <td>best_model_Multi_our_VAE_K_1_N_1_learnreverse_False_anneal_True.pt</td>\n",
       "      <td>0.432894</td>\n",
       "      <td>0.663048</td>\n",
       "      <td>0.0</td>\n",
       "    </tr>\n",
       "    <tr>\n",
       "      <th>87</th>\n",
       "      <td>best_model_Multi_our_VAE_K_2_N_1_learnreverse_True_anneal_True.pt</td>\n",
       "      <td>0.432892</td>\n",
       "      <td>0.662653</td>\n",
       "      <td>0.0</td>\n",
       "    </tr>\n",
       "    <tr>\n",
       "      <th>89</th>\n",
       "      <td>best_model_Multi_our_VAE_K_2_N_2_learnreverse_False_anneal_True.pt</td>\n",
       "      <td>0.432888</td>\n",
       "      <td>0.663717</td>\n",
       "      <td>0.0</td>\n",
       "    </tr>\n",
       "    <tr>\n",
       "      <th>85</th>\n",
       "      <td>best_model_Multi_our_VAE_K_2_N_1_learnreverse_False_anneal_True.pt</td>\n",
       "      <td>0.432888</td>\n",
       "      <td>0.663290</td>\n",
       "      <td>0.0</td>\n",
       "    </tr>\n",
       "    <tr>\n",
       "      <th>60</th>\n",
       "      <td>best_model_Multi_ourHoffman_VAE_K_2_N_1_learnreverse_False_anneal_True.pt</td>\n",
       "      <td>0.432805</td>\n",
       "      <td>0.661502</td>\n",
       "      <td>0.0</td>\n",
       "    </tr>\n",
       "    <tr>\n",
       "      <th>81</th>\n",
       "      <td>best_model_Multi_our_VAE_K_1_N_5_learnreverse_False_anneal_True.pt</td>\n",
       "      <td>0.432696</td>\n",
       "      <td>0.663959</td>\n",
       "      <td>0.0</td>\n",
       "    </tr>\n",
       "    <tr>\n",
       "      <th>97</th>\n",
       "      <td>best_model_Multi_our_VAE_K_5_N_1_learnreverse_False_anneal_True.pt</td>\n",
       "      <td>0.432540</td>\n",
       "      <td>0.662943</td>\n",
       "      <td>0.0</td>\n",
       "    </tr>\n",
       "    <tr>\n",
       "      <th>61</th>\n",
       "      <td>best_model_Multi_ourHoffman_VAE_K_2_N_1_learnreverse_True_anneal_True.pt</td>\n",
       "      <td>0.432516</td>\n",
       "      <td>0.662239</td>\n",
       "      <td>0.0</td>\n",
       "    </tr>\n",
       "    <tr>\n",
       "      <th>95</th>\n",
       "      <td>best_model_Multi_our_VAE_K_3_N_1_learnreverse_True_anneal_True.pt</td>\n",
       "      <td>0.432469</td>\n",
       "      <td>0.663662</td>\n",
       "      <td>0.0</td>\n",
       "    </tr>\n",
       "    <tr>\n",
       "      <th>59</th>\n",
       "      <td>best_model_Multi_ourHoffman_VAE_K_1_N_1_learnreverse_True_anneal_True.pt</td>\n",
       "      <td>0.432454</td>\n",
       "      <td>0.664683</td>\n",
       "      <td>0.0</td>\n",
       "    </tr>\n",
       "    <tr>\n",
       "      <th>75</th>\n",
       "      <td>best_model_Multi_our_VAE_K_1_N_2_learnreverse_True_anneal_True.pt</td>\n",
       "      <td>0.432411</td>\n",
       "      <td>0.663663</td>\n",
       "      <td>0.0</td>\n",
       "    </tr>\n",
       "    <tr>\n",
       "      <th>73</th>\n",
       "      <td>best_model_Multi_our_VAE_K_1_N_2_learnreverse_False_anneal_True.pt</td>\n",
       "      <td>0.432361</td>\n",
       "      <td>0.663001</td>\n",
       "      <td>0.0</td>\n",
       "    </tr>\n",
       "    <tr>\n",
       "      <th>57</th>\n",
       "      <td>best_model_Multi_ourHoffman_VAE_K_1_N_1_learnreverse_False_anneal_True.pt</td>\n",
       "      <td>0.432287</td>\n",
       "      <td>0.663888</td>\n",
       "      <td>0.0</td>\n",
       "    </tr>\n",
       "    <tr>\n",
       "      <th>55</th>\n",
       "      <td>best_model_MultiVAE_K_None_N_None_learnreverse_False_anneal_True.pt</td>\n",
       "      <td>0.432240</td>\n",
       "      <td>0.661363</td>\n",
       "      <td>0.0</td>\n",
       "    </tr>\n",
       "  </tbody>\n",
       "</table>\n",
       "</div>"
      ],
      "text/plain": [
       "                                                                        model  \\\n",
       "99          best_model_Multi_our_VAE_K_5_N_1_learnreverse_True_anneal_True.pt   \n",
       "71          best_model_Multi_our_VAE_K_1_N_1_learnreverse_True_anneal_True.pt   \n",
       "77         best_model_Multi_our_VAE_K_1_N_3_learnreverse_False_anneal_True.pt   \n",
       "65   best_model_Multi_ourHoffman_VAE_K_2_N_2_learnreverse_True_anneal_True.pt   \n",
       "79          best_model_Multi_our_VAE_K_1_N_3_learnreverse_True_anneal_True.pt   \n",
       "69         best_model_Multi_our_VAE_K_1_N_1_learnreverse_False_anneal_True.pt   \n",
       "87          best_model_Multi_our_VAE_K_2_N_1_learnreverse_True_anneal_True.pt   \n",
       "89         best_model_Multi_our_VAE_K_2_N_2_learnreverse_False_anneal_True.pt   \n",
       "85         best_model_Multi_our_VAE_K_2_N_1_learnreverse_False_anneal_True.pt   \n",
       "60  best_model_Multi_ourHoffman_VAE_K_2_N_1_learnreverse_False_anneal_True.pt   \n",
       "81         best_model_Multi_our_VAE_K_1_N_5_learnreverse_False_anneal_True.pt   \n",
       "97         best_model_Multi_our_VAE_K_5_N_1_learnreverse_False_anneal_True.pt   \n",
       "61   best_model_Multi_ourHoffman_VAE_K_2_N_1_learnreverse_True_anneal_True.pt   \n",
       "95          best_model_Multi_our_VAE_K_3_N_1_learnreverse_True_anneal_True.pt   \n",
       "59   best_model_Multi_ourHoffman_VAE_K_1_N_1_learnreverse_True_anneal_True.pt   \n",
       "75          best_model_Multi_our_VAE_K_1_N_2_learnreverse_True_anneal_True.pt   \n",
       "73         best_model_Multi_our_VAE_K_1_N_2_learnreverse_False_anneal_True.pt   \n",
       "57  best_model_Multi_ourHoffman_VAE_K_1_N_1_learnreverse_False_anneal_True.pt   \n",
       "55        best_model_MultiVAE_K_None_N_None_learnreverse_False_anneal_True.pt   \n",
       "\n",
       "        ndcg    recall  noise  \n",
       "99  0.434162  0.663098    0.0  \n",
       "71  0.433514  0.664621    0.0  \n",
       "77  0.433261  0.663767    0.0  \n",
       "65  0.432926  0.663661    0.0  \n",
       "79  0.432902  0.663984    0.0  \n",
       "69  0.432894  0.663048    0.0  \n",
       "87  0.432892  0.662653    0.0  \n",
       "89  0.432888  0.663717    0.0  \n",
       "85  0.432888  0.663290    0.0  \n",
       "60  0.432805  0.661502    0.0  \n",
       "81  0.432696  0.663959    0.0  \n",
       "97  0.432540  0.662943    0.0  \n",
       "61  0.432516  0.662239    0.0  \n",
       "95  0.432469  0.663662    0.0  \n",
       "59  0.432454  0.664683    0.0  \n",
       "75  0.432411  0.663663    0.0  \n",
       "73  0.432361  0.663001    0.0  \n",
       "57  0.432287  0.663888    0.0  \n",
       "55  0.432240  0.661363    0.0  "
      ]
     },
     "execution_count": 12,
     "metadata": {},
     "output_type": "execute_result"
    }
   ],
   "source": [
    "df[df.noise == 0.].sort_values('ndcg', ascending=False).head(19)"
   ]
  },
  {
   "cell_type": "code",
   "execution_count": null,
   "metadata": {},
   "outputs": [],
   "source": []
  },
  {
   "cell_type": "code",
   "execution_count": null,
   "metadata": {},
   "outputs": [],
   "source": []
  },
  {
   "cell_type": "markdown",
   "metadata": {},
   "source": [
    "# Parameters tuning"
   ]
  },
  {
   "cell_type": "code",
   "execution_count": 4,
   "metadata": {},
   "outputs": [],
   "source": [
    "model = load_model('./models/best_model_MultiVAE_K_None_N_None_learnreverse_False_anneal_False.pt', 'cpu')\n",
    "# 'best_model_MultiVAE_K_None_N_None_learnreverse_False_anneal_True.pt'"
   ]
  },
  {
   "cell_type": "code",
   "execution_count": 5,
   "metadata": {},
   "outputs": [
    {
     "name": "stdout",
     "output_type": "stream",
     "text": [
      "Sequential(\n",
      "  (0): Linear(in_features=20108, out_features=600, bias=True)\n",
      "  (1): Tanh()\n",
      "  (2): Linear(in_features=600, out_features=400, bias=True)\n",
      ")\n",
      "Sequential(\n",
      "  (0): Linear(in_features=200, out_features=600, bias=True)\n",
      "  (1): Tanh()\n",
      "  (2): Linear(in_features=600, out_features=20108, bias=True)\n",
      ")\n"
     ]
    }
   ],
   "source": [
    "for p in model.parameters():\n",
    "    p.requires_grad_(False)\n",
    "model.eval()\n",
    "fixed_decoder = model.decoder\n",
    "del model\n",
    "\n",
    "layers = [200, 600, dataset.n_items]\n",
    "\n",
    "model = MultiVAE(layers, args=args)\n",
    "model.decoder = fixed_decoder"
   ]
  },
  {
   "cell_type": "code",
   "execution_count": null,
   "metadata": {},
   "outputs": [],
   "source": []
  },
  {
   "cell_type": "code",
   "execution_count": 9,
   "metadata": {},
   "outputs": [
    {
     "name": "stderr",
     "output_type": "stream",
     "text": [
      "  0%|          | 0/200 [00:00<?, ?it/s]"
     ]
    },
    {
     "name": "stdout",
     "output_type": "stream",
     "text": [
      "666.53955\n",
      "592.1258\n"
     ]
    },
    {
     "ename": "KeyboardInterrupt",
     "evalue": "",
     "output_type": "error",
     "traceback": [
      "\u001b[0;31m---------------------------------------------------------------------------\u001b[0m",
      "\u001b[0;31mKeyboardInterrupt\u001b[0m                         Traceback (most recent call last)",
      "\u001b[0;32m<ipython-input-9-ade8a7c06cd7>\u001b[0m in \u001b[0;36m<module>\u001b[0;34m\u001b[0m\n\u001b[1;32m      4\u001b[0m \u001b[0margs\u001b[0m\u001b[0;34m.\u001b[0m\u001b[0mprint_info_\u001b[0m \u001b[0;34m=\u001b[0m \u001b[0;36m1\u001b[0m\u001b[0;34m\u001b[0m\u001b[0;34m\u001b[0m\u001b[0m\n\u001b[1;32m      5\u001b[0m \u001b[0;34m\u001b[0m\u001b[0m\n\u001b[0;32m----> 6\u001b[0;31m \u001b[0mtrain_model\u001b[0m\u001b[0;34m(\u001b[0m\u001b[0mmodel\u001b[0m\u001b[0;34m,\u001b[0m \u001b[0mdataset\u001b[0m\u001b[0;34m,\u001b[0m \u001b[0margs\u001b[0m\u001b[0;34m)\u001b[0m\u001b[0;34m\u001b[0m\u001b[0;34m\u001b[0m\u001b[0m\n\u001b[0m",
      "\u001b[0;32m~/github/hmc_ouralg/recommender/src/training.py\u001b[0m in \u001b[0;36mtrain_model\u001b[0;34m(model, dataset, args)\u001b[0m\n\u001b[1;32m     23\u001b[0m                 \u001b[0manneal\u001b[0m \u001b[0;34m=\u001b[0m \u001b[0margs\u001b[0m\u001b[0;34m.\u001b[0m\u001b[0manneal_cap\u001b[0m\u001b[0;34m\u001b[0m\u001b[0;34m\u001b[0m\u001b[0m\n\u001b[1;32m     24\u001b[0m \u001b[0;34m\u001b[0m\u001b[0m\n\u001b[0;32m---> 25\u001b[0;31m             \u001b[0mlogits\u001b[0m\u001b[0;34m,\u001b[0m \u001b[0mKL\u001b[0m \u001b[0;34m=\u001b[0m \u001b[0mmodel\u001b[0m\u001b[0;34m(\u001b[0m\u001b[0mbatch_train\u001b[0m\u001b[0;34m)\u001b[0m\u001b[0;34m\u001b[0m\u001b[0;34m\u001b[0m\u001b[0m\n\u001b[0m\u001b[1;32m     26\u001b[0m \u001b[0;34m\u001b[0m\u001b[0m\n\u001b[1;32m     27\u001b[0m             \u001b[0;31m# loglikelihood part\u001b[0m\u001b[0;34m\u001b[0m\u001b[0;34m\u001b[0m\u001b[0;34m\u001b[0m\u001b[0m\n",
      "\u001b[0;32m~/anaconda3/envs/condatorch/lib/python3.7/site-packages/torch/nn/modules/module.py\u001b[0m in \u001b[0;36m__call__\u001b[0;34m(self, *input, **kwargs)\u001b[0m\n\u001b[1;32m    530\u001b[0m             \u001b[0mresult\u001b[0m \u001b[0;34m=\u001b[0m \u001b[0mself\u001b[0m\u001b[0;34m.\u001b[0m\u001b[0m_slow_forward\u001b[0m\u001b[0;34m(\u001b[0m\u001b[0;34m*\u001b[0m\u001b[0minput\u001b[0m\u001b[0;34m,\u001b[0m \u001b[0;34m**\u001b[0m\u001b[0mkwargs\u001b[0m\u001b[0;34m)\u001b[0m\u001b[0;34m\u001b[0m\u001b[0;34m\u001b[0m\u001b[0m\n\u001b[1;32m    531\u001b[0m         \u001b[0;32melse\u001b[0m\u001b[0;34m:\u001b[0m\u001b[0;34m\u001b[0m\u001b[0;34m\u001b[0m\u001b[0m\n\u001b[0;32m--> 532\u001b[0;31m             \u001b[0mresult\u001b[0m \u001b[0;34m=\u001b[0m \u001b[0mself\u001b[0m\u001b[0;34m.\u001b[0m\u001b[0mforward\u001b[0m\u001b[0;34m(\u001b[0m\u001b[0;34m*\u001b[0m\u001b[0minput\u001b[0m\u001b[0;34m,\u001b[0m \u001b[0;34m**\u001b[0m\u001b[0mkwargs\u001b[0m\u001b[0;34m)\u001b[0m\u001b[0;34m\u001b[0m\u001b[0;34m\u001b[0m\u001b[0m\n\u001b[0m\u001b[1;32m    533\u001b[0m         \u001b[0;32mfor\u001b[0m \u001b[0mhook\u001b[0m \u001b[0;32min\u001b[0m \u001b[0mself\u001b[0m\u001b[0;34m.\u001b[0m\u001b[0m_forward_hooks\u001b[0m\u001b[0;34m.\u001b[0m\u001b[0mvalues\u001b[0m\u001b[0;34m(\u001b[0m\u001b[0;34m)\u001b[0m\u001b[0;34m:\u001b[0m\u001b[0;34m\u001b[0m\u001b[0;34m\u001b[0m\u001b[0m\n\u001b[1;32m    534\u001b[0m             \u001b[0mhook_result\u001b[0m \u001b[0;34m=\u001b[0m \u001b[0mhook\u001b[0m\u001b[0;34m(\u001b[0m\u001b[0mself\u001b[0m\u001b[0;34m,\u001b[0m \u001b[0minput\u001b[0m\u001b[0;34m,\u001b[0m \u001b[0mresult\u001b[0m\u001b[0;34m)\u001b[0m\u001b[0;34m\u001b[0m\u001b[0;34m\u001b[0m\u001b[0m\n",
      "\u001b[0;32m~/github/hmc_ouralg/recommender/src/models.py\u001b[0m in \u001b[0;36mforward\u001b[0;34m(self, x_initial, is_training_ph)\u001b[0m\n\u001b[1;32m     79\u001b[0m     \u001b[0;32mdef\u001b[0m \u001b[0mforward\u001b[0m\u001b[0;34m(\u001b[0m\u001b[0mself\u001b[0m\u001b[0;34m,\u001b[0m \u001b[0mx_initial\u001b[0m\u001b[0;34m,\u001b[0m \u001b[0mis_training_ph\u001b[0m\u001b[0;34m=\u001b[0m\u001b[0;36m1.\u001b[0m\u001b[0;34m)\u001b[0m\u001b[0;34m:\u001b[0m\u001b[0;34m\u001b[0m\u001b[0;34m\u001b[0m\u001b[0m\n\u001b[1;32m     80\u001b[0m         \u001b[0ml2\u001b[0m \u001b[0;34m=\u001b[0m \u001b[0mtorch\u001b[0m\u001b[0;34m.\u001b[0m\u001b[0msum\u001b[0m\u001b[0;34m(\u001b[0m\u001b[0mx_initial\u001b[0m \u001b[0;34m**\u001b[0m \u001b[0;36m2\u001b[0m\u001b[0;34m,\u001b[0m \u001b[0;36m1\u001b[0m\u001b[0;34m)\u001b[0m\u001b[0;34m[\u001b[0m\u001b[0;34m...\u001b[0m\u001b[0;34m,\u001b[0m \u001b[0;32mNone\u001b[0m\u001b[0;34m]\u001b[0m\u001b[0;34m\u001b[0m\u001b[0;34m\u001b[0m\u001b[0m\n\u001b[0;32m---> 81\u001b[0;31m         \u001b[0mx_normed\u001b[0m \u001b[0;34m=\u001b[0m \u001b[0mx_initial\u001b[0m \u001b[0;34m/\u001b[0m \u001b[0mtorch\u001b[0m\u001b[0;34m.\u001b[0m\u001b[0msqrt\u001b[0m\u001b[0;34m(\u001b[0m\u001b[0mtorch\u001b[0m\u001b[0;34m.\u001b[0m\u001b[0mmax\u001b[0m\u001b[0;34m(\u001b[0m\u001b[0ml2\u001b[0m\u001b[0;34m,\u001b[0m \u001b[0mtorch\u001b[0m\u001b[0;34m.\u001b[0m\u001b[0mones_like\u001b[0m\u001b[0;34m(\u001b[0m\u001b[0ml2\u001b[0m\u001b[0;34m)\u001b[0m \u001b[0;34m*\u001b[0m \u001b[0;36m1e-12\u001b[0m\u001b[0;34m)\u001b[0m\u001b[0;34m)\u001b[0m\u001b[0;34m\u001b[0m\u001b[0;34m\u001b[0m\u001b[0m\n\u001b[0m\u001b[1;32m     82\u001b[0m         \u001b[0mx\u001b[0m \u001b[0;34m=\u001b[0m \u001b[0mself\u001b[0m\u001b[0;34m.\u001b[0m\u001b[0mdropout\u001b[0m\u001b[0;34m(\u001b[0m\u001b[0mx_normed\u001b[0m\u001b[0;34m)\u001b[0m\u001b[0;34m\u001b[0m\u001b[0;34m\u001b[0m\u001b[0m\n\u001b[1;32m     83\u001b[0m \u001b[0;34m\u001b[0m\u001b[0m\n",
      "\u001b[0;31mKeyboardInterrupt\u001b[0m: "
     ]
    }
   ],
   "source": [
    "train_model(model, dataset, args)"
   ]
  },
  {
   "cell_type": "code",
   "execution_count": null,
   "metadata": {},
   "outputs": [],
   "source": []
  },
  {
   "cell_type": "code",
   "execution_count": null,
   "metadata": {},
   "outputs": [],
   "source": []
  },
  {
   "cell_type": "code",
   "execution_count": null,
   "metadata": {},
   "outputs": [],
   "source": []
  }
 ],
 "metadata": {
  "kernelspec": {
   "display_name": "Condatorch",
   "language": "python",
   "name": "condatorch"
  },
  "language_info": {
   "codemirror_mode": {
    "name": "ipython",
    "version": 3
   },
   "file_extension": ".py",
   "mimetype": "text/x-python",
   "name": "python",
   "nbconvert_exporter": "python",
   "pygments_lexer": "ipython3",
   "version": "3.7.6"
  }
 },
 "nbformat": 4,
 "nbformat_minor": 4
}
