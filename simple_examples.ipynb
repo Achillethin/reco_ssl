{
 "cells": [
  {
   "cell_type": "code",
   "execution_count": 1,
   "metadata": {},
   "outputs": [],
   "source": [
    "import torch\n",
    "import torch.nn as nn\n",
    "from tqdm import tqdm\n",
    "import pdb\n",
    "import matplotlib.pyplot as plt\n",
    "import sys\n",
    "sys.path.insert(0, './src/')\n",
    "from target import NN_bernoulli\n",
    "%matplotlib inline"
   ]
  },
  {
   "cell_type": "code",
   "execution_count": 2,
   "metadata": {},
   "outputs": [],
   "source": [
    "class dotdict(dict):\n",
    "    \"\"\"dot.notation access to dictionary attributes\"\"\"\n",
    "    __getattr__ = dict.get\n",
    "    __setattr__ = dict.__setitem__\n",
    "    __delattr__ = dict.__delitem__"
   ]
  },
  {
   "cell_type": "code",
   "execution_count": 3,
   "metadata": {},
   "outputs": [],
   "source": [
    "# 'Encoder' - simple matrix\n",
    "class Encoder(nn.Module):\n",
    "    def __init__(self, L, z_dim, device='cpu'):\n",
    "        super(Encoder, self).__init__()\n",
    "        self.L = L\n",
    "        self.z_dim = z_dim\n",
    "        self.W = nn.Linear(in_features=self.L, out_features=self.z_dim)\n",
    "        self.noise = torch.distributions.Normal(loc=torch.tensor(0., device=device),\n",
    "                                                scale=torch.tensor(1., device=device))\n",
    "    def forward(self, x):\n",
    "        return self.W(x) + self.noise.sample((self.L, self.z_dim))\n",
    "    \n",
    "# 'Decoder' - simple matrix, return logits\n",
    "class Decoder(nn.Module):\n",
    "    def __init__(self, L, z_dim, device='cpu'):\n",
    "        super(Decoder, self).__init__()\n",
    "        self.L = L\n",
    "        self.z_dim = z_dim\n",
    "        self.W = nn.Linear(in_features=self.z_dim, out_features=self.L)\n",
    "    def forward(self, z):\n",
    "        return [self.W(z)]"
   ]
  },
  {
   "cell_type": "code",
   "execution_count": 4,
   "metadata": {},
   "outputs": [],
   "source": [
    "L = 10\n",
    "z_dim = 2\n",
    "N = 1000\n",
    "device = \"cuda:0\" if torch.cuda.is_available() else \"cpu\"\n",
    "\n",
    "enc = Encoder(L=L, z_dim=z_dim, device=device).to(device)\n",
    "dec = Decoder(L=L, z_dim=z_dim, device=device).to(device)\n",
    "target = NN_bernoulli({}, dec, device)\n",
    "std_normal = enc.noise"
   ]
  },
  {
   "cell_type": "code",
   "execution_count": 5,
   "metadata": {},
   "outputs": [
    {
     "name": "stdout",
     "output_type": "stream",
     "text": [
      "True decoder matrix\n",
      "tensor([[ 0.1479, -1.3777, -0.7659, -0.0702, -0.2629,  1.0342,  0.2221,  0.5664,\n",
      "         -0.0814,  0.6970],\n",
      "        [ 0.5635, -0.8596,  2.3421,  0.8749,  0.0081, -1.2952,  1.9679,  0.5302,\n",
      "          0.0713, -0.2374]], device='cuda:0')\n",
      "---------------------------------------------------------------------------\n",
      "Generated data example:\n",
      "tensor([[1., 0., 1., 1., 0., 1., 0., 0., 0., 0.],\n",
      "        [1., 1., 1., 1., 0., 0., 1., 0., 0., 1.],\n",
      "        [0., 0., 0., 1., 1., 1., 0., 1., 1., 1.],\n",
      "        [0., 0., 1., 1., 1., 1., 1., 1., 1., 1.],\n",
      "        [0., 0., 1., 1., 0., 1., 0., 0., 0., 0.],\n",
      "        [0., 1., 0., 1., 0., 1., 0., 1., 1., 1.],\n",
      "        [1., 0., 1., 1., 1., 0., 1., 0., 0., 1.],\n",
      "        [0., 0., 1., 0., 0., 0., 0., 1., 0., 1.],\n",
      "        [1., 0., 1., 1., 0., 0., 0., 1., 1., 0.],\n",
      "        [1., 1., 0., 0., 1., 1., 0., 0., 1., 1.]], device='cuda:0')\n"
     ]
    }
   ],
   "source": [
    "true_theta = std_normal.sample((z_dim, L))\n",
    "print('True decoder matrix')\n",
    "print(true_theta)\n",
    "print('-' * 75)\n",
    "data_logits = std_normal.sample((N, z_dim)) @ true_theta\n",
    "data = torch.distributions.Bernoulli(logits=data_logits).sample()\n",
    "print('Generated data example:')\n",
    "print(data[:10])"
   ]
  }
 ],
 "metadata": {
  "kernelspec": {
   "display_name": "Condatorch",
   "language": "python",
   "name": "condatorch"
  },
  "language_info": {
   "codemirror_mode": {
    "name": "ipython",
    "version": 3
   },
   "file_extension": ".py",
   "mimetype": "text/x-python",
   "name": "python",
   "nbconvert_exporter": "python",
   "pygments_lexer": "ipython3",
   "version": "3.7.6"
  }
 },
 "nbformat": 4,
 "nbformat_minor": 4
}
