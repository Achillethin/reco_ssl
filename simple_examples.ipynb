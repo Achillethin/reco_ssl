{
 "cells": [
  {
   "cell_type": "code",
   "execution_count": 1,
   "metadata": {},
   "outputs": [],
   "source": [
    "import torch\n",
    "import torch.nn as nn\n",
    "from tqdm import tqdm\n",
    "import pdb\n",
    "import matplotlib.pyplot as plt\n",
    "import sys\n",
    "sys.path.insert(0, './src/')\n",
    "from target import NN_bernoulli\n",
    "from kernels import HMC_our, Reverse_kernel\n",
    "%matplotlib inline"
   ]
  },
  {
   "cell_type": "code",
   "execution_count": 2,
   "metadata": {},
   "outputs": [],
   "source": [
    "class dotdict(dict):\n",
    "    \"\"\"dot.notation access to dictionary attributes\"\"\"\n",
    "    __getattr__ = dict.get\n",
    "    __setattr__ = dict.__setitem__\n",
    "    __delattr__ = dict.__delitem__"
   ]
  },
  {
   "cell_type": "code",
   "execution_count": 3,
   "metadata": {},
   "outputs": [],
   "source": [
    "# 'Encoder' - simple matrix\n",
    "class Encoder(nn.Module):\n",
    "    def __init__(self, L, z_dim, device='cpu'):\n",
    "        super(Encoder, self).__init__()\n",
    "        self.L = L\n",
    "        self.z_dim = z_dim\n",
    "        self.e = nn.Linear(in_features=self.L, out_features=2*self.L)\n",
    "        self.mu = nn.Linear(in_features=2*self.L, out_features=self.z_dim)\n",
    "        self.sigma = nn.Linear(in_features=2*self.L, out_features=self.z_dim)\n",
    "        self.h = nn.Linear(in_features=2*self.L, out_features=self.z_dim)\n",
    "    def forward(self, x):\n",
    "        hid = torch.relu(self.e(x))\n",
    "        return self.mu(hid), nn.functional.softplus(self.sigma(hid)), self.h(hid)\n",
    "    \n",
    "# 'Decoder' - simple matrix, return logits\n",
    "class Decoder(nn.Module):\n",
    "    def __init__(self, L, z_dim, device='cpu'):\n",
    "        super(Decoder, self).__init__()\n",
    "        self.L = L\n",
    "        self.z_dim = z_dim\n",
    "        self.W = nn.Linear(in_features=self.z_dim, out_features=self.L, bias=False)\n",
    "    def forward(self, z):\n",
    "        return [self.W(z)]"
   ]
  },
  {
   "cell_type": "code",
   "execution_count": 4,
   "metadata": {},
   "outputs": [],
   "source": [
    "L = 2\n",
    "z_dim = 2\n",
    "N = 10000\n",
    "device = \"cpu\"#\"cuda:0\" if torch.cuda.is_available() else \"cpu\"\n",
    "\n",
    "args = dotdict({})\n",
    "args.K = 7\n",
    "args.N = 7\n",
    "args.z_dim = z_dim\n",
    "args.torchType = torch.float32\n",
    "args.device = device\n",
    "args.learnable_reverse = True\n",
    "args.num_epoches = 500\n",
    "args.train_batch_size = 100\n",
    "args.amortize = False\n",
    "args.gamma = 0.1 ## Stepsize\n",
    "args.alpha = 0.5  ## For partial momentum refresh\n",
    "args.train_only_inference_period = 10\n",
    "args.train_only_inference_cutoff = 5\n",
    "args.hoffman_idea = False\n",
    "args.separate_params = False\n",
    "args.use_barker = True"
   ]
  },
  {
   "cell_type": "code",
   "execution_count": 5,
   "metadata": {},
   "outputs": [],
   "source": [
    "enc = Encoder(L=L, z_dim=z_dim, device=device).to(device)\n",
    "dec = Decoder(L=L, z_dim=z_dim, device=device).to(device)\n",
    "reverse_kernel = Reverse_kernel(args).to(device)\n",
    "target = NN_bernoulli({}, dec, device).to(device)\n",
    "transitions = nn.ModuleList([HMC_our(kwargs=args).to(args.device) for _ in range(args['K'])])\n",
    "\n",
    "std_normal = torch.distributions.Normal(loc=torch.tensor(0., device=device),\n",
    "                                                scale=torch.tensor(1., device=device))\n",
    "args.std_normal = std_normal"
   ]
  },
  {
   "cell_type": "code",
   "execution_count": 6,
   "metadata": {},
   "outputs": [
    {
     "name": "stdout",
     "output_type": "stream",
     "text": [
      "True decoder matrix\n",
      "tensor([[5.1967, 5.6456],\n",
      "        [4.1954, 6.4900]])\n",
      "---------------------------------------------------------------------------\n",
      "Generated data example:\n",
      "tensor([[1., 1.],\n",
      "        [0., 0.],\n",
      "        [1., 1.],\n",
      "        [1., 1.],\n",
      "        [0., 0.],\n",
      "        [1., 1.],\n",
      "        [0., 0.],\n",
      "        [1., 1.],\n",
      "        [0., 0.],\n",
      "        [1., 1.]])\n"
     ]
    }
   ],
   "source": [
    "true_theta = std_normal.sample((z_dim, L)) + 5\n",
    "print('True decoder matrix')\n",
    "print(true_theta)\n",
    "print('-' * 75)\n",
    "data_logits = std_normal.sample((N, z_dim)) @ true_theta\n",
    "data = torch.distributions.Bernoulli(logits=data_logits).sample()\n",
    "print('Generated data example:')\n",
    "print(data[:10])"
   ]
  },
  {
   "cell_type": "code",
   "execution_count": 7,
   "metadata": {},
   "outputs": [],
   "source": [
    "dataloader = torch.utils.data.DataLoader(data, batch_size=args.train_batch_size, shuffle=True)\n",
    "\n",
    "if args.separate_params:\n",
    "    params = list(enc.parameters()) + list(reverse_kernel.parameters()) + list(transitions.parameters())\n",
    "    optimizer = torch.optim.Adam(params=target.parameters())\n",
    "    optimizer_inference = torch.optim.Adam(params=params)\n",
    "else:\n",
    "    params = list(enc.parameters()) + list(target.parameters()) + list(reverse_kernel.parameters()) + list(transitions.parameters())\n",
    "    optimizer = torch.optim.Adam(params=params)\n",
    "    scheduler = torch.optim.lr_scheduler.MultiStepLR(optimizer, milestones=[100, 200, 300, 400], gamma=0.5) #torch.optim.lr_scheduler.CosineAnnealingLR(optimizer, T_max=10, eta_min=0, last_epoch=-1)"
   ]
  },
  {
   "cell_type": "code",
   "execution_count": 8,
   "metadata": {},
   "outputs": [
    {
     "data": {
      "text/plain": [
       "Parameter containing:\n",
       "tensor([[ 0.1934,  0.4755,  0.4092,  0.1377],\n",
       "        [-0.3581, -0.2096,  0.3742,  0.0482]], requires_grad=True)"
      ]
     },
     "execution_count": 8,
     "metadata": {},
     "output_type": "execute_result"
    }
   ],
   "source": [
    "enc.mu.weight"
   ]
  },
  {
   "cell_type": "code",
   "execution_count": 9,
   "metadata": {},
   "outputs": [],
   "source": [
    "def compute_loss(z_new, p_new, u, p_old, x, sum_log_alpha, sum_log_jac, sum_log_sigma, mu=None, all_directions=None, h=None):\n",
    "    if args.learnable_reverse:\n",
    "        log_r = reverse_kernel(z_fin=z_new.detach(), h=h.detach(), a=all_directions)\n",
    "        log_m = args.std_normal.log_prob(u).sum(1) + args.std_normal.log_prob(p_old).sum(1) - sum_log_jac - sum_log_sigma + sum_log_alpha\n",
    "    else:\n",
    "        log_r = 0 #-args.K * torch_log_2\n",
    "        log_m = args.std_normal.log_prob(u).sum(1) + args.std_normal.log_prob(p_old).sum(1) - sum_log_jac - sum_log_sigma # + sum_log_alpha\n",
    "        \n",
    "    log_p = target.get_logdensity(z=z_new, x=x, args=args) + args.std_normal.log_prob(p_new.sum(1))\n",
    "    elbo_full = log_p + log_r - log_m\n",
    "    grad_elbo = torch.mean(elbo_full + elbo_full.detach() * sum_log_alpha)\n",
    "    return elbo_full, grad_elbo "
   ]
  },
  {
   "cell_type": "code",
   "execution_count": 10,
   "metadata": {},
   "outputs": [
    {
     "name": "stderr",
     "output_type": "stream",
     "text": [
      "  0%|          | 0/500 [00:00<?, ?it/s]"
     ]
    },
    {
     "name": "stdout",
     "output_type": "stream",
     "text": [
      "On batch number 1/100 and on k = 1 we have for  0: 0.57 and for +1: 0.43\n",
      "On batch number 1/100 and on k = 2 we have for  0: 0.55 and for +1: 0.45\n",
      "On batch number 1/100 and on k = 3 we have for  0: 0.53 and for +1: 0.47\n",
      "On batch number 1/100 and on k = 4 we have for  0: 0.54 and for +1: 0.46\n",
      "On batch number 1/100 and on k = 5 we have for  0: 0.58 and for +1: 0.42\n",
      "On batch number 1/100 and on k = 6 we have for  0: 0.55 and for +1: 0.45\n",
      "On batch number 1/100 and on k = 7 we have for  0: 0.52 and for +1: 0.48\n",
      "elbo: -10.820435523986816\n"
     ]
    },
    {
     "name": "stderr",
     "output_type": "stream",
     "text": [
      "  2%|▏         | 10/500 [00:31<25:24,  3.11s/it]"
     ]
    },
    {
     "name": "stdout",
     "output_type": "stream",
     "text": [
      "On batch number 1/100 and on k = 1 we have for  0: 0.47 and for +1: 0.53\n",
      "On batch number 1/100 and on k = 2 we have for  0: 0.44 and for +1: 0.56\n",
      "On batch number 1/100 and on k = 3 we have for  0: 0.46 and for +1: 0.54\n",
      "On batch number 1/100 and on k = 4 we have for  0: 0.45 and for +1: 0.55\n",
      "On batch number 1/100 and on k = 5 we have for  0: 0.51 and for +1: 0.49\n",
      "On batch number 1/100 and on k = 6 we have for  0: 0.47 and for +1: 0.53\n",
      "On batch number 1/100 and on k = 7 we have for  0: 0.49 and for +1: 0.51\n",
      "elbo: -8.738831520080566\n"
     ]
    },
    {
     "name": "stderr",
     "output_type": "stream",
     "text": [
      "  4%|▍         | 20/500 [01:02<24:56,  3.12s/it]"
     ]
    },
    {
     "name": "stdout",
     "output_type": "stream",
     "text": [
      "On batch number 1/100 and on k = 1 we have for  0: 0.57 and for +1: 0.43\n",
      "On batch number 1/100 and on k = 2 we have for  0: 0.51 and for +1: 0.49\n",
      "On batch number 1/100 and on k = 3 we have for  0: 0.4 and for +1: 0.6\n",
      "On batch number 1/100 and on k = 4 we have for  0: 0.51 and for +1: 0.49\n",
      "On batch number 1/100 and on k = 5 we have for  0: 0.48 and for +1: 0.52\n",
      "On batch number 1/100 and on k = 6 we have for  0: 0.47 and for +1: 0.53\n",
      "On batch number 1/100 and on k = 7 we have for  0: 0.46 and for +1: 0.54\n",
      "elbo: -8.241945266723633\n"
     ]
    },
    {
     "name": "stderr",
     "output_type": "stream",
     "text": [
      "  6%|▌         | 30/500 [01:33<24:28,  3.12s/it]"
     ]
    },
    {
     "name": "stdout",
     "output_type": "stream",
     "text": [
      "On batch number 1/100 and on k = 1 we have for  0: 0.45 and for +1: 0.55\n",
      "On batch number 1/100 and on k = 2 we have for  0: 0.64 and for +1: 0.36\n",
      "On batch number 1/100 and on k = 3 we have for  0: 0.45 and for +1: 0.55\n",
      "On batch number 1/100 and on k = 4 we have for  0: 0.44 and for +1: 0.56\n",
      "On batch number 1/100 and on k = 5 we have for  0: 0.47 and for +1: 0.53\n",
      "On batch number 1/100 and on k = 6 we have for  0: 0.49 and for +1: 0.51\n",
      "On batch number 1/100 and on k = 7 we have for  0: 0.5 and for +1: 0.5\n",
      "elbo: -7.957027435302734\n"
     ]
    },
    {
     "name": "stderr",
     "output_type": "stream",
     "text": [
      "  8%|▊         | 40/500 [02:04<24:00,  3.13s/it]"
     ]
    },
    {
     "name": "stdout",
     "output_type": "stream",
     "text": [
      "On batch number 1/100 and on k = 1 we have for  0: 0.55 and for +1: 0.45\n",
      "On batch number 1/100 and on k = 2 we have for  0: 0.45 and for +1: 0.55\n",
      "On batch number 1/100 and on k = 3 we have for  0: 0.57 and for +1: 0.43\n",
      "On batch number 1/100 and on k = 4 we have for  0: 0.51 and for +1: 0.49\n",
      "On batch number 1/100 and on k = 5 we have for  0: 0.51 and for +1: 0.49\n",
      "On batch number 1/100 and on k = 6 we have for  0: 0.45 and for +1: 0.55\n",
      "On batch number 1/100 and on k = 7 we have for  0: 0.57 and for +1: 0.43\n",
      "elbo: -7.481565952301025\n"
     ]
    },
    {
     "name": "stderr",
     "output_type": "stream",
     "text": [
      " 10%|█         | 50/500 [02:35<23:30,  3.13s/it]"
     ]
    },
    {
     "name": "stdout",
     "output_type": "stream",
     "text": [
      "On batch number 1/100 and on k = 1 we have for  0: 0.58 and for +1: 0.42\n",
      "On batch number 1/100 and on k = 2 we have for  0: 0.45 and for +1: 0.55\n",
      "On batch number 1/100 and on k = 3 we have for  0: 0.48 and for +1: 0.52\n",
      "On batch number 1/100 and on k = 4 we have for  0: 0.63 and for +1: 0.37\n",
      "On batch number 1/100 and on k = 5 we have for  0: 0.48 and for +1: 0.52\n",
      "On batch number 1/100 and on k = 6 we have for  0: 0.61 and for +1: 0.39\n",
      "On batch number 1/100 and on k = 7 we have for  0: 0.51 and for +1: 0.49\n",
      "elbo: -7.405515193939209\n"
     ]
    },
    {
     "name": "stderr",
     "output_type": "stream",
     "text": [
      " 12%|█▏        | 60/500 [03:06<22:36,  3.08s/it]"
     ]
    },
    {
     "name": "stdout",
     "output_type": "stream",
     "text": [
      "On batch number 1/100 and on k = 1 we have for  0: 0.57 and for +1: 0.43\n",
      "On batch number 1/100 and on k = 2 we have for  0: 0.56 and for +1: 0.44\n",
      "On batch number 1/100 and on k = 3 we have for  0: 0.58 and for +1: 0.42\n",
      "On batch number 1/100 and on k = 4 we have for  0: 0.53 and for +1: 0.47\n",
      "On batch number 1/100 and on k = 5 we have for  0: 0.46 and for +1: 0.54\n",
      "On batch number 1/100 and on k = 6 we have for  0: 0.49 and for +1: 0.51\n",
      "On batch number 1/100 and on k = 7 we have for  0: 0.52 and for +1: 0.48\n",
      "elbo: -6.96462345123291\n"
     ]
    },
    {
     "name": "stderr",
     "output_type": "stream",
     "text": [
      " 14%|█▍        | 70/500 [03:37<22:02,  3.08s/it]"
     ]
    },
    {
     "name": "stdout",
     "output_type": "stream",
     "text": [
      "On batch number 1/100 and on k = 1 we have for  0: 0.51 and for +1: 0.49\n",
      "On batch number 1/100 and on k = 2 we have for  0: 0.55 and for +1: 0.45\n",
      "On batch number 1/100 and on k = 3 we have for  0: 0.38 and for +1: 0.62\n",
      "On batch number 1/100 and on k = 4 we have for  0: 0.48 and for +1: 0.52\n",
      "On batch number 1/100 and on k = 5 we have for  0: 0.48 and for +1: 0.52\n",
      "On batch number 1/100 and on k = 6 we have for  0: 0.51 and for +1: 0.49\n",
      "On batch number 1/100 and on k = 7 we have for  0: 0.52 and for +1: 0.48\n",
      "elbo: -6.5585856437683105\n"
     ]
    },
    {
     "name": "stderr",
     "output_type": "stream",
     "text": [
      " 16%|█▌        | 80/500 [04:09<21:54,  3.13s/it]"
     ]
    },
    {
     "name": "stdout",
     "output_type": "stream",
     "text": [
      "On batch number 1/100 and on k = 1 we have for  0: 0.44 and for +1: 0.56\n",
      "On batch number 1/100 and on k = 2 we have for  0: 0.45 and for +1: 0.55\n",
      "On batch number 1/100 and on k = 3 we have for  0: 0.48 and for +1: 0.52\n",
      "On batch number 1/100 and on k = 4 we have for  0: 0.55 and for +1: 0.45\n",
      "On batch number 1/100 and on k = 5 we have for  0: 0.47 and for +1: 0.53\n",
      "On batch number 1/100 and on k = 6 we have for  0: 0.55 and for +1: 0.45\n",
      "On batch number 1/100 and on k = 7 we have for  0: 0.46 and for +1: 0.54\n",
      "elbo: -6.372210502624512\n"
     ]
    },
    {
     "name": "stderr",
     "output_type": "stream",
     "text": [
      " 18%|█▊        | 90/500 [04:40<20:59,  3.07s/it]"
     ]
    },
    {
     "name": "stdout",
     "output_type": "stream",
     "text": [
      "On batch number 1/100 and on k = 1 we have for  0: 0.45 and for +1: 0.55\n",
      "On batch number 1/100 and on k = 2 we have for  0: 0.57 and for +1: 0.43\n",
      "On batch number 1/100 and on k = 3 we have for  0: 0.55 and for +1: 0.45\n",
      "On batch number 1/100 and on k = 4 we have for  0: 0.43 and for +1: 0.57\n",
      "On batch number 1/100 and on k = 5 we have for  0: 0.53 and for +1: 0.47\n",
      "On batch number 1/100 and on k = 6 we have for  0: 0.38 and for +1: 0.62\n",
      "On batch number 1/100 and on k = 7 we have for  0: 0.43 and for +1: 0.57\n",
      "elbo: -5.772932529449463\n"
     ]
    },
    {
     "name": "stderr",
     "output_type": "stream",
     "text": [
      " 20%|██        | 100/500 [05:11<20:49,  3.12s/it]"
     ]
    },
    {
     "name": "stdout",
     "output_type": "stream",
     "text": [
      "On batch number 1/100 and on k = 1 we have for  0: 0.43 and for +1: 0.57\n",
      "On batch number 1/100 and on k = 2 we have for  0: 0.5 and for +1: 0.5\n",
      "On batch number 1/100 and on k = 3 we have for  0: 0.57 and for +1: 0.43\n",
      "On batch number 1/100 and on k = 4 we have for  0: 0.5 and for +1: 0.5\n",
      "On batch number 1/100 and on k = 5 we have for  0: 0.47 and for +1: 0.53\n",
      "On batch number 1/100 and on k = 6 we have for  0: 0.47 and for +1: 0.53\n",
      "On batch number 1/100 and on k = 7 we have for  0: 0.52 and for +1: 0.48\n",
      "elbo: -5.633616924285889\n"
     ]
    },
    {
     "name": "stderr",
     "output_type": "stream",
     "text": [
      " 22%|██▏       | 110/500 [05:42<20:19,  3.13s/it]"
     ]
    },
    {
     "name": "stdout",
     "output_type": "stream",
     "text": [
      "On batch number 1/100 and on k = 1 we have for  0: 0.44 and for +1: 0.56\n",
      "On batch number 1/100 and on k = 2 we have for  0: 0.51 and for +1: 0.49\n",
      "On batch number 1/100 and on k = 3 we have for  0: 0.53 and for +1: 0.47\n",
      "On batch number 1/100 and on k = 4 we have for  0: 0.47 and for +1: 0.53\n",
      "On batch number 1/100 and on k = 5 we have for  0: 0.42 and for +1: 0.58\n",
      "On batch number 1/100 and on k = 6 we have for  0: 0.5 and for +1: 0.5\n",
      "On batch number 1/100 and on k = 7 we have for  0: 0.53 and for +1: 0.47\n",
      "elbo: -5.4576873779296875\n"
     ]
    },
    {
     "name": "stderr",
     "output_type": "stream",
     "text": [
      " 24%|██▍       | 120/500 [06:13<19:48,  3.13s/it]"
     ]
    },
    {
     "name": "stdout",
     "output_type": "stream",
     "text": [
      "On batch number 1/100 and on k = 1 we have for  0: 0.46 and for +1: 0.54\n",
      "On batch number 1/100 and on k = 2 we have for  0: 0.56 and for +1: 0.44\n",
      "On batch number 1/100 and on k = 3 we have for  0: 0.48 and for +1: 0.52\n",
      "On batch number 1/100 and on k = 4 we have for  0: 0.42 and for +1: 0.58\n",
      "On batch number 1/100 and on k = 5 we have for  0: 0.53 and for +1: 0.47\n",
      "On batch number 1/100 and on k = 6 we have for  0: 0.51 and for +1: 0.49\n",
      "On batch number 1/100 and on k = 7 we have for  0: 0.42 and for +1: 0.58\n",
      "elbo: -5.159465789794922\n"
     ]
    },
    {
     "name": "stderr",
     "output_type": "stream",
     "text": [
      " 26%|██▌       | 130/500 [06:44<19:12,  3.12s/it]"
     ]
    },
    {
     "name": "stdout",
     "output_type": "stream",
     "text": [
      "On batch number 1/100 and on k = 1 we have for  0: 0.56 and for +1: 0.44\n",
      "On batch number 1/100 and on k = 2 we have for  0: 0.52 and for +1: 0.48\n",
      "On batch number 1/100 and on k = 3 we have for  0: 0.55 and for +1: 0.45\n",
      "On batch number 1/100 and on k = 4 we have for  0: 0.48 and for +1: 0.52\n",
      "On batch number 1/100 and on k = 5 we have for  0: 0.52 and for +1: 0.48\n",
      "On batch number 1/100 and on k = 6 we have for  0: 0.45 and for +1: 0.55\n",
      "On batch number 1/100 and on k = 7 we have for  0: 0.51 and for +1: 0.49\n",
      "elbo: -4.856247901916504\n"
     ]
    },
    {
     "name": "stderr",
     "output_type": "stream",
     "text": [
      " 28%|██▊       | 140/500 [07:15<18:37,  3.10s/it]"
     ]
    },
    {
     "name": "stdout",
     "output_type": "stream",
     "text": [
      "On batch number 1/100 and on k = 1 we have for  0: 0.53 and for +1: 0.47\n",
      "On batch number 1/100 and on k = 2 we have for  0: 0.43 and for +1: 0.57\n",
      "On batch number 1/100 and on k = 3 we have for  0: 0.54 and for +1: 0.46\n",
      "On batch number 1/100 and on k = 4 we have for  0: 0.52 and for +1: 0.48\n",
      "On batch number 1/100 and on k = 5 we have for  0: 0.6 and for +1: 0.4\n",
      "On batch number 1/100 and on k = 6 we have for  0: 0.57 and for +1: 0.43\n",
      "On batch number 1/100 and on k = 7 we have for  0: 0.5 and for +1: 0.5\n",
      "elbo: -4.5913496017456055\n"
     ]
    },
    {
     "name": "stderr",
     "output_type": "stream",
     "text": [
      " 30%|███       | 150/500 [07:46<18:04,  3.10s/it]"
     ]
    },
    {
     "name": "stdout",
     "output_type": "stream",
     "text": [
      "On batch number 1/100 and on k = 1 we have for  0: 0.51 and for +1: 0.49\n",
      "On batch number 1/100 and on k = 2 we have for  0: 0.54 and for +1: 0.46\n",
      "On batch number 1/100 and on k = 3 we have for  0: 0.42 and for +1: 0.58\n",
      "On batch number 1/100 and on k = 4 we have for  0: 0.51 and for +1: 0.49\n",
      "On batch number 1/100 and on k = 5 we have for  0: 0.53 and for +1: 0.47\n",
      "On batch number 1/100 and on k = 6 we have for  0: 0.5 and for +1: 0.5\n",
      "On batch number 1/100 and on k = 7 we have for  0: 0.44 and for +1: 0.56\n",
      "elbo: -4.8007659912109375\n"
     ]
    },
    {
     "name": "stderr",
     "output_type": "stream",
     "text": [
      " 32%|███▏      | 160/500 [08:17<17:40,  3.12s/it]"
     ]
    },
    {
     "name": "stdout",
     "output_type": "stream",
     "text": [
      "On batch number 1/100 and on k = 1 we have for  0: 0.42 and for +1: 0.58\n",
      "On batch number 1/100 and on k = 2 we have for  0: 0.51 and for +1: 0.49\n",
      "On batch number 1/100 and on k = 3 we have for  0: 0.5 and for +1: 0.5\n",
      "On batch number 1/100 and on k = 4 we have for  0: 0.45 and for +1: 0.55\n",
      "On batch number 1/100 and on k = 5 we have for  0: 0.49 and for +1: 0.51\n",
      "On batch number 1/100 and on k = 6 we have for  0: 0.42 and for +1: 0.58\n",
      "On batch number 1/100 and on k = 7 we have for  0: 0.51 and for +1: 0.49\n",
      "elbo: -4.1873087882995605\n"
     ]
    },
    {
     "name": "stderr",
     "output_type": "stream",
     "text": [
      " 34%|███▍      | 170/500 [08:49<17:12,  3.13s/it]"
     ]
    },
    {
     "name": "stdout",
     "output_type": "stream",
     "text": [
      "On batch number 1/100 and on k = 1 we have for  0: 0.42 and for +1: 0.58\n",
      "On batch number 1/100 and on k = 2 we have for  0: 0.44 and for +1: 0.56\n",
      "On batch number 1/100 and on k = 3 we have for  0: 0.46 and for +1: 0.54\n",
      "On batch number 1/100 and on k = 4 we have for  0: 0.53 and for +1: 0.47\n",
      "On batch number 1/100 and on k = 5 we have for  0: 0.46 and for +1: 0.54\n",
      "On batch number 1/100 and on k = 6 we have for  0: 0.57 and for +1: 0.43\n",
      "On batch number 1/100 and on k = 7 we have for  0: 0.44 and for +1: 0.56\n",
      "elbo: -4.171233177185059\n"
     ]
    },
    {
     "name": "stderr",
     "output_type": "stream",
     "text": [
      " 36%|███▌      | 180/500 [09:20<16:32,  3.10s/it]"
     ]
    },
    {
     "name": "stdout",
     "output_type": "stream",
     "text": [
      "On batch number 1/100 and on k = 1 we have for  0: 0.54 and for +1: 0.46\n",
      "On batch number 1/100 and on k = 2 we have for  0: 0.49 and for +1: 0.51\n",
      "On batch number 1/100 and on k = 3 we have for  0: 0.53 and for +1: 0.47\n",
      "On batch number 1/100 and on k = 4 we have for  0: 0.52 and for +1: 0.48\n",
      "On batch number 1/100 and on k = 5 we have for  0: 0.47 and for +1: 0.53\n",
      "On batch number 1/100 and on k = 6 we have for  0: 0.51 and for +1: 0.49\n",
      "On batch number 1/100 and on k = 7 we have for  0: 0.49 and for +1: 0.51\n",
      "elbo: -3.8555548191070557\n"
     ]
    },
    {
     "name": "stderr",
     "output_type": "stream",
     "text": [
      " 38%|███▊      | 190/500 [09:51<16:10,  3.13s/it]"
     ]
    },
    {
     "name": "stdout",
     "output_type": "stream",
     "text": [
      "On batch number 1/100 and on k = 1 we have for  0: 0.56 and for +1: 0.44\n",
      "On batch number 1/100 and on k = 2 we have for  0: 0.64 and for +1: 0.36\n",
      "On batch number 1/100 and on k = 3 we have for  0: 0.43 and for +1: 0.57\n",
      "On batch number 1/100 and on k = 4 we have for  0: 0.48 and for +1: 0.52\n",
      "On batch number 1/100 and on k = 5 we have for  0: 0.5 and for +1: 0.5\n",
      "On batch number 1/100 and on k = 6 we have for  0: 0.5 and for +1: 0.5\n",
      "On batch number 1/100 and on k = 7 we have for  0: 0.51 and for +1: 0.49\n",
      "elbo: -3.7172937393188477\n"
     ]
    },
    {
     "name": "stderr",
     "output_type": "stream",
     "text": [
      " 40%|████      | 200/500 [10:22<15:37,  3.13s/it]"
     ]
    },
    {
     "name": "stdout",
     "output_type": "stream",
     "text": [
      "On batch number 1/100 and on k = 1 we have for  0: 0.58 and for +1: 0.42\n",
      "On batch number 1/100 and on k = 2 we have for  0: 0.54 and for +1: 0.46\n",
      "On batch number 1/100 and on k = 3 we have for  0: 0.58 and for +1: 0.42\n",
      "On batch number 1/100 and on k = 4 we have for  0: 0.42 and for +1: 0.58\n",
      "On batch number 1/100 and on k = 5 we have for  0: 0.4 and for +1: 0.6\n",
      "On batch number 1/100 and on k = 6 we have for  0: 0.46 and for +1: 0.54\n",
      "On batch number 1/100 and on k = 7 we have for  0: 0.49 and for +1: 0.51\n",
      "elbo: -3.755617380142212\n"
     ]
    },
    {
     "name": "stderr",
     "output_type": "stream",
     "text": [
      " 42%|████▏     | 210/500 [10:53<14:57,  3.10s/it]"
     ]
    },
    {
     "name": "stdout",
     "output_type": "stream",
     "text": [
      "On batch number 1/100 and on k = 1 we have for  0: 0.49 and for +1: 0.51\n",
      "On batch number 1/100 and on k = 2 we have for  0: 0.47 and for +1: 0.53\n",
      "On batch number 1/100 and on k = 3 we have for  0: 0.52 and for +1: 0.48\n",
      "On batch number 1/100 and on k = 4 we have for  0: 0.54 and for +1: 0.46\n",
      "On batch number 1/100 and on k = 5 we have for  0: 0.5 and for +1: 0.5\n",
      "On batch number 1/100 and on k = 6 we have for  0: 0.55 and for +1: 0.45\n",
      "On batch number 1/100 and on k = 7 we have for  0: 0.58 and for +1: 0.42\n",
      "elbo: -3.260326623916626\n"
     ]
    },
    {
     "name": "stderr",
     "output_type": "stream",
     "text": [
      " 44%|████▍     | 220/500 [11:25<14:46,  3.17s/it]"
     ]
    },
    {
     "name": "stdout",
     "output_type": "stream",
     "text": [
      "On batch number 1/100 and on k = 1 we have for  0: 0.54 and for +1: 0.46\n",
      "On batch number 1/100 and on k = 2 we have for  0: 0.46 and for +1: 0.54\n",
      "On batch number 1/100 and on k = 3 we have for  0: 0.45 and for +1: 0.55\n",
      "On batch number 1/100 and on k = 4 we have for  0: 0.58 and for +1: 0.42\n",
      "On batch number 1/100 and on k = 5 we have for  0: 0.57 and for +1: 0.43\n",
      "On batch number 1/100 and on k = 6 we have for  0: 0.45 and for +1: 0.55\n",
      "On batch number 1/100 and on k = 7 we have for  0: 0.42 and for +1: 0.58\n",
      "elbo: -3.2211477756500244\n"
     ]
    },
    {
     "name": "stderr",
     "output_type": "stream",
     "text": [
      " 46%|████▌     | 230/500 [11:56<13:58,  3.10s/it]"
     ]
    },
    {
     "name": "stdout",
     "output_type": "stream",
     "text": [
      "On batch number 1/100 and on k = 1 we have for  0: 0.45 and for +1: 0.55\n",
      "On batch number 1/100 and on k = 2 we have for  0: 0.49 and for +1: 0.51\n",
      "On batch number 1/100 and on k = 3 we have for  0: 0.46 and for +1: 0.54\n",
      "On batch number 1/100 and on k = 4 we have for  0: 0.48 and for +1: 0.52\n",
      "On batch number 1/100 and on k = 5 we have for  0: 0.42 and for +1: 0.58\n",
      "On batch number 1/100 and on k = 6 we have for  0: 0.53 and for +1: 0.47\n",
      "On batch number 1/100 and on k = 7 we have for  0: 0.61 and for +1: 0.39\n",
      "elbo: -3.108839511871338\n"
     ]
    },
    {
     "name": "stderr",
     "output_type": "stream",
     "text": [
      " 48%|████▊     | 240/500 [12:27<13:21,  3.08s/it]"
     ]
    },
    {
     "name": "stdout",
     "output_type": "stream",
     "text": [
      "On batch number 1/100 and on k = 1 we have for  0: 0.42 and for +1: 0.58\n",
      "On batch number 1/100 and on k = 2 we have for  0: 0.45 and for +1: 0.55\n",
      "On batch number 1/100 and on k = 3 we have for  0: 0.54 and for +1: 0.46\n",
      "On batch number 1/100 and on k = 4 we have for  0: 0.55 and for +1: 0.45\n",
      "On batch number 1/100 and on k = 5 we have for  0: 0.36 and for +1: 0.64\n",
      "On batch number 1/100 and on k = 6 we have for  0: 0.47 and for +1: 0.53\n",
      "On batch number 1/100 and on k = 7 we have for  0: 0.56 and for +1: 0.44\n",
      "elbo: -2.7954483032226562\n"
     ]
    },
    {
     "name": "stderr",
     "output_type": "stream",
     "text": [
      " 50%|█████     | 250/500 [12:58<12:56,  3.11s/it]"
     ]
    },
    {
     "name": "stdout",
     "output_type": "stream",
     "text": [
      "On batch number 1/100 and on k = 1 we have for  0: 0.46 and for +1: 0.54\n",
      "On batch number 1/100 and on k = 2 we have for  0: 0.56 and for +1: 0.44\n",
      "On batch number 1/100 and on k = 3 we have for  0: 0.55 and for +1: 0.45\n",
      "On batch number 1/100 and on k = 4 we have for  0: 0.44 and for +1: 0.56\n",
      "On batch number 1/100 and on k = 5 we have for  0: 0.5 and for +1: 0.5\n",
      "On batch number 1/100 and on k = 6 we have for  0: 0.51 and for +1: 0.49\n",
      "On batch number 1/100 and on k = 7 we have for  0: 0.53 and for +1: 0.47\n",
      "elbo: -2.660506248474121\n"
     ]
    },
    {
     "name": "stderr",
     "output_type": "stream",
     "text": [
      " 52%|█████▏    | 260/500 [13:29<12:31,  3.13s/it]"
     ]
    },
    {
     "name": "stdout",
     "output_type": "stream",
     "text": [
      "On batch number 1/100 and on k = 1 we have for  0: 0.56 and for +1: 0.44\n",
      "On batch number 1/100 and on k = 2 we have for  0: 0.46 and for +1: 0.54\n",
      "On batch number 1/100 and on k = 3 we have for  0: 0.47 and for +1: 0.53\n",
      "On batch number 1/100 and on k = 4 we have for  0: 0.52 and for +1: 0.48\n",
      "On batch number 1/100 and on k = 5 we have for  0: 0.45 and for +1: 0.55\n",
      "On batch number 1/100 and on k = 6 we have for  0: 0.37 and for +1: 0.63\n",
      "On batch number 1/100 and on k = 7 we have for  0: 0.46 and for +1: 0.54\n",
      "elbo: -2.913423538208008\n"
     ]
    },
    {
     "name": "stderr",
     "output_type": "stream",
     "text": [
      " 54%|█████▍    | 270/500 [14:00<11:59,  3.13s/it]"
     ]
    },
    {
     "name": "stdout",
     "output_type": "stream",
     "text": [
      "On batch number 1/100 and on k = 1 we have for  0: 0.52 and for +1: 0.48\n",
      "On batch number 1/100 and on k = 2 we have for  0: 0.52 and for +1: 0.48\n",
      "On batch number 1/100 and on k = 3 we have for  0: 0.52 and for +1: 0.48\n",
      "On batch number 1/100 and on k = 4 we have for  0: 0.46 and for +1: 0.54\n",
      "On batch number 1/100 and on k = 5 we have for  0: 0.48 and for +1: 0.52\n",
      "On batch number 1/100 and on k = 6 we have for  0: 0.57 and for +1: 0.43\n",
      "On batch number 1/100 and on k = 7 we have for  0: 0.55 and for +1: 0.45\n",
      "elbo: -2.3134162425994873\n"
     ]
    },
    {
     "name": "stderr",
     "output_type": "stream",
     "text": [
      " 56%|█████▌    | 280/500 [14:31<11:29,  3.13s/it]"
     ]
    },
    {
     "name": "stdout",
     "output_type": "stream",
     "text": [
      "On batch number 1/100 and on k = 1 we have for  0: 0.41 and for +1: 0.59\n",
      "On batch number 1/100 and on k = 2 we have for  0: 0.59 and for +1: 0.41\n",
      "On batch number 1/100 and on k = 3 we have for  0: 0.41 and for +1: 0.59\n",
      "On batch number 1/100 and on k = 4 we have for  0: 0.56 and for +1: 0.44\n",
      "On batch number 1/100 and on k = 5 we have for  0: 0.5 and for +1: 0.5\n",
      "On batch number 1/100 and on k = 6 we have for  0: 0.55 and for +1: 0.45\n",
      "On batch number 1/100 and on k = 7 we have for  0: 0.49 and for +1: 0.51\n",
      "elbo: -2.4382660388946533\n"
     ]
    },
    {
     "name": "stderr",
     "output_type": "stream",
     "text": [
      " 58%|█████▊    | 290/500 [15:02<10:50,  3.10s/it]"
     ]
    },
    {
     "name": "stdout",
     "output_type": "stream",
     "text": [
      "On batch number 1/100 and on k = 1 we have for  0: 0.57 and for +1: 0.43\n",
      "On batch number 1/100 and on k = 2 we have for  0: 0.5 and for +1: 0.5\n",
      "On batch number 1/100 and on k = 3 we have for  0: 0.49 and for +1: 0.51\n",
      "On batch number 1/100 and on k = 4 we have for  0: 0.43 and for +1: 0.57\n",
      "On batch number 1/100 and on k = 5 we have for  0: 0.53 and for +1: 0.47\n",
      "On batch number 1/100 and on k = 6 we have for  0: 0.49 and for +1: 0.51\n",
      "On batch number 1/100 and on k = 7 we have for  0: 0.55 and for +1: 0.45\n",
      "elbo: -2.383314609527588\n"
     ]
    },
    {
     "name": "stderr",
     "output_type": "stream",
     "text": [
      " 60%|██████    | 300/500 [15:33<10:19,  3.10s/it]"
     ]
    },
    {
     "name": "stdout",
     "output_type": "stream",
     "text": [
      "On batch number 1/100 and on k = 1 we have for  0: 0.46 and for +1: 0.54\n",
      "On batch number 1/100 and on k = 2 we have for  0: 0.57 and for +1: 0.43\n",
      "On batch number 1/100 and on k = 3 we have for  0: 0.53 and for +1: 0.47\n",
      "On batch number 1/100 and on k = 4 we have for  0: 0.44 and for +1: 0.56\n",
      "On batch number 1/100 and on k = 5 we have for  0: 0.52 and for +1: 0.48\n",
      "On batch number 1/100 and on k = 6 we have for  0: 0.54 and for +1: 0.46\n",
      "On batch number 1/100 and on k = 7 we have for  0: 0.6 and for +1: 0.4\n",
      "elbo: -2.3239591121673584\n"
     ]
    },
    {
     "name": "stderr",
     "output_type": "stream",
     "text": [
      " 62%|██████▏   | 310/500 [16:04<09:43,  3.07s/it]"
     ]
    },
    {
     "name": "stdout",
     "output_type": "stream",
     "text": [
      "On batch number 1/100 and on k = 1 we have for  0: 0.44 and for +1: 0.56\n",
      "On batch number 1/100 and on k = 2 we have for  0: 0.51 and for +1: 0.49\n",
      "On batch number 1/100 and on k = 3 we have for  0: 0.52 and for +1: 0.48\n",
      "On batch number 1/100 and on k = 4 we have for  0: 0.5 and for +1: 0.5\n",
      "On batch number 1/100 and on k = 5 we have for  0: 0.51 and for +1: 0.49\n",
      "On batch number 1/100 and on k = 6 we have for  0: 0.53 and for +1: 0.47\n",
      "On batch number 1/100 and on k = 7 we have for  0: 0.54 and for +1: 0.46\n",
      "elbo: -2.313925266265869\n"
     ]
    },
    {
     "name": "stderr",
     "output_type": "stream",
     "text": [
      " 64%|██████▍   | 320/500 [16:35<09:21,  3.12s/it]"
     ]
    },
    {
     "name": "stdout",
     "output_type": "stream",
     "text": [
      "On batch number 1/100 and on k = 1 we have for  0: 0.51 and for +1: 0.49\n",
      "On batch number 1/100 and on k = 2 we have for  0: 0.5 and for +1: 0.5\n",
      "On batch number 1/100 and on k = 3 we have for  0: 0.47 and for +1: 0.53\n",
      "On batch number 1/100 and on k = 4 we have for  0: 0.37 and for +1: 0.63\n",
      "On batch number 1/100 and on k = 5 we have for  0: 0.54 and for +1: 0.46\n",
      "On batch number 1/100 and on k = 6 we have for  0: 0.57 and for +1: 0.43\n",
      "On batch number 1/100 and on k = 7 we have for  0: 0.43 and for +1: 0.57\n",
      "elbo: -2.3885867595672607\n"
     ]
    },
    {
     "name": "stderr",
     "output_type": "stream",
     "text": [
      " 66%|██████▌   | 330/500 [17:06<08:52,  3.13s/it]"
     ]
    },
    {
     "name": "stdout",
     "output_type": "stream",
     "text": [
      "On batch number 1/100 and on k = 1 we have for  0: 0.47 and for +1: 0.53\n",
      "On batch number 1/100 and on k = 2 we have for  0: 0.59 and for +1: 0.41\n",
      "On batch number 1/100 and on k = 3 we have for  0: 0.5 and for +1: 0.5\n",
      "On batch number 1/100 and on k = 4 we have for  0: 0.42 and for +1: 0.58\n",
      "On batch number 1/100 and on k = 5 we have for  0: 0.57 and for +1: 0.43\n",
      "On batch number 1/100 and on k = 6 we have for  0: 0.56 and for +1: 0.44\n",
      "On batch number 1/100 and on k = 7 we have for  0: 0.55 and for +1: 0.45\n",
      "elbo: -1.7861998081207275\n"
     ]
    },
    {
     "name": "stderr",
     "output_type": "stream",
     "text": [
      " 68%|██████▊   | 340/500 [17:37<08:09,  3.06s/it]"
     ]
    },
    {
     "name": "stdout",
     "output_type": "stream",
     "text": [
      "On batch number 1/100 and on k = 1 we have for  0: 0.5 and for +1: 0.5\n",
      "On batch number 1/100 and on k = 2 we have for  0: 0.64 and for +1: 0.36\n",
      "On batch number 1/100 and on k = 3 we have for  0: 0.53 and for +1: 0.47\n",
      "On batch number 1/100 and on k = 4 we have for  0: 0.39 and for +1: 0.61\n",
      "On batch number 1/100 and on k = 5 we have for  0: 0.49 and for +1: 0.51\n",
      "On batch number 1/100 and on k = 6 we have for  0: 0.44 and for +1: 0.56\n",
      "On batch number 1/100 and on k = 7 we have for  0: 0.49 and for +1: 0.51\n",
      "elbo: -2.0529532432556152\n"
     ]
    },
    {
     "name": "stderr",
     "output_type": "stream",
     "text": [
      " 70%|███████   | 350/500 [18:08<07:47,  3.12s/it]"
     ]
    },
    {
     "name": "stdout",
     "output_type": "stream",
     "text": [
      "On batch number 1/100 and on k = 1 we have for  0: 0.5 and for +1: 0.5\n",
      "On batch number 1/100 and on k = 2 we have for  0: 0.38 and for +1: 0.62\n",
      "On batch number 1/100 and on k = 3 we have for  0: 0.49 and for +1: 0.51\n",
      "On batch number 1/100 and on k = 4 we have for  0: 0.44 and for +1: 0.56\n",
      "On batch number 1/100 and on k = 5 we have for  0: 0.55 and for +1: 0.45\n",
      "On batch number 1/100 and on k = 6 we have for  0: 0.5 and for +1: 0.5\n",
      "On batch number 1/100 and on k = 7 we have for  0: 0.41 and for +1: 0.59\n",
      "elbo: -1.9460071325302124\n"
     ]
    },
    {
     "name": "stderr",
     "output_type": "stream",
     "text": [
      " 72%|███████▏  | 360/500 [18:39<07:15,  3.11s/it]"
     ]
    },
    {
     "name": "stdout",
     "output_type": "stream",
     "text": [
      "On batch number 1/100 and on k = 1 we have for  0: 0.48 and for +1: 0.52\n",
      "On batch number 1/100 and on k = 2 we have for  0: 0.58 and for +1: 0.42\n",
      "On batch number 1/100 and on k = 3 we have for  0: 0.52 and for +1: 0.48\n",
      "On batch number 1/100 and on k = 4 we have for  0: 0.52 and for +1: 0.48\n",
      "On batch number 1/100 and on k = 5 we have for  0: 0.48 and for +1: 0.52\n",
      "On batch number 1/100 and on k = 6 we have for  0: 0.6 and for +1: 0.4\n",
      "On batch number 1/100 and on k = 7 we have for  0: 0.46 and for +1: 0.54\n",
      "elbo: -2.039198875427246\n"
     ]
    },
    {
     "name": "stderr",
     "output_type": "stream",
     "text": [
      " 74%|███████▍  | 370/500 [19:10<06:42,  3.09s/it]"
     ]
    },
    {
     "name": "stdout",
     "output_type": "stream",
     "text": [
      "On batch number 1/100 and on k = 1 we have for  0: 0.51 and for +1: 0.49\n",
      "On batch number 1/100 and on k = 2 we have for  0: 0.54 and for +1: 0.46\n",
      "On batch number 1/100 and on k = 3 we have for  0: 0.55 and for +1: 0.45\n",
      "On batch number 1/100 and on k = 4 we have for  0: 0.44 and for +1: 0.56\n",
      "On batch number 1/100 and on k = 5 we have for  0: 0.42 and for +1: 0.58\n",
      "On batch number 1/100 and on k = 6 we have for  0: 0.52 and for +1: 0.48\n",
      "On batch number 1/100 and on k = 7 we have for  0: 0.39 and for +1: 0.61\n",
      "elbo: -1.7087551355361938\n"
     ]
    },
    {
     "name": "stderr",
     "output_type": "stream",
     "text": [
      " 76%|███████▌  | 380/500 [19:41<06:12,  3.10s/it]"
     ]
    },
    {
     "name": "stdout",
     "output_type": "stream",
     "text": [
      "On batch number 1/100 and on k = 1 we have for  0: 0.48 and for +1: 0.52\n",
      "On batch number 1/100 and on k = 2 we have for  0: 0.5 and for +1: 0.5\n",
      "On batch number 1/100 and on k = 3 we have for  0: 0.53 and for +1: 0.47\n",
      "On batch number 1/100 and on k = 4 we have for  0: 0.51 and for +1: 0.49\n",
      "On batch number 1/100 and on k = 5 we have for  0: 0.45 and for +1: 0.55\n",
      "On batch number 1/100 and on k = 6 we have for  0: 0.54 and for +1: 0.46\n",
      "On batch number 1/100 and on k = 7 we have for  0: 0.54 and for +1: 0.46\n",
      "elbo: -1.4224680662155151\n"
     ]
    },
    {
     "name": "stderr",
     "output_type": "stream",
     "text": [
      " 78%|███████▊  | 390/500 [20:12<05:42,  3.11s/it]"
     ]
    },
    {
     "name": "stdout",
     "output_type": "stream",
     "text": [
      "On batch number 1/100 and on k = 1 we have for  0: 0.48 and for +1: 0.52\n",
      "On batch number 1/100 and on k = 2 we have for  0: 0.55 and for +1: 0.45\n",
      "On batch number 1/100 and on k = 3 we have for  0: 0.53 and for +1: 0.47\n",
      "On batch number 1/100 and on k = 4 we have for  0: 0.54 and for +1: 0.46\n",
      "On batch number 1/100 and on k = 5 we have for  0: 0.49 and for +1: 0.51\n",
      "On batch number 1/100 and on k = 6 we have for  0: 0.53 and for +1: 0.47\n",
      "On batch number 1/100 and on k = 7 we have for  0: 0.51 and for +1: 0.49\n",
      "elbo: -1.7510042190551758\n"
     ]
    },
    {
     "name": "stderr",
     "output_type": "stream",
     "text": [
      " 80%|████████  | 400/500 [20:44<05:11,  3.11s/it]"
     ]
    },
    {
     "name": "stdout",
     "output_type": "stream",
     "text": [
      "On batch number 1/100 and on k = 1 we have for  0: 0.41 and for +1: 0.59\n",
      "On batch number 1/100 and on k = 2 we have for  0: 0.4 and for +1: 0.6\n",
      "On batch number 1/100 and on k = 3 we have for  0: 0.51 and for +1: 0.49\n",
      "On batch number 1/100 and on k = 4 we have for  0: 0.41 and for +1: 0.59\n",
      "On batch number 1/100 and on k = 5 we have for  0: 0.47 and for +1: 0.53\n",
      "On batch number 1/100 and on k = 6 we have for  0: 0.52 and for +1: 0.48\n",
      "On batch number 1/100 and on k = 7 we have for  0: 0.53 and for +1: 0.47\n",
      "elbo: -1.5231746435165405\n"
     ]
    },
    {
     "name": "stderr",
     "output_type": "stream",
     "text": [
      " 82%|████████▏ | 410/500 [21:15<04:38,  3.10s/it]"
     ]
    },
    {
     "name": "stdout",
     "output_type": "stream",
     "text": [
      "On batch number 1/100 and on k = 1 we have for  0: 0.45 and for +1: 0.55\n",
      "On batch number 1/100 and on k = 2 we have for  0: 0.47 and for +1: 0.53\n",
      "On batch number 1/100 and on k = 3 we have for  0: 0.45 and for +1: 0.55\n",
      "On batch number 1/100 and on k = 4 we have for  0: 0.51 and for +1: 0.49\n",
      "On batch number 1/100 and on k = 5 we have for  0: 0.46 and for +1: 0.54\n",
      "On batch number 1/100 and on k = 6 we have for  0: 0.53 and for +1: 0.47\n",
      "On batch number 1/100 and on k = 7 we have for  0: 0.46 and for +1: 0.54\n",
      "elbo: -1.3134524822235107\n"
     ]
    },
    {
     "name": "stderr",
     "output_type": "stream",
     "text": [
      " 84%|████████▍ | 420/500 [21:46<04:07,  3.09s/it]"
     ]
    },
    {
     "name": "stdout",
     "output_type": "stream",
     "text": [
      "On batch number 1/100 and on k = 1 we have for  0: 0.52 and for +1: 0.48\n",
      "On batch number 1/100 and on k = 2 we have for  0: 0.48 and for +1: 0.52\n",
      "On batch number 1/100 and on k = 3 we have for  0: 0.52 and for +1: 0.48\n",
      "On batch number 1/100 and on k = 4 we have for  0: 0.5 and for +1: 0.5\n",
      "On batch number 1/100 and on k = 5 we have for  0: 0.49 and for +1: 0.51\n",
      "On batch number 1/100 and on k = 6 we have for  0: 0.5 and for +1: 0.5\n",
      "On batch number 1/100 and on k = 7 we have for  0: 0.49 and for +1: 0.51\n",
      "elbo: -1.212195634841919\n"
     ]
    },
    {
     "name": "stderr",
     "output_type": "stream",
     "text": [
      " 86%|████████▌ | 430/500 [22:17<03:40,  3.16s/it]"
     ]
    },
    {
     "name": "stdout",
     "output_type": "stream",
     "text": [
      "On batch number 1/100 and on k = 1 we have for  0: 0.53 and for +1: 0.47\n",
      "On batch number 1/100 and on k = 2 we have for  0: 0.56 and for +1: 0.44\n",
      "On batch number 1/100 and on k = 3 we have for  0: 0.61 and for +1: 0.39\n",
      "On batch number 1/100 and on k = 4 we have for  0: 0.64 and for +1: 0.36\n",
      "On batch number 1/100 and on k = 5 we have for  0: 0.53 and for +1: 0.47\n",
      "On batch number 1/100 and on k = 6 we have for  0: 0.58 and for +1: 0.42\n",
      "On batch number 1/100 and on k = 7 we have for  0: 0.42 and for +1: 0.58\n",
      "elbo: -1.4033719301223755\n"
     ]
    },
    {
     "name": "stderr",
     "output_type": "stream",
     "text": [
      " 88%|████████▊ | 440/500 [22:48<03:08,  3.13s/it]"
     ]
    },
    {
     "name": "stdout",
     "output_type": "stream",
     "text": [
      "On batch number 1/100 and on k = 1 we have for  0: 0.44 and for +1: 0.56\n",
      "On batch number 1/100 and on k = 2 we have for  0: 0.45 and for +1: 0.55\n",
      "On batch number 1/100 and on k = 3 we have for  0: 0.59 and for +1: 0.41\n",
      "On batch number 1/100 and on k = 4 we have for  0: 0.51 and for +1: 0.49\n",
      "On batch number 1/100 and on k = 5 we have for  0: 0.48 and for +1: 0.52\n",
      "On batch number 1/100 and on k = 6 we have for  0: 0.54 and for +1: 0.46\n",
      "On batch number 1/100 and on k = 7 we have for  0: 0.52 and for +1: 0.48\n",
      "elbo: -1.3303240537643433\n"
     ]
    },
    {
     "name": "stderr",
     "output_type": "stream",
     "text": [
      " 90%|█████████ | 450/500 [23:19<02:35,  3.10s/it]"
     ]
    },
    {
     "name": "stdout",
     "output_type": "stream",
     "text": [
      "On batch number 1/100 and on k = 1 we have for  0: 0.49 and for +1: 0.51\n",
      "On batch number 1/100 and on k = 2 we have for  0: 0.46 and for +1: 0.54\n",
      "On batch number 1/100 and on k = 3 we have for  0: 0.52 and for +1: 0.48\n",
      "On batch number 1/100 and on k = 4 we have for  0: 0.48 and for +1: 0.52\n",
      "On batch number 1/100 and on k = 5 we have for  0: 0.58 and for +1: 0.42\n",
      "On batch number 1/100 and on k = 6 we have for  0: 0.51 and for +1: 0.49\n",
      "On batch number 1/100 and on k = 7 we have for  0: 0.5 and for +1: 0.5\n",
      "elbo: -1.1245832443237305\n"
     ]
    },
    {
     "name": "stderr",
     "output_type": "stream",
     "text": [
      " 92%|█████████▏| 460/500 [23:50<02:02,  3.07s/it]"
     ]
    },
    {
     "name": "stdout",
     "output_type": "stream",
     "text": [
      "On batch number 1/100 and on k = 1 we have for  0: 0.49 and for +1: 0.51\n",
      "On batch number 1/100 and on k = 2 we have for  0: 0.47 and for +1: 0.53\n",
      "On batch number 1/100 and on k = 3 we have for  0: 0.6 and for +1: 0.4\n",
      "On batch number 1/100 and on k = 4 we have for  0: 0.53 and for +1: 0.47\n",
      "On batch number 1/100 and on k = 5 we have for  0: 0.52 and for +1: 0.48\n",
      "On batch number 1/100 and on k = 6 we have for  0: 0.64 and for +1: 0.36\n",
      "On batch number 1/100 and on k = 7 we have for  0: 0.46 and for +1: 0.54\n",
      "elbo: -1.3000516891479492\n"
     ]
    },
    {
     "name": "stderr",
     "output_type": "stream",
     "text": [
      " 94%|█████████▍| 470/500 [24:21<01:32,  3.08s/it]"
     ]
    },
    {
     "name": "stdout",
     "output_type": "stream",
     "text": [
      "On batch number 1/100 and on k = 1 we have for  0: 0.58 and for +1: 0.42\n",
      "On batch number 1/100 and on k = 2 we have for  0: 0.52 and for +1: 0.48\n",
      "On batch number 1/100 and on k = 3 we have for  0: 0.45 and for +1: 0.55\n",
      "On batch number 1/100 and on k = 4 we have for  0: 0.51 and for +1: 0.49\n",
      "On batch number 1/100 and on k = 5 we have for  0: 0.52 and for +1: 0.48\n",
      "On batch number 1/100 and on k = 6 we have for  0: 0.56 and for +1: 0.44\n",
      "On batch number 1/100 and on k = 7 we have for  0: 0.49 and for +1: 0.51\n",
      "elbo: -1.100080132484436\n"
     ]
    },
    {
     "name": "stderr",
     "output_type": "stream",
     "text": [
      " 96%|█████████▌| 480/500 [24:51<01:01,  3.07s/it]"
     ]
    },
    {
     "name": "stdout",
     "output_type": "stream",
     "text": [
      "On batch number 1/100 and on k = 1 we have for  0: 0.43 and for +1: 0.57\n",
      "On batch number 1/100 and on k = 2 we have for  0: 0.6 and for +1: 0.4\n",
      "On batch number 1/100 and on k = 3 we have for  0: 0.55 and for +1: 0.45\n",
      "On batch number 1/100 and on k = 4 we have for  0: 0.59 and for +1: 0.41\n",
      "On batch number 1/100 and on k = 5 we have for  0: 0.53 and for +1: 0.47\n",
      "On batch number 1/100 and on k = 6 we have for  0: 0.51 and for +1: 0.49\n",
      "On batch number 1/100 and on k = 7 we have for  0: 0.58 and for +1: 0.42\n",
      "elbo: -1.0111397504806519\n"
     ]
    },
    {
     "name": "stderr",
     "output_type": "stream",
     "text": [
      " 98%|█████████▊| 490/500 [25:23<00:31,  3.11s/it]"
     ]
    },
    {
     "name": "stdout",
     "output_type": "stream",
     "text": [
      "On batch number 1/100 and on k = 1 we have for  0: 0.48 and for +1: 0.52\n",
      "On batch number 1/100 and on k = 2 we have for  0: 0.57 and for +1: 0.43\n",
      "On batch number 1/100 and on k = 3 we have for  0: 0.5 and for +1: 0.5\n",
      "On batch number 1/100 and on k = 4 we have for  0: 0.47 and for +1: 0.53\n",
      "On batch number 1/100 and on k = 5 we have for  0: 0.53 and for +1: 0.47\n",
      "On batch number 1/100 and on k = 6 we have for  0: 0.52 and for +1: 0.48\n",
      "On batch number 1/100 and on k = 7 we have for  0: 0.49 and for +1: 0.51\n",
      "elbo: -1.1851496696472168\n"
     ]
    },
    {
     "name": "stderr",
     "output_type": "stream",
     "text": [
      "100%|██████████| 500/500 [25:54<00:00,  3.11s/it]\n"
     ]
    }
   ],
   "source": [
    "best_elbo = -float(\"inf\")\n",
    "current_tolerance = 0\n",
    "print_info_ = 10\n",
    "# with torch.autograd.detect_anomaly():\n",
    "for ep in tqdm(range(args.num_epoches)): # cycle over epoches\n",
    "    for b_num, batch_train in enumerate(dataloader): # cycle over batches\n",
    "#         plt.close()        \n",
    "#         pdb.set_trace()\n",
    "\n",
    "        mu, sigma, h = enc(batch_train) # sample mu and sigma from encoder\n",
    "        u = args.std_normal.sample(mu.shape) # sample random tensor for reparametrization trick\n",
    "        z = mu + sigma * u # reperametrization trick\n",
    "        sum_log_sigma = torch.sum(torch.log(sigma), 1)\n",
    "\n",
    "        p_old = args.std_normal.sample(z.shape)\n",
    "        cond_vectors = [args.std_normal.sample(p_old.shape) for _ in range(args.K)]\n",
    "\n",
    "        sum_log_alpha = torch.zeros(mu.shape[0], dtype=args.torchType, device=args.device) # for grad log alpha accumulation\n",
    "        sum_log_jacobian = torch.zeros(mu.shape[0], dtype=args.torchType, device=args.device) # for log_jacobian accumulation\n",
    "        p = p_old\n",
    "        if args.learnable_reverse:\n",
    "            all_directions = torch.tensor([], device=args.device)\n",
    "        else:\n",
    "            all_directions = None\n",
    "        for k in range(args.K):\n",
    "            # sample alpha - transition probabilities \n",
    "            if args.amortize:\n",
    "#                     pdb.set_trace()\n",
    "                z, p, log_jac, current_log_alphas, directions, _ = transitions.make_transition(q_old=z, x=batch_train,\n",
    "                                                    p_old=p, k=cond_vectors[k], target_distr=target, args=args)\n",
    "            else:\n",
    "                z, p, log_jac, current_log_alphas, directions, _ = transitions[k].make_transition(q_old=z, x=batch_train,\n",
    "                                                                    p_old=p, k=cond_vectors[k], target_distr=target, args=args) # sample a_i -- directions\n",
    "            if ep  % print_info_ == 0 and b_num % (100 * print_info_) == 0:\n",
    "                print('On batch number {}/{} and on k = {} we have for  0: {} and for +1: {}'.format(b_num + 1,\n",
    "                                                                        data.shape[0] // args['train_batch_size'],\n",
    "                                                                           k + 1,\n",
    "                                                    (directions==0.).to(float).mean(),\n",
    "                                                                    (directions==1.).to(float).mean()))\n",
    "                if args.amortize:\n",
    "                    print('Stepsize {}'.format(np.exp(transitions.gamma.cpu().detach().item())))\n",
    "                    print('Autoregression coeff {}'.format(torch.sigmoid(transitions.alpha_logit).cpu().detach().item()))\n",
    "            if args.learnable_reverse:\n",
    "                all_directions = torch.cat([all_directions, directions.view(-1, 1)], dim=1)\n",
    "            # Accumulate alphas\n",
    "            sum_log_alpha = sum_log_alpha + current_log_alphas\n",
    "            sum_log_jacobian = sum_log_jacobian + log_jac  # refresh log jacobian\n",
    "        ##############################################\n",
    "        if args.hoffman_idea:\n",
    "            if args.learnable_reverse:\n",
    "                log_r = reverse_kernel(z_fin=z.detach(), h=h.detach(), a=all_directions)\n",
    "                log_m = args.std_normal.log_prob(u).sum(1) + args.std_normal.log_prob(p_old).sum(1) - sum_log_jacobian - sum_log_sigma + sum_log_alpha\n",
    "            else:\n",
    "                log_r = 0 #-args.K * torch_log_2\n",
    "                log_m = args.std_normal.log_prob(u).sum(1) + args.std_normal.log_prob(p_old).sum(1) - sum_log_jacobian - sum_log_sigma # + sum_log_alpha\n",
    "            log_p = target.get_logdensity(z=z, x=batch_train, args=args) + args.std_normal.log_prob(p.sum(1))\n",
    "            elbo_full = log_p + log_r - log_m\n",
    "    #                 pdb.set_trace()\n",
    "            ### Gradient of the first objective:\n",
    "#             target.eval()\n",
    "            obj_1 = torch.mean(elbo_full + elbo_full.detach() * sum_log_alpha)\n",
    "            (-obj_1).backward(retain_graph=True)\n",
    "            optimizer_inference.step()\n",
    "            optimizer_inference.zero_grad()\n",
    "            optimizer.zero_grad() \n",
    "\n",
    "            ### Gradient of the second objective:\n",
    "#             target.train()\n",
    "            log_p = target.get_logdensity(z=z.detach(), x=batch_train, args=args) + args.std_normal.log_prob(p.detach()).sum(1)\n",
    "            elbo_full = log_p # - log_m\n",
    "            obj_2 = torch.mean(elbo_full + elbo_full.detach() * sum_log_alpha)\n",
    "            (-obj_2).backward()\n",
    "            optimizer.step()\n",
    "            optimizer_inference.zero_grad()\n",
    "            optimizer.zero_grad()\n",
    "            ###########################################################\n",
    "        else:\n",
    "            elbo_full, grad_elbo = compute_loss(z_new=z, p_new=p, u=u, p_old=p_old, x=batch_train, sum_log_alpha=sum_log_alpha,\n",
    "                                                sum_log_jac=sum_log_jacobian, sum_log_sigma=sum_log_sigma, mu=mu,\n",
    "                                                all_directions=all_directions, h=h)\n",
    "            (-grad_elbo).backward()\n",
    "\n",
    "                \n",
    "        if args.separate_params: # if we separate params of inference part and generation part\n",
    "            optimizer_inference.step() # we always perform step for inference part\n",
    "            if ep % args.train_only_inference_period > args.train_only_inference_cutoff: # but sometimes for gen\n",
    "                optimizer.step()\n",
    "            optimizer.zero_grad()\n",
    "            optimizer_inference.zero_grad()\n",
    "        else:\n",
    "            optimizer.step()\n",
    "            optimizer.zero_grad()\n",
    "            scheduler.step()\n",
    "            \n",
    "        if ep  % print_info_ == 0 and b_num % (100 * print_info_) == 0:\n",
    "            if args.hoffman_idea:\n",
    "                print('obj_1:', obj_1)\n",
    "                print('obj_2:', obj_2)\n",
    "            else:\n",
    "                print('elbo:', elbo_full.mean().cpu().detach().item())"
   ]
  },
  {
   "cell_type": "code",
   "execution_count": 11,
   "metadata": {},
   "outputs": [
    {
     "data": {
      "text/plain": [
       "tensor([[-0.6599, -0.6826],\n",
       "        [ 0.4753,  0.5219]], grad_fn=<PermuteBackward>)"
      ]
     },
     "execution_count": 11,
     "metadata": {},
     "output_type": "execute_result"
    }
   ],
   "source": [
    "target.decoder.W.weight.T"
   ]
  },
  {
   "cell_type": "code",
   "execution_count": 12,
   "metadata": {},
   "outputs": [],
   "source": [
    "target.decoder.W.bias"
   ]
  },
  {
   "cell_type": "code",
   "execution_count": 13,
   "metadata": {},
   "outputs": [
    {
     "name": "stdout",
     "output_type": "stream",
     "text": [
      "tensor([[5.1967, 5.6456],\n",
      "        [4.1954, 6.4900]])\n"
     ]
    }
   ],
   "source": [
    "print(true_theta)"
   ]
  },
  {
   "cell_type": "code",
   "execution_count": 14,
   "metadata": {},
   "outputs": [
    {
     "data": {
      "text/plain": [
       "Parameter containing:\n",
       "tensor([[ 0.1218,  0.7920,  0.4092, -0.1279],\n",
       "        [-0.3447, -0.4989,  0.3742,  0.1400]], requires_grad=True)"
      ]
     },
     "execution_count": 14,
     "metadata": {},
     "output_type": "execute_result"
    }
   ],
   "source": [
    "enc.mu.weight"
   ]
  },
  {
   "cell_type": "code",
   "execution_count": null,
   "metadata": {},
   "outputs": [],
   "source": []
  },
  {
   "cell_type": "markdown",
   "metadata": {},
   "source": [
    "## VAE"
   ]
  },
  {
   "cell_type": "code",
   "execution_count": 15,
   "metadata": {},
   "outputs": [],
   "source": [
    "# 'Encoder' - simple matrix\n",
    "class Encoder_simple(nn.Module):\n",
    "    def __init__(self, L, z_dim, device='cpu'):\n",
    "        super(Encoder_simple, self).__init__()\n",
    "        self.L = L\n",
    "        self.z_dim = z_dim\n",
    "        self.e = nn.Linear(in_features=self.L, out_features=2*self.L)\n",
    "        self.mu = nn.Linear(in_features=2*self.L, out_features=self.z_dim)\n",
    "        self.sigma = nn.Linear(in_features=2*self.L, out_features=self.z_dim)\n",
    "    def forward(self, x):\n",
    "        hid = torch.relu(self.e(x))\n",
    "        return self.mu(hid), nn.functional.softplus(self.sigma(hid))"
   ]
  },
  {
   "cell_type": "code",
   "execution_count": 16,
   "metadata": {},
   "outputs": [],
   "source": [
    "enc = Encoder_simple(L=L, z_dim=z_dim, device=device).to(device)\n",
    "dec = Decoder(L=L, z_dim=z_dim, device=device).to(device)\n",
    "target = NN_bernoulli({}, dec, device).to(device)\n",
    "\n",
    "std_normal = torch.distributions.Normal(loc=torch.tensor(0., device=device),\n",
    "                                                scale=torch.tensor(1., device=device))\n",
    "args.std_normal = std_normal"
   ]
  },
  {
   "cell_type": "code",
   "execution_count": 17,
   "metadata": {},
   "outputs": [],
   "source": [
    "params = list(enc.parameters()) + list(target.parameters())\n",
    "optimizer = torch.optim.Adam(params=params)\n",
    "scheduler = torch.optim.lr_scheduler.MultiStepLR(optimizer, milestones=[100, 200, 300, 400], gamma=0.5) #torch.optim.lr_scheduler.CosineAnnealingLR(optimizer, T_max=10, eta_min=0, last_epoch=-1)"
   ]
  },
  {
   "cell_type": "code",
   "execution_count": 18,
   "metadata": {},
   "outputs": [
    {
     "name": "stderr",
     "output_type": "stream",
     "text": [
      "  0%|          | 2/500 [00:00<01:19,  6.27it/s]"
     ]
    },
    {
     "name": "stdout",
     "output_type": "stream",
     "text": [
      "elbo: -1.609104871749878\n"
     ]
    },
    {
     "name": "stderr",
     "output_type": "stream",
     "text": [
      " 10%|█         | 52/500 [00:06<00:54,  8.22it/s]"
     ]
    },
    {
     "name": "stdout",
     "output_type": "stream",
     "text": [
      "elbo: -1.403254747390747\n"
     ]
    },
    {
     "name": "stderr",
     "output_type": "stream",
     "text": [
      " 20%|██        | 102/500 [00:12<00:48,  8.22it/s]"
     ]
    },
    {
     "name": "stdout",
     "output_type": "stream",
     "text": [
      "elbo: -1.3826212882995605\n"
     ]
    },
    {
     "name": "stderr",
     "output_type": "stream",
     "text": [
      " 30%|███       | 152/500 [00:18<00:42,  8.25it/s]"
     ]
    },
    {
     "name": "stdout",
     "output_type": "stream",
     "text": [
      "elbo: -1.3923649787902832\n"
     ]
    },
    {
     "name": "stderr",
     "output_type": "stream",
     "text": [
      " 40%|████      | 202/500 [00:24<00:36,  8.27it/s]"
     ]
    },
    {
     "name": "stdout",
     "output_type": "stream",
     "text": [
      "elbo: -1.3815406560897827\n"
     ]
    },
    {
     "name": "stderr",
     "output_type": "stream",
     "text": [
      " 50%|█████     | 252/500 [00:30<00:29,  8.28it/s]"
     ]
    },
    {
     "name": "stdout",
     "output_type": "stream",
     "text": [
      "elbo: -1.3918979167938232\n"
     ]
    },
    {
     "name": "stderr",
     "output_type": "stream",
     "text": [
      " 60%|██████    | 302/500 [00:36<00:23,  8.26it/s]"
     ]
    },
    {
     "name": "stdout",
     "output_type": "stream",
     "text": [
      "elbo: -1.3917657136917114\n"
     ]
    },
    {
     "name": "stderr",
     "output_type": "stream",
     "text": [
      " 70%|███████   | 352/500 [00:42<00:17,  8.28it/s]"
     ]
    },
    {
     "name": "stdout",
     "output_type": "stream",
     "text": [
      "elbo: -1.3886233568191528\n"
     ]
    },
    {
     "name": "stderr",
     "output_type": "stream",
     "text": [
      " 80%|████████  | 402/500 [00:48<00:11,  8.20it/s]"
     ]
    },
    {
     "name": "stdout",
     "output_type": "stream",
     "text": [
      "elbo: -1.3873263597488403\n"
     ]
    },
    {
     "name": "stderr",
     "output_type": "stream",
     "text": [
      " 90%|█████████ | 452/500 [00:54<00:05,  8.20it/s]"
     ]
    },
    {
     "name": "stdout",
     "output_type": "stream",
     "text": [
      "elbo: -1.3879351615905762\n"
     ]
    },
    {
     "name": "stderr",
     "output_type": "stream",
     "text": [
      "100%|██████████| 500/500 [01:00<00:00,  8.23it/s]\n"
     ]
    }
   ],
   "source": [
    "best_elbo = -float(\"inf\")\n",
    "current_tolerance = 0\n",
    "print_info_ = 10\n",
    "# with torch.autograd.detect_anomaly():\n",
    "for ep in tqdm(range(args.num_epoches)): # cycle over epoches\n",
    "    for b_num, batch_train in enumerate(dataloader): # cycle over batches\n",
    "#         pdb.set_trace()\n",
    "        mu, sigma = enc(batch_train) # sample mu and sigma from encoder\n",
    "        u = args.std_normal.sample(mu.shape) # sample random tensor for reparametrization trick\n",
    "        z = mu + sigma * u # reperametrization trick\n",
    "        sum_log_sigma = torch.sum(torch.log(sigma), 1)\n",
    "        \n",
    "        log_q = -sum_log_sigma + std_normal.log_prob(u).sum(1)\n",
    "        log_p = target.get_logdensity(x=batch_train, z=z)\n",
    "        elbo = torch.mean(log_p - log_q)\n",
    "        (-elbo).backward()\n",
    "        optimizer.step()\n",
    "        optimizer.zero_grad()\n",
    "        scheduler.step()\n",
    "    if ep % 50 == 0:\n",
    "        print('elbo:', elbo.cpu().detach().item())"
   ]
  },
  {
   "cell_type": "code",
   "execution_count": 19,
   "metadata": {},
   "outputs": [
    {
     "data": {
      "text/plain": [
       "tensor([[ 0.0047, -0.0053],\n",
       "        [-0.0002,  0.0041]], grad_fn=<PermuteBackward>)"
      ]
     },
     "execution_count": 19,
     "metadata": {},
     "output_type": "execute_result"
    }
   ],
   "source": [
    "target.decoder.W.weight.T"
   ]
  },
  {
   "cell_type": "code",
   "execution_count": 20,
   "metadata": {},
   "outputs": [
    {
     "name": "stdout",
     "output_type": "stream",
     "text": [
      "tensor([[5.1967, 5.6456],\n",
      "        [4.1954, 6.4900]])\n"
     ]
    }
   ],
   "source": [
    "print(true_theta)"
   ]
  },
  {
   "cell_type": "code",
   "execution_count": 21,
   "metadata": {},
   "outputs": [],
   "source": [
    "best_elbo = -float(\"inf\")\n",
    "current_tolerance = 0\n",
    "print_info_ = 10\n",
    "# with torch.autograd.detect_anomaly():\n",
    "\n",
    "for b_num, batch_train in enumerate(dataloader): # cycle over batches\n",
    "#         pdb.set_trace()\n",
    "    mu, sigma = enc(batch_train) # sample mu and sigma from encoder\n",
    "    u = args.std_normal.sample(mu.shape) # sample random tensor for reparametrization trick\n",
    "    z = mu + sigma * u # reperametrization trick\n",
    "    sum_log_sigma = torch.sum(torch.log(sigma), 1)\n",
    "    break"
   ]
  },
  {
   "cell_type": "code",
   "execution_count": 29,
   "metadata": {},
   "outputs": [
    {
     "data": {
      "text/plain": [
       "tensor([[1., 1.],\n",
       "        [0., 0.],\n",
       "        [0., 1.],\n",
       "        [0., 0.],\n",
       "        [0., 0.],\n",
       "        [1., 1.],\n",
       "        [0., 0.],\n",
       "        [0., 0.],\n",
       "        [0., 0.],\n",
       "        [1., 1.]])"
      ]
     },
     "execution_count": 29,
     "metadata": {},
     "output_type": "execute_result"
    }
   ],
   "source": [
    "batch_train[:10]"
   ]
  },
  {
   "cell_type": "code",
   "execution_count": 31,
   "metadata": {},
   "outputs": [
    {
     "data": {
      "text/plain": [
       "tensor([[0., 0.],\n",
       "        [0., 0.],\n",
       "        [0., 1.],\n",
       "        [0., 0.],\n",
       "        [0., 1.],\n",
       "        [1., 0.],\n",
       "        [0., 1.],\n",
       "        [0., 0.],\n",
       "        [1., 1.],\n",
       "        [1., 0.]])"
      ]
     },
     "execution_count": 31,
     "metadata": {},
     "output_type": "execute_result"
    }
   ],
   "source": [
    "torch.distributions.Bernoulli(logits=target.decoder(z)[0][:10]).sample()"
   ]
  },
  {
   "cell_type": "code",
   "execution_count": null,
   "metadata": {},
   "outputs": [],
   "source": []
  }
 ],
 "metadata": {
  "kernelspec": {
   "display_name": "Condatorch",
   "language": "python",
   "name": "condatorch"
  },
  "language_info": {
   "codemirror_mode": {
    "name": "ipython",
    "version": 3
   },
   "file_extension": ".py",
   "mimetype": "text/x-python",
   "name": "python",
   "nbconvert_exporter": "python",
   "pygments_lexer": "ipython3",
   "version": "3.7.6"
  }
 },
 "nbformat": 4,
 "nbformat_minor": 4
}
