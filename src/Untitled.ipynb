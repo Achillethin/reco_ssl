{
 "cells": [
  {
   "cell_type": "code",
   "execution_count": 5,
   "id": "49af45a4-2a71-433c-a4e9-2f55ecabf73d",
   "metadata": {},
   "outputs": [],
   "source": [
    "from models import MultiVAE, Multi_our_VAE, SimCLR_reco_model\n",
    "\n",
    "import argparse\n",
    "import random\n",
    "\n",
    "import numpy as np\n",
    "import torch\n",
    "from rezende_plot import run_rezende\n",
    "from training import train_model, train_met_model, train_simclr_model\n",
    "\n",
    "from args import get_args\n",
    "from data import Dataset\n",
    "\n",
    "from metrics import NDCG_binary_at_k_batch"
   ]
  },
  {
   "cell_type": "code",
   "execution_count": 6,
   "id": "df9e7a1b-65a7-4ab7-b707-6f490934c440",
   "metadata": {},
   "outputs": [],
   "source": [
    "class dotdict(dict):\n",
    "        \"\"\"dot.notation access to dictionary attributes\"\"\"\n",
    "        __getattr__ = dict.get\n",
    "        __setattr__ = dict.__setitem__\n",
    "        __delattr__ = dict.__delitem__\n"
   ]
  },
  {
   "cell_type": "code",
   "execution_count": 7,
   "id": "7277333a-4e54-47b2-819d-74ac03a863a6",
   "metadata": {},
   "outputs": [],
   "source": [
    "args = {}\n",
    "\n",
    "args = dotdict(args)\n",
    "args['data'] = 'foursquare' #'gowalla'\n",
    "\n",
    "args['model'] = 'SimCLR_reco_model' #SimCLR_reco_model, MultiVAE\n",
    "\n",
    "args['n_epoches'] = 100\n",
    "\n",
    "args['n_epoches_dec'] = 50\n",
    "\n",
    "args['lrdec'] = 1e-3\n",
    "\n",
    "args['lrenc'] = 1e-3\n",
    "\n",
    "args['train_batch_size'] = 500\n",
    "\n",
    "args['val_batch_size'] = 200\n",
    "\n",
    "args['n_val_samples'] = 1\n",
    "\n",
    "args['annealing'] = True\n",
    "\n",
    "args.total_anneal_steps = 50\n",
    "\n",
    "args.anneal_cap = 1.\n",
    "\n",
    "args.print_info_ = 5\n",
    "\n",
    "args.metric = NDCG_binary_at_k_batch\n",
    "\n",
    "args.device = 'cpu'\n",
    "\n",
    "args.n_views = 2\n",
    "\n",
    "args.temperature = .07\n",
    "\n",
    "args.dropout_rate = 0.5"
   ]
  },
  {
   "cell_type": "code",
   "execution_count": 8,
   "id": "8b3f518b-7ab7-47f3-8ba9-ed81972f61ed",
   "metadata": {},
   "outputs": [
    {
     "name": "stdout",
     "output_type": "stream",
     "text": [
      "Sequential(\n",
      "  (0): Linear(in_features=26150, out_features=600, bias=True)\n",
      "  (1): Tanh()\n",
      "  (2): Linear(in_features=600, out_features=100, bias=True)\n",
      ")\n",
      "Sequential(\n",
      "  (0): Linear(in_features=100, out_features=600, bias=True)\n",
      "  (1): Tanh()\n",
      "  (2): Linear(in_features=600, out_features=26150, bias=True)\n",
      ")\n"
     ]
    },
    {
     "name": "stderr",
     "output_type": "stream",
     "text": [
      "100%|███████████████████████████████████████| 100/100 [1:47:26<00:00, 64.46s/it]\n",
      "  2%|▊                                        | 1/50 [02:28<2:01:18, 148.53s/it]"
     ]
    },
    {
     "name": "stdout",
     "output_type": "stream",
     "text": [
      "Best NDCG: -inf\n",
      "Current NDCG: 0.0016205389953850148\n"
     ]
    },
    {
     "name": "stderr",
     "output_type": "stream",
     "text": [
      " 12%|████▉                                    | 6/50 [15:30<1:24:18, 114.96s/it]"
     ]
    },
    {
     "name": "stdout",
     "output_type": "stream",
     "text": [
      "Best NDCG: -inf\n",
      "Current NDCG: 0.02682434915096538\n"
     ]
    },
    {
     "name": "stderr",
     "output_type": "stream",
     "text": [
      " 22%|█████████▍                                 | 11/50 [22:09<55:13, 84.96s/it]"
     ]
    },
    {
     "name": "stdout",
     "output_type": "stream",
     "text": [
      "Best NDCG: -inf\n",
      "Current NDCG: 0.028203149025689305\n"
     ]
    },
    {
     "name": "stderr",
     "output_type": "stream",
     "text": [
      " 32%|█████████████▊                             | 16/50 [28:25<43:27, 76.70s/it]"
     ]
    },
    {
     "name": "stdout",
     "output_type": "stream",
     "text": [
      "Best NDCG: -inf\n",
      "Current NDCG: 0.02937626847794509\n"
     ]
    },
    {
     "name": "stderr",
     "output_type": "stream",
     "text": [
      " 42%|██████████████████                         | 21/50 [34:50<36:21, 75.24s/it]"
     ]
    },
    {
     "name": "stdout",
     "output_type": "stream",
     "text": [
      "Best NDCG: -inf\n",
      "Current NDCG: 0.031423733271965376\n"
     ]
    },
    {
     "name": "stderr",
     "output_type": "stream",
     "text": [
      " 52%|██████████████████████▎                    | 26/50 [41:14<30:58, 77.43s/it]"
     ]
    },
    {
     "name": "stdout",
     "output_type": "stream",
     "text": [
      "Best NDCG: -inf\n",
      "Current NDCG: 0.030623249792922535\n"
     ]
    },
    {
     "name": "stderr",
     "output_type": "stream",
     "text": [
      " 62%|██████████████████████████▋                | 31/50 [47:20<23:30, 74.23s/it]"
     ]
    },
    {
     "name": "stdout",
     "output_type": "stream",
     "text": [
      "Best NDCG: -inf\n",
      "Current NDCG: 0.029385733998542368\n"
     ]
    },
    {
     "name": "stderr",
     "output_type": "stream",
     "text": [
      " 72%|██████████████████████████████▉            | 36/50 [53:36<17:21, 74.37s/it]"
     ]
    },
    {
     "name": "stdout",
     "output_type": "stream",
     "text": [
      "Best NDCG: -inf\n",
      "Current NDCG: 0.028049854063576452\n"
     ]
    },
    {
     "name": "stderr",
     "output_type": "stream",
     "text": [
      " 82%|█████████████████████████████████▌       | 41/50 [1:00:07<11:45, 78.37s/it]"
     ]
    },
    {
     "name": "stdout",
     "output_type": "stream",
     "text": [
      "Best NDCG: -inf\n",
      "Current NDCG: 0.02743321509022212\n"
     ]
    },
    {
     "name": "stderr",
     "output_type": "stream",
     "text": [
      " 92%|█████████████████████████████████████▋   | 46/50 [1:06:41<05:23, 80.98s/it]"
     ]
    },
    {
     "name": "stdout",
     "output_type": "stream",
     "text": [
      "Best NDCG: -inf\n",
      "Current NDCG: 0.027259586441004884\n"
     ]
    },
    {
     "name": "stderr",
     "output_type": "stream",
     "text": [
      "100%|█████████████████████████████████████████| 50/50 [1:11:58<00:00, 86.37s/it]\n"
     ]
    }
   ],
   "source": [
    "dataset = Dataset(args)\n",
    "# pdb.set_trace()\n",
    "layers = [100, 600, dataset.n_items]\n",
    "args.z_dim = layers[0]\n",
    "args.l2_coeff = 0.\n",
    "# with torch.autograd.detect_anomaly():\n",
    "if args.model == 'MultiVAE':\n",
    "    model = MultiVAE(layers, args=args).to(args.device)\n",
    "    metric_values = train_model(model, dataset, args)\n",
    "elif args.model == 'Multi_our_VAE':\n",
    "    model = Multi_our_VAE(layers, args=args).to(args.device)\n",
    "    metric_values = train_met_model(model, dataset, args)\n",
    "elif args.model == 'SimCLR_reco_model':\n",
    "    model = SimCLR_reco_model(args=args, p_dims=layers).to(args.device)\n",
    "    metric_values = train_simclr_model(model, dataset, args)"
   ]
  },
  {
   "cell_type": "code",
   "execution_count": null,
   "id": "274320d4-c499-4441-9566-4ddd49830e2b",
   "metadata": {},
   "outputs": [],
   "source": [
    "args = {}\n",
    "\n",
    "args = dotdict(args)\n",
    "args['data'] = 'foursquare' #'gowalla'\n",
    "\n",
    "args['model'] = 'MultiVAE' #SimCLR_reco_model, MultiVAE\n",
    "\n",
    "args['n_epoches'] = 10\n",
    "\n",
    "args['n_epoches_dec'] = 50\n",
    "\n",
    "args['lrdec'] = 1e-3\n",
    "\n",
    "args['lrenc'] = 1e-3\n",
    "\n",
    "args['train_batch_size'] = 500\n",
    "\n",
    "args['val_batch_size'] = 200\n",
    "\n",
    "args['n_val_samples'] = 1\n",
    "\n",
    "args['annealing'] = True\n",
    "\n",
    "args.total_anneal_steps = 50\n",
    "\n",
    "args.anneal_cap = 1.\n",
    "\n",
    "args.print_info_ = 5\n",
    "\n",
    "args.metric = NDCG_binary_at_k_batch\n",
    "\n",
    "args.device = 'cpu'\n",
    "\n",
    "args.n_views = 2\n",
    "\n",
    "args.temperature = .07\n",
    "\n",
    "args.dropout_rate = 0.5"
   ]
  },
  {
   "cell_type": "code",
   "execution_count": null,
   "id": "91bdcc54-dca4-4807-b366-7d37dc650e74",
   "metadata": {},
   "outputs": [],
   "source": [
    "dataset = Dataset(args)\n",
    "# pdb.set_trace()\n",
    "layers = [100, 600, dataset.n_items]\n",
    "args.z_dim = layers[0]\n",
    "args.l2_coeff = 0.\n",
    "# with torch.autograd.detect_anomaly():\n",
    "if args.model == 'MultiVAE':\n",
    "    model = MultiVAE(layers, args=args).to(args.device)\n",
    "    metric_values_vae = train_model(model, dataset, args)\n",
    "elif args.model == 'Multi_our_VAE':\n",
    "    model = Multi_our_VAE(layers, args=args).to(args.device)\n",
    "    metric_values = train_met_model(model, dataset, args)\n",
    "elif args.model == 'SimCLR_reco_model':\n",
    "    model = SimCLR_reco_model(args=args, p_dims=layers).to(args.device)\n",
    "    metric_values = train_simclr_model(model, dataset, args)"
   ]
  },
  {
   "cell_type": "code",
   "execution_count": null,
   "id": "409d315b-6727-4c65-957d-2f534377ab9c",
   "metadata": {},
   "outputs": [],
   "source": []
  },
  {
   "cell_type": "code",
   "execution_count": 11,
   "id": "e293acae-90c0-4535-9b6e-c623bca5e53b",
   "metadata": {},
   "outputs": [],
   "source": [
    "args = {}\n",
    "\n",
    "args = dotdict(args)\n",
    "args['data'] = 'foursquare' #'gowalla'\n",
    "\n",
    "args['model'] = 'SimCLR_reco_model' #SimCLR_reco_model, MultiVAE\n",
    "\n",
    "args['n_epoches'] = 100\n",
    "\n",
    "args['n_epoches_dec'] = 50\n",
    "\n",
    "args['lrdec'] = 1e-3\n",
    "\n",
    "args['lrenc'] = 1e-3\n",
    "\n",
    "args['train_batch_size'] = 500\n",
    "\n",
    "args['val_batch_size'] = 200\n",
    "\n",
    "args['n_val_samples'] = 1\n",
    "\n",
    "args['annealing'] = True\n",
    "\n",
    "args.total_anneal_steps = 50\n",
    "\n",
    "args.anneal_cap = 1.\n",
    "\n",
    "args.print_info_ = 5\n",
    "\n",
    "args.metric = NDCG_binary_at_k_batch\n",
    "\n",
    "args.device = 'cpu'\n",
    "\n",
    "args.n_views = 2\n",
    "\n",
    "args.temperature = .07\n",
    "\n",
    "args.dropout_rate = 0.4"
   ]
  },
  {
   "cell_type": "code",
   "execution_count": 12,
   "id": "2510e44b-f089-4c38-af07-7eb108e2402d",
   "metadata": {},
   "outputs": [
    {
     "name": "stdout",
     "output_type": "stream",
     "text": [
      "Sequential(\n",
      "  (0): Linear(in_features=26150, out_features=600, bias=True)\n",
      "  (1): Tanh()\n",
      "  (2): Linear(in_features=600, out_features=100, bias=True)\n",
      ")\n",
      "Sequential(\n",
      "  (0): Linear(in_features=100, out_features=600, bias=True)\n",
      "  (1): Tanh()\n",
      "  (2): Linear(in_features=600, out_features=26150, bias=True)\n",
      ")\n"
     ]
    },
    {
     "name": "stderr",
     "output_type": "stream",
     "text": [
      "100%|███████████████████████████████████████| 100/100 [2:24:40<00:00, 86.80s/it]\n",
      "  2%|▉                                           | 1/50 [01:04<52:48, 64.66s/it]"
     ]
    },
    {
     "name": "stdout",
     "output_type": "stream",
     "text": [
      "Best NDCG: -inf\n",
      "Current NDCG: 0.0013198021725863338\n"
     ]
    },
    {
     "name": "stderr",
     "output_type": "stream",
     "text": [
      " 12%|█████▎                                      | 6/50 [06:15<45:52, 62.56s/it]"
     ]
    },
    {
     "name": "stdout",
     "output_type": "stream",
     "text": [
      "Best NDCG: -inf\n",
      "Current NDCG: 0.025047142638171847\n"
     ]
    },
    {
     "name": "stderr",
     "output_type": "stream",
     "text": [
      " 22%|█████████▍                                 | 11/50 [11:41<41:48, 64.32s/it]"
     ]
    },
    {
     "name": "stdout",
     "output_type": "stream",
     "text": [
      "Best NDCG: -inf\n",
      "Current NDCG: 0.027354677572919605\n"
     ]
    },
    {
     "name": "stderr",
     "output_type": "stream",
     "text": [
      " 32%|█████████████▊                             | 16/50 [17:11<37:04, 65.42s/it]"
     ]
    },
    {
     "name": "stdout",
     "output_type": "stream",
     "text": [
      "Best NDCG: -inf\n",
      "Current NDCG: 0.03051604865105588\n"
     ]
    },
    {
     "name": "stderr",
     "output_type": "stream",
     "text": [
      " 42%|██████████████████                         | 21/50 [22:37<30:55, 63.99s/it]"
     ]
    },
    {
     "name": "stdout",
     "output_type": "stream",
     "text": [
      "Best NDCG: -inf\n",
      "Current NDCG: 0.03052313290629853\n"
     ]
    },
    {
     "name": "stderr",
     "output_type": "stream",
     "text": [
      " 52%|██████████████████████▎                    | 26/50 [28:12<26:07, 65.32s/it]"
     ]
    },
    {
     "name": "stdout",
     "output_type": "stream",
     "text": [
      "Best NDCG: -inf\n",
      "Current NDCG: 0.029133805001356268\n"
     ]
    },
    {
     "name": "stderr",
     "output_type": "stream",
     "text": [
      " 62%|██████████████████████████▋                | 31/50 [33:50<21:08, 66.78s/it]"
     ]
    },
    {
     "name": "stdout",
     "output_type": "stream",
     "text": [
      "Best NDCG: -inf\n",
      "Current NDCG: 0.029688604541075643\n"
     ]
    },
    {
     "name": "stderr",
     "output_type": "stream",
     "text": [
      " 72%|██████████████████████████████▉            | 36/50 [39:15<15:18, 65.61s/it]"
     ]
    },
    {
     "name": "stdout",
     "output_type": "stream",
     "text": [
      "Best NDCG: -inf\n",
      "Current NDCG: 0.02799506002055756\n"
     ]
    },
    {
     "name": "stderr",
     "output_type": "stream",
     "text": [
      " 82%|███████████████████████████████████▎       | 41/50 [44:45<09:57, 66.44s/it]"
     ]
    },
    {
     "name": "stdout",
     "output_type": "stream",
     "text": [
      "Best NDCG: -inf\n",
      "Current NDCG: 0.028104872432883517\n"
     ]
    },
    {
     "name": "stderr",
     "output_type": "stream",
     "text": [
      " 92%|███████████████████████████████████████▌   | 46/50 [50:05<04:15, 63.81s/it]"
     ]
    },
    {
     "name": "stdout",
     "output_type": "stream",
     "text": [
      "Best NDCG: -inf\n",
      "Current NDCG: 0.02657043356671852\n"
     ]
    },
    {
     "name": "stderr",
     "output_type": "stream",
     "text": [
      "100%|███████████████████████████████████████████| 50/50 [54:25<00:00, 65.30s/it]\n"
     ]
    }
   ],
   "source": [
    "dataset = Dataset(args)\n",
    "# pdb.set_trace()\n",
    "layers = [100, 600, dataset.n_items]\n",
    "args.z_dim = layers[0]\n",
    "args.l2_coeff = 0.\n",
    "# with torch.autograd.detect_anomaly():\n",
    "if args.model == 'MultiVAE':\n",
    "    model = MultiVAE(layers, args=args).to(args.device)\n",
    "    metric_values = train_model(model, dataset, args)\n",
    "elif args.model == 'Multi_our_VAE':\n",
    "    model = Multi_our_VAE(layers, args=args).to(args.device)\n",
    "    metric_values = train_met_model(model, dataset, args)\n",
    "elif args.model == 'SimCLR_reco_model':\n",
    "    model = SimCLR_reco_model(args=args, p_dims=layers).to(args.device)\n",
    "    metric_values = train_simclr_model(model, dataset, args)"
   ]
  },
  {
   "cell_type": "code",
   "execution_count": 13,
   "id": "8ef0e523-d4b9-424a-aa09-9476f6221601",
   "metadata": {},
   "outputs": [
    {
     "name": "stdout",
     "output_type": "stream",
     "text": [
      "Sequential(\n",
      "  (0): Linear(in_features=26150, out_features=600, bias=True)\n",
      "  (1): Tanh()\n",
      "  (2): Linear(in_features=600, out_features=100, bias=True)\n",
      ")\n",
      "Sequential(\n",
      "  (0): Linear(in_features=100, out_features=600, bias=True)\n",
      "  (1): Tanh()\n",
      "  (2): Linear(in_features=600, out_features=26150, bias=True)\n",
      ")\n"
     ]
    },
    {
     "name": "stderr",
     "output_type": "stream",
     "text": [
      "100%|███████████████████████████████████████| 100/100 [1:38:59<00:00, 59.39s/it]\n",
      "  2%|▉                                           | 1/50 [01:05<53:30, 65.53s/it]"
     ]
    },
    {
     "name": "stdout",
     "output_type": "stream",
     "text": [
      "Best NDCG: -inf\n",
      "Current NDCG: 0.0011498702052041476\n"
     ]
    },
    {
     "name": "stderr",
     "output_type": "stream",
     "text": [
      " 12%|█████▎                                      | 6/50 [06:28<48:00, 65.47s/it]"
     ]
    },
    {
     "name": "stdout",
     "output_type": "stream",
     "text": [
      "Best NDCG: -inf\n",
      "Current NDCG: 0.02051125059114051\n"
     ]
    },
    {
     "name": "stderr",
     "output_type": "stream",
     "text": [
      " 22%|█████████▍                                 | 11/50 [11:54<41:56, 64.52s/it]"
     ]
    },
    {
     "name": "stdout",
     "output_type": "stream",
     "text": [
      "Best NDCG: -inf\n",
      "Current NDCG: 0.02405629152539537\n"
     ]
    },
    {
     "name": "stderr",
     "output_type": "stream",
     "text": [
      " 32%|█████████████▊                             | 16/50 [17:08<36:21, 64.16s/it]"
     ]
    },
    {
     "name": "stdout",
     "output_type": "stream",
     "text": [
      "Best NDCG: -inf\n",
      "Current NDCG: 0.024765974701271648\n"
     ]
    },
    {
     "name": "stderr",
     "output_type": "stream",
     "text": [
      " 42%|██████████████████                         | 21/50 [22:23<30:56, 64.01s/it]"
     ]
    },
    {
     "name": "stdout",
     "output_type": "stream",
     "text": [
      "Best NDCG: -inf\n",
      "Current NDCG: 0.024559977898371454\n"
     ]
    },
    {
     "name": "stderr",
     "output_type": "stream",
     "text": [
      " 52%|██████████████████████▎                    | 26/50 [27:49<26:11, 65.46s/it]"
     ]
    },
    {
     "name": "stdout",
     "output_type": "stream",
     "text": [
      "Best NDCG: -inf\n",
      "Current NDCG: 0.02689683916195827\n"
     ]
    },
    {
     "name": "stderr",
     "output_type": "stream",
     "text": [
      " 62%|██████████████████████████▋                | 31/50 [33:01<19:46, 62.43s/it]"
     ]
    },
    {
     "name": "stdout",
     "output_type": "stream",
     "text": [
      "Best NDCG: -inf\n",
      "Current NDCG: 0.02569342178056583\n"
     ]
    },
    {
     "name": "stderr",
     "output_type": "stream",
     "text": [
      " 72%|██████████████████████████████▉            | 36/50 [38:21<14:43, 63.10s/it]"
     ]
    },
    {
     "name": "stdout",
     "output_type": "stream",
     "text": [
      "Best NDCG: -inf\n",
      "Current NDCG: 0.024137153291818314\n"
     ]
    },
    {
     "name": "stderr",
     "output_type": "stream",
     "text": [
      " 82%|███████████████████████████████████▎       | 41/50 [43:34<09:29, 63.27s/it]"
     ]
    },
    {
     "name": "stdout",
     "output_type": "stream",
     "text": [
      "Best NDCG: -inf\n",
      "Current NDCG: 0.023634107711547944\n"
     ]
    },
    {
     "name": "stderr",
     "output_type": "stream",
     "text": [
      " 92%|███████████████████████████████████████▌   | 46/50 [48:50<04:07, 61.94s/it]"
     ]
    },
    {
     "name": "stdout",
     "output_type": "stream",
     "text": [
      "Best NDCG: -inf\n",
      "Current NDCG: 0.02340219964237108\n"
     ]
    },
    {
     "name": "stderr",
     "output_type": "stream",
     "text": [
      "100%|███████████████████████████████████████████| 50/50 [53:16<00:00, 63.93s/it]\n"
     ]
    }
   ],
   "source": [
    "args.dropout_rate = 0.3\n",
    "\n",
    "dataset = Dataset(args)\n",
    "# pdb.set_trace()\n",
    "layers = [100, 600, dataset.n_items]\n",
    "args.z_dim = layers[0]\n",
    "args.l2_coeff = 0.\n",
    "# with torch.autograd.detect_anomaly():\n",
    "if args.model == 'MultiVAE':\n",
    "    model = MultiVAE(layers, args=args).to(args.device)\n",
    "    metric_values = train_model(model, dataset, args)\n",
    "elif args.model == 'Multi_our_VAE':\n",
    "    model = Multi_our_VAE(layers, args=args).to(args.device)\n",
    "    metric_values = train_met_model(model, dataset, args)\n",
    "elif args.model == 'SimCLR_reco_model':\n",
    "    model = SimCLR_reco_model(args=args, p_dims=layers).to(args.device)\n",
    "    metric_values = train_simclr_model(model, dataset, args)"
   ]
  },
  {
   "cell_type": "code",
   "execution_count": 14,
   "id": "f234965d-bf60-4d75-98ed-30c9b4946477",
   "metadata": {},
   "outputs": [
    {
     "name": "stdout",
     "output_type": "stream",
     "text": [
      "Sequential(\n",
      "  (0): Linear(in_features=26150, out_features=600, bias=True)\n",
      "  (1): Tanh()\n",
      "  (2): Linear(in_features=600, out_features=100, bias=True)\n",
      ")\n",
      "Sequential(\n",
      "  (0): Linear(in_features=100, out_features=600, bias=True)\n",
      "  (1): Tanh()\n",
      "  (2): Linear(in_features=600, out_features=26150, bias=True)\n",
      ")\n"
     ]
    },
    {
     "name": "stderr",
     "output_type": "stream",
     "text": [
      "100%|███████████████████████████████████████| 100/100 [1:38:56<00:00, 59.36s/it]\n",
      "  2%|▉                                           | 1/50 [01:01<50:24, 61.72s/it]"
     ]
    },
    {
     "name": "stdout",
     "output_type": "stream",
     "text": [
      "Best NDCG: -inf\n",
      "Current NDCG: 0.002958253813796207\n"
     ]
    },
    {
     "name": "stderr",
     "output_type": "stream",
     "text": [
      " 12%|█████▎                                      | 6/50 [06:14<45:42, 62.34s/it]"
     ]
    },
    {
     "name": "stdout",
     "output_type": "stream",
     "text": [
      "Best NDCG: -inf\n",
      "Current NDCG: 0.028051972199538228\n"
     ]
    },
    {
     "name": "stderr",
     "output_type": "stream",
     "text": [
      " 22%|█████████▍                                 | 11/50 [11:30<40:14, 61.92s/it]"
     ]
    },
    {
     "name": "stdout",
     "output_type": "stream",
     "text": [
      "Best NDCG: -inf\n",
      "Current NDCG: 0.028560699306752663\n"
     ]
    },
    {
     "name": "stderr",
     "output_type": "stream",
     "text": [
      " 32%|█████████████▊                             | 16/50 [16:53<35:51, 63.27s/it]"
     ]
    },
    {
     "name": "stdout",
     "output_type": "stream",
     "text": [
      "Best NDCG: -inf\n",
      "Current NDCG: 0.03084501944842304\n"
     ]
    },
    {
     "name": "stderr",
     "output_type": "stream",
     "text": [
      " 42%|██████████████████                         | 21/50 [22:16<31:26, 65.05s/it]"
     ]
    },
    {
     "name": "stdout",
     "output_type": "stream",
     "text": [
      "Best NDCG: -inf\n",
      "Current NDCG: 0.03303316133538672\n"
     ]
    },
    {
     "name": "stderr",
     "output_type": "stream",
     "text": [
      " 52%|██████████████████████▎                    | 26/50 [27:45<26:32, 66.34s/it]"
     ]
    },
    {
     "name": "stdout",
     "output_type": "stream",
     "text": [
      "Best NDCG: -inf\n",
      "Current NDCG: 0.032603917193225126\n"
     ]
    },
    {
     "name": "stderr",
     "output_type": "stream",
     "text": [
      " 62%|██████████████████████████▋                | 31/50 [33:05<20:22, 64.33s/it]"
     ]
    },
    {
     "name": "stdout",
     "output_type": "stream",
     "text": [
      "Best NDCG: -inf\n",
      "Current NDCG: 0.0317501229024198\n"
     ]
    },
    {
     "name": "stderr",
     "output_type": "stream",
     "text": [
      " 72%|██████████████████████████████▉            | 36/50 [38:21<14:56, 64.02s/it]"
     ]
    },
    {
     "name": "stdout",
     "output_type": "stream",
     "text": [
      "Best NDCG: -inf\n",
      "Current NDCG: 0.030670708288285033\n"
     ]
    },
    {
     "name": "stderr",
     "output_type": "stream",
     "text": [
      " 82%|███████████████████████████████████▎       | 41/50 [43:38<09:36, 64.08s/it]"
     ]
    },
    {
     "name": "stdout",
     "output_type": "stream",
     "text": [
      "Best NDCG: -inf\n",
      "Current NDCG: 0.030298375574212593\n"
     ]
    },
    {
     "name": "stderr",
     "output_type": "stream",
     "text": [
      " 92%|███████████████████████████████████████▌   | 46/50 [48:55<04:09, 62.44s/it]"
     ]
    },
    {
     "name": "stdout",
     "output_type": "stream",
     "text": [
      "Best NDCG: -inf\n",
      "Current NDCG: 0.03073999972201798\n"
     ]
    },
    {
     "name": "stderr",
     "output_type": "stream",
     "text": [
      "100%|███████████████████████████████████████████| 50/50 [53:08<00:00, 63.77s/it]\n"
     ]
    }
   ],
   "source": [
    "args.dropout_rate = 0.6\n",
    "\n",
    "dataset = Dataset(args)\n",
    "# pdb.set_trace()\n",
    "layers = [100, 600, dataset.n_items]\n",
    "args.z_dim = layers[0]\n",
    "args.l2_coeff = 0.\n",
    "# with torch.autograd.detect_anomaly():\n",
    "if args.model == 'MultiVAE':\n",
    "    model = MultiVAE(layers, args=args).to(args.device)\n",
    "    metric_values = train_model(model, dataset, args)\n",
    "elif args.model == 'Multi_our_VAE':\n",
    "    model = Multi_our_VAE(layers, args=args).to(args.device)\n",
    "    metric_values = train_met_model(model, dataset, args)\n",
    "elif args.model == 'SimCLR_reco_model':\n",
    "    model = SimCLR_reco_model(args=args, p_dims=layers).to(args.device)\n",
    "    metric_values = train_simclr_model(model, dataset, args)"
   ]
  },
  {
   "cell_type": "code",
   "execution_count": null,
   "id": "ca68c416-cfa9-44d6-877f-e3331e01e93d",
   "metadata": {},
   "outputs": [
    {
     "name": "stdout",
     "output_type": "stream",
     "text": [
      "Sequential(\n",
      "  (0): Linear(in_features=26150, out_features=600, bias=True)\n",
      "  (1): Tanh()\n",
      "  (2): Linear(in_features=600, out_features=100, bias=True)\n",
      ")\n",
      "Sequential(\n",
      "  (0): Linear(in_features=100, out_features=600, bias=True)\n",
      "  (1): Tanh()\n",
      "  (2): Linear(in_features=600, out_features=26150, bias=True)\n",
      ")\n"
     ]
    },
    {
     "name": "stderr",
     "output_type": "stream",
     "text": [
      "100%|███████████████████████████████████████| 100/100 [2:41:26<00:00, 96.86s/it]\n",
      "  2%|▉                                           | 1/50 [00:56<46:13, 56.60s/it]"
     ]
    },
    {
     "name": "stdout",
     "output_type": "stream",
     "text": [
      "Best NDCG: -inf\n",
      "Current NDCG: 0.01189075480119135\n"
     ]
    },
    {
     "name": "stderr",
     "output_type": "stream",
     "text": [
      " 12%|█████▎                                      | 6/50 [05:47<43:48, 59.73s/it]"
     ]
    },
    {
     "name": "stdout",
     "output_type": "stream",
     "text": [
      "Best NDCG: -inf\n",
      "Current NDCG: 0.03150356396350041\n"
     ]
    },
    {
     "name": "stderr",
     "output_type": "stream",
     "text": [
      " 22%|█████████▍                                 | 11/50 [12:39<53:35, 82.45s/it]"
     ]
    },
    {
     "name": "stdout",
     "output_type": "stream",
     "text": [
      "Best NDCG: -inf\n",
      "Current NDCG: 0.03295000952758635\n"
     ]
    },
    {
     "name": "stderr",
     "output_type": "stream",
     "text": [
      " 32%|████████████▊                           | 16/50 [26:13<1:30:44, 160.13s/it]"
     ]
    },
    {
     "name": "stdout",
     "output_type": "stream",
     "text": [
      "Best NDCG: -inf\n",
      "Current NDCG: 0.03363060527024222\n"
     ]
    },
    {
     "name": "stderr",
     "output_type": "stream",
     "text": [
      " 42%|████████████████▊                       | 21/50 [40:15<1:21:54, 169.46s/it]"
     ]
    },
    {
     "name": "stdout",
     "output_type": "stream",
     "text": [
      "Best NDCG: -inf\n",
      "Current NDCG: 0.033611827488510757\n"
     ]
    },
    {
     "name": "stderr",
     "output_type": "stream",
     "text": [
      " 46%|██████████████████▍                     | 23/50 [45:52<1:16:13, 169.38s/it]"
     ]
    }
   ],
   "source": [
    "args.dropout_rate = 0.75\n",
    "\n",
    "dataset = Dataset(args)\n",
    "# pdb.set_trace()\n",
    "layers = [100, 600, dataset.n_items]\n",
    "args.z_dim = layers[0]\n",
    "args.l2_coeff = 0.\n",
    "# with torch.autograd.detect_anomaly():\n",
    "if args.model == 'MultiVAE':\n",
    "    model = MultiVAE(layers, args=args).to(args.device)\n",
    "    metric_values = train_model(model, dataset, args)\n",
    "elif args.model == 'Multi_our_VAE':\n",
    "    model = Multi_our_VAE(layers, args=args).to(args.device)\n",
    "    metric_values = train_met_model(model, dataset, args)\n",
    "elif args.model == 'SimCLR_reco_model':\n",
    "    model = SimCLR_reco_model(args=args, p_dims=layers).to(args.device)\n",
    "    metric_values = train_simclr_model(model, dataset, args)"
   ]
  },
  {
   "cell_type": "code",
   "execution_count": null,
   "id": "0246c940-7ae1-441f-b9a1-2bcf8178c9da",
   "metadata": {},
   "outputs": [],
   "source": [
    "args.dropout_rate = 0.4\n",
    "\n",
    "dataset = Dataset(args)\n",
    "# pdb.set_trace()\n",
    "layers = [100, 600, dataset.n_items]\n",
    "args.z_dim = layers[0]\n",
    "args.l2_coeff = 0.\n",
    "# with torch.autograd.detect_anomaly():\n",
    "if args.model == 'MultiVAE':\n",
    "    model = MultiVAE(layers, args=args).to(args.device)\n",
    "    metric_values = train_model(model, dataset, args)\n",
    "elif args.model == 'Multi_our_VAE':\n",
    "    model = Multi_our_VAE(layers, args=args).to(args.device)\n",
    "    metric_values = train_met_model(model, dataset, args)\n",
    "elif args.model == 'SimCLR_reco_model':\n",
    "    model = SimCLR_reco_model(args=args, p_dims=layers).to(args.device)\n",
    "    metric_values = train_simclr_model(model, dataset, args)"
   ]
  },
  {
   "cell_type": "code",
   "execution_count": null,
   "id": "9959b83c-8bf1-4f21-abab-7bf5bec38f9e",
   "metadata": {},
   "outputs": [],
   "source": [
    "args.dropout_rate = 0.83\n",
    "\n",
    "dataset = Dataset(args)\n",
    "# pdb.set_trace()\n",
    "layers = [100, 600, dataset.n_items]\n",
    "args.z_dim = layers[0]\n",
    "args.l2_coeff = 0.\n",
    "# with torch.autograd.detect_anomaly():\n",
    "if args.model == 'MultiVAE':\n",
    "    model = MultiVAE(layers, args=args).to(args.device)\n",
    "    metric_values = train_model(model, dataset, args)\n",
    "elif args.model == 'Multi_our_VAE':\n",
    "    model = Multi_our_VAE(layers, args=args).to(args.device)\n",
    "    metric_values = train_met_model(model, dataset, args)\n",
    "elif args.model == 'SimCLR_reco_model':\n",
    "    model = SimCLR_reco_model(args=args, p_dims=layers).to(args.device)\n",
    "    metric_values = train_simclr_model(model, dataset, args)"
   ]
  },
  {
   "cell_type": "code",
   "execution_count": null,
   "id": "e4970748-5a04-438e-a927-6a611d7cec5a",
   "metadata": {},
   "outputs": [],
   "source": []
  }
 ],
 "metadata": {
  "kernelspec": {
   "display_name": "Python 3 (ipykernel)",
   "language": "python",
   "name": "python3"
  },
  "language_info": {
   "codemirror_mode": {
    "name": "ipython",
    "version": 3
   },
   "file_extension": ".py",
   "mimetype": "text/x-python",
   "name": "python",
   "nbconvert_exporter": "python",
   "pygments_lexer": "ipython3",
   "version": "3.8.10"
  }
 },
 "nbformat": 4,
 "nbformat_minor": 5
}
